{
  "nbformat": 4,
  "nbformat_minor": 0,
  "metadata": {
    "colab": {
      "name": "Extracted_features_Dogs_vs_Cats.ipynb",
      "provenance": []
    },
    "kernelspec": {
      "name": "python3",
      "display_name": "Python 3"
    },
    "language_info": {
      "name": "python"
    },
    "accelerator": "TPU"
  },
  "cells": [
    {
      "cell_type": "code",
      "metadata": {
        "colab": {
          "base_uri": "https://localhost:8080/"
        },
        "id": "E7gME3nvoDs1",
        "outputId": "531fb063-94ed-4e29-cc86-f49b03bba6e5"
      },
      "source": [
        "from google.colab import drive\n",
        "drive.mount(\"/content/gdrive\")"
      ],
      "execution_count": null,
      "outputs": [
        {
          "output_type": "stream",
          "text": [
            "Mounted at /content/gdrive\n"
          ],
          "name": "stdout"
        }
      ]
    },
    {
      "cell_type": "code",
      "metadata": {
        "colab": {
          "base_uri": "https://localhost:8080/",
          "height": 35
        },
        "id": "50XX5D9NLN0a",
        "outputId": "e64e951e-628e-47a2-e105-30a725eb9ac2"
      },
      "source": [
        "import os\n",
        "os.chdir('gdrive/MyDrive')\n",
        "os.getcwd()"
      ],
      "execution_count": null,
      "outputs": [
        {
          "output_type": "execute_result",
          "data": {
            "application/vnd.google.colaboratory.intrinsic+json": {
              "type": "string"
            },
            "text/plain": [
              "'/content/gdrive/MyDrive'"
            ]
          },
          "metadata": {
            "tags": []
          },
          "execution_count": 2
        }
      ]
    },
    {
      "cell_type": "code",
      "metadata": {
        "colab": {
          "base_uri": "https://localhost:8080/"
        },
        "id": "_Ny-I6sTMS8B",
        "outputId": "a6dba9da-dab0-4de5-e027-fe92f5f26df4"
      },
      "source": [
        "os.listdir(os.path.join(os.getcwd(), \"hdf5\"))"
      ],
      "execution_count": null,
      "outputs": [
        {
          "output_type": "execute_result",
          "data": {
            "text/plain": [
              "['trainfeatures.hdf5', 'testfeatures.hdf5', 'Output']"
            ]
          },
          "metadata": {
            "tags": []
          },
          "execution_count": 3
        }
      ]
    },
    {
      "cell_type": "code",
      "metadata": {
        "id": "3fe2BJzuMG2W"
      },
      "source": [
        "from imutils import paths\n",
        "import glob"
      ],
      "execution_count": null,
      "outputs": []
    },
    {
      "cell_type": "code",
      "metadata": {
        "id": "ne1FFrqOMO6y"
      },
      "source": [
        "dataset_path = \"hdf5/trainfeatures.hdf5\"\n",
        "path_test = \"hdf5/testfeatures.hdf5\"\n",
        "model_path = \"hdf5/Output/dogs_vs_cats.hdf5\""
      ],
      "execution_count": null,
      "outputs": []
    },
    {
      "cell_type": "code",
      "metadata": {
        "id": "qia9cdrzZQoF"
      },
      "source": [
        "from keras.utils import np_utils\n",
        "import numpy as np\n",
        "import h5py\n",
        "\n",
        "class HDF5DatasetGenerator:\n",
        "\n",
        "\tdef __init__(self, dbPath, batchSize, preprocessors=None,\n",
        "\t\taug=None, binarize=True, classes=2, mode=\"train\"):\n",
        "\t\t# store the batch size, preprocessors, and data augmentor,\n",
        "\t\t# whether or not the labels should be binarized, along with\n",
        "\t\t# the total number of classes\n",
        "\t\tself.batchSize = batchSize\n",
        "\t\tself.preprocessors = preprocessors\n",
        "\t\tself.aug = aug\n",
        "\t\tself.binarize = binarize\n",
        "\t\tself.classes = classes\n",
        "\t\tself.startindex = 0\n",
        "\t\tself.endindex = 0\n",
        "\t\tself.numImages = 0\n",
        "\n",
        "\t\t# open the HDF5 database for reading and determine the total\n",
        "\t\t# number of entries in the database\n",
        "\t\tself.db = h5py.File(dbPath)\n",
        "\t\tif mode == \"train\":\n",
        "\t\t\tself.startindex = 0\n",
        "\t\t\tself.endindex = int(self.db[\"labels\"].shape[0] * 0.75)\n",
        "\t\t\tself.numImages = int(self.db[\"labels\"].shape[0] * 0.75)\n",
        "\n",
        "\t\telif mode == \"val\":\n",
        "\t\t\tself.startindex = int(self.db[\"labels\"].shape[0] * 0.75)\n",
        "\t\t\tself.endindex = self.db[\"labels\"].shape[0]\n",
        "\t\t\tself.numImages = self.endindex - self.startindex\n",
        "\t\t\n",
        "\t\telse:\n",
        "\t\t\tself.startindex = 0\n",
        "\t\t\tself.endindex = self.db[\"labels\"].shape[0]\n",
        "\t\t\tself.numImages = self.db[\"labels\"].shape[0]\n",
        "\t\t\n",
        "\t\tprint(self.startindex, self.endindex, self.numImages)\n",
        "\n",
        "\n",
        "\tdef generator(self, passes=np.inf):\n",
        "\t\tepochs=0\n",
        "\t\twhile epochs<passes:\n",
        "\t\t\tfor i in np.arange(self.startindex, self.endindex, self.batchSize):\n",
        "\t\t\t\timages = self.db[\"features\"][i:i+self.batchSize]\n",
        "\t\t\t\tlabels = self.db[\"labels\"][i:i+self.batchSize]\n",
        "\n",
        "\t\t\t\tif self.binarize:\n",
        "\t\t\t\t\tlabels = np_utils.to_categorical(labels, self.classes)\n",
        "\n",
        "\t\t\t\tif self.preprocessors is not None:\n",
        "\t\t\t\t\tprocImages = []\n",
        "\t\t\t\t\tfor image in images:\n",
        "\t\t\t\t\t\tfor p in self.preprocessors:\n",
        "\t\t\t\t\t\t\timage = p.preprocess(image)\n",
        "\t\t\t\t\t\tprocImages.append(image)\n",
        "\t\t\t\t\timages = np.array(procImages)\n",
        "\n",
        "\t\t\t\tif self.aug is not None:\n",
        "\t\t\t\t\t(images, labels) = next(self.aug.flow(images, labels, batch_size=self.batchSize))\n",
        "\t\t\t\tyield(images, labels)\n",
        "\t\t\tepochs = epochs+1\n",
        "\n",
        "\n",
        "\tdef close(self):\n",
        "\t\tself.db.close()\n"
      ],
      "execution_count": null,
      "outputs": []
    },
    {
      "cell_type": "code",
      "metadata": {
        "colab": {
          "base_uri": "https://localhost:8080/"
        },
        "id": "s8-E8hZDMibX",
        "outputId": "1c86d766-45a0-4c43-ff26-196d7b351cf2"
      },
      "source": [
        "# import the necessary packages\n",
        "from tensorflow.keras.models import Sequential\n",
        "from tensorflow.keras.layers import Dense\n",
        "from tensorflow.keras.optimizers import SGD\n",
        "import h5py\n",
        "from keras.layers.core import Dropout\n",
        "from keras.layers.normalization import BatchNormalization\n",
        "from keras.regularizers import l2\n",
        "\n",
        "# open the HDF5 database for reading then determine the index of\n",
        "# the training and testing split, provided that this data was\n",
        "# already shuffled *prior* to writing it to disk\n",
        "\n",
        "db = h5py.File(dataset_path, \"r\")\n",
        "print(db.keys())\n",
        "\n",
        "trainGen = HDF5DatasetGenerator(dataset_path, 128, classes=2, mode=\"train\")\n",
        "valGen = HDF5DatasetGenerator(dataset_path, 128, classes=2, mode=\"val\")\n",
        "\n",
        "# define our simple neural network\n",
        "\n",
        "# define our simple neural network\n",
        "model = Sequential()\n",
        "model.add(Dense(512, kernel_regularizer=l2(0.002), input_shape=(7 * 7 * 2048,), activation=\"relu\"))\n",
        "# model.add(BatchNormalization())\n",
        "# model.add(Dropout(0.5))\n",
        "# model.add(Dense(16, kernel_regularizer=l2(0.002), activation=\"relu\"))\n",
        "model.add(Dense(2, kernel_regularizer=l2(0.002), activation=\"softmax\"))\n",
        "\n",
        "# model = Sequential()\n",
        "# model.add(Dense(256, kernel_regularizer=l2(0.002), input_shape=(7 * 7 * 2048,), activation=\"relu\"))\n",
        "# model.add(Dense(16, activation=\"relu\"))\n",
        "# model.add(Dense(2, activation=\"softmax\"))\n",
        "db.close()"
      ],
      "execution_count": null,
      "outputs": [
        {
          "output_type": "stream",
          "text": [
            "<KeysViewHDF5 ['features', 'label_names', 'labels']>\n",
            "0 18750 18750\n",
            "18750 25000 6250\n"
          ],
          "name": "stdout"
        }
      ]
    },
    {
      "cell_type": "code",
      "metadata": {
        "id": "Jkvy7nBZTbFQ"
      },
      "source": [
        "# compile the model\n",
        "opt = SGD(learning_rate=1e-3, momentum=0.9, decay=1e-3 / 25)\n",
        "model.compile(loss=\"binary_crossentropy\", optimizer=opt, metrics=[\"accuracy\"])"
      ],
      "execution_count": null,
      "outputs": []
    },
    {
      "cell_type": "code",
      "metadata": {
        "colab": {
          "base_uri": "https://localhost:8080/"
        },
        "id": "Qob20zKpLbC1",
        "outputId": "28e825f8-62a6-4b80-af92-6b1b01af3cb3"
      },
      "source": [
        "valGen.numImages"
      ],
      "execution_count": null,
      "outputs": [
        {
          "output_type": "execute_result",
          "data": {
            "text/plain": [
              "6250"
            ]
          },
          "metadata": {
            "tags": []
          },
          "execution_count": 9
        }
      ]
    },
    {
      "cell_type": "code",
      "metadata": {
        "colab": {
          "base_uri": "https://localhost:8080/"
        },
        "id": "T2-UxEXHTbiO",
        "outputId": "0ffccba2-547c-4dca-9cd9-5017708680e5"
      },
      "source": [
        "from keras.callbacks import ModelCheckpoint\n",
        "checkpoint = ModelCheckpoint(model_path, monitor=\"val_loss\", mode=\"min\",\n",
        "                             save_best_only=True, verbose=1)\n",
        "callbacks = [checkpoint]\n",
        "\n",
        "# train the network\n",
        "print(\"[INFO] training simple network...\")\n",
        "H = model.fit(trainGen.generator(),\n",
        "                    steps_per_epoch=trainGen.numImages // 512,\n",
        "                    validation_data=valGen.generator(),\n",
        "                    validation_steps=valGen.numImages // 512,\n",
        "                    epochs=25,\n",
        "                    max_queue_size=512 * 2, \n",
        "                    callbacks=callbacks,\n",
        "                    verbose=1)"
      ],
      "execution_count": null,
      "outputs": [
        {
          "output_type": "stream",
          "text": [
            "[INFO] training simple network...\n",
            "Epoch 1/25\n",
            "36/36 [==============================] - 106s 3s/step - loss: 2.1955 - accuracy: 0.9531 - val_loss: 2.0911 - val_accuracy: 0.9850\n",
            "\n",
            "Epoch 00001: val_loss improved from inf to 2.09113, saving model to hdf5/Output/dogs_vs_cats.hdf5\n",
            "Epoch 2/25\n",
            "36/36 [==============================] - 135s 4s/step - loss: 2.0876 - accuracy: 0.9876 - val_loss: 2.0909 - val_accuracy: 0.9837\n",
            "\n",
            "Epoch 00002: val_loss improved from 2.09113 to 2.09087, saving model to hdf5/Output/dogs_vs_cats.hdf5\n",
            "Epoch 3/25\n",
            "36/36 [==============================] - 122s 3s/step - loss: 2.0822 - accuracy: 0.9863 - val_loss: 2.0862 - val_accuracy: 0.9831\n",
            "\n",
            "Epoch 00003: val_loss improved from 2.09087 to 2.08623, saving model to hdf5/Output/dogs_vs_cats.hdf5\n",
            "Epoch 4/25\n",
            "36/36 [==============================] - 80s 2s/step - loss: 2.0737 - accuracy: 0.9859 - val_loss: 2.0626 - val_accuracy: 0.9855\n",
            "\n",
            "Epoch 00004: val_loss improved from 2.08623 to 2.06259, saving model to hdf5/Output/dogs_vs_cats.hdf5\n",
            "Epoch 5/25\n",
            "36/36 [==============================] - 92s 3s/step - loss: 2.0353 - accuracy: 0.9959 - val_loss: 2.0646 - val_accuracy: 0.9824\n",
            "\n",
            "Epoch 00005: val_loss did not improve from 2.06259\n",
            "Epoch 6/25\n",
            "36/36 [==============================] - 93s 3s/step - loss: 2.0276 - accuracy: 0.9970 - val_loss: 2.0548 - val_accuracy: 0.9850\n",
            "\n",
            "Epoch 00006: val_loss improved from 2.06259 to 2.05481, saving model to hdf5/Output/dogs_vs_cats.hdf5\n",
            "Epoch 7/25\n",
            "36/36 [==============================] - 93s 3s/step - loss: 2.0176 - accuracy: 0.9987 - val_loss: 2.0440 - val_accuracy: 0.9876\n",
            "\n",
            "Epoch 00007: val_loss improved from 2.05481 to 2.04401, saving model to hdf5/Output/dogs_vs_cats.hdf5\n",
            "Epoch 8/25\n",
            "36/36 [==============================] - 92s 3s/step - loss: 2.0143 - accuracy: 0.9978 - val_loss: 2.0396 - val_accuracy: 0.9868\n",
            "\n",
            "Epoch 00008: val_loss improved from 2.04401 to 2.03962, saving model to hdf5/Output/dogs_vs_cats.hdf5\n",
            "Epoch 9/25\n",
            "36/36 [==============================] - 92s 3s/step - loss: 2.0013 - accuracy: 0.9998 - val_loss: 2.0486 - val_accuracy: 0.9837\n",
            "\n",
            "Epoch 00009: val_loss did not improve from 2.03962\n",
            "Epoch 10/25\n",
            "36/36 [==============================] - 93s 3s/step - loss: 1.9962 - accuracy: 0.9998 - val_loss: 2.0239 - val_accuracy: 0.9896\n",
            "\n",
            "Epoch 00010: val_loss improved from 2.03962 to 2.02387, saving model to hdf5/Output/dogs_vs_cats.hdf5\n",
            "Epoch 11/25\n",
            "36/36 [==============================] - 93s 3s/step - loss: 1.9905 - accuracy: 0.9998 - val_loss: 2.0152 - val_accuracy: 0.9902\n",
            "\n",
            "Epoch 00011: val_loss improved from 2.02387 to 2.01522, saving model to hdf5/Output/dogs_vs_cats.hdf5\n",
            "Epoch 12/25\n",
            "36/36 [==============================] - 92s 3s/step - loss: 1.9843 - accuracy: 0.9996 - val_loss: 2.0243 - val_accuracy: 0.9855\n",
            "\n",
            "Epoch 00012: val_loss did not improve from 2.01522\n",
            "Epoch 13/25\n",
            "36/36 [==============================] - 92s 3s/step - loss: 1.9774 - accuracy: 1.0000 - val_loss: 2.0219 - val_accuracy: 0.9850\n",
            "\n",
            "Epoch 00013: val_loss did not improve from 2.01522\n",
            "Epoch 14/25\n",
            "36/36 [==============================] - 93s 3s/step - loss: 1.9716 - accuracy: 1.0000 - val_loss: 2.0028 - val_accuracy: 0.9870\n",
            "\n",
            "Epoch 00014: val_loss improved from 2.01522 to 2.00276, saving model to hdf5/Output/dogs_vs_cats.hdf5\n",
            "Epoch 15/25\n",
            "36/36 [==============================] - 93s 3s/step - loss: 1.9665 - accuracy: 0.9998 - val_loss: 1.9940 - val_accuracy: 0.9896\n",
            "\n",
            "Epoch 00015: val_loss improved from 2.00276 to 1.99397, saving model to hdf5/Output/dogs_vs_cats.hdf5\n",
            "Epoch 16/25\n",
            "36/36 [==============================] - 92s 3s/step - loss: 1.9609 - accuracy: 1.0000 - val_loss: 1.9987 - val_accuracy: 0.9881\n",
            "\n",
            "Epoch 00016: val_loss did not improve from 1.99397\n",
            "Epoch 17/25\n",
            "36/36 [==============================] - 92s 3s/step - loss: 1.9549 - accuracy: 1.0000 - val_loss: 1.9951 - val_accuracy: 0.9863\n",
            "\n",
            "Epoch 00017: val_loss did not improve from 1.99397\n",
            "Epoch 18/25\n",
            "36/36 [==============================] - 93s 3s/step - loss: 1.9492 - accuracy: 1.0000 - val_loss: 1.9791 - val_accuracy: 0.9876\n",
            "\n",
            "Epoch 00018: val_loss improved from 1.99397 to 1.97915, saving model to hdf5/Output/dogs_vs_cats.hdf5\n",
            "Epoch 19/25\n",
            "36/36 [==============================] - 92s 3s/step - loss: 1.9441 - accuracy: 1.0000 - val_loss: 1.9732 - val_accuracy: 0.9888\n",
            "\n",
            "Epoch 00019: val_loss improved from 1.97915 to 1.97320, saving model to hdf5/Output/dogs_vs_cats.hdf5\n",
            "Epoch 20/25\n",
            "36/36 [==============================] - 93s 3s/step - loss: 1.9387 - accuracy: 1.0000 - val_loss: 1.9820 - val_accuracy: 0.9883\n",
            "\n",
            "Epoch 00020: val_loss did not improve from 1.97320\n",
            "Epoch 21/25\n",
            "36/36 [==============================] - 92s 3s/step - loss: 1.9329 - accuracy: 1.0000 - val_loss: 1.9726 - val_accuracy: 0.9870\n",
            "\n",
            "Epoch 00021: val_loss improved from 1.97320 to 1.97263, saving model to hdf5/Output/dogs_vs_cats.hdf5\n",
            "Epoch 22/25\n",
            "36/36 [==============================] - 93s 3s/step - loss: 1.9274 - accuracy: 1.0000 - val_loss: 1.9569 - val_accuracy: 0.9876\n",
            "\n",
            "Epoch 00022: val_loss improved from 1.97263 to 1.95688, saving model to hdf5/Output/dogs_vs_cats.hdf5\n",
            "Epoch 23/25\n",
            "36/36 [==============================] - 91s 3s/step - loss: 1.9222 - accuracy: 1.0000 - val_loss: 1.9563 - val_accuracy: 0.9875\n",
            "\n",
            "Epoch 00023: val_loss improved from 1.95688 to 1.95627, saving model to hdf5/Output/dogs_vs_cats.hdf5\n",
            "Epoch 24/25\n",
            "36/36 [==============================] - 108s 3s/step - loss: 1.9171 - accuracy: 1.0000 - val_loss: 1.9597 - val_accuracy: 0.9857\n",
            "\n",
            "Epoch 00024: val_loss did not improve from 1.95627\n",
            "Epoch 25/25\n",
            "36/36 [==============================] - 92s 3s/step - loss: 1.9114 - accuracy: 1.0000 - val_loss: 1.9379 - val_accuracy: 0.9876\n",
            "\n",
            "Epoch 00025: val_loss improved from 1.95627 to 1.93792, saving model to hdf5/Output/dogs_vs_cats.hdf5\n"
          ],
          "name": "stdout"
        }
      ]
    },
    {
      "cell_type": "code",
      "metadata": {
        "id": "-qPhkNa3fPJK"
      },
      "source": [
        "trainGen.close()\n",
        "valGen.close()"
      ],
      "execution_count": null,
      "outputs": []
    },
    {
      "cell_type": "code",
      "metadata": {
        "id": "5lrqbYuyFe7T"
      },
      "source": [
        "from keras.models import load_model\n",
        "model = load_model(model_path)"
      ],
      "execution_count": null,
      "outputs": []
    },
    {
      "cell_type": "code",
      "metadata": {
        "id": "OATuE9PZUqZp",
        "colab": {
          "base_uri": "https://localhost:8080/",
          "height": 299
        },
        "outputId": "bdc41231-7349-4b62-e208-8c8f4dd0d9b6"
      },
      "source": [
        "import matplotlib.pyplot as plt\n",
        "\n",
        "# plot the training loss and accuracy\n",
        "plt.style.use(\"ggplot\")\n",
        "plt.figure()\n",
        "plt.plot(np.arange(0, 25), H.history[\"loss\"], label=\"train_loss\")\n",
        "plt.plot(np.arange(0, 25), H.history[\"val_loss\"], label=\"val_loss\")\n",
        "plt.plot(np.arange(0, 25), H.history[\"accuracy\"], label=\"train_acc\")\n",
        "plt.plot(np.arange(0, 25), H.history[\"val_accuracy\"], label=\"val_acc\")\n",
        "plt.title(\"Training Loss and Accuracy\")\n",
        "plt.xlabel(\"Epoch #\")\n",
        "plt.ylabel(\"Loss/Accuracy\")\n",
        "plt.legend()\n",
        "plt.show()"
      ],
      "execution_count": null,
      "outputs": [
        {
          "output_type": "display_data",
          "data": {
            "image/png": "[encoded data removed]",
            "text/plain": [
              "<Figure size 432x288 with 1 Axes>"
            ]
          },
          "metadata": {
            "tags": []
          }
        }
      ]
    },
    {
      "cell_type": "code",
      "metadata": {
        "id": "UF0ifTy_Vw_B"
      },
      "source": [
        "# make predictions on the testing images, finding the index of the\n",
        "# label with the corresponding largest predicted probability, then\n",
        "# show a nicely formatted classification report\n",
        "db_test = h5py.File(path_test, \"r\")\n",
        "print(db_test.keys())\n",
        "print(db_test[\"labels\"][:10])"
      ],
      "execution_count": null,
      "outputs": []
    },
    {
      "cell_type": "code",
      "metadata": {
        "colab": {
          "base_uri": "https://localhost:8080/"
        },
        "id": "UPLcy2HN9cgj",
        "outputId": "55aae644-cc08-444e-da64-d12f74041a8b"
      },
      "source": [
        "testGen = HDF5.DatasetGenerator(path_test, 50, classes=2, binarize=False, mode=\"test\")\n",
        "print(testGen.numImages)"
      ],
      "execution_count": null,
      "outputs": [
        {
          "output_type": "stream",
          "text": [
            "0 12500 12500\n",
            "12500\n"
          ],
          "name": "stdout"
        }
      ]
    },
    {
      "cell_type": "code",
      "metadata": {
        "colab": {
          "base_uri": "https://localhost:8080/"
        },
        "id": "dHk1Byr5Cu1U",
        "outputId": "ee30b319-bae2-431c-93bd-f02451f8dd7d"
      },
      "source": [
        "print(\"[INFO] evaluating network...\")\n",
        "predictions = model.predict(testGen.generator(), \n",
        "                                      steps=testGen.numImages // 50, max_queue_size=50 * 2)"
      ],
      "execution_count": null,
      "outputs": [
        {
          "output_type": "stream",
          "text": [
            "[INFO] evaluating network...\n"
          ],
          "name": "stdout"
        }
      ]
    },
    {
      "cell_type": "code",
      "metadata": {
        "colab": {
          "base_uri": "https://localhost:8080/"
        },
        "id": "8iMUHnB8N2sS",
        "outputId": "ba32b8bf-de28-401e-898d-950ffd8f1922"
      },
      "source": [
        "pred = list(predictions.argmax(axis=1))\n",
        "print(len(predictions))\n",
        "print(predictions)"
      ],
      "execution_count": null,
      "outputs": [
        {
          "output_type": "stream",
          "text": [
            "12500\n",
            "[[2.7437835e-16 1.0000000e+00]\n",
            " [2.4044999e-23 1.0000000e+00]\n",
            " [1.2195361e-16 1.0000000e+00]\n",
            " ...\n",
            " [6.0840534e-16 1.0000000e+00]\n",
            " [3.1093317e-21 1.0000000e+00]\n",
            " [1.0000000e+00 4.2522822e-16]]\n"
          ],
          "name": "stdout"
        }
      ]
    },
    {
      "cell_type": "code",
      "metadata": {
        "colab": {
          "base_uri": "https://localhost:8080/"
        },
        "id": "EgpPkoLaRpJw",
        "outputId": "d7ad7369-15e8-4c41-bb7a-07d54930243c"
      },
      "source": [
        "pred[0:10]"
      ],
      "execution_count": null,
      "outputs": [
        {
          "output_type": "execute_result",
          "data": {
            "text/plain": [
              "[1, 1, 1, 1, 0, 0, 0, 0, 0, 0]"
            ]
          },
          "metadata": {
            "tags": []
          },
          "execution_count": 17
        }
      ]
    },
    {
      "cell_type": "code",
      "metadata": {
        "id": "O4zd-FTqR9pK"
      },
      "source": [
        "print(db_test[\"labels\"][:10])\n",
        "print(testGen.db[\"labels\"][:10])\n",
        "print(pred[:10])"
      ],
      "execution_count": null,
      "outputs": []
    },
    {
      "cell_type": "code",
      "metadata": {
        "id": "NkmZrUe8HemR",
        "colab": {
          "base_uri": "https://localhost:8080/",
          "height": 181
        },
        "outputId": "48929c81-7bbd-4872-d0b0-2fb652158d15"
      },
      "source": [
        "db_test.close()\n",
        "testGen.close()"
      ],
      "execution_count": null,
      "outputs": [
        {
          "output_type": "error",
          "ename": "NameError",
          "evalue": "ignored",
          "traceback": [
            "\u001b[0;31m---------------------------------------------------------------------------\u001b[0m",
            "\u001b[0;31mNameError\u001b[0m                                 Traceback (most recent call last)",
            "\u001b[0;32m<ipython-input-20-dfe9edfd33af>\u001b[0m in \u001b[0;36m<module>\u001b[0;34m()\u001b[0m\n\u001b[0;32m----> 1\u001b[0;31m \u001b[0mdb_test\u001b[0m\u001b[0;34m.\u001b[0m\u001b[0mclose\u001b[0m\u001b[0;34m(\u001b[0m\u001b[0;34m)\u001b[0m\u001b[0;34m\u001b[0m\u001b[0;34m\u001b[0m\u001b[0m\n\u001b[0m\u001b[1;32m      2\u001b[0m \u001b[0mtestGen\u001b[0m\u001b[0;34m.\u001b[0m\u001b[0mclose\u001b[0m\u001b[0;34m(\u001b[0m\u001b[0;34m)\u001b[0m\u001b[0;34m\u001b[0m\u001b[0;34m\u001b[0m\u001b[0m\n",
            "\u001b[0;31mNameError\u001b[0m: name 'db_test' is not defined"
          ]
        }
      ]
    },
    {
      "cell_type": "code",
      "metadata": {
        "colab": {
          "base_uri": "https://localhost:8080/"
        },
        "id": "YMDuGg6x0ECK",
        "outputId": "3edf3567-2012-4d15-a0db-5ad042ffb754"
      },
      "source": [
        "print(len(pred))"
      ],
      "execution_count": null,
      "outputs": [
        {
          "output_type": "stream",
          "text": [
            "12500\n"
          ],
          "name": "stdout"
        }
      ]
    },
    {
      "cell_type": "code",
      "metadata": {
        "id": "ZH-p_qSUI6oy"
      },
      "source": [
        "pred_prob_dog = list(predictions[:,1])"
      ],
      "execution_count": null,
      "outputs": []
    },
    {
      "cell_type": "code",
      "metadata": {
        "colab": {
          "base_uri": "https://localhost:8080/"
        },
        "id": "sbkabl2sqceW",
        "outputId": "55ac800f-4fc1-480d-9e0b-b8e7561d72cf"
      },
      "source": [
        "pred_prob_dog[0:10]"
      ],
      "execution_count": null,
      "outputs": [
        {
          "output_type": "execute_result",
          "data": {
            "text/plain": [
              "[1.0,\n",
              " 1.0,\n",
              " 1.0,\n",
              " 1.0,\n",
              " 4.338473e-21,\n",
              " 3.968588e-15,\n",
              " 5.9288723e-24,\n",
              " 3.8290492e-16,\n",
              " 3.976223e-16,\n",
              " 1.3795204e-14]"
            ]
          },
          "metadata": {
            "tags": []
          },
          "execution_count": 23
        }
      ]
    },
    {
      "cell_type": "code",
      "metadata": {
        "id": "Bav0b_FIBTze"
      },
      "source": [
        "index = [i+1 for i in range (12500)]"
      ],
      "execution_count": null,
      "outputs": []
    },
    {
      "cell_type": "code",
      "metadata": {
        "id": "WgAXPPgZAP6q"
      },
      "source": [
        "import pandas as pd\n",
        "\n",
        "df = pd.DataFrame(columns=['id', 'label'])"
      ],
      "execution_count": null,
      "outputs": []
    },
    {
      "cell_type": "code",
      "metadata": {
        "id": "LPLXHugiCLQV"
      },
      "source": [
        "df['id'] = index"
      ],
      "execution_count": null,
      "outputs": []
    },
    {
      "cell_type": "code",
      "metadata": {
        "id": "O8DBudAmCLzN"
      },
      "source": [
        "df['label'] = pred_prob_dog"
      ],
      "execution_count": null,
      "outputs": []
    },
    {
      "cell_type": "code",
      "metadata": {
        "colab": {
          "base_uri": "https://localhost:8080/",
          "height": 514
        },
        "id": "eoDc-eIfQ3Df",
        "outputId": "8f87cf06-0b87-4123-a016-f077cc058801"
      },
      "source": [
        "df.head(15)"
      ],
      "execution_count": null,
      "outputs": [
        {
          "output_type": "execute_result",
          "data": {
            "text/html": [
              "<div>\n",
              "<style scoped>\n",
              "    .dataframe tbody tr th:only-of-type {\n",
              "        vertical-align: middle;\n",
              "    }\n",
              "\n",
              "    .dataframe tbody tr th {\n",
              "        vertical-align: top;\n",
              "    }\n",
              "\n",
              "    .dataframe thead th {\n",
              "        text-align: right;\n",
              "    }\n",
              "</style>\n",
              "<table border=\"1\" class=\"dataframe\">\n",
              "  <thead>\n",
              "    <tr style=\"text-align: right;\">\n",
              "      <th></th>\n",
              "      <th>id</th>\n",
              "      <th>label</th>\n",
              "    </tr>\n",
              "  </thead>\n",
              "  <tbody>\n",
              "    <tr>\n",
              "      <th>0</th>\n",
              "      <td>1</td>\n",
              "      <td>1.000000e+00</td>\n",
              "    </tr>\n",
              "    <tr>\n",
              "      <th>1</th>\n",
              "      <td>2</td>\n",
              "      <td>1.000000e+00</td>\n",
              "    </tr>\n",
              "    <tr>\n",
              "      <th>2</th>\n",
              "      <td>3</td>\n",
              "      <td>1.000000e+00</td>\n",
              "    </tr>\n",
              "    <tr>\n",
              "      <th>3</th>\n",
              "      <td>4</td>\n",
              "      <td>1.000000e+00</td>\n",
              "    </tr>\n",
              "    <tr>\n",
              "      <th>4</th>\n",
              "      <td>5</td>\n",
              "      <td>4.338473e-21</td>\n",
              "    </tr>\n",
              "    <tr>\n",
              "      <th>5</th>\n",
              "      <td>6</td>\n",
              "      <td>3.968588e-15</td>\n",
              "    </tr>\n",
              "    <tr>\n",
              "      <th>6</th>\n",
              "      <td>7</td>\n",
              "      <td>5.928872e-24</td>\n",
              "    </tr>\n",
              "    <tr>\n",
              "      <th>7</th>\n",
              "      <td>8</td>\n",
              "      <td>3.829049e-16</td>\n",
              "    </tr>\n",
              "    <tr>\n",
              "      <th>8</th>\n",
              "      <td>9</td>\n",
              "      <td>3.976223e-16</td>\n",
              "    </tr>\n",
              "    <tr>\n",
              "      <th>9</th>\n",
              "      <td>10</td>\n",
              "      <td>1.379520e-14</td>\n",
              "    </tr>\n",
              "    <tr>\n",
              "      <th>10</th>\n",
              "      <td>11</td>\n",
              "      <td>3.142536e-17</td>\n",
              "    </tr>\n",
              "    <tr>\n",
              "      <th>11</th>\n",
              "      <td>12</td>\n",
              "      <td>9.999999e-01</td>\n",
              "    </tr>\n",
              "    <tr>\n",
              "      <th>12</th>\n",
              "      <td>13</td>\n",
              "      <td>3.248394e-17</td>\n",
              "    </tr>\n",
              "    <tr>\n",
              "      <th>13</th>\n",
              "      <td>14</td>\n",
              "      <td>5.185020e-10</td>\n",
              "    </tr>\n",
              "    <tr>\n",
              "      <th>14</th>\n",
              "      <td>15</td>\n",
              "      <td>2.872801e-20</td>\n",
              "    </tr>\n",
              "  </tbody>\n",
              "</table>\n",
              "</div>"
            ],
            "text/plain": [
              "    id         label\n",
              "0    1  1.000000e+00\n",
              "1    2  1.000000e+00\n",
              "2    3  1.000000e+00\n",
              "3    4  1.000000e+00\n",
              "4    5  4.338473e-21\n",
              "5    6  3.968588e-15\n",
              "6    7  5.928872e-24\n",
              "7    8  3.829049e-16\n",
              "8    9  3.976223e-16\n",
              "9   10  1.379520e-14\n",
              "10  11  3.142536e-17\n",
              "11  12  9.999999e-01\n",
              "12  13  3.248394e-17\n",
              "13  14  5.185020e-10\n",
              "14  15  2.872801e-20"
            ]
          },
          "metadata": {
            "tags": []
          },
          "execution_count": 28
        }
      ]
    },
    {
      "cell_type": "code",
      "metadata": {
        "id": "tCQ-Hzp7HX3l"
      },
      "source": [
        "df.to_csv('results_kernel.csv', index=False)"
      ],
      "execution_count": null,
      "outputs": []
    },
    {
      "cell_type": "code",
      "metadata": {
        "id": "7XXyWJEuJfWY"
      },
      "source": [
        ""
      ],
      "execution_count": null,
      "outputs": []
    }
  ]
}