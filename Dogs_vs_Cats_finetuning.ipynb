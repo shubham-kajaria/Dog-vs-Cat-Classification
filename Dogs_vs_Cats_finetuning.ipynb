{
  "nbformat": 4,
  "nbformat_minor": 0,
  "metadata": {
    "colab": {
      "name": "Dogs_vs_Cats_finetuning.ipynb",
      "provenance": []
    },
    "kernelspec": {
      "name": "python3",
      "display_name": "Python 3"
    },
    "language_info": {
      "name": "python"
    },
    "accelerator": "TPU"
  },
  "cells": [
    {
      "cell_type": "code",
      "metadata": {
        "id": "kYdpIN5RNkOR",
        "colab": {
          "base_uri": "https://localhost:8080/"
        },
        "outputId": "64a235f6-50d3-4f16-d649-d657e5a43563"
      },
      "source": [
        "from google.colab import drive\n",
        "drive.mount(\"/content/gdrive\", force_remount=True)"
      ],
      "execution_count": null,
      "outputs": [
        {
          "output_type": "stream",
          "text": [
            "Mounted at /content/gdrive\n"
          ],
          "name": "stdout"
        }
      ]
    },
    {
      "cell_type": "code",
      "metadata": {
        "id": "UpFAsvAgNb1R"
      },
      "source": [
        "import os\n",
        "os.getcwd()\n",
        "os.chdir('/content/gdrive/MyDrive/Dogs_vs_Cats')"
      ],
      "execution_count": null,
      "outputs": []
    },
    {
      "cell_type": "code",
      "metadata": {
        "id": "LZtb9Z_cN0xz",
        "colab": {
          "base_uri": "https://localhost:8080/"
        },
        "outputId": "432b9abc-92ca-4cd8-ba90-7bc1e1aa32f1"
      },
      "source": [
        "os.listdir()"
      ],
      "execution_count": null,
      "outputs": [
        {
          "output_type": "execute_result",
          "data": {
            "text/plain": [
              "['test.zip',\n",
              " 'train.zip',\n",
              " 'hdf5',\n",
              " '.ipynb_checkpoints',\n",
              " 'output',\n",
              " 'test',\n",
              " 'train',\n",
              " 'results_finetuning_dogs_vs_cats2.csv',\n",
              " 'results_finetuning_dogs_vs_cats3.csv',\n",
              " 'results_finetuning_dogs_vs_cats4.csv',\n",
              " 'dogs_vs_cats1.model',\n",
              " 'dogs_vs_cats.model']"
            ]
          },
          "metadata": {
            "tags": []
          },
          "execution_count": 4
        }
      ]
    },
    {
      "cell_type": "code",
      "metadata": {
        "id": "vdWnYJ1xK5EA"
      },
      "source": [
        "# import the necessary packages\n",
        "import h5py\n",
        "import os\n",
        "class HDF5DatasetWriter:\n",
        "\tdef __init__(self, dims, outputPath, dataKey=\"images\", bufSize=1000):\n",
        "\t\t# check to see if the output path exists, and if so, raise\n",
        "\t\t# an exception\n",
        "\t\tif os.path.exists(outputPath):\n",
        "\t\t\traise ValueError(\"The supplied ‘outputPath‘ already \"\n",
        "\t\t\t\t\"exists and cannot be overwritten. Manually delete \"\n",
        "\t\t\t\t\"the file before continuing.\", outputPath)\n",
        "\n",
        "\t\t# open the HDF5 database for writing and create two datasets:\n",
        "\t\t# one to store the images/features and another to store the\n",
        "\t\t# class labels\n",
        "\t\tself.db = h5py.File(outputPath, \"w\")\n",
        "\t\tself.data = self.db.create_dataset(dataKey, dims, \n",
        "\t\t\tdtype=\"float\")\n",
        "\t\tself.labels = self.db.create_dataset(\"labels\", (dims[0],),\n",
        "\t\t\tdtype=\"int\")\n",
        "\n",
        "\t\t# store the buffer size, then initialize the buffer itself\n",
        "\t\t# along with the index into the datasets\n",
        "\t\tself.bufSize = bufSize\n",
        "\t\tself.buffer = {\"data\": [], \"labels\": []}\n",
        "\t\tself.idx = 0\n",
        "\n",
        "\tdef add(self, rows, labels):\n",
        "\t\t# add the rows and labels to the buffer\n",
        "\t\tself.buffer[\"data\"].extend(rows)\n",
        "\t\tself.buffer[\"labels\"].extend(labels)\n",
        "\n",
        "\t\t# check to see if the buffer needs to be flushed to disk\n",
        "\t\tif len(self.buffer[\"data\"]) >= self.bufSize:\n",
        "\t\t\tself.flush()\n",
        "\n",
        "\tdef flush(self):\n",
        "\t\t# write the buffers to disk then reset the buffer\n",
        "\t\ti = self.idx + len(self.buffer[\"data\"])\n",
        "\t\tself.data[self.idx:i] = self.buffer[\"data\"]\n",
        "\t\tself.labels[self.idx:i] = self.buffer[\"labels\"]\n",
        "\t\tself.idx = i\n",
        "\t\tself.buffer = {\"data\": [], \"labels\": []}\n",
        "\n",
        "\tdef storeClassLabels(self, classLabels):\n",
        "\t\t# create a dataset to store the actual class label names,\n",
        "\t\t# then store the class labels\n",
        "\t\tdt = h5py.special_dtype(vlen=str)\n",
        "\t\tlabelSet = self.db.create_dataset(\"label_names\",\n",
        "\t\t(len(classLabels),), dtype=dt)\n",
        "\t\tlabelSet[:] = classLabels\n",
        "\n",
        "\tdef close(self):\n",
        "\t\t# check to see if there are any other entries in the buffer\n",
        "\t\t# that need to be flushed to disk\n",
        "\t\tif len(self.buffer[\"data\"]) > 0:\n",
        "\t\t\tself.flush()\n",
        "\t\t# close the dataset\n",
        "\t\tself.db.close()"
      ],
      "execution_count": null,
      "outputs": []
    },
    {
      "cell_type": "code",
      "metadata": {
        "id": "v45AcvMOPFBA"
      },
      "source": [
        "# !unzip test.zip -d test"
      ],
      "execution_count": null,
      "outputs": []
    },
    {
      "cell_type": "code",
      "metadata": {
        "id": "dGzG7tRfQFgu"
      },
      "source": [
        "# !unzip train.zip"
      ],
      "execution_count": null,
      "outputs": []
    },
    {
      "cell_type": "code",
      "metadata": {
        "id": "wojEsyOCM1jn"
      },
      "source": [
        "\n",
        "# define the paths to the images directory\n",
        "IMAGES_PATH = r\"/content/gdrive/MyDrive/Dogs_vs_Cats/train\"\n",
        "TEST_IMAGES_PATH = r\"/content/gdrive/MyDrive/Dogs_vs_Cats/test\"\n",
        "\n",
        "# since we do not have validation data or access to the testing\n",
        "# labels we need to take a number of images from the training\n",
        "# data and use them instead\n",
        "\n",
        "NUM_CLASSES = 2\n",
        "NUM_VAL_IMAGES = 2500 * NUM_CLASSES\n",
        "# NUM_TEST_IMAGES = 1250 * NUM_CLASSES\n",
        "\n",
        "# define the path to the output training, validation, and testing\n",
        "# HDF5 files\n",
        "TRAIN_HDF5 = r\"/content/gdrive/MyDrive/Dogs_vs_Cats/hdf5/train.hdf5\"\n",
        "VAL_HDF5 = r\"/content/gdrive/MyDrive/Dogs_vs_Cats/hdf5/val.hdf5\"\n",
        "TEST_HDF5 = r\"/content/gdrive/MyDrive/Dogs_vs_Cats/hdf5/test.hdf5\"\n",
        "\n",
        "# path to the output model file\n",
        "MODEL_PATH = r\"/content/gdrive/MyDrive/Dogs_vs_Cats/dogs_vs_cats.model\"\n",
        "\n",
        "# define the path to the dataset mean\n",
        "DATASET_MEAN = r\"/content/gdrive/MyDrive/Dogs_vs_Cats/output/dogs_vs_cats_mean.json\"\n",
        "\n",
        "# define the path to the output directory used for storing plots,\n",
        "# classification reports, etc.\n",
        "OUTPUT_PATH = r\"/content/gdrive/MyDrive/Dogs_vs_Cats/output\"\n",
        "\n",
        "INIT_LR = 1e-4\n",
        "bs = 32\n",
        "NUM_EPOCHS = 10"
      ],
      "execution_count": null,
      "outputs": []
    },
    {
      "cell_type": "code",
      "metadata": {
        "id": "e2VshCvsVc5B",
        "colab": {
          "base_uri": "https://localhost:8080/"
        },
        "outputId": "5bb79383-8cfb-47fd-f12d-07ff4f536fdf"
      },
      "source": [
        "len(os.listdir('/content/gdrive/MyDrive/Dogs_vs_Cats/train'))"
      ],
      "execution_count": null,
      "outputs": [
        {
          "output_type": "execute_result",
          "data": {
            "text/plain": [
              "25000"
            ]
          },
          "metadata": {
            "tags": []
          },
          "execution_count": 9
        }
      ]
    },
    {
      "cell_type": "code",
      "metadata": {
        "id": "2DJgN-0hbnNQ"
      },
      "source": [
        "import re\n",
        "\n",
        "def sorted_nicely( l ): \n",
        "    \"\"\" Sort the given iterable in the way that humans expect.\"\"\" \n",
        "    convert = lambda text: int(text) if text.isdigit() else text \n",
        "    alphanum_key = lambda key: [ convert(c) for c in re.split('([0-9]+)', key) ] \n",
        "    return sorted(l, key = alphanum_key)"
      ],
      "execution_count": null,
      "outputs": []
    },
    {
      "cell_type": "code",
      "metadata": {
        "colab": {
          "base_uri": "https://localhost:8080/"
        },
        "id": "MKfJ0B778HbH",
        "outputId": "6a30712a-058f-4af8-ac6e-bee547fdd207"
      },
      "source": [
        "from sklearn.preprocessing import LabelEncoder\n",
        "from sklearn.model_selection import train_test_split\n",
        "from keras.preprocessing.image import load_img\n",
        "from keras.preprocessing.image import img_to_array\n",
        "from keras.applications import imagenet_utils\n",
        "from imutils import paths\n",
        "import numpy as np\n",
        "import progressbar\n",
        "import json\n",
        "import cv2\n",
        "import os\n",
        "\n",
        "\n",
        "trainPaths = list(paths.list_images(IMAGES_PATH))\n",
        "trainLabels = [os.path.basename(label).split('.')[0] for label in trainPaths]\n",
        "print(trainLabels[0:10])\n",
        "\n",
        "testPaths = list(paths.list_images(TEST_IMAGES_PATH))\n",
        "testPaths = sorted_nicely(testPaths)\n",
        "print(testPaths[0:10])\n",
        "testLabels = [os.path.basename(label).split('.')[0] for label in testPaths]\n",
        "print(testLabels[0:10])\n",
        "\n",
        "le = LabelEncoder()\n",
        "trainLabels = le.fit_transform(trainLabels)\n",
        "\n",
        "split = train_test_split(trainPaths, trainLabels, test_size=NUM_VAL_IMAGES, stratify=trainLabels, random_state=42)\n",
        "(trainPaths, valPaths, trainLabels, valLabels) = split"
      ],
      "execution_count": null,
      "outputs": [
        {
          "output_type": "stream",
          "text": [
            "['cat', 'cat', 'cat', 'cat', 'cat', 'cat', 'cat', 'cat', 'cat', 'cat']\n",
            "['/content/gdrive/MyDrive/Dogs_vs_Cats/test/1.jpg', '/content/gdrive/MyDrive/Dogs_vs_Cats/test/2.jpg', '/content/gdrive/MyDrive/Dogs_vs_Cats/test/3.jpg', '/content/gdrive/MyDrive/Dogs_vs_Cats/test/4.jpg', '/content/gdrive/MyDrive/Dogs_vs_Cats/test/5.jpg', '/content/gdrive/MyDrive/Dogs_vs_Cats/test/6.jpg', '/content/gdrive/MyDrive/Dogs_vs_Cats/test/7.jpg', '/content/gdrive/MyDrive/Dogs_vs_Cats/test/8.jpg', '/content/gdrive/MyDrive/Dogs_vs_Cats/test/9.jpg', '/content/gdrive/MyDrive/Dogs_vs_Cats/test/10.jpg']\n",
            "['1', '2', '3', '4', '5', '6', '7', '8', '9', '10']\n"
          ],
          "name": "stdout"
        }
      ]
    },
    {
      "cell_type": "code",
      "metadata": {
        "colab": {
          "base_uri": "https://localhost:8080/"
        },
        "id": "EEvYF49e8HNk",
        "outputId": "2e0a47dd-0c45-448f-c4d0-846567873193"
      },
      "source": [
        "datasets = [\n",
        "(\"train\", trainPaths, trainLabels, TRAIN_HDF5),\n",
        "(\"val\", valPaths, valLabels, VAL_HDF5),\n",
        "(\"test\", testPaths, testLabels, TEST_HDF5)\n",
        "]\n",
        "\n",
        "for (dType, paths, labels, outputPath) in datasets:\n",
        "\t\n",
        "\tprint(\"[INFO] building {}...\".format(outputPath))\n",
        "\tdataset = HDF5DatasetWriter((len(paths), 256, 256, 3), outputPath)\n",
        "\n",
        "\t# initialize the progress bar\n",
        "\t# initialize the progress bar\n",
        "\twidgets = [\"Extracting Features: \", progressbar.Percentage(), \" \", \n",
        "\tprogressbar.Bar(), \" \", progressbar.ETA()]\n",
        "\tpbar = progressbar.ProgressBar(maxval=len(paths), \n",
        "\t\twidgets=widgets).start()\n",
        "\n",
        "\t# loop over the images in batches\n",
        "\tfor i in np.arange(0, len(paths), bs):\n",
        "\t\t# extract the batch of images and labels, then initialize the\n",
        "\t\t# list of actual images that will be passed through the network\n",
        "\t\t# for feature extraction\n",
        "\t\tbatchPaths = paths[i:i + bs]\n",
        "\t\tbatchLabels = labels[i:i + bs]\n",
        "\t\tbatchImages = []\n",
        "\t\t# loop over the images and labels in the current batch\n",
        "\t\tfor (j, imagePath) in enumerate(batchPaths):\n",
        "\t\t\t# load the input image using the Keras helper utility\n",
        "\t\t\t# while ensuring the image is resized to 224x224 pixels\n",
        "\t\t\timage = load_img(imagePath, target_size=(256, 256))\n",
        "\t\t\timage = img_to_array(image)\n",
        "\t\t\t\n",
        "\t\t\t# preprocess the image by (1) expanding the dimensions and\n",
        "\t\t\t# (2) subtracting the mean RGB pixel intensity from the\n",
        "\t\t\t# ImageNet dataset\n",
        "\t\t\timage = np.expand_dims(image, axis=0)\n",
        "\t\t\timage = imagenet_utils.preprocess_input(image)\n",
        "\t\t\t\n",
        "\t\t\t# add the image to the batch\n",
        "\t\t\tbatchImages.append(image)\n",
        "\t\t\n",
        "\t\t# pass the images through the network and use the outputs as\n",
        "\t\t# our actual features\n",
        "\t\tbatchImages = np.vstack(batchImages)\n",
        "\t\tprint(batchImages.shape)\n",
        "\t\t# add the features and labels to our HDF5 dataset\n",
        "\t\tdataset.add(batchImages, batchLabels)\n",
        "\t\tpbar.update(i)\n",
        "\t\t\t\n",
        "\t# close the dataset\n",
        "\tdataset.close()\n",
        "\tpbar.finish()"
      ],
      "execution_count": null,
      "outputs": [
        {
          "output_type": "stream",
          "text": [
            "\r                                                                               \r\rExtracting Features: N/A% |                                    | ETA:  --:--:--"
          ],
          "name": "stderr"
        },
        {
          "output_type": "stream",
          "text": [
            "[INFO] building /content/gdrive/MyDrive/Dogs_vs_Cats/hdf5/train.hdf5...\n"
          ],
          "name": "stdout"
        },
        {
          "output_type": "stream",
          "text": [
            "\r                                                                               \r\rExtracting Features: N/A% |                                    | ETA:  --:--:--"
          ],
          "name": "stderr"
        },
        {
          "output_type": "stream",
          "text": [
            "(32, 256, 256, 3)\n"
          ],
          "name": "stdout"
        },
        {
          "output_type": "stream",
          "text": [
            "\r                                                                               \r\rExtracting Features:   0% |                                    | ETA:   2:46:33"
          ],
          "name": "stderr"
        },
        {
          "output_type": "stream",
          "text": [
            "(32, 256, 256, 3)\n"
          ],
          "name": "stdout"
        },
        {
          "output_type": "stream",
          "text": [
            "\r                                                                               \r\rExtracting Features:   0% |                                    | ETA:   2:01:41"
          ],
          "name": "stderr"
        },
        {
          "output_type": "stream",
          "text": [
            "(32, 256, 256, 3)\n"
          ],
          "name": "stdout"
        },
        {
          "output_type": "stream",
          "text": [
            "\r                                                                               \r\rExtracting Features:   0% |                                    | ETA:   1:47:38"
          ],
          "name": "stderr"
        },
        {
          "output_type": "stream",
          "text": [
            "(32, 256, 256, 3)\n"
          ],
          "name": "stdout"
        },
        {
          "output_type": "stream",
          "text": [
            "\r                                                                               \r\rExtracting Features:   0% |                                    | ETA:   1:41:23"
          ],
          "name": "stderr"
        },
        {
          "output_type": "stream",
          "text": [
            "(32, 256, 256, 3)\n"
          ],
          "name": "stdout"
        },
        {
          "output_type": "stream",
          "text": [
            "\r                                                                               \r\rExtracting Features:   0% |                                    | ETA:   1:36:51"
          ],
          "name": "stderr"
        },
        {
          "output_type": "stream",
          "text": [
            "(32, 256, 256, 3)\n"
          ],
          "name": "stdout"
        },
        {
          "output_type": "stream",
          "text": [
            "\r                                                                               \r\rExtracting Features:   0% |                                    | ETA:   1:33:07"
          ],
          "name": "stderr"
        },
        {
          "output_type": "stream",
          "text": [
            "(32, 256, 256, 3)\n"
          ],
          "name": "stdout"
        },
        {
          "output_type": "stream",
          "text": [
            "\r                                                                               \r\rExtracting Features:   1% |                                    | ETA:   1:31:04"
          ],
          "name": "stderr"
        },
        {
          "output_type": "stream",
          "text": [
            "(32, 256, 256, 3)\n"
          ],
          "name": "stdout"
        },
        {
          "output_type": "stream",
          "text": [
            "\r                                                                               \r\rExtracting Features:   1% |                                    | ETA:   1:29:15"
          ],
          "name": "stderr"
        },
        {
          "output_type": "stream",
          "text": [
            "(32, 256, 256, 3)\n"
          ],
          "name": "stdout"
        },
        {
          "output_type": "stream",
          "text": [
            "\r                                                                               \r\rExtracting Features:   1% |                                    | ETA:   1:27:58"
          ],
          "name": "stderr"
        },
        {
          "output_type": "stream",
          "text": [
            "(32, 256, 256, 3)\n"
          ],
          "name": "stdout"
        },
        {
          "output_type": "stream",
          "text": [
            "\r                                                                               \r\rExtracting Features:   1% |                                    | ETA:   1:26:49"
          ],
          "name": "stderr"
        },
        {
          "output_type": "stream",
          "text": [
            "(32, 256, 256, 3)\n"
          ],
          "name": "stdout"
        },
        {
          "output_type": "stream",
          "text": [
            "\r                                                                               \r\rExtracting Features:   1% |                                    | ETA:   1:25:09"
          ],
          "name": "stderr"
        },
        {
          "output_type": "stream",
          "text": [
            "(32, 256, 256, 3)\n"
          ],
          "name": "stdout"
        },
        {
          "output_type": "stream",
          "text": [
            "\r                                                                               \r\rExtracting Features:   1% |                                    | ETA:   1:24:16"
          ],
          "name": "stderr"
        },
        {
          "output_type": "stream",
          "text": [
            "(32, 256, 256, 3)\n"
          ],
          "name": "stdout"
        },
        {
          "output_type": "stream",
          "text": [
            "\r                                                                               \r\rExtracting Features:   2% |                                    | ETA:   1:23:41"
          ],
          "name": "stderr"
        },
        {
          "output_type": "stream",
          "text": [
            "(32, 256, 256, 3)\n"
          ],
          "name": "stdout"
        },
        {
          "output_type": "stream",
          "text": [
            "\r                                                                               \r\rExtracting Features:   2% |                                    | ETA:   1:23:06"
          ],
          "name": "stderr"
        },
        {
          "output_type": "stream",
          "text": [
            "(32, 256, 256, 3)\n"
          ],
          "name": "stdout"
        },
        {
          "output_type": "stream",
          "text": [
            "\r                                                                               \r\rExtracting Features:   2% |                                    | ETA:   1:22:07"
          ],
          "name": "stderr"
        },
        {
          "output_type": "stream",
          "text": [
            "(32, 256, 256, 3)\n"
          ],
          "name": "stdout"
        },
        {
          "output_type": "stream",
          "text": [
            "\r                                                                               \r\rExtracting Features:   2% |                                    | ETA:   1:22:04"
          ],
          "name": "stderr"
        },
        {
          "output_type": "stream",
          "text": [
            "(32, 256, 256, 3)\n"
          ],
          "name": "stdout"
        },
        {
          "output_type": "stream",
          "text": [
            "\r                                                                               \r\rExtracting Features:   2% |                                    | ETA:   1:21:36"
          ],
          "name": "stderr"
        },
        {
          "output_type": "stream",
          "text": [
            "(32, 256, 256, 3)\n"
          ],
          "name": "stdout"
        },
        {
          "output_type": "stream",
          "text": [
            "\r                                                                               \r\rExtracting Features:   2% |#                                   | ETA:   1:21:18"
          ],
          "name": "stderr"
        },
        {
          "output_type": "stream",
          "text": [
            "(32, 256, 256, 3)\n"
          ],
          "name": "stdout"
        },
        {
          "output_type": "stream",
          "text": [
            "\r                                                                               \r\rExtracting Features:   3% |#                                   | ETA:   1:21:23"
          ],
          "name": "stderr"
        },
        {
          "output_type": "stream",
          "text": [
            "(32, 256, 256, 3)\n"
          ],
          "name": "stdout"
        },
        {
          "output_type": "stream",
          "text": [
            "\r                                                                               \r\rExtracting Features:   3% |#                                   | ETA:   1:20:58"
          ],
          "name": "stderr"
        },
        {
          "output_type": "stream",
          "text": [
            "(32, 256, 256, 3)\n"
          ],
          "name": "stdout"
        },
        {
          "output_type": "stream",
          "text": [
            "\r                                                                               \r\rExtracting Features:   3% |#                                   | ETA:   1:20:37"
          ],
          "name": "stderr"
        },
        {
          "output_type": "stream",
          "text": [
            "(32, 256, 256, 3)\n"
          ],
          "name": "stdout"
        },
        {
          "output_type": "stream",
          "text": [
            "\r                                                                               \r\rExtracting Features:   3% |#                                   | ETA:   1:20:27"
          ],
          "name": "stderr"
        },
        {
          "output_type": "stream",
          "text": [
            "(32, 256, 256, 3)\n"
          ],
          "name": "stdout"
        },
        {
          "output_type": "stream",
          "text": [
            "\r                                                                               \r\rExtracting Features:   3% |#                                   | ETA:   1:20:02"
          ],
          "name": "stderr"
        },
        {
          "output_type": "stream",
          "text": [
            "(32, 256, 256, 3)\n"
          ],
          "name": "stdout"
        },
        {
          "output_type": "stream",
          "text": [
            "\r                                                                               \r\rExtracting Features:   3% |#                                   | ETA:   1:19:59"
          ],
          "name": "stderr"
        },
        {
          "output_type": "stream",
          "text": [
            "(32, 256, 256, 3)\n"
          ],
          "name": "stdout"
        },
        {
          "output_type": "stream",
          "text": [
            "\r                                                                               \r\rExtracting Features:   4% |#                                   | ETA:   1:19:31"
          ],
          "name": "stderr"
        },
        {
          "output_type": "stream",
          "text": [
            "(32, 256, 256, 3)\n"
          ],
          "name": "stdout"
        },
        {
          "output_type": "stream",
          "text": [
            "\r                                                                               \r\rExtracting Features:   4% |#                                   | ETA:   1:19:15"
          ],
          "name": "stderr"
        },
        {
          "output_type": "stream",
          "text": [
            "(32, 256, 256, 3)\n"
          ],
          "name": "stdout"
        },
        {
          "output_type": "stream",
          "text": [
            "\r                                                                               \r\rExtracting Features:   4% |#                                   | ETA:   1:18:42"
          ],
          "name": "stderr"
        },
        {
          "output_type": "stream",
          "text": [
            "(32, 256, 256, 3)\n"
          ],
          "name": "stdout"
        },
        {
          "output_type": "stream",
          "text": [
            "\r                                                                               \r\rExtracting Features:   4% |#                                   | ETA:   1:18:20"
          ],
          "name": "stderr"
        },
        {
          "output_type": "stream",
          "text": [
            "(32, 256, 256, 3)\n"
          ],
          "name": "stdout"
        },
        {
          "output_type": "stream",
          "text": [
            "\r                                                                               \r\rExtracting Features:   4% |#                                   | ETA:   1:18:10"
          ],
          "name": "stderr"
        },
        {
          "output_type": "stream",
          "text": [
            "(32, 256, 256, 3)\n"
          ],
          "name": "stdout"
        },
        {
          "output_type": "stream",
          "text": [
            "\r                                                                               \r\rExtracting Features:   4% |#                                   | ETA:   1:17:53"
          ],
          "name": "stderr"
        },
        {
          "output_type": "stream",
          "text": [
            "(32, 256, 256, 3)\n",
            "(32, 256, 256, 3)\n"
          ],
          "name": "stdout"
        },
        {
          "output_type": "stream",
          "text": [
            "Extracting Features:   5% |#                                   | ETA:   1:19:40"
          ],
          "name": "stderr"
        },
        {
          "output_type": "stream",
          "text": [
            "(32, 256, 256, 3)\n"
          ],
          "name": "stdout"
        },
        {
          "output_type": "stream",
          "text": [
            "\r                                                                               \r\rExtracting Features:   5% |#                                   | ETA:   1:19:23"
          ],
          "name": "stderr"
        },
        {
          "output_type": "stream",
          "text": [
            "(32, 256, 256, 3)\n"
          ],
          "name": "stdout"
        },
        {
          "output_type": "stream",
          "text": [
            "\r                                                                               \r\rExtracting Features:   5% |#                                   | ETA:   1:19:10"
          ],
          "name": "stderr"
        },
        {
          "output_type": "stream",
          "text": [
            "(32, 256, 256, 3)\n"
          ],
          "name": "stdout"
        },
        {
          "output_type": "stream",
          "text": [
            "\r                                                                               \r\rExtracting Features:   5% |##                                  | ETA:   1:18:54"
          ],
          "name": "stderr"
        },
        {
          "output_type": "stream",
          "text": [
            "(32, 256, 256, 3)\n"
          ],
          "name": "stdout"
        },
        {
          "output_type": "stream",
          "text": [
            "\r                                                                               \r\rExtracting Features:   5% |##                                  | ETA:   1:18:41"
          ],
          "name": "stderr"
        },
        {
          "output_type": "stream",
          "text": [
            "(32, 256, 256, 3)\n"
          ],
          "name": "stdout"
        },
        {
          "output_type": "stream",
          "text": [
            "\r                                                                               \r\rExtracting Features:   5% |##                                  | ETA:   1:18:19"
          ],
          "name": "stderr"
        },
        {
          "output_type": "stream",
          "text": [
            "(32, 256, 256, 3)\n"
          ],
          "name": "stdout"
        },
        {
          "output_type": "stream",
          "text": [
            "\r                                                                               \r\rExtracting Features:   6% |##                                  | ETA:   1:18:00"
          ],
          "name": "stderr"
        },
        {
          "output_type": "stream",
          "text": [
            "(32, 256, 256, 3)\n"
          ],
          "name": "stdout"
        },
        {
          "output_type": "stream",
          "text": [
            "\r                                                                               \r\rExtracting Features:   6% |##                                  | ETA:   1:17:45"
          ],
          "name": "stderr"
        },
        {
          "output_type": "stream",
          "text": [
            "(32, 256, 256, 3)\n"
          ],
          "name": "stdout"
        },
        {
          "output_type": "stream",
          "text": [
            "\r                                                                               \r\rExtracting Features:   6% |##                                  | ETA:   1:17:22"
          ],
          "name": "stderr"
        },
        {
          "output_type": "stream",
          "text": [
            "(32, 256, 256, 3)\n"
          ],
          "name": "stdout"
        },
        {
          "output_type": "stream",
          "text": [
            "\r                                                                               \r\rExtracting Features:   6% |##                                  | ETA:   1:17:10"
          ],
          "name": "stderr"
        },
        {
          "output_type": "stream",
          "text": [
            "(32, 256, 256, 3)\n"
          ],
          "name": "stdout"
        },
        {
          "output_type": "stream",
          "text": [
            "\r                                                                               \r\rExtracting Features:   6% |##                                  | ETA:   1:16:56"
          ],
          "name": "stderr"
        },
        {
          "output_type": "stream",
          "text": [
            "(32, 256, 256, 3)\n"
          ],
          "name": "stdout"
        },
        {
          "output_type": "stream",
          "text": [
            "\r                                                                               \r\rExtracting Features:   6% |##                                  | ETA:   1:16:36"
          ],
          "name": "stderr"
        },
        {
          "output_type": "stream",
          "text": [
            "(32, 256, 256, 3)\n"
          ],
          "name": "stdout"
        },
        {
          "output_type": "stream",
          "text": [
            "\r                                                                               \r\rExtracting Features:   7% |##                                  | ETA:   1:16:28"
          ],
          "name": "stderr"
        },
        {
          "output_type": "stream",
          "text": [
            "(32, 256, 256, 3)\n"
          ],
          "name": "stdout"
        },
        {
          "output_type": "stream",
          "text": [
            "\r                                                                               \r\rExtracting Features:   7% |##                                  | ETA:   1:16:16"
          ],
          "name": "stderr"
        },
        {
          "output_type": "stream",
          "text": [
            "(32, 256, 256, 3)\n"
          ],
          "name": "stdout"
        },
        {
          "output_type": "stream",
          "text": [
            "\r                                                                               \r\rExtracting Features:   7% |##                                  | ETA:   1:15:57"
          ],
          "name": "stderr"
        },
        {
          "output_type": "stream",
          "text": [
            "(32, 256, 256, 3)\n"
          ],
          "name": "stdout"
        },
        {
          "output_type": "stream",
          "text": [
            "\r                                                                               \r\rExtracting Features:   7% |##                                  | ETA:   1:15:38"
          ],
          "name": "stderr"
        },
        {
          "output_type": "stream",
          "text": [
            "(32, 256, 256, 3)\n"
          ],
          "name": "stdout"
        },
        {
          "output_type": "stream",
          "text": [
            "\r                                                                               \r\rExtracting Features:   7% |##                                  | ETA:   1:15:29"
          ],
          "name": "stderr"
        },
        {
          "output_type": "stream",
          "text": [
            "(32, 256, 256, 3)\n"
          ],
          "name": "stdout"
        },
        {
          "output_type": "stream",
          "text": [
            "\r                                                                               \r\rExtracting Features:   7% |##                                  | ETA:   1:15:20"
          ],
          "name": "stderr"
        },
        {
          "output_type": "stream",
          "text": [
            "(32, 256, 256, 3)\n"
          ],
          "name": "stdout"
        },
        {
          "output_type": "stream",
          "text": [
            "\r                                                                               \r\rExtracting Features:   8% |##                                  | ETA:   1:15:07"
          ],
          "name": "stderr"
        },
        {
          "output_type": "stream",
          "text": [
            "(32, 256, 256, 3)\n"
          ],
          "name": "stdout"
        },
        {
          "output_type": "stream",
          "text": [
            "\r                                                                               \r\rExtracting Features:   8% |##                                  | ETA:   1:14:50"
          ],
          "name": "stderr"
        },
        {
          "output_type": "stream",
          "text": [
            "(32, 256, 256, 3)\n"
          ],
          "name": "stdout"
        },
        {
          "output_type": "stream",
          "text": [
            "\r                                                                               \r\rExtracting Features:   8% |##                                  | ETA:   1:14:32"
          ],
          "name": "stderr"
        },
        {
          "output_type": "stream",
          "text": [
            "(32, 256, 256, 3)\n"
          ],
          "name": "stdout"
        },
        {
          "output_type": "stream",
          "text": [
            "\r                                                                               \r\rExtracting Features:   8% |###                                 | ETA:   1:14:23"
          ],
          "name": "stderr"
        },
        {
          "output_type": "stream",
          "text": [
            "(32, 256, 256, 3)\n"
          ],
          "name": "stdout"
        },
        {
          "output_type": "stream",
          "text": [
            "\r                                                                               \r\rExtracting Features:   8% |###                                 | ETA:   1:14:14"
          ],
          "name": "stderr"
        },
        {
          "output_type": "stream",
          "text": [
            "(32, 256, 256, 3)\n"
          ],
          "name": "stdout"
        },
        {
          "output_type": "stream",
          "text": [
            "\r                                                                               \r\rExtracting Features:   8% |###                                 | ETA:   1:13:56"
          ],
          "name": "stderr"
        },
        {
          "output_type": "stream",
          "text": [
            "(32, 256, 256, 3)\n"
          ],
          "name": "stdout"
        },
        {
          "output_type": "stream",
          "text": [
            "\r                                                                               \r\rExtracting Features:   8% |###                                 | ETA:   1:13:47"
          ],
          "name": "stderr"
        },
        {
          "output_type": "stream",
          "text": [
            "(32, 256, 256, 3)\n"
          ],
          "name": "stdout"
        },
        {
          "output_type": "stream",
          "text": [
            "\r                                                                               \r\rExtracting Features:   9% |###                                 | ETA:   1:13:35"
          ],
          "name": "stderr"
        },
        {
          "output_type": "stream",
          "text": [
            "(32, 256, 256, 3)\n"
          ],
          "name": "stdout"
        },
        {
          "output_type": "stream",
          "text": [
            "\r                                                                               \r\rExtracting Features:   9% |###                                 | ETA:   1:13:28"
          ],
          "name": "stderr"
        },
        {
          "output_type": "stream",
          "text": [
            "(32, 256, 256, 3)\n"
          ],
          "name": "stdout"
        },
        {
          "output_type": "stream",
          "text": [
            "\r                                                                               \r\rExtracting Features:   9% |###                                 | ETA:   1:13:11"
          ],
          "name": "stderr"
        },
        {
          "output_type": "stream",
          "text": [
            "(32, 256, 256, 3)\n"
          ],
          "name": "stdout"
        },
        {
          "output_type": "stream",
          "text": [
            "\r                                                                               \r\rExtracting Features:   9% |###                                 | ETA:   1:13:00"
          ],
          "name": "stderr"
        },
        {
          "output_type": "stream",
          "text": [
            "(32, 256, 256, 3)\n"
          ],
          "name": "stdout"
        },
        {
          "output_type": "stream",
          "text": [
            "\r                                                                               \r\rExtracting Features:   9% |###                                 | ETA:   1:12:45"
          ],
          "name": "stderr"
        },
        {
          "output_type": "stream",
          "text": [
            "(32, 256, 256, 3)\n"
          ],
          "name": "stdout"
        },
        {
          "output_type": "stream",
          "text": [
            "\r                                                                               \r\rExtracting Features:   9% |###                                 | ETA:   1:12:33"
          ],
          "name": "stderr"
        },
        {
          "output_type": "stream",
          "text": [
            "(32, 256, 256, 3)\n",
            "(32, 256, 256, 3)\n"
          ],
          "name": "stdout"
        },
        {
          "output_type": "stream",
          "text": [
            "Extracting Features:  10% |###                                 | ETA:   1:13:56"
          ],
          "name": "stderr"
        },
        {
          "output_type": "stream",
          "text": [
            "(32, 256, 256, 3)\n"
          ],
          "name": "stdout"
        },
        {
          "output_type": "stream",
          "text": [
            "\r                                                                               \r\rExtracting Features:  10% |###                                 | ETA:   1:13:40"
          ],
          "name": "stderr"
        },
        {
          "output_type": "stream",
          "text": [
            "(32, 256, 256, 3)\n"
          ],
          "name": "stdout"
        },
        {
          "output_type": "stream",
          "text": [
            "\r                                                                               \r\rExtracting Features:  10% |###                                 | ETA:   1:13:25"
          ],
          "name": "stderr"
        },
        {
          "output_type": "stream",
          "text": [
            "(32, 256, 256, 3)\n"
          ],
          "name": "stdout"
        },
        {
          "output_type": "stream",
          "text": [
            "\r                                                                               \r\rExtracting Features:  10% |###                                 | ETA:   1:13:14"
          ],
          "name": "stderr"
        },
        {
          "output_type": "stream",
          "text": [
            "(32, 256, 256, 3)\n"
          ],
          "name": "stdout"
        },
        {
          "output_type": "stream",
          "text": [
            "\r                                                                               \r\rExtracting Features:  10% |###                                 | ETA:   1:13:00"
          ],
          "name": "stderr"
        },
        {
          "output_type": "stream",
          "text": [
            "(32, 256, 256, 3)\n"
          ],
          "name": "stdout"
        },
        {
          "output_type": "stream",
          "text": [
            "\r                                                                               \r\rExtracting Features:  11% |###                                 | ETA:   1:12:45"
          ],
          "name": "stderr"
        },
        {
          "output_type": "stream",
          "text": [
            "(32, 256, 256, 3)\n"
          ],
          "name": "stdout"
        },
        {
          "output_type": "stream",
          "text": [
            "\r                                                                               \r\rExtracting Features:  11% |####                                | ETA:   1:12:36"
          ],
          "name": "stderr"
        },
        {
          "output_type": "stream",
          "text": [
            "(32, 256, 256, 3)\n"
          ],
          "name": "stdout"
        },
        {
          "output_type": "stream",
          "text": [
            "\r                                                                               \r\rExtracting Features:  11% |####                                | ETA:   1:12:24"
          ],
          "name": "stderr"
        },
        {
          "output_type": "stream",
          "text": [
            "(32, 256, 256, 3)\n"
          ],
          "name": "stdout"
        },
        {
          "output_type": "stream",
          "text": [
            "\r                                                                               \r\rExtracting Features:  11% |####                                | ETA:   1:12:13"
          ],
          "name": "stderr"
        },
        {
          "output_type": "stream",
          "text": [
            "(32, 256, 256, 3)\n"
          ],
          "name": "stdout"
        },
        {
          "output_type": "stream",
          "text": [
            "\r                                                                               \r\rExtracting Features:  11% |####                                | ETA:   1:12:05"
          ],
          "name": "stderr"
        },
        {
          "output_type": "stream",
          "text": [
            "(32, 256, 256, 3)\n"
          ],
          "name": "stdout"
        },
        {
          "output_type": "stream",
          "text": [
            "\r                                                                               \r\rExtracting Features:  11% |####                                | ETA:   1:11:52"
          ],
          "name": "stderr"
        },
        {
          "output_type": "stream",
          "text": [
            "(32, 256, 256, 3)\n"
          ],
          "name": "stdout"
        },
        {
          "output_type": "stream",
          "text": [
            "\r                                                                               \r\rExtracting Features:  12% |####                                | ETA:   1:11:43"
          ],
          "name": "stderr"
        },
        {
          "output_type": "stream",
          "text": [
            "(32, 256, 256, 3)\n"
          ],
          "name": "stdout"
        },
        {
          "output_type": "stream",
          "text": [
            "\r                                                                               \r\rExtracting Features:  12% |####                                | ETA:   1:11:30"
          ],
          "name": "stderr"
        },
        {
          "output_type": "stream",
          "text": [
            "(32, 256, 256, 3)\n"
          ],
          "name": "stdout"
        },
        {
          "output_type": "stream",
          "text": [
            "\r                                                                               \r\rExtracting Features:  12% |####                                | ETA:   1:11:25"
          ],
          "name": "stderr"
        },
        {
          "output_type": "stream",
          "text": [
            "(32, 256, 256, 3)\n"
          ],
          "name": "stdout"
        },
        {
          "output_type": "stream",
          "text": [
            "\r                                                                               \r\rExtracting Features:  12% |####                                | ETA:   1:11:14"
          ],
          "name": "stderr"
        },
        {
          "output_type": "stream",
          "text": [
            "(32, 256, 256, 3)\n"
          ],
          "name": "stdout"
        },
        {
          "output_type": "stream",
          "text": [
            "\r                                                                               \r\rExtracting Features:  12% |####                                | ETA:   1:11:06"
          ],
          "name": "stderr"
        },
        {
          "output_type": "stream",
          "text": [
            "(32, 256, 256, 3)\n"
          ],
          "name": "stdout"
        },
        {
          "output_type": "stream",
          "text": [
            "\r                                                                               \r\rExtracting Features:  12% |####                                | ETA:   1:10:52"
          ],
          "name": "stderr"
        },
        {
          "output_type": "stream",
          "text": [
            "(32, 256, 256, 3)\n"
          ],
          "name": "stdout"
        },
        {
          "output_type": "stream",
          "text": [
            "\r                                                                               \r\rExtracting Features:  12% |####                                | ETA:   1:10:44"
          ],
          "name": "stderr"
        },
        {
          "output_type": "stream",
          "text": [
            "(32, 256, 256, 3)\n"
          ],
          "name": "stdout"
        },
        {
          "output_type": "stream",
          "text": [
            "\r                                                                               \r\rExtracting Features:  13% |####                                | ETA:   1:10:36"
          ],
          "name": "stderr"
        },
        {
          "output_type": "stream",
          "text": [
            "(32, 256, 256, 3)\n"
          ],
          "name": "stdout"
        },
        {
          "output_type": "stream",
          "text": [
            "\r                                                                               \r\rExtracting Features:  13% |####                                | ETA:   1:10:33"
          ],
          "name": "stderr"
        },
        {
          "output_type": "stream",
          "text": [
            "(32, 256, 256, 3)\n"
          ],
          "name": "stdout"
        },
        {
          "output_type": "stream",
          "text": [
            "\r                                                                               \r\rExtracting Features:  13% |####                                | ETA:   1:10:20"
          ],
          "name": "stderr"
        },
        {
          "output_type": "stream",
          "text": [
            "(32, 256, 256, 3)\n"
          ],
          "name": "stdout"
        },
        {
          "output_type": "stream",
          "text": [
            "\r                                                                               \r\rExtracting Features:  13% |####                                | ETA:   1:10:05"
          ],
          "name": "stderr"
        },
        {
          "output_type": "stream",
          "text": [
            "(32, 256, 256, 3)\n"
          ],
          "name": "stdout"
        },
        {
          "output_type": "stream",
          "text": [
            "\r                                                                               \r\rExtracting Features:  13% |####                                | ETA:   1:09:56"
          ],
          "name": "stderr"
        },
        {
          "output_type": "stream",
          "text": [
            "(32, 256, 256, 3)\n"
          ],
          "name": "stdout"
        },
        {
          "output_type": "stream",
          "text": [
            "\r                                                                               \r\rExtracting Features:  13% |#####                               | ETA:   1:09:47"
          ],
          "name": "stderr"
        },
        {
          "output_type": "stream",
          "text": [
            "(32, 256, 256, 3)\n"
          ],
          "name": "stdout"
        },
        {
          "output_type": "stream",
          "text": [
            "\r                                                                               \r\rExtracting Features:  14% |#####                               | ETA:   1:09:40"
          ],
          "name": "stderr"
        },
        {
          "output_type": "stream",
          "text": [
            "(32, 256, 256, 3)\n"
          ],
          "name": "stdout"
        },
        {
          "output_type": "stream",
          "text": [
            "\r                                                                               \r\rExtracting Features:  14% |#####                               | ETA:   1:09:31"
          ],
          "name": "stderr"
        },
        {
          "output_type": "stream",
          "text": [
            "(32, 256, 256, 3)\n"
          ],
          "name": "stdout"
        },
        {
          "output_type": "stream",
          "text": [
            "\r                                                                               \r\rExtracting Features:  14% |#####                               | ETA:   1:09:21"
          ],
          "name": "stderr"
        },
        {
          "output_type": "stream",
          "text": [
            "(32, 256, 256, 3)\n"
          ],
          "name": "stdout"
        },
        {
          "output_type": "stream",
          "text": [
            "\r                                                                               \r\rExtracting Features:  14% |#####                               | ETA:   1:09:13"
          ],
          "name": "stderr"
        },
        {
          "output_type": "stream",
          "text": [
            "(32, 256, 256, 3)\n"
          ],
          "name": "stdout"
        },
        {
          "output_type": "stream",
          "text": [
            "\r                                                                               \r\rExtracting Features:  14% |#####                               | ETA:   1:09:03"
          ],
          "name": "stderr"
        },
        {
          "output_type": "stream",
          "text": [
            "(32, 256, 256, 3)\n"
          ],
          "name": "stdout"
        },
        {
          "output_type": "stream",
          "text": [
            "\r                                                                               \r\rExtracting Features:  14% |#####                               | ETA:   1:08:54"
          ],
          "name": "stderr"
        },
        {
          "output_type": "stream",
          "text": [
            "(32, 256, 256, 3)\n"
          ],
          "name": "stdout"
        },
        {
          "output_type": "stream",
          "text": [
            "\r                                                                               \r\rExtracting Features:  15% |#####                               | ETA:   1:08:43"
          ],
          "name": "stderr"
        },
        {
          "output_type": "stream",
          "text": [
            "(32, 256, 256, 3)\n",
            "(32, 256, 256, 3)\n"
          ],
          "name": "stdout"
        },
        {
          "output_type": "stream",
          "text": [
            "Extracting Features:  15% |#####                               | ETA:   1:09:31"
          ],
          "name": "stderr"
        },
        {
          "output_type": "stream",
          "text": [
            "(32, 256, 256, 3)\n"
          ],
          "name": "stdout"
        },
        {
          "output_type": "stream",
          "text": [
            "\r                                                                               \r\rExtracting Features:  15% |#####                               | ETA:   1:09:31"
          ],
          "name": "stderr"
        },
        {
          "output_type": "stream",
          "text": [
            "(32, 256, 256, 3)\n"
          ],
          "name": "stdout"
        },
        {
          "output_type": "stream",
          "text": [
            "\r                                                                               \r\rExtracting Features:  15% |#####                               | ETA:   1:09:22"
          ],
          "name": "stderr"
        },
        {
          "output_type": "stream",
          "text": [
            "(32, 256, 256, 3)\n"
          ],
          "name": "stdout"
        },
        {
          "output_type": "stream",
          "text": [
            "\r                                                                               \r\rExtracting Features:  15% |#####                               | ETA:   1:09:15"
          ],
          "name": "stderr"
        },
        {
          "output_type": "stream",
          "text": [
            "(32, 256, 256, 3)\n"
          ],
          "name": "stdout"
        },
        {
          "output_type": "stream",
          "text": [
            "\r                                                                               \r\rExtracting Features:  16% |#####                               | ETA:   1:09:01"
          ],
          "name": "stderr"
        },
        {
          "output_type": "stream",
          "text": [
            "(32, 256, 256, 3)\n"
          ],
          "name": "stdout"
        },
        {
          "output_type": "stream",
          "text": [
            "\r                                                                               \r\rExtracting Features:  16% |#####                               | ETA:   1:08:51"
          ],
          "name": "stderr"
        },
        {
          "output_type": "stream",
          "text": [
            "(32, 256, 256, 3)\n"
          ],
          "name": "stdout"
        },
        {
          "output_type": "stream",
          "text": [
            "\r                                                                               \r\rExtracting Features:  16% |#####                               | ETA:   1:08:39"
          ],
          "name": "stderr"
        },
        {
          "output_type": "stream",
          "text": [
            "(32, 256, 256, 3)\n"
          ],
          "name": "stdout"
        },
        {
          "output_type": "stream",
          "text": [
            "\r                                                                               \r\rExtracting Features:  16% |#####                               | ETA:   1:08:32"
          ],
          "name": "stderr"
        },
        {
          "output_type": "stream",
          "text": [
            "(32, 256, 256, 3)\n"
          ],
          "name": "stdout"
        },
        {
          "output_type": "stream",
          "text": [
            "\r                                                                               \r\rExtracting Features:  16% |#####                               | ETA:   1:08:21"
          ],
          "name": "stderr"
        },
        {
          "output_type": "stream",
          "text": [
            "(32, 256, 256, 3)\n"
          ],
          "name": "stdout"
        },
        {
          "output_type": "stream",
          "text": [
            "\r                                                                               \r\rExtracting Features:  16% |######                              | ETA:   1:08:07"
          ],
          "name": "stderr"
        },
        {
          "output_type": "stream",
          "text": [
            "(32, 256, 256, 3)\n"
          ],
          "name": "stdout"
        },
        {
          "output_type": "stream",
          "text": [
            "\r                                                                               \r\rExtracting Features:  16% |######                              | ETA:   1:07:55"
          ],
          "name": "stderr"
        },
        {
          "output_type": "stream",
          "text": [
            "(32, 256, 256, 3)\n"
          ],
          "name": "stdout"
        },
        {
          "output_type": "stream",
          "text": [
            "\r                                                                               \r\rExtracting Features:  17% |######                              | ETA:   1:07:48"
          ],
          "name": "stderr"
        },
        {
          "output_type": "stream",
          "text": [
            "(32, 256, 256, 3)\n"
          ],
          "name": "stdout"
        },
        {
          "output_type": "stream",
          "text": [
            "\r                                                                               \r\rExtracting Features:  17% |######                              | ETA:   1:07:40"
          ],
          "name": "stderr"
        },
        {
          "output_type": "stream",
          "text": [
            "(32, 256, 256, 3)\n"
          ],
          "name": "stdout"
        },
        {
          "output_type": "stream",
          "text": [
            "\r                                                                               \r\rExtracting Features:  17% |######                              | ETA:   1:07:30"
          ],
          "name": "stderr"
        },
        {
          "output_type": "stream",
          "text": [
            "(32, 256, 256, 3)\n"
          ],
          "name": "stdout"
        },
        {
          "output_type": "stream",
          "text": [
            "\r                                                                               \r\rExtracting Features:  17% |######                              | ETA:   1:07:18"
          ],
          "name": "stderr"
        },
        {
          "output_type": "stream",
          "text": [
            "(32, 256, 256, 3)\n"
          ],
          "name": "stdout"
        },
        {
          "output_type": "stream",
          "text": [
            "\r                                                                               \r\rExtracting Features:  17% |######                              | ETA:   1:07:09"
          ],
          "name": "stderr"
        },
        {
          "output_type": "stream",
          "text": [
            "(32, 256, 256, 3)\n"
          ],
          "name": "stdout"
        },
        {
          "output_type": "stream",
          "text": [
            "\r                                                                               \r\rExtracting Features:  17% |######                              | ETA:   1:06:59"
          ],
          "name": "stderr"
        },
        {
          "output_type": "stream",
          "text": [
            "(32, 256, 256, 3)\n"
          ],
          "name": "stdout"
        },
        {
          "output_type": "stream",
          "text": [
            "\r                                                                               \r\rExtracting Features:  18% |######                              | ETA:   1:06:50"
          ],
          "name": "stderr"
        },
        {
          "output_type": "stream",
          "text": [
            "(32, 256, 256, 3)\n"
          ],
          "name": "stdout"
        },
        {
          "output_type": "stream",
          "text": [
            "\r                                                                               \r\rExtracting Features:  18% |######                              | ETA:   1:06:40"
          ],
          "name": "stderr"
        },
        {
          "output_type": "stream",
          "text": [
            "(32, 256, 256, 3)\n"
          ],
          "name": "stdout"
        },
        {
          "output_type": "stream",
          "text": [
            "\r                                                                               \r\rExtracting Features:  18% |######                              | ETA:   1:06:32"
          ],
          "name": "stderr"
        },
        {
          "output_type": "stream",
          "text": [
            "(32, 256, 256, 3)\n"
          ],
          "name": "stdout"
        },
        {
          "output_type": "stream",
          "text": [
            "\r                                                                               \r\rExtracting Features:  18% |######                              | ETA:   1:06:21"
          ],
          "name": "stderr"
        },
        {
          "output_type": "stream",
          "text": [
            "(32, 256, 256, 3)\n"
          ],
          "name": "stdout"
        },
        {
          "output_type": "stream",
          "text": [
            "\r                                                                               \r\rExtracting Features:  18% |######                              | ETA:   1:06:09"
          ],
          "name": "stderr"
        },
        {
          "output_type": "stream",
          "text": [
            "(32, 256, 256, 3)\n"
          ],
          "name": "stdout"
        },
        {
          "output_type": "stream",
          "text": [
            "\r                                                                               \r\rExtracting Features:  18% |######                              | ETA:   1:06:00"
          ],
          "name": "stderr"
        },
        {
          "output_type": "stream",
          "text": [
            "(32, 256, 256, 3)\n"
          ],
          "name": "stdout"
        },
        {
          "output_type": "stream",
          "text": [
            "\r                                                                               \r\rExtracting Features:  19% |######                              | ETA:   1:05:51"
          ],
          "name": "stderr"
        },
        {
          "output_type": "stream",
          "text": [
            "(32, 256, 256, 3)\n"
          ],
          "name": "stdout"
        },
        {
          "output_type": "stream",
          "text": [
            "\r                                                                               \r\rExtracting Features:  19% |######                              | ETA:   1:05:40"
          ],
          "name": "stderr"
        },
        {
          "output_type": "stream",
          "text": [
            "(32, 256, 256, 3)\n"
          ],
          "name": "stdout"
        },
        {
          "output_type": "stream",
          "text": [
            "\r                                                                               \r\rExtracting Features:  19% |######                              | ETA:   1:05:28"
          ],
          "name": "stderr"
        },
        {
          "output_type": "stream",
          "text": [
            "(32, 256, 256, 3)\n"
          ],
          "name": "stdout"
        },
        {
          "output_type": "stream",
          "text": [
            "\r                                                                               \r\rExtracting Features:  19% |#######                             | ETA:   1:05:20"
          ],
          "name": "stderr"
        },
        {
          "output_type": "stream",
          "text": [
            "(32, 256, 256, 3)\n"
          ],
          "name": "stdout"
        },
        {
          "output_type": "stream",
          "text": [
            "\r                                                                               \r\rExtracting Features:  19% |#######                             | ETA:   1:05:14"
          ],
          "name": "stderr"
        },
        {
          "output_type": "stream",
          "text": [
            "(32, 256, 256, 3)\n"
          ],
          "name": "stdout"
        },
        {
          "output_type": "stream",
          "text": [
            "\r                                                                               \r\rExtracting Features:  19% |#######                             | ETA:   1:05:04"
          ],
          "name": "stderr"
        },
        {
          "output_type": "stream",
          "text": [
            "(32, 256, 256, 3)\n"
          ],
          "name": "stdout"
        },
        {
          "output_type": "stream",
          "text": [
            "\r                                                                               \r\rExtracting Features:  20% |#######                             | ETA:   1:04:53"
          ],
          "name": "stderr"
        },
        {
          "output_type": "stream",
          "text": [
            "(32, 256, 256, 3)\n"
          ],
          "name": "stdout"
        },
        {
          "output_type": "stream",
          "text": [
            "\r                                                                               \r\rExtracting Features:  20% |#######                             | ETA:   1:04:44"
          ],
          "name": "stderr"
        },
        {
          "output_type": "stream",
          "text": [
            "(32, 256, 256, 3)\n",
            "(32, 256, 256, 3)\n"
          ],
          "name": "stdout"
        },
        {
          "output_type": "stream",
          "text": [
            "Extracting Features:  20% |#######                             | ETA:   1:04:54"
          ],
          "name": "stderr"
        },
        {
          "output_type": "stream",
          "text": [
            "(32, 256, 256, 3)\n"
          ],
          "name": "stdout"
        },
        {
          "output_type": "stream",
          "text": [
            "\r                                                                               \r\rExtracting Features:  20% |#######                             | ETA:   1:04:42"
          ],
          "name": "stderr"
        },
        {
          "output_type": "stream",
          "text": [
            "(32, 256, 256, 3)\n"
          ],
          "name": "stdout"
        },
        {
          "output_type": "stream",
          "text": [
            "\r                                                                               \r\rExtracting Features:  20% |#######                             | ETA:   1:04:29"
          ],
          "name": "stderr"
        },
        {
          "output_type": "stream",
          "text": [
            "(32, 256, 256, 3)\n"
          ],
          "name": "stdout"
        },
        {
          "output_type": "stream",
          "text": [
            "\r                                                                               \r\rExtracting Features:  20% |#######                             | ETA:   1:04:18"
          ],
          "name": "stderr"
        },
        {
          "output_type": "stream",
          "text": [
            "(32, 256, 256, 3)\n"
          ],
          "name": "stdout"
        },
        {
          "output_type": "stream",
          "text": [
            "\r                                                                               \r\rExtracting Features:  21% |#######                             | ETA:   1:04:06"
          ],
          "name": "stderr"
        },
        {
          "output_type": "stream",
          "text": [
            "(32, 256, 256, 3)\n"
          ],
          "name": "stdout"
        },
        {
          "output_type": "stream",
          "text": [
            "\r                                                                               \r\rExtracting Features:  21% |#######                             | ETA:   1:03:56"
          ],
          "name": "stderr"
        },
        {
          "output_type": "stream",
          "text": [
            "(32, 256, 256, 3)\n"
          ],
          "name": "stdout"
        },
        {
          "output_type": "stream",
          "text": [
            "\r                                                                               \r\rExtracting Features:  21% |#######                             | ETA:   1:03:45"
          ],
          "name": "stderr"
        },
        {
          "output_type": "stream",
          "text": [
            "(32, 256, 256, 3)\n"
          ],
          "name": "stdout"
        },
        {
          "output_type": "stream",
          "text": [
            "\r                                                                               \r\rExtracting Features:  21% |#######                             | ETA:   1:03:32"
          ],
          "name": "stderr"
        },
        {
          "output_type": "stream",
          "text": [
            "(32, 256, 256, 3)\n"
          ],
          "name": "stdout"
        },
        {
          "output_type": "stream",
          "text": [
            "\r                                                                               \r\rExtracting Features:  21% |#######                             | ETA:   1:03:23"
          ],
          "name": "stderr"
        },
        {
          "output_type": "stream",
          "text": [
            "(32, 256, 256, 3)\n"
          ],
          "name": "stdout"
        },
        {
          "output_type": "stream",
          "text": [
            "\r                                                                               \r\rExtracting Features:  21% |#######                             | ETA:   1:03:13"
          ],
          "name": "stderr"
        },
        {
          "output_type": "stream",
          "text": [
            "(32, 256, 256, 3)\n"
          ],
          "name": "stdout"
        },
        {
          "output_type": "stream",
          "text": [
            "\r                                                                               \r\rExtracting Features:  22% |#######                             | ETA:   1:03:02"
          ],
          "name": "stderr"
        },
        {
          "output_type": "stream",
          "text": [
            "(32, 256, 256, 3)\n"
          ],
          "name": "stdout"
        },
        {
          "output_type": "stream",
          "text": [
            "\r                                                                               \r\rExtracting Features:  22% |########                            | ETA:   1:02:54"
          ],
          "name": "stderr"
        },
        {
          "output_type": "stream",
          "text": [
            "(32, 256, 256, 3)\n"
          ],
          "name": "stdout"
        },
        {
          "output_type": "stream",
          "text": [
            "\r                                                                               \r\rExtracting Features:  22% |########                            | ETA:   1:02:42"
          ],
          "name": "stderr"
        },
        {
          "output_type": "stream",
          "text": [
            "(32, 256, 256, 3)\n"
          ],
          "name": "stdout"
        },
        {
          "output_type": "stream",
          "text": [
            "\r                                                                               \r\rExtracting Features:  22% |########                            | ETA:   1:02:32"
          ],
          "name": "stderr"
        },
        {
          "output_type": "stream",
          "text": [
            "(32, 256, 256, 3)\n"
          ],
          "name": "stdout"
        },
        {
          "output_type": "stream",
          "text": [
            "\r                                                                               \r\rExtracting Features:  22% |########                            | ETA:   1:02:22"
          ],
          "name": "stderr"
        },
        {
          "output_type": "stream",
          "text": [
            "(32, 256, 256, 3)\n"
          ],
          "name": "stdout"
        },
        {
          "output_type": "stream",
          "text": [
            "\r                                                                               \r\rExtracting Features:  22% |########                            | ETA:   1:02:13"
          ],
          "name": "stderr"
        },
        {
          "output_type": "stream",
          "text": [
            "(32, 256, 256, 3)\n"
          ],
          "name": "stdout"
        },
        {
          "output_type": "stream",
          "text": [
            "\r                                                                               \r\rExtracting Features:  23% |########                            | ETA:   1:02:05"
          ],
          "name": "stderr"
        },
        {
          "output_type": "stream",
          "text": [
            "(32, 256, 256, 3)\n"
          ],
          "name": "stdout"
        },
        {
          "output_type": "stream",
          "text": [
            "\r                                                                               \r\rExtracting Features:  23% |########                            | ETA:   1:02:00"
          ],
          "name": "stderr"
        },
        {
          "output_type": "stream",
          "text": [
            "(32, 256, 256, 3)\n"
          ],
          "name": "stdout"
        },
        {
          "output_type": "stream",
          "text": [
            "\r                                                                               \r\rExtracting Features:  23% |########                            | ETA:   1:01:52"
          ],
          "name": "stderr"
        },
        {
          "output_type": "stream",
          "text": [
            "(32, 256, 256, 3)\n"
          ],
          "name": "stdout"
        },
        {
          "output_type": "stream",
          "text": [
            "\r                                                                               \r\rExtracting Features:  23% |########                            | ETA:   1:01:43"
          ],
          "name": "stderr"
        },
        {
          "output_type": "stream",
          "text": [
            "(32, 256, 256, 3)\n"
          ],
          "name": "stdout"
        },
        {
          "output_type": "stream",
          "text": [
            "\r                                                                               \r\rExtracting Features:  23% |########                            | ETA:   1:01:34"
          ],
          "name": "stderr"
        },
        {
          "output_type": "stream",
          "text": [
            "(32, 256, 256, 3)\n"
          ],
          "name": "stdout"
        },
        {
          "output_type": "stream",
          "text": [
            "\r                                                                               \r\rExtracting Features:  23% |########                            | ETA:   1:01:26"
          ],
          "name": "stderr"
        },
        {
          "output_type": "stream",
          "text": [
            "(32, 256, 256, 3)\n"
          ],
          "name": "stdout"
        },
        {
          "output_type": "stream",
          "text": [
            "\r                                                                               \r\rExtracting Features:  24% |########                            | ETA:   1:01:17"
          ],
          "name": "stderr"
        },
        {
          "output_type": "stream",
          "text": [
            "(32, 256, 256, 3)\n"
          ],
          "name": "stdout"
        },
        {
          "output_type": "stream",
          "text": [
            "\r                                                                               \r\rExtracting Features:  24% |########                            | ETA:   1:01:09"
          ],
          "name": "stderr"
        },
        {
          "output_type": "stream",
          "text": [
            "(32, 256, 256, 3)\n"
          ],
          "name": "stdout"
        },
        {
          "output_type": "stream",
          "text": [
            "\r                                                                               \r\rExtracting Features:  24% |########                            | ETA:   1:01:02"
          ],
          "name": "stderr"
        },
        {
          "output_type": "stream",
          "text": [
            "(32, 256, 256, 3)\n"
          ],
          "name": "stdout"
        },
        {
          "output_type": "stream",
          "text": [
            "\r                                                                               \r\rExtracting Features:  24% |########                            | ETA:   1:00:53"
          ],
          "name": "stderr"
        },
        {
          "output_type": "stream",
          "text": [
            "(32, 256, 256, 3)\n"
          ],
          "name": "stdout"
        },
        {
          "output_type": "stream",
          "text": [
            "\r                                                                               \r\rExtracting Features:  24% |########                            | ETA:   1:00:44"
          ],
          "name": "stderr"
        },
        {
          "output_type": "stream",
          "text": [
            "(32, 256, 256, 3)\n"
          ],
          "name": "stdout"
        },
        {
          "output_type": "stream",
          "text": [
            "\r                                                                               \r\rExtracting Features:  24% |########                            | ETA:   1:00:34"
          ],
          "name": "stderr"
        },
        {
          "output_type": "stream",
          "text": [
            "(32, 256, 256, 3)\n"
          ],
          "name": "stdout"
        },
        {
          "output_type": "stream",
          "text": [
            "\r                                                                               \r\rExtracting Features:  24% |########                            | ETA:   1:00:27"
          ],
          "name": "stderr"
        },
        {
          "output_type": "stream",
          "text": [
            "(32, 256, 256, 3)\n"
          ],
          "name": "stdout"
        },
        {
          "output_type": "stream",
          "text": [
            "\r                                                                               \r\rExtracting Features:  25% |#########                           | ETA:   1:00:20"
          ],
          "name": "stderr"
        },
        {
          "output_type": "stream",
          "text": [
            "(32, 256, 256, 3)\n"
          ],
          "name": "stdout"
        },
        {
          "output_type": "stream",
          "text": [
            "\r                                                                               \r\rExtracting Features:  25% |#########                           | ETA:   1:00:10"
          ],
          "name": "stderr"
        },
        {
          "output_type": "stream",
          "text": [
            "(32, 256, 256, 3)\n",
            "(32, 256, 256, 3)\n"
          ],
          "name": "stdout"
        },
        {
          "output_type": "stream",
          "text": [
            "Extracting Features:  25% |#########                           | ETA:   1:00:11"
          ],
          "name": "stderr"
        },
        {
          "output_type": "stream",
          "text": [
            "(32, 256, 256, 3)\n"
          ],
          "name": "stdout"
        },
        {
          "output_type": "stream",
          "text": [
            "\r                                                                               \r\rExtracting Features:  25% |#########                           | ETA:   1:00:03"
          ],
          "name": "stderr"
        },
        {
          "output_type": "stream",
          "text": [
            "(32, 256, 256, 3)\n"
          ],
          "name": "stdout"
        },
        {
          "output_type": "stream",
          "text": [
            "\r                                                                               \r\rExtracting Features:  25% |#########                           | ETA:   0:59:54"
          ],
          "name": "stderr"
        },
        {
          "output_type": "stream",
          "text": [
            "(32, 256, 256, 3)\n"
          ],
          "name": "stdout"
        },
        {
          "output_type": "stream",
          "text": [
            "\r                                                                               \r\rExtracting Features:  26% |#########                           | ETA:   0:59:44"
          ],
          "name": "stderr"
        },
        {
          "output_type": "stream",
          "text": [
            "(32, 256, 256, 3)\n"
          ],
          "name": "stdout"
        },
        {
          "output_type": "stream",
          "text": [
            "\r                                                                               \r\rExtracting Features:  26% |#########                           | ETA:   0:59:33"
          ],
          "name": "stderr"
        },
        {
          "output_type": "stream",
          "text": [
            "(32, 256, 256, 3)\n"
          ],
          "name": "stdout"
        },
        {
          "output_type": "stream",
          "text": [
            "\r                                                                               \r\rExtracting Features:  26% |#########                           | ETA:   0:59:24"
          ],
          "name": "stderr"
        },
        {
          "output_type": "stream",
          "text": [
            "(32, 256, 256, 3)\n"
          ],
          "name": "stdout"
        },
        {
          "output_type": "stream",
          "text": [
            "\r                                                                               \r\rExtracting Features:  26% |#########                           | ETA:   0:59:15"
          ],
          "name": "stderr"
        },
        {
          "output_type": "stream",
          "text": [
            "(32, 256, 256, 3)\n"
          ],
          "name": "stdout"
        },
        {
          "output_type": "stream",
          "text": [
            "\r                                                                               \r\rExtracting Features:  26% |#########                           | ETA:   0:59:07"
          ],
          "name": "stderr"
        },
        {
          "output_type": "stream",
          "text": [
            "(32, 256, 256, 3)\n"
          ],
          "name": "stdout"
        },
        {
          "output_type": "stream",
          "text": [
            "\r                                                                               \r\rExtracting Features:  26% |#########                           | ETA:   0:58:57"
          ],
          "name": "stderr"
        },
        {
          "output_type": "stream",
          "text": [
            "(32, 256, 256, 3)\n"
          ],
          "name": "stdout"
        },
        {
          "output_type": "stream",
          "text": [
            "\r                                                                               \r\rExtracting Features:  27% |#########                           | ETA:   0:58:48"
          ],
          "name": "stderr"
        },
        {
          "output_type": "stream",
          "text": [
            "(32, 256, 256, 3)\n"
          ],
          "name": "stdout"
        },
        {
          "output_type": "stream",
          "text": [
            "\r                                                                               \r\rExtracting Features:  27% |#########                           | ETA:   0:58:38"
          ],
          "name": "stderr"
        },
        {
          "output_type": "stream",
          "text": [
            "(32, 256, 256, 3)\n"
          ],
          "name": "stdout"
        },
        {
          "output_type": "stream",
          "text": [
            "\r                                                                               \r\rExtracting Features:  27% |#########                           | ETA:   0:58:30"
          ],
          "name": "stderr"
        },
        {
          "output_type": "stream",
          "text": [
            "(32, 256, 256, 3)\n"
          ],
          "name": "stdout"
        },
        {
          "output_type": "stream",
          "text": [
            "\r                                                                               \r\rExtracting Features:  27% |#########                           | ETA:   0:58:22"
          ],
          "name": "stderr"
        },
        {
          "output_type": "stream",
          "text": [
            "(32, 256, 256, 3)\n"
          ],
          "name": "stdout"
        },
        {
          "output_type": "stream",
          "text": [
            "\r                                                                               \r\rExtracting Features:  27% |#########                           | ETA:   0:58:13"
          ],
          "name": "stderr"
        },
        {
          "output_type": "stream",
          "text": [
            "(32, 256, 256, 3)\n"
          ],
          "name": "stdout"
        },
        {
          "output_type": "stream",
          "text": [
            "\r                                                                               \r\rExtracting Features:  27% |##########                          | ETA:   0:58:06"
          ],
          "name": "stderr"
        },
        {
          "output_type": "stream",
          "text": [
            "(32, 256, 256, 3)\n"
          ],
          "name": "stdout"
        },
        {
          "output_type": "stream",
          "text": [
            "\r                                                                               \r\rExtracting Features:  28% |##########                          | ETA:   0:57:57"
          ],
          "name": "stderr"
        },
        {
          "output_type": "stream",
          "text": [
            "(32, 256, 256, 3)\n"
          ],
          "name": "stdout"
        },
        {
          "output_type": "stream",
          "text": [
            "\r                                                                               \r\rExtracting Features:  28% |##########                          | ETA:   0:57:49"
          ],
          "name": "stderr"
        },
        {
          "output_type": "stream",
          "text": [
            "(32, 256, 256, 3)\n"
          ],
          "name": "stdout"
        },
        {
          "output_type": "stream",
          "text": [
            "\r                                                                               \r\rExtracting Features:  28% |##########                          | ETA:   0:57:41"
          ],
          "name": "stderr"
        },
        {
          "output_type": "stream",
          "text": [
            "(32, 256, 256, 3)\n"
          ],
          "name": "stdout"
        },
        {
          "output_type": "stream",
          "text": [
            "\r                                                                               \r\rExtracting Features:  28% |##########                          | ETA:   0:57:32"
          ],
          "name": "stderr"
        },
        {
          "output_type": "stream",
          "text": [
            "(32, 256, 256, 3)\n"
          ],
          "name": "stdout"
        },
        {
          "output_type": "stream",
          "text": [
            "\r                                                                               \r\rExtracting Features:  28% |##########                          | ETA:   0:57:24"
          ],
          "name": "stderr"
        },
        {
          "output_type": "stream",
          "text": [
            "(32, 256, 256, 3)\n"
          ],
          "name": "stdout"
        },
        {
          "output_type": "stream",
          "text": [
            "\r                                                                               \r\rExtracting Features:  28% |##########                          | ETA:   0:57:17"
          ],
          "name": "stderr"
        },
        {
          "output_type": "stream",
          "text": [
            "(32, 256, 256, 3)\n"
          ],
          "name": "stdout"
        },
        {
          "output_type": "stream",
          "text": [
            "\r                                                                               \r\rExtracting Features:  28% |##########                          | ETA:   0:57:09"
          ],
          "name": "stderr"
        },
        {
          "output_type": "stream",
          "text": [
            "(32, 256, 256, 3)\n"
          ],
          "name": "stdout"
        },
        {
          "output_type": "stream",
          "text": [
            "\r                                                                               \r\rExtracting Features:  29% |##########                          | ETA:   0:57:00"
          ],
          "name": "stderr"
        },
        {
          "output_type": "stream",
          "text": [
            "(32, 256, 256, 3)\n"
          ],
          "name": "stdout"
        },
        {
          "output_type": "stream",
          "text": [
            "\r                                                                               \r\rExtracting Features:  29% |##########                          | ETA:   0:56:55"
          ],
          "name": "stderr"
        },
        {
          "output_type": "stream",
          "text": [
            "(32, 256, 256, 3)\n"
          ],
          "name": "stdout"
        },
        {
          "output_type": "stream",
          "text": [
            "\r                                                                               \r\rExtracting Features:  29% |##########                          | ETA:   0:56:45"
          ],
          "name": "stderr"
        },
        {
          "output_type": "stream",
          "text": [
            "(32, 256, 256, 3)\n"
          ],
          "name": "stdout"
        },
        {
          "output_type": "stream",
          "text": [
            "\r                                                                               \r\rExtracting Features:  29% |##########                          | ETA:   0:56:34"
          ],
          "name": "stderr"
        },
        {
          "output_type": "stream",
          "text": [
            "(32, 256, 256, 3)\n"
          ],
          "name": "stdout"
        },
        {
          "output_type": "stream",
          "text": [
            "\r                                                                               \r\rExtracting Features:  29% |##########                          | ETA:   0:56:26"
          ],
          "name": "stderr"
        },
        {
          "output_type": "stream",
          "text": [
            "(32, 256, 256, 3)\n"
          ],
          "name": "stdout"
        },
        {
          "output_type": "stream",
          "text": [
            "\r                                                                               \r\rExtracting Features:  29% |##########                          | ETA:   0:56:16"
          ],
          "name": "stderr"
        },
        {
          "output_type": "stream",
          "text": [
            "(32, 256, 256, 3)\n"
          ],
          "name": "stdout"
        },
        {
          "output_type": "stream",
          "text": [
            "\r                                                                               \r\rExtracting Features:  30% |##########                          | ETA:   0:56:07"
          ],
          "name": "stderr"
        },
        {
          "output_type": "stream",
          "text": [
            "(32, 256, 256, 3)\n"
          ],
          "name": "stdout"
        },
        {
          "output_type": "stream",
          "text": [
            "\r                                                                               \r\rExtracting Features:  30% |##########                          | ETA:   0:55:56"
          ],
          "name": "stderr"
        },
        {
          "output_type": "stream",
          "text": [
            "(32, 256, 256, 3)\n"
          ],
          "name": "stdout"
        },
        {
          "output_type": "stream",
          "text": [
            "\r                                                                               \r\rExtracting Features:  30% |##########                          | ETA:   0:55:48"
          ],
          "name": "stderr"
        },
        {
          "output_type": "stream",
          "text": [
            "(32, 256, 256, 3)\n",
            "(32, 256, 256, 3)\n"
          ],
          "name": "stdout"
        },
        {
          "output_type": "stream",
          "text": [
            "Extracting Features:  30% |###########                         | ETA:   0:55:46"
          ],
          "name": "stderr"
        },
        {
          "output_type": "stream",
          "text": [
            "(32, 256, 256, 3)\n"
          ],
          "name": "stdout"
        },
        {
          "output_type": "stream",
          "text": [
            "\r                                                                               \r\rExtracting Features:  30% |###########                         | ETA:   0:55:36"
          ],
          "name": "stderr"
        },
        {
          "output_type": "stream",
          "text": [
            "(32, 256, 256, 3)\n"
          ],
          "name": "stdout"
        },
        {
          "output_type": "stream",
          "text": [
            "\r                                                                               \r\rExtracting Features:  31% |###########                         | ETA:   0:55:26"
          ],
          "name": "stderr"
        },
        {
          "output_type": "stream",
          "text": [
            "(32, 256, 256, 3)\n"
          ],
          "name": "stdout"
        },
        {
          "output_type": "stream",
          "text": [
            "\r                                                                               \r\rExtracting Features:  31% |###########                         | ETA:   0:55:16"
          ],
          "name": "stderr"
        },
        {
          "output_type": "stream",
          "text": [
            "(32, 256, 256, 3)\n"
          ],
          "name": "stdout"
        },
        {
          "output_type": "stream",
          "text": [
            "\r                                                                               \r\rExtracting Features:  31% |###########                         | ETA:   0:55:09"
          ],
          "name": "stderr"
        },
        {
          "output_type": "stream",
          "text": [
            "(32, 256, 256, 3)\n"
          ],
          "name": "stdout"
        },
        {
          "output_type": "stream",
          "text": [
            "\r                                                                               \r\rExtracting Features:  31% |###########                         | ETA:   0:55:01"
          ],
          "name": "stderr"
        },
        {
          "output_type": "stream",
          "text": [
            "(32, 256, 256, 3)\n"
          ],
          "name": "stdout"
        },
        {
          "output_type": "stream",
          "text": [
            "\r                                                                               \r\rExtracting Features:  31% |###########                         | ETA:   0:54:53"
          ],
          "name": "stderr"
        },
        {
          "output_type": "stream",
          "text": [
            "(32, 256, 256, 3)\n"
          ],
          "name": "stdout"
        },
        {
          "output_type": "stream",
          "text": [
            "\r                                                                               \r\rExtracting Features:  31% |###########                         | ETA:   0:54:44"
          ],
          "name": "stderr"
        },
        {
          "output_type": "stream",
          "text": [
            "(32, 256, 256, 3)\n"
          ],
          "name": "stdout"
        },
        {
          "output_type": "stream",
          "text": [
            "\r                                                                               \r\rExtracting Features:  32% |###########                         | ETA:   0:54:33"
          ],
          "name": "stderr"
        },
        {
          "output_type": "stream",
          "text": [
            "(32, 256, 256, 3)\n"
          ],
          "name": "stdout"
        },
        {
          "output_type": "stream",
          "text": [
            "\r                                                                               \r\rExtracting Features:  32% |###########                         | ETA:   0:54:25"
          ],
          "name": "stderr"
        },
        {
          "output_type": "stream",
          "text": [
            "(32, 256, 256, 3)\n"
          ],
          "name": "stdout"
        },
        {
          "output_type": "stream",
          "text": [
            "\r                                                                               \r\rExtracting Features:  32% |###########                         | ETA:   0:54:15"
          ],
          "name": "stderr"
        },
        {
          "output_type": "stream",
          "text": [
            "(32, 256, 256, 3)\n"
          ],
          "name": "stdout"
        },
        {
          "output_type": "stream",
          "text": [
            "\r                                                                               \r\rExtracting Features:  32% |###########                         | ETA:   0:54:05"
          ],
          "name": "stderr"
        },
        {
          "output_type": "stream",
          "text": [
            "(32, 256, 256, 3)\n"
          ],
          "name": "stdout"
        },
        {
          "output_type": "stream",
          "text": [
            "\r                                                                               \r\rExtracting Features:  32% |###########                         | ETA:   0:53:56"
          ],
          "name": "stderr"
        },
        {
          "output_type": "stream",
          "text": [
            "(32, 256, 256, 3)\n"
          ],
          "name": "stdout"
        },
        {
          "output_type": "stream",
          "text": [
            "\r                                                                               \r\rExtracting Features:  32% |###########                         | ETA:   0:53:46"
          ],
          "name": "stderr"
        },
        {
          "output_type": "stream",
          "text": [
            "(32, 256, 256, 3)\n"
          ],
          "name": "stdout"
        },
        {
          "output_type": "stream",
          "text": [
            "\r                                                                               \r\rExtracting Features:  32% |###########                         | ETA:   0:53:38"
          ],
          "name": "stderr"
        },
        {
          "output_type": "stream",
          "text": [
            "(32, 256, 256, 3)\n"
          ],
          "name": "stdout"
        },
        {
          "output_type": "stream",
          "text": [
            "\r                                                                               \r\rExtracting Features:  33% |###########                         | ETA:   0:53:30"
          ],
          "name": "stderr"
        },
        {
          "output_type": "stream",
          "text": [
            "(32, 256, 256, 3)\n"
          ],
          "name": "stdout"
        },
        {
          "output_type": "stream",
          "text": [
            "\r                                                                               \r\rExtracting Features:  33% |###########                         | ETA:   0:53:22"
          ],
          "name": "stderr"
        },
        {
          "output_type": "stream",
          "text": [
            "(32, 256, 256, 3)\n"
          ],
          "name": "stdout"
        },
        {
          "output_type": "stream",
          "text": [
            "\r                                                                               \r\rExtracting Features:  33% |############                        | ETA:   0:53:15"
          ],
          "name": "stderr"
        },
        {
          "output_type": "stream",
          "text": [
            "(32, 256, 256, 3)\n"
          ],
          "name": "stdout"
        },
        {
          "output_type": "stream",
          "text": [
            "\r                                                                               \r\rExtracting Features:  33% |############                        | ETA:   0:53:07"
          ],
          "name": "stderr"
        },
        {
          "output_type": "stream",
          "text": [
            "(32, 256, 256, 3)\n"
          ],
          "name": "stdout"
        },
        {
          "output_type": "stream",
          "text": [
            "\r                                                                               \r\rExtracting Features:  33% |############                        | ETA:   0:53:00"
          ],
          "name": "stderr"
        },
        {
          "output_type": "stream",
          "text": [
            "(32, 256, 256, 3)\n"
          ],
          "name": "stdout"
        },
        {
          "output_type": "stream",
          "text": [
            "\r                                                                               \r\rExtracting Features:  33% |############                        | ETA:   0:52:52"
          ],
          "name": "stderr"
        },
        {
          "output_type": "stream",
          "text": [
            "(32, 256, 256, 3)\n"
          ],
          "name": "stdout"
        },
        {
          "output_type": "stream",
          "text": [
            "\r                                                                               \r\rExtracting Features:  34% |############                        | ETA:   0:52:44"
          ],
          "name": "stderr"
        },
        {
          "output_type": "stream",
          "text": [
            "(32, 256, 256, 3)\n"
          ],
          "name": "stdout"
        },
        {
          "output_type": "stream",
          "text": [
            "\r                                                                               \r\rExtracting Features:  34% |############                        | ETA:   0:52:36"
          ],
          "name": "stderr"
        },
        {
          "output_type": "stream",
          "text": [
            "(32, 256, 256, 3)\n"
          ],
          "name": "stdout"
        },
        {
          "output_type": "stream",
          "text": [
            "\r                                                                               \r\rExtracting Features:  34% |############                        | ETA:   0:52:27"
          ],
          "name": "stderr"
        },
        {
          "output_type": "stream",
          "text": [
            "(32, 256, 256, 3)\n"
          ],
          "name": "stdout"
        },
        {
          "output_type": "stream",
          "text": [
            "\r                                                                               \r\rExtracting Features:  34% |############                        | ETA:   0:52:19"
          ],
          "name": "stderr"
        },
        {
          "output_type": "stream",
          "text": [
            "(32, 256, 256, 3)\n"
          ],
          "name": "stdout"
        },
        {
          "output_type": "stream",
          "text": [
            "\r                                                                               \r\rExtracting Features:  34% |############                        | ETA:   0:52:10"
          ],
          "name": "stderr"
        },
        {
          "output_type": "stream",
          "text": [
            "(32, 256, 256, 3)\n"
          ],
          "name": "stdout"
        },
        {
          "output_type": "stream",
          "text": [
            "\r                                                                               \r\rExtracting Features:  34% |############                        | ETA:   0:52:01"
          ],
          "name": "stderr"
        },
        {
          "output_type": "stream",
          "text": [
            "(32, 256, 256, 3)\n"
          ],
          "name": "stdout"
        },
        {
          "output_type": "stream",
          "text": [
            "\r                                                                               \r\rExtracting Features:  35% |############                        | ETA:   0:51:52"
          ],
          "name": "stderr"
        },
        {
          "output_type": "stream",
          "text": [
            "(32, 256, 256, 3)\n"
          ],
          "name": "stdout"
        },
        {
          "output_type": "stream",
          "text": [
            "\r                                                                               \r\rExtracting Features:  35% |############                        | ETA:   0:51:43"
          ],
          "name": "stderr"
        },
        {
          "output_type": "stream",
          "text": [
            "(32, 256, 256, 3)\n"
          ],
          "name": "stdout"
        },
        {
          "output_type": "stream",
          "text": [
            "\r                                                                               \r\rExtracting Features:  35% |############                        | ETA:   0:51:35"
          ],
          "name": "stderr"
        },
        {
          "output_type": "stream",
          "text": [
            "(32, 256, 256, 3)\n"
          ],
          "name": "stdout"
        },
        {
          "output_type": "stream",
          "text": [
            "\r                                                                               \r\rExtracting Features:  35% |############                        | ETA:   0:51:27"
          ],
          "name": "stderr"
        },
        {
          "output_type": "stream",
          "text": [
            "(32, 256, 256, 3)\n",
            "(32, 256, 256, 3)\n"
          ],
          "name": "stdout"
        },
        {
          "output_type": "stream",
          "text": [
            "Extracting Features:  35% |############                        | ETA:   0:51:34"
          ],
          "name": "stderr"
        },
        {
          "output_type": "stream",
          "text": [
            "(32, 256, 256, 3)\n"
          ],
          "name": "stdout"
        },
        {
          "output_type": "stream",
          "text": [
            "\r                                                                               \r\rExtracting Features:  36% |############                        | ETA:   0:51:26"
          ],
          "name": "stderr"
        },
        {
          "output_type": "stream",
          "text": [
            "(32, 256, 256, 3)\n"
          ],
          "name": "stdout"
        },
        {
          "output_type": "stream",
          "text": [
            "\r                                                                               \r\rExtracting Features:  36% |#############                       | ETA:   0:51:19"
          ],
          "name": "stderr"
        },
        {
          "output_type": "stream",
          "text": [
            "(32, 256, 256, 3)\n"
          ],
          "name": "stdout"
        },
        {
          "output_type": "stream",
          "text": [
            "\r                                                                               \r\rExtracting Features:  36% |#############                       | ETA:   0:51:12"
          ],
          "name": "stderr"
        },
        {
          "output_type": "stream",
          "text": [
            "(32, 256, 256, 3)\n"
          ],
          "name": "stdout"
        },
        {
          "output_type": "stream",
          "text": [
            "\r                                                                               \r\rExtracting Features:  36% |#############                       | ETA:   0:51:04"
          ],
          "name": "stderr"
        },
        {
          "output_type": "stream",
          "text": [
            "(32, 256, 256, 3)\n"
          ],
          "name": "stdout"
        },
        {
          "output_type": "stream",
          "text": [
            "\r                                                                               \r\rExtracting Features:  36% |#############                       | ETA:   0:50:56"
          ],
          "name": "stderr"
        },
        {
          "output_type": "stream",
          "text": [
            "(32, 256, 256, 3)\n"
          ],
          "name": "stdout"
        },
        {
          "output_type": "stream",
          "text": [
            "\r                                                                               \r\rExtracting Features:  36% |#############                       | ETA:   0:50:48"
          ],
          "name": "stderr"
        },
        {
          "output_type": "stream",
          "text": [
            "(32, 256, 256, 3)\n"
          ],
          "name": "stdout"
        },
        {
          "output_type": "stream",
          "text": [
            "\r                                                                               \r\rExtracting Features:  36% |#############                       | ETA:   0:50:40"
          ],
          "name": "stderr"
        },
        {
          "output_type": "stream",
          "text": [
            "(32, 256, 256, 3)\n"
          ],
          "name": "stdout"
        },
        {
          "output_type": "stream",
          "text": [
            "\r                                                                               \r\rExtracting Features:  37% |#############                       | ETA:   0:50:30"
          ],
          "name": "stderr"
        },
        {
          "output_type": "stream",
          "text": [
            "(32, 256, 256, 3)\n"
          ],
          "name": "stdout"
        },
        {
          "output_type": "stream",
          "text": [
            "\r                                                                               \r\rExtracting Features:  37% |#############                       | ETA:   0:50:21"
          ],
          "name": "stderr"
        },
        {
          "output_type": "stream",
          "text": [
            "(32, 256, 256, 3)\n"
          ],
          "name": "stdout"
        },
        {
          "output_type": "stream",
          "text": [
            "\r                                                                               \r\rExtracting Features:  37% |#############                       | ETA:   0:50:13"
          ],
          "name": "stderr"
        },
        {
          "output_type": "stream",
          "text": [
            "(32, 256, 256, 3)\n"
          ],
          "name": "stdout"
        },
        {
          "output_type": "stream",
          "text": [
            "\r                                                                               \r\rExtracting Features:  37% |#############                       | ETA:   0:50:06"
          ],
          "name": "stderr"
        },
        {
          "output_type": "stream",
          "text": [
            "(32, 256, 256, 3)\n"
          ],
          "name": "stdout"
        },
        {
          "output_type": "stream",
          "text": [
            "\r                                                                               \r\rExtracting Features:  37% |#############                       | ETA:   0:49:58"
          ],
          "name": "stderr"
        },
        {
          "output_type": "stream",
          "text": [
            "(32, 256, 256, 3)\n"
          ],
          "name": "stdout"
        },
        {
          "output_type": "stream",
          "text": [
            "\r                                                                               \r\rExtracting Features:  37% |#############                       | ETA:   0:49:49"
          ],
          "name": "stderr"
        },
        {
          "output_type": "stream",
          "text": [
            "(32, 256, 256, 3)\n"
          ],
          "name": "stdout"
        },
        {
          "output_type": "stream",
          "text": [
            "\r                                                                               \r\rExtracting Features:  38% |#############                       | ETA:   0:49:41"
          ],
          "name": "stderr"
        },
        {
          "output_type": "stream",
          "text": [
            "(32, 256, 256, 3)\n"
          ],
          "name": "stdout"
        },
        {
          "output_type": "stream",
          "text": [
            "\r                                                                               \r\rExtracting Features:  38% |#############                       | ETA:   0:49:33"
          ],
          "name": "stderr"
        },
        {
          "output_type": "stream",
          "text": [
            "(32, 256, 256, 3)\n"
          ],
          "name": "stdout"
        },
        {
          "output_type": "stream",
          "text": [
            "\r                                                                               \r\rExtracting Features:  38% |#############                       | ETA:   0:49:25"
          ],
          "name": "stderr"
        },
        {
          "output_type": "stream",
          "text": [
            "(32, 256, 256, 3)\n"
          ],
          "name": "stdout"
        },
        {
          "output_type": "stream",
          "text": [
            "\r                                                                               \r\rExtracting Features:  38% |#############                       | ETA:   0:49:17"
          ],
          "name": "stderr"
        },
        {
          "output_type": "stream",
          "text": [
            "(32, 256, 256, 3)\n"
          ],
          "name": "stdout"
        },
        {
          "output_type": "stream",
          "text": [
            "\r                                                                               \r\rExtracting Features:  38% |#############                       | ETA:   0:49:08"
          ],
          "name": "stderr"
        },
        {
          "output_type": "stream",
          "text": [
            "(32, 256, 256, 3)\n"
          ],
          "name": "stdout"
        },
        {
          "output_type": "stream",
          "text": [
            "\r                                                                               \r\rExtracting Features:  38% |#############                       | ETA:   0:49:00"
          ],
          "name": "stderr"
        },
        {
          "output_type": "stream",
          "text": [
            "(32, 256, 256, 3)\n"
          ],
          "name": "stdout"
        },
        {
          "output_type": "stream",
          "text": [
            "\r                                                                               \r\rExtracting Features:  39% |##############                      | ETA:   0:48:52"
          ],
          "name": "stderr"
        },
        {
          "output_type": "stream",
          "text": [
            "(32, 256, 256, 3)\n"
          ],
          "name": "stdout"
        },
        {
          "output_type": "stream",
          "text": [
            "\r                                                                               \r\rExtracting Features:  39% |##############                      | ETA:   0:48:45"
          ],
          "name": "stderr"
        },
        {
          "output_type": "stream",
          "text": [
            "(32, 256, 256, 3)\n"
          ],
          "name": "stdout"
        },
        {
          "output_type": "stream",
          "text": [
            "\r                                                                               \r\rExtracting Features:  39% |##############                      | ETA:   0:48:35"
          ],
          "name": "stderr"
        },
        {
          "output_type": "stream",
          "text": [
            "(32, 256, 256, 3)\n"
          ],
          "name": "stdout"
        },
        {
          "output_type": "stream",
          "text": [
            "\r                                                                               \r\rExtracting Features:  39% |##############                      | ETA:   0:48:27"
          ],
          "name": "stderr"
        },
        {
          "output_type": "stream",
          "text": [
            "(32, 256, 256, 3)\n"
          ],
          "name": "stdout"
        },
        {
          "output_type": "stream",
          "text": [
            "\r                                                                               \r\rExtracting Features:  39% |##############                      | ETA:   0:48:19"
          ],
          "name": "stderr"
        },
        {
          "output_type": "stream",
          "text": [
            "(32, 256, 256, 3)\n"
          ],
          "name": "stdout"
        },
        {
          "output_type": "stream",
          "text": [
            "\r                                                                               \r\rExtracting Features:  39% |##############                      | ETA:   0:48:10"
          ],
          "name": "stderr"
        },
        {
          "output_type": "stream",
          "text": [
            "(32, 256, 256, 3)\n"
          ],
          "name": "stdout"
        },
        {
          "output_type": "stream",
          "text": [
            "\r                                                                               \r\rExtracting Features:  40% |##############                      | ETA:   0:48:02"
          ],
          "name": "stderr"
        },
        {
          "output_type": "stream",
          "text": [
            "(32, 256, 256, 3)\n"
          ],
          "name": "stdout"
        },
        {
          "output_type": "stream",
          "text": [
            "\r                                                                               \r\rExtracting Features:  40% |##############                      | ETA:   0:47:53"
          ],
          "name": "stderr"
        },
        {
          "output_type": "stream",
          "text": [
            "(32, 256, 256, 3)\n"
          ],
          "name": "stdout"
        },
        {
          "output_type": "stream",
          "text": [
            "\r                                                                               \r\rExtracting Features:  40% |##############                      | ETA:   0:47:45"
          ],
          "name": "stderr"
        },
        {
          "output_type": "stream",
          "text": [
            "(32, 256, 256, 3)\n"
          ],
          "name": "stdout"
        },
        {
          "output_type": "stream",
          "text": [
            "\r                                                                               \r\rExtracting Features:  40% |##############                      | ETA:   0:47:37"
          ],
          "name": "stderr"
        },
        {
          "output_type": "stream",
          "text": [
            "(32, 256, 256, 3)\n"
          ],
          "name": "stdout"
        },
        {
          "output_type": "stream",
          "text": [
            "\r                                                                               \r\rExtracting Features:  40% |##############                      | ETA:   0:47:28"
          ],
          "name": "stderr"
        },
        {
          "output_type": "stream",
          "text": [
            "(32, 256, 256, 3)\n",
            "(32, 256, 256, 3)\n"
          ],
          "name": "stdout"
        },
        {
          "output_type": "stream",
          "text": [
            "Extracting Features:  40% |##############                      | ETA:   0:47:26"
          ],
          "name": "stderr"
        },
        {
          "output_type": "stream",
          "text": [
            "(32, 256, 256, 3)\n"
          ],
          "name": "stdout"
        },
        {
          "output_type": "stream",
          "text": [
            "\r                                                                               \r\rExtracting Features:  41% |##############                      | ETA:   0:47:18"
          ],
          "name": "stderr"
        },
        {
          "output_type": "stream",
          "text": [
            "(32, 256, 256, 3)\n"
          ],
          "name": "stdout"
        },
        {
          "output_type": "stream",
          "text": [
            "\r                                                                               \r\rExtracting Features:  41% |##############                      | ETA:   0:47:09"
          ],
          "name": "stderr"
        },
        {
          "output_type": "stream",
          "text": [
            "(32, 256, 256, 3)\n"
          ],
          "name": "stdout"
        },
        {
          "output_type": "stream",
          "text": [
            "\r                                                                               \r\rExtracting Features:  41% |##############                      | ETA:   0:47:00"
          ],
          "name": "stderr"
        },
        {
          "output_type": "stream",
          "text": [
            "(32, 256, 256, 3)\n"
          ],
          "name": "stdout"
        },
        {
          "output_type": "stream",
          "text": [
            "\r                                                                               \r\rExtracting Features:  41% |##############                      | ETA:   0:46:53"
          ],
          "name": "stderr"
        },
        {
          "output_type": "stream",
          "text": [
            "(32, 256, 256, 3)\n"
          ],
          "name": "stdout"
        },
        {
          "output_type": "stream",
          "text": [
            "\r                                                                               \r\rExtracting Features:  41% |###############                     | ETA:   0:46:46"
          ],
          "name": "stderr"
        },
        {
          "output_type": "stream",
          "text": [
            "(32, 256, 256, 3)\n"
          ],
          "name": "stdout"
        },
        {
          "output_type": "stream",
          "text": [
            "\r                                                                               \r\rExtracting Features:  41% |###############                     | ETA:   0:46:38"
          ],
          "name": "stderr"
        },
        {
          "output_type": "stream",
          "text": [
            "(32, 256, 256, 3)\n"
          ],
          "name": "stdout"
        },
        {
          "output_type": "stream",
          "text": [
            "\r                                                                               \r\rExtracting Features:  42% |###############                     | ETA:   0:46:30"
          ],
          "name": "stderr"
        },
        {
          "output_type": "stream",
          "text": [
            "(32, 256, 256, 3)\n"
          ],
          "name": "stdout"
        },
        {
          "output_type": "stream",
          "text": [
            "\r                                                                               \r\rExtracting Features:  42% |###############                     | ETA:   0:46:22"
          ],
          "name": "stderr"
        },
        {
          "output_type": "stream",
          "text": [
            "(32, 256, 256, 3)\n"
          ],
          "name": "stdout"
        },
        {
          "output_type": "stream",
          "text": [
            "\r                                                                               \r\rExtracting Features:  42% |###############                     | ETA:   0:46:15"
          ],
          "name": "stderr"
        },
        {
          "output_type": "stream",
          "text": [
            "(32, 256, 256, 3)\n"
          ],
          "name": "stdout"
        },
        {
          "output_type": "stream",
          "text": [
            "\r                                                                               \r\rExtracting Features:  42% |###############                     | ETA:   0:46:07"
          ],
          "name": "stderr"
        },
        {
          "output_type": "stream",
          "text": [
            "(32, 256, 256, 3)\n"
          ],
          "name": "stdout"
        },
        {
          "output_type": "stream",
          "text": [
            "\r                                                                               \r\rExtracting Features:  42% |###############                     | ETA:   0:45:58"
          ],
          "name": "stderr"
        },
        {
          "output_type": "stream",
          "text": [
            "(32, 256, 256, 3)\n"
          ],
          "name": "stdout"
        },
        {
          "output_type": "stream",
          "text": [
            "\r                                                                               \r\rExtracting Features:  42% |###############                     | ETA:   0:45:49"
          ],
          "name": "stderr"
        },
        {
          "output_type": "stream",
          "text": [
            "(32, 256, 256, 3)\n"
          ],
          "name": "stdout"
        },
        {
          "output_type": "stream",
          "text": [
            "\r                                                                               \r\rExtracting Features:  43% |###############                     | ETA:   0:45:40"
          ],
          "name": "stderr"
        },
        {
          "output_type": "stream",
          "text": [
            "(32, 256, 256, 3)\n"
          ],
          "name": "stdout"
        },
        {
          "output_type": "stream",
          "text": [
            "\r                                                                               \r\rExtracting Features:  43% |###############                     | ETA:   0:45:32"
          ],
          "name": "stderr"
        },
        {
          "output_type": "stream",
          "text": [
            "(32, 256, 256, 3)\n"
          ],
          "name": "stdout"
        },
        {
          "output_type": "stream",
          "text": [
            "\r                                                                               \r\rExtracting Features:  43% |###############                     | ETA:   0:45:24"
          ],
          "name": "stderr"
        },
        {
          "output_type": "stream",
          "text": [
            "(32, 256, 256, 3)\n"
          ],
          "name": "stdout"
        },
        {
          "output_type": "stream",
          "text": [
            "\r                                                                               \r\rExtracting Features:  43% |###############                     | ETA:   0:45:17"
          ],
          "name": "stderr"
        },
        {
          "output_type": "stream",
          "text": [
            "(32, 256, 256, 3)\n"
          ],
          "name": "stdout"
        },
        {
          "output_type": "stream",
          "text": [
            "\r                                                                               \r\rExtracting Features:  43% |###############                     | ETA:   0:45:08"
          ],
          "name": "stderr"
        },
        {
          "output_type": "stream",
          "text": [
            "(32, 256, 256, 3)\n"
          ],
          "name": "stdout"
        },
        {
          "output_type": "stream",
          "text": [
            "\r                                                                               \r\rExtracting Features:  43% |###############                     | ETA:   0:45:00"
          ],
          "name": "stderr"
        },
        {
          "output_type": "stream",
          "text": [
            "(32, 256, 256, 3)\n"
          ],
          "name": "stdout"
        },
        {
          "output_type": "stream",
          "text": [
            "\r                                                                               \r\rExtracting Features:  44% |###############                     | ETA:   0:44:52"
          ],
          "name": "stderr"
        },
        {
          "output_type": "stream",
          "text": [
            "(32, 256, 256, 3)\n"
          ],
          "name": "stdout"
        },
        {
          "output_type": "stream",
          "text": [
            "\r                                                                               \r\rExtracting Features:  44% |###############                     | ETA:   0:44:43"
          ],
          "name": "stderr"
        },
        {
          "output_type": "stream",
          "text": [
            "(32, 256, 256, 3)\n"
          ],
          "name": "stdout"
        },
        {
          "output_type": "stream",
          "text": [
            "\r                                                                               \r\rExtracting Features:  44% |###############                     | ETA:   0:44:35"
          ],
          "name": "stderr"
        },
        {
          "output_type": "stream",
          "text": [
            "(32, 256, 256, 3)\n"
          ],
          "name": "stdout"
        },
        {
          "output_type": "stream",
          "text": [
            "\r                                                                               \r\rExtracting Features:  44% |################                    | ETA:   0:44:27"
          ],
          "name": "stderr"
        },
        {
          "output_type": "stream",
          "text": [
            "(32, 256, 256, 3)\n"
          ],
          "name": "stdout"
        },
        {
          "output_type": "stream",
          "text": [
            "\r                                                                               \r\rExtracting Features:  44% |################                    | ETA:   0:44:18"
          ],
          "name": "stderr"
        },
        {
          "output_type": "stream",
          "text": [
            "(32, 256, 256, 3)\n"
          ],
          "name": "stdout"
        },
        {
          "output_type": "stream",
          "text": [
            "\r                                                                               \r\rExtracting Features:  44% |################                    | ETA:   0:44:10"
          ],
          "name": "stderr"
        },
        {
          "output_type": "stream",
          "text": [
            "(32, 256, 256, 3)\n"
          ],
          "name": "stdout"
        },
        {
          "output_type": "stream",
          "text": [
            "\r                                                                               \r\rExtracting Features:  44% |################                    | ETA:   0:44:00"
          ],
          "name": "stderr"
        },
        {
          "output_type": "stream",
          "text": [
            "(32, 256, 256, 3)\n"
          ],
          "name": "stdout"
        },
        {
          "output_type": "stream",
          "text": [
            "\r                                                                               \r\rExtracting Features:  45% |################                    | ETA:   0:43:52"
          ],
          "name": "stderr"
        },
        {
          "output_type": "stream",
          "text": [
            "(32, 256, 256, 3)\n"
          ],
          "name": "stdout"
        },
        {
          "output_type": "stream",
          "text": [
            "\r                                                                               \r\rExtracting Features:  45% |################                    | ETA:   0:43:44"
          ],
          "name": "stderr"
        },
        {
          "output_type": "stream",
          "text": [
            "(32, 256, 256, 3)\n"
          ],
          "name": "stdout"
        },
        {
          "output_type": "stream",
          "text": [
            "\r                                                                               \r\rExtracting Features:  45% |################                    | ETA:   0:43:36"
          ],
          "name": "stderr"
        },
        {
          "output_type": "stream",
          "text": [
            "(32, 256, 256, 3)\n"
          ],
          "name": "stdout"
        },
        {
          "output_type": "stream",
          "text": [
            "\r                                                                               \r\rExtracting Features:  45% |################                    | ETA:   0:43:28"
          ],
          "name": "stderr"
        },
        {
          "output_type": "stream",
          "text": [
            "(32, 256, 256, 3)\n"
          ],
          "name": "stdout"
        },
        {
          "output_type": "stream",
          "text": [
            "\r                                                                               \r\rExtracting Features:  45% |################                    | ETA:   0:43:20"
          ],
          "name": "stderr"
        },
        {
          "output_type": "stream",
          "text": [
            "(32, 256, 256, 3)\n",
            "(32, 256, 256, 3)\n"
          ],
          "name": "stdout"
        },
        {
          "output_type": "stream",
          "text": [
            "Extracting Features:  46% |################                    | ETA:   0:43:19"
          ],
          "name": "stderr"
        },
        {
          "output_type": "stream",
          "text": [
            "(32, 256, 256, 3)\n"
          ],
          "name": "stdout"
        },
        {
          "output_type": "stream",
          "text": [
            "\r                                                                               \r\rExtracting Features:  46% |################                    | ETA:   0:43:12"
          ],
          "name": "stderr"
        },
        {
          "output_type": "stream",
          "text": [
            "(32, 256, 256, 3)\n"
          ],
          "name": "stdout"
        },
        {
          "output_type": "stream",
          "text": [
            "\r                                                                               \r\rExtracting Features:  46% |################                    | ETA:   0:43:05"
          ],
          "name": "stderr"
        },
        {
          "output_type": "stream",
          "text": [
            "(32, 256, 256, 3)\n"
          ],
          "name": "stdout"
        },
        {
          "output_type": "stream",
          "text": [
            "\r                                                                               \r\rExtracting Features:  46% |################                    | ETA:   0:42:58"
          ],
          "name": "stderr"
        },
        {
          "output_type": "stream",
          "text": [
            "(32, 256, 256, 3)\n"
          ],
          "name": "stdout"
        },
        {
          "output_type": "stream",
          "text": [
            "\r                                                                               \r\rExtracting Features:  46% |################                    | ETA:   0:42:51"
          ],
          "name": "stderr"
        },
        {
          "output_type": "stream",
          "text": [
            "(32, 256, 256, 3)\n"
          ],
          "name": "stdout"
        },
        {
          "output_type": "stream",
          "text": [
            "\r                                                                               \r\rExtracting Features:  46% |################                    | ETA:   0:42:44"
          ],
          "name": "stderr"
        },
        {
          "output_type": "stream",
          "text": [
            "(32, 256, 256, 3)\n"
          ],
          "name": "stdout"
        },
        {
          "output_type": "stream",
          "text": [
            "\r                                                                               \r\rExtracting Features:  47% |################                    | ETA:   0:42:37"
          ],
          "name": "stderr"
        },
        {
          "output_type": "stream",
          "text": [
            "(32, 256, 256, 3)\n"
          ],
          "name": "stdout"
        },
        {
          "output_type": "stream",
          "text": [
            "\r                                                                               \r\rExtracting Features:  47% |################                    | ETA:   0:42:31"
          ],
          "name": "stderr"
        },
        {
          "output_type": "stream",
          "text": [
            "(32, 256, 256, 3)\n"
          ],
          "name": "stdout"
        },
        {
          "output_type": "stream",
          "text": [
            "\r                                                                               \r\rExtracting Features:  47% |#################                   | ETA:   0:42:24"
          ],
          "name": "stderr"
        },
        {
          "output_type": "stream",
          "text": [
            "(32, 256, 256, 3)\n"
          ],
          "name": "stdout"
        },
        {
          "output_type": "stream",
          "text": [
            "\r                                                                               \r\rExtracting Features:  47% |#################                   | ETA:   0:42:18"
          ],
          "name": "stderr"
        },
        {
          "output_type": "stream",
          "text": [
            "(32, 256, 256, 3)\n"
          ],
          "name": "stdout"
        },
        {
          "output_type": "stream",
          "text": [
            "\r                                                                               \r\rExtracting Features:  47% |#################                   | ETA:   0:42:12"
          ],
          "name": "stderr"
        },
        {
          "output_type": "stream",
          "text": [
            "(32, 256, 256, 3)\n"
          ],
          "name": "stdout"
        },
        {
          "output_type": "stream",
          "text": [
            "\r                                                                               \r\rExtracting Features:  47% |#################                   | ETA:   0:42:05"
          ],
          "name": "stderr"
        },
        {
          "output_type": "stream",
          "text": [
            "(32, 256, 256, 3)\n"
          ],
          "name": "stdout"
        },
        {
          "output_type": "stream",
          "text": [
            "\r                                                                               \r\rExtracting Features:  48% |#################                   | ETA:   0:41:59"
          ],
          "name": "stderr"
        },
        {
          "output_type": "stream",
          "text": [
            "(32, 256, 256, 3)\n"
          ],
          "name": "stdout"
        },
        {
          "output_type": "stream",
          "text": [
            "\r                                                                               \r\rExtracting Features:  48% |#################                   | ETA:   0:41:53"
          ],
          "name": "stderr"
        },
        {
          "output_type": "stream",
          "text": [
            "(32, 256, 256, 3)\n"
          ],
          "name": "stdout"
        },
        {
          "output_type": "stream",
          "text": [
            "\r                                                                               \r\rExtracting Features:  48% |#################                   | ETA:   0:41:45"
          ],
          "name": "stderr"
        },
        {
          "output_type": "stream",
          "text": [
            "(32, 256, 256, 3)\n"
          ],
          "name": "stdout"
        },
        {
          "output_type": "stream",
          "text": [
            "\r                                                                               \r\rExtracting Features:  48% |#################                   | ETA:   0:41:38"
          ],
          "name": "stderr"
        },
        {
          "output_type": "stream",
          "text": [
            "(32, 256, 256, 3)\n"
          ],
          "name": "stdout"
        },
        {
          "output_type": "stream",
          "text": [
            "\r                                                                               \r\rExtracting Features:  48% |#################                   | ETA:   0:41:32"
          ],
          "name": "stderr"
        },
        {
          "output_type": "stream",
          "text": [
            "(32, 256, 256, 3)\n"
          ],
          "name": "stdout"
        },
        {
          "output_type": "stream",
          "text": [
            "\r                                                                               \r\rExtracting Features:  48% |#################                   | ETA:   0:41:25"
          ],
          "name": "stderr"
        },
        {
          "output_type": "stream",
          "text": [
            "(32, 256, 256, 3)\n"
          ],
          "name": "stdout"
        },
        {
          "output_type": "stream",
          "text": [
            "\r                                                                               \r\rExtracting Features:  48% |#################                   | ETA:   0:41:18"
          ],
          "name": "stderr"
        },
        {
          "output_type": "stream",
          "text": [
            "(32, 256, 256, 3)\n"
          ],
          "name": "stdout"
        },
        {
          "output_type": "stream",
          "text": [
            "\r                                                                               \r\rExtracting Features:  49% |#################                   | ETA:   0:41:12"
          ],
          "name": "stderr"
        },
        {
          "output_type": "stream",
          "text": [
            "(32, 256, 256, 3)\n"
          ],
          "name": "stdout"
        },
        {
          "output_type": "stream",
          "text": [
            "\r                                                                               \r\rExtracting Features:  49% |#################                   | ETA:   0:41:06"
          ],
          "name": "stderr"
        },
        {
          "output_type": "stream",
          "text": [
            "(32, 256, 256, 3)\n"
          ],
          "name": "stdout"
        },
        {
          "output_type": "stream",
          "text": [
            "\r                                                                               \r\rExtracting Features:  49% |#################                   | ETA:   0:41:00"
          ],
          "name": "stderr"
        },
        {
          "output_type": "stream",
          "text": [
            "(32, 256, 256, 3)\n"
          ],
          "name": "stdout"
        },
        {
          "output_type": "stream",
          "text": [
            "\r                                                                               \r\rExtracting Features:  49% |#################                   | ETA:   0:40:54"
          ],
          "name": "stderr"
        },
        {
          "output_type": "stream",
          "text": [
            "(32, 256, 256, 3)\n"
          ],
          "name": "stdout"
        },
        {
          "output_type": "stream",
          "text": [
            "\r                                                                               \r\rExtracting Features:  49% |#################                   | ETA:   0:40:46"
          ],
          "name": "stderr"
        },
        {
          "output_type": "stream",
          "text": [
            "(32, 256, 256, 3)\n"
          ],
          "name": "stdout"
        },
        {
          "output_type": "stream",
          "text": [
            "\r                                                                               \r\rExtracting Features:  49% |#################                   | ETA:   0:40:38"
          ],
          "name": "stderr"
        },
        {
          "output_type": "stream",
          "text": [
            "(32, 256, 256, 3)\n"
          ],
          "name": "stdout"
        },
        {
          "output_type": "stream",
          "text": [
            "\r                                                                               \r\rExtracting Features:  50% |##################                  | ETA:   0:40:30"
          ],
          "name": "stderr"
        },
        {
          "output_type": "stream",
          "text": [
            "(32, 256, 256, 3)\n"
          ],
          "name": "stdout"
        },
        {
          "output_type": "stream",
          "text": [
            "\r                                                                               \r\rExtracting Features:  50% |##################                  | ETA:   0:40:23"
          ],
          "name": "stderr"
        },
        {
          "output_type": "stream",
          "text": [
            "(32, 256, 256, 3)\n"
          ],
          "name": "stdout"
        },
        {
          "output_type": "stream",
          "text": [
            "\r                                                                               \r\rExtracting Features:  50% |##################                  | ETA:   0:40:15"
          ],
          "name": "stderr"
        },
        {
          "output_type": "stream",
          "text": [
            "(32, 256, 256, 3)\n"
          ],
          "name": "stdout"
        },
        {
          "output_type": "stream",
          "text": [
            "\r                                                                               \r\rExtracting Features:  50% |##################                  | ETA:   0:40:08"
          ],
          "name": "stderr"
        },
        {
          "output_type": "stream",
          "text": [
            "(32, 256, 256, 3)\n"
          ],
          "name": "stdout"
        },
        {
          "output_type": "stream",
          "text": [
            "\r                                                                               \r\rExtracting Features:  50% |##################                  | ETA:   0:40:00"
          ],
          "name": "stderr"
        },
        {
          "output_type": "stream",
          "text": [
            "(32, 256, 256, 3)\n"
          ],
          "name": "stdout"
        },
        {
          "output_type": "stream",
          "text": [
            "\r                                                                               \r\rExtracting Features:  50% |##################                  | ETA:   0:39:53"
          ],
          "name": "stderr"
        },
        {
          "output_type": "stream",
          "text": [
            "(32, 256, 256, 3)\n",
            "(32, 256, 256, 3)\n"
          ],
          "name": "stdout"
        },
        {
          "output_type": "stream",
          "text": [
            "Extracting Features:  51% |##################                  | ETA:   0:39:50"
          ],
          "name": "stderr"
        },
        {
          "output_type": "stream",
          "text": [
            "(32, 256, 256, 3)\n"
          ],
          "name": "stdout"
        },
        {
          "output_type": "stream",
          "text": [
            "\r                                                                               \r\rExtracting Features:  51% |##################                  | ETA:   0:39:42"
          ],
          "name": "stderr"
        },
        {
          "output_type": "stream",
          "text": [
            "(32, 256, 256, 3)\n"
          ],
          "name": "stdout"
        },
        {
          "output_type": "stream",
          "text": [
            "\r                                                                               \r\rExtracting Features:  51% |##################                  | ETA:   0:39:34"
          ],
          "name": "stderr"
        },
        {
          "output_type": "stream",
          "text": [
            "(32, 256, 256, 3)\n"
          ],
          "name": "stdout"
        },
        {
          "output_type": "stream",
          "text": [
            "\r                                                                               \r\rExtracting Features:  51% |##################                  | ETA:   0:39:26"
          ],
          "name": "stderr"
        },
        {
          "output_type": "stream",
          "text": [
            "(32, 256, 256, 3)\n"
          ],
          "name": "stdout"
        },
        {
          "output_type": "stream",
          "text": [
            "\r                                                                               \r\rExtracting Features:  51% |##################                  | ETA:   0:39:18"
          ],
          "name": "stderr"
        },
        {
          "output_type": "stream",
          "text": [
            "(32, 256, 256, 3)\n"
          ],
          "name": "stdout"
        },
        {
          "output_type": "stream",
          "text": [
            "\r                                                                               \r\rExtracting Features:  52% |##################                  | ETA:   0:39:10"
          ],
          "name": "stderr"
        },
        {
          "output_type": "stream",
          "text": [
            "(32, 256, 256, 3)\n"
          ],
          "name": "stdout"
        },
        {
          "output_type": "stream",
          "text": [
            "\r                                                                               \r\rExtracting Features:  52% |##################                  | ETA:   0:39:02"
          ],
          "name": "stderr"
        },
        {
          "output_type": "stream",
          "text": [
            "(32, 256, 256, 3)\n"
          ],
          "name": "stdout"
        },
        {
          "output_type": "stream",
          "text": [
            "\r                                                                               \r\rExtracting Features:  52% |##################                  | ETA:   0:38:53"
          ],
          "name": "stderr"
        },
        {
          "output_type": "stream",
          "text": [
            "(32, 256, 256, 3)\n"
          ],
          "name": "stdout"
        },
        {
          "output_type": "stream",
          "text": [
            "\r                                                                               \r\rExtracting Features:  52% |##################                  | ETA:   0:38:45"
          ],
          "name": "stderr"
        },
        {
          "output_type": "stream",
          "text": [
            "(32, 256, 256, 3)\n"
          ],
          "name": "stdout"
        },
        {
          "output_type": "stream",
          "text": [
            "\r                                                                               \r\rExtracting Features:  52% |##################                  | ETA:   0:38:36"
          ],
          "name": "stderr"
        },
        {
          "output_type": "stream",
          "text": [
            "(32, 256, 256, 3)\n"
          ],
          "name": "stdout"
        },
        {
          "output_type": "stream",
          "text": [
            "\r                                                                               \r\rExtracting Features:  52% |###################                 | ETA:   0:38:28"
          ],
          "name": "stderr"
        },
        {
          "output_type": "stream",
          "text": [
            "(32, 256, 256, 3)\n"
          ],
          "name": "stdout"
        },
        {
          "output_type": "stream",
          "text": [
            "\r                                                                               \r\rExtracting Features:  52% |###################                 | ETA:   0:38:19"
          ],
          "name": "stderr"
        },
        {
          "output_type": "stream",
          "text": [
            "(32, 256, 256, 3)\n"
          ],
          "name": "stdout"
        },
        {
          "output_type": "stream",
          "text": [
            "\r                                                                               \r\rExtracting Features:  53% |###################                 | ETA:   0:38:11"
          ],
          "name": "stderr"
        },
        {
          "output_type": "stream",
          "text": [
            "(32, 256, 256, 3)\n"
          ],
          "name": "stdout"
        },
        {
          "output_type": "stream",
          "text": [
            "\r                                                                               \r\rExtracting Features:  53% |###################                 | ETA:   0:38:02"
          ],
          "name": "stderr"
        },
        {
          "output_type": "stream",
          "text": [
            "(32, 256, 256, 3)\n"
          ],
          "name": "stdout"
        },
        {
          "output_type": "stream",
          "text": [
            "\r                                                                               \r\rExtracting Features:  53% |###################                 | ETA:   0:37:53"
          ],
          "name": "stderr"
        },
        {
          "output_type": "stream",
          "text": [
            "(32, 256, 256, 3)\n"
          ],
          "name": "stdout"
        },
        {
          "output_type": "stream",
          "text": [
            "\r                                                                               \r\rExtracting Features:  53% |###################                 | ETA:   0:37:45"
          ],
          "name": "stderr"
        },
        {
          "output_type": "stream",
          "text": [
            "(32, 256, 256, 3)\n"
          ],
          "name": "stdout"
        },
        {
          "output_type": "stream",
          "text": [
            "\r                                                                               \r\rExtracting Features:  53% |###################                 | ETA:   0:37:37"
          ],
          "name": "stderr"
        },
        {
          "output_type": "stream",
          "text": [
            "(32, 256, 256, 3)\n"
          ],
          "name": "stdout"
        },
        {
          "output_type": "stream",
          "text": [
            "\r                                                                               \r\rExtracting Features:  53% |###################                 | ETA:   0:37:29"
          ],
          "name": "stderr"
        },
        {
          "output_type": "stream",
          "text": [
            "(32, 256, 256, 3)\n"
          ],
          "name": "stdout"
        },
        {
          "output_type": "stream",
          "text": [
            "\r                                                                               \r\rExtracting Features:  54% |###################                 | ETA:   0:37:21"
          ],
          "name": "stderr"
        },
        {
          "output_type": "stream",
          "text": [
            "(32, 256, 256, 3)\n"
          ],
          "name": "stdout"
        },
        {
          "output_type": "stream",
          "text": [
            "\r                                                                               \r\rExtracting Features:  54% |###################                 | ETA:   0:37:12"
          ],
          "name": "stderr"
        },
        {
          "output_type": "stream",
          "text": [
            "(32, 256, 256, 3)\n"
          ],
          "name": "stdout"
        },
        {
          "output_type": "stream",
          "text": [
            "\r                                                                               \r\rExtracting Features:  54% |###################                 | ETA:   0:37:04"
          ],
          "name": "stderr"
        },
        {
          "output_type": "stream",
          "text": [
            "(32, 256, 256, 3)\n"
          ],
          "name": "stdout"
        },
        {
          "output_type": "stream",
          "text": [
            "\r                                                                               \r\rExtracting Features:  54% |###################                 | ETA:   0:36:55"
          ],
          "name": "stderr"
        },
        {
          "output_type": "stream",
          "text": [
            "(32, 256, 256, 3)\n"
          ],
          "name": "stdout"
        },
        {
          "output_type": "stream",
          "text": [
            "\r                                                                               \r\rExtracting Features:  54% |###################                 | ETA:   0:36:47"
          ],
          "name": "stderr"
        },
        {
          "output_type": "stream",
          "text": [
            "(32, 256, 256, 3)\n"
          ],
          "name": "stdout"
        },
        {
          "output_type": "stream",
          "text": [
            "\r                                                                               \r\rExtracting Features:  54% |###################                 | ETA:   0:36:39"
          ],
          "name": "stderr"
        },
        {
          "output_type": "stream",
          "text": [
            "(32, 256, 256, 3)\n"
          ],
          "name": "stdout"
        },
        {
          "output_type": "stream",
          "text": [
            "\r                                                                               \r\rExtracting Features:  55% |###################                 | ETA:   0:36:31"
          ],
          "name": "stderr"
        },
        {
          "output_type": "stream",
          "text": [
            "(32, 256, 256, 3)\n"
          ],
          "name": "stdout"
        },
        {
          "output_type": "stream",
          "text": [
            "\r                                                                               \r\rExtracting Features:  55% |###################                 | ETA:   0:36:22"
          ],
          "name": "stderr"
        },
        {
          "output_type": "stream",
          "text": [
            "(32, 256, 256, 3)\n"
          ],
          "name": "stdout"
        },
        {
          "output_type": "stream",
          "text": [
            "\r                                                                               \r\rExtracting Features:  55% |###################                 | ETA:   0:36:14"
          ],
          "name": "stderr"
        },
        {
          "output_type": "stream",
          "text": [
            "(32, 256, 256, 3)\n"
          ],
          "name": "stdout"
        },
        {
          "output_type": "stream",
          "text": [
            "\r                                                                               \r\rExtracting Features:  55% |###################                 | ETA:   0:36:06"
          ],
          "name": "stderr"
        },
        {
          "output_type": "stream",
          "text": [
            "(32, 256, 256, 3)\n"
          ],
          "name": "stdout"
        },
        {
          "output_type": "stream",
          "text": [
            "\r                                                                               \r\rExtracting Features:  55% |####################                | ETA:   0:35:57"
          ],
          "name": "stderr"
        },
        {
          "output_type": "stream",
          "text": [
            "(32, 256, 256, 3)\n"
          ],
          "name": "stdout"
        },
        {
          "output_type": "stream",
          "text": [
            "\r                                                                               \r\rExtracting Features:  55% |####################                | ETA:   0:35:49"
          ],
          "name": "stderr"
        },
        {
          "output_type": "stream",
          "text": [
            "(32, 256, 256, 3)\n"
          ],
          "name": "stdout"
        },
        {
          "output_type": "stream",
          "text": [
            "\r                                                                               \r\rExtracting Features:  56% |####################                | ETA:   0:35:41"
          ],
          "name": "stderr"
        },
        {
          "output_type": "stream",
          "text": [
            "(32, 256, 256, 3)\n",
            "(32, 256, 256, 3)\n"
          ],
          "name": "stdout"
        },
        {
          "output_type": "stream",
          "text": [
            "Extracting Features:  56% |####################                | ETA:   0:35:31"
          ],
          "name": "stderr"
        },
        {
          "output_type": "stream",
          "text": [
            "(32, 256, 256, 3)\n"
          ],
          "name": "stdout"
        },
        {
          "output_type": "stream",
          "text": [
            "\r                                                                               \r\rExtracting Features:  56% |####################                | ETA:   0:35:23"
          ],
          "name": "stderr"
        },
        {
          "output_type": "stream",
          "text": [
            "(32, 256, 256, 3)\n"
          ],
          "name": "stdout"
        },
        {
          "output_type": "stream",
          "text": [
            "\r                                                                               \r\rExtracting Features:  56% |####################                | ETA:   0:35:15"
          ],
          "name": "stderr"
        },
        {
          "output_type": "stream",
          "text": [
            "(32, 256, 256, 3)\n"
          ],
          "name": "stdout"
        },
        {
          "output_type": "stream",
          "text": [
            "\r                                                                               \r\rExtracting Features:  56% |####################                | ETA:   0:35:07"
          ],
          "name": "stderr"
        },
        {
          "output_type": "stream",
          "text": [
            "(32, 256, 256, 3)\n"
          ],
          "name": "stdout"
        },
        {
          "output_type": "stream",
          "text": [
            "\r                                                                               \r\rExtracting Features:  56% |####################                | ETA:   0:34:58"
          ],
          "name": "stderr"
        },
        {
          "output_type": "stream",
          "text": [
            "(32, 256, 256, 3)\n"
          ],
          "name": "stdout"
        },
        {
          "output_type": "stream",
          "text": [
            "\r                                                                               \r\rExtracting Features:  57% |####################                | ETA:   0:34:50"
          ],
          "name": "stderr"
        },
        {
          "output_type": "stream",
          "text": [
            "(32, 256, 256, 3)\n"
          ],
          "name": "stdout"
        },
        {
          "output_type": "stream",
          "text": [
            "\r                                                                               \r\rExtracting Features:  57% |####################                | ETA:   0:34:43"
          ],
          "name": "stderr"
        },
        {
          "output_type": "stream",
          "text": [
            "(32, 256, 256, 3)\n"
          ],
          "name": "stdout"
        },
        {
          "output_type": "stream",
          "text": [
            "\r                                                                               \r\rExtracting Features:  57% |####################                | ETA:   0:34:36"
          ],
          "name": "stderr"
        },
        {
          "output_type": "stream",
          "text": [
            "(32, 256, 256, 3)\n"
          ],
          "name": "stdout"
        },
        {
          "output_type": "stream",
          "text": [
            "\r                                                                               \r\rExtracting Features:  57% |####################                | ETA:   0:34:28"
          ],
          "name": "stderr"
        },
        {
          "output_type": "stream",
          "text": [
            "(32, 256, 256, 3)\n"
          ],
          "name": "stdout"
        },
        {
          "output_type": "stream",
          "text": [
            "\r                                                                               \r\rExtracting Features:  57% |####################                | ETA:   0:34:20"
          ],
          "name": "stderr"
        },
        {
          "output_type": "stream",
          "text": [
            "(32, 256, 256, 3)\n"
          ],
          "name": "stdout"
        },
        {
          "output_type": "stream",
          "text": [
            "\r                                                                               \r\rExtracting Features:  57% |####################                | ETA:   0:34:12"
          ],
          "name": "stderr"
        },
        {
          "output_type": "stream",
          "text": [
            "(32, 256, 256, 3)\n"
          ],
          "name": "stdout"
        },
        {
          "output_type": "stream",
          "text": [
            "\r                                                                               \r\rExtracting Features:  58% |####################                | ETA:   0:34:04"
          ],
          "name": "stderr"
        },
        {
          "output_type": "stream",
          "text": [
            "(32, 256, 256, 3)\n"
          ],
          "name": "stdout"
        },
        {
          "output_type": "stream",
          "text": [
            "\r                                                                               \r\rExtracting Features:  58% |####################                | ETA:   0:33:56"
          ],
          "name": "stderr"
        },
        {
          "output_type": "stream",
          "text": [
            "(32, 256, 256, 3)\n"
          ],
          "name": "stdout"
        },
        {
          "output_type": "stream",
          "text": [
            "\r                                                                               \r\rExtracting Features:  58% |#####################               | ETA:   0:33:48"
          ],
          "name": "stderr"
        },
        {
          "output_type": "stream",
          "text": [
            "(32, 256, 256, 3)\n"
          ],
          "name": "stdout"
        },
        {
          "output_type": "stream",
          "text": [
            "\r                                                                               \r\rExtracting Features:  58% |#####################               | ETA:   0:33:40"
          ],
          "name": "stderr"
        },
        {
          "output_type": "stream",
          "text": [
            "(32, 256, 256, 3)\n"
          ],
          "name": "stdout"
        },
        {
          "output_type": "stream",
          "text": [
            "\r                                                                               \r\rExtracting Features:  58% |#####################               | ETA:   0:33:32"
          ],
          "name": "stderr"
        },
        {
          "output_type": "stream",
          "text": [
            "(32, 256, 256, 3)\n"
          ],
          "name": "stdout"
        },
        {
          "output_type": "stream",
          "text": [
            "\r                                                                               \r\rExtracting Features:  58% |#####################               | ETA:   0:33:24"
          ],
          "name": "stderr"
        },
        {
          "output_type": "stream",
          "text": [
            "(32, 256, 256, 3)\n"
          ],
          "name": "stdout"
        },
        {
          "output_type": "stream",
          "text": [
            "\r                                                                               \r\rExtracting Features:  59% |#####################               | ETA:   0:33:16"
          ],
          "name": "stderr"
        },
        {
          "output_type": "stream",
          "text": [
            "(32, 256, 256, 3)\n"
          ],
          "name": "stdout"
        },
        {
          "output_type": "stream",
          "text": [
            "\r                                                                               \r\rExtracting Features:  59% |#####################               | ETA:   0:33:08"
          ],
          "name": "stderr"
        },
        {
          "output_type": "stream",
          "text": [
            "(32, 256, 256, 3)\n"
          ],
          "name": "stdout"
        },
        {
          "output_type": "stream",
          "text": [
            "\r                                                                               \r\rExtracting Features:  59% |#####################               | ETA:   0:33:00"
          ],
          "name": "stderr"
        },
        {
          "output_type": "stream",
          "text": [
            "(32, 256, 256, 3)\n"
          ],
          "name": "stdout"
        },
        {
          "output_type": "stream",
          "text": [
            "\r                                                                               \r\rExtracting Features:  59% |#####################               | ETA:   0:32:52"
          ],
          "name": "stderr"
        },
        {
          "output_type": "stream",
          "text": [
            "(32, 256, 256, 3)\n"
          ],
          "name": "stdout"
        },
        {
          "output_type": "stream",
          "text": [
            "\r                                                                               \r\rExtracting Features:  59% |#####################               | ETA:   0:32:44"
          ],
          "name": "stderr"
        },
        {
          "output_type": "stream",
          "text": [
            "(32, 256, 256, 3)\n"
          ],
          "name": "stdout"
        },
        {
          "output_type": "stream",
          "text": [
            "\r                                                                               \r\rExtracting Features:  59% |#####################               | ETA:   0:32:35"
          ],
          "name": "stderr"
        },
        {
          "output_type": "stream",
          "text": [
            "(32, 256, 256, 3)\n"
          ],
          "name": "stdout"
        },
        {
          "output_type": "stream",
          "text": [
            "\r                                                                               \r\rExtracting Features:  60% |#####################               | ETA:   0:32:27"
          ],
          "name": "stderr"
        },
        {
          "output_type": "stream",
          "text": [
            "(32, 256, 256, 3)\n"
          ],
          "name": "stdout"
        },
        {
          "output_type": "stream",
          "text": [
            "\r                                                                               \r\rExtracting Features:  60% |#####################               | ETA:   0:32:18"
          ],
          "name": "stderr"
        },
        {
          "output_type": "stream",
          "text": [
            "(32, 256, 256, 3)\n"
          ],
          "name": "stdout"
        },
        {
          "output_type": "stream",
          "text": [
            "\r                                                                               \r\rExtracting Features:  60% |#####################               | ETA:   0:32:10"
          ],
          "name": "stderr"
        },
        {
          "output_type": "stream",
          "text": [
            "(32, 256, 256, 3)\n"
          ],
          "name": "stdout"
        },
        {
          "output_type": "stream",
          "text": [
            "\r                                                                               \r\rExtracting Features:  60% |#####################               | ETA:   0:32:02"
          ],
          "name": "stderr"
        },
        {
          "output_type": "stream",
          "text": [
            "(32, 256, 256, 3)\n"
          ],
          "name": "stdout"
        },
        {
          "output_type": "stream",
          "text": [
            "\r                                                                               \r\rExtracting Features:  60% |#####################               | ETA:   0:31:53"
          ],
          "name": "stderr"
        },
        {
          "output_type": "stream",
          "text": [
            "(32, 256, 256, 3)\n"
          ],
          "name": "stdout"
        },
        {
          "output_type": "stream",
          "text": [
            "\r                                                                               \r\rExtracting Features:  60% |#####################               | ETA:   0:31:45"
          ],
          "name": "stderr"
        },
        {
          "output_type": "stream",
          "text": [
            "(32, 256, 256, 3)\n"
          ],
          "name": "stdout"
        },
        {
          "output_type": "stream",
          "text": [
            "\r                                                                               \r\rExtracting Features:  60% |#####################               | ETA:   0:31:37"
          ],
          "name": "stderr"
        },
        {
          "output_type": "stream",
          "text": [
            "(32, 256, 256, 3)\n"
          ],
          "name": "stdout"
        },
        {
          "output_type": "stream",
          "text": [
            "\r                                                                               \r\rExtracting Features:  61% |######################              | ETA:   0:31:29"
          ],
          "name": "stderr"
        },
        {
          "output_type": "stream",
          "text": [
            "(32, 256, 256, 3)\n",
            "(32, 256, 256, 3)\n"
          ],
          "name": "stdout"
        },
        {
          "output_type": "stream",
          "text": [
            "Extracting Features:  61% |######################              | ETA:   0:31:17"
          ],
          "name": "stderr"
        },
        {
          "output_type": "stream",
          "text": [
            "(32, 256, 256, 3)\n"
          ],
          "name": "stdout"
        },
        {
          "output_type": "stream",
          "text": [
            "\r                                                                               \r\rExtracting Features:  61% |######################              | ETA:   0:31:09"
          ],
          "name": "stderr"
        },
        {
          "output_type": "stream",
          "text": [
            "(32, 256, 256, 3)\n"
          ],
          "name": "stdout"
        },
        {
          "output_type": "stream",
          "text": [
            "\r                                                                               \r\rExtracting Features:  61% |######################              | ETA:   0:31:01"
          ],
          "name": "stderr"
        },
        {
          "output_type": "stream",
          "text": [
            "(32, 256, 256, 3)\n"
          ],
          "name": "stdout"
        },
        {
          "output_type": "stream",
          "text": [
            "\r                                                                               \r\rExtracting Features:  61% |######################              | ETA:   0:30:53"
          ],
          "name": "stderr"
        },
        {
          "output_type": "stream",
          "text": [
            "(32, 256, 256, 3)\n"
          ],
          "name": "stdout"
        },
        {
          "output_type": "stream",
          "text": [
            "\r                                                                               \r\rExtracting Features:  62% |######################              | ETA:   0:30:45"
          ],
          "name": "stderr"
        },
        {
          "output_type": "stream",
          "text": [
            "(32, 256, 256, 3)\n"
          ],
          "name": "stdout"
        },
        {
          "output_type": "stream",
          "text": [
            "\r                                                                               \r\rExtracting Features:  62% |######################              | ETA:   0:30:37"
          ],
          "name": "stderr"
        },
        {
          "output_type": "stream",
          "text": [
            "(32, 256, 256, 3)\n"
          ],
          "name": "stdout"
        },
        {
          "output_type": "stream",
          "text": [
            "\r                                                                               \r\rExtracting Features:  62% |######################              | ETA:   0:30:29"
          ],
          "name": "stderr"
        },
        {
          "output_type": "stream",
          "text": [
            "(32, 256, 256, 3)\n"
          ],
          "name": "stdout"
        },
        {
          "output_type": "stream",
          "text": [
            "\r                                                                               \r\rExtracting Features:  62% |######################              | ETA:   0:30:21"
          ],
          "name": "stderr"
        },
        {
          "output_type": "stream",
          "text": [
            "(32, 256, 256, 3)\n"
          ],
          "name": "stdout"
        },
        {
          "output_type": "stream",
          "text": [
            "\r                                                                               \r\rExtracting Features:  62% |######################              | ETA:   0:30:13"
          ],
          "name": "stderr"
        },
        {
          "output_type": "stream",
          "text": [
            "(32, 256, 256, 3)\n"
          ],
          "name": "stdout"
        },
        {
          "output_type": "stream",
          "text": [
            "\r                                                                               \r\rExtracting Features:  62% |######################              | ETA:   0:30:05"
          ],
          "name": "stderr"
        },
        {
          "output_type": "stream",
          "text": [
            "(32, 256, 256, 3)\n"
          ],
          "name": "stdout"
        },
        {
          "output_type": "stream",
          "text": [
            "\r                                                                               \r\rExtracting Features:  63% |######################              | ETA:   0:29:57"
          ],
          "name": "stderr"
        },
        {
          "output_type": "stream",
          "text": [
            "(32, 256, 256, 3)\n"
          ],
          "name": "stdout"
        },
        {
          "output_type": "stream",
          "text": [
            "\r                                                                               \r\rExtracting Features:  63% |######################              | ETA:   0:29:49"
          ],
          "name": "stderr"
        },
        {
          "output_type": "stream",
          "text": [
            "(32, 256, 256, 3)\n"
          ],
          "name": "stdout"
        },
        {
          "output_type": "stream",
          "text": [
            "\r                                                                               \r\rExtracting Features:  63% |######################              | ETA:   0:29:41"
          ],
          "name": "stderr"
        },
        {
          "output_type": "stream",
          "text": [
            "(32, 256, 256, 3)\n"
          ],
          "name": "stdout"
        },
        {
          "output_type": "stream",
          "text": [
            "\r                                                                               \r\rExtracting Features:  63% |######################              | ETA:   0:29:33"
          ],
          "name": "stderr"
        },
        {
          "output_type": "stream",
          "text": [
            "(32, 256, 256, 3)\n"
          ],
          "name": "stdout"
        },
        {
          "output_type": "stream",
          "text": [
            "\r                                                                               \r\rExtracting Features:  63% |######################              | ETA:   0:29:26"
          ],
          "name": "stderr"
        },
        {
          "output_type": "stream",
          "text": [
            "(32, 256, 256, 3)\n"
          ],
          "name": "stdout"
        },
        {
          "output_type": "stream",
          "text": [
            "\r                                                                               \r\rExtracting Features:  63% |######################              | ETA:   0:29:18"
          ],
          "name": "stderr"
        },
        {
          "output_type": "stream",
          "text": [
            "(32, 256, 256, 3)\n"
          ],
          "name": "stdout"
        },
        {
          "output_type": "stream",
          "text": [
            "\r                                                                               \r\rExtracting Features:  64% |#######################             | ETA:   0:29:10"
          ],
          "name": "stderr"
        },
        {
          "output_type": "stream",
          "text": [
            "(32, 256, 256, 3)\n"
          ],
          "name": "stdout"
        },
        {
          "output_type": "stream",
          "text": [
            "\r                                                                               \r\rExtracting Features:  64% |#######################             | ETA:   0:29:02"
          ],
          "name": "stderr"
        },
        {
          "output_type": "stream",
          "text": [
            "(32, 256, 256, 3)\n"
          ],
          "name": "stdout"
        },
        {
          "output_type": "stream",
          "text": [
            "\r                                                                               \r\rExtracting Features:  64% |#######################             | ETA:   0:28:54"
          ],
          "name": "stderr"
        },
        {
          "output_type": "stream",
          "text": [
            "(32, 256, 256, 3)\n"
          ],
          "name": "stdout"
        },
        {
          "output_type": "stream",
          "text": [
            "\r                                                                               \r\rExtracting Features:  64% |#######################             | ETA:   0:28:46"
          ],
          "name": "stderr"
        },
        {
          "output_type": "stream",
          "text": [
            "(32, 256, 256, 3)\n"
          ],
          "name": "stdout"
        },
        {
          "output_type": "stream",
          "text": [
            "\r                                                                               \r\rExtracting Features:  64% |#######################             | ETA:   0:28:38"
          ],
          "name": "stderr"
        },
        {
          "output_type": "stream",
          "text": [
            "(32, 256, 256, 3)\n"
          ],
          "name": "stdout"
        },
        {
          "output_type": "stream",
          "text": [
            "\r                                                                               \r\rExtracting Features:  64% |#######################             | ETA:   0:28:30"
          ],
          "name": "stderr"
        },
        {
          "output_type": "stream",
          "text": [
            "(32, 256, 256, 3)\n"
          ],
          "name": "stdout"
        },
        {
          "output_type": "stream",
          "text": [
            "\r                                                                               \r\rExtracting Features:  64% |#######################             | ETA:   0:28:22"
          ],
          "name": "stderr"
        },
        {
          "output_type": "stream",
          "text": [
            "(32, 256, 256, 3)\n"
          ],
          "name": "stdout"
        },
        {
          "output_type": "stream",
          "text": [
            "\r                                                                               \r\rExtracting Features:  65% |#######################             | ETA:   0:28:14"
          ],
          "name": "stderr"
        },
        {
          "output_type": "stream",
          "text": [
            "(32, 256, 256, 3)\n"
          ],
          "name": "stdout"
        },
        {
          "output_type": "stream",
          "text": [
            "\r                                                                               \r\rExtracting Features:  65% |#######################             | ETA:   0:28:06"
          ],
          "name": "stderr"
        },
        {
          "output_type": "stream",
          "text": [
            "(32, 256, 256, 3)\n"
          ],
          "name": "stdout"
        },
        {
          "output_type": "stream",
          "text": [
            "\r                                                                               \r\rExtracting Features:  65% |#######################             | ETA:   0:27:58"
          ],
          "name": "stderr"
        },
        {
          "output_type": "stream",
          "text": [
            "(32, 256, 256, 3)\n"
          ],
          "name": "stdout"
        },
        {
          "output_type": "stream",
          "text": [
            "\r                                                                               \r\rExtracting Features:  65% |#######################             | ETA:   0:27:50"
          ],
          "name": "stderr"
        },
        {
          "output_type": "stream",
          "text": [
            "(32, 256, 256, 3)\n"
          ],
          "name": "stdout"
        },
        {
          "output_type": "stream",
          "text": [
            "\r                                                                               \r\rExtracting Features:  65% |#######################             | ETA:   0:27:42"
          ],
          "name": "stderr"
        },
        {
          "output_type": "stream",
          "text": [
            "(32, 256, 256, 3)\n"
          ],
          "name": "stdout"
        },
        {
          "output_type": "stream",
          "text": [
            "\r                                                                               \r\rExtracting Features:  65% |#######################             | ETA:   0:27:34"
          ],
          "name": "stderr"
        },
        {
          "output_type": "stream",
          "text": [
            "(32, 256, 256, 3)\n"
          ],
          "name": "stdout"
        },
        {
          "output_type": "stream",
          "text": [
            "\r                                                                               \r\rExtracting Features:  66% |#######################             | ETA:   0:27:26"
          ],
          "name": "stderr"
        },
        {
          "output_type": "stream",
          "text": [
            "(32, 256, 256, 3)\n"
          ],
          "name": "stdout"
        },
        {
          "output_type": "stream",
          "text": [
            "\r                                                                               \r\rExtracting Features:  66% |#######################             | ETA:   0:27:18"
          ],
          "name": "stderr"
        },
        {
          "output_type": "stream",
          "text": [
            "(32, 256, 256, 3)\n",
            "(32, 256, 256, 3)\n"
          ],
          "name": "stdout"
        },
        {
          "output_type": "stream",
          "text": [
            "Extracting Features:  66% |#######################             | ETA:   0:27:07"
          ],
          "name": "stderr"
        },
        {
          "output_type": "stream",
          "text": [
            "(32, 256, 256, 3)\n"
          ],
          "name": "stdout"
        },
        {
          "output_type": "stream",
          "text": [
            "\r                                                                               \r\rExtracting Features:  66% |########################            | ETA:   0:26:59"
          ],
          "name": "stderr"
        },
        {
          "output_type": "stream",
          "text": [
            "(32, 256, 256, 3)\n"
          ],
          "name": "stdout"
        },
        {
          "output_type": "stream",
          "text": [
            "\r                                                                               \r\rExtracting Features:  66% |########################            | ETA:   0:26:51"
          ],
          "name": "stderr"
        },
        {
          "output_type": "stream",
          "text": [
            "(32, 256, 256, 3)\n"
          ],
          "name": "stdout"
        },
        {
          "output_type": "stream",
          "text": [
            "\r                                                                               \r\rExtracting Features:  67% |########################            | ETA:   0:26:43"
          ],
          "name": "stderr"
        },
        {
          "output_type": "stream",
          "text": [
            "(32, 256, 256, 3)\n"
          ],
          "name": "stdout"
        },
        {
          "output_type": "stream",
          "text": [
            "\r                                                                               \r\rExtracting Features:  67% |########################            | ETA:   0:26:35"
          ],
          "name": "stderr"
        },
        {
          "output_type": "stream",
          "text": [
            "(32, 256, 256, 3)\n"
          ],
          "name": "stdout"
        },
        {
          "output_type": "stream",
          "text": [
            "\r                                                                               \r\rExtracting Features:  67% |########################            | ETA:   0:26:27"
          ],
          "name": "stderr"
        },
        {
          "output_type": "stream",
          "text": [
            "(32, 256, 256, 3)\n"
          ],
          "name": "stdout"
        },
        {
          "output_type": "stream",
          "text": [
            "\r                                                                               \r\rExtracting Features:  67% |########################            | ETA:   0:26:19"
          ],
          "name": "stderr"
        },
        {
          "output_type": "stream",
          "text": [
            "(32, 256, 256, 3)\n"
          ],
          "name": "stdout"
        },
        {
          "output_type": "stream",
          "text": [
            "\r                                                                               \r\rExtracting Features:  67% |########################            | ETA:   0:26:11"
          ],
          "name": "stderr"
        },
        {
          "output_type": "stream",
          "text": [
            "(32, 256, 256, 3)\n"
          ],
          "name": "stdout"
        },
        {
          "output_type": "stream",
          "text": [
            "\r                                                                               \r\rExtracting Features:  67% |########################            | ETA:   0:26:03"
          ],
          "name": "stderr"
        },
        {
          "output_type": "stream",
          "text": [
            "(32, 256, 256, 3)\n"
          ],
          "name": "stdout"
        },
        {
          "output_type": "stream",
          "text": [
            "\r                                                                               \r\rExtracting Features:  68% |########################            | ETA:   0:25:55"
          ],
          "name": "stderr"
        },
        {
          "output_type": "stream",
          "text": [
            "(32, 256, 256, 3)\n"
          ],
          "name": "stdout"
        },
        {
          "output_type": "stream",
          "text": [
            "\r                                                                               \r\rExtracting Features:  68% |########################            | ETA:   0:25:47"
          ],
          "name": "stderr"
        },
        {
          "output_type": "stream",
          "text": [
            "(32, 256, 256, 3)\n"
          ],
          "name": "stdout"
        },
        {
          "output_type": "stream",
          "text": [
            "\r                                                                               \r\rExtracting Features:  68% |########################            | ETA:   0:25:39"
          ],
          "name": "stderr"
        },
        {
          "output_type": "stream",
          "text": [
            "(32, 256, 256, 3)\n"
          ],
          "name": "stdout"
        },
        {
          "output_type": "stream",
          "text": [
            "\r                                                                               \r\rExtracting Features:  68% |########################            | ETA:   0:25:31"
          ],
          "name": "stderr"
        },
        {
          "output_type": "stream",
          "text": [
            "(32, 256, 256, 3)\n"
          ],
          "name": "stdout"
        },
        {
          "output_type": "stream",
          "text": [
            "\r                                                                               \r\rExtracting Features:  68% |########################            | ETA:   0:25:23"
          ],
          "name": "stderr"
        },
        {
          "output_type": "stream",
          "text": [
            "(32, 256, 256, 3)\n"
          ],
          "name": "stdout"
        },
        {
          "output_type": "stream",
          "text": [
            "\r                                                                               \r\rExtracting Features:  68% |########################            | ETA:   0:25:15"
          ],
          "name": "stderr"
        },
        {
          "output_type": "stream",
          "text": [
            "(32, 256, 256, 3)\n"
          ],
          "name": "stdout"
        },
        {
          "output_type": "stream",
          "text": [
            "\r                                                                               \r\rExtracting Features:  68% |########################            | ETA:   0:25:08"
          ],
          "name": "stderr"
        },
        {
          "output_type": "stream",
          "text": [
            "(32, 256, 256, 3)\n"
          ],
          "name": "stdout"
        },
        {
          "output_type": "stream",
          "text": [
            "\r                                                                               \r\rExtracting Features:  69% |########################            | ETA:   0:25:01"
          ],
          "name": "stderr"
        },
        {
          "output_type": "stream",
          "text": [
            "(32, 256, 256, 3)\n"
          ],
          "name": "stdout"
        },
        {
          "output_type": "stream",
          "text": [
            "\r                                                                               \r\rExtracting Features:  69% |########################            | ETA:   0:24:53"
          ],
          "name": "stderr"
        },
        {
          "output_type": "stream",
          "text": [
            "(32, 256, 256, 3)\n"
          ],
          "name": "stdout"
        },
        {
          "output_type": "stream",
          "text": [
            "\r                                                                               \r\rExtracting Features:  69% |########################            | ETA:   0:24:45"
          ],
          "name": "stderr"
        },
        {
          "output_type": "stream",
          "text": [
            "(32, 256, 256, 3)\n"
          ],
          "name": "stdout"
        },
        {
          "output_type": "stream",
          "text": [
            "\r                                                                               \r\rExtracting Features:  69% |#########################           | ETA:   0:24:37"
          ],
          "name": "stderr"
        },
        {
          "output_type": "stream",
          "text": [
            "(32, 256, 256, 3)\n"
          ],
          "name": "stdout"
        },
        {
          "output_type": "stream",
          "text": [
            "\r                                                                               \r\rExtracting Features:  69% |#########################           | ETA:   0:24:29"
          ],
          "name": "stderr"
        },
        {
          "output_type": "stream",
          "text": [
            "(32, 256, 256, 3)\n"
          ],
          "name": "stdout"
        },
        {
          "output_type": "stream",
          "text": [
            "\r                                                                               \r\rExtracting Features:  69% |#########################           | ETA:   0:24:21"
          ],
          "name": "stderr"
        },
        {
          "output_type": "stream",
          "text": [
            "(32, 256, 256, 3)\n"
          ],
          "name": "stdout"
        },
        {
          "output_type": "stream",
          "text": [
            "\r                                                                               \r\rExtracting Features:  70% |#########################           | ETA:   0:24:13"
          ],
          "name": "stderr"
        },
        {
          "output_type": "stream",
          "text": [
            "(32, 256, 256, 3)\n"
          ],
          "name": "stdout"
        },
        {
          "output_type": "stream",
          "text": [
            "\r                                                                               \r\rExtracting Features:  70% |#########################           | ETA:   0:24:05"
          ],
          "name": "stderr"
        },
        {
          "output_type": "stream",
          "text": [
            "(32, 256, 256, 3)\n"
          ],
          "name": "stdout"
        },
        {
          "output_type": "stream",
          "text": [
            "\r                                                                               \r\rExtracting Features:  70% |#########################           | ETA:   0:23:57"
          ],
          "name": "stderr"
        },
        {
          "output_type": "stream",
          "text": [
            "(32, 256, 256, 3)\n"
          ],
          "name": "stdout"
        },
        {
          "output_type": "stream",
          "text": [
            "\r                                                                               \r\rExtracting Features:  70% |#########################           | ETA:   0:23:49"
          ],
          "name": "stderr"
        },
        {
          "output_type": "stream",
          "text": [
            "(32, 256, 256, 3)\n"
          ],
          "name": "stdout"
        },
        {
          "output_type": "stream",
          "text": [
            "\r                                                                               \r\rExtracting Features:  70% |#########################           | ETA:   0:23:41"
          ],
          "name": "stderr"
        },
        {
          "output_type": "stream",
          "text": [
            "(32, 256, 256, 3)\n"
          ],
          "name": "stdout"
        },
        {
          "output_type": "stream",
          "text": [
            "\r                                                                               \r\rExtracting Features:  70% |#########################           | ETA:   0:23:33"
          ],
          "name": "stderr"
        },
        {
          "output_type": "stream",
          "text": [
            "(32, 256, 256, 3)\n"
          ],
          "name": "stdout"
        },
        {
          "output_type": "stream",
          "text": [
            "\r                                                                               \r\rExtracting Features:  71% |#########################           | ETA:   0:23:25"
          ],
          "name": "stderr"
        },
        {
          "output_type": "stream",
          "text": [
            "(32, 256, 256, 3)\n"
          ],
          "name": "stdout"
        },
        {
          "output_type": "stream",
          "text": [
            "\r                                                                               \r\rExtracting Features:  71% |#########################           | ETA:   0:23:17"
          ],
          "name": "stderr"
        },
        {
          "output_type": "stream",
          "text": [
            "(32, 256, 256, 3)\n"
          ],
          "name": "stdout"
        },
        {
          "output_type": "stream",
          "text": [
            "\r                                                                               \r\rExtracting Features:  71% |#########################           | ETA:   0:23:09"
          ],
          "name": "stderr"
        },
        {
          "output_type": "stream",
          "text": [
            "(32, 256, 256, 3)\n",
            "(32, 256, 256, 3)\n"
          ],
          "name": "stdout"
        },
        {
          "output_type": "stream",
          "text": [
            "Extracting Features:  71% |#########################           | ETA:   0:22:59"
          ],
          "name": "stderr"
        },
        {
          "output_type": "stream",
          "text": [
            "(32, 256, 256, 3)\n"
          ],
          "name": "stdout"
        },
        {
          "output_type": "stream",
          "text": [
            "\r                                                                               \r\rExtracting Features:  71% |#########################           | ETA:   0:22:51"
          ],
          "name": "stderr"
        },
        {
          "output_type": "stream",
          "text": [
            "(32, 256, 256, 3)\n"
          ],
          "name": "stdout"
        },
        {
          "output_type": "stream",
          "text": [
            "\r                                                                               \r\rExtracting Features:  72% |#########################           | ETA:   0:22:43"
          ],
          "name": "stderr"
        },
        {
          "output_type": "stream",
          "text": [
            "(32, 256, 256, 3)\n"
          ],
          "name": "stdout"
        },
        {
          "output_type": "stream",
          "text": [
            "\r                                                                               \r\rExtracting Features:  72% |#########################           | ETA:   0:22:35"
          ],
          "name": "stderr"
        },
        {
          "output_type": "stream",
          "text": [
            "(32, 256, 256, 3)\n"
          ],
          "name": "stdout"
        },
        {
          "output_type": "stream",
          "text": [
            "\r                                                                               \r\rExtracting Features:  72% |##########################          | ETA:   0:22:26"
          ],
          "name": "stderr"
        },
        {
          "output_type": "stream",
          "text": [
            "(32, 256, 256, 3)\n"
          ],
          "name": "stdout"
        },
        {
          "output_type": "stream",
          "text": [
            "\r                                                                               \r\rExtracting Features:  72% |##########################          | ETA:   0:22:18"
          ],
          "name": "stderr"
        },
        {
          "output_type": "stream",
          "text": [
            "(32, 256, 256, 3)\n"
          ],
          "name": "stdout"
        },
        {
          "output_type": "stream",
          "text": [
            "\r                                                                               \r\rExtracting Features:  72% |##########################          | ETA:   0:22:10"
          ],
          "name": "stderr"
        },
        {
          "output_type": "stream",
          "text": [
            "(32, 256, 256, 3)\n"
          ],
          "name": "stdout"
        },
        {
          "output_type": "stream",
          "text": [
            "\r                                                                               \r\rExtracting Features:  72% |##########################          | ETA:   0:22:02"
          ],
          "name": "stderr"
        },
        {
          "output_type": "stream",
          "text": [
            "(32, 256, 256, 3)\n"
          ],
          "name": "stdout"
        },
        {
          "output_type": "stream",
          "text": [
            "\r                                                                               \r\rExtracting Features:  72% |##########################          | ETA:   0:21:54"
          ],
          "name": "stderr"
        },
        {
          "output_type": "stream",
          "text": [
            "(32, 256, 256, 3)\n"
          ],
          "name": "stdout"
        },
        {
          "output_type": "stream",
          "text": [
            "\r                                                                               \r\rExtracting Features:  73% |##########################          | ETA:   0:21:46"
          ],
          "name": "stderr"
        },
        {
          "output_type": "stream",
          "text": [
            "(32, 256, 256, 3)\n"
          ],
          "name": "stdout"
        },
        {
          "output_type": "stream",
          "text": [
            "\r                                                                               \r\rExtracting Features:  73% |##########################          | ETA:   0:21:38"
          ],
          "name": "stderr"
        },
        {
          "output_type": "stream",
          "text": [
            "(32, 256, 256, 3)\n"
          ],
          "name": "stdout"
        },
        {
          "output_type": "stream",
          "text": [
            "\r                                                                               \r\rExtracting Features:  73% |##########################          | ETA:   0:21:30"
          ],
          "name": "stderr"
        },
        {
          "output_type": "stream",
          "text": [
            "(32, 256, 256, 3)\n"
          ],
          "name": "stdout"
        },
        {
          "output_type": "stream",
          "text": [
            "\r                                                                               \r\rExtracting Features:  73% |##########################          | ETA:   0:21:22"
          ],
          "name": "stderr"
        },
        {
          "output_type": "stream",
          "text": [
            "(32, 256, 256, 3)\n"
          ],
          "name": "stdout"
        },
        {
          "output_type": "stream",
          "text": [
            "\r                                                                               \r\rExtracting Features:  73% |##########################          | ETA:   0:21:14"
          ],
          "name": "stderr"
        },
        {
          "output_type": "stream",
          "text": [
            "(32, 256, 256, 3)\n"
          ],
          "name": "stdout"
        },
        {
          "output_type": "stream",
          "text": [
            "\r                                                                               \r\rExtracting Features:  73% |##########################          | ETA:   0:21:06"
          ],
          "name": "stderr"
        },
        {
          "output_type": "stream",
          "text": [
            "(32, 256, 256, 3)\n"
          ],
          "name": "stdout"
        },
        {
          "output_type": "stream",
          "text": [
            "\r                                                                               \r\rExtracting Features:  74% |##########################          | ETA:   0:20:58"
          ],
          "name": "stderr"
        },
        {
          "output_type": "stream",
          "text": [
            "(32, 256, 256, 3)\n"
          ],
          "name": "stdout"
        },
        {
          "output_type": "stream",
          "text": [
            "\r                                                                               \r\rExtracting Features:  74% |##########################          | ETA:   0:20:50"
          ],
          "name": "stderr"
        },
        {
          "output_type": "stream",
          "text": [
            "(32, 256, 256, 3)\n"
          ],
          "name": "stdout"
        },
        {
          "output_type": "stream",
          "text": [
            "\r                                                                               \r\rExtracting Features:  74% |##########################          | ETA:   0:20:42"
          ],
          "name": "stderr"
        },
        {
          "output_type": "stream",
          "text": [
            "(32, 256, 256, 3)\n"
          ],
          "name": "stdout"
        },
        {
          "output_type": "stream",
          "text": [
            "\r                                                                               \r\rExtracting Features:  74% |##########################          | ETA:   0:20:34"
          ],
          "name": "stderr"
        },
        {
          "output_type": "stream",
          "text": [
            "(32, 256, 256, 3)\n"
          ],
          "name": "stdout"
        },
        {
          "output_type": "stream",
          "text": [
            "\r                                                                               \r\rExtracting Features:  74% |##########################          | ETA:   0:20:26"
          ],
          "name": "stderr"
        },
        {
          "output_type": "stream",
          "text": [
            "(32, 256, 256, 3)\n"
          ],
          "name": "stdout"
        },
        {
          "output_type": "stream",
          "text": [
            "\r                                                                               \r\rExtracting Features:  74% |##########################          | ETA:   0:20:18"
          ],
          "name": "stderr"
        },
        {
          "output_type": "stream",
          "text": [
            "(32, 256, 256, 3)\n"
          ],
          "name": "stdout"
        },
        {
          "output_type": "stream",
          "text": [
            "\r                                                                               \r\rExtracting Features:  75% |###########################         | ETA:   0:20:10"
          ],
          "name": "stderr"
        },
        {
          "output_type": "stream",
          "text": [
            "(32, 256, 256, 3)\n"
          ],
          "name": "stdout"
        },
        {
          "output_type": "stream",
          "text": [
            "\r                                                                               \r\rExtracting Features:  75% |###########################         | ETA:   0:20:02"
          ],
          "name": "stderr"
        },
        {
          "output_type": "stream",
          "text": [
            "(32, 256, 256, 3)\n"
          ],
          "name": "stdout"
        },
        {
          "output_type": "stream",
          "text": [
            "\r                                                                               \r\rExtracting Features:  75% |###########################         | ETA:   0:19:54"
          ],
          "name": "stderr"
        },
        {
          "output_type": "stream",
          "text": [
            "(32, 256, 256, 3)\n"
          ],
          "name": "stdout"
        },
        {
          "output_type": "stream",
          "text": [
            "\r                                                                               \r\rExtracting Features:  75% |###########################         | ETA:   0:19:46"
          ],
          "name": "stderr"
        },
        {
          "output_type": "stream",
          "text": [
            "(32, 256, 256, 3)\n"
          ],
          "name": "stdout"
        },
        {
          "output_type": "stream",
          "text": [
            "\r                                                                               \r\rExtracting Features:  75% |###########################         | ETA:   0:19:38"
          ],
          "name": "stderr"
        },
        {
          "output_type": "stream",
          "text": [
            "(32, 256, 256, 3)\n"
          ],
          "name": "stdout"
        },
        {
          "output_type": "stream",
          "text": [
            "\r                                                                               \r\rExtracting Features:  75% |###########################         | ETA:   0:19:30"
          ],
          "name": "stderr"
        },
        {
          "output_type": "stream",
          "text": [
            "(32, 256, 256, 3)\n"
          ],
          "name": "stdout"
        },
        {
          "output_type": "stream",
          "text": [
            "\r                                                                               \r\rExtracting Features:  76% |###########################         | ETA:   0:19:22"
          ],
          "name": "stderr"
        },
        {
          "output_type": "stream",
          "text": [
            "(32, 256, 256, 3)\n"
          ],
          "name": "stdout"
        },
        {
          "output_type": "stream",
          "text": [
            "\r                                                                               \r\rExtracting Features:  76% |###########################         | ETA:   0:19:14"
          ],
          "name": "stderr"
        },
        {
          "output_type": "stream",
          "text": [
            "(32, 256, 256, 3)\n"
          ],
          "name": "stdout"
        },
        {
          "output_type": "stream",
          "text": [
            "\r                                                                               \r\rExtracting Features:  76% |###########################         | ETA:   0:19:07"
          ],
          "name": "stderr"
        },
        {
          "output_type": "stream",
          "text": [
            "(32, 256, 256, 3)\n"
          ],
          "name": "stdout"
        },
        {
          "output_type": "stream",
          "text": [
            "\r                                                                               \r\rExtracting Features:  76% |###########################         | ETA:   0:18:59"
          ],
          "name": "stderr"
        },
        {
          "output_type": "stream",
          "text": [
            "(32, 256, 256, 3)\n",
            "(32, 256, 256, 3)\n"
          ],
          "name": "stdout"
        },
        {
          "output_type": "stream",
          "text": [
            "Extracting Features:  76% |###########################         | ETA:   0:18:45"
          ],
          "name": "stderr"
        },
        {
          "output_type": "stream",
          "text": [
            "(32, 256, 256, 3)\n"
          ],
          "name": "stdout"
        },
        {
          "output_type": "stream",
          "text": [
            "\r                                                                               \r\rExtracting Features:  76% |###########################         | ETA:   0:18:38"
          ],
          "name": "stderr"
        },
        {
          "output_type": "stream",
          "text": [
            "(32, 256, 256, 3)\n"
          ],
          "name": "stdout"
        },
        {
          "output_type": "stream",
          "text": [
            "\r                                                                               \r\rExtracting Features:  77% |###########################         | ETA:   0:18:30"
          ],
          "name": "stderr"
        },
        {
          "output_type": "stream",
          "text": [
            "(32, 256, 256, 3)\n"
          ],
          "name": "stdout"
        },
        {
          "output_type": "stream",
          "text": [
            "\r                                                                               \r\rExtracting Features:  77% |###########################         | ETA:   0:18:22"
          ],
          "name": "stderr"
        },
        {
          "output_type": "stream",
          "text": [
            "(32, 256, 256, 3)\n"
          ],
          "name": "stdout"
        },
        {
          "output_type": "stream",
          "text": [
            "\r                                                                               \r\rExtracting Features:  77% |###########################         | ETA:   0:18:14"
          ],
          "name": "stderr"
        },
        {
          "output_type": "stream",
          "text": [
            "(32, 256, 256, 3)\n"
          ],
          "name": "stdout"
        },
        {
          "output_type": "stream",
          "text": [
            "\r                                                                               \r\rExtracting Features:  77% |###########################         | ETA:   0:18:06"
          ],
          "name": "stderr"
        },
        {
          "output_type": "stream",
          "text": [
            "(32, 256, 256, 3)\n"
          ],
          "name": "stdout"
        },
        {
          "output_type": "stream",
          "text": [
            "\r                                                                               \r\rExtracting Features:  77% |###########################         | ETA:   0:17:58"
          ],
          "name": "stderr"
        },
        {
          "output_type": "stream",
          "text": [
            "(32, 256, 256, 3)\n"
          ],
          "name": "stdout"
        },
        {
          "output_type": "stream",
          "text": [
            "\r                                                                               \r\rExtracting Features:  77% |############################        | ETA:   0:17:50"
          ],
          "name": "stderr"
        },
        {
          "output_type": "stream",
          "text": [
            "(32, 256, 256, 3)\n"
          ],
          "name": "stdout"
        },
        {
          "output_type": "stream",
          "text": [
            "\r                                                                               \r\rExtracting Features:  78% |############################        | ETA:   0:17:42"
          ],
          "name": "stderr"
        },
        {
          "output_type": "stream",
          "text": [
            "(32, 256, 256, 3)\n"
          ],
          "name": "stdout"
        },
        {
          "output_type": "stream",
          "text": [
            "\r                                                                               \r\rExtracting Features:  78% |############################        | ETA:   0:17:34"
          ],
          "name": "stderr"
        },
        {
          "output_type": "stream",
          "text": [
            "(32, 256, 256, 3)\n"
          ],
          "name": "stdout"
        },
        {
          "output_type": "stream",
          "text": [
            "\r                                                                               \r\rExtracting Features:  78% |############################        | ETA:   0:17:26"
          ],
          "name": "stderr"
        },
        {
          "output_type": "stream",
          "text": [
            "(32, 256, 256, 3)\n"
          ],
          "name": "stdout"
        },
        {
          "output_type": "stream",
          "text": [
            "\r                                                                               \r\rExtracting Features:  78% |############################        | ETA:   0:17:19"
          ],
          "name": "stderr"
        },
        {
          "output_type": "stream",
          "text": [
            "(32, 256, 256, 3)\n"
          ],
          "name": "stdout"
        },
        {
          "output_type": "stream",
          "text": [
            "\r                                                                               \r\rExtracting Features:  78% |############################        | ETA:   0:17:11"
          ],
          "name": "stderr"
        },
        {
          "output_type": "stream",
          "text": [
            "(32, 256, 256, 3)\n"
          ],
          "name": "stdout"
        },
        {
          "output_type": "stream",
          "text": [
            "\r                                                                               \r\rExtracting Features:  78% |############################        | ETA:   0:17:03"
          ],
          "name": "stderr"
        },
        {
          "output_type": "stream",
          "text": [
            "(32, 256, 256, 3)\n"
          ],
          "name": "stdout"
        },
        {
          "output_type": "stream",
          "text": [
            "\r                                                                               \r\rExtracting Features:  79% |############################        | ETA:   0:16:55"
          ],
          "name": "stderr"
        },
        {
          "output_type": "stream",
          "text": [
            "(32, 256, 256, 3)\n"
          ],
          "name": "stdout"
        },
        {
          "output_type": "stream",
          "text": [
            "\r                                                                               \r\rExtracting Features:  79% |############################        | ETA:   0:16:47"
          ],
          "name": "stderr"
        },
        {
          "output_type": "stream",
          "text": [
            "(32, 256, 256, 3)\n"
          ],
          "name": "stdout"
        },
        {
          "output_type": "stream",
          "text": [
            "\r                                                                               \r\rExtracting Features:  79% |############################        | ETA:   0:16:39"
          ],
          "name": "stderr"
        },
        {
          "output_type": "stream",
          "text": [
            "(32, 256, 256, 3)\n"
          ],
          "name": "stdout"
        },
        {
          "output_type": "stream",
          "text": [
            "\r                                                                               \r\rExtracting Features:  79% |############################        | ETA:   0:16:31"
          ],
          "name": "stderr"
        },
        {
          "output_type": "stream",
          "text": [
            "(32, 256, 256, 3)\n"
          ],
          "name": "stdout"
        },
        {
          "output_type": "stream",
          "text": [
            "\r                                                                               \r\rExtracting Features:  79% |############################        | ETA:   0:16:24"
          ],
          "name": "stderr"
        },
        {
          "output_type": "stream",
          "text": [
            "(32, 256, 256, 3)\n"
          ],
          "name": "stdout"
        },
        {
          "output_type": "stream",
          "text": [
            "\r                                                                               \r\rExtracting Features:  79% |############################        | ETA:   0:16:16"
          ],
          "name": "stderr"
        },
        {
          "output_type": "stream",
          "text": [
            "(32, 256, 256, 3)\n"
          ],
          "name": "stdout"
        },
        {
          "output_type": "stream",
          "text": [
            "\r                                                                               \r\rExtracting Features:  80% |############################        | ETA:   0:16:08"
          ],
          "name": "stderr"
        },
        {
          "output_type": "stream",
          "text": [
            "(32, 256, 256, 3)\n"
          ],
          "name": "stdout"
        },
        {
          "output_type": "stream",
          "text": [
            "\r                                                                               \r\rExtracting Features:  80% |############################        | ETA:   0:16:00"
          ],
          "name": "stderr"
        },
        {
          "output_type": "stream",
          "text": [
            "(32, 256, 256, 3)\n"
          ],
          "name": "stdout"
        },
        {
          "output_type": "stream",
          "text": [
            "\r                                                                               \r\rExtracting Features:  80% |############################        | ETA:   0:15:52"
          ],
          "name": "stderr"
        },
        {
          "output_type": "stream",
          "text": [
            "(32, 256, 256, 3)\n"
          ],
          "name": "stdout"
        },
        {
          "output_type": "stream",
          "text": [
            "\r                                                                               \r\rExtracting Features:  80% |############################        | ETA:   0:15:45"
          ],
          "name": "stderr"
        },
        {
          "output_type": "stream",
          "text": [
            "(32, 256, 256, 3)\n"
          ],
          "name": "stdout"
        },
        {
          "output_type": "stream",
          "text": [
            "\r                                                                               \r\rExtracting Features:  80% |#############################       | ETA:   0:15:37"
          ],
          "name": "stderr"
        },
        {
          "output_type": "stream",
          "text": [
            "(32, 256, 256, 3)\n"
          ],
          "name": "stdout"
        },
        {
          "output_type": "stream",
          "text": [
            "\r                                                                               \r\rExtracting Features:  80% |#############################       | ETA:   0:15:29"
          ],
          "name": "stderr"
        },
        {
          "output_type": "stream",
          "text": [
            "(32, 256, 256, 3)\n"
          ],
          "name": "stdout"
        },
        {
          "output_type": "stream",
          "text": [
            "\r                                                                               \r\rExtracting Features:  80% |#############################       | ETA:   0:15:21"
          ],
          "name": "stderr"
        },
        {
          "output_type": "stream",
          "text": [
            "(32, 256, 256, 3)\n"
          ],
          "name": "stdout"
        },
        {
          "output_type": "stream",
          "text": [
            "\r                                                                               \r\rExtracting Features:  81% |#############################       | ETA:   0:15:14"
          ],
          "name": "stderr"
        },
        {
          "output_type": "stream",
          "text": [
            "(32, 256, 256, 3)\n"
          ],
          "name": "stdout"
        },
        {
          "output_type": "stream",
          "text": [
            "\r                                                                               \r\rExtracting Features:  81% |#############################       | ETA:   0:15:06"
          ],
          "name": "stderr"
        },
        {
          "output_type": "stream",
          "text": [
            "(32, 256, 256, 3)\n"
          ],
          "name": "stdout"
        },
        {
          "output_type": "stream",
          "text": [
            "\r                                                                               \r\rExtracting Features:  81% |#############################       | ETA:   0:14:58"
          ],
          "name": "stderr"
        },
        {
          "output_type": "stream",
          "text": [
            "(32, 256, 256, 3)\n"
          ],
          "name": "stdout"
        },
        {
          "output_type": "stream",
          "text": [
            "\r                                                                               \r\rExtracting Features:  81% |#############################       | ETA:   0:14:50"
          ],
          "name": "stderr"
        },
        {
          "output_type": "stream",
          "text": [
            "(32, 256, 256, 3)\n",
            "(32, 256, 256, 3)\n"
          ],
          "name": "stdout"
        },
        {
          "output_type": "stream",
          "text": [
            "Extracting Features:  81% |#############################       | ETA:   0:14:36"
          ],
          "name": "stderr"
        },
        {
          "output_type": "stream",
          "text": [
            "(32, 256, 256, 3)\n"
          ],
          "name": "stdout"
        },
        {
          "output_type": "stream",
          "text": [
            "\r                                                                               \r\rExtracting Features:  82% |#############################       | ETA:   0:14:29"
          ],
          "name": "stderr"
        },
        {
          "output_type": "stream",
          "text": [
            "(32, 256, 256, 3)\n"
          ],
          "name": "stdout"
        },
        {
          "output_type": "stream",
          "text": [
            "\r                                                                               \r\rExtracting Features:  82% |#############################       | ETA:   0:14:21"
          ],
          "name": "stderr"
        },
        {
          "output_type": "stream",
          "text": [
            "(32, 256, 256, 3)\n"
          ],
          "name": "stdout"
        },
        {
          "output_type": "stream",
          "text": [
            "\r                                                                               \r\rExtracting Features:  82% |#############################       | ETA:   0:14:13"
          ],
          "name": "stderr"
        },
        {
          "output_type": "stream",
          "text": [
            "(32, 256, 256, 3)\n"
          ],
          "name": "stdout"
        },
        {
          "output_type": "stream",
          "text": [
            "\r                                                                               \r\rExtracting Features:  82% |#############################       | ETA:   0:14:05"
          ],
          "name": "stderr"
        },
        {
          "output_type": "stream",
          "text": [
            "(32, 256, 256, 3)\n"
          ],
          "name": "stdout"
        },
        {
          "output_type": "stream",
          "text": [
            "\r                                                                               \r\rExtracting Features:  82% |#############################       | ETA:   0:13:57"
          ],
          "name": "stderr"
        },
        {
          "output_type": "stream",
          "text": [
            "(32, 256, 256, 3)\n"
          ],
          "name": "stdout"
        },
        {
          "output_type": "stream",
          "text": [
            "\r                                                                               \r\rExtracting Features:  82% |#############################       | ETA:   0:13:49"
          ],
          "name": "stderr"
        },
        {
          "output_type": "stream",
          "text": [
            "(32, 256, 256, 3)\n"
          ],
          "name": "stdout"
        },
        {
          "output_type": "stream",
          "text": [
            "\r                                                                               \r\rExtracting Features:  83% |#############################       | ETA:   0:13:42"
          ],
          "name": "stderr"
        },
        {
          "output_type": "stream",
          "text": [
            "(32, 256, 256, 3)\n"
          ],
          "name": "stdout"
        },
        {
          "output_type": "stream",
          "text": [
            "\r                                                                               \r\rExtracting Features:  83% |#############################       | ETA:   0:13:34"
          ],
          "name": "stderr"
        },
        {
          "output_type": "stream",
          "text": [
            "(32, 256, 256, 3)\n"
          ],
          "name": "stdout"
        },
        {
          "output_type": "stream",
          "text": [
            "\r                                                                               \r\rExtracting Features:  83% |##############################      | ETA:   0:13:26"
          ],
          "name": "stderr"
        },
        {
          "output_type": "stream",
          "text": [
            "(32, 256, 256, 3)\n"
          ],
          "name": "stdout"
        },
        {
          "output_type": "stream",
          "text": [
            "\r                                                                               \r\rExtracting Features:  83% |##############################      | ETA:   0:13:18"
          ],
          "name": "stderr"
        },
        {
          "output_type": "stream",
          "text": [
            "(32, 256, 256, 3)\n"
          ],
          "name": "stdout"
        },
        {
          "output_type": "stream",
          "text": [
            "\r                                                                               \r\rExtracting Features:  83% |##############################      | ETA:   0:13:11"
          ],
          "name": "stderr"
        },
        {
          "output_type": "stream",
          "text": [
            "(32, 256, 256, 3)\n"
          ],
          "name": "stdout"
        },
        {
          "output_type": "stream",
          "text": [
            "\r                                                                               \r\rExtracting Features:  83% |##############################      | ETA:   0:13:03"
          ],
          "name": "stderr"
        },
        {
          "output_type": "stream",
          "text": [
            "(32, 256, 256, 3)\n"
          ],
          "name": "stdout"
        },
        {
          "output_type": "stream",
          "text": [
            "\r                                                                               \r\rExtracting Features:  84% |##############################      | ETA:   0:12:55"
          ],
          "name": "stderr"
        },
        {
          "output_type": "stream",
          "text": [
            "(32, 256, 256, 3)\n"
          ],
          "name": "stdout"
        },
        {
          "output_type": "stream",
          "text": [
            "\r                                                                               \r\rExtracting Features:  84% |##############################      | ETA:   0:12:47"
          ],
          "name": "stderr"
        },
        {
          "output_type": "stream",
          "text": [
            "(32, 256, 256, 3)\n"
          ],
          "name": "stdout"
        },
        {
          "output_type": "stream",
          "text": [
            "\r                                                                               \r\rExtracting Features:  84% |##############################      | ETA:   0:12:39"
          ],
          "name": "stderr"
        },
        {
          "output_type": "stream",
          "text": [
            "(32, 256, 256, 3)\n"
          ],
          "name": "stdout"
        },
        {
          "output_type": "stream",
          "text": [
            "\r                                                                               \r\rExtracting Features:  84% |##############################      | ETA:   0:12:32"
          ],
          "name": "stderr"
        },
        {
          "output_type": "stream",
          "text": [
            "(32, 256, 256, 3)\n"
          ],
          "name": "stdout"
        },
        {
          "output_type": "stream",
          "text": [
            "\r                                                                               \r\rExtracting Features:  84% |##############################      | ETA:   0:12:24"
          ],
          "name": "stderr"
        },
        {
          "output_type": "stream",
          "text": [
            "(32, 256, 256, 3)\n"
          ],
          "name": "stdout"
        },
        {
          "output_type": "stream",
          "text": [
            "\r                                                                               \r\rExtracting Features:  84% |##############################      | ETA:   0:12:16"
          ],
          "name": "stderr"
        },
        {
          "output_type": "stream",
          "text": [
            "(32, 256, 256, 3)\n"
          ],
          "name": "stdout"
        },
        {
          "output_type": "stream",
          "text": [
            "\r                                                                               \r\rExtracting Features:  84% |##############################      | ETA:   0:12:08"
          ],
          "name": "stderr"
        },
        {
          "output_type": "stream",
          "text": [
            "(32, 256, 256, 3)\n"
          ],
          "name": "stdout"
        },
        {
          "output_type": "stream",
          "text": [
            "\r                                                                               \r\rExtracting Features:  85% |##############################      | ETA:   0:12:00"
          ],
          "name": "stderr"
        },
        {
          "output_type": "stream",
          "text": [
            "(32, 256, 256, 3)\n"
          ],
          "name": "stdout"
        },
        {
          "output_type": "stream",
          "text": [
            "\r                                                                               \r\rExtracting Features:  85% |##############################      | ETA:   0:11:53"
          ],
          "name": "stderr"
        },
        {
          "output_type": "stream",
          "text": [
            "(32, 256, 256, 3)\n"
          ],
          "name": "stdout"
        },
        {
          "output_type": "stream",
          "text": [
            "\r                                                                               \r\rExtracting Features:  85% |##############################      | ETA:   0:11:45"
          ],
          "name": "stderr"
        },
        {
          "output_type": "stream",
          "text": [
            "(32, 256, 256, 3)\n"
          ],
          "name": "stdout"
        },
        {
          "output_type": "stream",
          "text": [
            "\r                                                                               \r\rExtracting Features:  85% |##############################      | ETA:   0:11:37"
          ],
          "name": "stderr"
        },
        {
          "output_type": "stream",
          "text": [
            "(32, 256, 256, 3)\n"
          ],
          "name": "stdout"
        },
        {
          "output_type": "stream",
          "text": [
            "\r                                                                               \r\rExtracting Features:  85% |##############################      | ETA:   0:11:29"
          ],
          "name": "stderr"
        },
        {
          "output_type": "stream",
          "text": [
            "(32, 256, 256, 3)\n"
          ],
          "name": "stdout"
        },
        {
          "output_type": "stream",
          "text": [
            "\r                                                                               \r\rExtracting Features:  85% |##############################      | ETA:   0:11:21"
          ],
          "name": "stderr"
        },
        {
          "output_type": "stream",
          "text": [
            "(32, 256, 256, 3)\n"
          ],
          "name": "stdout"
        },
        {
          "output_type": "stream",
          "text": [
            "\r                                                                               \r\rExtracting Features:  86% |##############################      | ETA:   0:11:14"
          ],
          "name": "stderr"
        },
        {
          "output_type": "stream",
          "text": [
            "(32, 256, 256, 3)\n"
          ],
          "name": "stdout"
        },
        {
          "output_type": "stream",
          "text": [
            "\r                                                                               \r\rExtracting Features:  86% |###############################     | ETA:   0:11:06"
          ],
          "name": "stderr"
        },
        {
          "output_type": "stream",
          "text": [
            "(32, 256, 256, 3)\n"
          ],
          "name": "stdout"
        },
        {
          "output_type": "stream",
          "text": [
            "\r                                                                               \r\rExtracting Features:  86% |###############################     | ETA:   0:10:58"
          ],
          "name": "stderr"
        },
        {
          "output_type": "stream",
          "text": [
            "(32, 256, 256, 3)\n"
          ],
          "name": "stdout"
        },
        {
          "output_type": "stream",
          "text": [
            "\r                                                                               \r\rExtracting Features:  86% |###############################     | ETA:   0:10:50"
          ],
          "name": "stderr"
        },
        {
          "output_type": "stream",
          "text": [
            "(32, 256, 256, 3)\n"
          ],
          "name": "stdout"
        },
        {
          "output_type": "stream",
          "text": [
            "\r                                                                               \r\rExtracting Features:  86% |###############################     | ETA:   0:10:42"
          ],
          "name": "stderr"
        },
        {
          "output_type": "stream",
          "text": [
            "(32, 256, 256, 3)\n",
            "(32, 256, 256, 3)\n"
          ],
          "name": "stdout"
        },
        {
          "output_type": "stream",
          "text": [
            "Extracting Features:  87% |###############################     | ETA:   0:10:28"
          ],
          "name": "stderr"
        },
        {
          "output_type": "stream",
          "text": [
            "(32, 256, 256, 3)\n"
          ],
          "name": "stdout"
        },
        {
          "output_type": "stream",
          "text": [
            "\r                                                                               \r\rExtracting Features:  87% |###############################     | ETA:   0:10:20"
          ],
          "name": "stderr"
        },
        {
          "output_type": "stream",
          "text": [
            "(32, 256, 256, 3)\n"
          ],
          "name": "stdout"
        },
        {
          "output_type": "stream",
          "text": [
            "\r                                                                               \r\rExtracting Features:  87% |###############################     | ETA:   0:10:13"
          ],
          "name": "stderr"
        },
        {
          "output_type": "stream",
          "text": [
            "(32, 256, 256, 3)\n"
          ],
          "name": "stdout"
        },
        {
          "output_type": "stream",
          "text": [
            "\r                                                                               \r\rExtracting Features:  87% |###############################     | ETA:   0:10:05"
          ],
          "name": "stderr"
        },
        {
          "output_type": "stream",
          "text": [
            "(32, 256, 256, 3)\n"
          ],
          "name": "stdout"
        },
        {
          "output_type": "stream",
          "text": [
            "\r                                                                               \r\rExtracting Features:  87% |###############################     | ETA:   0:09:57"
          ],
          "name": "stderr"
        },
        {
          "output_type": "stream",
          "text": [
            "(32, 256, 256, 3)\n"
          ],
          "name": "stdout"
        },
        {
          "output_type": "stream",
          "text": [
            "\r                                                                               \r\rExtracting Features:  87% |###############################     | ETA:   0:09:49"
          ],
          "name": "stderr"
        },
        {
          "output_type": "stream",
          "text": [
            "(32, 256, 256, 3)\n"
          ],
          "name": "stdout"
        },
        {
          "output_type": "stream",
          "text": [
            "\r                                                                               \r\rExtracting Features:  88% |###############################     | ETA:   0:09:42"
          ],
          "name": "stderr"
        },
        {
          "output_type": "stream",
          "text": [
            "(32, 256, 256, 3)\n"
          ],
          "name": "stdout"
        },
        {
          "output_type": "stream",
          "text": [
            "\r                                                                               \r\rExtracting Features:  88% |###############################     | ETA:   0:09:34"
          ],
          "name": "stderr"
        },
        {
          "output_type": "stream",
          "text": [
            "(32, 256, 256, 3)\n"
          ],
          "name": "stdout"
        },
        {
          "output_type": "stream",
          "text": [
            "\r                                                                               \r\rExtracting Features:  88% |###############################     | ETA:   0:09:26"
          ],
          "name": "stderr"
        },
        {
          "output_type": "stream",
          "text": [
            "(32, 256, 256, 3)\n"
          ],
          "name": "stdout"
        },
        {
          "output_type": "stream",
          "text": [
            "\r                                                                               \r\rExtracting Features:  88% |###############################     | ETA:   0:09:19"
          ],
          "name": "stderr"
        },
        {
          "output_type": "stream",
          "text": [
            "(32, 256, 256, 3)\n"
          ],
          "name": "stdout"
        },
        {
          "output_type": "stream",
          "text": [
            "\r                                                                               \r\rExtracting Features:  88% |###############################     | ETA:   0:09:11"
          ],
          "name": "stderr"
        },
        {
          "output_type": "stream",
          "text": [
            "(32, 256, 256, 3)\n"
          ],
          "name": "stdout"
        },
        {
          "output_type": "stream",
          "text": [
            "\r                                                                               \r\rExtracting Features:  88% |###############################     | ETA:   0:09:04"
          ],
          "name": "stderr"
        },
        {
          "output_type": "stream",
          "text": [
            "(32, 256, 256, 3)\n"
          ],
          "name": "stdout"
        },
        {
          "output_type": "stream",
          "text": [
            "\r                                                                               \r\rExtracting Features:  88% |################################    | ETA:   0:08:56"
          ],
          "name": "stderr"
        },
        {
          "output_type": "stream",
          "text": [
            "(32, 256, 256, 3)\n"
          ],
          "name": "stdout"
        },
        {
          "output_type": "stream",
          "text": [
            "\r                                                                               \r\rExtracting Features:  89% |################################    | ETA:   0:08:48"
          ],
          "name": "stderr"
        },
        {
          "output_type": "stream",
          "text": [
            "(32, 256, 256, 3)\n"
          ],
          "name": "stdout"
        },
        {
          "output_type": "stream",
          "text": [
            "\r                                                                               \r\rExtracting Features:  89% |################################    | ETA:   0:08:41"
          ],
          "name": "stderr"
        },
        {
          "output_type": "stream",
          "text": [
            "(32, 256, 256, 3)\n"
          ],
          "name": "stdout"
        },
        {
          "output_type": "stream",
          "text": [
            "\r                                                                               \r\rExtracting Features:  89% |################################    | ETA:   0:08:33"
          ],
          "name": "stderr"
        },
        {
          "output_type": "stream",
          "text": [
            "(32, 256, 256, 3)\n"
          ],
          "name": "stdout"
        },
        {
          "output_type": "stream",
          "text": [
            "\r                                                                               \r\rExtracting Features:  89% |################################    | ETA:   0:08:25"
          ],
          "name": "stderr"
        },
        {
          "output_type": "stream",
          "text": [
            "(32, 256, 256, 3)\n"
          ],
          "name": "stdout"
        },
        {
          "output_type": "stream",
          "text": [
            "\r                                                                               \r\rExtracting Features:  89% |################################    | ETA:   0:08:18"
          ],
          "name": "stderr"
        },
        {
          "output_type": "stream",
          "text": [
            "(32, 256, 256, 3)\n"
          ],
          "name": "stdout"
        },
        {
          "output_type": "stream",
          "text": [
            "\r                                                                               \r\rExtracting Features:  89% |################################    | ETA:   0:08:10"
          ],
          "name": "stderr"
        },
        {
          "output_type": "stream",
          "text": [
            "(32, 256, 256, 3)\n"
          ],
          "name": "stdout"
        },
        {
          "output_type": "stream",
          "text": [
            "\r                                                                               \r\rExtracting Features:  90% |################################    | ETA:   0:08:02"
          ],
          "name": "stderr"
        },
        {
          "output_type": "stream",
          "text": [
            "(32, 256, 256, 3)\n"
          ],
          "name": "stdout"
        },
        {
          "output_type": "stream",
          "text": [
            "\r                                                                               \r\rExtracting Features:  90% |################################    | ETA:   0:07:55"
          ],
          "name": "stderr"
        },
        {
          "output_type": "stream",
          "text": [
            "(32, 256, 256, 3)\n"
          ],
          "name": "stdout"
        },
        {
          "output_type": "stream",
          "text": [
            "\r                                                                               \r\rExtracting Features:  90% |################################    | ETA:   0:07:47"
          ],
          "name": "stderr"
        },
        {
          "output_type": "stream",
          "text": [
            "(32, 256, 256, 3)\n"
          ],
          "name": "stdout"
        },
        {
          "output_type": "stream",
          "text": [
            "\r                                                                               \r\rExtracting Features:  90% |################################    | ETA:   0:07:39"
          ],
          "name": "stderr"
        },
        {
          "output_type": "stream",
          "text": [
            "(32, 256, 256, 3)\n"
          ],
          "name": "stdout"
        },
        {
          "output_type": "stream",
          "text": [
            "\r                                                                               \r\rExtracting Features:  90% |################################    | ETA:   0:07:31"
          ],
          "name": "stderr"
        },
        {
          "output_type": "stream",
          "text": [
            "(32, 256, 256, 3)\n"
          ],
          "name": "stdout"
        },
        {
          "output_type": "stream",
          "text": [
            "\r                                                                               \r\rExtracting Features:  90% |################################    | ETA:   0:07:24"
          ],
          "name": "stderr"
        },
        {
          "output_type": "stream",
          "text": [
            "(32, 256, 256, 3)\n"
          ],
          "name": "stdout"
        },
        {
          "output_type": "stream",
          "text": [
            "\r                                                                               \r\rExtracting Features:  91% |################################    | ETA:   0:07:16"
          ],
          "name": "stderr"
        },
        {
          "output_type": "stream",
          "text": [
            "(32, 256, 256, 3)\n"
          ],
          "name": "stdout"
        },
        {
          "output_type": "stream",
          "text": [
            "\r                                                                               \r\rExtracting Features:  91% |################################    | ETA:   0:07:08"
          ],
          "name": "stderr"
        },
        {
          "output_type": "stream",
          "text": [
            "(32, 256, 256, 3)\n"
          ],
          "name": "stdout"
        },
        {
          "output_type": "stream",
          "text": [
            "\r                                                                               \r\rExtracting Features:  91% |################################    | ETA:   0:07:00"
          ],
          "name": "stderr"
        },
        {
          "output_type": "stream",
          "text": [
            "(32, 256, 256, 3)\n"
          ],
          "name": "stdout"
        },
        {
          "output_type": "stream",
          "text": [
            "\r                                                                               \r\rExtracting Features:  91% |################################    | ETA:   0:06:53"
          ],
          "name": "stderr"
        },
        {
          "output_type": "stream",
          "text": [
            "(32, 256, 256, 3)\n"
          ],
          "name": "stdout"
        },
        {
          "output_type": "stream",
          "text": [
            "\r                                                                               \r\rExtracting Features:  91% |#################################   | ETA:   0:06:45"
          ],
          "name": "stderr"
        },
        {
          "output_type": "stream",
          "text": [
            "(32, 256, 256, 3)\n"
          ],
          "name": "stdout"
        },
        {
          "output_type": "stream",
          "text": [
            "\r                                                                               \r\rExtracting Features:  91% |#################################   | ETA:   0:06:37"
          ],
          "name": "stderr"
        },
        {
          "output_type": "stream",
          "text": [
            "(32, 256, 256, 3)\n",
            "(32, 256, 256, 3)\n"
          ],
          "name": "stdout"
        },
        {
          "output_type": "stream",
          "text": [
            "Extracting Features:  92% |#################################   | ETA:   0:06:22"
          ],
          "name": "stderr"
        },
        {
          "output_type": "stream",
          "text": [
            "(32, 256, 256, 3)\n"
          ],
          "name": "stdout"
        },
        {
          "output_type": "stream",
          "text": [
            "\r                                                                               \r\rExtracting Features:  92% |#################################   | ETA:   0:06:14"
          ],
          "name": "stderr"
        },
        {
          "output_type": "stream",
          "text": [
            "(32, 256, 256, 3)\n"
          ],
          "name": "stdout"
        },
        {
          "output_type": "stream",
          "text": [
            "\r                                                                               \r\rExtracting Features:  92% |#################################   | ETA:   0:06:07"
          ],
          "name": "stderr"
        },
        {
          "output_type": "stream",
          "text": [
            "(32, 256, 256, 3)\n"
          ],
          "name": "stdout"
        },
        {
          "output_type": "stream",
          "text": [
            "\r                                                                               \r\rExtracting Features:  92% |#################################   | ETA:   0:05:59"
          ],
          "name": "stderr"
        },
        {
          "output_type": "stream",
          "text": [
            "(32, 256, 256, 3)\n"
          ],
          "name": "stdout"
        },
        {
          "output_type": "stream",
          "text": [
            "\r                                                                               \r\rExtracting Features:  92% |#################################   | ETA:   0:05:51"
          ],
          "name": "stderr"
        },
        {
          "output_type": "stream",
          "text": [
            "(32, 256, 256, 3)\n"
          ],
          "name": "stdout"
        },
        {
          "output_type": "stream",
          "text": [
            "\r                                                                               \r\rExtracting Features:  92% |#################################   | ETA:   0:05:43"
          ],
          "name": "stderr"
        },
        {
          "output_type": "stream",
          "text": [
            "(32, 256, 256, 3)\n"
          ],
          "name": "stdout"
        },
        {
          "output_type": "stream",
          "text": [
            "\r                                                                               \r\rExtracting Features:  93% |#################################   | ETA:   0:05:35"
          ],
          "name": "stderr"
        },
        {
          "output_type": "stream",
          "text": [
            "(32, 256, 256, 3)\n"
          ],
          "name": "stdout"
        },
        {
          "output_type": "stream",
          "text": [
            "\r                                                                               \r\rExtracting Features:  93% |#################################   | ETA:   0:05:27"
          ],
          "name": "stderr"
        },
        {
          "output_type": "stream",
          "text": [
            "(32, 256, 256, 3)\n"
          ],
          "name": "stdout"
        },
        {
          "output_type": "stream",
          "text": [
            "\r                                                                               \r\rExtracting Features:  93% |#################################   | ETA:   0:05:20"
          ],
          "name": "stderr"
        },
        {
          "output_type": "stream",
          "text": [
            "(32, 256, 256, 3)\n"
          ],
          "name": "stdout"
        },
        {
          "output_type": "stream",
          "text": [
            "\r                                                                               \r\rExtracting Features:  93% |#################################   | ETA:   0:05:12"
          ],
          "name": "stderr"
        },
        {
          "output_type": "stream",
          "text": [
            "(32, 256, 256, 3)\n"
          ],
          "name": "stdout"
        },
        {
          "output_type": "stream",
          "text": [
            "\r                                                                               \r\rExtracting Features:  93% |#################################   | ETA:   0:05:04"
          ],
          "name": "stderr"
        },
        {
          "output_type": "stream",
          "text": [
            "(32, 256, 256, 3)\n"
          ],
          "name": "stdout"
        },
        {
          "output_type": "stream",
          "text": [
            "\r                                                                               \r\rExtracting Features:  93% |#################################   | ETA:   0:04:56"
          ],
          "name": "stderr"
        },
        {
          "output_type": "stream",
          "text": [
            "(32, 256, 256, 3)\n"
          ],
          "name": "stdout"
        },
        {
          "output_type": "stream",
          "text": [
            "\r                                                                               \r\rExtracting Features:  94% |#################################   | ETA:   0:04:48"
          ],
          "name": "stderr"
        },
        {
          "output_type": "stream",
          "text": [
            "(32, 256, 256, 3)\n"
          ],
          "name": "stdout"
        },
        {
          "output_type": "stream",
          "text": [
            "\r                                                                               \r\rExtracting Features:  94% |#################################   | ETA:   0:04:41"
          ],
          "name": "stderr"
        },
        {
          "output_type": "stream",
          "text": [
            "(32, 256, 256, 3)\n"
          ],
          "name": "stdout"
        },
        {
          "output_type": "stream",
          "text": [
            "\r                                                                               \r\rExtracting Features:  94% |#################################   | ETA:   0:04:33"
          ],
          "name": "stderr"
        },
        {
          "output_type": "stream",
          "text": [
            "(32, 256, 256, 3)\n"
          ],
          "name": "stdout"
        },
        {
          "output_type": "stream",
          "text": [
            "\r                                                                               \r\rExtracting Features:  94% |##################################  | ETA:   0:04:25"
          ],
          "name": "stderr"
        },
        {
          "output_type": "stream",
          "text": [
            "(32, 256, 256, 3)\n"
          ],
          "name": "stdout"
        },
        {
          "output_type": "stream",
          "text": [
            "\r                                                                               \r\rExtracting Features:  94% |##################################  | ETA:   0:04:17"
          ],
          "name": "stderr"
        },
        {
          "output_type": "stream",
          "text": [
            "(32, 256, 256, 3)\n"
          ],
          "name": "stdout"
        },
        {
          "output_type": "stream",
          "text": [
            "\r                                                                               \r\rExtracting Features:  94% |##################################  | ETA:   0:04:09"
          ],
          "name": "stderr"
        },
        {
          "output_type": "stream",
          "text": [
            "(32, 256, 256, 3)\n"
          ],
          "name": "stdout"
        },
        {
          "output_type": "stream",
          "text": [
            "\r                                                                               \r\rExtracting Features:  95% |##################################  | ETA:   0:04:01"
          ],
          "name": "stderr"
        },
        {
          "output_type": "stream",
          "text": [
            "(32, 256, 256, 3)\n"
          ],
          "name": "stdout"
        },
        {
          "output_type": "stream",
          "text": [
            "\r                                                                               \r\rExtracting Features:  95% |##################################  | ETA:   0:03:54"
          ],
          "name": "stderr"
        },
        {
          "output_type": "stream",
          "text": [
            "(32, 256, 256, 3)\n"
          ],
          "name": "stdout"
        },
        {
          "output_type": "stream",
          "text": [
            "\r                                                                               \r\rExtracting Features:  95% |##################################  | ETA:   0:03:46"
          ],
          "name": "stderr"
        },
        {
          "output_type": "stream",
          "text": [
            "(32, 256, 256, 3)\n"
          ],
          "name": "stdout"
        },
        {
          "output_type": "stream",
          "text": [
            "\r                                                                               \r\rExtracting Features:  95% |##################################  | ETA:   0:03:38"
          ],
          "name": "stderr"
        },
        {
          "output_type": "stream",
          "text": [
            "(32, 256, 256, 3)\n"
          ],
          "name": "stdout"
        },
        {
          "output_type": "stream",
          "text": [
            "\r                                                                               \r\rExtracting Features:  95% |##################################  | ETA:   0:03:30"
          ],
          "name": "stderr"
        },
        {
          "output_type": "stream",
          "text": [
            "(32, 256, 256, 3)\n"
          ],
          "name": "stdout"
        },
        {
          "output_type": "stream",
          "text": [
            "\r                                                                               \r\rExtracting Features:  95% |##################################  | ETA:   0:03:22"
          ],
          "name": "stderr"
        },
        {
          "output_type": "stream",
          "text": [
            "(32, 256, 256, 3)\n"
          ],
          "name": "stdout"
        },
        {
          "output_type": "stream",
          "text": [
            "\r                                                                               \r\rExtracting Features:  96% |##################################  | ETA:   0:03:14"
          ],
          "name": "stderr"
        },
        {
          "output_type": "stream",
          "text": [
            "(32, 256, 256, 3)\n"
          ],
          "name": "stdout"
        },
        {
          "output_type": "stream",
          "text": [
            "\r                                                                               \r\rExtracting Features:  96% |##################################  | ETA:   0:03:07"
          ],
          "name": "stderr"
        },
        {
          "output_type": "stream",
          "text": [
            "(32, 256, 256, 3)\n"
          ],
          "name": "stdout"
        },
        {
          "output_type": "stream",
          "text": [
            "\r                                                                               \r\rExtracting Features:  96% |##################################  | ETA:   0:02:59"
          ],
          "name": "stderr"
        },
        {
          "output_type": "stream",
          "text": [
            "(32, 256, 256, 3)\n"
          ],
          "name": "stdout"
        },
        {
          "output_type": "stream",
          "text": [
            "\r                                                                               \r\rExtracting Features:  96% |##################################  | ETA:   0:02:51"
          ],
          "name": "stderr"
        },
        {
          "output_type": "stream",
          "text": [
            "(32, 256, 256, 3)\n"
          ],
          "name": "stdout"
        },
        {
          "output_type": "stream",
          "text": [
            "\r                                                                               \r\rExtracting Features:  96% |##################################  | ETA:   0:02:43"
          ],
          "name": "stderr"
        },
        {
          "output_type": "stream",
          "text": [
            "(32, 256, 256, 3)\n"
          ],
          "name": "stdout"
        },
        {
          "output_type": "stream",
          "text": [
            "\r                                                                               \r\rExtracting Features:  96% |##################################  | ETA:   0:02:35"
          ],
          "name": "stderr"
        },
        {
          "output_type": "stream",
          "text": [
            "(32, 256, 256, 3)\n"
          ],
          "name": "stdout"
        },
        {
          "output_type": "stream",
          "text": [
            "\r                                                                               \r\rExtracting Features:  96% |##################################  | ETA:   0:02:28"
          ],
          "name": "stderr"
        },
        {
          "output_type": "stream",
          "text": [
            "(32, 256, 256, 3)\n",
            "(32, 256, 256, 3)\n"
          ],
          "name": "stdout"
        },
        {
          "output_type": "stream",
          "text": [
            "Extracting Features:  97% |################################### | ETA:   0:02:12"
          ],
          "name": "stderr"
        },
        {
          "output_type": "stream",
          "text": [
            "(32, 256, 256, 3)\n"
          ],
          "name": "stdout"
        },
        {
          "output_type": "stream",
          "text": [
            "\r                                                                               \r\rExtracting Features:  97% |################################### | ETA:   0:02:04"
          ],
          "name": "stderr"
        },
        {
          "output_type": "stream",
          "text": [
            "(32, 256, 256, 3)\n"
          ],
          "name": "stdout"
        },
        {
          "output_type": "stream",
          "text": [
            "\r                                                                               \r\rExtracting Features:  97% |################################### | ETA:   0:01:56"
          ],
          "name": "stderr"
        },
        {
          "output_type": "stream",
          "text": [
            "(32, 256, 256, 3)\n"
          ],
          "name": "stdout"
        },
        {
          "output_type": "stream",
          "text": [
            "\r                                                                               \r\rExtracting Features:  97% |################################### | ETA:   0:01:49"
          ],
          "name": "stderr"
        },
        {
          "output_type": "stream",
          "text": [
            "(32, 256, 256, 3)\n"
          ],
          "name": "stdout"
        },
        {
          "output_type": "stream",
          "text": [
            "\r                                                                               \r\rExtracting Features:  97% |################################### | ETA:   0:01:41"
          ],
          "name": "stderr"
        },
        {
          "output_type": "stream",
          "text": [
            "(32, 256, 256, 3)\n"
          ],
          "name": "stdout"
        },
        {
          "output_type": "stream",
          "text": [
            "\r                                                                               \r\rExtracting Features:  98% |################################### | ETA:   0:01:33"
          ],
          "name": "stderr"
        },
        {
          "output_type": "stream",
          "text": [
            "(32, 256, 256, 3)\n"
          ],
          "name": "stdout"
        },
        {
          "output_type": "stream",
          "text": [
            "\r                                                                               \r\rExtracting Features:  98% |################################### | ETA:   0:01:25"
          ],
          "name": "stderr"
        },
        {
          "output_type": "stream",
          "text": [
            "(32, 256, 256, 3)\n"
          ],
          "name": "stdout"
        },
        {
          "output_type": "stream",
          "text": [
            "\r                                                                               \r\rExtracting Features:  98% |################################### | ETA:   0:01:17"
          ],
          "name": "stderr"
        },
        {
          "output_type": "stream",
          "text": [
            "(32, 256, 256, 3)\n"
          ],
          "name": "stdout"
        },
        {
          "output_type": "stream",
          "text": [
            "\r                                                                               \r\rExtracting Features:  98% |################################### | ETA:   0:01:10"
          ],
          "name": "stderr"
        },
        {
          "output_type": "stream",
          "text": [
            "(32, 256, 256, 3)\n"
          ],
          "name": "stdout"
        },
        {
          "output_type": "stream",
          "text": [
            "\r                                                                               \r\rExtracting Features:  98% |################################### | ETA:   0:01:02"
          ],
          "name": "stderr"
        },
        {
          "output_type": "stream",
          "text": [
            "(32, 256, 256, 3)\n"
          ],
          "name": "stdout"
        },
        {
          "output_type": "stream",
          "text": [
            "\r                                                                               \r\rExtracting Features:  98% |################################### | ETA:   0:00:54"
          ],
          "name": "stderr"
        },
        {
          "output_type": "stream",
          "text": [
            "(32, 256, 256, 3)\n"
          ],
          "name": "stdout"
        },
        {
          "output_type": "stream",
          "text": [
            "\r                                                                               \r\rExtracting Features:  99% |################################### | ETA:   0:00:46"
          ],
          "name": "stderr"
        },
        {
          "output_type": "stream",
          "text": [
            "(32, 256, 256, 3)\n"
          ],
          "name": "stdout"
        },
        {
          "output_type": "stream",
          "text": [
            "\r                                                                               \r\rExtracting Features:  99% |################################### | ETA:   0:00:38"
          ],
          "name": "stderr"
        },
        {
          "output_type": "stream",
          "text": [
            "(32, 256, 256, 3)\n"
          ],
          "name": "stdout"
        },
        {
          "output_type": "stream",
          "text": [
            "\r                                                                               \r\rExtracting Features:  99% |################################### | ETA:   0:00:31"
          ],
          "name": "stderr"
        },
        {
          "output_type": "stream",
          "text": [
            "(32, 256, 256, 3)\n"
          ],
          "name": "stdout"
        },
        {
          "output_type": "stream",
          "text": [
            "\r                                                                               \r\rExtracting Features:  99% |################################### | ETA:   0:00:23"
          ],
          "name": "stderr"
        },
        {
          "output_type": "stream",
          "text": [
            "(32, 256, 256, 3)\n"
          ],
          "name": "stdout"
        },
        {
          "output_type": "stream",
          "text": [
            "\r                                                                               \r\rExtracting Features:  99% |################################### | ETA:   0:00:15"
          ],
          "name": "stderr"
        },
        {
          "output_type": "stream",
          "text": [
            "(32, 256, 256, 3)\n"
          ],
          "name": "stdout"
        },
        {
          "output_type": "stream",
          "text": [
            "\r                                                                               \r\rExtracting Features:  99% |################################### | ETA:   0:00:07"
          ],
          "name": "stderr"
        },
        {
          "output_type": "stream",
          "text": [
            "(32, 256, 256, 3)\n"
          ],
          "name": "stdout"
        },
        {
          "output_type": "stream",
          "text": [
            "Extracting Features: 100% |####################################| Time:  1:21:04\n",
            "Extracting Features: N/A% |                                    | ETA:  --:--:--"
          ],
          "name": "stderr"
        },
        {
          "output_type": "stream",
          "text": [
            "[INFO] building /content/gdrive/MyDrive/Dogs_vs_Cats/hdf5/val.hdf5...\n"
          ],
          "name": "stdout"
        },
        {
          "output_type": "stream",
          "text": [
            "\r                                                                               \r\rExtracting Features: N/A% |                                    | ETA:  --:--:--"
          ],
          "name": "stderr"
        },
        {
          "output_type": "stream",
          "text": [
            "(32, 256, 256, 3)\n"
          ],
          "name": "stdout"
        },
        {
          "output_type": "stream",
          "text": [
            "\r                                                                               \r\rExtracting Features:   0% |                                    | ETA:   0:43:16"
          ],
          "name": "stderr"
        },
        {
          "output_type": "stream",
          "text": [
            "(32, 256, 256, 3)\n"
          ],
          "name": "stdout"
        },
        {
          "output_type": "stream",
          "text": [
            "\r                                                                               \r\rExtracting Features:   1% |                                    | ETA:   0:32:10"
          ],
          "name": "stderr"
        },
        {
          "output_type": "stream",
          "text": [
            "(32, 256, 256, 3)\n"
          ],
          "name": "stdout"
        },
        {
          "output_type": "stream",
          "text": [
            "\r                                                                               \r\rExtracting Features:   1% |                                    | ETA:   0:28:23"
          ],
          "name": "stderr"
        },
        {
          "output_type": "stream",
          "text": [
            "(32, 256, 256, 3)\n"
          ],
          "name": "stdout"
        },
        {
          "output_type": "stream",
          "text": [
            "\r                                                                               \r\rExtracting Features:   2% |                                    | ETA:   0:26:29"
          ],
          "name": "stderr"
        },
        {
          "output_type": "stream",
          "text": [
            "(32, 256, 256, 3)\n"
          ],
          "name": "stdout"
        },
        {
          "output_type": "stream",
          "text": [
            "\r                                                                               \r\rExtracting Features:   3% |#                                   | ETA:   0:25:31"
          ],
          "name": "stderr"
        },
        {
          "output_type": "stream",
          "text": [
            "(32, 256, 256, 3)\n"
          ],
          "name": "stdout"
        },
        {
          "output_type": "stream",
          "text": [
            "\r                                                                               \r\rExtracting Features:   3% |#                                   | ETA:   0:24:58"
          ],
          "name": "stderr"
        },
        {
          "output_type": "stream",
          "text": [
            "(32, 256, 256, 3)\n"
          ],
          "name": "stdout"
        },
        {
          "output_type": "stream",
          "text": [
            "\r                                                                               \r\rExtracting Features:   4% |#                                   | ETA:   0:24:29"
          ],
          "name": "stderr"
        },
        {
          "output_type": "stream",
          "text": [
            "(32, 256, 256, 3)\n"
          ],
          "name": "stdout"
        },
        {
          "output_type": "stream",
          "text": [
            "\r                                                                               \r\rExtracting Features:   5% |#                                   | ETA:   0:24:12"
          ],
          "name": "stderr"
        },
        {
          "output_type": "stream",
          "text": [
            "(32, 256, 256, 3)\n"
          ],
          "name": "stdout"
        },
        {
          "output_type": "stream",
          "text": [
            "\r                                                                               \r\rExtracting Features:   5% |##                                  | ETA:   0:23:35"
          ],
          "name": "stderr"
        },
        {
          "output_type": "stream",
          "text": [
            "(32, 256, 256, 3)\n"
          ],
          "name": "stdout"
        },
        {
          "output_type": "stream",
          "text": [
            "\r                                                                               \r\rExtracting Features:   6% |##                                  | ETA:   0:23:08"
          ],
          "name": "stderr"
        },
        {
          "output_type": "stream",
          "text": [
            "(32, 256, 256, 3)\n"
          ],
          "name": "stdout"
        },
        {
          "output_type": "stream",
          "text": [
            "\r                                                                               \r\rExtracting Features:   7% |##                                  | ETA:   0:22:47"
          ],
          "name": "stderr"
        },
        {
          "output_type": "stream",
          "text": [
            "(32, 256, 256, 3)\n"
          ],
          "name": "stdout"
        },
        {
          "output_type": "stream",
          "text": [
            "\r                                                                               \r\rExtracting Features:   7% |##                                  | ETA:   0:22:25"
          ],
          "name": "stderr"
        },
        {
          "output_type": "stream",
          "text": [
            "(32, 256, 256, 3)\n"
          ],
          "name": "stdout"
        },
        {
          "output_type": "stream",
          "text": [
            "\r                                                                               \r\rExtracting Features:   8% |##                                  | ETA:   0:22:01"
          ],
          "name": "stderr"
        },
        {
          "output_type": "stream",
          "text": [
            "(32, 256, 256, 3)\n"
          ],
          "name": "stdout"
        },
        {
          "output_type": "stream",
          "text": [
            "\r                                                                               \r\rExtracting Features:   8% |###                                 | ETA:   0:21:47"
          ],
          "name": "stderr"
        },
        {
          "output_type": "stream",
          "text": [
            "(32, 256, 256, 3)\n"
          ],
          "name": "stdout"
        },
        {
          "output_type": "stream",
          "text": [
            "\r                                                                               \r\rExtracting Features:   9% |###                                 | ETA:   0:21:32"
          ],
          "name": "stderr"
        },
        {
          "output_type": "stream",
          "text": [
            "(32, 256, 256, 3)\n"
          ],
          "name": "stdout"
        },
        {
          "output_type": "stream",
          "text": [
            "\r                                                                               \r\rExtracting Features:  10% |###                                 | ETA:   0:21:11"
          ],
          "name": "stderr"
        },
        {
          "output_type": "stream",
          "text": [
            "(32, 256, 256, 3)\n"
          ],
          "name": "stdout"
        },
        {
          "output_type": "stream",
          "text": [
            "\r                                                                               \r\rExtracting Features:  10% |###                                 | ETA:   0:21:04"
          ],
          "name": "stderr"
        },
        {
          "output_type": "stream",
          "text": [
            "(32, 256, 256, 3)\n"
          ],
          "name": "stdout"
        },
        {
          "output_type": "stream",
          "text": [
            "\r                                                                               \r\rExtracting Features:  11% |####                                | ETA:   0:20:49"
          ],
          "name": "stderr"
        },
        {
          "output_type": "stream",
          "text": [
            "(32, 256, 256, 3)\n"
          ],
          "name": "stdout"
        },
        {
          "output_type": "stream",
          "text": [
            "\r                                                                               \r\rExtracting Features:  12% |####                                | ETA:   0:20:40"
          ],
          "name": "stderr"
        },
        {
          "output_type": "stream",
          "text": [
            "(32, 256, 256, 3)\n"
          ],
          "name": "stdout"
        },
        {
          "output_type": "stream",
          "text": [
            "\r                                                                               \r\rExtracting Features:  12% |####                                | ETA:   0:20:31"
          ],
          "name": "stderr"
        },
        {
          "output_type": "stream",
          "text": [
            "(32, 256, 256, 3)\n"
          ],
          "name": "stdout"
        },
        {
          "output_type": "stream",
          "text": [
            "\r                                                                               \r\rExtracting Features:  13% |####                                | ETA:   0:20:19"
          ],
          "name": "stderr"
        },
        {
          "output_type": "stream",
          "text": [
            "(32, 256, 256, 3)\n"
          ],
          "name": "stdout"
        },
        {
          "output_type": "stream",
          "text": [
            "\r                                                                               \r\rExtracting Features:  14% |#####                               | ETA:   0:20:04"
          ],
          "name": "stderr"
        },
        {
          "output_type": "stream",
          "text": [
            "(32, 256, 256, 3)\n"
          ],
          "name": "stdout"
        },
        {
          "output_type": "stream",
          "text": [
            "\r                                                                               \r\rExtracting Features:  14% |#####                               | ETA:   0:19:49"
          ],
          "name": "stderr"
        },
        {
          "output_type": "stream",
          "text": [
            "(32, 256, 256, 3)\n"
          ],
          "name": "stdout"
        },
        {
          "output_type": "stream",
          "text": [
            "\r                                                                               \r\rExtracting Features:  15% |#####                               | ETA:   0:19:35"
          ],
          "name": "stderr"
        },
        {
          "output_type": "stream",
          "text": [
            "(32, 256, 256, 3)\n"
          ],
          "name": "stdout"
        },
        {
          "output_type": "stream",
          "text": [
            "\r                                                                               \r\rExtracting Features:  16% |#####                               | ETA:   0:19:23"
          ],
          "name": "stderr"
        },
        {
          "output_type": "stream",
          "text": [
            "(32, 256, 256, 3)\n"
          ],
          "name": "stdout"
        },
        {
          "output_type": "stream",
          "text": [
            "\r                                                                               \r\rExtracting Features:  16% |#####                               | ETA:   0:19:10"
          ],
          "name": "stderr"
        },
        {
          "output_type": "stream",
          "text": [
            "(32, 256, 256, 3)\n"
          ],
          "name": "stdout"
        },
        {
          "output_type": "stream",
          "text": [
            "\r                                                                               \r\rExtracting Features:  17% |######                              | ETA:   0:18:55"
          ],
          "name": "stderr"
        },
        {
          "output_type": "stream",
          "text": [
            "(32, 256, 256, 3)\n"
          ],
          "name": "stdout"
        },
        {
          "output_type": "stream",
          "text": [
            "\r                                                                               \r\rExtracting Features:  17% |######                              | ETA:   0:18:44"
          ],
          "name": "stderr"
        },
        {
          "output_type": "stream",
          "text": [
            "(32, 256, 256, 3)\n"
          ],
          "name": "stdout"
        },
        {
          "output_type": "stream",
          "text": [
            "\r                                                                               \r\rExtracting Features:  18% |######                              | ETA:   0:18:34"
          ],
          "name": "stderr"
        },
        {
          "output_type": "stream",
          "text": [
            "(32, 256, 256, 3)\n"
          ],
          "name": "stdout"
        },
        {
          "output_type": "stream",
          "text": [
            "\r                                                                               \r\rExtracting Features:  19% |######                              | ETA:   0:18:25"
          ],
          "name": "stderr"
        },
        {
          "output_type": "stream",
          "text": [
            "(32, 256, 256, 3)\n",
            "(32, 256, 256, 3)\n"
          ],
          "name": "stdout"
        },
        {
          "output_type": "stream",
          "text": [
            "Extracting Features:  20% |#######                             | ETA:   0:19:11"
          ],
          "name": "stderr"
        },
        {
          "output_type": "stream",
          "text": [
            "(32, 256, 256, 3)\n"
          ],
          "name": "stdout"
        },
        {
          "output_type": "stream",
          "text": [
            "\r                                                                               \r\rExtracting Features:  21% |#######                             | ETA:   0:19:00"
          ],
          "name": "stderr"
        },
        {
          "output_type": "stream",
          "text": [
            "(32, 256, 256, 3)\n"
          ],
          "name": "stdout"
        },
        {
          "output_type": "stream",
          "text": [
            "\r                                                                               \r\rExtracting Features:  21% |#######                             | ETA:   0:18:48"
          ],
          "name": "stderr"
        },
        {
          "output_type": "stream",
          "text": [
            "(32, 256, 256, 3)\n"
          ],
          "name": "stdout"
        },
        {
          "output_type": "stream",
          "text": [
            "\r                                                                               \r\rExtracting Features:  22% |########                            | ETA:   0:18:40"
          ],
          "name": "stderr"
        },
        {
          "output_type": "stream",
          "text": [
            "(32, 256, 256, 3)\n"
          ],
          "name": "stdout"
        },
        {
          "output_type": "stream",
          "text": [
            "\r                                                                               \r\rExtracting Features:  23% |########                            | ETA:   0:18:29"
          ],
          "name": "stderr"
        },
        {
          "output_type": "stream",
          "text": [
            "(32, 256, 256, 3)\n"
          ],
          "name": "stdout"
        },
        {
          "output_type": "stream",
          "text": [
            "\r                                                                               \r\rExtracting Features:  23% |########                            | ETA:   0:18:18"
          ],
          "name": "stderr"
        },
        {
          "output_type": "stream",
          "text": [
            "(32, 256, 256, 3)\n"
          ],
          "name": "stdout"
        },
        {
          "output_type": "stream",
          "text": [
            "\r                                                                               \r\rExtracting Features:  24% |########                            | ETA:   0:18:08"
          ],
          "name": "stderr"
        },
        {
          "output_type": "stream",
          "text": [
            "(32, 256, 256, 3)\n"
          ],
          "name": "stdout"
        },
        {
          "output_type": "stream",
          "text": [
            "\r                                                                               \r\rExtracting Features:  24% |########                            | ETA:   0:17:57"
          ],
          "name": "stderr"
        },
        {
          "output_type": "stream",
          "text": [
            "(32, 256, 256, 3)\n"
          ],
          "name": "stdout"
        },
        {
          "output_type": "stream",
          "text": [
            "\r                                                                               \r\rExtracting Features:  25% |#########                           | ETA:   0:17:47"
          ],
          "name": "stderr"
        },
        {
          "output_type": "stream",
          "text": [
            "(32, 256, 256, 3)\n"
          ],
          "name": "stdout"
        },
        {
          "output_type": "stream",
          "text": [
            "\r                                                                               \r\rExtracting Features:  26% |#########                           | ETA:   0:17:35"
          ],
          "name": "stderr"
        },
        {
          "output_type": "stream",
          "text": [
            "(32, 256, 256, 3)\n"
          ],
          "name": "stdout"
        },
        {
          "output_type": "stream",
          "text": [
            "\r                                                                               \r\rExtracting Features:  26% |#########                           | ETA:   0:17:26"
          ],
          "name": "stderr"
        },
        {
          "output_type": "stream",
          "text": [
            "(32, 256, 256, 3)\n"
          ],
          "name": "stdout"
        },
        {
          "output_type": "stream",
          "text": [
            "\r                                                                               \r\rExtracting Features:  27% |#########                           | ETA:   0:17:15"
          ],
          "name": "stderr"
        },
        {
          "output_type": "stream",
          "text": [
            "(32, 256, 256, 3)\n"
          ],
          "name": "stdout"
        },
        {
          "output_type": "stream",
          "text": [
            "\r                                                                               \r\rExtracting Features:  28% |##########                          | ETA:   0:17:04"
          ],
          "name": "stderr"
        },
        {
          "output_type": "stream",
          "text": [
            "(32, 256, 256, 3)\n"
          ],
          "name": "stdout"
        },
        {
          "output_type": "stream",
          "text": [
            "\r                                                                               \r\rExtracting Features:  28% |##########                          | ETA:   0:16:55"
          ],
          "name": "stderr"
        },
        {
          "output_type": "stream",
          "text": [
            "(32, 256, 256, 3)\n"
          ],
          "name": "stdout"
        },
        {
          "output_type": "stream",
          "text": [
            "\r                                                                               \r\rExtracting Features:  29% |##########                          | ETA:   0:16:45"
          ],
          "name": "stderr"
        },
        {
          "output_type": "stream",
          "text": [
            "(32, 256, 256, 3)\n"
          ],
          "name": "stdout"
        },
        {
          "output_type": "stream",
          "text": [
            "\r                                                                               \r\rExtracting Features:  30% |##########                          | ETA:   0:16:35"
          ],
          "name": "stderr"
        },
        {
          "output_type": "stream",
          "text": [
            "(32, 256, 256, 3)\n"
          ],
          "name": "stdout"
        },
        {
          "output_type": "stream",
          "text": [
            "\r                                                                               \r\rExtracting Features:  30% |###########                         | ETA:   0:16:23"
          ],
          "name": "stderr"
        },
        {
          "output_type": "stream",
          "text": [
            "(32, 256, 256, 3)\n"
          ],
          "name": "stdout"
        },
        {
          "output_type": "stream",
          "text": [
            "\r                                                                               \r\rExtracting Features:  31% |###########                         | ETA:   0:16:12"
          ],
          "name": "stderr"
        },
        {
          "output_type": "stream",
          "text": [
            "(32, 256, 256, 3)\n"
          ],
          "name": "stdout"
        },
        {
          "output_type": "stream",
          "text": [
            "\r                                                                               \r\rExtracting Features:  32% |###########                         | ETA:   0:16:00"
          ],
          "name": "stderr"
        },
        {
          "output_type": "stream",
          "text": [
            "(32, 256, 256, 3)\n"
          ],
          "name": "stdout"
        },
        {
          "output_type": "stream",
          "text": [
            "\r                                                                               \r\rExtracting Features:  32% |###########                         | ETA:   0:15:49"
          ],
          "name": "stderr"
        },
        {
          "output_type": "stream",
          "text": [
            "(32, 256, 256, 3)\n"
          ],
          "name": "stdout"
        },
        {
          "output_type": "stream",
          "text": [
            "\r                                                                               \r\rExtracting Features:  33% |###########                         | ETA:   0:15:39"
          ],
          "name": "stderr"
        },
        {
          "output_type": "stream",
          "text": [
            "(32, 256, 256, 3)\n"
          ],
          "name": "stdout"
        },
        {
          "output_type": "stream",
          "text": [
            "\r                                                                               \r\rExtracting Features:  33% |############                        | ETA:   0:15:28"
          ],
          "name": "stderr"
        },
        {
          "output_type": "stream",
          "text": [
            "(32, 256, 256, 3)\n"
          ],
          "name": "stdout"
        },
        {
          "output_type": "stream",
          "text": [
            "\r                                                                               \r\rExtracting Features:  34% |############                        | ETA:   0:15:18"
          ],
          "name": "stderr"
        },
        {
          "output_type": "stream",
          "text": [
            "(32, 256, 256, 3)\n"
          ],
          "name": "stdout"
        },
        {
          "output_type": "stream",
          "text": [
            "\r                                                                               \r\rExtracting Features:  35% |############                        | ETA:   0:15:07"
          ],
          "name": "stderr"
        },
        {
          "output_type": "stream",
          "text": [
            "(32, 256, 256, 3)\n"
          ],
          "name": "stdout"
        },
        {
          "output_type": "stream",
          "text": [
            "\r                                                                               \r\rExtracting Features:  35% |############                        | ETA:   0:14:58"
          ],
          "name": "stderr"
        },
        {
          "output_type": "stream",
          "text": [
            "(32, 256, 256, 3)\n"
          ],
          "name": "stdout"
        },
        {
          "output_type": "stream",
          "text": [
            "\r                                                                               \r\rExtracting Features:  36% |#############                       | ETA:   0:14:48"
          ],
          "name": "stderr"
        },
        {
          "output_type": "stream",
          "text": [
            "(32, 256, 256, 3)\n"
          ],
          "name": "stdout"
        },
        {
          "output_type": "stream",
          "text": [
            "\r                                                                               \r\rExtracting Features:  37% |#############                       | ETA:   0:14:38"
          ],
          "name": "stderr"
        },
        {
          "output_type": "stream",
          "text": [
            "(32, 256, 256, 3)\n"
          ],
          "name": "stdout"
        },
        {
          "output_type": "stream",
          "text": [
            "\r                                                                               \r\rExtracting Features:  37% |#############                       | ETA:   0:14:30"
          ],
          "name": "stderr"
        },
        {
          "output_type": "stream",
          "text": [
            "(32, 256, 256, 3)\n"
          ],
          "name": "stdout"
        },
        {
          "output_type": "stream",
          "text": [
            "\r                                                                               \r\rExtracting Features:  38% |#############                       | ETA:   0:14:20"
          ],
          "name": "stderr"
        },
        {
          "output_type": "stream",
          "text": [
            "(32, 256, 256, 3)\n"
          ],
          "name": "stdout"
        },
        {
          "output_type": "stream",
          "text": [
            "\r                                                                               \r\rExtracting Features:  39% |##############                      | ETA:   0:14:11"
          ],
          "name": "stderr"
        },
        {
          "output_type": "stream",
          "text": [
            "(32, 256, 256, 3)\n"
          ],
          "name": "stdout"
        },
        {
          "output_type": "stream",
          "text": [
            "\r                                                                               \r\rExtracting Features:  39% |##############                      | ETA:   0:14:01"
          ],
          "name": "stderr"
        },
        {
          "output_type": "stream",
          "text": [
            "(32, 256, 256, 3)\n",
            "(32, 256, 256, 3)\n"
          ],
          "name": "stdout"
        },
        {
          "output_type": "stream",
          "text": [
            "Extracting Features:  40% |##############                      | ETA:   0:14:02"
          ],
          "name": "stderr"
        },
        {
          "output_type": "stream",
          "text": [
            "(32, 256, 256, 3)\n"
          ],
          "name": "stdout"
        },
        {
          "output_type": "stream",
          "text": [
            "\r                                                                               \r\rExtracting Features:  41% |##############                      | ETA:   0:13:50"
          ],
          "name": "stderr"
        },
        {
          "output_type": "stream",
          "text": [
            "(32, 256, 256, 3)\n"
          ],
          "name": "stdout"
        },
        {
          "output_type": "stream",
          "text": [
            "\r                                                                               \r\rExtracting Features:  42% |###############                     | ETA:   0:13:40"
          ],
          "name": "stderr"
        },
        {
          "output_type": "stream",
          "text": [
            "(32, 256, 256, 3)\n"
          ],
          "name": "stdout"
        },
        {
          "output_type": "stream",
          "text": [
            "\r                                                                               \r\rExtracting Features:  42% |###############                     | ETA:   0:13:28"
          ],
          "name": "stderr"
        },
        {
          "output_type": "stream",
          "text": [
            "(32, 256, 256, 3)\n"
          ],
          "name": "stdout"
        },
        {
          "output_type": "stream",
          "text": [
            "\r                                                                               \r\rExtracting Features:  43% |###############                     | ETA:   0:13:17"
          ],
          "name": "stderr"
        },
        {
          "output_type": "stream",
          "text": [
            "(32, 256, 256, 3)\n"
          ],
          "name": "stdout"
        },
        {
          "output_type": "stream",
          "text": [
            "\r                                                                               \r\rExtracting Features:  44% |###############                     | ETA:   0:13:06"
          ],
          "name": "stderr"
        },
        {
          "output_type": "stream",
          "text": [
            "(32, 256, 256, 3)\n"
          ],
          "name": "stdout"
        },
        {
          "output_type": "stream",
          "text": [
            "\r                                                                               \r\rExtracting Features:  44% |################                    | ETA:   0:12:56"
          ],
          "name": "stderr"
        },
        {
          "output_type": "stream",
          "text": [
            "(32, 256, 256, 3)\n"
          ],
          "name": "stdout"
        },
        {
          "output_type": "stream",
          "text": [
            "\r                                                                               \r\rExtracting Features:  45% |################                    | ETA:   0:12:48"
          ],
          "name": "stderr"
        },
        {
          "output_type": "stream",
          "text": [
            "(32, 256, 256, 3)\n"
          ],
          "name": "stdout"
        },
        {
          "output_type": "stream",
          "text": [
            "\r                                                                               \r\rExtracting Features:  46% |################                    | ETA:   0:12:40"
          ],
          "name": "stderr"
        },
        {
          "output_type": "stream",
          "text": [
            "(32, 256, 256, 3)\n"
          ],
          "name": "stdout"
        },
        {
          "output_type": "stream",
          "text": [
            "\r                                                                               \r\rExtracting Features:  46% |################                    | ETA:   0:12:32"
          ],
          "name": "stderr"
        },
        {
          "output_type": "stream",
          "text": [
            "(32, 256, 256, 3)\n"
          ],
          "name": "stdout"
        },
        {
          "output_type": "stream",
          "text": [
            "\r                                                                               \r\rExtracting Features:  47% |#################                   | ETA:   0:12:27"
          ],
          "name": "stderr"
        },
        {
          "output_type": "stream",
          "text": [
            "(32, 256, 256, 3)\n"
          ],
          "name": "stdout"
        },
        {
          "output_type": "stream",
          "text": [
            "\r                                                                               \r\rExtracting Features:  48% |#################                   | ETA:   0:12:22"
          ],
          "name": "stderr"
        },
        {
          "output_type": "stream",
          "text": [
            "(32, 256, 256, 3)\n"
          ],
          "name": "stdout"
        },
        {
          "output_type": "stream",
          "text": [
            "\r                                                                               \r\rExtracting Features:  48% |#################                   | ETA:   0:12:19"
          ],
          "name": "stderr"
        },
        {
          "output_type": "stream",
          "text": [
            "(32, 256, 256, 3)\n"
          ],
          "name": "stdout"
        },
        {
          "output_type": "stream",
          "text": [
            "\r                                                                               \r\rExtracting Features:  49% |#################                   | ETA:   0:12:16"
          ],
          "name": "stderr"
        },
        {
          "output_type": "stream",
          "text": [
            "(32, 256, 256, 3)\n"
          ],
          "name": "stdout"
        },
        {
          "output_type": "stream",
          "text": [
            "\r                                                                               \r\rExtracting Features:  49% |#################                   | ETA:   0:12:13"
          ],
          "name": "stderr"
        },
        {
          "output_type": "stream",
          "text": [
            "(32, 256, 256, 3)\n"
          ],
          "name": "stdout"
        },
        {
          "output_type": "stream",
          "text": [
            "\r                                                                               \r\rExtracting Features:  50% |##################                  | ETA:   0:12:10"
          ],
          "name": "stderr"
        },
        {
          "output_type": "stream",
          "text": [
            "(32, 256, 256, 3)\n"
          ],
          "name": "stdout"
        },
        {
          "output_type": "stream",
          "text": [
            "\r                                                                               \r\rExtracting Features:  51% |##################                  | ETA:   0:12:08"
          ],
          "name": "stderr"
        },
        {
          "output_type": "stream",
          "text": [
            "(32, 256, 256, 3)\n"
          ],
          "name": "stdout"
        },
        {
          "output_type": "stream",
          "text": [
            "\r                                                                               \r\rExtracting Features:  51% |##################                  | ETA:   0:12:08"
          ],
          "name": "stderr"
        },
        {
          "output_type": "stream",
          "text": [
            "(32, 256, 256, 3)\n"
          ],
          "name": "stdout"
        },
        {
          "output_type": "stream",
          "text": [
            "\r                                                                               \r\rExtracting Features:  52% |##################                  | ETA:   0:12:07"
          ],
          "name": "stderr"
        },
        {
          "output_type": "stream",
          "text": [
            "(32, 256, 256, 3)\n"
          ],
          "name": "stdout"
        },
        {
          "output_type": "stream",
          "text": [
            "\r                                                                               \r\rExtracting Features:  53% |###################                 | ETA:   0:12:07"
          ],
          "name": "stderr"
        },
        {
          "output_type": "stream",
          "text": [
            "(32, 256, 256, 3)\n"
          ],
          "name": "stdout"
        },
        {
          "output_type": "stream",
          "text": [
            "\r                                                                               \r\rExtracting Features:  53% |###################                 | ETA:   0:12:07"
          ],
          "name": "stderr"
        },
        {
          "output_type": "stream",
          "text": [
            "(32, 256, 256, 3)\n"
          ],
          "name": "stdout"
        },
        {
          "output_type": "stream",
          "text": [
            "\r                                                                               \r\rExtracting Features:  54% |###################                 | ETA:   0:12:08"
          ],
          "name": "stderr"
        },
        {
          "output_type": "stream",
          "text": [
            "(32, 256, 256, 3)\n"
          ],
          "name": "stdout"
        },
        {
          "output_type": "stream",
          "text": [
            "\r                                                                               \r\rExtracting Features:  55% |###################                 | ETA:   0:12:07"
          ],
          "name": "stderr"
        },
        {
          "output_type": "stream",
          "text": [
            "(32, 256, 256, 3)\n"
          ],
          "name": "stdout"
        },
        {
          "output_type": "stream",
          "text": [
            "\r                                                                               \r\rExtracting Features:  55% |####################                | ETA:   0:12:05"
          ],
          "name": "stderr"
        },
        {
          "output_type": "stream",
          "text": [
            "(32, 256, 256, 3)\n"
          ],
          "name": "stdout"
        },
        {
          "output_type": "stream",
          "text": [
            "\r                                                                               \r\rExtracting Features:  56% |####################                | ETA:   0:11:52"
          ],
          "name": "stderr"
        },
        {
          "output_type": "stream",
          "text": [
            "(32, 256, 256, 3)\n"
          ],
          "name": "stdout"
        },
        {
          "output_type": "stream",
          "text": [
            "\r                                                                               \r\rExtracting Features:  56% |####################                | ETA:   0:11:38"
          ],
          "name": "stderr"
        },
        {
          "output_type": "stream",
          "text": [
            "(32, 256, 256, 3)\n"
          ],
          "name": "stdout"
        },
        {
          "output_type": "stream",
          "text": [
            "\r                                                                               \r\rExtracting Features:  57% |####################                | ETA:   0:11:26"
          ],
          "name": "stderr"
        },
        {
          "output_type": "stream",
          "text": [
            "(32, 256, 256, 3)\n"
          ],
          "name": "stdout"
        },
        {
          "output_type": "stream",
          "text": [
            "\r                                                                               \r\rExtracting Features:  58% |####################                | ETA:   0:11:13"
          ],
          "name": "stderr"
        },
        {
          "output_type": "stream",
          "text": [
            "(32, 256, 256, 3)\n"
          ],
          "name": "stdout"
        },
        {
          "output_type": "stream",
          "text": [
            "\r                                                                               \r\rExtracting Features:  58% |#####################               | ETA:   0:11:00"
          ],
          "name": "stderr"
        },
        {
          "output_type": "stream",
          "text": [
            "(32, 256, 256, 3)\n"
          ],
          "name": "stdout"
        },
        {
          "output_type": "stream",
          "text": [
            "\r                                                                               \r\rExtracting Features:  59% |#####################               | ETA:   0:10:47"
          ],
          "name": "stderr"
        },
        {
          "output_type": "stream",
          "text": [
            "(32, 256, 256, 3)\n"
          ],
          "name": "stdout"
        },
        {
          "output_type": "stream",
          "text": [
            "\r                                                                               \r\rExtracting Features:  60% |#####################               | ETA:   0:10:35"
          ],
          "name": "stderr"
        },
        {
          "output_type": "stream",
          "text": [
            "(32, 256, 256, 3)\n",
            "(32, 256, 256, 3)\n"
          ],
          "name": "stdout"
        },
        {
          "output_type": "stream",
          "text": [
            "Extracting Features:  61% |######################              | ETA:   0:10:15"
          ],
          "name": "stderr"
        },
        {
          "output_type": "stream",
          "text": [
            "(32, 256, 256, 3)\n"
          ],
          "name": "stdout"
        },
        {
          "output_type": "stream",
          "text": [
            "\r                                                                               \r\rExtracting Features:  62% |######################              | ETA:   0:10:02"
          ],
          "name": "stderr"
        },
        {
          "output_type": "stream",
          "text": [
            "(32, 256, 256, 3)\n"
          ],
          "name": "stdout"
        },
        {
          "output_type": "stream",
          "text": [
            "\r                                                                               \r\rExtracting Features:  62% |######################              | ETA:   0:09:50"
          ],
          "name": "stderr"
        },
        {
          "output_type": "stream",
          "text": [
            "(32, 256, 256, 3)\n"
          ],
          "name": "stdout"
        },
        {
          "output_type": "stream",
          "text": [
            "\r                                                                               \r\rExtracting Features:  63% |######################              | ETA:   0:09:38"
          ],
          "name": "stderr"
        },
        {
          "output_type": "stream",
          "text": [
            "(32, 256, 256, 3)\n"
          ],
          "name": "stdout"
        },
        {
          "output_type": "stream",
          "text": [
            "\r                                                                               \r\rExtracting Features:  64% |#######################             | ETA:   0:09:26"
          ],
          "name": "stderr"
        },
        {
          "output_type": "stream",
          "text": [
            "(32, 256, 256, 3)\n"
          ],
          "name": "stdout"
        },
        {
          "output_type": "stream",
          "text": [
            "\r                                                                               \r\rExtracting Features:  64% |#######################             | ETA:   0:09:14"
          ],
          "name": "stderr"
        },
        {
          "output_type": "stream",
          "text": [
            "(32, 256, 256, 3)\n"
          ],
          "name": "stdout"
        },
        {
          "output_type": "stream",
          "text": [
            "\r                                                                               \r\rExtracting Features:  65% |#######################             | ETA:   0:09:02"
          ],
          "name": "stderr"
        },
        {
          "output_type": "stream",
          "text": [
            "(32, 256, 256, 3)\n"
          ],
          "name": "stdout"
        },
        {
          "output_type": "stream",
          "text": [
            "\r                                                                               \r\rExtracting Features:  65% |#######################             | ETA:   0:08:51"
          ],
          "name": "stderr"
        },
        {
          "output_type": "stream",
          "text": [
            "(32, 256, 256, 3)\n"
          ],
          "name": "stdout"
        },
        {
          "output_type": "stream",
          "text": [
            "\r                                                                               \r\rExtracting Features:  66% |#######################             | ETA:   0:08:40"
          ],
          "name": "stderr"
        },
        {
          "output_type": "stream",
          "text": [
            "(32, 256, 256, 3)\n"
          ],
          "name": "stdout"
        },
        {
          "output_type": "stream",
          "text": [
            "\r                                                                               \r\rExtracting Features:  67% |########################            | ETA:   0:08:28"
          ],
          "name": "stderr"
        },
        {
          "output_type": "stream",
          "text": [
            "(32, 256, 256, 3)\n"
          ],
          "name": "stdout"
        },
        {
          "output_type": "stream",
          "text": [
            "\r                                                                               \r\rExtracting Features:  67% |########################            | ETA:   0:08:17"
          ],
          "name": "stderr"
        },
        {
          "output_type": "stream",
          "text": [
            "(32, 256, 256, 3)\n"
          ],
          "name": "stdout"
        },
        {
          "output_type": "stream",
          "text": [
            "\r                                                                               \r\rExtracting Features:  68% |########################            | ETA:   0:08:06"
          ],
          "name": "stderr"
        },
        {
          "output_type": "stream",
          "text": [
            "(32, 256, 256, 3)\n"
          ],
          "name": "stdout"
        },
        {
          "output_type": "stream",
          "text": [
            "\r                                                                               \r\rExtracting Features:  69% |########################            | ETA:   0:07:55"
          ],
          "name": "stderr"
        },
        {
          "output_type": "stream",
          "text": [
            "(32, 256, 256, 3)\n"
          ],
          "name": "stdout"
        },
        {
          "output_type": "stream",
          "text": [
            "\r                                                                               \r\rExtracting Features:  69% |#########################           | ETA:   0:07:44"
          ],
          "name": "stderr"
        },
        {
          "output_type": "stream",
          "text": [
            "(32, 256, 256, 3)\n"
          ],
          "name": "stdout"
        },
        {
          "output_type": "stream",
          "text": [
            "\r                                                                               \r\rExtracting Features:  70% |#########################           | ETA:   0:07:33"
          ],
          "name": "stderr"
        },
        {
          "output_type": "stream",
          "text": [
            "(32, 256, 256, 3)\n"
          ],
          "name": "stdout"
        },
        {
          "output_type": "stream",
          "text": [
            "\r                                                                               \r\rExtracting Features:  71% |#########################           | ETA:   0:07:22"
          ],
          "name": "stderr"
        },
        {
          "output_type": "stream",
          "text": [
            "(32, 256, 256, 3)\n"
          ],
          "name": "stdout"
        },
        {
          "output_type": "stream",
          "text": [
            "\r                                                                               \r\rExtracting Features:  71% |#########################           | ETA:   0:07:10"
          ],
          "name": "stderr"
        },
        {
          "output_type": "stream",
          "text": [
            "(32, 256, 256, 3)\n"
          ],
          "name": "stdout"
        },
        {
          "output_type": "stream",
          "text": [
            "\r                                                                               \r\rExtracting Features:  72% |##########################          | ETA:   0:07:00"
          ],
          "name": "stderr"
        },
        {
          "output_type": "stream",
          "text": [
            "(32, 256, 256, 3)\n"
          ],
          "name": "stdout"
        },
        {
          "output_type": "stream",
          "text": [
            "\r                                                                               \r\rExtracting Features:  72% |##########################          | ETA:   0:06:49"
          ],
          "name": "stderr"
        },
        {
          "output_type": "stream",
          "text": [
            "(32, 256, 256, 3)\n"
          ],
          "name": "stdout"
        },
        {
          "output_type": "stream",
          "text": [
            "\r                                                                               \r\rExtracting Features:  73% |##########################          | ETA:   0:06:39"
          ],
          "name": "stderr"
        },
        {
          "output_type": "stream",
          "text": [
            "(32, 256, 256, 3)\n"
          ],
          "name": "stdout"
        },
        {
          "output_type": "stream",
          "text": [
            "\r                                                                               \r\rExtracting Features:  74% |##########################          | ETA:   0:06:28"
          ],
          "name": "stderr"
        },
        {
          "output_type": "stream",
          "text": [
            "(32, 256, 256, 3)\n"
          ],
          "name": "stdout"
        },
        {
          "output_type": "stream",
          "text": [
            "\r                                                                               \r\rExtracting Features:  74% |##########################          | ETA:   0:06:18"
          ],
          "name": "stderr"
        },
        {
          "output_type": "stream",
          "text": [
            "(32, 256, 256, 3)\n"
          ],
          "name": "stdout"
        },
        {
          "output_type": "stream",
          "text": [
            "\r                                                                               \r\rExtracting Features:  75% |###########################         | ETA:   0:06:08"
          ],
          "name": "stderr"
        },
        {
          "output_type": "stream",
          "text": [
            "(32, 256, 256, 3)\n"
          ],
          "name": "stdout"
        },
        {
          "output_type": "stream",
          "text": [
            "\r                                                                               \r\rExtracting Features:  76% |###########################         | ETA:   0:05:58"
          ],
          "name": "stderr"
        },
        {
          "output_type": "stream",
          "text": [
            "(32, 256, 256, 3)\n"
          ],
          "name": "stdout"
        },
        {
          "output_type": "stream",
          "text": [
            "\r                                                                               \r\rExtracting Features:  76% |###########################         | ETA:   0:05:48"
          ],
          "name": "stderr"
        },
        {
          "output_type": "stream",
          "text": [
            "(32, 256, 256, 3)\n"
          ],
          "name": "stdout"
        },
        {
          "output_type": "stream",
          "text": [
            "\r                                                                               \r\rExtracting Features:  77% |###########################         | ETA:   0:05:37"
          ],
          "name": "stderr"
        },
        {
          "output_type": "stream",
          "text": [
            "(32, 256, 256, 3)\n"
          ],
          "name": "stdout"
        },
        {
          "output_type": "stream",
          "text": [
            "\r                                                                               \r\rExtracting Features:  78% |############################        | ETA:   0:05:27"
          ],
          "name": "stderr"
        },
        {
          "output_type": "stream",
          "text": [
            "(32, 256, 256, 3)\n"
          ],
          "name": "stdout"
        },
        {
          "output_type": "stream",
          "text": [
            "\r                                                                               \r\rExtracting Features:  78% |############################        | ETA:   0:05:17"
          ],
          "name": "stderr"
        },
        {
          "output_type": "stream",
          "text": [
            "(32, 256, 256, 3)\n"
          ],
          "name": "stdout"
        },
        {
          "output_type": "stream",
          "text": [
            "\r                                                                               \r\rExtracting Features:  79% |############################        | ETA:   0:05:07"
          ],
          "name": "stderr"
        },
        {
          "output_type": "stream",
          "text": [
            "(32, 256, 256, 3)\n"
          ],
          "name": "stdout"
        },
        {
          "output_type": "stream",
          "text": [
            "\r                                                                               \r\rExtracting Features:  80% |############################        | ETA:   0:04:57"
          ],
          "name": "stderr"
        },
        {
          "output_type": "stream",
          "text": [
            "(32, 256, 256, 3)\n"
          ],
          "name": "stdout"
        },
        {
          "output_type": "stream",
          "text": [
            "\r                                                                               \r\rExtracting Features:  80% |#############################       | ETA:   0:04:47"
          ],
          "name": "stderr"
        },
        {
          "output_type": "stream",
          "text": [
            "(32, 256, 256, 3)\n",
            "(32, 256, 256, 3)\n"
          ],
          "name": "stdout"
        },
        {
          "output_type": "stream",
          "text": [
            "Extracting Features:  81% |#############################       | ETA:   0:04:29"
          ],
          "name": "stderr"
        },
        {
          "output_type": "stream",
          "text": [
            "(32, 256, 256, 3)\n"
          ],
          "name": "stdout"
        },
        {
          "output_type": "stream",
          "text": [
            "\r                                                                               \r\rExtracting Features:  82% |#############################       | ETA:   0:04:19"
          ],
          "name": "stderr"
        },
        {
          "output_type": "stream",
          "text": [
            "(32, 256, 256, 3)\n"
          ],
          "name": "stdout"
        },
        {
          "output_type": "stream",
          "text": [
            "\r                                                                               \r\rExtracting Features:  83% |#############################       | ETA:   0:04:09"
          ],
          "name": "stderr"
        },
        {
          "output_type": "stream",
          "text": [
            "(32, 256, 256, 3)\n"
          ],
          "name": "stdout"
        },
        {
          "output_type": "stream",
          "text": [
            "\r                                                                               \r\rExtracting Features:  83% |##############################      | ETA:   0:03:59"
          ],
          "name": "stderr"
        },
        {
          "output_type": "stream",
          "text": [
            "(32, 256, 256, 3)\n"
          ],
          "name": "stdout"
        },
        {
          "output_type": "stream",
          "text": [
            "\r                                                                               \r\rExtracting Features:  84% |##############################      | ETA:   0:03:49"
          ],
          "name": "stderr"
        },
        {
          "output_type": "stream",
          "text": [
            "(32, 256, 256, 3)\n"
          ],
          "name": "stdout"
        },
        {
          "output_type": "stream",
          "text": [
            "\r                                                                               \r\rExtracting Features:  85% |##############################      | ETA:   0:03:39"
          ],
          "name": "stderr"
        },
        {
          "output_type": "stream",
          "text": [
            "(32, 256, 256, 3)\n"
          ],
          "name": "stdout"
        },
        {
          "output_type": "stream",
          "text": [
            "\r                                                                               \r\rExtracting Features:  85% |##############################      | ETA:   0:03:29"
          ],
          "name": "stderr"
        },
        {
          "output_type": "stream",
          "text": [
            "(32, 256, 256, 3)\n"
          ],
          "name": "stdout"
        },
        {
          "output_type": "stream",
          "text": [
            "\r                                                                               \r\rExtracting Features:  86% |###############################     | ETA:   0:03:19"
          ],
          "name": "stderr"
        },
        {
          "output_type": "stream",
          "text": [
            "(32, 256, 256, 3)\n"
          ],
          "name": "stdout"
        },
        {
          "output_type": "stream",
          "text": [
            "\r                                                                               \r\rExtracting Features:  87% |###############################     | ETA:   0:03:10"
          ],
          "name": "stderr"
        },
        {
          "output_type": "stream",
          "text": [
            "(32, 256, 256, 3)\n"
          ],
          "name": "stdout"
        },
        {
          "output_type": "stream",
          "text": [
            "\r                                                                               \r\rExtracting Features:  87% |###############################     | ETA:   0:03:00"
          ],
          "name": "stderr"
        },
        {
          "output_type": "stream",
          "text": [
            "(32, 256, 256, 3)\n"
          ],
          "name": "stdout"
        },
        {
          "output_type": "stream",
          "text": [
            "\r                                                                               \r\rExtracting Features:  88% |###############################     | ETA:   0:02:50"
          ],
          "name": "stderr"
        },
        {
          "output_type": "stream",
          "text": [
            "(32, 256, 256, 3)\n"
          ],
          "name": "stdout"
        },
        {
          "output_type": "stream",
          "text": [
            "\r                                                                               \r\rExtracting Features:  88% |################################    | ETA:   0:02:41"
          ],
          "name": "stderr"
        },
        {
          "output_type": "stream",
          "text": [
            "(32, 256, 256, 3)\n"
          ],
          "name": "stdout"
        },
        {
          "output_type": "stream",
          "text": [
            "\r                                                                               \r\rExtracting Features:  89% |################################    | ETA:   0:02:31"
          ],
          "name": "stderr"
        },
        {
          "output_type": "stream",
          "text": [
            "(32, 256, 256, 3)\n"
          ],
          "name": "stdout"
        },
        {
          "output_type": "stream",
          "text": [
            "\r                                                                               \r\rExtracting Features:  90% |################################    | ETA:   0:02:22"
          ],
          "name": "stderr"
        },
        {
          "output_type": "stream",
          "text": [
            "(32, 256, 256, 3)\n"
          ],
          "name": "stdout"
        },
        {
          "output_type": "stream",
          "text": [
            "\r                                                                               \r\rExtracting Features:  90% |################################    | ETA:   0:02:12"
          ],
          "name": "stderr"
        },
        {
          "output_type": "stream",
          "text": [
            "(32, 256, 256, 3)\n"
          ],
          "name": "stdout"
        },
        {
          "output_type": "stream",
          "text": [
            "\r                                                                               \r\rExtracting Features:  91% |################################    | ETA:   0:02:03"
          ],
          "name": "stderr"
        },
        {
          "output_type": "stream",
          "text": [
            "(32, 256, 256, 3)\n"
          ],
          "name": "stdout"
        },
        {
          "output_type": "stream",
          "text": [
            "\r                                                                               \r\rExtracting Features:  92% |#################################   | ETA:   0:01:53"
          ],
          "name": "stderr"
        },
        {
          "output_type": "stream",
          "text": [
            "(32, 256, 256, 3)\n"
          ],
          "name": "stdout"
        },
        {
          "output_type": "stream",
          "text": [
            "\r                                                                               \r\rExtracting Features:  92% |#################################   | ETA:   0:01:44"
          ],
          "name": "stderr"
        },
        {
          "output_type": "stream",
          "text": [
            "(32, 256, 256, 3)\n"
          ],
          "name": "stdout"
        },
        {
          "output_type": "stream",
          "text": [
            "\r                                                                               \r\rExtracting Features:  93% |#################################   | ETA:   0:01:34"
          ],
          "name": "stderr"
        },
        {
          "output_type": "stream",
          "text": [
            "(32, 256, 256, 3)\n"
          ],
          "name": "stdout"
        },
        {
          "output_type": "stream",
          "text": [
            "\r                                                                               \r\rExtracting Features:  94% |#################################   | ETA:   0:01:25"
          ],
          "name": "stderr"
        },
        {
          "output_type": "stream",
          "text": [
            "(32, 256, 256, 3)\n"
          ],
          "name": "stdout"
        },
        {
          "output_type": "stream",
          "text": [
            "\r                                                                               \r\rExtracting Features:  94% |##################################  | ETA:   0:01:16"
          ],
          "name": "stderr"
        },
        {
          "output_type": "stream",
          "text": [
            "(32, 256, 256, 3)\n"
          ],
          "name": "stdout"
        },
        {
          "output_type": "stream",
          "text": [
            "\r                                                                               \r\rExtracting Features:  95% |##################################  | ETA:   0:01:06"
          ],
          "name": "stderr"
        },
        {
          "output_type": "stream",
          "text": [
            "(32, 256, 256, 3)\n"
          ],
          "name": "stdout"
        },
        {
          "output_type": "stream",
          "text": [
            "\r                                                                               \r\rExtracting Features:  96% |##################################  | ETA:   0:00:57"
          ],
          "name": "stderr"
        },
        {
          "output_type": "stream",
          "text": [
            "(32, 256, 256, 3)\n"
          ],
          "name": "stdout"
        },
        {
          "output_type": "stream",
          "text": [
            "\r                                                                               \r\rExtracting Features:  96% |##################################  | ETA:   0:00:48"
          ],
          "name": "stderr"
        },
        {
          "output_type": "stream",
          "text": [
            "(32, 256, 256, 3)\n"
          ],
          "name": "stdout"
        },
        {
          "output_type": "stream",
          "text": [
            "\r                                                                               \r\rExtracting Features:  97% |################################### | ETA:   0:00:39"
          ],
          "name": "stderr"
        },
        {
          "output_type": "stream",
          "text": [
            "(32, 256, 256, 3)\n"
          ],
          "name": "stdout"
        },
        {
          "output_type": "stream",
          "text": [
            "\r                                                                               \r\rExtracting Features:  97% |################################### | ETA:   0:00:29"
          ],
          "name": "stderr"
        },
        {
          "output_type": "stream",
          "text": [
            "(32, 256, 256, 3)\n"
          ],
          "name": "stdout"
        },
        {
          "output_type": "stream",
          "text": [
            "\r                                                                               \r\rExtracting Features:  98% |################################### | ETA:   0:00:20"
          ],
          "name": "stderr"
        },
        {
          "output_type": "stream",
          "text": [
            "(32, 256, 256, 3)\n"
          ],
          "name": "stdout"
        },
        {
          "output_type": "stream",
          "text": [
            "\r                                                                               \r\rExtracting Features:  99% |################################### | ETA:   0:00:11"
          ],
          "name": "stderr"
        },
        {
          "output_type": "stream",
          "text": [
            "(32, 256, 256, 3)\n"
          ],
          "name": "stdout"
        },
        {
          "output_type": "stream",
          "text": [
            "\r                                                                               \r\rExtracting Features:  99% |################################### | ETA:   0:00:02"
          ],
          "name": "stderr"
        },
        {
          "output_type": "stream",
          "text": [
            "(8, 256, 256, 3)\n"
          ],
          "name": "stdout"
        },
        {
          "output_type": "stream",
          "text": [
            "\r                                                                               \r\rExtracting Features: 100% |####################################| Time:  0:23:45\n"
          ],
          "name": "stderr"
        }
      ]
    },
    {
      "cell_type": "code",
      "metadata": {
        "id": "jym3ZLCugE9y",
        "colab": {
          "base_uri": "https://localhost:8080/"
        },
        "outputId": "81340143-8fb0-4330-934d-c6796535add1"
      },
      "source": [
        "import h5py\n",
        "db = h5py.File(TRAIN_HDF5)\n",
        "print(list(db.keys()))\n",
        "print(db[\"images\"].shape)\n",
        "print(db[\"labels\"].shape)\n",
        "print()\n",
        "\n",
        "db = h5py.File(VAL_HDF5)\n",
        "print(list(db.keys()))\n",
        "print(db[\"images\"].shape)\n",
        "print(db[\"labels\"].shape)\n",
        "print()\n",
        "\n",
        "db = h5py.File(TEST_HDF5)\n",
        "print(list(db.keys()))\n",
        "print(db[\"images\"].shape)\n",
        "print(db[\"labels\"].shape)\n",
        "print()"
      ],
      "execution_count": null,
      "outputs": [
        {
          "output_type": "stream",
          "text": [
            "['images', 'labels']\n",
            "(20000, 256, 256, 3)\n",
            "(20000,)\n",
            "\n",
            "['images', 'labels']\n",
            "(5000, 256, 256, 3)\n",
            "(5000,)\n",
            "\n",
            "['images', 'labels']\n",
            "(12500, 256, 256, 3)\n",
            "(12500,)\n",
            "\n"
          ],
          "name": "stdout"
        }
      ]
    },
    {
      "cell_type": "code",
      "metadata": {
        "id": "WR41DaqjMKdb"
      },
      "source": [
        "# drive.flush_and_unmount()"
      ],
      "execution_count": null,
      "outputs": []
    },
    {
      "cell_type": "code",
      "metadata": {
        "id": "bvcQr0uCTjsh"
      },
      "source": [
        "# import the necessary packages\n",
        "from tensorflow.keras.preprocessing.image import ImageDataGenerator\n",
        "from tensorflow.keras.layers import AveragePooling2D\n",
        "from tensorflow.keras.layers import Dropout\n",
        "from tensorflow.keras.layers import Flatten\n",
        "from tensorflow.keras.layers import Dense\n",
        "from tensorflow.keras.layers import Input\n",
        "from tensorflow.keras.models import Model\n",
        "from tensorflow.keras.optimizers import Adam\n",
        "from tensorflow.keras.applications import ResNet50\n",
        "from sklearn.metrics import classification_report\n",
        "\n",
        "baseModel = ResNet50(weights=\"imagenet\", include_top=False, \n",
        "                     input_tensor=Input(shape=(224, 224, 3)))\n",
        "# baseModel = ResNet50(weights=\"imagenet\", include_top=False)\n",
        "\n",
        "headModel = baseModel.output\n",
        "headModel = AveragePooling2D(pool_size=(7, 7))(headModel)\n",
        "headModel = Flatten(name=\"flatten\")(headModel)\n",
        "headModel = Dense(256, activation=\"relu\")(headModel)\n",
        "headModel = Dropout(0.5)(headModel)\n",
        "headModel = Dense(2, activation=\"softmax\")(headModel)\n",
        "\n",
        "model = Model(inputs=baseModel.input, outputs=headModel)\n",
        "model.summary()"
      ],
      "execution_count": null,
      "outputs": []
    },
    {
      "cell_type": "code",
      "metadata": {
        "id": "nFQ1XMnbQRF7"
      },
      "source": [
        "from keras.utils import np_utils\n",
        "import numpy as np\n",
        "import h5py\n",
        "\n",
        "class HDF5DatasetGenerator:\n",
        "\n",
        "\tdef __init__(self, dbPath, batchSize, preprocessors=None,\n",
        "\t\taug=None, binarize=True, classes=2):\n",
        "\t\t# store the batch size, preprocessors, and data augmentor,\n",
        "\t\t# whether or not the labels should be binarized, along with\n",
        "\t\t# the total number of classes\n",
        "\t\tself.batchSize = batchSize\n",
        "\t\tself.preprocessors = preprocessors\n",
        "\t\tself.aug = aug\n",
        "\t\tself.binarize = binarize\n",
        "\t\tself.classes = classes\n",
        "\n",
        "\t\t# open the HDF5 database for reading and determine the total\n",
        "\t\t# number of entries in the database\n",
        "\t\tself.db = h5py.File(dbPath)\n",
        "\t\tself.numImages = self.db[\"labels\"].shape[0]\n",
        "\n",
        "\tdef generator(self, passes=np.inf):\n",
        "\t\tepochs=0\n",
        "\t\twhile epochs<passes:\n",
        "\t\t\tfor i in np.arange(0, self.numImages, self.batchSize):\n",
        "\t\t\t\timages = self.db[\"images\"][i:i+self.batchSize]\n",
        "\t\t\t\tlabels = self.db[\"labels\"][i:i+self.batchSize]\n",
        "\n",
        "\t\t\t\tif self.binarize:\n",
        "\t\t\t\t\tlabels = np_utils.to_categorical(labels, self.classes)\n",
        "\n",
        "\t\t\t\tif self.preprocessors is not None:\n",
        "\t\t\t\t\tprocImages = []\n",
        "\t\t\t\t\tfor image in images:\n",
        "\t\t\t\t\t\tfor p in self.preprocessors:\n",
        "\t\t\t\t\t\t\timage = p.preprocess(image)\n",
        "\t\t\t\t\t\tprocImages.append(image)\n",
        "\t\t\t\t\timages = np.array(procImages)\n",
        "\n",
        "\t\t\t\tif self.aug is not None:\n",
        "\t\t\t\t\t(images, labels) = next(self.aug.flow(images, labels, batch_size=self.batchSize))\n",
        "\t\t\t\tyield(images, labels)\n",
        "\t\t\tepochs = epochs+1\n",
        "\n",
        "\n",
        "\tdef close(self):\n",
        "\t\tself.db.close()"
      ],
      "execution_count": null,
      "outputs": []
    },
    {
      "cell_type": "code",
      "metadata": {
        "id": "ao0h40Q4hicW"
      },
      "source": [
        "import cv2\n",
        "\n",
        "class SimplePreprocessor:\n",
        "\tdef __init__(self, width, height, inter=cv2.INTER_AREA):\n",
        "\t# store the target image width, height, and interpolation\n",
        "\t# method used when resizing\n",
        "\t\tself.width = width\n",
        "\t\tself.height = height\n",
        "\t\tself.inter = inter\n",
        "\n",
        "\tdef preprocess(self, image):\n",
        "\t# resize the image to a fixed size, ignoring the aspect\n",
        "\t# ratio\n",
        "\t\treturn cv2.resize(image, (self.width, self.height), interpolation=self.inter)"
      ],
      "execution_count": null,
      "outputs": []
    },
    {
      "cell_type": "code",
      "metadata": {
        "id": "QWLERjrNhA8I"
      },
      "source": [
        "from sklearn.feature_extraction.image import extract_patches_2d\n",
        "\n",
        "class PatchPreprocessor:\n",
        "\tdef __init__(self, width, height):\n",
        "\t\tself.width = width\n",
        "\t\tself.height = height\n",
        "\n",
        "\tdef preprocess(self, image):\n",
        "\t\treturn extract_patches_2d(image, (self.height, self.width), max_patches=1)[0]"
      ],
      "execution_count": null,
      "outputs": []
    },
    {
      "cell_type": "code",
      "metadata": {
        "id": "t9_2BXMlDisu"
      },
      "source": [
        "# import the necessary packages\n",
        "from keras.preprocessing.image import img_to_array\n",
        "\t\n",
        "class ImageToArrayPreprocessor:\n",
        "\tdef __init__(self, dataFormat=None):\n",
        "\t\t# store the image data format\n",
        "\t\tself.dataFormat = dataFormat\n",
        "\t\n",
        "\tdef preprocess(self, image):\n",
        "\t\t# apply the Keras utility function that correctly rearranges\n",
        "\t\t# the dimensions of the image\n",
        "\t\treturn img_to_array(image, data_format=self.dataFormat)"
      ],
      "execution_count": null,
      "outputs": []
    },
    {
      "cell_type": "code",
      "metadata": {
        "id": "lpHi_b9rh3do"
      },
      "source": [
        "# initialize the image preprocessors\n",
        "sp = SimplePreprocessor(224, 224)\n",
        "pp = PatchPreprocessor(224, 224)\n",
        "iap = ImageToArrayPreprocessor()"
      ],
      "execution_count": null,
      "outputs": []
    },
    {
      "cell_type": "code",
      "metadata": {
        "colab": {
          "base_uri": "https://localhost:8080/"
        },
        "id": "NwagIfa-6emp",
        "outputId": "91eef75b-de80-444e-870b-39611364ebb3"
      },
      "source": [
        "from keras.callbacks import ModelCheckpoint\n",
        "from keras.preprocessing.image import ImageDataGenerator\n",
        "\n",
        "# construct the training image generator for data augmentation\n",
        "aug = ImageDataGenerator(rotation_range=20, zoom_range=0.15, \n",
        "                         width_shift_range=0.2, height_shift_range=0.2, shear_range=0.15, \n",
        "                         horizontal_flip=True, fill_mode=\"nearest\")\n",
        "\n",
        "# initialize the training and validation dataset generators\n",
        "trainGen = HDF5DatasetGenerator(TRAIN_HDF5, 128, aug=aug, preprocessors = [pp, iap], classes=2)\n",
        "print(trainGen.numImages)\n",
        "valGen = HDF5DatasetGenerator(VAL_HDF5, 128, preprocessors = [sp, iap], classes=2)\n",
        "print(valGen.numImages)\n",
        "testGen = HDF5DatasetGenerator(TEST_HDF5, 50, classes=2, binarize=False)\n",
        "print(testGen.numImages)\n",
        "\n",
        "checkpoint = ModelCheckpoint(MODEL_PATH, monitor=\"val_loss\", mode=\"min\", \n",
        "                             save_best_only=True, verbose=1)\n",
        "callbacks = [checkpoint]"
      ],
      "execution_count": null,
      "outputs": [
        {
          "output_type": "stream",
          "text": [
            "20000\n",
            "5000\n",
            "12500\n"
          ],
          "name": "stdout"
        }
      ]
    },
    {
      "cell_type": "code",
      "metadata": {
        "id": "R-XGn_R35GwZ"
      },
      "source": [
        "for layer in baseModel.layers:\n",
        "\tlayer.trainable = False"
      ],
      "execution_count": null,
      "outputs": []
    },
    {
      "cell_type": "code",
      "metadata": {
        "id": "b-xj1drk59eC"
      },
      "source": [
        "from keras.optimizers import Adam\n",
        "\n",
        "# compile the model\n",
        "opt = Adam(learning_rate=INIT_LR, decay=INIT_LR / NUM_EPOCHS)\n",
        "model.compile(loss=\"binary_crossentropy\", optimizer=opt, \n",
        "              metrics=[\"accuracy\"])"
      ],
      "execution_count": null,
      "outputs": []
    },
    {
      "cell_type": "code",
      "metadata": {
        "colab": {
          "base_uri": "https://localhost:8080/"
        },
        "id": "wDbjNQPkRcFR",
        "outputId": "333fcd45-3373-4e51-d7bf-0c30e85edf06"
      },
      "source": [
        "# train the network\n",
        "H = model.fit(\n",
        "\ttrainGen.generator(),\n",
        "\tsteps_per_epoch=trainGen.numImages // 128,\n",
        "\tvalidation_data=valGen.generator(),\n",
        "\tvalidation_steps=valGen.numImages // 128,\n",
        "\tepochs=NUM_EPOCHS,\n",
        "\tmax_queue_size=128 * 2,\n",
        "\tcallbacks=callbacks, verbose=1)"
      ],
      "execution_count": null,
      "outputs": [
        {
          "output_type": "stream",
          "text": [
            "Epoch 1/10\n",
            "156/156 [==============================] - 4332s 28s/step - loss: 0.1685 - accuracy: 0.9428 - val_loss: 0.0481 - val_accuracy: 0.9846\n",
            "\n",
            "Epoch 00001: val_loss improved from inf to 0.04809, saving model to /content/gdrive/MyDrive/Dogs_vs_Cats/dogs_vs_cats.model\n"
          ],
          "name": "stdout"
        },
        {
          "output_type": "stream",
          "text": [
            "/usr/local/lib/python3.7/dist-packages/tensorflow/python/keras/utils/generic_utils.py:497: CustomMaskWarning: Custom mask layers require a config and must override get_config. When loading, the custom mask layer must be passed to the custom_objects argument.\n",
            "  category=CustomMaskWarning)\n"
          ],
          "name": "stderr"
        },
        {
          "output_type": "stream",
          "text": [
            "INFO:tensorflow:Assets written to: /content/gdrive/MyDrive/Dogs_vs_Cats/dogs_vs_cats.model/assets\n",
            "Epoch 2/10\n",
            "156/156 [==============================] - 4167s 27s/step - loss: 0.0676 - accuracy: 0.9778 - val_loss: 0.0376 - val_accuracy: 0.9876\n",
            "\n",
            "Epoch 00002: val_loss improved from 0.04809 to 0.03756, saving model to /content/gdrive/MyDrive/Dogs_vs_Cats/dogs_vs_cats.model\n"
          ],
          "name": "stdout"
        },
        {
          "output_type": "stream",
          "text": [
            "/usr/local/lib/python3.7/dist-packages/tensorflow/python/keras/utils/generic_utils.py:497: CustomMaskWarning: Custom mask layers require a config and must override get_config. When loading, the custom mask layer must be passed to the custom_objects argument.\n",
            "  category=CustomMaskWarning)\n"
          ],
          "name": "stderr"
        },
        {
          "output_type": "stream",
          "text": [
            "INFO:tensorflow:Assets written to: /content/gdrive/MyDrive/Dogs_vs_Cats/dogs_vs_cats.model/assets\n",
            "Epoch 3/10\n",
            "156/156 [==============================] - 4161s 27s/step - loss: 0.0547 - accuracy: 0.9808 - val_loss: 0.0332 - val_accuracy: 0.9886\n",
            "\n",
            "Epoch 00003: val_loss improved from 0.03756 to 0.03323, saving model to /content/gdrive/MyDrive/Dogs_vs_Cats/dogs_vs_cats.model\n"
          ],
          "name": "stdout"
        },
        {
          "output_type": "stream",
          "text": [
            "/usr/local/lib/python3.7/dist-packages/tensorflow/python/keras/utils/generic_utils.py:497: CustomMaskWarning: Custom mask layers require a config and must override get_config. When loading, the custom mask layer must be passed to the custom_objects argument.\n",
            "  category=CustomMaskWarning)\n"
          ],
          "name": "stderr"
        },
        {
          "output_type": "stream",
          "text": [
            "INFO:tensorflow:Assets written to: /content/gdrive/MyDrive/Dogs_vs_Cats/dogs_vs_cats.model/assets\n",
            "Epoch 4/10\n",
            "156/156 [==============================] - 4152s 27s/step - loss: 0.0475 - accuracy: 0.9833 - val_loss: 0.0330 - val_accuracy: 0.9882\n",
            "\n",
            "Epoch 00004: val_loss improved from 0.03323 to 0.03299, saving model to /content/gdrive/MyDrive/Dogs_vs_Cats/dogs_vs_cats.model\n"
          ],
          "name": "stdout"
        },
        {
          "output_type": "stream",
          "text": [
            "/usr/local/lib/python3.7/dist-packages/tensorflow/python/keras/utils/generic_utils.py:497: CustomMaskWarning: Custom mask layers require a config and must override get_config. When loading, the custom mask layer must be passed to the custom_objects argument.\n",
            "  category=CustomMaskWarning)\n"
          ],
          "name": "stderr"
        },
        {
          "output_type": "stream",
          "text": [
            "INFO:tensorflow:Assets written to: /content/gdrive/MyDrive/Dogs_vs_Cats/dogs_vs_cats.model/assets\n",
            "Epoch 5/10\n",
            "156/156 [==============================] - 4130s 27s/step - loss: 0.0475 - accuracy: 0.9831 - val_loss: 0.0307 - val_accuracy: 0.9900\n",
            "\n",
            "Epoch 00005: val_loss improved from 0.03299 to 0.03066, saving model to /content/gdrive/MyDrive/Dogs_vs_Cats/dogs_vs_cats.model\n"
          ],
          "name": "stdout"
        },
        {
          "output_type": "stream",
          "text": [
            "/usr/local/lib/python3.7/dist-packages/tensorflow/python/keras/utils/generic_utils.py:497: CustomMaskWarning: Custom mask layers require a config and must override get_config. When loading, the custom mask layer must be passed to the custom_objects argument.\n",
            "  category=CustomMaskWarning)\n"
          ],
          "name": "stderr"
        },
        {
          "output_type": "stream",
          "text": [
            "INFO:tensorflow:Assets written to: /content/gdrive/MyDrive/Dogs_vs_Cats/dogs_vs_cats.model/assets\n",
            "Epoch 6/10\n",
            "148/156 [===========================>..] - ETA: 2:51 - loss: 0.0464 - accuracy: 0.9830"
          ],
          "name": "stdout"
        }
      ]
    },
    {
      "cell_type": "code",
      "metadata": {
        "id": "2rHPqLayybpP"
      },
      "source": [
        "import matplotlib.pyplot as plt\n",
        "\n",
        "# plot the training loss and accuracy\n",
        "plt.style.use(\"ggplot\")\n",
        "plt.figure()\n",
        "plt.plot(np.arange(0, NUM_EPOCHS), H.history[\"loss\"], label=\"train_loss\")\n",
        "plt.plot(np.arange(0, NUM_EPOCHS), H.history[\"val_loss\"], label=\"val_loss\")\n",
        "plt.plot(np.arange(0, NUM_EPOCHS), H.history[\"accuracy\"], label=\"train_acc\")\n",
        "plt.plot(np.arange(0, NUM_EPOCHS), H.history[\"val_accuracy\"], label=\"val_acc\")\n",
        "plt.title(\"Training Loss and Accuracy\")\n",
        "plt.xlabel(\"Epoch #\")\n",
        "plt.ylabel(\"Loss/Accuracy\")\n",
        "plt.legend()\n",
        "plt.show()"
      ],
      "execution_count": null,
      "outputs": []
    },
    {
      "cell_type": "code",
      "metadata": {
        "id": "pPsdHNbelb7q"
      },
      "source": [
        "# save the model to file\n",
        "# close the HDF5 datasets\n",
        "trainGen.close()\n",
        "valGen.close()"
      ],
      "execution_count": null,
      "outputs": []
    },
    {
      "cell_type": "code",
      "metadata": {
        "colab": {
          "base_uri": "https://localhost:8080/"
        },
        "id": "syOvZQ4yVOvO",
        "outputId": "52516d68-eaee-4ef9-c9f5-5cf3756e6da6"
      },
      "source": [
        "print(\"[INFO] evaluating network...\")\n",
        "predictions = model.predict(testGen.generator(), \n",
        "                            steps=testGen.numImages // 50, max_queue_size=50 * 2)"
      ],
      "execution_count": null,
      "outputs": [
        {
          "output_type": "stream",
          "text": [
            "[INFO] evaluating network...\n"
          ],
          "name": "stdout"
        }
      ]
    },
    {
      "cell_type": "code",
      "metadata": {
        "colab": {
          "base_uri": "https://localhost:8080/"
        },
        "id": "nWP7AwO7VWVK",
        "outputId": "5a8f8add-2b37-4c04-cf6a-2a49c45a3ec1"
      },
      "source": [
        "pred = list(predictions.argmax(axis=1))\n",
        "print(len(predictions))\n",
        "print(predictions)"
      ],
      "execution_count": null,
      "outputs": [
        {
          "output_type": "stream",
          "text": [
            "12500\n",
            "[[5.6938179e-09 1.0000000e+00]\n",
            " [3.0976742e-11 1.0000000e+00]\n",
            " [3.5042418e-09 1.0000000e+00]\n",
            " ...\n",
            " [1.4418547e-08 1.0000000e+00]\n",
            " [7.3487932e-10 1.0000000e+00]\n",
            " [1.0000000e+00 2.9002339e-10]]\n"
          ],
          "name": "stdout"
        }
      ]
    },
    {
      "cell_type": "code",
      "metadata": {
        "id": "-WRDyw9Hy7mh"
      },
      "source": [
        "testGen.close()"
      ],
      "execution_count": null,
      "outputs": []
    },
    {
      "cell_type": "code",
      "metadata": {
        "colab": {
          "base_uri": "https://localhost:8080/"
        },
        "id": "pJpTh8DoVXSC",
        "outputId": "91c23377-207b-43d2-ea2d-6d29c618ae65"
      },
      "source": [
        "pred[0:10]"
      ],
      "execution_count": null,
      "outputs": [
        {
          "output_type": "execute_result",
          "data": {
            "text/plain": [
              "[1, 1, 1, 1, 0, 0, 0, 0, 0, 0]"
            ]
          },
          "metadata": {
            "tags": []
          },
          "execution_count": 56
        }
      ]
    },
    {
      "cell_type": "code",
      "metadata": {
        "id": "JQKSs4e4VZ2q"
      },
      "source": [
        "pred_prob_dog = list(predictions[:,1])"
      ],
      "execution_count": null,
      "outputs": []
    },
    {
      "cell_type": "code",
      "metadata": {
        "colab": {
          "base_uri": "https://localhost:8080/",
          "height": 514
        },
        "id": "1CKq64a1VgUk",
        "outputId": "5ce7f031-9cf5-4ced-942d-649db6f662e6"
      },
      "source": [
        "index = [i+1 for i in range (12500)]\n",
        "\n",
        "import pandas as pd\n",
        "df = pd.DataFrame(columns=['id', 'label'])\n",
        "\n",
        "df['id'] = index\n",
        "df['label'] = pred_prob_dog\n",
        "df.head(15)"
      ],
      "execution_count": null,
      "outputs": [
        {
          "output_type": "execute_result",
          "data": {
            "text/html": [
              "<div>\n",
              "<style scoped>\n",
              "    .dataframe tbody tr th:only-of-type {\n",
              "        vertical-align: middle;\n",
              "    }\n",
              "\n",
              "    .dataframe tbody tr th {\n",
              "        vertical-align: top;\n",
              "    }\n",
              "\n",
              "    .dataframe thead th {\n",
              "        text-align: right;\n",
              "    }\n",
              "</style>\n",
              "<table border=\"1\" class=\"dataframe\">\n",
              "  <thead>\n",
              "    <tr style=\"text-align: right;\">\n",
              "      <th></th>\n",
              "      <th>id</th>\n",
              "      <th>label</th>\n",
              "    </tr>\n",
              "  </thead>\n",
              "  <tbody>\n",
              "    <tr>\n",
              "      <th>0</th>\n",
              "      <td>1</td>\n",
              "      <td>1.000000e+00</td>\n",
              "    </tr>\n",
              "    <tr>\n",
              "      <th>1</th>\n",
              "      <td>2</td>\n",
              "      <td>1.000000e+00</td>\n",
              "    </tr>\n",
              "    <tr>\n",
              "      <th>2</th>\n",
              "      <td>3</td>\n",
              "      <td>1.000000e+00</td>\n",
              "    </tr>\n",
              "    <tr>\n",
              "      <th>3</th>\n",
              "      <td>4</td>\n",
              "      <td>1.000000e+00</td>\n",
              "    </tr>\n",
              "    <tr>\n",
              "      <th>4</th>\n",
              "      <td>5</td>\n",
              "      <td>1.882441e-09</td>\n",
              "    </tr>\n",
              "    <tr>\n",
              "      <th>5</th>\n",
              "      <td>6</td>\n",
              "      <td>6.470183e-07</td>\n",
              "    </tr>\n",
              "    <tr>\n",
              "      <th>6</th>\n",
              "      <td>7</td>\n",
              "      <td>3.186987e-09</td>\n",
              "    </tr>\n",
              "    <tr>\n",
              "      <th>7</th>\n",
              "      <td>8</td>\n",
              "      <td>2.304098e-09</td>\n",
              "    </tr>\n",
              "    <tr>\n",
              "      <th>8</th>\n",
              "      <td>9</td>\n",
              "      <td>1.270717e-09</td>\n",
              "    </tr>\n",
              "    <tr>\n",
              "      <th>9</th>\n",
              "      <td>10</td>\n",
              "      <td>1.369617e-06</td>\n",
              "    </tr>\n",
              "    <tr>\n",
              "      <th>10</th>\n",
              "      <td>11</td>\n",
              "      <td>1.303204e-06</td>\n",
              "    </tr>\n",
              "    <tr>\n",
              "      <th>11</th>\n",
              "      <td>12</td>\n",
              "      <td>9.991847e-01</td>\n",
              "    </tr>\n",
              "    <tr>\n",
              "      <th>12</th>\n",
              "      <td>13</td>\n",
              "      <td>9.289892e-09</td>\n",
              "    </tr>\n",
              "    <tr>\n",
              "      <th>13</th>\n",
              "      <td>14</td>\n",
              "      <td>8.609435e-05</td>\n",
              "    </tr>\n",
              "    <tr>\n",
              "      <th>14</th>\n",
              "      <td>15</td>\n",
              "      <td>2.757349e-10</td>\n",
              "    </tr>\n",
              "  </tbody>\n",
              "</table>\n",
              "</div>"
            ],
            "text/plain": [
              "    id         label\n",
              "0    1  1.000000e+00\n",
              "1    2  1.000000e+00\n",
              "2    3  1.000000e+00\n",
              "3    4  1.000000e+00\n",
              "4    5  1.882441e-09\n",
              "5    6  6.470183e-07\n",
              "6    7  3.186987e-09\n",
              "7    8  2.304098e-09\n",
              "8    9  1.270717e-09\n",
              "9   10  1.369617e-06\n",
              "10  11  1.303204e-06\n",
              "11  12  9.991847e-01\n",
              "12  13  9.289892e-09\n",
              "13  14  8.609435e-05\n",
              "14  15  2.757349e-10"
            ]
          },
          "metadata": {
            "tags": []
          },
          "execution_count": 58
        }
      ]
    },
    {
      "cell_type": "code",
      "metadata": {
        "id": "o0ZAEWk0Vrxb"
      },
      "source": [
        "df.to_csv('results_finetuning_dogs_vs_cats2.csv', index=False)"
      ],
      "execution_count": null,
      "outputs": []
    },
    {
      "cell_type": "code",
      "metadata": {
        "colab": {
          "base_uri": "https://localhost:8080/"
        },
        "id": "MML9_fsXAqsG",
        "outputId": "44a0d7b6-da93-413a-ca6e-eaa5a9b4cf83"
      },
      "source": [
        "testGen = HDF5DatasetGenerator(TEST_HDF5, 50, classes=2, binarize=False)\n",
        "print(testGen.numImages)"
      ],
      "execution_count": null,
      "outputs": [
        {
          "output_type": "stream",
          "text": [
            "12500\n"
          ],
          "name": "stdout"
        }
      ]
    },
    {
      "cell_type": "code",
      "metadata": {
        "colab": {
          "base_uri": "https://localhost:8080/"
        },
        "id": "byiFGlQCzZr8",
        "outputId": "89fc4cf4-dbc6-4e2a-a4c0-3267225d5e09"
      },
      "source": [
        "from keras.models import load_model\n",
        "print(\"[INFO] loading model...\")\n",
        "model = load_model(MODEL_PATH)"
      ],
      "execution_count": null,
      "outputs": [
        {
          "output_type": "stream",
          "text": [
            "[INFO] loading model...\n"
          ],
          "name": "stdout"
        }
      ]
    },
    {
      "cell_type": "code",
      "metadata": {
        "id": "on0SMYMn_bX2"
      },
      "source": [
        "import numpy as np\n",
        "import cv2\n",
        "\n",
        "class CropPreprocessor:\n",
        "\tdef __init__(self, width, height, horiz=True, inter=cv2.INTER_AREA):\n",
        "\t\tself.width = width\n",
        "\t\tself.height = height\n",
        "\t\tself.horiz = horiz\n",
        "\t\tself.inter = inter\n",
        "\n",
        "\tdef preprocess(self, image):\n",
        "\t\tcrops = []\n",
        "\t\t(h, w) = image.shape[:2]\n",
        "\t\tcoords = [\n",
        "\t\t[0, 0, self.width, self.height],\n",
        "\t\t[w - self.width, 0, w, self.height],\n",
        "\t\t[w - self.width, h - self.height, w, h],\n",
        "\t\t[0, h - self.height, self.width, h]\n",
        "    ]\n",
        "\t\t# compute the center crop of the image as well\n",
        "\t\tdW = int(0.5 * (w - self.width))\n",
        "\t\tdH = int(0.5 * (h - self.height))\n",
        "\t\tcoords.append([dW, dH, w - dW, h - dH])\n",
        "\n",
        "\t\tfor (startX, startY, endX, endY) in coords:\n",
        "\t\t\tcrop = image[startY:endY, startX:endX]\n",
        "\t\t\tcrop = cv2.resize(crop, (self.width, self.height), interpolation=self.inter)\n",
        "\t\t\tcrops.append(crop)\n",
        "\n",
        "\t\tif self.horiz:\n",
        "\t\t\tmirrors = [cv2.flip(c,1) for c in crops]\n",
        "\t\t\tcrops.extend(mirrors)\n",
        "\n",
        "\t\treturn(np.array(crops))"
      ],
      "execution_count": null,
      "outputs": []
    },
    {
      "cell_type": "code",
      "metadata": {
        "id": "sdH8FyDtiDg7"
      },
      "source": [
        "cp = CropPreprocessor(224, 224)"
      ],
      "execution_count": null,
      "outputs": []
    },
    {
      "cell_type": "code",
      "metadata": {
        "colab": {
          "base_uri": "https://localhost:8080/"
        },
        "id": "D-bx6M5tCWvG",
        "outputId": "73ffeb23-7e15-4766-ff70-931a745c28ca"
      },
      "source": [
        "# initialize the progress bar\n",
        "widgets = [\"Evaluating: \", progressbar.Percentage(), \" \",\n",
        "progressbar.Bar(), \" \", progressbar.ETA()]\n",
        "pbar = progressbar.ProgressBar(maxval=testGen.numImages // 50,\n",
        "widgets=widgets).start()"
      ],
      "execution_count": null,
      "outputs": [
        {
          "output_type": "stream",
          "text": [
            "\r                                                                               \r\rEvaluating: N/A% |                                             | ETA:  --:--:--"
          ],
          "name": "stderr"
        }
      ]
    },
    {
      "cell_type": "code",
      "metadata": {
        "colab": {
          "base_uri": "https://localhost:8080/"
        },
        "id": "8QovBHlqCNe9",
        "outputId": "179e3590-2e48-4f31-8ff7-8a08bb48064f"
      },
      "source": [
        "predictions = []\n",
        "# loop over a single pass of the test data\n",
        "for (i, (images, labels)) in enumerate(testGen.generator(passes=1)):\n",
        "\t# loop over each of the individual images\n",
        "\tfor image in images:\n",
        "\t\t# apply the crop preprocessor to the image to generate 10\n",
        "\t\t# separate crops, then convert them from images to arrays\n",
        "\t\tcrops = cp.preprocess(image)\n",
        "\t\tcrops = np.array([iap.preprocess(c) for c in crops],\n",
        "\t\tdtype=\"float32\")\n",
        "\n",
        "\t\t# make predictions on the crops and then average them\n",
        "\t\t# together to obtain the final prediction\n",
        "\t\tpred = model.predict(crops)\n",
        "\t\tpredictions.append(pred.mean(axis=0))\n",
        "\n",
        "\t# update the progress bar\n",
        "\tpbar.update(i)\n",
        "pbar.finish()"
      ],
      "execution_count": null,
      "outputs": [
        {
          "output_type": "stream",
          "text": [
            "Evaluating: 100% |#############################################| Time:  5:37:04\n"
          ],
          "name": "stderr"
        }
      ]
    },
    {
      "cell_type": "code",
      "metadata": {
        "colab": {
          "base_uri": "https://localhost:8080/"
        },
        "id": "VIZg6G87IlvO",
        "outputId": "013b2b30-a14f-4de8-c38d-7b1e9f529ee6"
      },
      "source": [
        "l = []\n",
        "for p in predictions:\n",
        "  l.append(list(p))\n",
        "print(l)"
      ],
      "execution_count": null,
      "outputs": [
        {
          "output_type": "stream",
          "text": [
            "[[5.934181e-10, 1.0], [1.6844873e-12, 1.0], [2.1646804e-09, 1.0], [2.1387856e-07, 0.9999998], [1.0, 2.68223e-08], [0.99999964, 3.69068e-07], [1.0, 1.0380744e-09], [1.0, 5.028188e-09], [0.9999997, 2.5374626e-07], [0.99999505, 5.0193e-06], [0.99999964, 3.4088026e-07], [2.3512042e-05, 0.99997646], [1.0, 1.4216805e-08], [0.9993305, 0.00066941715], [1.0, 5.1193314e-08], [0.99999696, 3.0006063e-06], [0.00506162, 0.9949384], [3.6586234e-11, 1.0], [1.0, 3.1295766e-09], [0.99999875, 1.2616431e-06], [1.548801e-11, 1.0], [1.0, 1.016003e-08], [1.3898441e-10, 1.0], [4.1904258e-07, 0.99999964], [0.9999995, 4.8520064e-07], [1.2319183e-05, 0.9999877], [4.3760583e-08, 1.0], [1.0, 3.2287033e-09], [0.7984797, 0.20152032], [1.650235e-07, 0.9999998], [1.571625e-10, 1.0], [0.5152637, 0.4847363], [1.2236898e-08, 1.0], [1.0, 6.2272667e-09], [1.0, 1.1721572e-10], [0.9999999, 9.67711e-08], [1.0, 1.2103598e-09], [1.0, 8.093034e-10], [0.002467922, 0.99753207], [1.0, 5.7447608e-08], [3.84427e-08, 1.0], [2.2445183e-09, 1.0], [8.361008e-11, 1.0], [2.543443e-07, 0.9999998], [1.0, 3.6562167e-10], [0.0077590225, 0.992241], [1.0, 9.747397e-09], [2.2428033e-07, 0.9999998], [2.286399e-09, 1.0], [1.0, 5.0054904e-08], [1.0, 1.1231103e-09], [0.9999998, 2.4326525e-07], [0.9999852, 1.4825896e-05], [0.9999998, 2.0216248e-07], [0.9999998, 2.7879707e-07], [8.965821e-06, 0.99999106], [5.3096105e-10, 1.0], [1.0, 1.3253688e-10], [1.1357354e-06, 0.99999887], [1.0, 5.7158798e-09], [1.0, 5.7344623e-10], [2.3346895e-06, 0.99999774], [1.0, 1.458609e-10], [0.99997294, 2.7084523e-05], [1.00623225e-08, 1.0], [0.004680068, 0.99531996], [1.2717078e-08, 1.0], [1.0, 2.855991e-09], [1.2870128e-09, 1.0], [1.5140175e-12, 1.0], [6.04456e-07, 0.99999934], [3.696519e-10, 1.0], [1.4943896e-10, 1.0], [3.6330627e-10, 1.0], [0.99983865, 0.0001613503], [2.8623103e-07, 0.9999998], [5.0129416e-09, 1.0], [1.1363529e-06, 0.99999887], [7.7100077e-07, 0.9999992], [0.99999684, 3.085739e-06], [0.9872292, 0.01277071], [0.99999034, 9.66215e-06], [3.0611342e-12, 1.0], [0.9997759, 0.00022412176], [3.545218e-10, 1.0], [4.431225e-06, 0.9999955], [7.314635e-08, 1.0], [5.7652882e-11, 1.0], [1.0, 8.6224733e-10], [0.98995984, 0.010040219], [0.9999983, 1.6979122e-06], [1.0, 7.8124465e-08], [1.0, 2.7447231e-09], [2.3492882e-14, 1.0], [5.8386758e-09, 1.0], [1.0, 1.1328509e-10], [3.033606e-07, 0.9999997], [2.7476913e-06, 0.9999973], [1.0, 4.2040558e-08], [0.99999475, 5.1667253e-06], [1.0, 1.7346586e-09], [5.876423e-11, 1.0], [1.0, 2.7693355e-08], [1.0, 1.512613e-11], [0.00031098808, 0.9996889], [1.6073557e-08, 1.0], [1.0, 6.9645893e-09], [0.99999726, 2.7056012e-06], [1.1695987e-05, 0.99998826], [9.957706e-09, 1.0], [7.4502873e-06, 0.99999255], [1.6416137e-09, 1.0], [8.046323e-09, 1.0], [1.0, 4.193685e-08], [1.0, 6.612011e-09], [1.0, 4.0105474e-10], [1.0, 2.2189945e-09], [2.8010033e-10, 1.0], [4.4266854e-11, 1.0], [0.9999784, 2.1511125e-05], [0.9950312, 0.004968828], [1.0, 3.5556363e-10], [0.99999964, 3.862609e-07], [1.0, 1.8223035e-09], [0.99999934, 6.618799e-07], [0.20742705, 0.792573], [7.2934233e-07, 0.9999992], [1.0, 9.2719485e-11], [1.0, 1.4301211e-09], [2.214244e-05, 0.9999779], [1.4374836e-08, 1.0], [0.00039636524, 0.9996036], [0.9999962, 3.8925396e-06], [1.0, 2.655894e-08], [1.0, 5.3709384e-09], [0.99999964, 3.6279738e-07], [5.397586e-12, 1.0], [0.98528606, 0.014713945], [0.98963106, 0.010368916], [1.0, 1.599313e-08], [1.0, 1.0253285e-08], [2.5294295e-07, 0.9999998], [1.908516e-12, 1.0], [0.9808005, 0.019199457], [1.0, 6.123586e-09], [1.7668872e-11, 1.0], [8.604819e-07, 0.99999917], [0.9569567, 0.043043293], [1.0, 1.1071544e-10], [1.0, 2.2031706e-10], [5.683335e-06, 0.9999943], [0.9997922, 0.00020774046], [1.0, 4.345847e-12], [0.99999964, 4.4387917e-07], [1.8054034e-07, 0.9999998], [1.0, 1.5081796e-10], [1.0, 1.3084109e-09], [5.729164e-08, 1.0], [1.15838686e-10, 1.0], [1.2997447e-07, 0.9999999], [1.0, 1.7282806e-08], [1.0, 1.5889533e-09], [1.0, 1.1745212e-10], [7.428684e-09, 1.0], [0.99998915, 1.0869463e-05], [0.99995613, 4.3917327e-05], [4.0232187e-08, 1.0], [1.0, 1.9120408e-10], [1.0, 2.3096199e-10], [1.0, 4.8333687e-10], [0.999873, 0.00012713623], [3.9987995e-07, 0.99999964], [0.00086946815, 0.99913055], [1.0, 5.3957006e-10], [3.0469335e-10, 1.0], [6.601176e-10, 1.0], [1.5680584e-08, 1.0], [8.97715e-12, 1.0], [0.0002501561, 0.99974984], [1.0, 3.466962e-08], [5.7736577e-10, 1.0], [1.5301463e-09, 1.0], [0.9999997, 2.8652943e-07], [1.0, 5.701601e-09], [0.9999925, 7.5304815e-06], [1.0, 2.2760047e-10], [1.0, 1.2717964e-08], [1.0, 2.3725793e-08], [1.0, 2.556013e-08], [3.5317044e-11, 1.0], [1.0, 1.6198797e-08], [0.9999998, 2.500066e-07], [1.0, 7.776542e-09], [1.0, 4.1373563e-10], [3.3535161e-06, 0.99999666], [9.213128e-07, 0.99999905], [0.0031999715, 0.99680007], [0.9999994, 6.2887193e-07], [5.2433498e-09, 1.0], [7.3707684e-05, 0.99992627], [2.2223023e-08, 1.0], [1.0, 7.5424245e-09], [5.4835523e-09, 1.0], [9.182312e-12, 1.0], [1.0, 1.9148079e-09], [0.9997182, 0.0002817487], [4.0566156e-10, 1.0], [1.0, 3.2539667e-08], [0.9999751, 2.4761068e-05], [1.0, 2.3831463e-09], [5.5141836e-10, 1.0], [6.7010375e-10, 1.0], [0.8802164, 0.1197836], [9.113868e-05, 0.9999089], [2.4449392e-08, 1.0], [1.6485936e-07, 0.9999998], [3.2561248e-10, 1.0], [1.0, 9.181696e-08], [3.7717292e-08, 1.0], [1.577431e-08, 1.0], [1.0, 1.8602515e-08], [3.1847446e-08, 1.0], [2.4569907e-10, 1.0], [1.0, 8.153191e-10], [4.8431668e-09, 1.0], [1.535351e-07, 0.9999999], [8.7457465e-08, 0.9999999], [1.0, 8.09067e-08], [7.3642394e-13, 1.0], [0.99994737, 5.2583677e-05], [8.1449214e-10, 1.0], [0.8735868, 0.12641326], [1.0, 5.606112e-08], [0.99996865, 3.142871e-05], [2.2932233e-12, 1.0], [1.6881962e-05, 0.999983], [1.0, 2.0963004e-08], [0.0003474204, 0.99965256], [1.0, 2.7790448e-10], [8.319868e-07, 0.9999992], [1.801147e-09, 1.0], [1.003871e-10, 1.0], [1.0, 2.199826e-11], [2.3145235e-07, 0.9999998], [3.0597555e-08, 1.0], [0.999998, 2.0037837e-06], [3.2374867e-10, 1.0], [0.99999535, 4.7415733e-06], [0.9999803, 1.9784457e-05], [1.9050195e-12, 1.0], [3.29869e-13, 1.0], [1.0, 1.6499705e-09], [1.2560411e-08, 1.0], [0.99999934, 7.984666e-07], [1.0, 5.3296475e-08], [1.0, 2.7931224e-10], [2.066847e-06, 0.999998], [2.0247044e-09, 1.0], [1.0, 9.479259e-08], [1.0, 4.673043e-08], [0.9999999, 1.644145e-07], [1.6055246e-06, 0.9999984], [1.0, 4.5493413e-09], [0.9999936, 6.4338237e-06], [2.2648845e-08, 1.0], [1.0, 1.4942275e-09], [1.0, 8.153191e-10], [1.0, 1.7359227e-09], [2.3637985e-09, 1.0], [8.894832e-11, 1.0], [8.41918e-11, 1.0], [1.0, 5.0708673e-09], [2.8461312e-07, 0.9999998], [1.0, 3.957252e-08], [0.99920005, 0.0007999735], [2.730393e-09, 1.0], [0.0003494917, 0.9996505], [1.0, 2.6267108e-09], [1.0, 3.8388226e-09], [1.2831572e-07, 0.9999999], [2.8682693e-06, 0.99999714], [7.8047124e-11, 1.0], [1.0, 3.1767108e-08], [3.6976554e-11, 1.0], [1.0, 3.8344905e-10], [1.644979e-11, 1.0], [1.0, 2.7581648e-09], [0.9999998, 2.2138224e-07], [6.009833e-09, 1.0], [1.0, 9.32087e-10], [0.9999936, 6.350044e-06], [2.556486e-10, 1.0], [6.4662963e-06, 0.9999936], [0.9766493, 0.023350717], [1.0, 6.37784e-08], [5.003948e-08, 1.0], [5.329897e-11, 1.0], [1.3212571e-06, 0.9999987], [1.5665261e-08, 1.0], [1.0, 3.417073e-08], [1.0, 1.079396e-09], [1.0, 6.0952012e-09], [1.0, 6.489281e-09], [1.0, 3.223342e-10], [1.0, 1.8114077e-08], [4.854789e-07, 0.99999964], [1.3493602e-08, 1.0], [1.0, 2.4157227e-08], [1.0, 2.6021256e-09], [0.9999814, 1.856936e-05], [0.9999989, 1.1222825e-06], [0.99937755, 0.00062246784], [0.9999998, 1.7886288e-07], [0.9999963, 3.771314e-06], [1.6103989e-09, 1.0], [0.99997866, 2.1446564e-05], [5.660932e-08, 1.0], [0.99991244, 8.759649e-05], [2.3390139e-09, 1.0], [1.0, 3.863687e-08], [0.9999998, 1.7416923e-07], [1.1405515e-07, 0.9999999], [0.99999934, 6.8599905e-07], [1.0, 2.5800193e-09], [3.1782194e-05, 0.9999682], [2.2753268e-07, 0.9999998], [0.004257147, 0.9957428], [1.4080147e-10, 1.0], [1.0, 5.5947362e-09], [0.48390722, 0.51609284], [0.41493678, 0.5850632], [0.00036825618, 0.9996317], [9.593653e-10, 1.0], [1.0, 5.901167e-09], [0.99999964, 3.876143e-07], [0.99999934, 7.4060665e-07], [2.1101312e-11, 1.0], [0.99999887, 1.1858648e-06], [1.0, 3.778232e-12], [1.0, 3.277146e-08], [0.9999735, 2.6477e-05], [1.0, 4.4249725e-11], [0.9820069, 0.017993055], [0.9999614, 3.8617833e-05], [0.9962473, 0.0037527576], [6.89162e-09, 1.0], [0.9999995, 5.003548e-07], [5.9101046e-07, 0.9999994], [0.9999998, 2.7284818e-07], [3.2161027e-10, 1.0], [1.0, 5.8682474e-08], [2.7314567e-08, 1.0], [2.615243e-10, 1.0], [3.0423074e-05, 0.9999696], [0.00021979857, 0.9997803], [4.3202017e-05, 0.9999569], [1.0, 1.6619878e-10], [1.4318232e-09, 1.0], [1.0, 1.799996e-08], [1.0, 4.211856e-09], [1.7558883e-05, 0.9999825], [1.0, 3.1609716e-08], [2.5143138e-10, 1.0], [0.9999998, 2.3711887e-07], [1.7813922e-07, 0.9999998], [3.4422918e-09, 1.0], [1.9545835e-08, 1.0], [3.4488792e-08, 1.0], [5.3644595e-08, 1.0], [1.1313878e-06, 0.9999989], [5.181532e-07, 0.9999994], [1.0, 3.7425073e-11], [7.0087894e-11, 1.0], [1.0, 5.6328084e-08], [2.6565809e-08, 1.0], [1.0, 1.1806145e-09], [2.844618e-07, 0.9999997], [1.0, 1.0524966e-10], [1.7310866e-08, 1.0], [0.098130405, 0.9018695], [7.4013954e-08, 1.0], [0.99999917, 8.8689296e-07], [2.9034805e-10, 1.0], [2.6001673e-10, 1.0], [1.3634184e-10, 1.0], [1.0, 7.002837e-08], [0.9999997, 3.0724797e-07], [1.0, 1.1842171e-09], [4.463746e-11, 1.0], [0.99996793, 3.205657e-05], [0.97884053, 0.021159459], [0.015515158, 0.98448485], [1.0, 4.4543206e-08], [1.3119366e-09, 1.0], [7.918874e-06, 0.9999921], [0.9999941, 5.946332e-06], [2.2851417e-08, 1.0], [0.9999405, 5.9541606e-05], [1.8570711e-08, 1.0], [0.00075418095, 0.9992458], [1.0926603e-09, 1.0], [1.0, 2.6310467e-09], [3.718629e-10, 1.0], [1.0, 8.124642e-10], [7.9236315e-09, 1.0], [1.5820312e-08, 1.0], [0.99995357, 4.6469013e-05], [0.99999964, 3.6329666e-07], [0.992099, 0.007901043], [0.9999997, 2.6810577e-07], [5.2112408e-11, 1.0], [2.5685903e-08, 1.0], [7.56613e-11, 1.0], [1.0, 1.2430743e-09], [6.152733e-10, 1.0], [0.9999994, 5.60373e-07], [1.8395755e-06, 0.9999982], [2.1517668e-12, 1.0], [0.0007905855, 0.9992095], [5.2045335e-10, 1.0], [1.9722914e-11, 1.0], [7.078655e-09, 1.0], [4.9890307e-11, 1.0], [6.9842243e-09, 1.0], [3.3276672e-06, 0.99999666], [1.0, 2.3015774e-08], [0.0074093887, 0.99259055], [0.9999975, 2.4989981e-06], [3.366797e-08, 1.0], [1.803905e-11, 1.0], [2.7245164e-09, 1.0], [1.0, 1.7824437e-08], [1.9744962e-07, 0.9999999], [0.2672915, 0.7327085], [1.0785735e-10, 1.0], [0.9999959, 4.203397e-06], [1.0, 2.7736968e-08], [0.0019343116, 0.9980656], [4.468382e-09, 1.0], [1.7471466e-05, 0.99998254], [1.0, 5.214011e-12], [1.0, 6.756171e-10], [7.64442e-07, 0.9999992], [0.9999979, 2.0922835e-06], [1.0, 2.8040414e-08], [2.206296e-09, 1.0], [1.0, 4.5455555e-09], [1.0, 9.0731774e-08], [1.0, 4.9062333e-08], [9.381311e-09, 1.0], [1.0, 6.2691626e-08], [1.0661153e-05, 0.99998933], [2.8009988e-09, 1.0], [1.0, 5.892689e-09], [0.99997777, 2.2249413e-05], [0.99999124, 8.839398e-06], [3.8850694e-06, 0.9999962], [0.9999995, 4.633946e-07], [2.6905771e-12, 1.0], [1.8553255e-06, 0.9999981], [0.99999607, 3.9007537e-06], [1.0, 5.9255095e-10], [1.1439526e-07, 0.9999999], [1.0, 1.0411734e-07], [1.0, 1.3155155e-09], [6.1990124e-10, 1.0], [5.606981e-10, 1.0], [0.9999999, 7.9709594e-08], [4.7507683e-08, 1.0], [7.201796e-09, 1.0], [1.0, 1.1464671e-11], [1.2795175e-06, 0.99999875], [6.0110986e-11, 1.0], [0.00092050584, 0.9990795], [4.2464482e-10, 1.0], [0.99999964, 3.7873676e-07], [0.9999689, 3.1012638e-05], [1.0, 9.591625e-09], [5.289156e-09, 1.0], [2.2250422e-06, 0.9999978], [2.2869824e-09, 1.0], [1.084931e-08, 1.0], [6.4081876e-05, 0.999936], [1.0, 5.4341115e-08], [1.45796785e-05, 0.9999854], [1.1479999e-11, 1.0], [0.99999714, 2.892245e-06], [1.0, 1.8517657e-08], [0.0005863111, 0.99941367], [2.5712532e-07, 0.9999997], [8.799146e-09, 1.0], [0.9999975, 2.52374e-06], [1.0, 5.9255324e-08], [1.0, 3.5672199e-09], [1.0185907e-05, 0.9999898], [7.882467e-09, 1.0], [1.0, 2.2678627e-08], [3.933826e-07, 0.99999964], [1.5612975e-10, 1.0], [0.99160063, 0.008399373], [1.0541856e-06, 0.99999905], [1.0, 2.0632767e-09], [1.4925947e-10, 1.0], [1.0, 9.702249e-11], [1.0, 2.8165875e-08], [1.0, 1.7278886e-09], [2.0737389e-08, 1.0], [1.0971716e-07, 0.9999999], [2.4172073e-10, 1.0], [1.4693704e-09, 1.0], [8.832e-09, 1.0], [1.0, 2.2232753e-09], [3.702569e-08, 1.0], [0.9999999, 1.5698157e-07], [4.8846506e-08, 1.0], [3.829935e-09, 1.0], [1.9847912e-12, 1.0], [7.296905e-07, 0.99999934], [1.0, 3.3105199e-09], [1.0, 5.7355777e-08], [6.4761735e-10, 1.0], [1.0, 1.49007775e-08], [3.4127473e-10, 1.0], [0.999998, 2.080429e-06], [1.0, 9.82174e-10], [0.9999998, 1.364372e-07], [0.00011989907, 0.99988014], [6.796648e-08, 1.0], [0.9999717, 2.8343256e-05], [1.0, 2.624146e-09], [3.2495432e-06, 0.99999666], [0.19276747, 0.80723256], [1.0, 9.675462e-10], [5.0847905e-07, 0.9999995], [1.0, 4.1100193e-08], [3.118959e-10, 1.0], [1.0, 4.9525944e-10], [1.0, 1.4949254e-08], [1.0, 6.3144445e-10], [2.236017e-13, 1.0], [1.0, 5.417022e-10], [1.1535006e-10, 1.0], [1.0, 2.5762272e-09], [0.983932, 0.016067896], [5.1189736e-11, 1.0], [0.5236817, 0.47631827], [9.42121e-17, 1.0], [1.0231366e-08, 1.0], [1.0, 9.132556e-13], [1.0, 3.0090455e-08], [0.99281883, 0.0071812137], [1.828066e-09, 1.0], [0.9999758, 2.4299155e-05], [0.99990255, 9.750264e-05], [1.895476e-08, 1.0], [1.0, 3.649499e-09], [1.250128e-06, 0.99999875], [1.3349361e-06, 0.9999987], [3.3213172e-07, 0.9999997], [1.2860616e-07, 0.9999999], [1.0, 5.5520575e-09], [1.0, 8.811385e-09], [1.0, 6.095375e-08], [1.0, 3.607724e-08], [1.8288848e-09, 1.0], [1.0, 8.565892e-09], [0.9999999, 9.656687e-08], [4.6964956e-08, 1.0], [2.6323173e-06, 0.99999726], [1.0, 3.4469558e-10], [0.059918858, 0.9400811], [0.9999896, 1.0400917e-05], [0.9999677, 3.2266973e-05], [1.6072393e-07, 0.9999999], [1.0, 9.013856e-09], [0.99622935, 0.0037706222], [1.0, 1.577964e-08], [0.9999997, 2.4861043e-07], [1.0, 4.817224e-10], [1.0, 7.54546e-09], [1.0985283e-07, 0.9999999], [1.6951157e-13, 1.0], [1.0, 2.2290969e-08], [1.0, 9.6092336e-08], [1.150634e-10, 1.0], [1.0, 1.5435628e-08], [1.0, 5.174065e-10], [0.9999992, 7.627573e-07], [1.0, 8.5933274e-11], [5.412686e-07, 0.9999995], [2.6894119e-08, 1.0], [0.99999034, 9.661818e-06], [7.29175e-08, 1.0], [6.8887174e-10, 1.0], [8.4890087e-07, 0.99999917], [1.0, 1.0860985e-08], [2.7397261e-06, 0.99999714], [0.99999964, 3.7726346e-07], [1.0, 1.5970439e-09], [1.0, 1.6483492e-10], [0.0017938378, 0.99820614], [0.9999998, 1.687819e-07], [1.0, 4.63645e-09], [0.9999653, 3.477704e-05], [1.0, 2.64513e-09], [0.9993456, 0.00065437576], [1.4030763e-05, 0.999986], [3.3131993e-08, 1.0], [1.0, 2.5370998e-08], [1.6261147e-07, 0.9999999], [0.9999992, 8.1453464e-07], [4.0446473e-08, 1.0], [0.99999964, 4.3208289e-07], [0.999994, 6.0185935e-06], [0.9999997, 3.7669005e-07], [4.0932914e-06, 0.999996], [3.6315935e-08, 1.0], [0.99990785, 9.207982e-05], [0.9999877, 1.2302598e-05], [0.007994994, 0.99200505], [1.0, 2.2551685e-09], [1.0, 8.627833e-10], [0.9999973, 2.569937e-06], [1.0, 3.9614476e-09], [0.99999875, 1.2380121e-06], [6.2916286e-07, 0.9999994], [0.9999999, 1.626823e-07], [1.0, 5.7614635e-10], [0.00022252002, 0.9997775], [4.315523e-10, 1.0], [4.540645e-10, 1.0], [8.606139e-09, 1.0], [7.6294615e-10, 1.0], [1.0, 7.881045e-09], [0.9722892, 0.027710881], [4.2047013e-06, 0.9999959], [8.647994e-09, 1.0], [1.0, 2.7295538e-10], [1.0, 1.5621152e-11], [0.9999998, 1.3338902e-07], [1.064353e-06, 0.9999989], [1.0, 1.1226189e-09], [1.3707993e-10, 1.0], [5.6245466e-07, 0.9999994], [0.9999418, 5.810608e-05], [0.9999919, 8.103957e-06], [1.0, 9.56961e-10], [0.9999995, 5.422948e-07], [1.0, 4.8265473e-08], [1.909918e-10, 1.0], [1.2285508e-09, 1.0], [1.3078463e-08, 1.0], [0.99999726, 2.8075674e-06], [6.4537447e-12, 1.0], [2.4672522e-08, 1.0], [3.1832312e-07, 0.99999964], [3.3308414e-09, 1.0], [2.3018791e-09, 1.0], [0.9999997, 2.9798863e-07], [1.0, 2.3019982e-08], [1.1751685e-11, 1.0], [0.9999999, 1.6720104e-07], [1.0, 2.1568396e-09], [1.0, 1.551267e-09], [1.0, 2.9238137e-08], [0.99999857, 1.4741586e-06], [2.3171843e-11, 1.0], [1.8449834e-08, 1.0], [4.646862e-13, 1.0], [1.198071e-05, 0.9999881], [1.0, 1.6759625e-09], [1.0, 4.6254938e-09], [1.0, 1.8502871e-10], [0.9999987, 1.380349e-06], [0.40706626, 0.5929338], [2.1878554e-07, 0.9999997], [1.0, 3.0390883e-09], [0.6581906, 0.34180945], [4.8962374e-08, 1.0], [1.0, 5.5535406e-08], [6.417473e-08, 1.0], [1.0, 3.5109746e-10], [1.0, 5.028601e-09], [1.734603e-09, 1.0], [3.6804572e-08, 1.0], [3.5643725e-07, 0.9999997], [5.873547e-07, 0.9999994], [1.3129339e-09, 1.0], [1.0, 6.119882e-09], [0.068684265, 0.9313157], [1.07300765e-10, 1.0], [1.0, 7.578112e-09], [0.0010714197, 0.99892855], [0.0022976405, 0.9977024], [1.5243982e-10, 1.0], [1.0, 4.7520064e-11], [1.0, 4.121607e-10], [1.0, 5.0930466e-12], [1.0, 1.1623015e-10], [1.423561e-10, 1.0], [0.9999999, 7.2031824e-08], [1.0, 1.3746654e-09], [1.0, 3.3064612e-08], [1.0, 4.3708507e-08], [0.00038875354, 0.99961126], [7.0666646e-09, 1.0], [2.4639804e-09, 1.0], [3.4901835e-09, 1.0], [4.083835e-10, 1.0], [0.0006415535, 0.9993585], [1.0, 1.926855e-12], [8.837292e-13, 1.0], [6.7487585e-11, 1.0], [0.9999997, 2.4715482e-07], [1.4382375e-11, 1.0], [0.9669417, 0.033058275], [0.99999905, 8.83126e-07], [4.90199e-10, 1.0], [2.3163261e-07, 0.9999998], [1.0, 3.4373027e-10], [0.9097295, 0.0902705], [1.0, 1.0058692e-08], [2.7058098e-07, 0.9999997], [0.007877095, 0.99212295], [1.0393424e-14, 1.0], [1.0, 3.966229e-09], [2.7544422e-05, 0.99997246], [1.0, 3.1680234e-09], [1.0, 8.2017193e-10], [5.78168e-11, 1.0], [3.0877655e-11, 1.0], [7.9634715e-11, 1.0], [1.0, 9.458728e-10], [1.0, 1.1566421e-12], [1.0473701e-08, 1.0], [1.3348068e-06, 0.99999875], [1.0, 3.511051e-10], [4.4312287e-10, 1.0], [1.394814e-05, 0.99998605], [0.9996837, 0.00031626283], [0.9692875, 0.03071252], [6.4289716e-09, 1.0], [1.8327648e-06, 0.9999982], [0.0029341024, 0.9970659], [1.598913e-11, 1.0], [7.6629885e-09, 1.0], [1.601203e-08, 1.0], [0.9999999, 1.089832e-07], [1.0, 5.4428615e-08], [4.2398997e-07, 0.9999995], [0.9999938, 6.3250363e-06], [1.4671459e-08, 1.0], [0.9999981, 1.9768283e-06], [1.0, 1.1305997e-08], [1.0, 6.823633e-08], [0.99999905, 1.0416755e-06], [8.182034e-14, 1.0], [1.0, 4.455827e-08], [1.0, 1.777803e-09], [1.6469563e-07, 0.9999998], [3.8563486e-11, 1.0], [1.0, 7.934577e-09], [2.4693256e-07, 0.9999997], [0.99042475, 0.009575261], [3.6074959e-09, 1.0], [4.427048e-05, 0.9999558], [1.4528185e-08, 1.0], [3.7495502e-07, 0.99999964], [1.4317187e-09, 1.0], [0.00031864952, 0.9996813], [1.0, 6.897335e-09], [1.0, 2.3642048e-08], [6.3653346e-08, 1.0], [0.9999973, 2.716242e-06], [1.0, 2.4851718e-09], [0.9982136, 0.0017864065], [1.2054195e-09, 1.0], [1.0, 8.87569e-09], [5.248662e-11, 1.0], [1.1787735e-09, 1.0], [4.4083333e-08, 1.0], [0.9861442, 0.01385588], [2.9080076e-09, 1.0], [4.6482484e-07, 0.99999964], [0.9999992, 7.16465e-07], [1.2814655e-08, 1.0], [1.0, 6.153548e-08], [0.9999999, 1.976211e-07], [4.2398997e-07, 0.9999995], [2.508323e-11, 1.0], [3.5670558e-10, 1.0], [1.9884276e-07, 0.9999998], [1.512038e-05, 0.99998486], [1.5432161e-07, 0.9999998], [1.0, 1.270658e-09], [0.79012334, 0.20987669], [3.272677e-08, 1.0], [2.527075e-08, 1.0], [1.0, 3.0369643e-12], [1.2224996e-08, 1.0], [0.9999997, 2.7604156e-07], [0.9996703, 0.00032976439], [0.99999344, 6.6603448e-06], [1.0, 2.5889346e-11], [9.576434e-09, 1.0], [1.2186049e-12, 1.0], [6.2433747e-12, 1.0], [1.4316039e-05, 0.9999858], [8.53617e-11, 1.0], [2.5982414e-09, 1.0], [0.99999636, 3.708285e-06], [1.213903e-11, 1.0], [0.7333852, 0.26661476], [4.5726227e-07, 0.9999995], [4.2140123e-08, 1.0], [7.965984e-08, 1.0], [1.0, 2.4660329e-08], [9.30868e-11, 1.0], [5.7688897e-08, 1.0], [0.99998873, 1.1219965e-05], [2.9223731e-06, 0.99999714], [1.0, 1.9710347e-10], [8.175983e-11, 1.0], [1.0, 2.3131008e-09], [1.0, 2.7399334e-08], [9.497709e-10, 1.0], [1.0, 2.1869837e-09], [1.4646767e-09, 1.0], [1.7312683e-08, 1.0], [0.9999998, 2.0662435e-07], [1.0, 4.790093e-09], [4.2660302e-11, 1.0], [6.957442e-07, 0.99999934], [1.0298857e-11, 1.0], [1.6380466e-10, 1.0], [1.0, 3.4729062e-08], [9.582062e-12, 1.0], [0.9999989, 1.116937e-06], [1.0803994e-06, 0.9999989], [0.9891907, 0.010809262], [0.9999997, 3.6148995e-07], [5.6481846e-09, 1.0], [1.0, 4.0554596e-08], [8.12381e-06, 0.9999919], [1.1176907e-08, 1.0], [1.0640756e-08, 1.0], [0.9999982, 1.8197674e-06], [7.333454e-11, 1.0], [1.0, 3.3574027e-10], [1.0, 7.307309e-09], [1.2295028e-07, 0.9999999], [0.9999997, 3.6853044e-07], [2.0835053e-08, 1.0], [2.8493194e-08, 1.0], [1.0, 6.0631336e-08], [1.0, 4.818268e-08], [1.5341132e-07, 0.9999998], [5.639921e-10, 1.0], [1.0, 6.9052696e-08], [0.99999094, 9.007954e-06], [3.9051375e-08, 1.0], [1.7010092e-06, 0.9999983], [5.9258904e-12, 1.0], [1.6358122e-09, 1.0], [2.4330392e-12, 1.0], [2.1546036e-11, 1.0], [1.0, 1.9658206e-09], [0.9999995, 5.3495717e-07], [1.0, 6.478141e-08], [3.8856518e-07, 0.9999997], [9.4542845e-09, 1.0], [0.9999999, 9.312068e-08], [2.2157343e-10, 1.0], [1.5093184e-11, 1.0], [1.0, 4.555532e-09], [3.6471604e-11, 1.0], [1.0, 2.7586808e-10], [0.020664863, 0.9793351], [4.922057e-06, 0.99999505], [0.9999998, 1.7424847e-07], [0.9998783, 0.00012178648], [2.3709906e-10, 1.0], [2.3148646e-11, 1.0], [6.1853185e-09, 1.0], [1.2491798e-08, 1.0], [1.0, 2.851229e-08], [1.1434298e-09, 1.0], [1.0, 4.061717e-09], [1.0, 3.5759284e-09], [0.050058417, 0.9499415], [0.00021163051, 0.9997884], [8.04367e-07, 0.9999992], [8.374858e-10, 1.0], [0.9999732, 2.6715532e-05], [0.9729289, 0.02707104], [0.99998486, 1.5152368e-05], [0.9999997, 3.2903458e-07], [1.0, 1.2995129e-10], [1.2139317e-10, 1.0], [1.1550723e-09, 1.0], [1.1994143e-07, 0.9999999], [0.9992658, 0.00073424], [1.505481e-07, 0.9999999], [3.5732645e-10, 1.0], [1.0, 5.6461684e-09], [0.9999994, 6.154286e-07], [2.6089637e-09, 1.0], [3.29112e-06, 0.99999666], [0.9999999, 1.3567148e-07], [0.9999999, 9.56383e-08], [0.99999857, 1.3747217e-06], [1.3597754e-08, 1.0], [1.4577844e-05, 0.99998534], [0.9999998, 2.5154833e-07], [0.01021276, 0.9897872], [2.489252e-06, 0.9999975], [1.0, 7.466851e-09], [2.6747256e-09, 1.0], [0.9998649, 0.00013511663], [0.99999964, 4.622804e-07], [1.0, 2.1859305e-09], [1.924637e-06, 0.9999981], [1.248833e-10, 1.0], [1.0, 2.7149985e-08], [1.0, 7.21421e-11], [1.0, 6.557102e-11], [1.0, 1.9544481e-10], [1.0, 5.444247e-11], [0.98272336, 0.017276548], [1.0544956e-09, 1.0], [1.0, 1.1082875e-08], [0.9999896, 1.0385783e-05], [1.0, 6.9722936e-11], [0.002273072, 0.9977269], [2.8453305e-06, 0.99999726], [1.0, 2.0091305e-08], [0.9981284, 0.0018715136], [0.9999995, 5.912738e-07], [0.0001772785, 0.99982274], [1.1164651e-09, 1.0], [1.0, 7.1332993e-09], [1.0, 5.6728373e-09], [0.9998709, 0.00012909473], [5.0916817e-08, 1.0], [6.664566e-05, 0.99993336], [1.8351412e-11, 1.0], [0.99999905, 9.3062783e-07], [0.9999975, 2.3771668e-06], [2.9481675e-09, 1.0], [9.477938e-07, 0.99999905], [1.0, 3.3025527e-10], [0.9999998, 1.9485245e-07], [1.7009066e-10, 1.0], [0.9962209, 0.0037790854], [1.3835988e-07, 0.9999999], [3.38912e-13, 1.0], [2.0439172e-07, 0.9999998], [4.0296952e-10, 1.0], [0.9999999, 7.808546e-08], [4.0615364e-10, 1.0], [1.0, 1.2036175e-10], [4.249849e-07, 0.9999995], [2.2474083e-08, 1.0], [0.9998237, 0.00017632106], [1.0, 1.2389935e-08], [1.0303229e-07, 1.0], [1.0, 1.874162e-11], [1.1982426e-07, 0.9999999], [7.8370005e-10, 1.0], [4.495899e-09, 1.0], [6.758374e-06, 0.9999932], [2.0038033e-06, 0.999998], [1.0, 1.7267233e-11], [5.306756e-10, 1.0], [1.0, 2.0734219e-09], [0.99999857, 1.4322377e-06], [0.9881924, 0.011807598], [0.9999999, 1.6195982e-07], [4.2705606e-06, 0.9999958], [2.4702222e-08, 1.0], [5.45128e-10, 1.0], [0.10043733, 0.8995627], [2.6694942e-09, 1.0], [4.710861e-08, 1.0], [1.0, 2.8614582e-09], [0.9999998, 2.6679663e-07], [1.0, 7.005675e-08], [0.99999714, 2.85135e-06], [1.9841687e-05, 0.99998015], [1.0, 2.892673e-11], [0.99996203, 3.7978676e-05], [1.4260347e-10, 1.0], [0.0001566422, 0.9998433], [1.0, 2.4117384e-08], [0.17572145, 0.82427853], [0.99999887, 1.1487617e-06], [2.9045475e-08, 1.0], [5.9277516e-10, 1.0], [0.9999819, 1.8176623e-05], [1.1926395e-10, 1.0], [1.0, 1.28146365e-11], [3.0219022e-10, 1.0], [5.798233e-11, 1.0], [4.6750716e-07, 0.99999964], [1.0, 5.6782334e-08], [6.27969e-10, 1.0], [3.285189e-09, 1.0], [1.0, 3.340467e-10], [3.545089e-09, 1.0], [2.2892895e-05, 0.9999771], [1.0, 7.655527e-09], [1.6876861e-07, 0.9999998], [0.9999999, 1.08242396e-07], [8.456861e-12, 1.0], [1.0, 2.375982e-08], [0.005121776, 0.9948783], [0.9999995, 4.512411e-07], [1.6836131e-07, 0.9999998], [2.0768515e-11, 1.0], [1.0, 3.4791434e-08], [0.99783695, 0.002162972], [1.0, 1.2723828e-08], [1.0, 1.0554346e-09], [1.0, 1.9186792e-09], [1.0, 5.4356804e-08], [0.99998, 2.0130628e-05], [1.0, 4.9373877e-10], [1.0, 2.0628407e-08], [0.99998486, 1.5111162e-05], [1.0, 2.0990209e-08], [1.0, 7.4502453e-09], [0.00025017647, 0.99974984], [0.00066578086, 0.99933416], [2.6904257e-08, 1.0], [1.0, 1.0463917e-08], [7.31968e-05, 0.99992675], [5.1752447e-10, 1.0], [4.2015738e-09, 1.0], [1.0, 5.964847e-08], [8.8949315e-14, 1.0], [0.9998001, 0.00019992483], [0.0009195309, 0.9990805], [1.0, 1.6126564e-12], [0.00017331596, 0.9998267], [0.9999997, 2.9612792e-07], [0.9999676, 3.2353473e-05], [1.0, 4.514141e-08], [2.9245946e-11, 1.0], [1.0, 1.5755331e-11], [0.99996173, 3.827662e-05], [0.9999998, 1.7052596e-07], [4.0502024e-10, 1.0], [2.9688402e-10, 1.0], [9.771453e-07, 0.99999917], [0.0007121112, 0.99928796], [9.536577e-06, 0.9999906], [2.8616132e-08, 1.0], [6.6830773e-07, 0.9999992], [8.120027e-09, 1.0], [1.0, 3.1474937e-11], [1.0, 3.4000518e-08], [1.0, 1.0329634e-10], [1.0, 4.481803e-10], [1.0, 3.6460055e-08], [0.9999998, 2.8687697e-07], [4.9404547e-09, 1.0], [2.9954948e-11, 1.0], [1.6495798e-09, 1.0], [0.9998474, 0.0001526379], [9.070062e-09, 1.0], [1.0, 2.3970118e-11], [0.28347597, 0.716524], [1.0, 1.1591156e-08], [3.8655205e-08, 1.0], [2.163596e-09, 1.0], [1.0, 5.8838577e-08], [0.028099116, 0.97190094], [0.99999267, 7.3804586e-06], [9.585361e-09, 1.0], [8.060886e-12, 1.0], [3.3651368e-08, 1.0], [2.3804699e-08, 1.0], [1.6903016e-09, 1.0], [1.0, 7.8982865e-09], [0.7123824, 0.28761762], [4.2633825e-08, 1.0], [0.00017188617, 0.99982816], [1.0, 1.5143112e-08], [3.8924353e-09, 1.0], [0.99999464, 5.3869403e-06], [5.9544756e-05, 0.9999405], [0.9365305, 0.063469484], [0.0002395045, 0.99976045], [2.2175457e-09, 1.0], [2.1343267e-10, 1.0], [1.7148408e-06, 0.9999983], [1.0, 5.554183e-09], [0.99973404, 0.00026596378], [1.0, 3.79318e-09], [3.0200147e-07, 0.9999997], [8.744032e-08, 1.0], [1.0, 6.251665e-10], [1.0, 1.0548293e-09], [0.9999863, 1.373027e-05], [4.597582e-06, 0.9999954], [2.1088094e-06, 0.9999978], [1.0, 1.2531773e-09], [1.43023895e-08, 1.0], [1.0, 7.43644e-09], [1.0, 7.443361e-10], [0.9999994, 6.780139e-07], [1.0, 7.886841e-10], [1.0, 1.01423066e-08], [1.6773546e-08, 1.0], [1.0718879e-08, 1.0], [1.808769e-10, 1.0], [0.9999994, 5.8751766e-07], [1.0, 3.074416e-09], [1.0, 3.977167e-11], [0.9999998, 2.2154563e-07], [4.672318e-08, 1.0], [1.777137e-09, 1.0], [1.0, 1.7048641e-09], [0.99999887, 1.1025065e-06], [1.0, 4.064514e-08], [0.9999992, 7.765555e-07], [1.0, 7.3578164e-11], [1.0, 4.7708354e-10], [1.141538e-05, 0.99998856], [0.04897865, 0.9510213], [3.2659594e-07, 0.99999964], [0.9999997, 2.8805647e-07], [1.0, 4.84633e-08], [0.9999984, 1.711203e-06], [0.9999998, 2.5383844e-07], [1.05645015e-11, 1.0], [0.9999998, 2.3394288e-07], [0.9999997, 2.7947624e-07], [0.9720545, 0.027945478], [1.0, 2.9498219e-08], [1.0, 6.2163025e-11], [0.99999857, 1.5303561e-06], [0.99999857, 1.4242415e-06], [5.8683627e-09, 1.0], [8.09694e-10, 1.0], [2.4565614e-09, 1.0], [7.21088e-11, 1.0], [1.0, 5.968701e-08], [7.3578015e-08, 1.0], [0.9999998, 2.0622124e-07], [7.6737436e-11, 1.0], [1.0, 8.08072e-09], [1.0, 1.2164152e-08], [4.722554e-10, 1.0], [4.2863518e-10, 1.0], [1.0, 3.547083e-10], [1.6835535e-06, 0.9999983], [4.250186e-08, 1.0], [1.0, 1.1748693e-08], [1.0, 4.4282356e-08], [0.9999995, 5.0073174e-07], [0.99999905, 9.91279e-07], [1.0, 6.945244e-08], [1.0, 2.2942823e-09], [0.49852023, 0.50147974], [6.5945356e-09, 1.0], [0.010022697, 0.98997736], [1.0, 3.2282006e-08], [0.0062532956, 0.99374664], [1.1390618e-07, 0.9999999], [0.9999999, 2.1623615e-07], [1.0090271e-09, 1.0], [1.808633e-06, 0.9999982], [2.0308548e-11, 1.0], [1.7296959e-06, 0.9999983], [1.0, 4.427785e-09], [0.9998026, 0.00019735846], [1.0, 3.119684e-08], [9.2221664e-10, 1.0], [1.0705957e-09, 1.0], [0.9919227, 0.008077399], [6.476203e-10, 1.0], [0.0042763087, 0.9957237], [1.6868548e-10, 1.0], [1.0, 3.4534993e-09], [7.4965545e-10, 1.0], [0.9999439, 5.6124634e-05], [1.0641131e-07, 0.9999999], [0.9971862, 0.0028137844], [0.90353185, 0.096468136], [7.9403313e-13, 1.0], [0.99999934, 7.147961e-07], [1.0, 8.577694e-10], [0.9999999, 1.04248684e-07], [4.9559524e-08, 1.0], [0.99999934, 6.791371e-07], [7.3345156e-11, 1.0], [0.99997854, 2.144983e-05], [0.999996, 3.9991673e-06], [2.930275e-09, 1.0], [1.5515615e-09, 1.0], [0.9999999, 7.319411e-08], [4.8341944e-09, 1.0], [1.0, 4.2216664e-11], [3.3351524e-05, 0.99996674], [0.9999315, 6.86237e-05], [1.6197935e-09, 1.0], [1.0, 2.9152497e-08], [1.0, 1.3500437e-11], [1.0532546e-10, 1.0], [1.0755532e-10, 1.0], [1.0, 2.4793718e-09], [1.0, 2.1434879e-08], [2.3835607e-09, 1.0], [3.0064868e-08, 1.0], [2.6219064e-08, 1.0], [2.4878597e-08, 1.0], [0.9999987, 1.3746917e-06], [1.31646445e-08, 1.0], [1.0, 1.9607526e-08], [0.9999973, 2.715403e-06], [0.00042036813, 0.9995796], [8.892799e-06, 0.99999106], [1.436611e-07, 0.9999998], [1.0, 4.167288e-09], [0.9999999, 9.099203e-08], [7.326104e-10, 1.0], [1.0, 5.4257615e-10], [1.0, 1.4423907e-09], [1.0, 3.1866147e-09], [0.9724886, 0.027511448], [1.6796639e-08, 1.0], [1.0, 1.5746615e-09], [1.0, 2.3150118e-08], [1.3346484e-07, 0.9999998], [1.6018636e-06, 0.9999984], [7.039355e-14, 1.0], [3.686813e-07, 0.99999964], [1.0, 3.5548606e-09], [0.9999997, 2.8789012e-07], [1.1661042e-09, 1.0], [1.4819457e-09, 1.0], [1.0, 5.251723e-08], [1.0, 1.9683224e-08], [1.0942969e-06, 0.9999989], [0.9999999, 1.2706998e-07], [1.0, 5.8305014e-09], [9.225162e-09, 1.0], [1.0, 2.1225355e-09], [9.3298195e-07, 0.99999905], [0.99999887, 1.1417055e-06], [1.0, 1.7980047e-09], [6.979145e-07, 0.9999994], [1.0, 1.9685887e-11], [0.9999859, 1.4066345e-05], [1.0, 9.292199e-09], [2.6176157e-09, 1.0], [1.0, 9.218409e-08], [1.0, 4.6392032e-10], [1.0, 9.256348e-11], [2.3132414e-09, 1.0], [0.99999964, 3.0714946e-07], [0.97953194, 0.020468084], [1.0, 1.5655733e-08], [0.9999994, 6.729404e-07], [0.99999905, 9.3549124e-07], [0.7473592, 0.25264072], [1.0, 4.0088082e-11], [3.8070175e-06, 0.9999963], [1.0, 2.911694e-10], [4.173659e-08, 1.0], [1.2718074e-10, 1.0], [7.909476e-10, 1.0], [0.99975, 0.00025002923], [2.831176e-11, 1.0], [4.146301e-08, 1.0], [0.9999998, 2.1689975e-07], [1.0, 4.135671e-08], [2.749612e-09, 1.0], [1.03221e-11, 1.0], [1.0, 1.7976808e-09], [0.9999957, 4.2977194e-06], [3.6105068e-09, 1.0], [1.649125e-07, 0.9999999], [1.0, 2.8207348e-08], [1.6708966e-11, 1.0], [1.0, 2.0875277e-08], [0.9999994, 5.57033e-07], [4.6930505e-11, 1.0], [2.0830067e-11, 1.0], [0.9999984, 1.6933049e-06], [0.99512595, 0.004874029], [0.9999882, 1.186018e-05], [8.261014e-10, 1.0], [1.0, 2.7767616e-10], [0.9999815, 1.8464496e-05], [0.99999887, 1.1631308e-06], [0.99876374, 0.0012362609], [1.0, 8.591592e-09], [1.0, 9.391842e-10], [1.0000885e-11, 1.0], [0.9999875, 1.2447528e-05], [0.99999964, 4.2214748e-07], [4.6658584e-05, 0.9999534], [1.1455807e-09, 1.0], [5.7265286e-11, 1.0], [1.0, 5.2474873e-09], [4.513464e-06, 0.9999954], [0.99999666, 3.3412841e-06], [1.0, 1.4029091e-09], [0.9999815, 1.853704e-05], [2.0656591e-07, 0.9999998], [0.9999998, 1.6945751e-07], [3.0046698e-09, 1.0], [3.7300538e-07, 0.99999964], [0.9999992, 8.205149e-07], [4.799487e-06, 0.99999523], [5.974015e-10, 1.0], [5.2599958e-06, 0.99999475], [0.9999999, 1.9744895e-07], [1.0, 7.338025e-09], [1.0, 2.1277025e-09], [1.0, 1.2720331e-09], [1.0, 5.661676e-10], [0.9940113, 0.005988652], [0.97074, 0.02925981], [2.696549e-07, 0.9999997], [0.0010118964, 0.99898803], [3.3440482e-08, 1.0], [0.999874, 0.00012604608], [0.9999992, 8.3857304e-07], [3.4677e-13, 1.0], [6.8952656e-12, 1.0], [0.03859592, 0.961404], [0.9999998, 2.294792e-07], [1.0, 3.3762486e-08], [1.0, 5.626847e-08], [0.9999981, 1.8819253e-06], [0.9999989, 1.0633428e-06], [7.5433604e-07, 0.99999934], [1.0, 1.3879557e-10], [1.0452051e-11, 1.0], [1.7789629e-05, 0.99998224], [0.99998295, 1.7065797e-05], [1.0, 1.2093833e-08], [0.9999936, 6.377223e-06], [1.0, 2.1837476e-09], [1.0, 3.2664662e-08], [0.9999987, 1.4296817e-06], [3.137388e-09, 1.0], [2.2022632e-06, 0.9999978], [0.9999939, 6.1920377e-06], [3.3485114e-11, 1.0], [0.9999937, 6.292513e-06], [1.0, 1.6645272e-08], [1.3224863e-05, 0.99998677], [0.99999845, 1.5200569e-06], [2.9926501e-09, 1.0], [0.9999981, 1.9211197e-06], [1.0850777e-08, 1.0], [0.9999987, 1.3598304e-06], [0.9999937, 6.222399e-06], [1.0, 3.365028e-08], [1.0, 1.7332791e-11], [0.9982599, 0.0017401406], [5.464973e-07, 0.9999995], [0.99407995, 0.0059199277], [0.9999086, 9.1347334e-05], [7.651303e-06, 0.99999225], [0.9999992, 8.070231e-07], [0.99992543, 7.4589814e-05], [1.6621845e-09, 1.0], [4.07284e-11, 1.0], [0.9994524, 0.0005475661], [1.0, 1.24249055e-08], [7.388499e-12, 1.0], [2.945482e-09, 1.0], [5.7529087e-05, 0.9999425], [0.9999997, 2.839659e-07], [0.56192076, 0.4380792], [2.1870265e-10, 1.0], [3.61048e-07, 0.99999964], [1.0, 1.3290043e-08], [0.13363135, 0.8663686], [1.2902825e-07, 0.9999998], [9.30609e-09, 1.0], [3.9848675e-07, 0.99999964], [1.0, 2.7107665e-08], [1.5227728e-07, 0.9999998], [1.0, 7.408761e-10], [0.99937123, 0.00062876986], [0.9999995, 4.3965406e-07], [1.1931745e-07, 0.9999999], [1.0, 4.0668198e-08], [2.724486e-07, 0.9999998], [0.99999964, 4.194282e-07], [1.0, 1.588537e-09], [1.0, 6.337938e-09], [6.576851e-10, 1.0], [7.050225e-08, 1.0], [2.0775759e-10, 1.0], [2.15322e-07, 0.9999998], [0.9999979, 2.1229912e-06], [0.9999968, 3.2439207e-06], [1.1865328e-07, 0.9999999], [1.0, 4.0403353e-10], [1.0, 3.202149e-09], [1.0, 1.2168252e-08], [8.9215085e-08, 0.9999999], [1.0, 1.1600981e-10], [3.5284994e-10, 1.0], [0.9999927, 7.2631274e-06], [8.6834145e-05, 0.9999131], [8.302683e-07, 0.9999992], [0.99999934, 6.882964e-07], [1.0, 1.5757337e-09], [1.0, 4.511025e-11], [1.0, 2.3801087e-08], [0.99889266, 0.0011073365], [1.9725304e-09, 1.0], [2.9762687e-05, 0.9999703], [1.0, 1.6315882e-08], [0.9339202, 0.06607975], [1.5328123e-10, 1.0], [1.0, 3.812243e-08], [1.0, 4.8133736e-10], [3.5167563e-10, 1.0], [2.3177367e-06, 0.9999978], [6.1060135e-09, 1.0], [9.465352e-08, 1.0], [2.3304437e-07, 0.9999998], [3.5281306e-07, 0.99999964], [1.3590373e-05, 0.99998635], [4.7349533e-12, 1.0], [8.326143e-07, 0.99999917], [6.082589e-10, 1.0], [7.676839e-12, 1.0], [0.9999994, 5.374919e-07], [1.0, 2.1717848e-09], [0.9999908, 9.1712345e-06], [1.0, 2.5155984e-09], [8.506771e-09, 1.0], [2.267102e-06, 0.99999774], [0.00013752031, 0.99986255], [1.8414306e-10, 1.0], [1.0, 1.0341273e-08], [0.9997635, 0.00023662651], [0.9999965, 3.572084e-06], [1.9463786e-10, 1.0], [0.9998503, 0.00014977304], [0.99999607, 3.9066026e-06], [1.4896644e-07, 0.9999998], [0.9999999, 1.4628809e-07], [1.0, 7.118732e-08], [1.0, 2.470056e-08], [1.0, 5.7342373e-08], [5.8482594e-11, 1.0], [0.0022780981, 0.99772197], [1.0, 4.576907e-09], [1.6419768e-05, 0.9999836], [0.99999964, 4.087767e-07], [0.9958232, 0.0041768444], [1.0, 2.3886731e-10], [0.99998903, 1.0971015e-05], [0.9999137, 8.634927e-05], [0.99999964, 3.3950047e-07], [0.99997807, 2.1980213e-05], [7.8026563e-10, 1.0], [6.3246426e-09, 1.0], [5.8974656e-09, 1.0], [9.048978e-08, 1.0], [1.0, 1.3326253e-09], [1.0, 1.1947931e-08], [0.99990386, 9.619155e-05], [1.0, 2.5984293e-11], [1.3410331e-09, 1.0], [2.0054012e-08, 1.0], [1.0, 3.044598e-09], [6.6636094e-05, 0.99993336], [1.0, 4.0407233e-10], [1.7134102e-10, 1.0], [8.92166e-06, 0.9999911], [9.28332e-08, 1.0], [1.0, 8.209869e-11], [0.9999997, 2.278402e-07], [2.289307e-07, 0.9999998], [0.9998956, 0.000104401144], [1.0, 2.8037087e-08], [1.0, 3.255192e-08], [1.6001646e-05, 0.99998397], [1.0, 4.6863207e-09], [1.0, 4.903033e-10], [1.3362744e-09, 1.0], [1.0, 5.590443e-09], [1.2002718e-10, 1.0], [2.6851953e-06, 0.9999973], [8.0283363e-10, 1.0], [7.649074e-13, 1.0], [0.9999999, 9.71401e-08], [1.0, 9.484522e-11], [4.4716476e-06, 0.9999956], [0.9999999, 8.3096296e-08], [0.9999994, 5.6357845e-07], [0.8927851, 0.10721485], [0.99999744, 2.664778e-06], [1.2526126e-10, 1.0], [1.0, 3.128166e-10], [2.02647e-09, 1.0], [6.593511e-08, 0.9999999], [1.0, 1.8305624e-08], [1.0, 5.9194416e-08], [2.4434644e-07, 0.9999998], [0.9999999, 1.5697444e-07], [1.0, 3.8702277e-09], [0.9996611, 0.0003389624], [1.9421993e-09, 1.0], [0.9999998, 1.7661311e-07], [1.0, 3.8399645e-10], [0.00018503181, 0.99981487], [0.99999726, 2.8376223e-06], [2.4784523e-08, 1.0], [1.0, 2.016293e-10], [1.0, 2.1243074e-09], [1.0, 6.168522e-08], [3.882794e-09, 1.0], [1.3718447e-08, 1.0], [0.65165734, 0.3483426], [1.0, 8.27388e-08], [2.691524e-10, 1.0], [6.41621e-10, 1.0], [5.946903e-11, 1.0], [1.0, 2.4620597e-10], [1.0, 6.1820955e-08], [0.99999124, 8.815029e-06], [1.0, 4.451469e-10], [3.8790577e-12, 1.0], [9.108385e-07, 0.99999917], [9.6149435e-08, 1.0], [1.0, 3.3900942e-09], [1.0, 4.967394e-09], [3.1994424e-10, 1.0], [2.9278053e-09, 1.0], [0.00058654754, 0.9994134], [1.9046634e-05, 0.9999809], [0.97282726, 0.027172714], [4.0854184e-07, 0.9999995], [7.745738e-09, 1.0], [0.9999998, 1.5456254e-07], [2.0733322e-10, 1.0], [0.9999994, 5.37112e-07], [1.0, 9.1066427e-10], [0.9999995, 4.3772556e-07], [4.9767584e-10, 1.0], [4.752729e-09, 1.0], [1.0, 3.168762e-08], [0.9999997, 2.725326e-07], [3.2615418e-08, 1.0], [1.0, 1.7191962e-10], [1.0, 8.291342e-10], [0.82963496, 0.17036502], [0.99999774, 2.1776368e-06], [3.6916248e-08, 1.0], [4.2768228e-10, 1.0], [6.5022835e-12, 1.0], [1.0, 8.081789e-09], [0.99986887, 0.00013118955], [1.0, 7.545731e-11], [9.9648766e-08, 1.0], [2.8307534e-06, 0.99999714], [1.0, 3.294314e-08], [0.11015856, 0.88984144], [2.4204283e-09, 1.0], [5.611956e-09, 1.0], [2.2064257e-06, 0.9999978], [1.5771665e-11, 1.0], [5.411646e-08, 1.0], [1.0668611e-05, 0.99998933], [0.9999957, 4.389453e-06], [1.0, 3.729441e-09], [1.977555e-07, 0.9999997], [3.9749954e-09, 1.0], [1.0, 4.2466897e-10], [1.6271795e-08, 1.0], [1.0, 1.6697314e-09], [0.9999994, 5.7098873e-07], [1.0, 2.1732574e-09], [0.99999225, 7.7331e-06], [0.9999999, 1.5509296e-07], [1.0, 2.153109e-09], [1.8600532e-07, 0.9999998], [9.3085867e-10, 1.0], [0.9970266, 0.0029733465], [0.0008743092, 0.9991258], [1.4103446e-06, 0.9999987], [1.0, 1.1971396e-08], [3.8971106e-07, 0.99999964], [0.9999997, 3.2082067e-07], [0.9996028, 0.00039725998], [6.916448e-05, 0.99993086], [7.2309365e-07, 0.9999992], [1.0, 1.1916418e-08], [1.4351905e-06, 0.99999857], [0.9999992, 7.7013675e-07], [1.0, 5.2225335e-09], [0.40137872, 0.59862125], [1.0, 2.0437703e-08], [1.0, 6.516211e-10], [1.0, 2.3147134e-08], [4.6229703e-10, 1.0], [7.031624e-11, 1.0], [0.9990724, 0.00092764746], [5.7617335e-11, 1.0], [1.0, 1.2329837e-10], [0.9999342, 6.575996e-05], [0.99998724, 1.27613e-05], [0.9819454, 0.018054541], [6.4544388e-09, 1.0], [1.0, 5.5153105e-08], [4.6724193e-07, 0.99999964], [3.219169e-09, 1.0], [0.99745435, 0.0025455551], [1.0, 4.3227804e-08], [1.0, 1.272501e-08], [0.9997996, 0.00020034242], [1.0927023e-08, 1.0], [1.0, 1.0120655e-08], [0.9999999, 7.746338e-08], [4.9720903e-08, 1.0], [1.3142528e-06, 0.99999875], [1.0374053e-07, 0.9999999], [1.0, 1.142977e-08], [1.3195021e-12, 1.0], [1.7527814e-08, 1.0], [0.010761955, 0.98923796], [1.6354019e-08, 1.0], [0.9999999, 1.7529337e-07], [1.5577403e-10, 1.0], [1.4325391e-11, 1.0], [0.0017357601, 0.9982643], [1.9191986e-09, 1.0], [0.9999999, 1.0867179e-07], [1.7685007e-07, 0.9999999], [6.542867e-09, 1.0], [3.5267723e-11, 1.0], [1.2704946e-08, 1.0], [1.0, 6.4748127e-09], [1.3869847e-10, 1.0], [1.0, 3.804149e-09], [0.9999995, 4.3660444e-07], [0.0050234036, 0.99497664], [1.0, 9.669204e-09], [0.01402275, 0.9859773], [1.1567283e-08, 1.0], [2.0871596e-08, 1.0], [0.09306219, 0.9069378], [0.99999964, 3.685586e-07], [1.0, 2.5802385e-10], [8.233603e-14, 1.0], [4.9392555e-05, 0.9999506], [0.96637285, 0.033627078], [0.9999997, 3.0760057e-07], [2.871324e-07, 0.9999997], [0.99707144, 0.002928576], [1.0, 3.622622e-08], [1.0, 3.1353276e-10], [0.9999999, 1.3575314e-07], [1.2055497e-09, 1.0], [0.9986208, 0.0013791923], [4.3124983e-11, 1.0], [1.0, 1.5777937e-08], [1.112868e-06, 0.9999989], [9.422566e-10, 1.0], [0.99998206, 1.7902934e-05], [0.9999732, 2.6803877e-05], [0.9999811, 1.8845803e-05], [1.0712763e-09, 1.0], [3.150713e-11, 1.0], [6.8518418e-09, 1.0], [1.0, 2.4236352e-10], [1.0, 3.8978786e-08], [1.0, 5.26542e-08], [3.461945e-10, 1.0], [1.0, 1.1219494e-08], [3.57667e-09, 1.0], [3.6292927e-06, 0.99999636], [2.938386e-09, 1.0], [2.206028e-09, 1.0], [1.4325898e-06, 0.99999857], [1.0, 5.193534e-08], [1.5921968e-08, 1.0], [0.16527596, 0.83472395], [3.5739117e-08, 1.0], [5.824609e-12, 1.0], [0.9999374, 6.243815e-05], [0.99481356, 0.0051864134], [6.282435e-12, 1.0], [0.99971104, 0.0002889281], [1.0, 1.42041925e-08], [5.382048e-05, 0.99994624], [0.9999999, 7.172226e-08], [1.2760178e-08, 1.0], [1.1099557e-07, 0.9999999], [9.521764e-06, 0.99999046], [2.7740878e-08, 1.0], [6.6333485e-09, 1.0], [5.4607683e-09, 1.0], [1.0, 5.2327342e-09], [6.3553057e-07, 0.9999994], [1.0, 3.0917396e-13], [1.0, 1.4906354e-10], [3.533242e-08, 1.0], [0.9999999, 1.0753614e-07], [0.9998884, 0.00011161533], [0.00012588307, 0.9998741], [0.93853104, 0.061468996], [1.4843625e-06, 0.99999845], [3.892081e-07, 0.9999995], [1.0, 2.9053584e-09], [4.6562683e-08, 1.0], [0.00068849715, 0.99931145], [1.0, 1.1569338e-09], [1.4449246e-11, 1.0], [0.9999512, 4.884917e-05], [0.9999949, 5.069001e-06], [4.3187423e-10, 1.0], [5.5604974e-09, 1.0], [6.00149e-09, 1.0], [1.0281157e-07, 0.9999999], [1.0, 1.4140622e-08], [2.108811e-12, 1.0], [0.9999999, 9.299414e-08], [8.865696e-09, 1.0], [2.0504325e-10, 1.0], [0.9999994, 6.5945784e-07], [0.9999364, 6.362124e-05], [1.0, 1.4048415e-11], [8.892178e-09, 1.0], [1.0, 2.6052138e-08], [1.1928565e-06, 0.99999875], [1.0, 9.9788995e-09], [0.9999995, 4.4449797e-07], [4.246028e-09, 1.0], [2.0377171e-10, 1.0], [4.788672e-12, 1.0], [0.9999997, 3.6915324e-07], [1.3699243e-10, 1.0], [0.9999999, 8.311279e-08], [0.9999987, 1.317372e-06], [0.999997, 2.8996571e-06], [0.9999999, 1.0944096e-07], [8.911911e-07, 0.99999905], [1.0, 4.3267585e-09], [2.4888422e-07, 0.9999997], [1.0, 5.7889946e-09], [1.2723703e-09, 1.0], [1.0, 1.6413502e-08], [0.99986804, 0.00013203782], [8.166906e-08, 1.0], [5.5961256e-11, 1.0], [1.0, 1.5253533e-12], [1.2452614e-08, 1.0], [3.154189e-11, 1.0], [1.0, 3.6658379e-09], [1.2392416e-12, 1.0], [1.0, 4.140029e-09], [2.796506e-13, 1.0], [1.3160798e-08, 1.0], [0.00089954433, 0.9991004], [3.196e-11, 1.0], [0.99999774, 2.3741625e-06], [1.0, 8.308254e-09], [0.9837257, 0.01627431], [1.304959e-07, 0.9999999], [1.0, 4.7677535e-08], [0.99999845, 1.5998579e-06], [5.374199e-07, 0.9999994], [1.0, 1.2648395e-08], [0.99993265, 6.7269546e-05], [1.0, 7.960896e-09], [1.0, 2.2630219e-11], [1.5233134e-09, 1.0], [2.750105e-07, 0.9999997], [0.9999992, 8.502408e-07], [0.9999997, 2.60151e-07], [1.0, 1.4950619e-08], [2.5468921e-06, 0.9999973], [4.9211474e-10, 1.0], [4.97104e-07, 0.9999995], [4.897504e-08, 1.0], [0.5085435, 0.4914565], [4.048817e-08, 1.0], [1.0, 3.3633146e-08], [0.9999339, 6.6076755e-05], [9.904993e-08, 1.0], [1.0, 2.1189845e-11], [0.9999999, 1.3557406e-07], [3.2018228e-09, 1.0], [1.0, 8.1213635e-08], [1.0, 2.7877058e-11], [8.5093895e-13, 1.0], [2.9273564e-09, 1.0], [1.0, 7.096995e-11], [1.2136626e-10, 1.0], [1.0, 4.265622e-10], [1.0, 2.966187e-10], [0.9997341, 0.0002657826], [5.47613e-08, 1.0], [0.9999994, 5.4256077e-07], [7.3099485e-11, 1.0], [0.10975889, 0.89024115], [5.847203e-13, 1.0], [0.9999975, 2.559997e-06], [1.9097432e-10, 1.0], [1.6810098e-11, 1.0], [0.99999744, 2.6451878e-06], [8.322684e-12, 1.0], [2.138903e-08, 1.0], [1.0, 5.2491084e-11], [0.058771838, 0.9412282], [1.0, 1.7034575e-08], [4.452522e-10, 1.0], [0.99999905, 9.861221e-07], [0.9999994, 6.2115214e-07], [0.9999998, 2.33337e-07], [7.35018e-11, 1.0], [0.9978012, 0.0021988512], [1.0, 3.211929e-09], [0.04297818, 0.9570219], [5.7673477e-10, 1.0], [0.9999998, 2.502118e-07], [1.0454413e-08, 1.0], [2.0398115e-06, 0.9999979], [0.99999726, 2.7649342e-06], [1.0, 1.3315594e-08], [1.0, 1.867682e-08], [1.0, 2.1624029e-10], [9.893336e-09, 1.0], [4.87882e-10, 1.0], [1.0, 6.473444e-08], [4.368362e-11, 1.0], [4.2459076e-09, 1.0], [3.926126e-10, 1.0], [0.9999589, 4.1076495e-05], [1.0, 5.048416e-09], [3.2167137e-11, 1.0], [4.955866e-07, 0.9999995], [1.0, 2.2459003e-11], [4.0971376e-08, 1.0], [8.228305e-08, 1.0], [5.1571627e-05, 0.9999484], [3.948923e-08, 1.0], [1.0, 5.7222244e-10], [1.0628354e-10, 1.0], [0.9999999, 1.327907e-07], [1.5767412e-09, 1.0], [2.4278228e-07, 0.9999998], [0.99999964, 3.9588235e-07], [1.0, 4.2932316e-10], [1.944645e-09, 1.0], [6.844035e-07, 0.99999934], [1.0, 1.8051709e-09], [1.0, 2.5843444e-10], [4.958539e-10, 1.0], [1.0, 5.9021488e-08], [2.0883782e-08, 1.0], [9.1188265e-11, 1.0], [0.9999995, 5.478538e-07], [1.0, 1.0076348e-09], [0.9977937, 0.0022063297], [1.0, 1.553036e-08], [4.2427963e-08, 1.0], [7.814824e-09, 1.0], [4.678535e-06, 0.99999535], [6.7923184e-10, 1.0], [0.99999934, 6.799984e-07], [5.00086e-11, 1.0], [5.076192e-10, 1.0], [5.850787e-11, 1.0], [1.0, 1.9208892e-09], [1.0, 2.6285705e-12], [7.4766876e-10, 1.0], [2.9830889e-09, 1.0], [0.9999959, 4.0331047e-06], [3.9325536e-07, 0.99999964], [0.700263, 0.29973698], [0.02065113, 0.9793488], [0.99999654, 3.3954134e-06], [4.014385e-11, 1.0], [0.99999934, 6.771646e-07], [0.9999994, 6.550953e-07], [1.2692817e-11, 1.0], [1.6898422e-05, 0.999983], [1.0, 2.5354785e-10], [1.0, 4.901858e-10], [0.0024945533, 0.99750537], [0.9999995, 4.843409e-07], [1.0, 6.897507e-08], [1.0, 2.132411e-11], [1.0, 7.313456e-08], [1.0, 2.755498e-09], [0.9999999, 8.379875e-08], [0.0032711893, 0.9967288], [1.7665889e-12, 1.0], [1.1253337e-10, 1.0], [5.659134e-09, 1.0], [0.00058546255, 0.99941456], [0.9999973, 2.680028e-06], [1.1550403e-07, 0.9999999], [1.8392075e-08, 1.0], [1.1924317e-09, 1.0], [0.0124227395, 0.9875773], [0.027867248, 0.9721328], [1.0, 1.6814687e-08], [4.5527845e-08, 1.0], [4.538261e-06, 0.9999954], [3.8450332e-10, 1.0], [2.538554e-09, 1.0], [1.0, 3.077629e-08], [0.0020260205, 0.99797404], [0.9999776, 2.2379932e-05], [0.99999934, 7.299822e-07], [2.1009732e-06, 0.9999979], [1.0, 1.6866775e-11], [1.0, 6.4606864e-10], [6.110712e-10, 1.0], [1.0, 6.009938e-08], [1.0, 4.4010924e-09], [3.6148413e-07, 0.99999964], [1.0, 1.7667172e-09], [1.5783255e-06, 0.9999984], [0.9999995, 5.5959697e-07], [5.0290686e-07, 0.9999994], [0.04855697, 0.951443], [0.9999994, 5.5168965e-07], [0.9999998, 1.4461948e-07], [0.9999693, 3.0766136e-05], [8.521873e-06, 0.99999154], [5.6079407e-06, 0.99999446], [1.7767375e-09, 1.0], [4.602173e-08, 1.0], [9.523493e-09, 1.0], [1.0, 2.48962e-09], [0.23291135, 0.76708865], [1.0, 9.050367e-09], [0.97284096, 0.02715907], [1.0, 2.7082535e-08], [9.4997274e-11, 1.0], [3.886064e-09, 1.0], [1.2588882e-06, 0.9999987], [2.4606455e-09, 1.0], [1.0, 5.23986e-10], [1.0, 1.0524549e-07], [0.99997884, 2.1247577e-05], [3.306074e-08, 1.0], [0.99999905, 9.2227157e-07], [1.2689152e-09, 1.0], [1.0, 3.5054012e-11], [1.0, 1.6655047e-08], [0.99999964, 4.8410465e-07], [1.0, 4.4379393e-09], [1.0, 6.805651e-08], [8.182513e-07, 0.9999992], [1.0, 1.2127828e-08], [0.8760294, 0.12397055], [1.0, 2.4328983e-11], [2.1362943e-08, 1.0], [1.0, 6.195008e-10], [3.1640266e-07, 0.99999964], [0.99999964, 4.2971618e-07], [3.234054e-08, 1.0], [1.0, 1.3869986e-08], [0.005203544, 0.9947964], [0.9999951, 4.8519764e-06], [1.0, 1.3965446e-08], [1.0, 5.0521924e-09], [0.9999984, 1.6549593e-06], [2.5769987e-07, 0.9999998], [0.9999997, 3.3415736e-07], [1.7819099e-11, 1.0], [3.2381344e-09, 1.0], [5.051676e-06, 0.99999493], [0.9999998, 2.0057283e-07], [1.3808676e-09, 1.0], [7.2160095e-10, 1.0], [0.99999654, 3.396232e-06], [2.8772126e-07, 0.9999998], [1.0885528e-07, 1.0], [1.0, 2.8261075e-08], [3.397793e-11, 1.0], [3.229805e-11, 1.0], [7.481978e-10, 1.0], [1.0, 4.364374e-09], [0.9999927, 7.327659e-06], [0.0012101794, 0.9987898], [1.0, 1.672262e-09], [1.2023484e-11, 1.0], [1.3313775e-09, 1.0], [3.5612438e-10, 1.0], [1.0, 3.2395054e-08], [0.0001353325, 0.9998647], [5.4876964e-10, 1.0], [1.490115e-10, 1.0], [0.99999964, 3.8464623e-07], [2.953865e-08, 1.0], [5.295625e-07, 0.9999994], [0.99628794, 0.0037120525], [7.015022e-07, 0.99999934], [1.3766747e-10, 1.0], [1.0373822e-12, 1.0], [4.1735197e-07, 0.99999964], [0.000112325164, 0.99988776], [1.0, 1.2475568e-09], [0.9999955, 4.5036118e-06], [0.9999731, 2.674798e-05], [5.7136253e-07, 0.9999994], [0.99994314, 5.682474e-05], [1.0, 5.3366174e-09], [0.9999998, 1.9568381e-07], [1.0, 1.9594326e-08], [1.0, 6.0058286e-10], [1.0, 2.187932e-08], [0.999986, 1.4069497e-05], [0.9999914, 8.546515e-06], [1.0, 8.003104e-09], [1.0, 2.0694506e-08], [0.9999546, 4.5324843e-05], [1.0, 1.6164839e-10], [1.0, 1.998457e-08], [1.0, 3.0868246e-09], [0.99990064, 9.940177e-05], [0.9743212, 0.025678853], [1.0, 1.3312277e-08], [2.1892689e-07, 0.9999998], [0.99999964, 4.2470225e-07], [2.151701e-11, 1.0], [1.0, 1.0458391e-12], [0.9999979, 2.143445e-06], [8.6389536e-09, 1.0], [1.0, 7.643203e-09], [1.7689676e-10, 1.0], [8.13789e-08, 1.0], [1.518975e-10, 1.0], [0.99997646, 2.3482531e-05], [1.0, 1.6214177e-08], [9.848596e-06, 0.99999017], [2.902297e-06, 0.999997], [1.0, 1.1645289e-08], [0.99999917, 9.1502704e-07], [1.0, 2.1667826e-10], [9.871966e-08, 1.0], [0.9999997, 3.5328952e-07], [9.852323e-08, 1.0], [1.0, 1.2796687e-08], [0.00025961097, 0.99974024], [8.5420027e-10, 1.0], [1.0973923e-08, 1.0], [8.073595e-11, 1.0], [0.9999987, 1.3816503e-06], [1.28388065e-08, 1.0], [1.8520125e-09, 1.0], [3.048403e-07, 0.9999997], [5.411771e-10, 1.0], [3.3830675e-05, 0.99996614], [8.971744e-09, 1.0], [2.417901e-07, 0.9999998], [1.0, 7.569232e-09], [2.2475251e-05, 0.9999776], [1.0, 5.6453766e-09], [9.53416e-10, 1.0], [1.11636855e-05, 0.9999889], [4.583878e-08, 1.0], [1.0, 9.8423584e-08], [0.9999998, 2.2697216e-07], [0.9999982, 1.874143e-06], [1.0, 9.509794e-08], [1.0, 6.414088e-08], [1.23846915e-08, 1.0], [1.3652157e-10, 1.0], [0.99995744, 4.2597436e-05], [0.0010617507, 0.9989382], [2.0349225e-08, 1.0], [0.0027923365, 0.99720764], [5.684201e-08, 1.0], [2.2113835e-09, 1.0], [0.7448877, 0.25511223], [2.1169596e-07, 0.9999999], [0.9999999, 1.273613e-07], [1.0, 3.345176e-09], [1.0, 3.279584e-09], [0.9999975, 2.5328486e-06], [9.022259e-08, 0.9999999], [3.5717505e-09, 1.0], [0.99999774, 2.324699e-06], [0.46656805, 0.53343195], [5.1690635e-10, 1.0], [0.99996984, 3.0185998e-05], [0.98623145, 0.013768559], [0.105587624, 0.89441234], [5.147525e-09, 1.0], [1.0, 1.677562e-10], [4.521964e-12, 1.0], [2.3970816e-07, 0.9999998], [9.124028e-11, 1.0], [2.1574277e-08, 1.0], [1.0, 3.2651942e-10], [1.0, 1.4303254e-09], [1.2773592e-09, 1.0], [0.9999994, 6.7859906e-07], [6.537708e-09, 1.0], [5.830381e-11, 1.0], [1.3163043e-07, 0.9999999], [1.0, 3.18878e-10], [1.0, 2.3664923e-09], [5.6665517e-08, 1.0], [0.9999994, 5.1002047e-07], [0.9999998, 1.7838605e-07], [5.020647e-09, 1.0], [0.99998343, 1.6658769e-05], [8.918545e-07, 0.99999905], [4.9177107e-09, 1.0], [0.08303465, 0.9169653], [9.392454e-13, 1.0], [1.6745517e-09, 1.0], [0.024539301, 0.9754607], [4.4487162e-05, 0.9999555], [1.7582523e-10, 1.0], [0.9999999, 9.930615e-08], [0.9999999, 5.96836e-08], [1.3786945e-08, 1.0], [0.9999999, 7.3860775e-08], [1.0, 4.9790723e-09], [1.0, 6.8625217e-10], [1.0, 6.99326e-11], [6.58443e-07, 0.9999994], [1.8115351e-09, 1.0], [2.7346989e-08, 1.0], [0.9999999, 9.279047e-08], [1.5102423e-05, 0.99998486], [1.0, 1.678722e-08], [0.096561305, 0.90343875], [1.0, 6.06824e-10], [0.9999995, 5.721257e-07], [2.2950677e-09, 1.0], [1.0, 4.573318e-08], [1.6115435e-11, 1.0], [6.449311e-10, 1.0], [0.9174196, 0.082580395], [0.8351594, 0.16484061], [1.0, 6.0263033e-10], [0.99994755, 5.2520034e-05], [0.9999056, 9.442461e-05], [1.0, 2.3850364e-09], [0.99999905, 9.3540655e-07], [9.210615e-11, 1.0], [2.5758937e-09, 1.0], [0.9961542, 0.0038458235], [4.4654353e-08, 1.0], [0.07082486, 0.9291751], [0.0003213638, 0.9996786], [6.7232977e-06, 0.9999933], [1.0, 8.629417e-11], [1.0, 2.7663416e-09], [1.6441123e-14, 1.0], [1.0, 3.829296e-08], [1.0, 3.0342409e-09], [1.0, 4.2164405e-09], [1.0, 1.5832672e-09], [0.9999999, 9.630268e-08], [1.0, 2.3652786e-08], [0.9999999, 8.238898e-08], [8.814521e-07, 0.99999917], [0.99730587, 0.0026942233], [1.8007037e-06, 0.9999982], [2.7203697e-09, 1.0], [9.25916e-09, 1.0], [0.0011131896, 0.99888676], [1.6423225e-08, 1.0], [7.063499e-07, 0.9999992], [1.0841955e-11, 1.0], [1.1132996e-08, 1.0], [0.9502069, 0.049793117], [1.4952866e-05, 0.9999851], [1.0, 3.7844843e-09], [3.2415826e-07, 0.9999997], [5.0696036e-12, 1.0], [2.4496265e-07, 0.9999997], [1.0, 4.4357535e-11], [1.0, 2.8772854e-10], [6.078081e-12, 1.0], [1.0, 1.5356678e-09], [1.0, 2.059862e-10], [0.24263236, 0.7573677], [0.007642719, 0.99235725], [0.00041159132, 0.9995884], [0.78070784, 0.2192922], [9.960035e-10, 1.0], [5.6140814e-10, 1.0], [0.005181397, 0.99481857], [0.00031810353, 0.99968183], [1.0, 7.1346724e-09], [5.72708e-07, 0.9999994], [2.1639149e-10, 1.0], [1.0, 1.6809071e-08], [0.002508299, 0.99749166], [1.0, 1.8764265e-08], [0.9895421, 0.010457897], [0.9999981, 1.91262e-06], [1.0, 3.629609e-09], [3.649349e-07, 0.99999964], [4.589998e-09, 1.0], [4.2519552e-09, 1.0], [1.3461315e-07, 0.9999998], [1.0, 2.0583035e-10], [5.142024e-09, 1.0], [5.042694e-10, 1.0], [8.229044e-10, 1.0], [1.1796164e-10, 1.0], [0.99999964, 3.7934825e-07], [0.9999999, 1.3459658e-07], [5.3600354e-07, 0.9999994], [1.2952525e-10, 1.0], [1.3635376e-13, 1.0], [1.0288342e-08, 1.0], [0.99999964, 4.800061e-07], [0.9999965, 3.5131065e-06], [5.5499846e-08, 1.0], [0.9996356, 0.00036445368], [4.2868127e-08, 1.0], [6.8070205e-10, 1.0], [1.0206957e-08, 1.0], [1.0, 2.8183844e-10], [3.9873836e-08, 1.0], [1.0, 2.7574742e-10], [0.0956883, 0.9043118], [1.0, 4.42544e-09], [0.9999803, 1.97348e-05], [0.99999964, 4.4059794e-07], [1.7699356e-11, 1.0], [1.0, 1.3711244e-08], [2.4959457e-08, 1.0], [1.1863373e-10, 1.0], [0.9999999, 1.0618878e-07], [0.9999607, 3.918984e-05], [1.8212388e-06, 0.9999981], [1.0, 5.0793586e-10], [7.0075457e-09, 1.0], [1.0, 1.5861311e-10], [0.9999994, 6.1893655e-07], [0.056377195, 0.9436229], [9.1651555e-06, 0.9999908], [0.994943, 0.0050569447], [0.9999968, 3.254469e-06], [5.097387e-09, 1.0], [0.00030930142, 0.99969065], [2.1152047e-07, 0.9999998], [0.9999995, 5.5579824e-07], [0.879062, 0.12093802], [3.2380205e-05, 0.9999676], [9.227892e-09, 1.0], [5.687278e-09, 1.0], [0.00028422952, 0.9997158], [0.9999983, 1.8553679e-06], [2.9476955e-12, 1.0], [0.9997943, 0.00020568096], [1.0, 1.0572933e-09], [1.0, 4.2609763e-08], [2.2450947e-11, 1.0], [1.0, 3.1475071e-09], [0.99999905, 9.37698e-07], [0.9998059, 0.00019404644], [7.896806e-08, 0.9999999], [1.3576728e-11, 1.0], [1.0, 5.3519438e-09], [1.0, 2.4857076e-09], [1.077165e-09, 1.0], [5.7382483e-08, 1.0], [0.9932712, 0.006728925], [1.0, 1.2500519e-10], [0.9995394, 0.0004605466], [1.28792665e-08, 1.0], [1.1026496e-07, 0.9999999], [1.0, 4.6320947e-09], [0.9999877, 1.2299456e-05], [1.1513103e-08, 1.0], [5.4579496e-09, 1.0], [0.0011499026, 0.99885005], [0.9999999, 1.4278966e-07], [1.0, 3.9010523e-08], [0.9999997, 2.8806747e-07], [0.9999995, 4.990272e-07], [5.7629204e-05, 0.9999424], [1.0, 5.445365e-10], [1.0, 6.584081e-08], [1.7465194e-08, 1.0], [5.59883e-09, 1.0], [1.0, 2.0741024e-10], [0.00020127735, 0.9997988], [1.0, 2.053641e-10], [0.9999857, 1.433992e-05], [5.1976253e-12, 1.0], [2.975339e-10, 1.0], [0.9991291, 0.0008709052], [0.9999998, 2.0602485e-07], [1.6692317e-07, 0.9999998], [2.9276987e-07, 0.9999997], [5.945065e-10, 1.0], [1.0, 2.2608988e-11], [0.19747199, 0.8025281], [0.99999464, 5.327541e-06], [1.8749484e-09, 1.0], [1.5327598e-07, 0.9999999], [1.0, 1.901221e-10], [7.947591e-09, 1.0], [0.99483603, 0.0051638824], [0.14519669, 0.85480326], [4.0851354e-08, 1.0], [1.0, 1.40453285e-08], [0.9999936, 6.474494e-06], [2.0357343e-11, 1.0], [7.059893e-06, 0.99999297], [1.0, 6.748818e-10], [1.1465751e-09, 1.0], [0.9999999, 8.141258e-08], [0.00023438809, 0.9997656], [1.2907061e-06, 0.9999987], [0.9992982, 0.00070170424], [1.4373477e-10, 1.0], [1.0, 3.7435682e-10], [1.0, 1.1875219e-10], [0.9999999, 7.946197e-08], [0.9999999, 1.02163334e-07], [1.0, 2.6934107e-08], [5.2309056e-11, 1.0], [2.8799996e-09, 1.0], [0.9999994, 6.527083e-07], [2.1980567e-08, 1.0], [0.99999964, 4.7125064e-07], [1.0, 1.3760335e-08], [6.7731264e-07, 0.9999994], [0.033342607, 0.96665734], [1.0, 1.4600491e-09], [4.286196e-09, 1.0], [1.0, 7.08071e-09], [0.9999999, 1.18756404e-07], [2.9407289e-08, 1.0], [1.0, 9.14224e-10], [0.51306736, 0.4869326], [0.9999994, 6.3226497e-07], [1.0, 3.574876e-09], [2.4623437e-09, 1.0], [2.7857407e-06, 0.99999726], [0.9999998, 2.2154843e-07], [1.0, 1.2997101e-11], [1.0, 1.2630107e-09], [7.03626e-08, 1.0], [0.6923357, 0.3076643], [1.8774124e-05, 0.9999813], [3.2970827e-11, 1.0], [7.2492283e-09, 1.0], [1.0, 4.604181e-09], [0.9931084, 0.0068916576], [7.0179147e-09, 1.0], [1.0, 3.1701262e-08], [1.0, 1.4378114e-09], [2.5995842e-08, 1.0], [5.3378573e-12, 1.0], [1.0, 2.8920284e-09], [5.0153757e-09, 1.0], [1.0, 1.117453e-10], [0.999998, 1.9997856e-06], [1.0, 2.7205147e-09], [4.0496197e-08, 1.0], [5.859004e-11, 1.0], [1.2602662e-09, 1.0], [1.0, 6.2901934e-10], [1.4331582e-10, 1.0], [1.0, 9.219544e-09], [3.5120124e-08, 1.0], [1.0, 5.8871277e-09], [1.0, 2.1622411e-10], [2.6244709e-09, 1.0], [0.9999878, 1.2169175e-05], [2.4125498e-08, 1.0], [4.9580814e-07, 0.9999995], [5.414671e-06, 0.99999464], [1.22127e-09, 1.0], [1.0, 1.348626e-09], [2.21081e-07, 0.9999998], [5.592757e-08, 1.0], [0.99999857, 1.4422094e-06], [2.9558287e-05, 0.99997056], [0.99999857, 1.4044062e-06], [1.1502857e-11, 1.0], [1.0, 5.1336637e-09], [1.0, 1.9852125e-08], [1.0, 8.8924354e-11], [0.9999997, 2.8616802e-07], [6.018155e-08, 1.0], [1.0, 1.753234e-08], [1.0903175e-09, 1.0], [1.0, 2.73308e-09], [2.7325758e-08, 1.0], [1.3128299e-07, 0.9999999], [8.639424e-08, 1.0], [1.0, 8.589677e-11], [6.105823e-08, 1.0], [1.0, 5.856653e-08], [1.0, 1.3880493e-09], [3.2810163e-10, 1.0], [0.99999446, 5.580687e-06], [0.99999887, 1.0867001e-06], [2.5656941e-08, 1.0], [1.0, 2.2355864e-10], [0.9999994, 6.0177234e-07], [1.0, 1.669275e-08], [2.1198097e-09, 1.0], [0.9999997, 2.2471954e-07], [1.0, 4.139022e-09], [1.0, 7.3308866e-11], [0.15340768, 0.8465923], [0.9999994, 6.729404e-07], [8.015274e-10, 1.0], [0.98711383, 0.012886176], [1.0, 1.055721e-07], [1.0, 1.099395e-08], [1.0, 8.1544566e-10], [0.9999998, 2.0152306e-07], [9.5367035e-08, 0.9999999], [1.0, 2.4012033e-08], [2.127012e-06, 0.9999979], [3.240455e-10, 1.0], [8.413898e-08, 1.0], [3.7814192e-07, 0.99999964], [0.9999994, 6.2115214e-07], [0.9999995, 4.7871225e-07], [1.0, 1.6896156e-08], [7.3872954e-08, 0.9999999], [3.5949715e-12, 1.0], [1.0, 1.923454e-08], [1.0, 8.629823e-10], [1.0, 3.452198e-08], [1.4952548e-09, 1.0], [1.0, 3.789777e-09], [1.5125881e-08, 1.0], [8.6497326e-10, 1.0], [0.9999998, 1.8640043e-07], [5.8723235e-12, 1.0], [1.8656448e-07, 0.9999998], [0.999959, 4.1095827e-05], [1.0853804e-06, 0.99999887], [4.682818e-09, 1.0], [3.049088e-11, 1.0], [1.0, 1.5991372e-08], [1.0, 2.6164713e-09], [1.0, 5.1595717e-11], [0.0006875935, 0.9993124], [4.9568065e-11, 1.0], [1.0, 1.36719915e-11], [3.9891662e-10, 1.0], [1.0, 4.6906553e-08], [1.0, 1.1035457e-09], [8.633523e-12, 1.0], [1.0, 2.2205282e-09], [1.8272897e-09, 1.0], [4.991189e-10, 1.0], [0.007978355, 0.99202156], [7.369526e-10, 1.0], [0.0011813681, 0.9988186], [2.6883874e-11, 1.0], [2.5508677e-09, 1.0], [1.0032787e-05, 0.99999], [1.3066574e-06, 0.9999987], [0.9999997, 3.3892135e-07], [6.1507265e-11, 1.0], [1.0, 4.145332e-08], [1.2230743e-10, 1.0], [1.0, 5.365663e-12], [2.9331373e-09, 1.0], [1.0, 4.759616e-09], [1.0, 7.4570075e-09], [6.174825e-10, 1.0], [3.6732206e-06, 0.9999962], [1.8759497e-10, 1.0], [1.8664497e-11, 1.0], [0.99993575, 6.435655e-05], [1.0, 5.6909283e-10], [3.4542684e-09, 1.0], [0.99999905, 9.2657e-07], [1.742236e-08, 1.0], [6.227676e-09, 1.0], [7.1122136e-11, 1.0], [1.0, 5.8097673e-09], [1.0, 3.2311696e-08], [1.0561277e-12, 1.0], [0.9971989, 0.002801116], [0.9850243, 0.014975814], [0.99998397, 1.6073569e-05], [4.0804582e-10, 1.0], [1.0, 1.5033356e-08], [0.9999999, 1.2056418e-07], [1.0, 4.6766974e-10], [1.0, 1.41174615e-11], [1.0, 5.5002127e-09], [1.2323068e-07, 0.9999999], [1.4989522e-11, 1.0], [1.1494754e-10, 1.0], [5.277162e-09, 1.0], [0.9999809, 1.907173e-05], [1.7025268e-11, 1.0], [1.8365508e-07, 0.9999998], [1.7309011e-09, 1.0], [0.99999774, 2.2181327e-06], [0.9999997, 2.9516872e-07], [7.639404e-08, 1.0], [0.027519261, 0.9724808], [1.0, 3.3288854e-11], [1.0, 1.2762783e-08], [1.6225705e-11, 1.0], [1.0, 9.23748e-09], [1.617382e-08, 1.0], [4.24713e-06, 0.9999957], [1.0, 1.7440953e-15], [6.1557884e-08, 1.0], [0.9999992, 7.3363947e-07], [0.38943306, 0.610567], [1.0, 2.997981e-09], [7.31807e-07, 0.9999992], [0.021334745, 0.97866535], [0.00014404704, 0.9998558], [1.0, 4.250464e-09], [1.0, 2.1110988e-10], [1.8014581e-11, 1.0], [1.5077347e-09, 1.0], [1.0, 7.1668444e-12], [1.0, 1.3696543e-09], [1.0, 2.089563e-08], [1.0122487e-12, 1.0], [0.99999905, 9.940508e-07], [1.391234e-07, 0.9999999], [0.9999998, 2.453765e-07], [3.3827008e-09, 1.0], [0.99999905, 1.0420866e-06], [0.00022961097, 0.99977034], [5.7827467e-05, 0.9999422], [1.0, 1.3859109e-08], [6.627435e-10, 1.0], [2.704409e-10, 1.0], [1.0, 3.0252036e-08], [1.0, 4.343596e-08], [1.0, 6.2445327e-10], [0.99999887, 1.1023512e-06], [5.8958165e-11, 1.0], [0.9999998, 2.0666808e-07], [1.0, 2.9373393e-08], [1.3025292e-11, 1.0], [1.1492413e-09, 1.0], [1.0, 4.755559e-10], [1.0, 7.1163797e-10], [6.0785543e-10, 1.0], [8.722973e-09, 1.0], [1.3296474e-08, 1.0], [2.8070457e-10, 1.0], [1.0, 1.14386015e-10], [0.99999934, 6.8887505e-07], [1.0, 5.6372745e-08], [2.015876e-10, 1.0], [1.0, 2.8571845e-10], [1.3011444e-07, 0.9999999], [8.175344e-11, 1.0], [5.439247e-06, 0.9999946], [1.0, 3.7954834e-10], [0.9998945, 0.00010540495], [1.5029338e-08, 1.0], [1.0, 7.38133e-11], [1.234674e-07, 0.9999999], [1.0, 1.2202664e-09], [1.6535538e-12, 1.0], [1.0, 1.4788992e-10], [8.82258e-08, 1.0], [0.9999992, 7.9298314e-07], [5.015569e-10, 1.0], [2.670916e-12, 1.0], [2.1278235e-12, 1.0], [0.9999997, 2.602148e-07], [1.0, 2.6777929e-09], [1.0, 7.2743794e-10], [1.0, 2.6766483e-10], [0.97007525, 0.029924775], [5.985127e-07, 0.9999994], [4.630365e-09, 1.0], [1.0, 2.0277671e-08], [1.0, 7.320298e-10], [0.99999887, 1.0982616e-06], [2.496693e-10, 1.0], [0.42434293, 0.5756571], [0.9998374, 0.00016255914], [1.0, 3.036608e-08], [5.504114e-06, 0.99999446], [1.951592e-08, 1.0], [3.7826572e-07, 0.99999964], [5.9473357e-05, 0.9999405], [1.666008e-09, 1.0], [1.0, 1.314711e-10], [1.0, 6.280041e-08], [4.15783e-09, 1.0], [5.9702697e-06, 0.999994], [0.99935323, 0.00064683886], [0.9999997, 3.1625206e-07], [1.452354e-10, 1.0], [1.0, 8.56818e-09], [0.9999689, 3.1076732e-05], [7.3756574e-08, 1.0], [8.083949e-11, 1.0], [5.8293717e-09, 1.0], [0.99739134, 0.002608673], [3.906955e-06, 0.9999962], [6.984178e-11, 1.0], [0.99999464, 5.3751965e-06], [1.0, 1.0288304e-09], [1.0, 8.918457e-09], [1.0, 1.0622337e-09], [1.0, 2.4377148e-10], [1.0, 3.9737206e-08], [7.170202e-07, 0.99999934], [0.9999998, 1.5291752e-07], [1.1582073e-09, 1.0], [1.394968e-11, 1.0], [2.306855e-09, 1.0], [2.6894119e-08, 1.0], [1.0, 2.0548886e-12], [0.9932043, 0.006795737], [1.0, 4.819843e-09], [0.8797366, 0.12026336], [9.2576426e-11, 1.0], [9.925372e-10, 1.0], [0.86478174, 0.13521819], [1.0, 9.112514e-10], [3.0229288e-08, 1.0], [1.0, 7.179991e-10], [1.0, 1.3733905e-09], [0.0002196758, 0.99978036], [1.082056e-11, 1.0], [2.7034048e-08, 1.0], [4.4800247e-05, 0.9999552], [0.00017911769, 0.9998209], [0.9999998, 2.6913577e-07], [0.9999943, 5.7350785e-06], [2.3322314e-10, 1.0], [0.9999987, 1.342078e-06], [1.0, 1.3337195e-08], [1.6429408e-10, 1.0], [0.9999995, 5.388852e-07], [0.9999995, 4.0880337e-07], [0.0053785015, 0.99462146], [1.0, 9.550723e-09], [1.340124e-06, 0.9999987], [0.8020843, 0.19791569], [1.0, 6.1254696e-08], [7.4350464e-06, 0.99999255], [1.0, 1.7622532e-12], [3.2787433e-08, 1.0], [0.99380845, 0.006191525], [3.750414e-10, 1.0], [1.8645699e-07, 0.9999999], [0.99998415, 1.5889193e-05], [0.9999633, 3.6703364e-05], [0.99999887, 1.2417165e-06], [0.9999483, 5.178125e-05], [1.0, 4.7721507e-08], [1.0, 1.8305357e-09], [1.7518965e-06, 0.9999983], [1.0, 2.6249942e-09], [2.0386461e-09, 1.0], [1.0, 2.8617007e-09], [0.9999998, 1.5296715e-07], [0.9999999, 1.9109139e-07], [0.019211365, 0.9807887], [2.4194358e-07, 0.9999997], [8.737552e-07, 0.99999917], [9.957649e-06, 0.9999901], [1.0, 1.0290955e-08], [1.227058e-10, 1.0], [4.0085818e-10, 1.0], [1.0078909e-07, 0.9999999], [0.99999493, 5.115396e-06], [0.9999999, 1.1496313e-07], [0.9999999, 1.5082269e-07], [0.9999999, 1.8051183e-07], [1.7870331e-08, 1.0], [0.9999994, 5.376734e-07], [1.9474804e-10, 1.0], [7.542015e-08, 1.0], [0.9999801, 1.9996345e-05], [1.0, 1.5406057e-11], [5.069638e-13, 1.0], [0.9999998, 2.045966e-07], [3.308299e-09, 1.0], [1.0, 3.441452e-08], [0.9999999, 1.045545e-07], [4.4590607e-09, 1.0], [0.9999976, 2.4600652e-06], [1.4106877e-05, 0.9999859], [0.9998945, 0.00010541886], [7.5127286e-11, 1.0], [0.99999964, 4.062546e-07], [0.51270443, 0.48729557], [0.9983877, 0.001612193], [1.0, 2.7911017e-08], [2.9053966e-09, 1.0], [4.6155687e-11, 1.0], [1.0, 5.5527574e-09], [5.893145e-07, 0.9999994], [0.866759, 0.133241], [1.328741e-05, 0.9999868], [1.0, 1.360443e-09], [2.174675e-09, 1.0], [3.0755032e-06, 0.999997], [5.1093203e-08, 1.0], [3.850914e-08, 1.0], [2.586105e-08, 1.0], [9.3801447e-07, 0.99999917], [4.3134776e-09, 1.0], [0.99999964, 3.8685533e-07], [9.91749e-10, 1.0], [1.0, 3.0060239e-09], [0.9999927, 7.266667e-06], [5.0857306e-08, 1.0], [0.9999987, 1.3829974e-06], [0.9990735, 0.00092653773], [2.921148e-06, 0.999997], [1.0, 1.9976028e-08], [2.962069e-10, 1.0], [0.9999992, 7.8723497e-07], [1.0, 6.8701977e-09], [1.0, 1.783194e-09], [0.99999917, 8.2233544e-07], [2.1972105e-11, 1.0], [2.010247e-09, 1.0], [1.7523889e-11, 1.0], [4.6365017e-06, 0.9999954], [0.99999845, 1.4510708e-06], [1.0, 1.26984645e-08], [4.6074913e-10, 1.0], [1.0435726e-12, 1.0], [1.5601586e-09, 1.0], [1.0, 1.1305085e-08], [0.99999845, 1.5807151e-06], [4.7168745e-05, 0.9999529], [0.9999997, 2.790852e-07], [1.0, 2.5563032e-10], [4.921159e-07, 0.9999995], [6.9038514e-08, 1.0], [0.718631, 0.2813689], [1.0, 1.2883599e-08], [3.5041737e-08, 1.0], [8.318172e-12, 1.0], [2.5839487e-08, 1.0], [1.0, 2.3022242e-08], [1.4308731e-09, 1.0], [1.0, 1.0100344e-07], [0.00015299532, 0.99984694], [1.0, 2.7327875e-08], [4.758257e-10, 1.0], [0.99999636, 3.5405399e-06], [1.0, 1.5018731e-12], [9.48193e-11, 1.0], [8.441542e-08, 1.0], [2.9365874e-06, 0.999997], [1.0, 6.3146083e-10], [1.7248212e-07, 0.9999999], [3.788373e-11, 1.0], [0.572207, 0.42779297], [0.99918574, 0.00081430783], [4.4517448e-10, 1.0], [2.6500482e-08, 1.0], [1.09745e-05, 0.99998903], [3.672066e-05, 0.9999633], [2.40545e-09, 1.0], [1.0, 1.2651332e-09], [1.0, 4.3456453e-08], [1.0, 4.6018958e-09], [1.0, 3.2599562e-08], [1.0, 5.2626503e-10], [1.0, 1.2110991e-10], [1.0, 4.6812626e-10], [1.3557721e-05, 0.99998635], [5.125356e-09, 1.0], [1.5602375e-09, 1.0], [9.818685e-11, 1.0], [0.9999998, 1.9552283e-07], [2.128703e-07, 0.9999998], [1.7252761e-09, 1.0], [1.0, 1.1360658e-08], [1.0, 2.537116e-08], [1.4352627e-10, 1.0], [1.015289e-08, 1.0], [1.0, 5.567107e-08], [3.3710287e-10, 1.0], [0.99999696, 3.0960696e-06], [2.4009278e-10, 1.0], [1.5798311e-06, 0.9999984], [5.8712413e-08, 1.0], [1.0, 1.9844013e-08], [4.340951e-08, 1.0], [1.0, 2.0483119e-11], [1.530896e-06, 0.9999984], [0.9999998, 2.322519e-07], [1.0, 2.3839934e-09], [1.0, 1.8226954e-09], [1.0, 7.180959e-10], [0.9999611, 3.8959282e-05], [0.999996, 3.9984543e-06], [1.6780858e-09, 1.0], [1.0, 5.5373457e-09], [1.0, 7.334635e-10], [0.9999998, 2.0480505e-07], [0.9999999, 1.3462765e-07], [1.0, 1.35803955e-08], [1.0, 6.4526173e-10], [1.7725771e-10, 1.0], [0.9990592, 0.0009408002], [8.970626e-09, 1.0], [1.0, 2.75507e-10], [1.1737176e-08, 1.0], [1.0, 9.958977e-09], [1.1472858e-08, 1.0], [6.669463e-09, 1.0], [0.9999992, 7.7943906e-07], [3.567222e-05, 0.99996424], [4.8574013e-11, 1.0], [1.0, 3.7109448e-08], [6.5483895e-05, 0.9999345], [4.8278196e-07, 0.9999995], [7.896238e-09, 1.0], [1.5159139e-06, 0.99999845], [0.9991902, 0.0008097822], [1.0, 2.3536333e-09], [1.0, 3.222622e-08], [1.0, 6.527771e-08], [1.0, 1.6505724e-11], [1.0, 3.5233838e-09], [5.4535987e-05, 0.99994546], [6.949629e-07, 0.99999934], [5.3655633e-08, 1.0], [2.9176392e-09, 1.0], [8.990517e-06, 0.99999106], [1.78719e-11, 1.0], [1.0, 1.1575481e-10], [0.9999901, 9.93544e-06], [1.0, 1.008247e-09], [1.0, 2.3717865e-09], [0.9999999, 7.120384e-08], [1.0, 1.2302354e-08], [1.0, 2.5422273e-09], [8.8023853e-07, 0.99999905], [3.1563804e-08, 1.0], [1.0, 1.2433847e-09], [0.99997216, 2.7871754e-05], [1.0, 1.1011717e-08], [0.03187452, 0.9681255], [8.621751e-08, 0.9999999], [2.1918797e-06, 0.9999978], [0.99645776, 0.0035422146], [8.63321e-12, 1.0], [0.99999964, 3.8106276e-07], [1.0, 3.8281274e-11], [1.4155605e-08, 1.0], [1.5067933e-12, 1.0], [0.9997624, 0.00023752947], [7.2194667e-10, 1.0], [7.1594e-11, 1.0], [1.0, 3.4494237e-11], [1.0, 2.0080168e-10], [1.0, 3.8282902e-10], [1.3235078e-08, 1.0], [2.3382893e-10, 1.0], [1.2151017e-07, 0.9999999], [4.4170875e-08, 1.0], [3.534733e-11, 1.0], [1.0, 7.3682604e-10], [5.4909327e-11, 1.0], [2.3717762e-07, 0.9999998], [0.9999999, 1.2716441e-07], [1.728902e-08, 1.0], [1.256639e-10, 1.0], [1.0, 1.3901386e-09], [1.0, 3.7715995e-09], [0.99995947, 4.0563507e-05], [2.552079e-12, 1.0], [0.9115326, 0.08846739], [4.4492565e-10, 1.0], [1.9870085e-11, 1.0], [0.9999997, 3.4152205e-07], [3.7002296e-06, 0.99999636], [9.833219e-12, 1.0], [1.0, 9.1912394e-11], [1.0, 1.2241613e-10], [0.99963486, 0.00036508622], [2.847716e-06, 0.99999714], [3.3100978e-08, 1.0], [0.9999998, 2.4236286e-07], [0.9999999, 1.5616506e-07], [0.99655926, 0.003440686], [0.0012592807, 0.9987407], [4.0519126e-06, 0.999996], [1.0, 9.901109e-09], [5.798907e-09, 1.0], [0.9997757, 0.00022433985], [1.0, 1.447256e-09], [2.6576483e-10, 1.0], [1.0838391e-09, 1.0], [7.733254e-11, 1.0], [1.2823185e-07, 0.9999999], [0.9995514, 0.0004485824], [1.0, 1.4874612e-11], [1.4348578e-09, 1.0], [1.0, 3.4640465e-08], [0.9997597, 0.00024031712], [2.8453442e-10, 1.0], [1.0, 1.9655653e-09], [0.99800396, 0.0019959346], [1.0, 1.0726808e-10], [1.6282644e-09, 1.0], [0.13354917, 0.8664509], [1.9785995e-10, 1.0], [6.975363e-07, 0.99999934], [1.3013255e-07, 0.9999999], [1.4631865e-11, 1.0], [0.9969932, 0.003006856], [1.0, 7.373526e-08], [8.994938e-07, 0.99999917], [0.99999845, 1.5429174e-06], [1.0, 6.0429206e-10], [1.0, 3.0966827e-08], [1.0, 2.4183525e-08], [4.0010453e-11, 1.0], [0.99999964, 4.867697e-07], [0.99999875, 1.204633e-06], [3.1301177e-09, 1.0], [1.4820604e-09, 1.0], [1.0, 1.1024157e-09], [1.0, 3.1440367e-10], [0.99565107, 0.0043489793], [1.0, 4.4503614e-09], [4.228554e-10, 1.0], [4.994226e-06, 0.9999951], [1.0, 3.3862322e-09], [8.6146323e-10, 1.0], [3.4328417e-07, 0.9999997], [2.786213e-06, 0.99999714], [1.6711871e-07, 0.9999998], [7.9984e-11, 1.0], [1.0, 3.609926e-09], [1.0, 2.4981142e-09], [0.9999999, 1.12106946e-07], [2.3121364e-08, 1.0], [1.0, 7.1585995e-09], [2.5981994e-05, 0.9999741], [1.0, 6.8814052e-09], [0.9918607, 0.008139366], [3.7155914e-05, 0.9999629], [0.9999998, 1.7492373e-07], [0.9642785, 0.035721496], [1.6305479e-10, 1.0], [1.0, 2.6310115e-08], [1.0, 9.878909e-09], [1.0, 2.067738e-09], [0.99999964, 3.764661e-07], [0.6568513, 0.34314877], [0.9999927, 7.22465e-06], [3.2842178e-09, 1.0], [4.8811413e-09, 1.0], [1.0, 4.6730726e-08], [1.0102076e-07, 0.9999999], [1.4557537e-15, 1.0], [0.9999924, 7.637689e-06], [1.0, 1.9199387e-08], [1.0, 6.7564097e-09], [0.9999353, 6.4743595e-05], [1.0, 6.5223546e-08], [7.349271e-07, 0.99999934], [1.4708498e-07, 0.9999999], [1.0, 1.2181173e-08], [3.389757e-07, 0.99999964], [1.0, 4.777014e-08], [0.9999957, 4.313867e-06], [1.0, 3.529652e-09], [2.6595663e-09, 1.0], [1.0, 4.3592324e-10], [6.525075e-10, 1.0], [1.0, 1.7388709e-09], [7.982007e-10, 1.0], [1.0, 3.3659614e-08], [0.9999994, 6.0735846e-07], [1.0, 1.5249288e-09], [6.625585e-11, 1.0], [1.0, 1.3498752e-07], [1.2725536e-11, 1.0], [1.0, 1.7573658e-08], [0.00080154854, 0.9991983], [5.1731033e-12, 1.0], [2.605835e-10, 1.0], [0.9999999, 6.6045445e-08], [1.0, 4.1503584e-10], [0.9999517, 4.811826e-05], [8.5394495e-06, 0.9999914], [1.3940957e-08, 1.0], [1.0, 8.529175e-09], [2.3843e-11, 1.0], [1.0, 1.3601735e-08], [5.0408113e-09, 1.0], [0.99999887, 1.2051818e-06], [0.9999999, 1.371039e-07], [1.0, 4.5524292e-08], [0.63865745, 0.3613426], [7.111326e-08, 1.0], [0.9999715, 2.8540255e-05], [9.854375e-10, 1.0], [5.5272293e-12, 1.0], [9.74787e-08, 0.9999999], [5.4922516e-08, 1.0], [0.99999887, 1.1651639e-06], [1.0, 2.761546e-10], [7.0729733e-10, 1.0], [1.0, 2.0336297e-10], [1.0, 1.2549113e-08], [0.99999905, 9.796684e-07], [1.4014756e-07, 0.9999999], [1.977538e-06, 0.999998], [0.9999976, 2.385273e-06], [0.9999973, 2.6895227e-06], [4.1587685e-11, 1.0], [1.0, 1.732261e-08], [1.0, 1.8897799e-09], [1.0, 3.8306455e-10], [1.0, 9.504094e-09], [9.139706e-07, 0.99999917], [9.656697e-12, 1.0], [3.9622827e-07, 0.99999964], [1.0, 1.6958914e-08], [3.2403254e-11, 1.0], [0.9999995, 4.7208232e-07], [9.941251e-09, 1.0], [1.5566867e-08, 1.0], [1.0683393e-07, 0.9999999], [1.0, 3.627165e-08], [1.0, 2.7281752e-08], [1.0, 2.8326153e-10], [0.999987, 1.3003135e-05], [7.296905e-07, 0.99999934], [5.1736126e-10, 1.0], [5.9796825e-09, 1.0], [0.8834759, 0.116524115], [1.0, 8.822765e-12], [0.99754506, 0.002454928], [0.9999994, 6.2916513e-07], [3.0902956e-05, 0.9999691], [0.99999607, 3.881817e-06], [1.7456114e-07, 0.9999999], [1.8767225e-05, 0.9999812], [0.00013056699, 0.9998695], [1.9592851e-07, 0.9999999], [1.0, 3.3620633e-09], [1.14347884e-07, 0.9999999], [7.6727645e-11, 1.0], [5.433791e-06, 0.9999946], [1.0, 4.608927e-13], [5.064499e-07, 0.9999995], [1.4217449e-06, 0.99999857], [1.2587508e-12, 1.0], [0.9999982, 1.9401432e-06], [9.0028325e-11, 1.0], [3.6690758e-06, 0.99999636], [2.7288047e-06, 0.99999726], [4.425539e-10, 1.0], [4.591212e-09, 1.0], [1.0, 5.9695124e-09], [1.0399212e-08, 1.0], [0.9999998, 2.4520895e-07], [1.0, 4.1737076e-09], [0.9999933, 6.62749e-06], [0.032668218, 0.96733177], [1.0232259e-08, 1.0], [1.0, 3.673749e-08], [2.420966e-09, 1.0], [0.013100366, 0.98689955], [1.0, 4.758074e-08], [0.99999964, 3.746133e-07], [4.4099593e-06, 0.9999956], [1.0, 5.377324e-08], [0.9999995, 4.704707e-07], [1.950848e-07, 0.9999998], [0.9999994, 5.410934e-07], [1.1847396e-08, 1.0], [9.959465e-10, 1.0], [1.9304449e-07, 0.9999998], [0.9999999, 1.4466418e-07], [1.0, 1.9566693e-08], [3.2822093e-08, 1.0], [0.9999998, 1.9031106e-07], [4.0303277e-10, 1.0], [0.032863416, 0.9671365], [4.846293e-12, 1.0], [0.9992083, 0.00079165], [1.6624368e-07, 0.9999998], [0.99999905, 9.759295e-07], [0.9999999, 1.4199703e-07], [1.0, 3.694622e-08], [0.025985524, 0.97401446], [2.5814356e-06, 0.9999975], [0.99998266, 1.7338281e-05], [3.257998e-07, 0.9999997], [0.9999997, 3.1040653e-07], [2.6560634e-10, 1.0], [3.126512e-09, 1.0], [2.9550203e-12, 1.0], [2.097642e-07, 0.9999998], [0.9999999, 1.1536091e-07], [8.2866675e-10, 1.0], [3.68683e-06, 0.99999636], [1.0, 5.8327454e-09], [0.99999964, 4.3567533e-07], [0.9999992, 8.167741e-07], [1.0270842e-06, 0.99999887], [5.0254735e-06, 0.99999505], [0.99999887, 1.2142852e-06], [1.0, 3.168544e-10], [9.525793e-09, 1.0], [0.00020817216, 0.9997918], [0.9999995, 5.1958216e-07], [1.0, 2.2603772e-09], [0.9999998, 2.2435742e-07], [8.222473e-10, 1.0], [2.2490951e-07, 0.9999998], [0.9999999, 1.17589636e-07], [2.917315e-07, 0.9999998], [0.0050510108, 0.994949], [1.824082e-07, 0.9999998], [1.7453986e-07, 0.9999998], [0.54998124, 0.45001882], [8.475173e-10, 1.0], [0.9996295, 0.00037050692], [1.5212697e-11, 1.0], [1.0, 1.1432505e-10], [5.669713e-06, 0.9999943], [1.0, 1.2122008e-09], [3.8287304e-08, 1.0], [1.670414e-07, 0.9999998], [1.04619036e-10, 1.0], [0.00019293757, 0.999807], [2.189135e-11, 1.0], [2.1084234e-06, 0.9999979], [1.0, 6.3789045e-08], [0.9999856, 1.45308195e-05], [1.0633838e-05, 0.99998933], [8.468078e-07, 0.99999917], [3.2523353e-09, 1.0], [1.0, 4.211942e-11], [0.0019282885, 0.9980717], [1.2452753e-10, 1.0], [1.0, 4.2191576e-08], [3.7108235e-05, 0.9999628], [1.0, 3.6059076e-11], [1.0, 2.6302982e-09], [1.0, 3.9628682e-11], [4.6310857e-09, 1.0], [1.0, 5.376594e-10], [1.0, 5.837382e-08], [0.99749726, 0.002502663], [7.499609e-09, 1.0], [0.9999997, 3.0467493e-07], [0.9999998, 1.9779068e-07], [0.9999999, 8.695702e-08], [0.99999654, 3.4416585e-06], [1.0, 9.604911e-09], [3.925396e-12, 1.0], [1.0, 3.2778235e-08], [1.7800293e-08, 1.0], [0.9999944, 5.537237e-06], [0.99999297, 6.9934495e-06], [1.23071855e-08, 1.0], [1.3308357e-09, 1.0], [1.0, 6.037111e-08], [9.606366e-10, 1.0], [0.967597, 0.032403], [0.99999964, 3.8569527e-07], [1.0790398e-10, 1.0], [0.999997, 3.01039e-06], [7.6009304e-10, 1.0], [1.0, 2.4944047e-09], [1.0, 2.769636e-09], [1.305322e-07, 0.9999999], [1.0, 8.4417096e-10], [1.0, 7.859745e-10], [0.00052264635, 0.9994774], [3.9419144e-09, 1.0], [0.9999981, 1.9460113e-06], [3.0688863e-09, 1.0], [1.0, 4.6210475e-12], [5.8206053e-09, 1.0], [2.2954238e-05, 0.9999771], [0.99999964, 4.0748438e-07], [2.343736e-08, 1.0], [3.9943485e-10, 1.0], [0.9999999, 1.7256099e-07], [1.6995296e-11, 1.0], [1.0, 3.102068e-10], [1.0, 4.357093e-11], [2.1293277e-12, 1.0], [0.12539718, 0.8746029], [0.9999994, 4.903265e-07], [1.3975597e-09, 1.0], [1.0, 2.1635303e-11], [1.0, 4.232703e-09], [6.719571e-07, 0.9999992], [4.6848504e-11, 1.0], [1.0022089e-06, 0.99999905], [0.99999964, 4.3402028e-07], [0.9991911, 0.00080891064], [1.0, 7.447414e-09], [0.9999999, 1.1975182e-07], [0.0067502707, 0.9932497], [4.139201e-09, 1.0], [1.509461e-10, 1.0], [0.9999997, 4.0118434e-07], [4.6366084e-09, 1.0], [0.9999787, 2.1263164e-05], [1.0, 1.1169574e-09], [4.6073588e-08, 1.0], [1.0, 1.8738688e-09], [1.0, 8.142659e-09], [1.0, 4.7906134e-08], [0.99996424, 3.5801244e-05], [0.9664671, 0.03353283], [2.802647e-07, 0.9999997], [1.0, 3.8277353e-08], [1.2155434e-10, 1.0], [2.9015093e-09, 1.0], [2.0689832e-11, 1.0], [7.152143e-05, 0.99992836], [0.0007832693, 0.99921674], [1.0, 8.071263e-12], [3.1995677e-07, 0.99999964], [4.815904e-10, 1.0], [5.33634e-06, 0.99999464], [0.9999999, 9.195188e-08], [1.9311621e-09, 1.0], [9.5100415e-07, 0.99999905], [0.99999654, 3.4888515e-06], [0.9999932, 6.7903793e-06], [0.9999973, 2.608634e-06], [7.296905e-07, 0.99999934], [7.6824665e-07, 0.9999992], [7.5732773e-06, 0.9999925], [1.0, 3.87329e-10], [0.99991834, 8.161899e-05], [0.99999887, 1.0967276e-06], [1.5840451e-09, 1.0], [0.99997485, 2.5124673e-05], [2.3400484e-07, 0.9999998], [2.955274e-07, 0.9999997], [1.9442616e-07, 0.9999998], [1.0, 1.1921713e-09], [0.6028342, 0.39716572], [1.0, 3.5349097e-09], [0.99999887, 1.112782e-06], [0.9970977, 0.0029023145], [1.0, 6.4547243e-12], [8.0389674e-07, 0.9999992], [0.9999989, 1.0379184e-06], [0.9999983, 1.6548313e-06], [2.4484217e-08, 1.0], [1.9428424e-05, 0.9999806], [1.351156e-08, 1.0], [0.8612731, 0.13872686], [0.34000552, 0.6599944], [4.4169718e-10, 1.0], [0.99998695, 1.3102581e-05], [1.2864857e-07, 0.9999999], [0.9999796, 2.0369705e-05], [0.9999992, 8.06159e-07], [1.0, 6.203393e-10], [1.0, 4.1692005e-09], [6.880874e-07, 0.99999934], [1.0, 2.3039863e-08], [1.0, 1.0744911e-08], [5.8013086e-08, 1.0], [9.092632e-12, 1.0], [0.9999995, 4.2601218e-07], [0.9999994, 6.6573375e-07], [3.3746627e-08, 1.0], [8.4859e-09, 1.0], [2.2600101e-08, 1.0], [4.097554e-09, 1.0], [0.9996359, 0.00036413423], [1.0, 3.8350043e-09], [0.9999999, 1.3236593e-07], [2.8248667e-07, 0.9999998], [1.0, 2.1279828e-08], [1.0, 1.2434849e-09], [1.2653415e-09, 1.0], [4.9698933e-08, 1.0], [2.4049111e-08, 1.0], [1.2671582e-06, 0.9999987], [0.99986327, 0.00013674473], [1.0, 1.3263898e-08], [0.9999995, 4.7278664e-07], [4.7506212e-09, 1.0], [9.400457e-12, 1.0], [1.1542769e-06, 0.99999875], [0.9980849, 0.0019150905], [1.8383428e-06, 0.9999982], [1.0, 1.1563935e-08], [5.028326e-09, 1.0], [3.6695963e-10, 1.0], [0.9999998, 3.1894274e-07], [1.4175741e-05, 0.9999858], [1.0, 4.006592e-08], [0.9999998, 1.9973065e-07], [1.0, 3.158464e-08], [8.31029e-11, 1.0], [0.9999999, 1.3610033e-07], [4.7462555e-11, 1.0], [1.0, 8.727466e-08], [9.3431015e-07, 0.99999905], [1.0, 3.7653978e-09], [2.7615727e-08, 1.0], [3.438278e-08, 1.0], [1.1578557e-10, 1.0], [0.99998903, 1.0899005e-05], [2.2952054e-10, 1.0], [0.99998397, 1.6004753e-05], [1.0, 1.16205845e-08], [2.3142287e-12, 1.0], [1.0, 9.389896e-09], [4.2493988e-07, 0.99999964], [0.95108366, 0.048916418], [0.00013972369, 0.9998603], [0.00023810165, 0.99976194], [4.2287524e-11, 1.0], [0.99999845, 1.6127522e-06], [1.0, 3.429308e-09], [0.99999875, 1.2417808e-06], [1.1377875e-07, 0.9999999], [3.748893e-06, 0.9999963], [0.05713873, 0.94286126], [1.0, 3.6395291e-09], [1.0, 5.1000125e-08], [1.0, 1.1653338e-08], [0.99999887, 1.1547288e-06], [3.9903465e-08, 1.0], [1.0, 1.7877312e-09], [1.0, 3.179285e-08], [1.15052395e-11, 1.0], [0.21172945, 0.7882705], [4.5192655e-07, 0.99999964], [3.888214e-08, 1.0], [2.0352465e-05, 0.9999796], [1.0391448e-08, 1.0], [0.9999999, 8.6953186e-08], [3.8032424e-11, 1.0], [2.5839552e-07, 0.9999998], [1.5666458e-08, 1.0], [1.7443742e-09, 1.0], [0.44778785, 0.5522121], [4.004463e-08, 1.0], [8.540933e-11, 1.0], [0.9999998, 2.4571676e-07], [0.9999999, 1.1470835e-07], [1.0, 1.4543861e-09], [0.9999995, 4.518494e-07], [5.923678e-10, 1.0], [0.37986907, 0.6201309], [7.7211685e-13, 1.0], [2.3802548e-07, 0.9999998], [0.9999998, 2.064724e-07], [1.0, 6.222875e-11], [6.546121e-10, 1.0], [0.9999998, 2.2036718e-07], [1.544078e-09, 1.0], [0.9996025, 0.00039750905], [0.99999416, 5.8735764e-06], [6.657644e-08, 1.0], [1.3813631e-07, 0.9999999], [5.4357102e-11, 1.0], [0.9999998, 1.6551346e-07], [1.0, 2.3471286e-10], [1.0, 1.5577348e-12], [1.0, 1.7424348e-11], [1.0, 2.4530664e-10], [1.5987215e-11, 1.0], [1.0, 2.507626e-09], [1.0, 1.938599e-09], [1.0, 2.552149e-10], [9.118245e-11, 1.0], [0.0006648258, 0.9993351], [1.0, 9.812233e-12], [1.0, 6.508196e-09], [1.5345088e-10, 1.0], [3.6578758e-09, 1.0], [2.0310965e-11, 1.0], [1.0, 4.152111e-09], [1.0, 1.8081602e-09], [0.99999964, 3.5019426e-07], [1.0, 9.550036e-10], [0.99999267, 7.4500012e-06], [6.1882355e-07, 0.99999934], [2.1053207e-08, 1.0], [6.032717e-11, 1.0], [1.8020032e-11, 1.0], [0.99998295, 1.7117942e-05], [0.00020678047, 0.99979323], [0.018272977, 0.981727], [4.5619166e-09, 1.0], [0.9999999, 1.8369934e-07], [2.3443594e-10, 1.0], [8.273655e-08, 1.0], [1.0, 3.9450594e-08], [1.8766224e-13, 1.0], [2.484945e-10, 1.0], [1.4456443e-09, 1.0], [7.290965e-12, 1.0], [1.0, 1.18559775e-08], [1.2786853e-05, 0.99998724], [1.105567e-09, 1.0], [1.7879664e-08, 1.0], [0.00017895878, 0.99982107], [1.0, 2.9535094e-10], [1.0, 2.3916916e-08], [6.2664844e-07, 0.9999994], [0.99999714, 2.8484667e-06], [5.5615708e-09, 1.0], [4.340605e-09, 1.0], [5.425506e-09, 1.0], [1.8919268e-07, 0.9999998], [0.00019096331, 0.99980897], [1.3581573e-06, 0.99999857], [1.0, 5.215224e-09], [1.0, 9.7181854e-08], [0.9999466, 5.3461896e-05], [2.4928303e-08, 1.0], [1.1204613e-08, 1.0], [1.0, 9.417722e-10], [0.99999684, 3.2070498e-06], [7.626853e-10, 1.0], [2.4118934e-09, 1.0], [0.99999917, 8.6897154e-07], [1.0, 3.5556469e-09], [1.0, 3.8773146e-10], [0.9999999, 9.0672216e-08], [1.0, 3.600955e-08], [5.073262e-06, 0.99999505], [0.99999696, 3.1196564e-06], [3.2957075e-08, 1.0], [1.1576515e-07, 0.9999999], [1.0, 7.5433675e-08], [1.0, 1.1163067e-09], [0.9999992, 7.5943024e-07], [6.633722e-09, 1.0], [0.9917387, 0.008261258], [1.0, 1.40652715e-11], [1.0, 8.505392e-10], [1.0, 1.444908e-09], [6.6217787e-10, 1.0], [1.0, 5.1850908e-08], [0.99891233, 0.0010876155], [3.592508e-08, 1.0], [4.275416e-09, 1.0], [2.113561e-08, 1.0], [5.956071e-05, 0.9999403], [5.13991e-12, 1.0], [0.9976388, 0.0023611975], [1.0, 5.939376e-10], [1.0, 2.6392403e-08], [1.0, 3.230673e-08], [1.0, 1.6834579e-11], [0.99977064, 0.00022926481], [1.9306549e-12, 1.0], [5.0899417e-11, 1.0], [0.9999998, 1.8036704e-07], [0.14905001, 0.85095006], [9.021872e-07, 0.99999917], [0.9999999, 1.3375504e-07], [0.0029577645, 0.9970423], [3.845196e-09, 1.0], [2.1778936e-09, 1.0], [0.9949323, 0.0050676917], [1.0054966e-06, 0.9999989], [1.0, 2.3591527e-08], [2.2209669e-08, 1.0], [5.092381e-11, 1.0], [0.9999968, 3.2291105e-06], [1.0, 1.737621e-08], [5.221055e-06, 0.9999949], [7.011587e-06, 0.99999297], [0.9999998, 2.5961353e-07], [1.395712e-11, 1.0], [1.0, 1.8551563e-09], [1.0, 7.197685e-09], [0.00022415459, 0.9997759], [1.0, 3.0469664e-08], [1.0, 1.4538628e-08], [1.0, 8.160587e-09], [3.6089365e-09, 1.0], [1.3765725e-12, 1.0], [2.2082886e-05, 0.9999779], [6.0479616e-10, 1.0], [1.7065071e-07, 0.9999998], [6.825271e-09, 1.0], [1.0, 7.836687e-10], [1.5472071e-07, 0.9999998], [3.63275e-07, 0.99999964], [1.0, 6.865701e-09], [0.9999987, 1.2912826e-06], [9.1465555e-09, 1.0], [1.0, 2.2006421e-09], [0.9999863, 1.3814379e-05], [1.0, 4.3839083e-09], [9.423073e-06, 0.99999064], [6.825762e-05, 0.9999317], [0.00023768275, 0.99976236], [8.643699e-12, 1.0], [3.844041e-09, 1.0], [1.7116065e-07, 0.9999999], [1.0, 6.8240893e-09], [1.0976954e-08, 1.0], [2.03166e-09, 1.0], [4.4475837e-06, 0.9999955], [4.476373e-09, 1.0], [0.0036273594, 0.9963728], [0.99649525, 0.0035046942], [1.5069804e-07, 0.9999998], [0.9999989, 1.0417883e-06], [0.997647, 0.002353054], [1.373805e-10, 1.0], [2.8201416e-07, 0.9999997], [0.029072743, 0.9709271], [2.3378564e-09, 1.0], [1.7634497e-10, 1.0], [1.0, 4.190671e-08], [0.9999943, 5.7695297e-06], [1.7527618e-08, 1.0], [0.9999992, 8.6062454e-07], [1.8320293e-08, 1.0], [0.9986808, 0.0013191935], [1.0357294e-08, 1.0], [0.9999747, 2.522051e-05], [0.9999995, 4.307041e-07], [0.9999504, 4.9561837e-05], [4.187692e-08, 1.0], [1.0, 1.7348018e-08], [4.954802e-10, 1.0], [1.0, 3.457096e-13], [6.6063095e-08, 1.0], [1.0, 2.0555229e-08], [1.0, 1.0618485e-08], [4.5316134e-12, 1.0], [1.2929167e-09, 1.0], [0.99996185, 3.8133956e-05], [0.9999994, 6.1333475e-07], [1.0, 4.6670657e-08], [2.2302888e-09, 1.0], [2.5137725e-09, 1.0], [0.99587727, 0.004122748], [1.0, 5.225926e-08], [0.9999077, 9.230885e-05], [1.4065387e-07, 0.9999999], [3.0932485e-12, 1.0], [2.3714288e-09, 1.0], [1.6250168e-10, 1.0], [2.7529467e-07, 0.9999997], [2.0068752e-08, 1.0], [1.0, 2.1070743e-09], [2.8448448e-09, 1.0], [1.0, 4.8129167e-11], [1.0, 3.6826358e-09], [1.0, 1.2704556e-08], [0.99997693, 2.2979031e-05], [0.99006444, 0.009935578], [1.2319045e-09, 1.0], [0.66913474, 0.33086532], [9.626901e-10, 1.0], [1.0, 6.680222e-09], [1.0, 1.7794378e-08], [1.3780598e-08, 1.0], [1.0, 7.7785015e-11], [1.0286882e-06, 0.99999905], [2.7523448e-09, 1.0], [1.0, 4.8149076e-09], [0.99999505, 5.0283743e-06], [1.0, 6.7635746e-08], [3.8288832e-05, 0.9999617], [3.0648963e-11, 1.0], [0.9999999, 1.0555906e-07], [6.1610883e-10, 1.0], [3.8268066e-08, 1.0], [1.0, 2.8831213e-08], [0.9985223, 0.0014776946], [0.9967499, 0.00325014], [5.128463e-10, 1.0], [5.0585137e-11, 1.0], [1.0, 1.1047857e-08], [1.0, 3.128808e-08], [0.99999934, 7.0391945e-07], [1.0, 3.1078613e-08], [3.926645e-11, 1.0], [1.0, 1.6477888e-09], [1.6171375e-10, 1.0], [1.0, 5.7211906e-09], [3.284827e-11, 1.0], [1.0, 1.7114314e-10], [1.0, 5.0461293e-09], [3.1362468e-08, 1.0], [0.9975023, 0.0024975971], [1.8960516e-05, 0.99998105], [0.99918765, 0.00081231736], [1.0, 7.644298e-11], [0.9999999, 1.1822742e-07], [0.7642945, 0.23570552], [0.9999981, 1.8565901e-06], [7.3104694e-08, 1.0], [0.9999999, 1.2751778e-07], [1.0837245e-11, 1.0], [1.0, 5.7767306e-08], [0.1391029, 0.86089694], [1.188623e-09, 1.0], [4.628826e-07, 0.99999964], [0.9999998, 1.7453041e-07], [0.9999995, 4.9097235e-07], [1.2053735e-07, 0.9999999], [1.5883309e-06, 0.99999845], [1.3099047e-05, 0.9999868], [3.7606522e-08, 1.0], [3.909742e-11, 1.0], [1.0, 1.5968383e-11], [0.99999845, 1.6390484e-06], [0.00028265914, 0.99971735], [1.0, 1.989734e-09], [0.9999939, 6.123925e-06], [0.9998625, 0.00013748769], [3.0060367e-08, 1.0], [6.0217253e-06, 0.999994], [0.99995553, 4.4370936e-05], [1.0, 4.848203e-11], [0.17065108, 0.82934886], [2.414247e-10, 1.0], [1.0, 2.5056583e-09], [1.9753765e-11, 1.0], [1.0, 1.3246637e-09], [2.0468378e-09, 1.0], [0.95912135, 0.040878702], [0.9999989, 1.0377555e-06], [3.0267121e-12, 1.0], [1.0, 3.2558848e-08], [6.3252346e-12, 1.0], [0.9999998, 1.687819e-07], [1.0, 2.6270048e-09], [3.0430418e-09, 1.0], [2.1779081e-10, 1.0], [0.9993922, 0.0006076929], [8.0466407e-07, 0.99999917], [0.9310996, 0.06890036], [0.99999905, 9.1361454e-07], [1.04334106e-07, 1.0], [1.0, 4.4472572e-09], [1.0, 1.6264726e-08], [0.9999949, 5.165023e-06], [0.99995136, 4.8644946e-05], [6.3323873e-06, 0.9999937], [1.0, 9.006374e-08], [0.6317831, 0.36821696], [1.0, 1.0682937e-09], [1.0, 2.9283001e-08], [7.128901e-07, 0.99999934], [3.5372563e-10, 1.0], [6.726552e-10, 1.0], [1.6978495e-06, 0.9999983], [1.0, 3.7760857e-11], [0.9999992, 7.7598935e-07], [4.2800347e-10, 1.0], [1.0, 3.333757e-09], [1.016632e-10, 1.0], [1.0, 3.5246167e-10], [0.99882376, 0.0011761957], [0.99980366, 0.00019619109], [0.9999997, 2.9734935e-07], [0.99999905, 9.790132e-07], [6.5809713e-09, 1.0], [0.9999278, 7.215228e-05], [6.5345534e-06, 0.9999935], [0.9999973, 2.754434e-06], [1.0, 8.3900487e-10], [1.169628e-07, 0.9999999], [0.9999884, 1.1525304e-05], [0.99999964, 4.2481196e-07], [0.9999998, 1.10114044e-07], [1.1689517e-08, 1.0], [1.0, 1.710115e-11], [1.0, 9.6059445e-08], [0.9999999, 1.6552559e-07], [1.9909215e-10, 1.0], [1.0, 4.5870752e-10], [0.9999998, 2.3624932e-07], [1.0, 3.1081e-10], [1.0, 3.5266943e-09], [2.3697157e-07, 0.9999998], [2.224183e-10, 1.0], [4.5311066e-07, 0.99999964], [0.99942505, 0.0005750598], [4.0323712e-07, 0.99999964], [0.9999944, 5.6920762e-06], [0.9999994, 5.73915e-07], [7.924903e-09, 1.0], [0.510198, 0.48980194], [1.1509602e-09, 1.0], [1.5238601e-08, 1.0], [5.2531663e-11, 1.0], [3.6225615e-08, 1.0], [3.4233796e-11, 1.0], [0.99999964, 4.5329938e-07], [0.9970563, 0.002943683], [1.325711e-07, 0.9999999], [0.99996793, 3.2021144e-05], [0.999997, 2.9517455e-06], [1.0, 4.0164894e-10], [1.0, 2.0500064e-08], [1.0, 1.241481e-07], [0.99999917, 9.687999e-07], [1.0, 1.1956045e-08], [0.9999569, 4.308099e-05], [1.0, 2.0768827e-09], [0.99994975, 5.0314535e-05], [1.0, 1.3281617e-09], [1.4881784e-09, 1.0], [0.024247762, 0.9757522], [9.214959e-08, 1.0], [0.9999992, 8.5751674e-07], [1.0, 5.9897047e-09], [8.424965e-11, 1.0], [0.9999998, 1.5874579e-07], [3.098239e-08, 1.0], [3.4309203e-08, 1.0], [1.0, 6.15927e-09], [1.2327035e-09, 1.0], [1.0, 7.036893e-08], [1.0, 2.7501001e-09], [0.99683416, 0.0031657878], [0.99999636, 3.673574e-06], [2.2728934e-10, 1.0], [1.5264361e-06, 0.99999845], [1.0522267e-07, 0.9999999], [1.6115189e-09, 1.0], [1.0, 1.1530924e-08], [7.133482e-07, 0.9999992], [0.007425327, 0.9925747], [0.00026143983, 0.9997386], [0.006528502, 0.9934715], [2.4871671e-08, 1.0], [1.0, 1.15007195e-08], [0.99999917, 9.001159e-07], [4.4911022e-07, 0.9999995], [1.0, 3.9355044e-10], [1.0, 9.170709e-09], [1.0, 3.1009126e-08], [1.8169676e-11, 1.0], [0.99999934, 6.63682e-07], [1.0, 2.291954e-09], [2.5575602e-07, 0.9999997], [1.0, 3.3135383e-09], [4.3258382e-07, 0.99999964], [5.1740705e-07, 0.9999995], [7.511582e-08, 0.9999999], [0.99123, 0.00876999], [1.560077e-11, 1.0], [5.703604e-07, 0.9999994], [0.99978983, 0.00021012167], [0.99999887, 1.1068685e-06], [6.7366265e-11, 1.0], [1.0, 4.9342898e-11], [1.363811e-11, 1.0], [0.99999684, 3.2222692e-06], [0.69229776, 0.30770224], [1.1947606e-06, 0.99999875], [4.6406084e-11, 1.0], [3.7869144e-10, 1.0], [1.0, 2.46762e-10], [8.5441553e-07, 0.99999917], [1.6406675e-06, 0.9999984], [2.3707774e-09, 1.0], [0.99999964, 3.3885897e-07], [0.99999905, 1.0769833e-06], [6.0853156e-10, 1.0], [1.10916915e-07, 0.9999999], [6.341107e-08, 1.0], [1.0064279e-07, 1.0], [1.0, 1.2354738e-08], [4.3715994e-05, 0.9999563], [0.99998015, 1.9793284e-05], [3.772752e-12, 1.0], [9.1823887e-07, 0.99999917], [9.550196e-15, 1.0], [0.006709977, 0.99329007], [7.0912234e-12, 1.0], [0.9999994, 7.2528366e-07], [7.242702e-08, 1.0], [8.075089e-09, 1.0], [7.1781486e-13, 1.0], [2.6074176e-10, 1.0], [2.248986e-08, 1.0], [2.8022118e-09, 1.0], [5.8246115e-08, 1.0], [2.4836484e-09, 1.0], [6.39512e-08, 1.0], [8.1812314e-11, 1.0], [1.0, 2.3573644e-08], [6.404678e-11, 1.0], [2.1652115e-06, 0.9999978], [2.8673854e-09, 1.0], [3.2828428e-08, 1.0], [1.4663135e-10, 1.0], [1.0, 7.812595e-10], [1.0, 1.5217262e-08], [7.6937035e-10, 1.0], [0.9965863, 0.0034136549], [1.0, 4.650142e-08], [6.1820694e-11, 1.0], [2.0741406e-09, 1.0], [1.200469e-07, 0.9999999], [9.41428e-13, 1.0], [1.0, 4.309159e-09], [1.0, 1.5463183e-08], [0.99999267, 7.3436277e-06], [5.8504583e-09, 1.0], [0.99999917, 9.2876553e-07], [1.0, 4.4584927e-10], [1.6917535e-06, 0.9999984], [0.9993388, 0.0006611496], [5.1706143e-06, 0.9999949], [0.99999744, 2.6006737e-06], [0.9999999, 1.502714e-07], [0.9999992, 8.2123995e-07], [1.0, 4.0026165e-08], [1.0, 3.2833264e-11], [1.913826e-08, 1.0], [0.99999493, 5.111283e-06], [0.30219772, 0.69780225], [1.0, 2.8680497e-10], [0.002146964, 0.9978531], [3.6872073e-08, 1.0], [1.0, 1.8320359e-09], [0.9989753, 0.0010247423], [0.9999493, 5.0751714e-05], [0.9977993, 0.002200641], [0.99999774, 2.3012508e-06], [9.6974496e-08, 0.9999999], [1.0, 2.956663e-09], [1.0, 7.701163e-11], [1.368238e-11, 1.0], [1.0, 9.2037915e-08], [3.214655e-11, 1.0], [1.0, 2.802289e-08], [1.0231359e-05, 0.9999897], [0.99999857, 1.5037758e-06], [0.9999999, 9.346099e-08], [0.99999905, 9.821106e-07], [1.0, 7.185315e-09], [3.5209027e-07, 0.9999997], [1.0, 3.3046853e-11], [1.0, 7.2572304e-09], [0.9996392, 0.00036071741], [0.99901706, 0.0009829446], [1.0, 7.7540314e-08], [1.0, 9.2956824e-09], [3.3380668e-10, 1.0], [1.11322525e-08, 1.0], [1.0, 4.852321e-10], [5.3854655e-12, 1.0], [0.9999983, 1.6800993e-06], [0.9999997, 3.1148073e-07], [0.99999964, 3.9715815e-07], [0.9999998, 2.474003e-07], [2.8275528e-08, 1.0], [0.9999997, 3.4908652e-07], [3.6023316e-11, 1.0], [1.0, 1.6358995e-10], [1.0, 7.398814e-09], [1.0, 2.2489532e-10], [0.9999983, 1.8056875e-06], [1.0, 1.1488906e-08], [1.0, 1.425821e-09], [2.337553e-09, 1.0], [0.9999999, 1.5041257e-07], [2.3572543e-08, 1.0], [4.1042963e-10, 1.0], [1.0, 8.201766e-09], [9.398296e-06, 0.99999064], [5.8344973e-08, 1.0], [0.99999964, 4.6283793e-07], [1.8511628e-10, 1.0], [0.9999999, 1.2941499e-07], [1.0, 1.690298e-10], [0.9999151, 8.480349e-05], [1.0, 3.0009897e-09], [5.4765792e-08, 1.0], [3.9212007e-09, 1.0], [0.9998372, 0.00016284591], [6.192066e-08, 1.0], [2.4804265e-07, 0.9999998], [1.3776761e-06, 0.99999857], [1.5399586e-07, 0.9999999], [0.9999882, 1.1910593e-05], [0.9999998, 2.1574958e-07], [2.0045512e-09, 1.0], [2.547532e-07, 0.9999998], [1.4757593e-09, 1.0], [0.99998176, 1.8308441e-05], [5.03948e-10, 1.0], [4.5130523e-12, 1.0], [3.21096e-11, 1.0], [1.0, 3.1927094e-08], [2.1095077e-09, 1.0], [0.39468604, 0.60531396], [3.684245e-07, 0.99999964], [1.6881517e-06, 0.9999984], [1.8408712e-09, 1.0], [2.4280695e-08, 1.0], [7.330609e-09, 1.0], [4.328448e-09, 1.0], [1.6992823e-08, 1.0], [1.0, 4.4217977e-08], [0.20290208, 0.7970979], [0.9999999, 1.2301241e-07], [1.17428286e-07, 0.9999999], [0.9986806, 0.0013193313], [1.0, 1.882306e-09], [1.0, 1.2989654e-10], [7.7541554e-05, 0.99992245], [0.81812155, 0.18187854], [3.7867227e-07, 0.99999964], [3.1894082e-08, 1.0], [1.0155509e-06, 0.99999905], [6.0899298e-12, 1.0], [3.9678563e-13, 1.0], [0.9999801, 1.9924535e-05], [4.0462914e-10, 1.0], [3.6750925e-10, 1.0], [2.5690146e-09, 1.0], [7.862269e-08, 0.9999999], [1.887376e-08, 1.0], [8.931952e-10, 1.0], [0.9999999, 1.2361559e-07], [1.5804273e-08, 1.0], [0.99999714, 2.8269903e-06], [3.6446182e-09, 1.0], [6.880844e-08, 1.0], [1.3318628e-07, 0.9999998], [0.9999992, 7.845148e-07], [1.0, 1.6990914e-08], [1.0, 8.8079e-11], [1.910285e-06, 0.9999981], [3.8825952e-08, 1.0], [1.0589782e-09, 1.0], [1.0, 3.4443454e-10], [0.99999875, 1.2020547e-06], [4.004143e-07, 0.9999995], [1.4847017e-06, 0.99999857], [3.4257909e-07, 0.99999964], [3.8053938e-10, 1.0], [7.9609547e-10, 1.0], [0.09334517, 0.9066547], [0.9999998, 1.1640763e-07], [2.3453917e-06, 0.99999774], [3.4622153e-07, 0.9999997], [3.068762e-06, 0.99999696], [0.8642144, 0.1357856], [1.0, 8.0437594e-08], [1.0, 3.158003e-09], [0.992085, 0.007914998], [1.4962223e-08, 1.0], [0.8101839, 0.18981606], [5.7367107e-08, 1.0], [1.0, 9.262866e-10], [1.0, 1.758381e-09], [2.432243e-05, 0.9999758], [1.578084e-10, 1.0], [4.9327736e-10, 1.0], [0.99998665, 1.3352229e-05], [1.5331818e-10, 1.0], [2.4541005e-06, 0.9999976], [3.6730733e-06, 0.9999963], [0.99999034, 9.616897e-06], [1.0, 4.570942e-09], [0.99999255, 7.382515e-06], [0.9999998, 1.721405e-07], [1.0, 5.8739836e-08], [8.7997755e-08, 0.9999999], [2.6064942e-10, 1.0], [1.15487275e-07, 0.9999999], [3.3214754e-05, 0.9999668], [1.0, 5.7071003e-10], [1.0240414e-05, 0.9999897], [0.9998363, 0.00016360557], [1.0, 3.4695145e-09], [0.9999999, 7.56985e-08], [1.0, 1.4101209e-08], [7.106397e-11, 1.0], [0.9999998, 1.644454e-07], [0.9999999, 9.88508e-08], [3.5830788e-05, 0.9999641], [1.0, 3.930056e-09], [1.0, 1.1150735e-09], [1.0, 1.1869629e-07], [0.9999732, 2.6858546e-05], [1.0, 2.518694e-09], [1.0, 1.6818268e-08], [1.0, 1.0056446e-09], [0.999302, 0.00069787574], [1.0, 5.2485656e-09], [1.0, 1.0859994e-08], [0.9996463, 0.00035364245], [1.7106604e-08, 1.0], [0.9999999, 1.6015824e-07], [5.3155653e-12, 1.0], [2.238264e-11, 1.0], [1.2341668e-09, 1.0], [4.7657536e-09, 1.0], [5.5852645e-11, 1.0], [0.991316, 0.008684056], [1.0, 2.867309e-08], [0.9999999, 1.11570344e-07], [7.046949e-09, 1.0], [4.632345e-06, 0.99999535], [4.8797886e-09, 1.0], [1.0, 1.8197032e-09], [1.0, 1.2939813e-08], [1.5004694e-07, 0.9999999], [1.0, 3.585857e-09], [0.9999999, 9.412764e-08], [0.9999995, 5.278987e-07], [9.919711e-09, 1.0], [0.634231, 0.365769], [2.7253172e-05, 0.99997264], [1.1941282e-07, 0.9999999], [2.1583801e-09, 1.0], [1.0, 5.0771103e-11], [1.0, 2.5524156e-09], [1.0, 8.342221e-08], [1.0, 1.8409964e-09], [2.6967368e-11, 1.0], [1.9025556e-10, 1.0], [1.0, 2.6161966e-09], [0.99999964, 4.2015705e-07], [2.3736268e-08, 1.0], [8.02491e-11, 1.0], [0.013873746, 0.98612624], [0.9987259, 0.0012740465], [2.4709818e-10, 1.0], [0.9999998, 2.1443039e-07], [0.99999636, 3.6868282e-06], [1.0, 1.7486321e-10], [0.9999994, 6.780139e-07], [1.9133843e-06, 0.9999981], [1.3641997e-07, 0.9999999], [0.99999315, 6.8491354e-06], [0.99999046, 9.500408e-06], [0.39325064, 0.60674936], [7.4635557e-07, 0.99999934], [0.99999267, 7.336046e-06], [4.2228748e-10, 1.0], [1.0, 2.1893902e-09], [2.870158e-13, 1.0], [6.0768415e-13, 1.0], [2.5731692e-09, 1.0], [0.9999999, 6.823388e-08], [0.9999999, 7.6924415e-08], [1.0, 4.6015743e-11], [3.9327585e-08, 1.0], [0.9999758, 2.4236831e-05], [1.0, 1.8330801e-10], [0.000907405, 0.9990926], [0.3597234, 0.6402766], [5.8778613e-05, 0.99994123], [3.13375e-08, 1.0], [1.0, 5.9053545e-10], [0.9999944, 5.6431013e-06], [7.63842e-08, 1.0], [0.9999997, 3.1794545e-07], [0.9999995, 4.5236524e-07], [0.00095843186, 0.99904156], [3.2637027e-07, 0.99999964], [1.5603945e-09, 1.0], [2.0092247e-07, 0.9999998], [1.0, 8.8634815e-09], [1.0, 1.2518073e-09], [7.059013e-08, 1.0], [0.9999997, 2.3939845e-07], [1.0, 5.4425415e-09], [0.9999997, 3.0930954e-07], [6.844077e-10, 1.0], [1.0, 2.520855e-08], [1.0, 1.7980097e-09], [1.0121599e-09, 1.0], [1.2020908e-08, 1.0], [2.7126152e-08, 1.0], [0.9999998, 2.1347e-07], [1.0, 1.1819243e-08], [2.0291109e-09, 1.0], [1.2235309e-07, 0.9999999], [0.9999978, 2.2105887e-06], [2.7828688e-09, 1.0], [1.0, 1.9740012e-11], [0.99999964, 4.1915928e-07], [0.0013359373, 0.9986641], [1.0, 2.1809186e-09], [0.9999999, 1.4951726e-07], [6.6875727e-09, 1.0], [1.0, 7.1815713e-12], [0.9916937, 0.008306311], [1.0, 8.478806e-10], [1.0, 4.929668e-09], [2.3559107e-06, 0.9999976], [0.0005407892, 0.9994591], [1.0, 2.5494344e-08], [1.0, 6.9200555e-11], [1.7038583e-07, 0.9999998], [1.2036474e-11, 1.0], [0.9999995, 4.929549e-07], [1.0, 2.3770879e-08], [0.2891652, 0.7108348], [1.7353967e-09, 1.0], [2.1764959e-07, 0.9999998], [1.2367967e-06, 0.99999875], [1.0, 1.1645289e-08], [1.0, 1.4086731e-09], [4.6351292e-07, 0.9999995], [8.013264e-12, 1.0], [1.0, 4.893909e-09], [4.8568378e-05, 0.9999515], [1.0, 6.459909e-08], [1.0, 5.9534147e-09], [0.00014945307, 0.99985063], [1.5421598e-07, 0.9999999], [6.228138e-10, 1.0], [8.849166e-12, 1.0], [3.4224854e-08, 1.0], [1.0, 9.316397e-12], [1.0, 1.5964051e-08], [0.9999894, 1.0526182e-05], [1.0, 3.551326e-11], [0.99999964, 4.15259e-07], [1.0, 2.3022475e-08], [0.0005746259, 0.9994253], [0.99999446, 5.539436e-06], [1.0, 2.7033548e-10], [5.48257e-09, 1.0], [1.0, 1.0762484e-08], [0.9999999, 1.07002975e-07], [0.9999997, 2.796924e-07], [1.0, 5.483042e-09], [0.9999999, 1.0097057e-07], [3.2439377e-07, 0.9999997], [1.0, 8.89584e-12], [1.0, 2.4619e-10], [3.5877417e-09, 1.0], [1.7065499e-09, 1.0], [3.623262e-12, 1.0], [1.0, 2.2702331e-09], [0.99978, 0.00021996997], [1.0, 1.2063974e-08], [8.666441e-10, 1.0], [9.059736e-14, 1.0], [1.0, 1.7395296e-08], [3.2076652e-09, 1.0], [5.2388305e-07, 0.9999994], [3.8965392e-10, 1.0], [2.042166e-06, 0.999998], [1.66658e-08, 1.0], [0.00014953679, 0.99985045], [0.23964104, 0.7603589], [5.0728254e-08, 1.0], [1.0, 1.15604e-09], [0.9999999, 1.11691975e-07], [1.0, 5.6064775e-09], [0.9999919, 8.0558575e-06], [1.0, 1.6556572e-09], [1.5470685e-07, 0.9999998], [1.0, 2.7109138e-08], [1.0, 5.1494663e-11], [1.0, 2.7920535e-09], [6.549499e-06, 0.99999344], [1.6916381e-05, 0.99998313], [1.6247137e-09, 1.0], [0.99936867, 0.00063142786], [5.3739502e-11, 1.0], [2.315166e-06, 0.99999774], [1.7948126e-09, 1.0], [1.0, 9.262086e-09], [2.321964e-06, 0.99999774], [7.757314e-09, 1.0], [0.42865482, 0.57134515], [1.0, 2.2830833e-09], [1.0, 7.605834e-09], [1.3202005e-06, 0.9999987], [1.0, 5.1675497e-11], [0.9999875, 1.2564485e-05], [6.26775e-07, 0.9999994], [1.0, 5.4660784e-08], [5.471038e-05, 0.9999453], [0.99999964, 4.4561415e-07], [1.7624016e-10, 1.0], [1.0, 2.6722493e-08], [0.99999964, 3.825017e-07], [0.99998313, 1.6907357e-05], [1.0, 4.9518933e-10], [1.7180419e-09, 1.0], [5.3451963e-08, 1.0], [1.0, 1.519101e-08], [4.479836e-10, 1.0], [1.12361925e-11, 1.0], [0.9999999, 6.497855e-08], [0.9999999, 1.3356937e-07], [0.99998796, 1.1984434e-05], [7.8712795e-08, 1.0], [1.6902064e-06, 0.9999983], [0.9999995, 5.4116947e-07], [1.0, 3.9070042e-11], [1.0, 3.202561e-09], [1.0, 1.6253958e-09], [2.5021354e-10, 1.0], [1.550687e-09, 1.0], [1.0751543e-10, 1.0], [0.99999875, 1.2193426e-06], [5.2577526e-08, 1.0], [0.7768661, 0.22313395], [1.1853329e-08, 1.0], [1.0, 1.7162674e-09], [9.163989e-09, 1.0], [0.000810108, 0.99918985], [0.99999934, 6.890609e-07], [3.7329677e-08, 1.0], [0.9999987, 1.4110398e-06], [4.2735447e-11, 1.0], [3.0054775e-08, 1.0], [0.99999964, 3.509403e-07], [9.45054e-10, 1.0], [4.9155676e-07, 0.9999994], [2.8607508e-10, 1.0], [0.0010998689, 0.99890006], [1.0, 2.4191646e-09], [1.0, 1.0263318e-10], [3.1478212e-10, 1.0], [1.7913117e-06, 0.9999982], [1.0, 8.1337415e-10], [1.0, 1.2522078e-08], [6.362417e-11, 1.0], [1.0, 5.3708784e-09], [1.1534318e-06, 0.99999887], [2.3266153e-09, 1.0], [2.1244063e-12, 1.0], [5.2696303e-10, 1.0], [1.8234761e-05, 0.9999817], [0.4416082, 0.55839187], [1.0, 1.1759831e-08], [5.0396824e-08, 1.0], [0.0005692641, 0.9994308], [0.9999997, 4.067649e-07], [7.2030394e-12, 1.0], [1.2760685e-07, 0.9999999], [1.0, 4.228586e-11], [1.0, 1.1325836e-09], [1.0, 5.285307e-10], [4.4821837e-07, 0.99999964], [0.99995697, 4.30536e-05], [9.625891e-10, 1.0], [0.9966961, 0.0033038494], [4.4896577e-05, 0.99995506], [1.0, 7.7946644e-10], [1.0, 1.3511736e-08], [1.0, 3.2641227e-11], [0.5851303, 0.41486973], [1.0, 1.673882e-11], [8.2493616e-11, 1.0], [1.0, 5.0378226e-09], [0.9999846, 1.5433221e-05], [0.9947077, 0.005292326], [0.99999493, 5.18264e-06], [6.8658875e-07, 0.99999934], [1.0, 2.826488e-09], [2.675867e-07, 0.9999997], [6.609538e-13, 1.0], [1.0, 1.0862051e-09], [0.9999998, 2.0194265e-07], [0.9999515, 4.8609967e-05], [4.8914264e-09, 1.0], [5.567528e-12, 1.0], [1.0, 5.119766e-10], [2.0820277e-08, 1.0], [0.9996316, 0.00036840598], [6.091927e-11, 1.0], [1.3754975e-08, 1.0], [1.0, 2.656796e-08], [1.0190851e-06, 0.99999905], [3.2349405e-09, 1.0], [7.01922e-08, 0.9999999], [0.8386475, 0.16135256], [0.9999992, 6.954155e-07], [6.082967e-07, 0.99999934], [0.99996775, 3.225089e-05], [1.4993647e-10, 1.0], [0.9999522, 4.775579e-05], [0.84054554, 0.15945446], [0.9999999, 1.1353704e-07], [0.99999917, 8.536191e-07], [1.0361041e-10, 1.0], [5.3375326e-09, 1.0], [6.587341e-08, 1.0], [1.2410796e-08, 1.0], [1.0, 2.2605693e-09], [1.8391473e-10, 1.0], [0.99999845, 1.563574e-06], [0.069898486, 0.9301015], [9.966379e-14, 1.0], [0.9998871, 0.000112961825], [1.0, 6.930111e-11], [5.128735e-08, 1.0], [1.0, 2.2381976e-09], [5.074631e-10, 1.0], [7.970986e-11, 1.0], [1.0, 5.7149528e-08], [1.7625681e-10, 1.0], [0.9999979, 2.1129565e-06], [1.0, 4.4664756e-09], [6.08872e-11, 1.0], [3.2204235e-07, 0.9999997], [1.670358e-07, 0.9999999], [1.4370326e-10, 1.0], [1.0, 1.7471176e-10], [1.46823e-06, 0.99999845], [1.0, 4.242123e-12], [3.169934e-06, 0.99999684], [7.9737295e-10, 1.0], [0.00037040687, 0.9996296], [2.931974e-06, 0.99999714], [1.0477305e-08, 1.0], [1.0, 7.961536e-09], [0.9999998, 1.7851913e-07], [2.078009e-08, 1.0], [0.9999997, 3.13441e-07], [7.070762e-07, 0.9999992], [2.0250216e-08, 1.0], [1.0012354e-07, 0.9999999], [3.8863557e-09, 1.0], [4.015245e-06, 0.9999959], [6.292683e-09, 1.0], [1.0, 2.772263e-08], [0.99983966, 0.00016026749], [2.28376e-05, 0.9999771], [2.6362696e-07, 0.9999997], [0.9999344, 6.561894e-05], [0.00025388357, 0.999746], [1.0, 8.779845e-11], [3.2607465e-11, 1.0], [0.99980384, 0.00019613975], [1.0, 1.9721838e-10], [0.99999964, 3.6289308e-07], [0.9999501, 4.9905637e-05], [1.2353645e-08, 1.0], [0.99999845, 1.5214698e-06], [4.634134e-09, 1.0], [7.440532e-09, 1.0], [0.9999997, 2.573526e-07], [1.0, 1.1797618e-08], [1.0, 3.7852367e-08], [1.0, 4.532324e-08], [1.6933838e-07, 0.9999998], [1.0, 7.924516e-08], [0.9999999, 1.2319497e-07], [9.2640884e-10, 1.0], [1.0, 3.3290892e-09], [0.999877, 0.00012299625], [0.9999989, 1.0283571e-06], [0.98923874, 0.010761261], [2.5083704e-08, 1.0], [1.0, 5.3274907e-10], [1.285389e-08, 1.0], [0.99893636, 0.001063685], [1.0, 4.4419286e-09], [4.6345285e-08, 1.0], [1.0, 3.9914415e-08], [3.3351178e-08, 1.0], [1.2095822e-08, 1.0], [1.0, 2.6079021e-09], [6.2825556e-08, 1.0], [1.0, 6.6141546e-08], [0.99999726, 2.6865969e-06], [5.7210895e-07, 0.9999994], [2.8306024e-08, 1.0], [0.9999999, 1.1696174e-07], [0.9997495, 0.0002505392], [5.80377e-07, 0.9999994], [1.9969922e-10, 1.0], [1.0, 1.904236e-09], [1.0, 1.7239609e-08], [4.0801612e-11, 1.0], [7.99561e-06, 0.999992], [6.559497e-09, 1.0], [1.6416452e-06, 0.9999984], [1.0960399e-10, 1.0], [4.240216e-07, 0.99999964], [3.2870873e-09, 1.0], [6.735837e-10, 1.0], [1.0, 5.3025656e-10], [9.2536023e-10, 1.0], [1.0, 1.7367405e-08], [7.221719e-07, 0.9999992], [1.773973e-06, 0.9999983], [4.788954e-09, 1.0], [0.9999983, 1.6654728e-06], [0.99988425, 0.00011571064], [0.02768479, 0.9723152], [5.3275375e-13, 1.0], [3.15178e-11, 1.0], [1.0, 4.083331e-08], [1.125122e-10, 1.0], [1.0, 4.2473514e-10], [8.323625e-12, 1.0], [3.467779e-06, 0.99999654], [0.99999887, 1.1597627e-06], [3.0138726e-12, 1.0], [2.1238027e-10, 1.0], [0.9998536, 0.00014641095], [1.38030955e-05, 0.9999863], [1.0, 4.7066955e-08], [1.9709952e-07, 0.9999998], [0.99999934, 7.2790147e-07], [2.2486088e-10, 1.0], [2.8962865e-09, 1.0], [0.9999998, 1.9444545e-07], [5.5725823e-11, 1.0], [1.0, 2.8419901e-08], [0.9999987, 1.3826007e-06], [0.9972437, 0.0027562021], [1.3907915e-07, 0.9999999], [1.0, 4.3404963e-08], [0.9999997, 3.434337e-07], [1.0, 1.846299e-08], [4.0507988e-12, 1.0], [1.0, 2.4656462e-08], [1.0, 8.1252277e-10], [0.99997604, 2.3903594e-05], [0.001782403, 0.9982176], [3.5138687e-06, 0.99999654], [0.9999301, 6.990352e-05], [0.99999905, 9.759158e-07], [1.0, 1.8289095e-09], [1.6041763e-08, 1.0], [2.4553654e-10, 1.0], [0.9999995, 4.9532724e-07], [0.999401, 0.0005990373], [0.99921685, 0.00078314927], [1.0, 8.71388e-09], [0.99996793, 3.2039476e-05], [0.99999964, 3.4840255e-07], [1.5688873e-07, 0.9999999], [2.2464408e-10, 1.0], [5.842522e-06, 0.9999941], [2.9440367e-10, 1.0], [8.960307e-11, 1.0], [6.194532e-05, 0.99993813], [1.0, 4.2433192e-11], [3.978825e-06, 0.99999607], [2.6935482e-11, 1.0], [1.1582465e-12, 1.0], [0.9999983, 1.7513117e-06], [1.0, 3.3744413e-10], [0.9999957, 4.3653135e-06], [0.9999992, 7.9835326e-07], [0.0006611297, 0.9993389], [1.0, 9.594161e-08], [4.6881087e-05, 0.9999531], [0.9999956, 4.436205e-06], [0.9999679, 3.218084e-05], [0.005278428, 0.9947216], [0.99999887, 1.203842e-06], [1.0, 8.128513e-11], [0.9998843, 0.00011565369], [1.0, 3.1519082e-10], [0.9999999, 1.3781455e-07], [1.0, 8.107027e-11], [0.9878461, 0.012153918], [6.0506073e-07, 0.9999994], [6.038787e-11, 1.0], [0.99999714, 2.842056e-06], [6.607683e-09, 1.0], [1.0, 3.2995495e-10], [1.0, 2.4163056e-09], [1.0, 5.3372785e-11], [3.0315906e-07, 0.9999997], [5.307013e-09, 1.0], [0.9999999, 7.6829e-08], [4.4015555e-12, 1.0], [1.5021661e-07, 0.9999999], [0.9999816, 1.8440875e-05], [1.0, 2.57763e-09], [0.99999934, 6.413718e-07], [0.99999917, 9.627603e-07], [1.0, 1.5294646e-08], [1.0, 3.4754305e-10], [1.0, 5.4410396e-08], [1.0, 1.5916445e-09], [5.9544756e-05, 0.9999405], [1.1970073e-07, 0.9999999], [0.9999901, 9.924618e-06], [0.99999934, 6.887606e-07], [8.223939e-08, 1.0], [6.666342e-08, 1.0], [1.0, 2.008011e-09], [5.569455e-08, 1.0], [1.0, 1.8748446e-08], [1.48767345e-08, 1.0], [0.9999968, 3.2216624e-06], [0.99994564, 5.4396914e-05], [0.99999964, 4.0478182e-07], [1.0, 5.9730603e-09], [1.0, 7.070709e-10], [1.9606934e-09, 1.0], [0.9999918, 8.356524e-06], [0.99985313, 0.00014683258], [1.0, 5.1979e-10], [0.9999997, 2.7872608e-07], [3.8285837e-08, 1.0], [1.0, 2.4273825e-09], [1.0, 2.9076346e-09], [1.0, 1.9078485e-08], [7.842553e-06, 0.9999921], [0.9999994, 6.8191986e-07], [3.3988286e-09, 1.0], [0.9999992, 6.850599e-07], [3.2470293e-10, 1.0], [0.99991053, 8.9431574e-05], [1.5192916e-09, 1.0], [0.9995842, 0.00041588768], [1.4013939e-09, 1.0], [0.99635917, 0.003640965], [1.0, 1.2729446e-09], [9.091301e-07, 0.99999917], [0.00010186463, 0.9998981], [9.1721894e-11, 1.0], [0.9999998, 2.408002e-07], [0.9999976, 2.3943892e-06], [5.8646965e-10, 1.0], [1.0, 2.4367035e-08], [1.0, 1.3018419e-09], [1.9493799e-08, 1.0], [0.9999992, 6.7424446e-07], [1.0, 1.8248592e-09], [0.9999796, 2.0362992e-05], [4.80729e-05, 0.99995196], [4.4341662e-11, 1.0], [0.9999979, 2.205722e-06], [1.0, 3.163094e-09], [7.907541e-09, 1.0], [0.99999964, 3.366761e-07], [3.873539e-09, 1.0], [1.0, 3.4389642e-09], [5.2414667e-10, 1.0], [1.1761736e-08, 1.0], [0.9999997, 3.1492428e-07], [1.0, 4.510825e-08], [8.9659305e-05, 0.99991035], [2.2923707e-07, 0.9999998], [0.9999999, 1.6545599e-07], [1.2419402e-09, 1.0], [2.0433285e-06, 0.9999979], [1.2227082e-08, 1.0], [1.0, 1.5350627e-11], [1.8625246e-09, 1.0], [2.880263e-10, 1.0], [0.9997781, 0.0002219909], [0.43347508, 0.566525], [1.5213479e-06, 0.99999845], [0.9999999, 8.008565e-08], [0.99999917, 9.442382e-07], [1.0, 8.809997e-09], [0.9999995, 4.7845776e-07], [1.67127e-08, 1.0], [0.9999999, 1.4105741e-07], [2.8458683e-10, 1.0], [0.9999998, 2.5942828e-07], [9.644471e-10, 1.0], [1.0, 6.789308e-09], [0.99999875, 1.2254784e-06], [5.914209e-08, 1.0], [4.4931586e-11, 1.0], [0.9999999, 1.3540583e-07], [1.0975994e-07, 0.9999999], [0.99999964, 4.3491755e-07], [4.4671776e-08, 1.0], [1.8776322e-10, 1.0], [1.0, 3.5654505e-08], [0.99999875, 1.2055782e-06], [1.4469688e-09, 1.0], [0.00014764948, 0.9998523], [1.0, 9.2126323e-10], [0.9999768, 2.3131313e-05], [1.3054113e-09, 1.0], [0.9997544, 0.0002456408], [1.0, 3.5394692e-09], [1.0, 5.8304067e-08], [1.0, 3.73529e-09], [1.0, 3.0241019e-09], [1.0, 1.9938422e-08], [1.0, 1.3903433e-09], [0.9999998, 1.3026559e-07], [0.024478162, 0.97552186], [7.5545536e-10, 1.0], [0.996453, 0.0035469886], [2.4578424e-09, 1.0], [0.9999998, 2.857581e-07], [0.9999919, 8.203352e-06], [1.0, 7.574171e-09], [3.6470733e-09, 1.0], [4.8341758e-11, 1.0], [1.3773324e-07, 0.9999999], [0.99999964, 3.4864675e-07], [6.3554334e-10, 1.0], [9.342188e-09, 1.0], [4.0508277e-11, 1.0], [1.0, 2.3138942e-09], [4.2248494e-09, 1.0], [1.9069658e-08, 1.0], [0.99999696, 3.064843e-06], [0.9999865, 1.3375878e-05], [1.0, 2.5910074e-11], [9.598795e-09, 1.0], [6.795272e-05, 0.999932], [2.0158682e-06, 0.9999979], [1.0, 3.2094927e-09], [1.0, 3.4479193e-09], [6.065271e-10, 1.0], [3.9330362e-07, 0.99999964], [0.0008267819, 0.9991733], [1.898828e-07, 0.9999998], [0.99998075, 1.9298417e-05], [1.0, 6.5742384e-08], [7.995808e-08, 0.9999999], [1.4535106e-10, 1.0], [1.0, 3.7304765e-08], [5.0198596e-06, 0.99999493], [3.8006132e-05, 0.99996203], [2.985324e-06, 0.999997], [9.315919e-07, 0.99999905], [0.99999887, 1.1080117e-06], [9.177127e-08, 1.0], [1.0, 1.1451926e-10], [0.00017107045, 0.99982893], [1.0, 1.745739e-08], [1.0, 2.385327e-09], [1.0, 7.247685e-08], [0.99998724, 1.27881285e-05], [0.99999857, 1.3838546e-06], [0.99999934, 6.9020246e-07], [1.0, 7.029373e-08], [1.0616674e-09, 1.0], [2.865829e-09, 1.0], [1.6791764e-08, 1.0], [1.5562364e-09, 1.0], [2.0813459e-10, 1.0], [2.0961998e-06, 0.9999979], [0.9999999, 7.614098e-08], [1.14541834e-10, 1.0], [0.99999875, 1.2482417e-06], [0.99995804, 4.1915304e-05], [1.5477322e-10, 1.0], [9.884411e-10, 1.0], [5.2044214e-08, 1.0], [7.327191e-11, 1.0], [1.0, 7.9278315e-08], [2.0464707e-07, 0.9999998], [5.989909e-07, 0.9999994], [1.0, 1.3477292e-09], [0.99998796, 1.2159528e-05], [1.0, 9.1905004e-11], [0.0632868, 0.9367132], [2.405042e-10, 1.0], [1.0, 7.6433854e-10], [0.9999994, 5.4756964e-07], [0.9968381, 0.003161909], [9.0928725e-06, 0.99999094], [1.0, 3.874544e-08], [1.0824843e-10, 1.0], [1.0, 2.7182313e-08], [5.8971015e-09, 1.0], [1.0, 2.3412796e-09], [1.0, 3.580571e-10], [0.9976533, 0.0023467017], [1.0, 3.4431496e-12], [9.341075e-08, 0.9999999], [4.2837028e-06, 0.9999957], [1.2906416e-08, 1.0], [0.99999934, 6.2637747e-07], [0.00010783817, 0.99989223], [1.0, 2.536127e-09], [1.0, 4.8695888e-08], [0.6472441, 0.35275596], [1.0, 3.6628306e-10], [0.9999976, 2.3960713e-06], [2.3430826e-05, 0.9999765], [0.0005326147, 0.9994674], [6.364852e-11, 1.0], [1.602461e-09, 1.0], [1.0, 4.5083607e-11], [1.06343535e-07, 0.9999999], [1.411545e-05, 0.9999859], [4.8561383e-06, 0.9999951], [1.0, 1.1604646e-08], [1.4172697e-07, 1.0], [3.4865437e-09, 1.0], [0.9999998, 1.8452245e-07], [1.3234915e-08, 1.0], [1.0, 5.9513696e-09], [1.0, 8.192707e-09], [1.3008197e-07, 0.9999999], [3.2272157e-10, 1.0], [0.9999919, 8.193029e-06], [3.9977946e-10, 1.0], [0.9952051, 0.004794969], [0.9999981, 1.8916169e-06], [3.61455e-11, 1.0], [0.000184045, 0.99981594], [1.1434185e-11, 1.0], [2.2948545e-06, 0.99999774], [1.0203196e-06, 0.99999905], [2.8979111e-06, 0.99999714], [0.9152958, 0.084704176], [1.269091e-08, 1.0], [2.5948642e-08, 1.0], [3.5053762e-07, 0.99999964], [0.9995842, 0.000415798], [1.0, 2.705093e-10], [1.0, 4.3180606e-10], [1.0, 4.8747356e-10], [0.002867588, 0.9971324], [8.765988e-06, 0.99999124], [1.4067211e-06, 0.99999857], [2.629721e-07, 0.9999998], [0.00015253857, 0.99984753], [0.94763964, 0.052360356], [1.0, 3.9876614e-08], [4.7414506e-10, 1.0], [1.0, 3.6205805e-08], [0.9999984, 1.6583293e-06], [0.99998605, 1.3854823e-05], [0.9999999, 9.334874e-08], [4.1950834e-10, 1.0], [1.2159316e-07, 0.9999999], [8.686955e-09, 1.0], [1.0, 7.0071614e-08], [0.99999535, 4.6688833e-06], [1.0, 4.108032e-08], [1.0, 1.9222716e-08], [0.99999505, 4.9813375e-06], [3.4486192e-09, 1.0], [0.998604, 0.0013960185], [2.1869968e-09, 1.0], [0.99206364, 0.007936392], [7.943158e-09, 1.0], [0.99999684, 3.2349042e-06], [0.9999998, 2.0437486e-07], [1.0, 1.1119568e-11], [5.6098917e-09, 1.0], [9.846637e-10, 1.0], [7.183574e-11, 1.0], [8.7738684e-08, 0.9999999], [0.9944124, 0.0055876374], [0.99982834, 0.00017171775], [0.9999997, 2.394848e-07], [1.8942088e-05, 0.99998105], [1.0, 1.7708943e-09], [5.3659097e-08, 1.0], [1.0, 2.2698628e-10], [1.2775901e-10, 1.0], [9.359874e-06, 0.9999906], [2.1524825e-07, 0.9999998], [0.9999983, 1.7880036e-06], [0.0004123366, 0.99958766], [0.00033753444, 0.9996625], [3.1836905e-10, 1.0], [0.9996697, 0.00033029422], [2.7581466e-06, 0.99999726], [4.651684e-08, 1.0], [2.8064695e-08, 1.0], [1.0, 3.595504e-09], [4.7362847e-09, 1.0], [0.0013344038, 0.99866563], [0.9999994, 6.0473127e-07], [3.133443e-08, 1.0], [0.99999857, 1.4022214e-06], [7.890433e-07, 0.9999992], [0.9999999, 1.3245374e-07], [1.1795814e-09, 1.0], [4.778402e-09, 1.0], [5.154534e-12, 1.0], [4.1583554e-08, 1.0], [1.0569407e-08, 1.0], [1.0, 1.4446203e-09], [0.9999997, 2.7191854e-07], [2.140487e-06, 0.9999979], [0.9999998, 2.2101635e-07], [1.0, 2.496082e-09], [0.018613752, 0.9813863], [8.763061e-08, 0.9999999], [0.99999964, 3.8466396e-07], [5.498158e-13, 1.0], [4.517785e-06, 0.9999954], [3.0748192e-06, 0.99999696], [1.0, 1.4769704e-08], [2.44592e-05, 0.9999755], [0.9999979, 2.1069648e-06], [8.7315793e-11, 1.0], [9.7900696e-08, 0.9999999], [2.053416e-08, 1.0], [4.4404223e-09, 1.0], [4.6651311e-07, 0.99999964], [7.059814e-08, 1.0], [3.0583158e-10, 1.0], [4.5673307e-05, 0.9999544], [2.7425931e-11, 1.0], [0.9999997, 2.78836e-07], [1.0, 1.4091059e-10], [0.9999053, 9.467158e-05], [4.753269e-08, 1.0], [1.0, 2.1610924e-10], [2.1929017e-07, 0.9999997], [3.4255976e-08, 1.0], [0.0001272262, 0.9998728], [1.0, 1.9355888e-10], [1.5326246e-05, 0.9999846], [1.0, 2.9224235e-08], [1.1495601e-09, 1.0], [0.9992676, 0.00073236803], [4.9333245e-08, 1.0], [7.102093e-05, 0.99992895], [0.9999998, 1.8340036e-07], [1.0, 8.0840995e-10], [2.9024197e-06, 0.99999714], [4.5347456e-06, 0.9999954], [0.9999998, 1.9585471e-07], [3.3884666e-11, 1.0], [3.7966946e-10, 1.0], [1.0, 3.3700456e-08], [1.4045985e-09, 1.0], [1.0, 2.2655589e-09], [3.067511e-11, 1.0], [1.0, 1.7603591e-08], [7.650264e-09, 1.0], [1.4621875e-07, 0.9999999], [7.407696e-10, 1.0], [0.9999998, 2.183785e-07], [1.975305e-15, 1.0], [3.2405827e-05, 0.9999677], [5.9568055e-07, 0.99999934], [1.0, 1.505947e-10], [1.0, 2.1848775e-08], [1.0625086e-10, 1.0], [1.4092698e-10, 1.0], [4.9964746e-14, 1.0], [0.9984971, 0.0015029813], [1.0, 3.545255e-10], [1.1288334e-08, 1.0], [1.2374692e-10, 1.0], [3.5014042e-10, 1.0], [3.9742066e-08, 1.0], [6.6177745e-05, 0.99993384], [0.005930676, 0.9940694], [0.12446843, 0.87553155], [1.0, 1.4287197e-08], [0.99999845, 1.5173927e-06], [0.00055187725, 0.9994482], [1.0, 2.515987e-09], [1.0, 2.6010994e-11], [1.0, 8.7771673e-10], [1.5209332e-07, 0.9999999], [1.0, 1.1346834e-08], [0.99955845, 0.00044152682], [1.0, 3.146466e-10], [6.9952193e-07, 0.99999934], [0.9999102, 8.989237e-05], [1.0790361e-07, 1.0], [2.4602955e-09, 1.0], [0.9999979, 2.0889504e-06], [1.0, 1.697399e-09], [0.99929047, 0.0007094527], [3.5083545e-09, 1.0], [4.918553e-06, 0.9999951], [1.0, 3.3265173e-09], [2.4173098e-05, 0.99997586], [2.239497e-06, 0.9999978], [0.9999995, 4.600566e-07], [0.9999965, 3.4873294e-06], [2.9456169e-06, 0.99999714], [8.621095e-10, 1.0], [0.9999997, 3.0181235e-07], [1.0, 3.013662e-08], [0.99998456, 1.5427242e-05], [0.9999995, 5.0594207e-07], [1.0, 5.3655675e-09], [4.454203e-06, 0.9999956], [1.3175726e-07, 0.9999999], [1.0, 6.545716e-10], [8.307514e-11, 1.0], [2.7278102e-07, 0.9999997], [1.1369007e-06, 0.99999887], [1.0, 2.6852107e-10], [1.8544629e-08, 1.0], [0.9994117, 0.000588284], [1.0, 1.3638586e-10], [0.48968974, 0.5103103], [0.00016769176, 0.99983233], [1.0, 3.7077659e-09], [1.0, 8.313579e-08], [1.0, 3.517804e-08], [1.0, 8.084614e-08], [0.00029017075, 0.9997098], [1.0, 2.7586192e-10], [3.2627495e-10, 1.0], [3.0536635e-06, 0.99999684], [1.0, 1.7875179e-09], [1.1818951e-11, 1.0], [1.0, 1.8705815e-09], [1.3457961e-08, 1.0], [0.9999999, 9.2209426e-08], [0.99999684, 3.1331897e-06], [1.0, 9.523307e-12], [9.22589e-10, 1.0], [1.0, 3.1993619e-09], [8.017279e-09, 1.0], [4.2133372e-08, 1.0], [4.535292e-12, 1.0], [4.2334447e-09, 1.0], [3.2717344e-06, 0.9999968], [7.421723e-10, 1.0], [1.0, 2.4126154e-09], [0.99999505, 5.011571e-06], [0.9999999, 1.3504982e-07], [1.1893429e-08, 1.0], [0.9999916, 8.378103e-06], [0.9999999, 1.1773476e-07], [0.99999964, 4.799601e-07], [1.4161239e-07, 0.9999998], [0.99999917, 8.903867e-07], [1.2345906e-07, 0.9999999], [6.8055826e-13, 1.0], [1.6569207e-10, 1.0], [1.2119397e-06, 0.99999875], [0.9999997, 3.6251726e-07], [1.0, 3.400644e-08], [0.9999951, 4.832861e-06], [0.00043833797, 0.9995616], [0.15350936, 0.8464907], [1.0, 1.8126511e-10], [9.367744e-11, 1.0], [3.6079584e-09, 1.0], [0.9999999, 1.6406608e-07], [0.001277305, 0.9987227], [1.4720884e-07, 0.9999999], [0.9999999, 1.7043294e-07], [1.0, 4.3445564e-10], [7.516271e-08, 0.9999999], [1.0, 2.1783497e-10], [2.0648589e-08, 1.0], [1.0, 5.3687693e-08], [2.328343e-10, 1.0], [1.0463379e-12, 1.0], [0.99999887, 1.1366054e-06], [0.000677313, 0.9993228], [0.998971, 0.0010289764], [1.0, 1.7654326e-09], [1.2931573e-06, 0.9999987], [1.0196508e-11, 1.0], [1.0, 6.2416126e-09], [2.2411324e-10, 1.0], [0.9999998, 1.6824403e-07], [1.6989059e-08, 1.0], [0.046632353, 0.9533676], [1.6098071e-09, 1.0], [1.0, 6.2389063e-09], [3.7021178e-10, 1.0], [2.9195348e-08, 1.0], [1.0, 1.5777937e-08], [1.0, 2.858756e-09], [8.4296314e-10, 1.0], [9.220767e-05, 0.9999078], [1.0, 3.6611099e-09], [1.0, 1.3519594e-09], [4.5537735e-08, 1.0], [1.0, 1.1602521e-08], [1.8839533e-10, 1.0], [6.3966543e-10, 1.0], [4.4054546e-10, 1.0], [0.9999744, 2.5576246e-05], [1.0, 9.4065896e-08], [2.3788967e-07, 0.9999998], [0.000102174134, 0.99989796], [1.0, 1.7326893e-09], [1.0, 1.4960515e-08], [1.0, 1.2156639e-09], [1.0, 2.3696177e-08], [1.0, 1.2544712e-08], [1.0, 6.9651542e-09], [9.1107395e-06, 0.99999094], [0.9999998, 1.5656934e-07], [0.9999958, 4.3155105e-06], [0.4277819, 0.57221806], [1.9529292e-09, 1.0], [7.3360998e-06, 0.99999267], [1.3216049e-06, 0.9999987], [0.99999964, 3.907428e-07], [1.0529296e-05, 0.9999895], [0.99999297, 7.148154e-06], [2.808963e-10, 1.0], [3.8862796e-10, 1.0], [1.0, 2.2464726e-09], [1.172141e-09, 1.0], [0.9999999, 1.266052e-07], [0.9999962, 3.7355196e-06], [1.0, 7.45289e-11], [0.9999999, 7.856859e-08], [1.0, 3.8597374e-09], [0.11694729, 0.8830527], [0.00015039838, 0.9998496], [0.99993265, 6.730203e-05], [2.8078689e-11, 1.0], [1.0, 2.3737845e-12], [5.373513e-12, 1.0], [2.8152948e-08, 1.0], [1.0, 2.424467e-08], [1.0, 2.060138e-08], [0.9999994, 5.965534e-07], [9.369159e-12, 1.0], [0.7291502, 0.27084988], [0.9999987, 1.3322257e-06], [1.0, 2.179779e-10], [1.0, 6.37052e-08], [1.0475646e-10, 1.0], [8.034119e-11, 1.0], [0.9999994, 5.460922e-07], [1.1520049e-06, 0.99999887], [1.7672748e-10, 1.0], [0.9999998, 1.4679588e-07], [0.99998415, 1.5794238e-05], [6.444098e-07, 0.9999994], [1.0, 1.7545622e-09], [1.0, 1.7115307e-11], [0.99999964, 3.3746733e-07], [2.3061611e-07, 0.9999999], [1.0, 2.7410782e-11], [0.9999999, 8.6883894e-08], [1.0, 2.7273546e-09], [2.2813222e-10, 1.0], [6.0136954e-06, 0.999994], [9.877922e-08, 0.9999999], [2.1659242e-05, 0.99997836], [5.9258138e-08, 1.0], [1.0, 2.2670797e-08], [0.0067838817, 0.9932162], [2.0541287e-10, 1.0], [5.327343e-10, 1.0], [9.2931074e-08, 1.0], [3.7859608e-13, 1.0], [1.675135e-07, 0.9999999], [1.0095007e-09, 1.0], [7.11047e-09, 1.0], [1.0, 3.7254672e-08], [0.9999999, 7.052388e-08], [1.0, 4.377369e-08], [1.02051544e-07, 1.0], [4.8225207e-08, 1.0], [1.0, 3.223537e-09], [1.4311331e-07, 0.9999998], [2.1392552e-10, 1.0], [1.0, 1.7373478e-10], [1.0, 6.979773e-10], [1.0, 2.2994433e-08], [0.99997747, 2.2505708e-05], [0.26975992, 0.73024005], [1.0, 6.1202515e-10], [0.9999998, 2.1579021e-07], [5.0829463e-10, 1.0], [1.7356897e-06, 0.9999983], [1.0, 1.2961088e-09], [1.6184895e-08, 1.0], [0.40094966, 0.59905034], [0.0020024688, 0.99799746], [0.99965346, 0.00034660962], [3.1922052e-11, 1.0], [1.0, 9.502514e-12], [1.4796049e-07, 0.9999998], [1.0, 2.1481343e-09], [9.209127e-09, 1.0], [1.2608548e-10, 1.0], [1.0, 1.1714946e-09], [1.0, 9.060456e-09], [1.0, 5.5708636e-08], [0.9999765, 2.3439674e-05], [0.99999464, 5.3632148e-06], [2.0908501e-10, 1.0], [1.0, 1.0174877e-08], [0.99999905, 1.0148362e-06], [1.0, 1.5629201e-09], [8.906972e-12, 1.0], [1.0, 1.4830707e-10], [0.19855136, 0.80144864], [9.175214e-11, 1.0], [0.99999875, 1.2648627e-06], [6.722498e-09, 1.0], [4.696805e-10, 1.0], [6.760896e-11, 1.0], [1.0, 9.930584e-11], [3.6457972e-09, 1.0], [2.3150465e-06, 0.99999774], [1.0, 4.026297e-13], [5.2872194e-12, 1.0], [0.99995136, 4.868667e-05], [0.99999684, 3.0657975e-06], [1.0, 2.8506758e-08], [6.996181e-10, 1.0], [1.7795068e-07, 0.9999999], [0.99998903, 1.0931012e-05], [7.969512e-08, 1.0], [1.0, 6.227171e-09], [1.0, 6.9161865e-10], [0.99999964, 3.40315e-07], [1.0, 1.7299018e-09], [4.1436846e-10, 1.0], [1.0, 8.2924085e-09], [1.0, 5.3916795e-09], [1.0, 4.661726e-09], [0.99999666, 3.3534743e-06], [0.9999979, 2.1477204e-06], [6.4692854e-06, 0.9999936], [1.0, 2.2160989e-09], [2.1970825e-05, 0.99997795], [1.0, 4.873808e-10], [1.2218913e-12, 1.0], [1.6746693e-08, 1.0], [1.2439681e-10, 1.0], [4.9747656e-10, 1.0], [1.0, 2.9844077e-08], [1.6061152e-07, 0.9999999], [1.0, 4.289972e-08], [1.0, 3.298067e-09], [0.9999997, 3.211904e-07], [0.9999997, 2.4605134e-07], [9.415416e-08, 1.0], [2.0065176e-08, 1.0], [6.933322e-11, 1.0], [9.318829e-09, 1.0], [1.5768723e-06, 0.99999845], [1.0, 9.8568576e-09], [0.9999999, 8.4675285e-08], [3.8241812e-11, 1.0], [2.2445482e-05, 0.9999776], [0.34556013, 0.6544398], [2.585249e-07, 0.9999998], [0.15497127, 0.84502876], [1.0, 4.382327e-11], [0.99999875, 1.3520328e-06], [1.0, 2.1216412e-08], [0.98791647, 0.012083645], [2.3336545e-12, 1.0], [1.5642307e-10, 1.0], [4.0085984e-06, 0.999996], [0.99999964, 3.932847e-07], [0.09036001, 0.90963995], [2.447955e-14, 1.0], [7.2775976e-09, 1.0], [0.99759686, 0.0024031436], [0.9999978, 2.144759e-06], [4.8388127e-13, 1.0], [0.99999636, 3.644314e-06], [0.9999998, 1.4430387e-07], [0.9999998, 2.4752745e-07], [0.9999979, 2.1561439e-06], [0.9999999, 1.2009582e-07], [1.0, 5.495872e-08], [1.1953243e-10, 1.0], [1.1365304e-07, 0.9999999], [1.7779049e-10, 1.0], [1.0, 5.105909e-09], [9.576299e-07, 0.99999905], [1.0, 5.043387e-13], [0.9999999, 1.4585333e-07], [4.4148635e-08, 1.0], [1.0, 5.3218987e-08], [1.0, 1.2081133e-10], [0.9999999, 1.3583758e-07], [8.4686565e-07, 0.9999992], [0.9977555, 0.0022443864], [1.7687016e-10, 1.0], [0.9999984, 1.6396838e-06], [1.0, 8.494697e-09], [1.6696978e-05, 0.9999832], [0.9999998, 2.4644154e-07], [1.0, 1.1584624e-10], [1.0, 1.7674157e-10], [1.0, 1.828238e-08], [1.0, 1.0713657e-09], [0.99904525, 0.0009547084], [0.9999994, 5.8901685e-07], [1.0, 6.220908e-10], [4.6996018e-07, 0.99999964], [1.0, 3.9746087e-10], [1.0, 4.715172e-09], [3.5012333e-11, 1.0], [0.0009609186, 0.9990392], [1.0869104e-05, 0.99998915], [1.9937332e-08, 1.0], [1.0, 3.376665e-10], [4.171805e-11, 1.0], [1.0, 1.2481092e-09], [3.3801183e-07, 0.9999997], [1.0, 1.1859821e-08], [2.2187667e-09, 1.0], [9.1505126e-10, 1.0], [3.1992116e-08, 1.0], [1.0, 8.856318e-09], [9.784478e-09, 1.0], [1.0, 1.531195e-09], [0.9999998, 1.2397899e-07], [1.4080484e-10, 1.0], [0.00018404283, 0.99981594], [3.7754027e-05, 0.9999622], [2.1637759e-07, 0.9999998], [1.0115193e-05, 0.99998987], [1.827908e-12, 1.0], [8.518042e-09, 1.0], [2.780242e-07, 0.9999998], [9.661512e-12, 1.0], [1.0, 1.0671641e-09], [1.9125583e-08, 1.0], [2.7172706e-07, 0.9999998], [2.5683056e-10, 1.0], [3.4811256e-07, 0.99999964], [1.0, 3.1210898e-09], [1.0, 7.9744915e-08], [1.0, 8.7857066e-10], [0.9999995, 5.049704e-07], [1.0, 8.161286e-08], [1.0, 4.397237e-08], [1.0588738e-11, 1.0], [1.0, 9.2159266e-11], [0.1920071, 0.80799305], [0.9999949, 5.2818505e-06], [1.0, 1.3866239e-08], [1.622995e-10, 1.0], [0.9999997, 3.0448854e-07], [3.1700048e-07, 0.9999997], [0.9999979, 2.055473e-06], [0.99999964, 4.3044093e-07], [1.0, 5.1404347e-09], [1.0, 3.8496304e-09], [1.0, 4.4882098e-10], [5.3439857e-09, 1.0], [0.9999879, 1.21715075e-05], [2.3199246e-12, 1.0], [1.0, 3.2035882e-10], [0.45546207, 0.5445379], [1.0, 3.7558234e-11], [1.0, 4.0289768e-11], [1.597374e-08, 1.0], [1.0, 1.9454576e-09], [4.3314277e-08, 1.0], [1.2466745e-08, 1.0], [0.999998, 1.971111e-06], [9.604421e-09, 1.0], [1.5794184e-08, 1.0], [1.311256e-07, 0.9999999], [8.1445883e-10, 1.0], [0.9999908, 9.125872e-06], [8.739096e-08, 1.0], [0.99963826, 0.00036175584], [0.98412037, 0.015879575], [0.9999999, 9.374096e-08], [1.0, 4.4528834e-13], [0.9999994, 5.6552125e-07], [1.0, 8.922173e-09], [3.2287453e-09, 1.0], [7.1968375e-06, 0.9999927], [0.9999995, 4.3550727e-07], [3.9086885e-06, 0.99999607], [5.8726158e-08, 1.0], [2.7154845e-08, 1.0], [1.0, 6.428105e-10], [0.7493998, 0.2506002], [1.0, 3.0168973e-10], [1.0, 2.3002594e-12], [0.997007, 0.002993066], [6.4503096e-05, 0.9999355], [0.99999964, 3.750437e-07], [5.0722934e-05, 0.99994916], [2.3604267e-09, 1.0], [1.0, 1.100629e-09], [5.327387e-08, 1.0], [3.052568e-07, 0.9999998], [3.9654346e-09, 1.0], [4.4125134e-08, 1.0], [2.087889e-08, 1.0], [1.0, 7.889262e-09], [7.929679e-06, 0.9999921], [1.0, 3.228859e-08], [1.0, 3.0162503e-10], [0.21032114, 0.7896789], [1.6100612e-08, 1.0], [3.972077e-05, 0.9999603], [1.0, 2.3271294e-08], [1.4634144e-10, 1.0], [6.910907e-14, 1.0], [1.0, 2.6051614e-08], [8.633786e-07, 0.99999917], [0.9999937, 6.3123175e-06], [4.525059e-08, 1.0], [1.0, 8.502814e-09], [0.00044102393, 0.99955904], [1.0, 1.1660211e-08], [0.12998822, 0.8700118], [3.501265e-06, 0.99999654], [5.316873e-11, 1.0], [1.0, 3.874074e-11], [1.0, 6.145415e-10], [1.3744709e-06, 0.9999987], [1.03646904e-07, 1.0], [0.00021897366, 0.99978095], [1.0, 3.0584232e-08], [0.99707377, 0.0029263424], [0.100214325, 0.89978564], [1.5706345e-10, 1.0], [0.9999955, 4.433671e-06], [1.7331234e-11, 1.0], [0.9943032, 0.0056967842], [0.9999728, 2.7182217e-05], [1.0, 4.7967255e-08], [1.9075377e-11, 1.0], [1.006676e-10, 1.0], [1.0, 5.6124527e-08], [4.1295553e-07, 0.99999964], [4.0085805e-08, 1.0], [5.134115e-06, 0.99999475], [3.5393122e-09, 1.0], [2.2359061e-09, 1.0], [3.2880187e-09, 1.0], [0.99997205, 2.7933158e-05], [1.0, 1.1636689e-08], [1.0, 3.6145437e-10], [0.9999999, 7.880567e-08], [1.0, 2.6601574e-08], [1.4633831e-07, 0.9999999], [4.000496e-07, 0.99999964], [0.999512, 0.0004879543], [0.9999999, 1.2154223e-07], [8.400354e-11, 1.0], [0.9693599, 0.030640047], [1.0, 9.793855e-08], [0.9997915, 0.00020843786], [1.0, 3.7082254e-10], [0.00012715139, 0.9998728], [1.0357585e-07, 0.9999999], [1.0, 1.0909924e-09], [2.1930004e-05, 0.99997807], [2.3263183e-08, 1.0], [8.135803e-11, 1.0], [1.0, 1.2846674e-09], [1.0, 3.084508e-08], [0.9999998, 2.496319e-07], [2.9088845e-09, 1.0], [1.4976702e-09, 1.0], [2.7815634e-08, 1.0], [4.8086782e-05, 0.99995196], [1.0, 1.8804899e-08], [7.0760433e-13, 1.0], [8.414113e-10, 1.0], [5.4842808e-08, 1.0], [5.539581e-07, 0.9999995], [1.0, 1.0347819e-08], [4.9298976e-10, 1.0], [1.0, 3.0887821e-09], [1.0, 5.187821e-09], [4.6841787e-11, 1.0], [0.9999984, 1.5924543e-06], [4.8731517e-09, 1.0], [1.5015916e-12, 1.0], [1.0, 6.533072e-08], [2.7963688e-08, 1.0], [4.2420673e-10, 1.0], [3.1528304e-09, 1.0], [1.3497042e-08, 1.0], [1.0, 7.1208275e-11], [1.0, 2.7652003e-09], [9.26154e-10, 1.0], [1.3107605e-10, 1.0], [1.0, 2.9140233e-08], [1.2214947e-08, 1.0], [9.547739e-11, 1.0], [3.4581874e-06, 0.9999965], [0.9999318, 6.813295e-05], [7.896972e-10, 1.0], [5.893474e-10, 1.0], [0.9999998, 1.7486536e-07], [8.3035765e-09, 1.0], [1.0696711e-05, 0.99998933], [0.0012063098, 0.9987936], [0.99999845, 1.5404927e-06], [4.8018943e-11, 1.0], [1.4698306e-08, 1.0], [1.0, 4.894277e-10], [0.99595624, 0.0040437886], [0.99743396, 0.0025661103], [0.0030430588, 0.99695694], [0.00011396024, 0.99988604], [1.1832756e-10, 1.0], [1.6383947e-05, 0.9999836], [3.3092896e-05, 0.9999669], [1.0, 2.637149e-10], [0.9999999, 2.0253506e-07], [5.219e-08, 1.0], [3.582225e-08, 1.0], [1.6802672e-07, 0.9999999], [1.1246228e-11, 1.0], [1.0, 1.2767586e-08], [0.9999736, 2.6444619e-05], [1.0393325e-05, 0.9999895], [1.4085476e-11, 1.0], [1.7138209e-08, 1.0], [3.412291e-09, 1.0], [0.9999669, 3.3058106e-05], [2.1949748e-07, 0.9999998], [5.5340346e-12, 1.0], [1.7150421e-10, 1.0], [0.9984379, 0.0015620983], [3.5976004e-09, 1.0], [1.3241928e-08, 1.0], [5.146301e-08, 1.0], [2.9533106e-12, 1.0], [8.793887e-09, 1.0], [0.9999987, 1.2932597e-06], [1.0261997e-12, 1.0], [3.4405608e-07, 0.99999964], [5.466647e-07, 0.9999995], [1.0353739e-09, 1.0], [1.4568633e-11, 1.0], [2.691095e-07, 0.9999998], [1.0, 1.4081047e-09], [1.0, 3.9674926e-08], [3.417988e-08, 1.0], [5.153145e-10, 1.0], [0.99802905, 0.0019709095], [1.0323847e-09, 1.0], [7.8530195e-07, 0.9999992], [1.1204613e-08, 1.0], [0.99999964, 3.9364937e-07], [1.0, 8.0499696e-10], [1.0, 2.1009729e-08], [3.2411283e-13, 1.0], [5.236812e-11, 1.0], [1.5851052e-10, 1.0], [1.0, 1.9356788e-08], [2.269955e-11, 1.0], [5.029526e-09, 1.0], [8.99906e-05, 0.99991], [7.887595e-05, 0.99992114], [0.07336371, 0.9266364], [1.0, 5.7737868e-08], [6.9461345e-07, 0.9999992], [0.9999997, 3.4161002e-07], [1.4195311e-06, 0.9999987], [1.0, 8.353744e-08], [0.9999999, 1.446422e-07], [1.3303589e-05, 0.99998677], [6.24281e-11, 1.0], [1.0, 2.3273838e-11], [2.4818082e-08, 1.0], [0.99996483, 3.5193956e-05], [1.0, 3.515623e-09], [4.0720906e-08, 1.0], [5.1057257e-12, 1.0], [1.0, 8.362413e-10], [3.5779812e-10, 1.0], [2.7576594e-11, 1.0], [1.4295959e-08, 1.0], [5.358851e-12, 1.0], [5.128009e-10, 1.0], [0.28803706, 0.71196294], [2.5946773e-10, 1.0], [2.5223537e-05, 0.99997485], [2.5523232e-08, 1.0], [1.4937471e-07, 0.9999999], [0.06016127, 0.9398387], [0.9999998, 1.5582927e-07], [1.0, 2.3398294e-10], [1.0, 1.8209315e-08], [1.6704132e-06, 0.9999984], [0.99999726, 2.7798499e-06], [2.6660123e-07, 0.9999998], [1.388783e-08, 1.0], [1.549805e-07, 0.9999999], [0.48699135, 0.5130087], [1.1221436e-08, 1.0], [1.0488575e-08, 1.0], [0.00044731732, 0.9995527], [5.6560377e-12, 1.0], [0.00049257005, 0.9995074], [1.508638e-10, 1.0], [4.0177577e-09, 1.0], [4.451502e-08, 1.0], [1.2775795e-08, 1.0], [0.00022673389, 0.9997733], [0.9999992, 7.89397e-07], [1.0, 2.891032e-09], [1.5821118e-10, 1.0], [3.5109458e-09, 1.0], [1.0991297e-07, 0.9999999], [3.0931254e-11, 1.0], [1.0, 5.929833e-10], [8.4396845e-10, 1.0], [0.99997073, 2.9248302e-05], [5.463888e-09, 1.0], [3.1787642e-11, 1.0], [4.683055e-07, 0.9999995], [1.0, 2.4083782e-09], [0.9999916, 8.362253e-06], [3.5808796e-06, 0.99999636], [4.2522702e-10, 1.0], [0.9999997, 3.209438e-07], [1.0552039e-13, 1.0], [0.99999964, 3.4709169e-07], [8.180221e-09, 1.0], [1.0, 6.8529262e-09], [1.0, 1.8149477e-08], [1.5042964e-10, 1.0], [0.9999998, 1.5748685e-07], [1.0, 5.9146577e-10], [0.9999998, 1.5371943e-07], [3.5057976e-05, 0.9999649], [1.0, 3.307518e-08], [0.9999994, 6.780139e-07], [0.95553434, 0.044465646], [1.0, 2.2547848e-08], [4.9037595e-07, 0.9999995], [1.0, 2.2733002e-10], [4.8383854e-06, 0.9999951], [4.5520496e-06, 0.9999954], [1.0, 1.404251e-08], [0.8858568, 0.11414313], [2.9804323e-09, 1.0], [1.5840032e-08, 1.0], [1.0, 5.5708636e-08], [0.99926883, 0.0007311461], [2.07381e-07, 0.9999999], [4.551713e-09, 1.0], [4.0114523e-07, 0.9999997], [1.1375715e-09, 1.0], [2.522755e-10, 1.0], [1.0, 4.221171e-08], [1.0, 5.938029e-10], [2.2756992e-09, 1.0], [1.0, 1.4446734e-09], [3.7974263e-11, 1.0], [2.32943e-11, 1.0], [0.9778303, 0.022169685], [3.7613738e-08, 1.0], [1.3401018e-11, 1.0], [1.3972146e-08, 1.0], [0.00022056082, 0.9997794], [5.3013745e-09, 1.0], [1.1200304e-09, 1.0], [0.9999995, 4.3594008e-07], [5.96769e-10, 1.0], [3.2086366e-05, 0.99996793], [1.0, 4.3542164e-10], [6.21729e-11, 1.0], [4.1609933e-06, 0.9999958], [1.0, 4.8454423e-09], [0.9987434, 0.001256647], [8.52989e-09, 1.0], [6.645842e-07, 0.99999934], [9.790558e-07, 0.99999905], [4.4481346e-11, 1.0], [0.00012937756, 0.99987066], [0.9999975, 2.6119405e-06], [8.383996e-09, 1.0], [7.987005e-06, 0.9999921], [1.2859462e-08, 1.0], [1.9933685e-11, 1.0], [4.5560755e-10, 1.0], [0.9999983, 1.766283e-06], [0.25444776, 0.7455523], [0.013573033, 0.98642695], [0.9999304, 6.963419e-05], [1.0, 1.300039e-09], [2.8480964e-09, 1.0], [5.977803e-10, 1.0], [1.8585076e-11, 1.0], [0.99999917, 9.0654123e-07], [1.157266e-06, 0.99999887], [0.99999887, 1.1637883e-06], [1.0, 1.0036344e-10], [8.850275e-08, 0.9999998], [3.5312558e-10, 1.0], [1.0, 1.5668087e-08], [2.9162501e-12, 1.0], [0.9999995, 4.6027498e-07], [1.0, 2.5737254e-11], [3.2832031e-06, 0.9999968], [1.7998779e-06, 0.9999983], [0.99999964, 4.37683e-07], [1.0, 9.55321e-09], [4.9283976e-06, 0.99999505], [6.7561755e-13, 1.0], [9.083931e-09, 1.0], [2.1853075e-10, 1.0], [1.0, 3.5258765e-08], [1.0, 4.0973985e-11], [1.0, 5.803488e-08], [0.9999999, 1.3531594e-07], [1.1096544e-09, 1.0], [0.99999917, 9.4000654e-07], [0.9999998, 1.8584606e-07], [1.2181169e-10, 1.0], [1.6208327e-09, 1.0], [7.289812e-08, 0.9999999], [3.3143532e-09, 1.0], [0.99999845, 1.5927923e-06], [5.0337444e-06, 0.9999949], [0.0042491243, 0.9957509], [1.2054576e-07, 0.9999999], [1.0, 2.6997398e-09], [1.0, 9.536272e-10], [0.99999964, 4.6850678e-07], [0.038146924, 0.961853], [8.492297e-09, 1.0], [2.837553e-08, 1.0], [2.6434074e-08, 1.0], [1.0, 4.2444723e-09], [0.008139163, 0.99186087], [1.0, 7.932602e-09], [0.9999706, 2.9429055e-05], [0.99999505, 5.019831e-06], [0.9753789, 0.024621086], [4.713296e-13, 1.0], [2.1974094e-07, 0.9999997], [1.14998476e-10, 1.0], [1.0, 4.4543974e-10], [4.522737e-07, 0.9999995], [1.0, 8.388333e-10], [7.638293e-12, 1.0], [0.00023940613, 0.9997605], [0.9990133, 0.0009865988], [0.003802203, 0.9961978], [1.0, 5.4732743e-09], [7.117333e-11, 1.0], [1.0, 7.6160985e-13], [5.685194e-07, 0.9999994], [1.0, 4.595659e-08], [1.0, 1.5301005e-09], [1.0469198e-10, 1.0], [1.0, 2.1362967e-08], [1.7707642e-10, 1.0], [0.9997548, 0.00024528193], [0.7293127, 0.27068728], [2.0907608e-05, 0.99997914], [0.9998514, 0.00014859524], [6.03029e-07, 0.9999994], [1.0, 8.432549e-10], [1.0, 9.417432e-09], [1.379272e-05, 0.9999863], [0.003745182, 0.99625474], [4.5062665e-13, 1.0], [1.0, 1.9409239e-09], [1.0, 1.9745539e-08], [5.35313e-11, 1.0], [1.0, 6.8689644e-08], [0.9999997, 2.3650648e-07], [1.0, 1.574125e-09], [8.826482e-05, 0.99991167], [1.0, 6.0317257e-10], [1.0, 1.4271727e-09], [0.99999875, 1.2634248e-06], [2.1733845e-06, 0.9999979], [5.8195466e-09, 1.0], [9.033559e-09, 1.0], [4.4867417e-13, 1.0], [2.3920949e-10, 1.0], [3.5301817e-10, 1.0], [1.329754e-07, 0.9999999], [9.359182e-06, 0.99999064], [0.9974874, 0.0025124797], [9.498723e-13, 1.0], [3.572181e-11, 1.0], [1.0, 1.1125605e-09], [4.2836488e-11, 1.0], [6.472361e-11, 1.0], [1.0, 1.0024846e-10], [1.2754406e-06, 0.99999875], [1.0, 5.4898095e-09], [6.9926944e-07, 0.99999934], [4.6576887e-10, 1.0], [0.9999992, 7.831139e-07], [1.5592697e-05, 0.99998444], [1.0, 6.727049e-09], [1.0, 1.9596054e-10], [0.6028342, 0.39716572], [0.9999981, 1.940825e-06], [1.0, 9.0777e-10], [1.0, 2.2551685e-09], [5.9915115e-11, 1.0], [1.0, 1.0850899e-08], [0.00063033326, 0.9993696], [1.572716e-05, 0.99998415], [1.0, 8.339034e-09], [0.9989811, 0.001018895], [1.0, 2.2413488e-08], [0.9999994, 6.2784954e-07], [0.9999995, 4.936496e-07], [0.9999935, 6.565696e-06], [1.0, 1.4186123e-08], [1.0, 7.126001e-09], [1.0, 1.986499e-08], [1.0, 2.7416414e-08], [0.9999998, 1.6717664e-07], [8.358994e-08, 0.9999999], [0.93042785, 0.069572195], [1.9499348e-11, 1.0], [1.2969434e-09, 1.0], [0.9999998, 2.0722307e-07], [6.4670105e-09, 1.0], [1.0, 1.4977539e-09], [4.8775e-06, 0.9999951], [2.6706402e-09, 1.0], [6.0737505e-11, 1.0], [6.327623e-11, 1.0], [1.0, 3.979533e-08], [1.2366218e-07, 0.9999999], [1.0, 3.6286125e-09], [0.9999998, 2.3357195e-07], [1.0, 5.502262e-10], [0.9999983, 1.8113942e-06], [3.112782e-06, 0.99999684], [7.7980716e-10, 1.0], [7.2150115e-06, 0.99999285], [0.99967307, 0.0003269271], [7.125634e-10, 1.0], [4.5259654e-09, 1.0], [0.9763142, 0.023685912], [1.0, 3.47677e-10], [6.3195995e-07, 0.99999934], [1.2597129e-06, 0.99999875], [1.0, 5.1960207e-08], [0.9999987, 1.4638101e-06], [1.2586955e-07, 0.9999999], [0.02109551, 0.97890455], [1.0, 6.5442634e-08], [1.0, 5.753748e-10], [0.9999983, 1.7547097e-06], [1.0, 4.4344702e-08], [2.1023527e-10, 1.0], [0.7575464, 0.24245358], [0.9999998, 1.8425733e-07], [8.678259e-07, 0.99999905], [1.0, 6.60969e-10], [0.9999999, 1.512291e-07], [2.1932271e-08, 1.0], [2.3025307e-11, 1.0], [0.9999999, 1.7576058e-07], [0.99999964, 3.7127762e-07], [0.9999994, 5.9450247e-07], [7.8101065e-10, 1.0], [1.7419653e-10, 1.0], [2.2121228e-08, 1.0], [1.0700776e-10, 1.0], [0.00010581815, 0.99989414], [1.0, 3.961709e-08], [2.8404723e-09, 1.0], [0.0001816726, 0.9998183], [5.0829535e-10, 1.0], [1.0, 2.7804845e-08], [1.0, 2.2212196e-11], [2.7409728e-06, 0.99999726], [1.0, 2.0995845e-09], [1.4677937e-10, 1.0], [0.9999773, 2.2670076e-05], [1.0, 3.6781127e-11], [0.999513, 0.00048701404], [0.999993, 6.9217517e-06], [3.5775354e-08, 1.0], [1.3410879e-06, 0.9999987], [5.216195e-10, 1.0], [0.99999887, 1.1748504e-06], [4.1221508e-08, 1.0], [1.9728164e-05, 0.9999803], [1.0, 3.467794e-08], [4.4601467e-05, 0.99995536], [1.0, 3.1533805e-08], [0.9999998, 1.9708605e-07], [6.8337946e-10, 1.0], [3.0917362e-09, 1.0], [0.9999998, 1.9272008e-07], [1.9741233e-11, 1.0], [2.8629298e-08, 1.0], [3.34883e-08, 1.0], [0.9662859, 0.03371407], [1.0, 3.2003882e-09], [0.94719636, 0.0528036], [1.4347152e-07, 0.9999998], [1.0, 3.4619727e-10], [2.162515e-12, 1.0], [1.0, 2.1986992e-09], [1.0, 4.8623196e-08], [1.0, 7.662056e-08], [0.00070522935, 0.9992949], [1.4186737e-10, 1.0], [3.7035253e-11, 1.0], [0.247521, 0.75247896], [1.0, 1.6580081e-11], [2.8696e-06, 0.99999714], [5.9050953e-10, 1.0], [3.1787018e-05, 0.9999682], [0.14713535, 0.8528646], [2.188898e-06, 0.9999978], [2.4096127e-07, 0.9999998], [1.0, 9.698874e-09], [5.8802123e-09, 1.0], [1.0, 4.3432344e-08], [8.592039e-07, 0.99999917], [2.5726837e-07, 0.9999998], [1.0, 8.575222e-08], [0.35573536, 0.6442646], [1.0, 3.2418823e-10], [0.99999416, 5.864748e-06], [2.669833e-06, 0.9999973], [0.9999995, 5.576616e-07], [0.99996394, 3.600162e-05], [0.59816664, 0.4018334], [9.8869225e-11, 1.0], [0.9999998, 2.1670216e-07], [1.2362865e-07, 0.9999999], [1.0, 3.1167666e-09], [1.0, 2.0166624e-10], [0.4552594, 0.54474056], [1.1444799e-08, 1.0], [1.0, 2.1866393e-08], [1.0, 4.4233897e-10], [5.531456e-10, 1.0], [1.0, 8.283681e-09], [0.99618995, 0.003810089], [0.990174, 0.009826001], [1.0, 1.4449938e-09], [0.99999917, 8.8730405e-07], [1.3289397e-07, 0.9999999], [1.0, 1.8370102e-08], [3.1013572e-10, 1.0], [1.0, 2.0043363e-08], [6.8206587e-09, 1.0], [0.99994195, 5.8155052e-05], [0.7290889, 0.27091107], [1.0, 5.024381e-11], [1.0, 1.8305876e-09], [1.0, 6.2612906e-09], [1.0, 1.0324376e-08], [1.2247936e-09, 1.0], [0.99521476, 0.0047853575], [0.9998662, 0.000133779], [1.0, 4.3808303e-08], [1.9813144e-10, 1.0], [3.6630034e-08, 1.0], [1.0, 4.563966e-08], [1.0, 1.4531638e-08], [0.00013143025, 0.9998685], [4.8931283e-11, 1.0], [1.0, 2.6407028e-08], [8.350117e-10, 1.0], [5.012291e-10, 1.0], [2.6463479e-06, 0.99999744], [5.6002036e-06, 0.99999446], [1.8012244e-09, 1.0], [0.9988834, 0.0011165675], [1.7299561e-11, 1.0], [1.0, 1.09751985e-08], [0.9999989, 1.0715246e-06], [0.89631224, 0.10368774], [2.6148341e-09, 1.0], [1.0, 8.667159e-09], [8.41698e-09, 1.0], [7.598379e-09, 1.0], [1.0, 9.125152e-09], [0.9999854, 1.455613e-05], [1.0, 3.4093253e-11], [0.9901308, 0.0098691685], [1.1905165e-08, 1.0], [1.0, 1.8826558e-09], [1.0, 1.7556134e-09], [2.0215035e-11, 1.0], [1.0, 1.9562268e-08], [1.0, 4.0915555e-09], [1.3938025e-07, 0.9999999], [9.379948e-11, 1.0], [1.0, 1.6063154e-09], [0.99999934, 6.549377e-07], [1.1768478e-06, 0.9999989], [1.0, 3.488179e-11], [0.9999987, 1.3312981e-06], [5.2859223e-12, 1.0], [0.9999894, 1.0526182e-05], [1.0, 1.5546341e-08], [1.0, 1.6635198e-09], [2.2839648e-10, 1.0], [1.3936982e-09, 1.0], [6.172894e-07, 0.9999994], [1.0, 1.10044e-09], [1.4483774e-05, 0.9999855], [1.0, 1.8764107e-11], [0.99999475, 5.334615e-06], [2.1845768e-05, 0.99997824], [1.8225644e-05, 0.99998176], [6.621253e-11, 1.0], [7.0277945e-10, 1.0], [1.0, 4.6449608e-10], [1.0, 3.94835e-09], [5.9112513e-11, 1.0], [1.5888475e-09, 1.0], [1.5428218e-07, 0.9999999], [7.33792e-12, 1.0], [1.0, 4.9719905e-11], [0.99999964, 4.116689e-07], [1.0, 2.7797514e-11], [3.1087265e-11, 1.0], [2.077298e-10, 1.0], [0.9990457, 0.0009542416], [2.8613786e-07, 0.9999998], [1.0, 3.2083626e-08], [0.9999984, 1.639755e-06], [0.9999999, 1.6622633e-07], [1.0, 6.2363696e-08], [2.3644282e-09, 1.0], [1.0090377e-10, 1.0], [0.9999999, 1.3223537e-07], [7.8115445e-11, 1.0], [1.0, 1.2000557e-08], [3.4955822e-10, 1.0], [1.0, 1.3039314e-08], [0.9999998, 2.063709e-07], [1.7632145e-09, 1.0], [8.6271393e-07, 0.99999917], [1.0, 4.32284e-09], [0.9999933, 6.6824055e-06], [8.930889e-05, 0.9999107], [0.9999981, 1.9487502e-06], [2.86945e-09, 1.0], [1.379926e-08, 1.0], [0.9973952, 0.0026047796], [1.0, 8.364538e-09], [0.99999505, 4.889099e-06], [1.0, 1.5640161e-08], [1.0, 1.2454519e-11], [1.0, 1.831699e-08], [6.021165e-09, 1.0], [4.4145132e-08, 1.0], [0.9976074, 0.00239265], [9.8585e-07, 0.99999905], [1.10163185e-07, 0.9999999], [7.0925744e-12, 1.0], [1.9745167e-08, 1.0], [1.6956008e-07, 0.9999998], [3.769865e-10, 1.0], [0.9999999, 1.32213e-07], [1.2167767e-07, 0.9999999], [0.009847081, 0.99015284], [0.9987483, 0.0012517145], [0.87263936, 0.1273606], [2.1602412e-07, 0.9999998], [0.9999987, 1.3469152e-06], [1.0, 3.1270346e-08], [1.0, 6.9993957e-09], [4.0881338e-07, 0.99999964], [1.6505141e-09, 1.0], [1.5310107e-09, 1.0], [1.0, 2.6593506e-08], [0.9998746, 0.0001254787], [2.998407e-05, 0.9999701], [5.3824185e-09, 1.0], [0.004044636, 0.99595535], [0.99997395, 2.6044368e-05], [8.413047e-08, 1.0], [0.30493575, 0.6950642], [0.9999999, 1.2729811e-07], [9.21241e-09, 1.0], [0.9999987, 1.4074728e-06], [7.755838e-08, 1.0], [1.0, 1.2205779e-08], [9.068653e-08, 0.9999999], [1.606864e-06, 0.9999983], [0.99999875, 1.2925544e-06], [0.99998987, 1.0014511e-05], [0.9999999, 6.888918e-08], [2.6082148e-09, 1.0], [0.99999744, 2.5907893e-06], [0.9999999, 8.417302e-08], [8.865344e-12, 1.0], [1.0, 1.0620205e-08], [0.9999924, 7.6107526e-06], [0.0025465847, 0.9974535], [1.0, 6.10717e-08], [4.8337636e-08, 1.0], [1.0, 4.0290318e-10], [0.99990255, 9.746254e-05], [1.0, 4.5477723e-08], [9.234898e-15, 1.0], [3.6735962e-08, 1.0], [1.0, 1.0855882e-08], [1.2866972e-08, 1.0], [1.4590681e-08, 1.0], [0.9999994, 6.553218e-07], [0.00012344336, 0.9998766], [0.9999983, 1.7905313e-06], [1.0, 4.0864895e-10], [1.1804376e-08, 1.0], [1.5231037e-11, 1.0], [1.2211267e-08, 1.0], [1.0240116e-08, 1.0], [1.0, 4.335881e-08], [1.466674e-05, 0.99998534], [1.0, 1.5247494e-11], [1.0, 1.7524854e-10], [1.0, 1.0481629e-08], [0.9999999, 9.240886e-08], [0.9999979, 2.1379815e-06], [0.99995023, 4.9835584e-05], [0.99999875, 1.2295028e-06], [5.765027e-13, 1.0], [1.0, 7.5615035e-11], [6.373415e-07, 0.9999994], [9.917915e-07, 0.99999905], [7.3074267e-09, 1.0], [1.0, 1.7762117e-08], [0.9999998, 2.9010354e-07], [1.2509482e-11, 1.0], [1.6065911e-09, 1.0], [2.2474806e-06, 0.99999774], [1.0, 4.953863e-08], [5.500598e-06, 0.9999944], [1.0, 4.2341977e-08], [1.0101651e-06, 0.9999989], [1.0, 4.0574535e-09], [0.9999954, 4.593802e-06], [0.9999998, 2.5753175e-07], [3.021713e-09, 1.0], [0.9999999, 7.100487e-08], [0.9999579, 4.206494e-05], [1.0, 4.789527e-08], [1.0, 1.787873e-09], [1.0, 1.0714969e-09], [5.745006e-06, 0.99999416], [1.0, 1.1794247e-08], [0.99999875, 1.3179458e-06], [2.127626e-06, 0.9999979], [9.337555e-05, 0.99990666], [2.1875587e-06, 0.9999979], [1.4535314e-08, 1.0], [0.9999999, 7.658755e-08], [0.0018941078, 0.9981059], [1.6904613e-08, 1.0], [1.0, 4.677527e-08], [2.7088254e-11, 1.0], [1.4963971e-11, 1.0], [1.0, 2.1331124e-09], [0.0005389151, 0.99946105], [1.0, 1.01134255e-07], [0.99992263, 7.7329765e-05], [9.654692e-12, 1.0], [6.3928858e-09, 1.0], [7.628772e-11, 1.0], [0.99973524, 0.00026477146], [2.081832e-09, 1.0], [1.0, 1.5072903e-08], [3.1021388e-12, 1.0], [0.0017693844, 0.99823064], [5.612805e-10, 1.0], [4.496151e-13, 1.0], [8.851148e-10, 1.0], [1.5976281e-09, 1.0], [3.301801e-09, 1.0], [8.4148616e-10, 1.0], [0.9999994, 6.401835e-07], [5.995646e-09, 1.0], [3.3647194e-09, 1.0], [0.9904458, 0.009554181], [0.99999774, 2.3463563e-06], [0.9999987, 1.3331485e-06], [1.0, 3.990943e-08], [1.0, 1.4943762e-08], [1.0, 4.550466e-09], [0.9999903, 9.713299e-06], [1.0, 2.0445609e-10], [4.273076e-05, 0.99995726], [9.992738e-05, 0.99990004], [2.890189e-09, 1.0], [1.3512876e-11, 1.0], [6.8378385e-12, 1.0], [0.000526005, 0.9994739], [0.026711706, 0.97328824], [1.0, 4.5945106e-10], [4.2958116e-11, 1.0], [0.99999964, 3.6990033e-07], [0.9999959, 4.057013e-06], [1.0, 2.0829423e-09], [1.0, 7.3229776e-11], [1.03441825e-10, 1.0], [2.947396e-07, 0.9999997], [5.3739488e-05, 0.9999463], [0.9999994, 6.342426e-07], [6.086792e-07, 0.9999994], [1.693308e-05, 0.99998313], [0.9999989, 1.0721153e-06], [3.2331194e-08, 1.0], [1.0, 2.5537767e-08], [1.3796504e-10, 1.0], [5.396649e-07, 0.9999994], [0.99972457, 0.000275426], [1.3296368e-11, 1.0], [0.9999995, 5.724339e-07], [1.2555479e-09, 1.0], [0.9999999, 1.0969902e-07], [1.0, 5.973588e-08], [0.9999999, 1.0213911e-07], [1.4712205e-09, 1.0], [1.0, 5.7091238e-11], [0.9999979, 2.0593013e-06], [1.0454894e-07, 0.9999999], [1.0, 7.191273e-09], [1.8624347e-06, 0.9999982], [6.639575e-07, 0.9999994], [1.960334e-08, 1.0], [4.0736015e-09, 1.0], [1.0, 3.8289993e-10], [0.99999917, 9.2333266e-07], [1.0, 4.154095e-08], [0.9999999, 1.3009907e-07], [1.0, 1.09529455e-10], [1.0035209e-09, 1.0], [1.0, 3.0986264e-08], [1.0, 1.771782e-10], [2.3992477e-06, 0.99999774], [1.0, 7.960499e-08], [1.0, 6.229802e-10], [1.4743409e-09, 1.0], [4.3776254e-07, 0.9999995], [0.99999046, 9.49819e-06], [0.00012588475, 0.99987423], [1.0, 1.699757e-08], [1.0, 4.4993734e-10], [2.0583786e-09, 1.0], [1.0, 1.6658403e-08], [1.2827468e-09, 1.0], [1.969691e-11, 1.0], [1.0, 2.0399021e-08], [0.9999984, 1.7522595e-06], [1.0, 1.4381751e-09], [0.99999934, 6.5407e-07], [1.0, 2.2543658e-09], [3.2540513e-07, 0.9999997], [1.0, 5.3099326e-12], [0.9999973, 2.7351234e-06], [1.0, 2.6962558e-08], [0.6536875, 0.34631255], [1.0, 1.8021494e-08], [2.544187e-11, 1.0], [1.7961277e-09, 1.0], [2.0053337e-10, 1.0], [0.9997759, 0.00022406], [1.0, 3.395384e-08], [3.8666137e-08, 1.0], [0.9999998, 2.7529498e-07], [0.9999998, 1.9520378e-07], [4.4553596e-09, 1.0], [0.99999934, 5.9061944e-07], [1.0, 3.348007e-08], [5.518295e-07, 0.9999994], [1.779676e-08, 1.0], [8.5864045e-11, 1.0], [1.0, 1.238266e-10], [1.0, 1.4516123e-09], [0.9795225, 0.020477472], [5.6265813e-05, 0.99994373], [4.2376308e-10, 1.0], [0.9999999, 1.2124976e-07], [0.99977857, 0.00022136522], [0.9999992, 7.7807e-07], [1.0, 1.9980614e-08], [1.0, 1.4539212e-10], [4.739643e-11, 1.0], [2.7836489e-09, 1.0], [5.075523e-10, 1.0], [0.9999999, 1.2459822e-07], [2.2502659e-06, 0.9999978], [0.99999917, 8.938743e-07], [1.0, 3.6487102e-09], [4.4933932e-10, 1.0], [8.355144e-05, 0.99991643], [3.435344e-10, 1.0], [8.167389e-09, 1.0], [1.0, 3.599267e-08], [0.9999997, 3.1135804e-07], [1.0, 7.752606e-12], [0.9998806, 0.00011942208], [6.304385e-10, 1.0], [0.00026338638, 0.9997366], [1.0, 1.7240916e-09], [1.3859925e-08, 1.0], [3.236541e-06, 0.99999684], [8.414315e-10, 1.0], [1.0, 7.143427e-08], [3.3792254e-08, 1.0], [0.0020517379, 0.99794835], [1.2154056e-08, 1.0], [0.00067828054, 0.99932164], [3.1904852e-07, 0.9999997], [1.9855954e-05, 0.99998015], [1.0, 1.1220747e-12], [1.0, 3.5906403e-08], [1.5773088e-06, 0.9999984], [1.5203872e-06, 0.99999857], [9.212092e-09, 1.0], [9.593653e-10, 1.0], [1.0, 9.0117105e-09], [0.9998285, 0.00017144166], [0.99999905, 9.72892e-07], [4.3988316e-11, 1.0], [4.2828208e-09, 1.0], [0.9999983, 1.6373484e-06], [1.6343341e-08, 1.0], [0.9541591, 0.045840994], [2.3339412e-07, 0.9999998], [1.3834857e-06, 0.99999857], [0.9999999, 9.933076e-08], [1.4179247e-07, 0.9999999], [6.3576436e-12, 1.0], [5.16365e-13, 1.0], [1.0, 5.46055e-09], [1.4512634e-08, 1.0], [2.046122e-09, 1.0], [0.99999607, 3.8803764e-06], [0.9999998, 2.1313853e-07], [1.0, 1.6232431e-09], [1.6636804e-10, 1.0], [1.3003545e-10, 1.0], [1.9917502e-07, 0.9999998], [1.0, 1.9036998e-08], [2.1132163e-07, 0.9999998], [0.99999714, 2.894942e-06], [1.0, 4.9220915e-08], [1.6025819e-05, 0.99998397], [0.997876, 0.0021240374], [1.0, 4.0836143e-09], [1.0, 3.1181296e-10], [5.748381e-10, 1.0], [2.918437e-10, 1.0], [2.5553826e-11, 1.0], [1.0, 3.2644345e-09], [1.0, 9.309102e-10], [0.9999999, 9.357045e-08], [0.9997285, 0.0002715093], [1.0, 1.6822302e-08], [0.9999814, 1.8527822e-05], [3.994427e-05, 0.99996006], [1.0, 7.977884e-08], [1.0, 1.7174813e-08], [1.0, 1.1999487e-08], [2.0302471e-10, 1.0], [0.9999999, 1.04759046e-07], [1.9221002e-07, 0.9999998], [4.258953e-05, 0.9999574], [2.5141287e-09, 1.0], [0.9999815, 1.8422263e-05], [1.39418535e-05, 0.99998605], [8.2493616e-11, 1.0], [0.027519261, 0.9724808], [0.9999982, 1.8039409e-06], [4.1105043e-11, 1.0], [3.324216e-10, 1.0], [5.7463505e-09, 1.0], [5.378259e-10, 1.0], [0.9999999, 1.13792694e-07], [3.974206e-05, 0.99996024], [2.388018e-08, 1.0], [1.3407246e-06, 0.9999987], [3.2722697e-10, 1.0], [0.99899405, 0.0010058957], [1.0, 2.409347e-08], [0.99999857, 1.4577081e-06], [1.0, 3.3769632e-09], [0.9999999, 1.1528924e-07], [2.3904866e-07, 0.9999997], [3.254586e-09, 1.0], [0.9999994, 5.3796145e-07], [0.999987, 1.289388e-05], [9.392899e-06, 0.9999906], [8.454854e-06, 0.9999916], [1.1691017e-05, 0.99998826], [0.9999998, 2.4815526e-07], [3.9724882e-10, 1.0], [0.98749685, 0.012503246], [1.0, 1.7279616e-08], [0.9363262, 0.06367385], [3.8060713e-07, 0.99999964], [1.0, 4.2182533e-09], [3.3657604e-10, 1.0], [1.0, 1.5643415e-09], [3.0604486e-09, 1.0], [1.4844238e-08, 1.0], [7.275508e-10, 1.0], [0.9999979, 2.0302064e-06], [4.465639e-12, 1.0], [0.13433206, 0.86566794], [1.976401e-08, 1.0], [0.99999964, 3.9683104e-07], [0.9656704, 0.03432968], [0.9999995, 4.9264924e-07], [1.3932014e-10, 1.0], [0.9999994, 6.0042925e-07], [1.0, 1.3795825e-08], [1.0, 3.287808e-09], [6.959746e-08, 1.0], [2.9655144e-08, 1.0], [1.0, 2.9693492e-08], [0.99994767, 5.238466e-05], [1.0, 4.2298844e-09], [0.99999964, 4.2010493e-07], [0.9999956, 4.437276e-06], [1.0, 3.653603e-09], [0.9771811, 0.02281895], [1.6694386e-08, 1.0], [1.9106356e-08, 1.0], [0.9999701, 2.9958028e-05], [1.0, 5.9938686e-11], [0.9999856, 1.4398427e-05], [1.0, 1.2518854e-10], [0.9993106, 0.0006893971], [0.0305119, 0.96948814], [4.840749e-05, 0.99995154], [2.6412673e-08, 1.0], [0.9999998, 1.8787799e-07], [9.156603e-07, 0.99999905], [1.0, 5.1333902e-11], [1.0, 1.0389185e-09], [1.7409747e-09, 1.0], [9.366778e-08, 0.9999999], [0.024361031, 0.97563905], [0.99941796, 0.0005820434], [1.0, 1.6583725e-08], [1.0, 1.2942125e-09], [1.0, 5.615375e-08], [2.2569283e-10, 1.0], [1.0, 4.159181e-08], [0.000288712, 0.9997112], [1.0, 2.8171007e-08], [6.003732e-10, 1.0], [0.9999102, 8.990882e-05], [2.6788155e-10, 1.0], [6.599191e-07, 0.99999934], [1.0, 2.3448654e-11], [1.0, 1.7612769e-11], [1.0, 3.1112133e-08], [0.99999905, 1.0436894e-06], [0.99997795, 2.2051185e-05], [0.99999875, 1.2022988e-06], [7.772673e-08, 1.0], [1.0, 1.8217385e-08], [4.0696465e-12, 1.0], [1.0, 8.855647e-09], [9.273978e-10, 1.0], [1.0, 8.322355e-12], [0.9998932, 0.00010685549], [1.0, 2.068564e-09], [0.9999994, 6.729404e-07], [1.230898e-07, 0.9999999], [1.368877e-11, 1.0], [1.0, 9.367463e-09], [6.3105804e-10, 1.0], [5.7213506e-06, 0.9999943], [1.8086765e-11, 1.0], [1.0, 2.0035362e-08], [2.600435e-06, 0.9999973], [1.0, 4.0649484e-10], [1.2334242e-12, 1.0], [2.0690262e-08, 1.0], [6.102817e-09, 1.0], [1.0, 2.0882276e-09], [6.301834e-06, 0.9999937], [6.743009e-11, 1.0], [1.3352667e-09, 1.0], [5.910343e-07, 0.9999995], [0.99999666, 3.4163343e-06], [6.5061543e-09, 1.0], [1.0, 1.5942592e-10], [5.793976e-05, 0.9999421], [1.0, 1.9098334e-09], [5.3956553e-12, 1.0], [1.0, 7.61438e-09], [0.99997556, 2.4378987e-05], [1.6485842e-09, 1.0], [0.9999955, 4.3826794e-06], [1.0, 1.313887e-09], [0.9999997, 3.3643582e-07], [1.0, 1.1031269e-08], [1.0, 9.476955e-10], [0.004184956, 0.995815], [1.0, 5.0023298e-11], [0.1941324, 0.80586755], [1.0, 1.2374504e-09], [1.0, 4.726972e-12], [2.0225932e-12, 1.0], [3.6637515e-09, 1.0], [1.1721496e-08, 1.0], [1.0, 6.764612e-10], [0.9999987, 1.3526998e-06], [0.9955163, 0.004483785], [9.805047e-11, 1.0], [0.99999964, 3.5614977e-07], [8.421434e-10, 1.0], [1.3304404e-08, 1.0], [1.0, 8.082114e-10], [0.0014691835, 0.99853075], [1.9105482e-09, 1.0], [3.2383872e-07, 0.9999997], [1.0, 6.1556973e-09], [5.560848e-07, 0.9999994], [2.8481482e-09, 1.0], [0.99999875, 1.2840721e-06], [8.692543e-10, 1.0], [1.5772069e-07, 0.9999999], [1.0, 8.857942e-08], [1.0, 1.643869e-08], [1.0, 3.8921918e-08], [5.668536e-06, 0.9999943], [0.010087045, 0.98991287], [3.428309e-09, 1.0], [2.82225e-07, 0.9999997], [1.014094e-09, 1.0], [0.0081440015, 0.991856], [3.1936215e-10, 1.0], [9.907575e-09, 1.0], [0.9999997, 2.7363728e-07], [1.0, 1.0990453e-08], [5.5063595e-08, 1.0], [1.0, 3.122145e-08], [8.897986e-08, 1.0], [1.0, 9.6465286e-08], [4.8473815e-08, 1.0], [0.9999997, 3.6261684e-07], [0.99999875, 1.2944089e-06], [1.1322486e-08, 1.0], [9.60723e-07, 0.99999905], [2.5920694e-09, 1.0], [0.99999845, 1.5388121e-06], [5.3933125e-09, 1.0], [0.9999994, 5.98733e-07], [3.5345408e-06, 0.99999636], [8.563333e-09, 1.0], [6.21373e-05, 0.9999379], [3.2721942e-07, 0.99999964], [1.0, 1.078218e-08], [0.9999987, 1.3303157e-06], [0.998637, 0.0013630838], [2.323856e-09, 1.0], [1.0, 7.0207777e-09], [0.00096602534, 0.9990339], [9.820521e-12, 1.0], [1.0, 2.683981e-08], [3.1969802e-11, 1.0], [1.0, 8.39737e-09], [1.2356524e-07, 0.9999999], [8.4442127e-07, 0.9999992], [2.0665145e-12, 1.0], [1.0, 1.12539226e-07], [0.9999995, 5.2249817e-07], [1.516951e-12, 1.0], [0.99188375, 0.008116174], [0.99999964, 4.9123605e-07], [0.9999999, 1.0309975e-07], [0.8361205, 0.16387948], [1.0, 5.6225835e-10], [6.636229e-09, 1.0], [4.367401e-07, 0.99999964], [3.9424776e-05, 0.99996054], [0.9999998, 2.1521612e-07], [0.9999968, 3.292712e-06], [1.0, 2.4042345e-08], [2.6650108e-07, 0.9999998], [1.0, 1.5317386e-08], [3.949326e-09, 1.0], [1.9711473e-05, 0.9999803], [0.9999999, 1.3364934e-07], [1.1733373e-08, 1.0], [2.3960833e-10, 1.0], [0.9999908, 9.087076e-06], [0.9999903, 9.838472e-06], [1.3175414e-09, 1.0], [4.1340154e-05, 0.99995863], [1.0, 3.7178214e-09], [1.0, 1.8863375e-09], [5.4098937e-06, 0.9999946], [3.105899e-10, 1.0], [1.2590924e-06, 0.99999875], [1.0, 1.2424423e-09], [3.3822976e-09, 1.0], [1.0, 9.899445e-08], [1.7007491e-06, 0.9999983], [0.0012694814, 0.9987305], [0.99896824, 0.0010318226], [1.0, 3.3459745e-08], [1.0, 8.869819e-09], [1.0, 4.0393726e-08], [0.99999917, 9.651558e-07], [2.3042534e-07, 0.9999998], [9.31108e-12, 1.0], [2.4948275e-09, 1.0], [4.537092e-10, 1.0], [0.00023501476, 0.99976504], [0.9999914, 8.583425e-06], [3.3305173e-06, 0.99999666], [3.5434073e-06, 0.9999965], [1.0, 2.4566512e-08], [4.250799e-11, 1.0], [1.0, 9.459669e-10], [1.0, 1.08117915e-08], [0.9999999, 8.0571795e-08], [2.1270783e-16, 1.0], [1.0, 8.455551e-11], [0.99999744, 2.4722544e-06], [1.6822332e-09, 1.0], [1.2841196e-08, 1.0], [0.99938726, 0.00061271945], [7.935024e-07, 0.9999992], [0.9999997, 2.8851423e-07], [6.9141204e-10, 1.0], [1.0241984e-09, 1.0], [4.5649426e-09, 1.0], [1.0, 4.4565002e-10], [1.0, 6.051107e-09], [4.474102e-09, 1.0], [0.99998075, 1.9222474e-05], [1.4643067e-09, 1.0], [0.6386611, 0.3613389], [0.9999995, 5.2169105e-07], [4.5796995e-11, 1.0], [0.9999999, 1.3774748e-07], [2.747928e-10, 1.0], [1.0, 8.150808e-09], [0.9999987, 1.3323254e-06], [0.9999989, 1.1032436e-06], [6.012962e-05, 0.9999398], [0.9999968, 3.346143e-06], [0.9999994, 5.8684856e-07], [0.99971914, 0.00028084803], [3.7653662e-09, 1.0], [1.0, 9.375809e-10], [8.3503164e-07, 0.9999992], [2.7422639e-11, 1.0], [1.0, 3.3004002e-10], [5.2606037e-08, 1.0], [1.0, 1.6441846e-09], [1.0, 6.1661666e-08], [2.499989e-09, 1.0], [2.491023e-10, 1.0], [6.3583784e-06, 0.9999937], [1.0, 8.740282e-09], [1.0, 2.42299e-11], [1.9541564e-09, 1.0], [0.9999994, 6.1009274e-07], [0.99999964, 4.1312438e-07], [1.048124e-07, 1.0], [1.0, 6.753941e-11], [0.00033428782, 0.99966574], [1.7168244e-06, 0.9999984], [0.9999994, 5.40162e-07], [1.2936352e-09, 1.0], [1.6637082e-07, 0.9999999], [1.0, 1.6015235e-08], [8.448491e-08, 1.0], [4.1665903e-08, 1.0], [4.9058646e-11, 1.0], [3.3572835e-11, 1.0], [5.259828e-10, 1.0], [7.677768e-07, 0.9999992], [0.999613, 0.00038703528], [1.0, 1.28478135e-08], [3.120941e-11, 1.0], [1.0, 4.0949173e-09], [0.99999964, 3.3932218e-07], [6.273745e-10, 1.0], [1.6803184e-11, 1.0], [0.9999998, 1.1046474e-07], [9.535045e-09, 1.0], [1.0, 6.773427e-11], [1.0, 3.0958667e-08], [0.9999997, 3.4055012e-07], [3.4537432e-08, 1.0], [8.4995994e-10, 1.0], [1.4057741e-07, 0.9999999], [0.8224727, 0.17752734], [3.9918e-11, 1.0], [2.5297106e-07, 0.9999998], [0.99998665, 1.3321423e-05], [1.0, 6.9801933e-09], [0.99967754, 0.00032242847], [3.8859863e-10, 1.0], [1.0, 8.3109075e-11], [0.9999994, 5.970499e-07], [1.0, 1.09805205e-08], [1.0996805e-12, 1.0], [9.754842e-07, 0.99999905], [1.2443519e-06, 0.99999875], [2.2304144e-07, 0.9999998], [1.0, 8.753013e-09], [1.0, 2.0714621e-08], [8.697972e-07, 0.99999917], [0.9999958, 4.156384e-06], [0.000120302524, 0.9998797], [6.597527e-08, 1.0], [2.2972706e-06, 0.99999774], [3.512096e-06, 0.9999965], [0.004227533, 0.99577254], [2.6950343e-06, 0.9999973], [1.0, 1.3982149e-09], [0.9999983, 1.7052192e-06], [1.519287e-11, 1.0], [1.5431764e-11, 1.0], [5.8164153e-09, 1.0], [1.0, 1.6021652e-08], [0.9999994, 5.1459955e-07], [3.2123634e-08, 1.0], [0.006819114, 0.99318093], [0.99999446, 5.5202718e-06], [2.046433e-08, 1.0], [1.0, 7.0014656e-09], [0.9999998, 1.4023269e-07], [1.7412627e-06, 0.9999983], [0.99999446, 5.593621e-06], [0.00087893836, 0.999121], [1.7528437e-08, 1.0], [0.32132104, 0.6786789], [4.4084283e-09, 1.0], [1.812957e-11, 1.0], [2.4276456e-10, 1.0], [2.476447e-10, 1.0], [1.0, 7.526573e-10], [1.0, 2.0261419e-10], [1.0, 1.2611576e-10], [1.0, 1.7100874e-08], [4.3260385e-11, 1.0], [1.0, 5.496399e-09], [5.417941e-10, 1.0], [2.9057037e-06, 0.99999714], [2.4495563e-07, 0.9999998], [1.1715208e-10, 1.0], [4.6320825e-08, 1.0], [0.999922, 7.796566e-05], [1.0, 1.3893873e-09], [1.3340507e-06, 0.9999987], [1.0, 2.2845081e-09], [6.3379154e-12, 1.0], [5.194902e-06, 0.9999949], [2.1012752e-06, 0.9999979], [1.0, 1.4135071e-12], [2.8067537e-10, 1.0], [3.7303074e-11, 1.0], [1.7611153e-08, 1.0], [0.99999964, 4.2794605e-07], [0.99999905, 9.3363786e-07], [6.2625556e-12, 1.0], [1.0, 1.4734933e-10], [0.9999954, 4.610234e-06], [0.9999998, 1.7857735e-07], [1.0, 1.7759362e-10], [0.9999939, 6.2178487e-06], [3.230943e-10, 1.0], [1.0, 6.012012e-09], [0.9999998, 2.9010354e-07], [3.255001e-08, 1.0], [1.0, 2.1117877e-11], [0.9999673, 3.2663906e-05], [1.0, 4.4316656e-10], [1.0, 1.7337903e-09], [1.0, 2.5018093e-11], [1.0, 5.6476885e-09], [0.99999607, 3.8367593e-06], [0.9999973, 2.609269e-06], [0.9999997, 2.433299e-07], [1.0, 4.166153e-08], [1.8934314e-08, 1.0], [1.128092e-06, 0.9999989], [3.9433154e-10, 1.0], [1.0, 7.536805e-08], [1.271622e-07, 0.9999999], [4.5430465e-11, 1.0], [1.0, 2.4272484e-08], [0.9976624, 0.0023375086], [3.957889e-08, 1.0], [8.784302e-12, 1.0], [0.99999774, 2.3341e-06], [7.391523e-12, 1.0], [0.99999964, 4.0643596e-07], [1.8739577e-09, 1.0], [1.0, 1.767882e-08], [0.9999758, 2.4178038e-05], [7.2431226e-06, 0.9999927], [1.9191595e-09, 1.0], [1.0, 1.9303354e-09], [1.4952142e-10, 1.0], [0.5835023, 0.41649777], [6.233829e-10, 1.0], [4.566879e-08, 1.0], [3.6810038e-11, 1.0], [1.0, 1.180798e-10], [1.0, 5.170505e-10], [2.5265809e-08, 1.0], [0.9999998, 2.6388506e-07], [0.9999998, 1.6712059e-07], [4.353157e-08, 1.0], [2.8629768e-10, 1.0], [1.0, 9.372626e-09], [8.9767255e-08, 0.9999999], [2.8941788e-10, 1.0], [6.284801e-08, 1.0], [7.1435765e-12, 1.0], [0.000594956, 0.9994049], [1.0, 1.8059323e-10], [2.1313254e-10, 1.0], [7.2112497e-11, 1.0], [1.0, 2.2909982e-10], [0.9999846, 1.5383208e-05], [9.015667e-11, 1.0], [4.3670246e-07, 0.9999995], [0.9999998, 2.61573e-07], [0.9999388, 6.119659e-05], [8.3347224e-08, 0.9999999], [1.0, 1.939767e-10], [0.99999726, 2.7839274e-06], [0.9999922, 7.833548e-06], [0.999992, 8.06129e-06], [1.0, 3.1023888e-09], [1.7302252e-09, 1.0], [1.0, 1.934445e-09], [2.1960838e-11, 1.0], [1.2860944e-11, 1.0], [1.0, 7.166598e-08], [0.9999994, 5.998147e-07], [2.2514044e-08, 1.0], [1.0, 1.5333379e-08], [2.3858493e-09, 1.0], [1.0, 3.0976462e-08], [1.532899e-08, 1.0], [1.0, 7.6789747e-10], [2.679951e-07, 0.9999998], [0.99095184, 0.009048192], [1.0, 3.4305239e-09], [0.00029926194, 0.99970084], [0.0026401293, 0.9973599], [1.0, 1.6703698e-08], [0.99999964, 3.9326196e-07], [1.0, 9.1827657e-10], [3.429118e-10, 1.0], [7.597652e-09, 1.0], [3.668428e-07, 0.99999964], [1.2495172e-09, 1.0], [1.904784e-07, 0.9999998], [1.0, 8.012437e-09], [0.99999505, 5.0648746e-06], [1.0, 1.17435865e-08], [0.99992067, 7.935798e-05], [0.9998039, 0.00019613738], [1.0, 3.692799e-08], [1.0, 5.1224597e-10], [1.0, 1.1575848e-08], [1.0, 2.0893273e-08], [1.0, 4.9121788e-08], [7.412411e-13, 1.0], [0.5253801, 0.47461995], [1.0, 1.7364972e-09], [1.0, 1.8175929e-09], [1.16092504e-08, 1.0], [1.129486e-06, 0.99999887], [1.6426444e-11, 1.0], [0.9999439, 5.6067365e-05], [2.445383e-07, 0.9999997], [0.9999997, 2.8750097e-07], [1.0, 7.109812e-10], [5.636502e-10, 1.0], [1.0, 5.494616e-11], [6.62698e-11, 1.0], [2.197321e-09, 1.0], [1.0, 2.4879345e-08], [1.6620125e-13, 1.0], [7.7598405e-10, 1.0], [4.274992e-10, 1.0], [0.999998, 2.0483728e-06], [2.0054099e-10, 1.0], [0.99999964, 4.1289513e-07], [0.99998605, 1.3908076e-05], [4.289914e-05, 0.9999571], [0.99999887, 1.189262e-06], [1.7100895e-09, 1.0], [1.0, 5.051738e-08], [8.9339615e-08, 0.9999999], [1.3395127e-09, 1.0], [0.0004642002, 0.99953574], [1.3185165e-06, 0.9999987], [0.99999964, 4.607811e-07], [5.520023e-09, 1.0], [4.0712425e-09, 1.0], [8.476735e-06, 0.9999916], [0.7259906, 0.27400944], [2.6540698e-07, 0.9999998], [2.825831e-10, 1.0], [1.2243451e-09, 1.0], [2.9476717e-09, 1.0], [1.0, 3.1274396e-08], [3.995033e-06, 0.999996], [7.0542073e-06, 0.99999297], [1.0, 2.7097863e-10], [1.0, 1.2670952e-08], [3.726784e-05, 0.9999627], [3.7894562e-05, 0.99996215], [0.36903888, 0.63096106], [6.5934675e-12, 1.0], [3.939579e-12, 1.0], [0.97648984, 0.02351012], [0.9999982, 1.7731242e-06], [0.99999964, 4.4475837e-07], [5.1407387e-05, 0.9999486], [2.3650518e-10, 1.0], [0.9999997, 2.8828993e-07], [2.6497657e-06, 0.9999973], [2.2913341e-11, 1.0], [4.167445e-08, 1.0], [0.99999636, 3.7008303e-06], [7.876231e-08, 1.0], [2.9628971e-10, 1.0], [1.0, 2.6074969e-09], [8.348609e-12, 1.0], [2.2369506e-09, 1.0], [1.0, 2.7499283e-08], [9.463215e-14, 1.0], [1.5640269e-11, 1.0], [0.00018633131, 0.9998137], [1.0, 6.1973104e-08], [1.5197418e-08, 1.0], [0.1913704, 0.80862963], [4.9292025e-06, 0.9999951], [2.5755136e-09, 1.0], [1.0, 7.570221e-10], [1.0, 5.5491796e-08], [2.4890775e-07, 0.9999998], [1.0, 4.8938236e-09], [1.0, 1.898746e-10], [1.0, 6.847884e-09], [8.002881e-12, 1.0], [0.9999981, 1.8508988e-06], [7.2870296e-07, 0.99999934], [2.6281718e-10, 1.0], [5.285902e-10, 1.0], [1.0, 2.1648058e-10], [5.5870675e-10, 1.0], [1.0, 1.0677065e-09], [1.0, 4.2704813e-09], [0.0047153765, 0.9952847], [3.1558957e-05, 0.9999684], [1.0, 2.423577e-08], [1.0, 6.8534667e-09], [9.984971e-06, 0.9999901], [1.0, 6.962516e-08], [1.0, 1.1815648e-08], [1.0, 7.356746e-10], [0.000271841, 0.9997282], [0.96103776, 0.03896235], [1.1184372e-06, 0.99999887], [5.652327e-11, 1.0], [8.323155e-06, 0.9999918], [1.0, 2.288394e-09], [0.9999998, 1.7545699e-07], [1.0, 2.4222246e-09], [1.0, 4.3377626e-09], [0.0125974445, 0.98740256], [1.0, 1.8095624e-10], [1.0, 1.6378562e-10], [2.5613123e-09, 1.0], [1.0, 5.534303e-10], [0.99999875, 1.1490614e-06], [0.99906445, 0.0009355234], [5.4079706e-11, 1.0], [1.0, 1.795469e-08], [7.566522e-08, 1.0], [3.8194554e-07, 0.99999964], [0.9999998, 2.0458424e-07], [0.9999992, 7.7534014e-07], [0.9999998, 1.7606096e-07], [2.3153264e-09, 1.0], [1.2493135e-09, 1.0], [1.2019892e-05, 0.9999881], [0.26526338, 0.73473656], [2.2476675e-05, 0.99997747], [3.6464442e-07, 0.9999997], [3.7709177e-10, 1.0], [1.0, 3.2267873e-09], [8.1466434e-10, 1.0], [0.99999964, 4.1012504e-07], [0.00015478565, 0.9998453], [1.0, 7.1703854e-10], [1.5579026e-10, 1.0], [1.0, 1.0192538e-09], [1.3139689e-07, 0.9999999], [1.0, 4.3899195e-10], [1.0, 3.731614e-08], [1.4594391e-10, 1.0], [0.99999964, 4.126329e-07], [1.0, 1.0093943e-08], [6.5628026e-13, 1.0], [0.9999999, 1.3959361e-07], [1.7127488e-05, 0.99998283], [2.5488462e-05, 0.99997455], [1.0, 1.0759016e-08], [1.0, 6.266323e-11], [8.2765006e-10, 1.0], [1.0, 1.6081254e-09], [1.1172491e-07, 0.9999999], [1.0, 4.8046588e-11], [2.80495e-10, 1.0], [0.99994326, 5.6765148e-05], [2.2215858e-10, 1.0], [1.0, 4.098095e-09], [1.0, 8.7132666e-09], [1.2621122e-07, 0.9999999], [1.0, 8.9827806e-10], [1.0, 2.5303518e-08], [3.5870183e-12, 1.0], [0.01495558, 0.98504436], [1.0, 7.3131865e-08], [0.7015513, 0.2984487], [7.852028e-09, 1.0], [2.7761363e-10, 1.0], [0.10652592, 0.8934741], [0.9999927, 7.2018256e-06], [2.2875103e-07, 0.9999998], [2.5006114e-10, 1.0], [1.0, 3.0436198e-09], [1.4632755e-09, 1.0], [2.5903728e-05, 0.99997413], [0.9999932, 6.6892267e-06], [7.396595e-10, 1.0], [1.0, 1.4988904e-08], [1.0, 1.4717785e-10], [1.0, 1.5741811e-09], [0.2965607, 0.70343935], [5.948461e-07, 0.9999995], [0.9820644, 0.017935503], [0.9990953, 0.00090459466], [1.0, 1.7805137e-08], [0.0023503692, 0.99764955], [0.99999964, 3.4941098e-07], [1.0, 8.969591e-09], [1.0, 5.690489e-09], [0.9999999, 6.069821e-08], [1.4936061e-11, 1.0], [0.9999979, 2.0245209e-06], [2.0321325e-10, 1.0], [0.9999999, 9.9873695e-08], [0.9512065, 0.048793543], [0.9999539, 4.6045752e-05], [8.13936e-07, 0.99999917], [1.0, 7.570248e-09], [1.3035273e-09, 1.0], [1.0, 5.108278e-10], [3.37131e-09, 1.0], [0.99999744, 2.6423359e-06], [1.5598787e-12, 1.0], [3.335096e-08, 1.0], [2.0472504e-10, 1.0], [0.044114925, 0.95588505], [0.99999845, 1.5060423e-06], [1.0, 1.5781794e-09], [1.0, 3.612315e-10], [0.99995136, 4.860333e-05], [1.1361263e-10, 1.0], [0.9981796, 0.0018204581], [8.636519e-09, 1.0], [0.9999992, 8.723906e-07], [0.00046976088, 0.9995302], [1.3672619e-07, 0.9999999], [1.0, 3.1648323e-10], [5.13572e-12, 1.0], [2.569222e-07, 0.9999998], [6.282982e-10, 1.0], [1.900988e-10, 1.0], [0.9999978, 2.2234353e-06], [0.9999739, 2.6180835e-05], [1.0, 1.6171273e-11], [1.8057453e-10, 1.0], [0.66844404, 0.33155596], [0.00011089638, 0.9998891], [1.0, 8.821752e-10], [8.607769e-11, 1.0], [0.99587756, 0.004122517], [1.0, 7.142395e-12], [6.6653407e-09, 1.0], [1.0, 6.471037e-08], [1.0, 9.807674e-09], [0.99915904, 0.0008409328], [1.5948955e-09, 1.0], [4.4256048e-13, 1.0], [1.0, 7.018578e-08], [0.99999225, 7.720047e-06], [0.9999999, 1.2785219e-07], [0.999994, 6.0777797e-06], [1.0, 9.620826e-10], [1.0, 1.3881727e-08], [0.99996156, 3.8467166e-05], [1.2722401e-08, 1.0], [1.0, 4.9217093e-09], [1.0, 3.2346953e-10], [1.0, 1.15439754e-07], [0.99999917, 9.785317e-07], [1.2058061e-07, 0.9999999], [0.9999987, 1.317372e-06], [1.0, 2.498646e-11], [6.502831e-09, 1.0], [1.4151689e-06, 0.9999987], [1.1329004e-09, 1.0], [0.00034828385, 0.99965173], [0.99999416, 5.7550506e-06], [0.3228221, 0.6771779], [0.99973184, 0.00026816467], [1.0, 1.0000201e-11], [0.9894894, 0.010510604], [7.29319e-08, 1.0], [0.99999964, 4.2648054e-07], [1.0, 6.452062e-08], [0.99999774, 2.3125183e-06], [3.4835644e-05, 0.9999652], [0.9999998, 1.3265591e-07], [0.9999975, 2.5101506e-06], [0.99999917, 8.7159503e-07], [8.106547e-08, 0.9999999], [5.2355194e-08, 1.0], [0.006630636, 0.9933694], [3.6421582e-07, 0.9999997], [1.866984e-10, 1.0], [1.0, 8.2750695e-08], [1.0, 6.557154e-09], [0.9999997, 2.8301463e-07], [1.8804147e-10, 1.0], [1.0, 3.1161709e-09], [0.9999995, 4.95584e-07], [0.9999057, 9.438557e-05], [1.0, 2.638379e-10], [0.9996563, 0.00034372165], [1.8151808e-11, 1.0], [9.39221e-09, 1.0], [1.0, 1.1650948e-09], [1.327403e-10, 1.0], [1.8350876e-11, 1.0], [1.0, 4.388574e-10], [0.9999999, 2.0597113e-07], [3.479799e-05, 0.9999653], [1.3017772e-06, 0.9999987], [5.206935e-10, 1.0], [0.6689928, 0.33100718], [5.1368366e-13, 1.0], [5.894566e-10, 1.0], [1.1816112e-05, 0.99998826], [2.2405193e-10, 1.0], [2.2105616e-05, 0.9999779], [4.026385e-06, 0.999996], [1.8840933e-10, 1.0], [2.2233518e-10, 1.0], [1.0, 9.549822e-10], [0.061669342, 0.93833065], [1.0, 8.173686e-08], [1.0, 9.735915e-09], [1.07132664e-07, 0.9999999], [1.0, 9.6432154e-11], [0.9991957, 0.000804381], [1.0, 2.6044528e-08], [0.99999964, 3.2076758e-07], [1.943523e-05, 0.99998057], [1.0, 6.51043e-10], [1.0, 1.5049466e-08], [1.241188e-10, 1.0], [2.4565666e-10, 1.0], [4.373832e-05, 0.99995625], [1.0, 6.5340124e-09], [1.0, 3.3053635e-09], [0.99768275, 0.0023172733], [2.9978978e-08, 1.0], [0.9999978, 2.1514645e-06], [1.9774453e-12, 1.0], [0.99984807, 0.00015186345], [1.0, 4.686431e-09], [3.0116254e-07, 0.9999997], [1.0, 7.700104e-09], [1.0, 3.4320196e-09], [4.955911e-05, 0.9999505], [7.53226e-14, 1.0], [3.501631e-07, 0.9999997], [1.0, 2.5645872e-09], [7.154722e-09, 1.0], [0.9998473, 0.00015268163], [7.125852e-10, 1.0], [4.6036766e-10, 1.0], [0.999975, 2.4932651e-05], [5.057451e-10, 1.0], [1.9420128e-09, 1.0], [2.6126771e-11, 1.0], [1.0, 1.5445882e-11], [7.3626046e-07, 0.9999992], [1.0, 1.4048773e-09], [1.0, 3.476418e-10], [1.0, 4.951628e-11], [7.117294e-07, 0.99999934], [1.0, 3.2008036e-09], [0.0035143234, 0.9964858], [8.4047525e-07, 0.9999992], [7.6260075e-12, 1.0], [0.9999959, 4.049977e-06], [0.0010082137, 0.99899167], [6.3116566e-08, 1.0], [6.628869e-09, 1.0], [1.2483814e-10, 1.0], [1.0, 6.80614e-10], [1.0101373e-05, 0.9999898], [3.6852239e-06, 0.9999963], [1.0, 4.5776945e-11], [7.378938e-12, 1.0], [5.6300837e-07, 0.9999994], [8.022388e-11, 1.0], [5.630563e-08, 1.0], [1.0, 7.607038e-09], [0.9999591, 4.0943632e-05], [0.9999999, 1.3033106e-07], [3.2020534e-08, 1.0], [1.0983601e-05, 0.9999889], [1.0, 2.9003536e-12], [0.6462892, 0.3537108], [1.0, 5.853141e-10], [4.797379e-11, 1.0], [0.9999954, 4.5610195e-06], [0.9999995, 5.6833994e-07], [1.0, 3.2901561e-09], [0.99999845, 1.5638755e-06], [3.140046e-07, 0.9999997], [0.9999159, 8.400406e-05], [0.99999845, 1.4878027e-06], [3.7452228e-06, 0.9999963], [1.0, 9.934196e-09], [0.9999983, 1.6319722e-06], [1.0, 3.481286e-08], [0.97434396, 0.025656024], [1.668998e-09, 1.0], [1.0, 5.0259406e-08], [6.7621334e-12, 1.0], [9.143791e-09, 1.0], [1.0, 1.0228034e-08], [1.0, 1.3807931e-09], [1.0, 1.6176751e-09], [1.0, 1.0811548e-09], [1.0, 9.5978e-09], [1.0, 1.2668629e-10], [0.9999998, 2.5475902e-07], [0.9999999, 1.0236556e-07], [1.0, 1.947066e-09], [9.032214e-10, 1.0], [2.7441433e-13, 1.0], [5.294112e-06, 0.99999464], [1.0, 3.8843804e-09], [1.7638652e-09, 1.0], [0.9999998, 2.5686546e-07], [0.9999998, 2.239882e-07], [0.9999997, 3.064851e-07], [0.9999979, 2.1147546e-06], [4.522855e-09, 1.0], [2.3790613e-13, 1.0], [5.570628e-12, 1.0], [0.9999998, 1.8835922e-07], [1.0, 1.4487912e-09], [0.9978566, 0.0021433737], [1.0, 1.283946e-08], [8.082904e-07, 0.9999992], [1.0, 6.727267e-09], [1.0, 3.5219997e-11], [2.741843e-09, 1.0], [0.9999728, 2.7204782e-05], [2.7231942e-10, 1.0], [1.0, 1.2093833e-08], [1.0, 5.6169135e-08], [0.99999964, 3.6044847e-07], [0.9999998, 1.5383556e-07], [1.0, 4.4408157e-09], [1.04191954e-10, 1.0], [0.99951345, 0.00048659445], [0.9999999, 7.313336e-08], [4.575098e-07, 0.99999964], [1.0, 4.6466853e-09], [1.0, 2.5691578e-09], [0.9999987, 1.3194727e-06], [6.6729726e-08, 1.0], [7.364791e-08, 1.0], [0.9999999, 1.2262439e-07], [1.0, 2.4367314e-10], [1.0, 2.139392e-10], [9.2051016e-07, 0.99999917], [1.0157971e-08, 1.0], [4.7429257e-08, 1.0], [0.99997157, 2.8488303e-05], [0.9999973, 2.6757475e-06], [2.021099e-08, 1.0], [1.0, 3.7861954e-09], [0.99997836, 2.1776377e-05], [4.31954e-11, 1.0], [1.0, 9.615584e-11], [8.226458e-07, 0.9999992], [0.99999964, 4.4756945e-07], [0.34794015, 0.6520599], [1.1429009e-11, 1.0], [0.9988537, 0.0011462868], [1.0, 9.522852e-08], [1.7718367e-10, 1.0], [1.0, 4.5116866e-09], [1.0, 9.000141e-09], [2.1544869e-10, 1.0], [6.2282446e-08, 1.0], [1.0, 5.5941224e-11], [1.0, 2.9511643e-08], [1.0, 4.8565605e-09], [1.0, 3.8174273e-11], [1.0, 8.577745e-09], [1.0, 3.5451947e-08], [1.1360767e-08, 1.0], [1.4355874e-06, 0.99999857], [1.178454e-07, 0.9999999], [4.2841757e-09, 1.0], [1.0, 4.4093595e-09], [1.0, 1.0023052e-08], [3.6321783e-08, 1.0], [9.378418e-09, 1.0], [0.99999964, 4.395284e-07], [0.00898556, 0.9910145], [0.0035514035, 0.99644864], [8.699992e-10, 1.0], [7.9595836e-08, 1.0], [1.0, 1.6945501e-08], [4.7035735e-09, 1.0], [2.4701494e-06, 0.9999975], [3.7804017e-11, 1.0], [0.9999976, 2.3664704e-06], [0.93264294, 0.06735711], [1.1839342e-12, 1.0], [1.5768593e-09, 1.0], [1.0, 4.3165573e-09], [1.469835e-06, 0.99999845], [0.98952496, 0.010475002], [0.9999982, 1.7560336e-06], [1.0, 5.386195e-09], [4.8125173e-07, 0.9999995], [0.99970514, 0.0002948561], [0.99999934, 6.685579e-07], [0.878158, 0.12184191], [0.5341732, 0.4658268], [0.980348, 0.01965193], [1.0, 4.3060316e-11], [1.0, 7.157362e-11], [4.7466614e-07, 0.99999964], [2.2762057e-05, 0.99997723], [0.7749184, 0.22508156], [0.9999994, 6.2795306e-07], [3.4666317e-07, 0.9999997], [1.0, 8.810131e-09], [7.908335e-08, 0.9999999], [1.0, 2.8899834e-08], [1.0, 4.0962448e-08], [0.9999955, 4.537821e-06], [0.9999939, 6.1672968e-06], [0.09520395, 0.904796], [4.9493787e-09, 1.0], [0.9999959, 4.1449503e-06], [5.4319765e-10, 1.0], [5.445289e-10, 1.0], [0.9999992, 7.6191697e-07], [1.0, 7.735087e-10], [0.9999978, 2.2134175e-06], [7.516841e-08, 1.0], [1.0, 3.869122e-09], [1.4621197e-11, 1.0], [1.0, 8.25187e-09], [1.0, 2.7391192e-08], [1.0, 7.416765e-08], [1.0, 3.6338764e-14], [6.3382273e-09, 1.0], [0.0011727931, 0.9988273], [0.9999997, 3.8051473e-07], [0.9999614, 3.8667607e-05], [1.7171236e-09, 1.0], [1.0, 3.1910248e-09], [0.9999999, 1.0102493e-07], [0.9829014, 0.017098613], [1.0, 9.531855e-09], [8.595099e-06, 0.9999914], [1.1579513e-09, 1.0], [7.610114e-09, 1.0], [1.0, 3.559122e-08], [0.9994508, 0.000549301], [4.0053665e-06, 0.999996], [0.9999999, 8.0681e-08], [1.8144702e-07, 0.9999998], [0.99999964, 3.9633105e-07], [3.8873615e-05, 0.9999611], [0.9999995, 5.264383e-07], [1.0, 4.0290318e-10], [3.7761256e-09, 1.0], [5.057278e-07, 0.9999995], [3.0456984e-11, 1.0], [1.0, 2.4222662e-09], [1.0, 1.4589008e-09], [1.0, 6.4825394e-09], [8.457428e-08, 1.0], [1.0, 2.310799e-09], [3.8826803e-10, 1.0], [1.0, 3.6826246e-09], [1.9435458e-06, 0.9999981], [0.9999997, 2.8528626e-07], [5.007763e-07, 0.99999964], [0.99999964, 3.8641005e-07], [0.99975365, 0.0002463346], [0.0004251333, 0.99957484], [1.0, 4.7119655e-09], [1.692863e-08, 1.0], [5.6504945e-08, 1.0], [1.0, 2.6350058e-10], [1.2812995e-10, 1.0], [3.080298e-09, 1.0], [6.831017e-12, 1.0], [0.9996519, 0.00034813417], [1.4707581e-08, 1.0], [1.0, 1.3812829e-10], [7.117777e-08, 1.0], [1.8736608e-09, 1.0], [1.0, 3.2350463e-11], [1.0, 1.1908924e-10], [1.0, 4.184492e-09], [0.9999989, 1.123951e-06], [1.7113656e-11, 1.0], [1.0981819e-10, 1.0], [1.0, 4.7295e-10], [1.5385829e-09, 1.0], [1.0, 1.4519873e-09], [0.9999999, 7.48813e-08], [1.0117064e-10, 1.0], [1.451335e-07, 0.9999999], [1.0, 3.982108e-08], [1.1538098e-07, 0.9999999], [9.726051e-06, 0.9999903], [1.0, 1.0907545e-08], [4.244572e-06, 0.9999958], [1.5122387e-05, 0.9999849], [1.3254532e-11, 1.0], [0.99969655, 0.00030342204], [1.2690218e-08, 1.0], [7.603868e-12, 1.0], [0.9951479, 0.0048521], [1.0, 4.214356e-08], [9.325761e-06, 0.99999064], [1.027357e-06, 0.99999905], [1.0, 7.6282265e-11], [0.9999999, 9.124914e-08], [0.9999981, 1.8982828e-06], [0.9999913, 8.731001e-06], [0.99998075, 1.928715e-05], [0.9999999, 9.5961504e-08], [1.0, 3.3012487e-13], [1.0, 7.493656e-09], [0.9926672, 0.0073328107], [1.0, 5.516221e-08], [1.3024964e-05, 0.999987], [1.0, 1.3306122e-08], [1.361009e-07, 0.9999999], [1.3741163e-08, 1.0], [0.99995834, 4.173196e-05], [1.388296e-07, 1.0], [0.9999999, 1.5623651e-07], [1.0, 3.0954163e-11], [7.4581926e-08, 1.0], [5.6337007e-07, 0.9999994], [0.00012842505, 0.99987155], [1.0, 3.617963e-08], [1.0, 3.279383e-08], [3.7864584e-08, 1.0], [8.6757055e-09, 1.0], [0.9999983, 1.6397562e-06], [1.320724e-05, 0.9999868], [5.1390232e-11, 1.0], [0.9998315, 0.00016857647], [1.0, 4.572628e-10], [3.3885108e-08, 1.0], [0.9999999, 2.1086626e-07], [5.962976e-08, 0.9999999], [2.7752062e-10, 1.0], [1.0, 6.4670855e-09], [5.2201397e-08, 1.0], [0.9999994, 5.6101777e-07], [4.098813e-08, 1.0], [0.9850194, 0.014980557], [1.0, 6.454989e-08], [6.4642314e-10, 1.0], [1.4191792e-07, 0.9999998], [2.0182684e-11, 1.0], [2.6776359e-11, 1.0], [0.9999946, 5.44238e-06], [0.9999994, 6.2115214e-07], [1.0, 6.4064807e-09], [1.2730837e-10, 1.0], [1.0, 1.4528936e-08], [1.0, 7.514448e-09], [2.760907e-08, 1.0], [1.1485616e-11, 1.0], [1.0, 2.9874527e-09], [1.0, 2.4727646e-08], [0.0001298201, 0.9998702], [5.3465155e-10, 1.0], [3.186348e-08, 1.0], [1.0, 2.8825233e-09], [1.0, 2.4338487e-10], [8.187227e-06, 0.9999918], [0.9999625, 3.745048e-05], [0.9999987, 1.2996117e-06], [0.9999999, 1.5366587e-07], [5.9200325e-09, 1.0], [1.0, 9.750173e-09], [6.8728453e-11, 1.0], [2.7456878e-10, 1.0], [0.99848163, 0.0015182602], [6.3349595e-12, 1.0], [5.6037903e-09, 1.0], [4.939976e-10, 1.0], [0.00078412023, 0.9992159], [0.99999964, 4.1252156e-07], [4.4605866e-07, 0.99999964], [1.8577671e-13, 1.0], [2.4390373e-10, 1.0], [1.0, 2.3558988e-09], [3.352526e-09, 1.0], [6.7492075e-12, 1.0], [0.9999994, 5.8942356e-07], [0.9999994, 5.2914635e-07], [1.9651491e-08, 1.0], [2.8890008e-09, 1.0], [0.016135877, 0.9838642], [1.0, 2.8027352e-09], [1.218681e-11, 1.0], [1.0, 7.722736e-09], [4.0578643e-09, 1.0], [2.1904693e-10, 1.0], [1.4472744e-11, 1.0], [5.61022e-11, 1.0], [0.999973, 2.691354e-05], [0.9999234, 7.658747e-05], [7.731525e-08, 1.0], [0.9995818, 0.00041814646], [2.6827744e-09, 1.0], [0.99999845, 1.6117658e-06], [0.9999979, 2.1010615e-06], [1.0, 2.1898755e-08], [2.722172e-09, 1.0], [0.94582146, 0.054178637], [1.0, 1.2757153e-08], [1.0, 2.160613e-08], [1.0, 1.5169261e-08], [2.0825033e-10, 1.0], [1.0, 1.1345737e-09], [0.99999964, 5.0578694e-07], [1.74394e-06, 0.9999983], [1.0, 1.2926353e-09], [9.638982e-07, 0.99999905], [2.583064e-11, 1.0], [0.99992734, 7.2755094e-05], [2.8223654e-05, 0.9999717], [5.6180616e-09, 1.0], [2.1380842e-10, 1.0], [1.0, 4.6532286e-08], [9.4754604e-08, 1.0], [1.0, 1.0498069e-11], [1.0, 1.2691223e-09], [1.2038967e-08, 1.0], [0.044964373, 0.95503557], [0.9999927, 7.2815246e-06], [4.2905396e-10, 1.0], [5.7792937e-07, 0.9999994], [1.9692e-08, 1.0], [6.9168875e-09, 1.0], [0.9999626, 3.7361056e-05], [1.0, 2.9117107e-09], [1.0, 1.8392466e-11], [5.3660684e-13, 1.0], [1.0672693e-07, 0.9999999], [1.0, 3.343862e-09], [0.9999465, 5.3520955e-05], [1.0, 3.7996815e-09], [0.028226364, 0.9717736], [0.99609375, 0.003906251], [6.68376e-08, 1.0], [1.7349272e-09, 1.0], [1.1004825e-07, 0.9999999], [9.292828e-06, 0.99999064], [1.9954332e-11, 1.0], [1.7823742e-05, 0.9999822], [1.0, 1.6964764e-10], [8.624014e-09, 1.0], [8.3344553e-11, 1.0], [0.9999982, 1.81783e-06], [1.578218e-07, 0.9999998], [0.99998987, 1.01061605e-05], [2.5710609e-08, 1.0], [2.948571e-07, 0.9999997], [2.7922376e-06, 0.99999726], [1.8946288e-06, 0.9999981], [0.9993386, 0.00066142005], [1.0, 1.9222778e-08], [1.3225846e-08, 1.0], [1.0, 1.2662793e-09], [4.668746e-08, 1.0], [3.4677576e-08, 1.0], [2.0795758e-10, 1.0], [0.94883525, 0.05116464], [0.9999992, 8.556914e-07], [3.5358232e-06, 0.9999965], [1.5651464e-11, 1.0], [1.9456777e-06, 0.999998], [3.807763e-11, 1.0], [3.1422478e-05, 0.9999685], [3.7192514e-08, 1.0], [7.619536e-10, 1.0], [2.1645485e-09, 1.0], [0.9999992, 8.060273e-07], [2.012745e-06, 0.999998], [2.720844e-10, 1.0], [1.37199695e-05, 0.9999863], [3.5756852e-11, 1.0], [9.737985e-11, 1.0], [5.623551e-07, 0.9999994], [0.9999124, 8.75868e-05], [1.0, 4.114715e-09], [1.2619168e-07, 0.9999998], [0.07315845, 0.92684156], [1.6604723e-09, 1.0], [0.99999934, 6.451209e-07], [8.1162106e-08, 1.0], [5.5186833e-09, 1.0], [1.4795053e-08, 1.0], [1.0, 4.745822e-08], [1.0, 6.2496235e-09], [3.9432825e-06, 0.99999607], [1.0, 2.679046e-09], [3.4954766e-07, 0.9999997], [0.9969637, 0.003036276], [0.988795, 0.011204985], [2.8306024e-08, 1.0], [0.9999992, 7.130944e-07], [2.2563879e-07, 0.9999998], [1.0, 2.0694066e-09], [1.0, 7.3175763e-09], [0.0010029238, 0.9989971], [0.1676212, 0.83237875], [1.1980024e-09, 1.0], [4.530993e-08, 1.0], [0.99999934, 6.5868005e-07], [4.721292e-06, 0.99999535], [1.0, 1.6091413e-08], [2.2747417e-07, 0.9999998], [1.8174442e-09, 1.0], [1.0, 7.672269e-10], [1.5798671e-06, 0.9999983], [0.9999955, 4.5104302e-06], [1.2582532e-10, 1.0], [0.011913887, 0.9880861], [1.128974e-05, 0.99998873], [0.9986361, 0.0013638409], [1.0, 2.5359913e-08], [9.436778e-09, 1.0], [9.779366e-11, 1.0], [2.1201643e-08, 1.0], [0.99999696, 3.0640263e-06], [1.0, 5.3364557e-09], [8.4980385e-08, 1.0], [1.1482757e-09, 1.0], [4.3156128e-11, 1.0], [0.9999998, 2.2725426e-07], [1.3731928e-10, 1.0], [1.0, 2.229779e-09], [1.0, 2.527647e-09], [4.2088638e-10, 1.0], [0.9999999, 1.1205308e-07], [3.947952e-06, 0.99999607], [2.171659e-06, 0.9999979], [0.9999997, 3.9854095e-07], [1.0, 2.5846099e-09], [0.00017601367, 0.9998239], [1.0042297e-10, 1.0], [0.9999998, 2.2084114e-07], [4.232903e-06, 0.9999958], [7.764283e-09, 1.0], [1.0, 6.8993797e-09], [1.0, 9.860157e-10], [1.0, 1.2121854e-11], [0.9927088, 0.0072911517], [1.0, 5.2084282e-08], [8.650193e-09, 1.0], [4.755649e-10, 1.0], [0.99999964, 4.7297073e-07], [5.3766943e-12, 1.0], [0.9999997, 3.4751758e-07], [1.98849e-09, 1.0], [5.4574606e-08, 1.0], [1.0, 3.5703412e-08], [0.9999999, 1.07853225e-07], [2.068644e-08, 1.0], [1.0, 5.049897e-09], [1.0, 3.7823286e-10], [1.0, 7.420493e-08], [0.31473136, 0.6852686], [1.0, 6.895033e-08], [3.4737346e-09, 1.0], [1.0, 6.650749e-10], [0.9999997, 3.6068508e-07], [1.0, 1.2820372e-08], [7.939497e-09, 1.0], [1.7121291e-08, 1.0], [1.4402035e-06, 0.99999857], [3.666757e-08, 1.0], [0.000110188776, 0.99988985], [0.99999887, 1.0973695e-06], [2.303038e-08, 1.0], [8.539985e-10, 1.0], [0.9999981, 1.988084e-06], [0.9664537, 0.033546295], [0.99986017, 0.00013982205], [2.3579878e-09, 1.0], [0.12815765, 0.87184227], [1.1006669e-09, 1.0], [1.0, 7.4138256e-08], [0.9999994, 5.598848e-07], [1.0, 4.244145e-08], [7.6093465e-06, 0.9999924], [5.7503314e-07, 0.9999994], [5.947994e-09, 1.0], [1.0, 4.684933e-08], [2.3717666e-09, 1.0], [1.2328307e-09, 1.0], [2.015805e-08, 1.0], [6.7697634e-08, 1.0], [2.0354244e-07, 0.9999998], [7.5457515e-06, 0.9999925], [1.027007e-09, 1.0], [1.6840279e-07, 0.9999998], [0.99999964, 3.977218e-07], [5.9896133e-06, 0.999994], [1.0, 1.132447e-09], [1.0, 1.4134608e-08], [5.4145154e-13, 1.0], [0.99999934, 6.6732605e-07], [1.0, 9.723714e-11], [1.0, 1.10535824e-10], [2.2504867e-08, 1.0], [1.0, 1.6322994e-09], [1.0561976e-09, 1.0], [2.7622896e-10, 1.0], [0.9999994, 5.8234156e-07], [6.480323e-06, 0.9999935], [5.997024e-10, 1.0], [1.0, 2.8956517e-09], [1.0, 9.1903607e-10], [0.99999964, 3.496803e-07], [1.0, 2.1972071e-10], [1.0, 6.9996404e-09], [1.0, 1.6720024e-09], [0.052765936, 0.94723403], [0.9999998, 1.9939571e-07], [1.0, 1.4924373e-09], [1.7013912e-08, 1.0], [7.59964e-09, 1.0], [4.2146264e-10, 1.0], [1.0, 1.7574951e-08], [1.0, 1.7456264e-09], [1.0, 4.9511904e-08], [0.002788858, 0.99721116], [3.582113e-09, 1.0], [1.0, 8.078132e-10], [1.0, 4.7053905e-10], [2.2614097e-07, 0.9999998], [3.96198e-07, 0.99999964], [0.4221682, 0.57783186], [1.6935379e-05, 0.99998313], [0.9999369, 6.317674e-05], [0.99965256, 0.0003474062], [0.98600495, 0.013995099], [1.7984578e-06, 0.9999983], [1.0, 1.4116049e-09], [1.7237871e-06, 0.9999983], [0.9999999, 1.1218871e-07], [1.5590576e-08, 1.0], [5.2679468e-08, 1.0], [1.7373238e-06, 0.9999983], [0.911997, 0.08800291], [6.9992086e-07, 0.9999994], [0.99993265, 6.727873e-05], [1.0, 1.137749e-09], [5.9207492e-09, 1.0], [4.1362296e-09, 1.0], [1.0, 5.7883733e-09], [9.030522e-07, 0.99999917], [0.99998397, 1.5990805e-05], [1.0, 1.8765252e-10], [9.519139e-10, 1.0], [0.99999964, 4.1716734e-07], [1.0, 1.0713107e-09], [0.99999845, 1.591279e-06], [6.1224235e-09, 1.0], [0.9999871, 1.2980476e-05], [4.2620883e-07, 0.99999964], [2.9213205e-09, 1.0], [2.2583162e-09, 1.0], [1.489705e-05, 0.9999851], [2.7263536e-07, 0.9999997], [0.9999628, 3.723514e-05], [1.0, 3.8850048e-10], [0.9996978, 0.0003022353], [1.0, 7.666699e-11], [1.0, 1.854885e-10], [1.0, 2.0655975e-08], [1.6663482e-07, 0.9999998], [1.0, 1.3998838e-09], [1.4200688e-07, 0.9999999], [2.1830198e-09, 1.0], [1.0, 7.0086634e-13], [0.9999523, 4.776858e-05], [3.4415373e-09, 1.0], [7.9089506e-07, 0.9999992], [1.0, 1.656846e-08], [1.0, 2.1679984e-09], [0.9999984, 1.6340548e-06], [1.5919712e-09, 1.0], [1.0, 2.439963e-08], [7.3871265e-09, 1.0], [0.9735373, 0.026462663], [3.320193e-05, 0.9999668], [1.0, 5.903801e-11], [1.0, 3.060306e-08], [1.0, 1.889232e-08], [1.4652636e-10, 1.0], [1.507829e-06, 0.99999845], [3.0156002e-09, 1.0], [1.0, 3.8232816e-08], [1.0, 1.780803e-08], [1.9339495e-11, 1.0], [0.99999744, 2.593674e-06], [0.99998873, 1.1283048e-05], [1.0, 2.848484e-08], [0.9999998, 2.8472627e-07], [8.662906e-06, 0.9999914], [2.6136471e-11, 1.0], [3.2285143e-09, 1.0], [1.0, 4.311647e-08], [1.0, 3.1005505e-09], [0.9999999, 1.200786e-07], [0.9999987, 1.317372e-06], [1.0, 1.119515e-08], [2.2157636e-05, 0.99997777], [1.5057719e-08, 1.0], [1.0, 1.1138334e-09], [2.0047926e-10, 1.0], [0.9999855, 1.4525595e-05], [0.00061862456, 0.99938136], [1.7732769e-09, 1.0], [3.3558104e-10, 1.0], [2.1589558e-07, 0.9999998], [0.9999734, 2.6621556e-05], [1.0, 2.0046655e-09], [1.0, 2.6687859e-09], [1.0, 4.7360015e-08], [1.0, 8.742921e-09], [9.626628e-08, 0.9999999], [1.3874094e-06, 0.99999857], [7.976935e-13, 1.0], [8.419754e-09, 1.0], [6.1740324e-09, 1.0], [0.99999905, 1.0696563e-06], [1.0, 4.010217e-09], [1.5613802e-08, 1.0], [1.03777765e-07, 0.9999999], [0.99998105, 1.900044e-05], [1.0, 3.9346632e-10], [3.4473344e-10, 1.0], [0.9999999, 1.09506196e-07], [0.9998897, 0.00011036176], [0.99999714, 2.835103e-06], [0.99999076, 9.170569e-06], [3.743626e-08, 1.0], [2.7076952e-05, 0.999973], [1.4338542e-08, 1.0], [5.3808394e-06, 0.99999464], [2.5599702e-09, 1.0], [7.456505e-09, 1.0], [2.4081659e-11, 1.0], [1.0, 2.2413488e-08], [4.6269158e-10, 1.0], [1.0, 1.7953795e-08], [7.900946e-07, 0.9999992], [5.6080824e-11, 1.0], [0.9999995, 4.6184937e-07], [1.0, 2.5552402e-10], [6.0672903e-07, 0.9999994], [4.1831623e-08, 1.0], [4.2778812e-11, 1.0], [0.83694583, 0.16305408], [0.91248703, 0.087512955], [0.9999999, 1.2045896e-07], [0.9999999, 7.147319e-08], [0.99999917, 9.162103e-07], [6.018988e-11, 1.0], [0.03500806, 0.9649919], [5.5353794e-06, 0.99999446], [8.2725875e-11, 1.0], [8.6843005e-11, 1.0], [2.678767e-10, 1.0], [0.003332217, 0.99666774], [0.99999255, 7.4118116e-06], [0.00017742976, 0.99982244], [1.550999e-09, 1.0], [1.0, 4.2848978e-08], [4.4758036e-08, 1.0], [0.9993473, 0.0006527115], [0.99999607, 3.979481e-06], [4.6102772e-07, 0.99999964], [4.1501767e-07, 0.99999964], [0.9999997, 3.0957122e-07], [1.0, 1.2756024e-08], [1.0, 2.961049e-09], [9.261164e-10, 1.0], [0.9999999, 7.901714e-08], [0.9999903, 9.705348e-06], [2.9506442e-10, 1.0], [0.9999994, 6.0953886e-07], [0.9999999, 1.6991841e-07], [1.0, 4.767138e-09], [0.8320783, 0.16792169], [1.9214158e-07, 0.9999998], [1.0, 1.2364907e-09], [1.0, 5.25138e-11], [2.9293625e-08, 1.0], [1.0, 3.3966874e-09], [1.0, 6.1121425e-10], [1.0, 2.9329337e-08], [0.9991449, 0.00085498375], [1.5247847e-09, 1.0], [0.9726299, 0.027370121], [0.99996984, 3.0154813e-05], [0.9999997, 3.533033e-07], [2.4894076e-10, 1.0], [5.210884e-07, 0.9999995], [4.3720276e-09, 1.0], [0.53302217, 0.46697783], [1.0, 2.677976e-10], [0.9999998, 2.7042557e-07], [1.0, 3.4811933e-08], [1.4196258e-10, 1.0], [1.9524737e-10, 1.0], [0.9999999, 1.14085196e-07], [0.99999887, 1.2408183e-06], [0.9998957, 0.00010435262], [1.5037683e-09, 1.0], [0.999996, 4.1036333e-06], [5.378032e-09, 1.0], [0.9999998, 2.2593754e-07], [1.0, 4.605642e-08], [0.9999987, 1.3043993e-06], [7.790054e-05, 0.99992216], [6.459222e-10, 1.0], [2.15525e-06, 0.9999978], [2.9298666e-09, 1.0], [0.9999999, 1.1718298e-07], [8.143422e-10, 1.0], [0.99999857, 1.4549612e-06], [1.2867075e-05, 0.9999871], [0.98575306, 0.014246883], [3.0261549e-09, 1.0], [2.159109e-09, 1.0], [2.1878144e-10, 1.0], [8.160419e-09, 1.0], [0.9999999, 9.765008e-08], [0.9999998, 1.6910518e-07], [4.74215e-09, 1.0], [2.0437095e-11, 1.0], [0.118863285, 0.8811367], [3.936694e-08, 1.0], [1.0, 1.2723127e-08], [1.2863452e-06, 0.9999987], [1.9066087e-08, 1.0], [1.5748518e-10, 1.0], [1.3074337e-05, 0.99998695], [1.0, 7.2066633e-09], [4.0451117e-10, 1.0], [1.0, 1.15439754e-07], [3.4943646e-09, 1.0], [1.0, 4.189745e-11], [2.8724034e-10, 1.0], [2.2710886e-07, 0.9999998], [4.482176e-10, 1.0], [0.018346343, 0.9816537], [1.0, 9.1956245e-08], [3.3784127e-09, 1.0], [0.9999975, 2.456903e-06], [3.943872e-09, 1.0], [1.3377265e-09, 1.0], [9.7037135e-11, 1.0], [0.99931777, 0.00068221235], [1.0, 4.4730014e-10], [2.0250635e-10, 1.0], [8.775883e-09, 1.0], [1.8542257e-10, 1.0], [1.0558713e-06, 0.9999989], [0.9999998, 2.9093889e-07], [1.6429433e-13, 1.0], [2.3648479e-08, 1.0], [5.722131e-15, 1.0], [1.0, 5.5794964e-09], [0.00021607394, 0.9997839], [1.0, 2.5508586e-09], [1.0, 1.5410944e-09], [1.0, 1.6070773e-11], [6.1295885e-11, 1.0], [6.564266e-10, 1.0], [1.5205532e-07, 0.9999998], [1.0, 1.4689039e-10], [3.067203e-11, 1.0], [1.0, 3.3742888e-09], [1.0, 2.2190819e-10], [0.99949616, 0.0005038269], [1.0, 7.1439424e-11], [1.0, 2.3612103e-09], [0.9999998, 1.9116483e-07], [7.7375e-09, 1.0], [1.1234406e-05, 0.99998873], [0.9999994, 6.592132e-07], [2.2468711e-07, 0.9999998], [0.9974618, 0.0025382328], [0.9999442, 5.580999e-05], [0.9999922, 7.8513285e-06], [8.495017e-06, 0.99999154], [7.443847e-09, 1.0], [0.9999994, 5.6647605e-07], [0.00017216257, 0.99982786], [1.7440914e-07, 0.9999998], [0.999997, 2.9155913e-06], [8.951998e-10, 1.0], [0.9999999, 6.146953e-08], [1.0, 5.1232256e-08], [1.0, 7.57628e-08], [1.0, 5.797259e-09], [1.0, 2.2647072e-08], [2.886629e-08, 1.0], [0.99999964, 3.7025825e-07], [1.2239235e-11, 1.0], [1.0, 2.8407076e-08], [1.0, 9.97198e-11], [1.0, 1.8202424e-08], [7.0922646e-08, 1.0], [2.5655856e-07, 0.9999997], [1.0, 4.8498983e-08], [0.999975, 2.4985373e-05], [3.961226e-07, 0.99999964], [1.1695573e-06, 0.99999887], [1.0, 1.0343868e-09], [1.7101701e-08, 1.0], [7.4745135e-06, 0.99999255], [3.8191234e-10, 1.0], [1.0, 5.6780385e-09], [1.0, 2.5327723e-10], [1.8113655e-05, 0.9999819], [0.9999999, 4.8938098e-08], [0.9999849, 1.5041743e-05], [1.0, 2.5296198e-10], [1.0, 1.428928e-09], [2.3948286e-07, 0.9999998], [0.43993884, 0.56006116], [0.999998, 2.092198e-06], [1.0, 1.14128526e-10], [1.0, 3.6763156e-10], [1.2241242e-08, 1.0], [1.0, 2.3604958e-09], [4.1452827e-10, 1.0], [1.0, 3.236801e-08], [0.9999569, 4.306541e-05], [8.2545096e-11, 1.0], [1.0, 5.2151443e-09], [2.0090545e-10, 1.0], [3.0056357e-12, 1.0], [0.99989307, 0.000106872794], [0.999946, 5.394457e-05], [1.2070204e-07, 0.9999999], [1.0, 3.3008782e-10], [0.5196739, 0.48032618], [1.0, 4.9456787e-08], [2.6577513e-06, 0.9999973], [4.9324274e-08, 1.0], [0.99354696, 0.0064530084], [1.631408e-10, 1.0], [1.0, 1.15439754e-07], [3.309573e-06, 0.9999968], [3.6215823e-08, 1.0], [0.9999999, 1.2466947e-07], [0.9999998, 2.2168288e-07], [7.644613e-11, 1.0], [4.9354264e-11, 1.0], [1.0, 2.1613595e-09], [1.0, 1.9652566e-10], [1.2316795e-08, 1.0], [1.894652e-09, 1.0], [2.9045494e-10, 1.0], [1.0, 2.8934577e-10], [1.0, 8.812085e-12], [0.9999999, 1.2508725e-07], [1.1288082e-07, 0.9999999], [1.0, 5.186639e-09], [1.0, 6.029643e-10], [1.0, 1.8906354e-09], [1.0, 7.602697e-12], [1.0, 4.8378688e-08], [7.087461e-11, 1.0], [0.9999995, 5.302319e-07], [9.298662e-05, 0.999907], [0.9999998, 2.327811e-07], [0.999998, 2.0046596e-06], [0.99877167, 0.0012283187], [3.3805574e-09, 1.0], [6.4200066e-07, 0.9999994], [7.800271e-09, 1.0], [1.0, 2.7219055e-10], [1.0, 7.970188e-09], [1.9650142e-09, 1.0], [0.04554873, 0.95445126], [4.7208226e-10, 1.0], [1.8664604e-08, 1.0], [6.734876e-11, 1.0], [1.0, 2.7425942e-09], [0.0002635834, 0.9997364], [2.6460176e-10, 1.0], [1.0, 9.347346e-10], [0.9999483, 5.1696756e-05], [0.0066860355, 0.99331397], [1.0480691e-07, 1.0], [1.0, 4.6992152e-08], [1.4777164e-10, 1.0], [1.2372496e-07, 0.9999999], [0.9993824, 0.00061761995], [3.3639697e-08, 1.0], [1.0, 6.9095846e-10], [2.6375801e-05, 0.99997365], [0.8890675, 0.110932626], [8.06991e-08, 1.0], [9.562841e-06, 0.99999046], [2.020689e-09, 1.0], [2.575255e-08, 1.0], [2.2576472e-11, 1.0], [0.99291086, 0.0070891464], [0.001377825, 0.99862224], [1.0, 9.299634e-09], [2.2641102e-09, 1.0], [1.2707282e-10, 1.0], [0.096561305, 0.90343875], [1.0, 1.1347762e-09], [6.4970727e-09, 1.0], [0.99357384, 0.006426157], [2.4793096e-07, 0.9999998], [1.0, 7.9335605e-09], [0.9999989, 1.0610629e-06], [2.3608426e-09, 1.0], [2.8893923e-10, 1.0], [1.0, 1.7776658e-10], [0.9999998, 2.6145867e-07], [7.842758e-08, 1.0], [1.6758495e-05, 0.9999833], [1.0, 7.162574e-10], [1.7574445e-06, 0.9999983], [1.0, 2.7987213e-08], [1.0, 8.337903e-09], [7.110008e-07, 0.99999934], [5.7476164e-08, 1.0], [0.31665057, 0.6833495], [1.0, 3.452198e-08], [0.9999011, 9.894544e-05], [0.99999464, 5.299645e-06], [0.9999999, 9.951723e-08], [5.327408e-08, 1.0], [1.0, 7.128325e-08], [3.4063984e-08, 1.0], [1.0, 7.624874e-09], [0.9999924, 7.654364e-06], [1.1069872e-14, 1.0], [3.672182e-10, 1.0], [1.0, 5.7756366e-11], [1.0, 4.552215e-10], [9.956407e-07, 0.99999905], [1.2664539e-08, 1.0], [1.0, 3.2787344e-08], [0.9999998, 3.1407296e-07], [3.2006325e-12, 1.0], [4.4834882e-09, 1.0], [7.1184076e-09, 1.0], [1.0, 2.5241988e-08], [1.0, 1.0977534e-08], [1.011947e-09, 1.0], [1.8340234e-08, 1.0], [0.99999905, 1.0320956e-06], [0.9999546, 4.5404442e-05], [1.0, 9.63689e-11], [1.2869077e-07, 0.9999998], [0.9999998, 2.2813954e-07], [1.0714333e-09, 1.0], [1.5433178e-08, 1.0], [1.0, 4.5881805e-09], [1.0, 5.838462e-08], [0.9982068, 0.0017932325], [0.9997107, 0.00028941507], [9.319136e-13, 1.0], [4.0966464e-05, 0.9999591], [0.99998426, 1.579754e-05], [5.41911e-05, 0.9999458], [2.1974586e-06, 0.9999978], [0.9999984, 1.5827743e-06], [2.3010184e-06, 0.9999976], [0.9999994, 5.5908635e-07], [1.0355606e-08, 1.0], [3.789279e-07, 0.99999964], [0.9999881, 1.1866374e-05], [0.9999957, 4.3046184e-06], [1.0, 2.160385e-09], [1.0, 4.3786916e-10], [2.1299993e-09, 1.0], [1.0, 5.1776233e-11], [1.8623878e-11, 1.0], [0.99999696, 3.0691776e-06], [2.3275333e-10, 1.0], [3.4940815e-08, 1.0], [7.809048e-09, 1.0], [1.5462227e-08, 1.0], [0.9999999, 1.1993902e-07], [3.1200235e-13, 1.0], [0.9999998, 1.7209166e-07], [5.9412014e-06, 0.999994], [0.9999796, 2.0337005e-05], [0.0009014475, 0.9990986], [1.0, 6.6056045e-09], [0.9398109, 0.060189106], [2.4870794e-09, 1.0], [0.9999995, 4.5687835e-07], [1.0, 1.9776221e-10], [1.0, 5.4068018e-08], [1.0, 4.601032e-08], [4.1738094e-10, 1.0], [0.9806627, 0.01933734], [1.0, 4.591578e-09], [1.831284e-06, 0.9999982], [1.0, 5.828425e-08], [1.0, 7.539734e-09], [4.7337995e-10, 1.0], [1.0, 6.8000396e-09], [6.531399e-10, 1.0], [5.371201e-10, 1.0], [0.99999034, 9.568698e-06], [6.841128e-09, 1.0], [0.9999813, 1.8788398e-05], [1.2206506e-12, 1.0], [1.0, 2.0004492e-08], [1.0, 6.6059386e-10], [4.624346e-08, 1.0], [1.7551025e-05, 0.9999825], [0.9999984, 1.6578358e-06], [7.402096e-07, 0.9999992], [3.0400955e-09, 1.0], [0.9993051, 0.0006948038], [0.9998887, 0.00011132499], [5.8006894e-11, 1.0], [0.9999994, 5.8659293e-07], [9.011961e-08, 0.9999999], [1.0, 1.1818198e-07], [1.315179e-07, 0.9999999], [0.00055550534, 0.9994445], [0.99848413, 0.0015158621], [1.0, 1.5644733e-09], [3.7884902e-07, 0.9999995], [0.88821614, 0.111783825], [1.0423777e-12, 1.0], [1.0194757e-08, 1.0], [0.9999999, 1.0116295e-07], [1.0, 1.07510205e-08], [1.8413537e-05, 0.9999816], [5.8284705e-08, 1.0], [5.9065565e-07, 0.9999995], [1.0, 3.0456214e-08], [1.243541e-07, 0.9999999], [6.1527425e-07, 0.99999934], [0.14887457, 0.8511254], [1.0, 7.482212e-09], [8.138721e-12, 1.0], [0.9988327, 0.0011674208], [2.7360437e-07, 0.9999998], [1.0, 4.4896672e-10], [4.222545e-12, 1.0], [3.390753e-07, 0.99999964], [0.9999998, 2.0868602e-07], [1.0, 1.5835692e-08], [5.6705257e-12, 1.0], [6.075611e-08, 0.9999999], [3.2207792e-10, 1.0], [1.8155303e-09, 1.0], [1.0, 9.937877e-11], [1.0, 2.3798966e-08], [0.9999998, 1.8249088e-07], [2.8466283e-09, 1.0], [0.99999905, 9.299182e-07], [1.0, 2.0029773e-09], [0.99999934, 6.493868e-07], [2.7129492e-08, 1.0], [0.99999726, 2.775957e-06], [1.5528147e-05, 0.99998456], [0.9999998, 1.6668403e-07], [2.9063912e-10, 1.0], [1.0692398e-06, 0.9999989], [0.99999964, 3.8865522e-07], [0.9999896, 1.0390862e-05], [9.828188e-07, 0.99999905], [0.9999555, 4.444451e-05], [3.7711324e-08, 1.0], [1.6776664e-07, 0.9999998], [0.9998474, 0.00015263887], [0.99999684, 3.208881e-06], [1.0, 1.1362028e-08], [1.0, 1.2588048e-08], [1.0, 3.2452987e-09], [4.124651e-09, 1.0], [8.40212e-07, 0.99999917], [1.0, 1.8264599e-08], [0.003014365, 0.9969856], [3.882818e-08, 1.0], [3.341753e-09, 1.0], [1.0, 1.0237383e-09], [1.0, 7.1350884e-11], [5.5272403e-07, 0.9999994], [3.4709155e-05, 0.9999653], [0.9999901, 9.874437e-06], [1.0, 1.1970829e-08], [1.3957887e-07, 0.9999999], [0.9999989, 1.0721894e-06], [2.3504479e-06, 0.99999774], [0.9999998, 1.5380638e-07], [3.340041e-08, 1.0], [0.9999897, 1.02949025e-05], [1.0, 5.431503e-09], [1.0, 3.2587927e-10], [0.99992025, 7.974387e-05], [1.701674e-09, 1.0], [0.9999196, 8.036681e-05], [1.7381538e-08, 1.0], [1.4172726e-06, 0.99999857], [6.504006e-13, 1.0], [1.4426809e-07, 0.9999999], [0.9999999, 1.1711187e-07], [5.654887e-07, 0.9999995], [0.9999741, 2.5995065e-05], [6.869828e-07, 0.99999934], [1.33195215e-08, 1.0], [0.9998129, 0.00018705367], [8.420768e-10, 1.0], [1.0, 4.8698194e-08], [1.0, 4.551403e-10], [1.15724575e-07, 0.9999999], [4.2482995e-08, 1.0], [0.99884367, 0.0011562861], [1.0, 7.5566604e-08], [1.0, 6.0927335e-10], [0.9999999, 6.314613e-08], [0.99890596, 0.0010940537], [1.0, 8.14045e-08], [1.0, 1.0560366e-08], [0.99998343, 1.6648486e-05], [2.8822564e-11, 1.0], [0.99999934, 6.2747847e-07], [1.9288743e-06, 0.999998], [2.4782437e-10, 1.0], [4.9654627e-09, 1.0], [1.2434428e-07, 0.9999999], [1.0, 3.4494154e-09], [9.282868e-07, 0.99999905], [1.2155217e-05, 0.9999879], [1.6946607e-09, 1.0], [1.0, 1.1699728e-08], [1.0, 6.733308e-08], [0.9999963, 3.7110665e-06], [0.9999999, 1.06183805e-07], [1.0, 1.7974051e-09], [4.947924e-09, 1.0], [0.99681723, 0.0031828869], [1.0, 2.7663416e-09], [8.707737e-10, 1.0], [1.0, 5.8179728e-09], [7.000853e-10, 1.0], [0.99999964, 3.9624211e-07], [3.1274038e-08, 1.0], [2.850009e-10, 1.0], [7.753302e-09, 1.0], [7.2182965e-10, 1.0], [1.7882496e-06, 0.9999982], [0.9999997, 2.566004e-07], [1.0, 1.246548e-08], [1.0, 6.3061045e-10], [0.00016291408, 0.9998371], [4.525059e-08, 1.0], [0.9995281, 0.00047183922], [0.99994373, 5.629938e-05], [7.916112e-09, 1.0], [1.0, 9.311683e-08], [5.96356e-08, 1.0], [0.99999964, 3.5889673e-07], [6.4193415e-08, 1.0], [0.9999987, 1.4075578e-06], [8.036319e-08, 1.0], [1.4017656e-10, 1.0], [6.289551e-07, 0.9999994], [1.5540987e-08, 1.0], [1.0, 3.0355587e-09], [7.1259535e-08, 1.0], [5.326847e-09, 1.0], [1.0, 5.2025846e-09], [1.0, 9.759148e-09], [5.1862363e-09, 1.0], [1.0, 8.133679e-09], [1.0, 1.2450393e-09], [0.9999999, 9.6629016e-08], [0.99942636, 0.00057361426], [9.901664e-10, 1.0], [1.0, 1.7785236e-08], [7.558815e-09, 1.0], [0.10073986, 0.89926004], [1.0, 1.6376088e-08], [5.4903715e-10, 1.0], [2.5382885e-09, 1.0], [5.7314686e-08, 0.9999999], [1.0, 7.661076e-10], [7.7460996e-08, 1.0], [0.99999845, 1.4902428e-06], [0.99999845, 1.5767052e-06], [1.0, 6.718856e-11], [0.9999999, 1.3689032e-07], [3.5618804e-08, 1.0], [0.9962524, 0.0037475172], [0.9999997, 2.926659e-07], [0.9999999, 1.6379136e-07], [1.0, 1.7398247e-10], [1.0, 5.0410903e-10], [0.0042545884, 0.9957453], [1.0, 8.128837e-10], [1.0, 3.301515e-11], [5.577107e-06, 0.9999944], [2.2846885e-08, 1.0], [7.5515627e-10, 1.0], [1.0, 4.8248655e-10], [1.6565056e-10, 1.0], [0.9999479, 5.213694e-05], [1.038765e-09, 1.0], [0.24454074, 0.7554593], [1.0, 7.7097845e-08], [1.0, 4.3817066e-09], [9.414926e-09, 1.0], [5.4767814e-12, 1.0], [0.0008697159, 0.99913037], [1.0, 3.385044e-09], [2.8049213e-10, 1.0], [1.0, 6.040361e-08], [1.0787835e-09, 1.0], [1.06540746e-07, 0.9999999], [3.0485954e-11, 1.0], [1.0, 7.791478e-08], [1.7378768e-07, 0.9999998], [2.4299538e-09, 1.0], [1.0, 2.452019e-09], [1.0, 7.4341183e-10], [1.0, 9.386748e-09], [6.6361026e-06, 0.99999344], [0.9999997, 2.6160748e-07], [0.99999964, 3.86994e-07], [0.99999475, 5.311739e-06], [1.5941344e-09, 1.0], [1.0, 3.7302847e-08], [1.0, 2.3180236e-09], [0.9999983, 1.6497e-06], [8.6762453e-10, 1.0], [2.0720009e-08, 1.0], [1.0, 6.7191452e-09], [2.0361782e-10, 1.0], [3.1471513e-11, 1.0], [7.219969e-07, 0.99999934], [1.0, 3.777571e-08], [0.999987, 1.2985996e-05], [2.5144612e-07, 0.9999998], [1.0, 7.536745e-08], [1.0, 2.513115e-09], [6.072117e-10, 1.0], [1.0, 8.7101293e-10], [3.1501997e-07, 0.9999997], [0.99999297, 7.0943033e-06], [1.0, 2.8068587e-08], [0.9999997, 2.761832e-07], [0.9999936, 6.3455323e-06], [0.99973667, 0.00026333355], [6.68296e-08, 1.0], [0.9999998, 2.0797688e-07], [1.0, 4.3677734e-10], [1.3459577e-07, 0.9999999], [1.7863319e-07, 0.9999998], [1.0, 4.875645e-09], [0.9999983, 1.6881802e-06], [0.9999924, 7.5130183e-06], [2.6237257e-11, 1.0], [2.611896e-09, 1.0], [1.4097614e-09, 1.0], [0.00061026507, 0.99938977], [3.4345144e-06, 0.9999965], [0.99999666, 3.298869e-06], [9.982884e-09, 1.0], [5.9621363e-10, 1.0], [0.9999998, 2.666564e-07], [0.9999997, 3.97752e-07], [6.9766914e-10, 1.0], [1.6951383e-08, 1.0], [1.0, 2.3483501e-08], [0.99999964, 3.7883163e-07], [0.9999975, 2.4692204e-06], [1.0, 1.6501275e-10], [1.0, 1.430569e-11], [1.5281497e-10, 1.0], [0.9999995, 4.6570943e-07], [9.767387e-05, 0.99990237], [0.9999601, 3.9912455e-05], [0.99999917, 8.8381273e-07], [0.99975336, 0.000246565], [3.1860324e-08, 1.0], [1.0, 4.8817554e-09], [1.17880985e-08, 1.0], [2.800535e-05, 0.99997187], [1.0, 8.239277e-10], [1.0, 2.0040189e-10], [5.2508256e-09, 1.0], [1.0, 5.9277655e-10], [1.0, 7.267619e-10], [4.042972e-06, 0.999996], [1.0, 2.999744e-10], [0.99998444, 1.5494548e-05], [0.99656284, 0.0034371305], [7.458897e-09, 1.0], [1.0, 9.5859164e-08], [2.947208e-12, 1.0], [1.0, 2.299859e-09], [4.7110794e-11, 1.0], [3.360728e-06, 0.99999666], [1.0, 8.481595e-10], [1.400399e-11, 1.0], [0.9848952, 0.015104713], [4.216205e-09, 1.0], [1.0, 9.1444907e-10], [4.392581e-09, 1.0], [2.8999319e-09, 1.0], [1.0, 8.2252385e-11], [2.259638e-09, 1.0], [1.0, 4.7722883e-09], [1.0, 5.0234622e-08], [0.9985277, 0.00147233], [1.0, 2.252241e-08], [1.0, 2.8326939e-09], [1.0, 3.2217246e-10], [0.9999973, 2.6557154e-06], [0.006122119, 0.99387777], [5.684334e-10, 1.0], [0.9999998, 2.5470817e-07], [1.0, 1.519127e-09], [0.9998969, 0.000103076665], [0.9999998, 2.0752832e-07], [1.0, 6.2575474e-08], [8.0532163e-13, 1.0], [1.0, 1.9955053e-09], [5.0355585e-08, 1.0], [1.0, 7.291955e-10], [1.0, 3.475909e-08], [1.0, 2.629854e-10], [1.5262998e-06, 0.99999845], [0.95883954, 0.041160524], [1.0, 2.3971548e-08], [0.00025632884, 0.99974364], [0.9999236, 7.636126e-05], [0.9903965, 0.009603399], [2.3023978e-09, 1.0], [2.508704e-07, 0.9999997], [0.99996984, 3.0103238e-05], [1.6553156e-09, 1.0], [0.0026256493, 0.99737436], [0.9999979, 2.027607e-06], [1.0, 6.075171e-09], [1.0, 3.976582e-08], [0.9999999, 1.3166569e-07], [0.99930036, 0.0006995417], [1.0, 1.1052906e-08], [1.0, 1.5746298e-08], [3.2814427e-07, 0.9999997], [1.1170689e-09, 1.0], [1.0, 1.6322994e-09], [1.0, 5.4596832e-08], [0.9999997, 3.17607e-07], [1.2497284e-06, 0.99999875], [0.99996436, 3.5718993e-05], [3.1009133e-09, 1.0], [0.9960804, 0.0039195605], [1.0, 1.7206278e-10], [1.0, 4.6599055e-08], [0.99999845, 1.499519e-06], [1.600316e-11, 1.0], [2.724823e-06, 0.99999726], [3.4412637e-10, 1.0], [1.1836787e-09, 1.0], [1.4819241e-07, 0.9999998], [1.3105561e-07, 0.9999999], [7.4398683e-09, 1.0], [0.99998724, 1.2800256e-05], [4.1247566e-10, 1.0], [1.478025e-09, 1.0], [0.99998826, 1.1680114e-05], [0.9920081, 0.007991832], [9.163696e-06, 0.9999908], [0.30667043, 0.6933295], [1.0, 1.296354e-08], [1.0, 1.779796e-08], [1.0, 5.803985e-08], [2.1232873e-11, 1.0], [2.0299777e-07, 0.9999998], [1.0, 2.5203145e-10], [1.156013e-11, 1.0], [4.693203e-10, 1.0], [5.215245e-08, 1.0], [2.5938884e-09, 1.0], [0.9999987, 1.3646257e-06], [4.031296e-06, 0.999996], [3.1758132e-06, 0.9999968], [1.0, 6.8753954e-11], [1.0, 2.121705e-10], [0.9999959, 4.142985e-06], [3.3568714e-09, 1.0], [1.0, 2.502488e-09], [1.165397e-05, 0.9999884], [5.900773e-06, 0.9999941], [3.201594e-09, 1.0], [1.0, 3.2909362e-08], [1.0, 1.8253328e-09], [0.9999999, 1.4914792e-07], [1.0, 6.237182e-09], [0.0018370654, 0.9981629], [1.8828676e-10, 1.0], [1.0, 2.944615e-08], [5.79947e-06, 0.99999416], [1.0, 3.3536916e-11], [4.2736616e-08, 1.0], [1.0, 6.6838863e-09], [1.0, 3.8725423e-09], [1.0, 2.4249218e-08], [0.9947418, 0.0052581565], [0.9702383, 0.029761681], [2.6543474e-09, 1.0], [7.331891e-12, 1.0], [1.0, 4.3442654e-09], [1.5314323e-06, 0.99999845], [0.9999999, 1.9494937e-07], [0.99953365, 0.00046627113], [1.0, 8.52555e-08], [2.323388e-06, 0.9999978], [0.9999998, 1.5318066e-07], [1.0, 2.3415342e-10], [0.9999999, 2.0579414e-07], [5.339686e-06, 0.99999475], [1.0772372e-09, 1.0], [1.0, 4.2532267e-09], [4.084553e-07, 0.9999995], [1.0, 3.0329805e-10], [1.0, 1.7934626e-09], [0.9999917, 8.280547e-06], [0.010087481, 0.9899125], [1.0, 1.7176594e-08], [6.238058e-07, 0.9999994], [3.2710488e-14, 1.0], [3.270766e-09, 1.0], [6.9085876e-11, 1.0], [1.05669695e-10, 1.0], [1.0, 2.2692229e-08], [2.4872227e-08, 1.0], [1.0, 5.960518e-08], [1.0, 2.1889914e-08], [0.9999789, 2.1146257e-05], [0.99999964, 3.5470254e-07], [7.780128e-09, 1.0], [0.98459226, 0.015407724], [1.1452105e-11, 1.0], [0.999979, 2.1058953e-05], [0.99999857, 1.4965088e-06], [0.9999994, 6.7572466e-07], [0.45314842, 0.5468516], [0.99999714, 2.8368e-06], [1.8609194e-14, 1.0], [1.08628235e-08, 1.0], [1.9376428e-06, 0.9999981], [0.9999981, 1.8913108e-06], [7.2222138e-06, 0.99999285], [6.397596e-08, 1.0], [1.8395564e-10, 1.0], [4.7701567e-09, 1.0], [3.1974303e-09, 1.0], [2.9174936e-08, 1.0], [4.796866e-10, 1.0], [1.0, 5.287415e-11], [0.9999999, 1.4628895e-07], [1.0, 6.8302525e-10], [6.3067658e-09, 1.0], [1.60001e-07, 0.9999999], [1.0, 2.3609368e-09], [1.7400931e-06, 0.9999983], [1.13868116e-10, 1.0], [1.0, 2.9350176e-09], [8.938727e-09, 1.0], [1.0, 5.800702e-10], [0.9999999, 1.8676067e-07], [2.0773627e-09, 1.0], [1.0, 3.6709502e-09], [8.787883e-10, 1.0], [3.037254e-11, 1.0], [0.9999994, 4.823965e-07], [0.9999979, 2.0603409e-06], [1.0, 6.828409e-09], [0.9999999, 1.5908455e-07], [1.0, 1.0758602e-08], [0.9999999, 5.9474605e-08], [3.5536174e-10, 1.0], [1.0, 1.0365236e-09], [2.808348e-08, 1.0], [0.9999999, 1.6674406e-07], [0.9999973, 2.6846724e-06], [5.6551337e-11, 1.0], [0.9999997, 2.7426358e-07], [6.910726e-11, 1.0], [0.99999917, 8.523284e-07], [3.912431e-10, 1.0], [1.0838903e-07, 0.9999999], [2.3350951e-07, 0.9999998], [0.00044110595, 0.9995589], [0.016736988, 0.983263], [5.6338517e-11, 1.0], [5.487814e-06, 0.9999946], [5.3097715e-10, 1.0], [1.0, 5.026124e-09], [0.99999857, 1.4829184e-06], [1.0, 6.7882007e-09], [0.9999968, 3.251481e-06], [0.99819213, 0.0018079333], [5.7976802e-05, 0.999942], [1.0, 3.15617e-08], [1.0, 3.6239645e-09], [0.98103964, 0.018960413], [0.999894, 0.00010596344], [3.0689544e-09, 1.0], [1.0, 5.6844474e-10], [1.0, 5.7008627e-11], [0.027158331, 0.97284174], [1.0, 7.627546e-09], [1.4119792e-08, 1.0], [7.504991e-10, 1.0], [2.9776029e-08, 1.0], [1.2870531e-08, 1.0], [4.0133177e-09, 1.0], [1.0, 1.8857039e-08], [4.7313415e-06, 0.99999535], [2.4485172e-10, 1.0], [1.0, 3.7965073e-08], [0.030920703, 0.9690793], [1.8371927e-07, 0.9999998], [1.0, 6.081481e-11], [0.9999998, 1.8650721e-07], [2.129157e-11, 1.0], [4.0244748e-07, 0.99999964], [5.5092566e-09, 1.0], [1.0, 9.807842e-10], [1.0, 3.5196357e-10], [0.9999989, 1.0123362e-06], [1.2113152e-09, 1.0], [2.212144e-11, 1.0], [0.9999999, 1.2860929e-07], [1.546224e-08, 1.0], [0.9987073, 0.0012926309], [1.0, 9.350448e-10], [1.0, 9.7097645e-09], [3.5385353e-13, 1.0], [0.000518127, 0.9994818], [3.4156508e-10, 1.0], [1.4224283e-10, 1.0], [1.0, 1.156239e-10], [0.8826712, 0.11732887], [7.721448e-05, 0.99992275], [1.0, 2.9508795e-09], [1.6780086e-06, 0.9999983], [3.09002e-07, 0.9999997], [7.707109e-09, 1.0], [0.11201654, 0.8879835], [0.32390186, 0.67609817], [7.362364e-08, 1.0], [0.00017664321, 0.9998234], [0.99999905, 9.875406e-07], [0.8985182, 0.10148187], [1.1722614e-09, 1.0], [0.9995022, 0.0004977651], [7.804688e-05, 0.9999219], [0.02298626, 0.9770137], [7.411758e-11, 1.0], [1.0, 5.2067235e-12], [0.9999981, 1.8785116e-06], [0.99999696, 3.115732e-06], [1.0, 9.738146e-09], [6.9578e-09, 1.0], [5.02237e-09, 1.0], [0.9999995, 5.939588e-07], [1.0, 6.969462e-10], [1.0, 7.027367e-09], [1.0, 1.1383723e-08], [1.0, 1.169554e-09], [0.99999636, 3.6572285e-06], [1.0, 4.019844e-10], [1.0, 8.307974e-10], [2.5869604e-05, 0.99997413], [6.372535e-11, 1.0], [0.99999964, 4.4285125e-07], [2.6513169e-08, 1.0], [3.3178983e-07, 0.99999964], [1.0, 3.9055806e-08], [0.80722636, 0.19277361], [6.3313124e-08, 0.9999999], [0.9943592, 0.0056409086], [1.0, 1.2782845e-09], [0.99999446, 5.501183e-06], [1.0, 1.0117387e-08], [4.9700475e-09, 1.0], [0.00013322993, 0.99986666], [0.99999845, 1.5204764e-06], [1.0, 9.884662e-11], [1.731713e-11, 1.0], [0.00023055957, 0.9997695], [0.9999999, 1.2949228e-07], [1.0, 2.0352768e-10], [3.6045011e-09, 1.0], [1.0, 1.8278984e-09], [1.0, 7.507721e-11], [0.98934096, 0.010659], [5.03842e-07, 0.9999994], [0.99999964, 4.46162e-07], [1.0, 2.698347e-09], [0.9999897, 1.0241275e-05], [0.99999774, 2.3067685e-06], [2.175473e-11, 1.0], [1.0, 6.425513e-08], [3.014664e-08, 1.0], [1.0, 1.5141264e-08], [4.0367075e-07, 0.99999964], [2.3825368e-08, 1.0], [0.9999198, 8.019508e-05], [1.0046477e-06, 0.99999905], [1.5370436e-08, 1.0], [3.5503984e-09, 1.0], [7.576083e-07, 0.9999992], [0.9994847, 0.00051531434], [1.0012003e-07, 1.0], [1.538385e-11, 1.0], [1.0, 1.7784653e-10], [6.342751e-09, 1.0], [6.2616734e-09, 1.0], [4.6625024e-07, 0.9999995], [1.091474e-11, 1.0], [0.9998797, 0.00012024576], [1.4507923e-06, 0.9999987], [1.0, 7.79022e-11], [0.061757885, 0.9382421], [1.9151655e-07, 0.9999998], [1.0, 1.3836021e-10], [2.459162e-10, 1.0], [1.0, 3.458189e-09], [1.8545436e-11, 1.0], [0.0022239387, 0.99777603], [0.9999998, 2.7439097e-07], [1.0, 3.6679882e-08], [7.738746e-08, 0.9999999], [2.1276437e-08, 1.0], [4.2231e-08, 1.0], [1.5660973e-09, 1.0], [4.674843e-12, 1.0], [1.0, 1.035914e-08], [1.2613047e-07, 0.9999999], [0.0005373932, 0.9994626], [3.0708902e-06, 0.99999696], [1.0, 3.750431e-09], [1.0, 1.5694887e-08], [1.0, 4.139533e-09], [2.0058393e-09, 1.0], [1.3012617e-09, 1.0], [0.00022053563, 0.9997794], [3.5733883e-06, 0.9999965], [1.3708623e-10, 1.0], [1.0, 2.4268449e-08], [0.9999984, 1.6565584e-06], [0.99998856, 1.1404429e-05], [1.2298179e-07, 0.9999999], [1.0, 1.20127455e-08], [5.4565637e-05, 0.99994546], [1.3676652e-08, 1.0], [3.367211e-07, 0.9999997], [0.99999964, 3.826329e-07], [1.0, 3.5484363e-10], [3.7406842e-10, 1.0], [1.0199869e-10, 1.0], [1.0, 2.8028216e-10], [1.0, 4.9617462e-08], [7.27281e-08, 1.0], [7.5442426e-06, 0.99999255], [1.0, 4.409263e-09], [0.9999999, 9.39019e-08], [0.07565292, 0.92434704], [0.9999999, 1.4283746e-07], [0.9999999, 1.1107744e-07], [0.99998665, 1.3344087e-05], [1.0, 3.937118e-09], [1.1508189e-07, 1.0], [0.99964607, 0.00035387976], [4.925101e-07, 0.9999995], [0.99999845, 1.4625914e-06], [0.9999999, 1.0217677e-07], [0.0070363604, 0.9929637], [4.506104e-08, 1.0], [3.8292704e-08, 1.0], [2.6642377e-07, 0.9999997], [1.6162122e-08, 1.0], [4.2157894e-10, 1.0], [0.99999964, 4.153926e-07], [0.9999999, 1.2110628e-07], [1.15247666e-07, 0.9999999], [2.509868e-08, 1.0], [3.9719428e-09, 1.0], [1.0, 3.20535e-08], [1.0, 1.9293342e-08], [0.9659585, 0.034041412], [0.9999994, 5.568848e-07], [0.9999998, 2.3017643e-07], [1.0, 7.3898305e-09], [7.997114e-05, 0.99992], [1.9879534e-08, 1.0], [1.5474835e-07, 0.9999998], [0.0022256759, 0.9977743], [1.6741832e-11, 1.0], [4.5621537e-06, 0.9999955], [2.0023502e-10, 1.0], [3.072875e-08, 1.0], [0.9999997, 3.3577754e-07], [1.0, 1.5502008e-10], [0.9999809, 1.8966928e-05], [1.0340566e-07, 1.0], [1.3664431e-06, 0.99999857], [0.9999237, 7.6371914e-05], [1.1207959e-05, 0.99998885], [8.519418e-08, 1.0], [1.0, 5.6877604e-13], [1.0, 2.1775668e-09], [1.0, 1.7578452e-09], [1.0, 2.2720851e-08], [3.53883e-07, 0.99999964], [3.1516312e-10, 1.0], [0.9999987, 1.4152637e-06], [1.0, 2.0334638e-09], [2.5210178e-11, 1.0], [0.98473006, 0.015269925], [9.7851625e-08, 0.9999999], [1.0, 4.994562e-09], [0.9999999, 1.55285e-07], [1.0, 1.9657183e-10], [2.322946e-08, 1.0], [1.0, 2.1456412e-08], [1.0, 1.9562945e-08], [1.0, 1.0024048e-08], [1.0, 3.661874e-08], [1.0, 6.0073253e-12], [3.0769556e-10, 1.0], [1.0, 1.31317535e-08], [4.6860665e-11, 1.0], [0.9724476, 0.02755248], [1.0, 2.2307123e-08], [0.0040151, 0.9959849], [2.8556493e-05, 0.9999714], [5.896625e-09, 1.0], [0.99999917, 8.8663035e-07], [0.99999046, 9.544777e-06], [0.6024876, 0.39751238], [3.4382764e-11, 1.0], [0.89311713, 0.106882945], [1.0, 5.086962e-10], [1.7265763e-12, 1.0], [0.99999875, 1.1354131e-06], [0.9999999, 7.754882e-08], [1.0, 2.1488725e-10], [1.0, 1.971202e-11], [1.0, 1.3320589e-09], [8.970994e-10, 1.0], [0.9999999, 1.3202677e-07], [3.626589e-10, 1.0], [4.4356234e-11, 1.0], [0.99999934, 6.7749926e-07], [4.76826e-11, 1.0], [1.0770528e-09, 1.0], [9.313223e-07, 0.9999989], [0.99999696, 3.0544754e-06], [1.0, 1.7250146e-10], [1.0, 1.7699504e-08], [1.5292637e-06, 0.99999845], [1.0, 1.2617147e-07], [1.0, 4.26725e-09], [1.263805e-09, 1.0], [2.0207577e-07, 0.9999998], [1.0, 3.4645637e-08], [8.3389884e-10, 1.0], [1.0, 4.2940833e-09], [2.0390058e-08, 1.0], [1.4359792e-07, 0.9999999], [0.999998, 1.9839313e-06], [0.9999933, 6.6137422e-06], [0.9999998, 2.1260891e-07], [1.0, 7.244945e-09], [9.771576e-11, 1.0], [3.9226783e-05, 0.9999607], [5.4574045e-10, 1.0], [1.5067756e-12, 1.0], [1.0, 1.3881302e-08], [0.9999989, 1.0470677e-06], [4.0363618e-10, 1.0], [2.475025e-08, 1.0], [9.2131724e-09, 1.0], [3.7769048e-06, 0.9999963], [7.431523e-05, 0.9999256], [3.6332683e-08, 1.0], [5.2747913e-09, 1.0], [4.0926854e-05, 0.9999591], [0.9998741, 0.00012587833], [7.942581e-06, 0.9999922], [1.3011585e-10, 1.0], [1.8858944e-10, 1.0], [4.014075e-10, 1.0], [3.634879e-08, 1.0], [0.99999857, 1.3690035e-06], [1.0, 3.149959e-08], [1.0, 2.2115274e-09], [0.99999696, 3.064136e-06], [4.2103747e-09, 1.0], [4.293766e-06, 0.9999957], [1.0, 6.8112975e-08], [6.236487e-13, 1.0], [1.0595666e-06, 0.9999989], [6.0433194e-06, 0.999994], [0.9998048, 0.00019520531], [1.0, 6.2532736e-11], [2.7627807e-06, 0.99999726], [1.6271795e-08, 1.0], [9.0323304e-12, 1.0], [3.245464e-06, 0.9999968], [0.9999983, 1.7357085e-06], [0.9453136, 0.054686446], [0.9999469, 5.313685e-05], [0.0050753676, 0.99492466], [1.241916e-07, 0.9999999], [0.99999654, 3.4058116e-06], [5.211941e-09, 1.0], [4.1158902e-08, 1.0], [1.0, 1.4254248e-09], [8.009464e-07, 0.9999992], [1.7018713e-06, 0.9999984], [1.0, 7.03133e-08], [8.5629316e-11, 1.0], [0.9973744, 0.0026255501], [1.0, 5.3198174e-10], [2.8339548e-08, 1.0], [1.0, 2.0948199e-09], [6.271786e-10, 1.0], [0.9999997, 3.4634994e-07], [3.9481688e-07, 0.99999964], [0.96901274, 0.030987177], [0.99999934, 6.088244e-07], [0.99965936, 0.0003406699], [1.1166098e-09, 1.0], [4.4885047e-11, 1.0], [1.0, 2.0766219e-08], [1.0, 1.6553821e-10], [9.5697564e-12, 1.0], [2.9619585e-10, 1.0], [5.0550486e-10, 1.0], [1.0, 3.8617016e-09], [0.005386633, 0.99461335], [1.1192023e-10, 1.0], [4.709001e-06, 0.99999535], [0.9999999, 7.684479e-08], [0.97219384, 0.027806168], [6.844267e-06, 0.99999315], [9.120746e-08, 0.9999999], [1.0, 1.9549471e-08], [0.99999964, 4.33935e-07], [1.0, 2.9350293e-08], [0.9999946, 5.418883e-06], [2.0645803e-06, 0.999998], [0.9999989, 1.0672107e-06], [3.592519e-10, 1.0], [0.9773914, 0.022608545], [1.3051233e-08, 1.0], [1.0, 3.640867e-08], [1.0, 2.6632065e-08], [0.99998987, 1.0106365e-05], [1.825162e-10, 1.0], [3.3693681e-09, 1.0], [1.0, 4.2357e-12], [1.0, 2.0146365e-08], [0.9999999, 6.177744e-08], [1.0, 1.8169455e-09], [1.0, 8.2555296e-10], [1.6247269e-07, 0.9999998], [1.0, 5.299054e-11], [1.0, 6.033103e-08], [6.266829e-08, 1.0], [0.00039890938, 0.99960107], [1.0, 1.759102e-08], [1.0, 5.8768734e-10], [0.6802772, 0.31972283], [4.4342042e-07, 0.9999995], [1.0, 3.8247954e-08], [2.571531e-07, 0.9999997], [2.0004711e-09, 1.0], [6.1548593e-07, 0.9999994], [1.0404997e-06, 0.9999989], [0.9999341, 6.591391e-05], [1.3548307e-09, 1.0], [1.1705807e-09, 1.0], [0.9999984, 1.6673064e-06], [1.0256372e-09, 1.0], [1.0, 1.3805216e-08], [0.70290446, 0.2970955], [2.7121628e-06, 0.9999973], [1.220145e-11, 1.0], [0.9999981, 1.9688912e-06], [4.896384e-09, 1.0], [1.2053979e-08, 1.0], [0.99999917, 8.422605e-07], [0.9999999, 6.7533406e-08], [0.9901409, 0.009859068], [1.1634587e-05, 0.9999884], [1.0, 1.5950408e-09], [0.0012755557, 0.99872434], [1.3292423e-06, 0.9999987], [2.3245095e-11, 1.0], [2.1251378e-10, 1.0], [2.3788285e-08, 1.0], [0.99999684, 3.1789677e-06], [0.9999998, 2.4049277e-07], [1.0, 1.5287878e-10], [1.0, 1.9890796e-09], [0.9999999, 1.3579418e-07], [1.6696693e-05, 0.9999832], [3.8478287e-09, 1.0], [0.9999995, 4.6273036e-07], [0.9468595, 0.053140562], [0.99999887, 1.1843292e-06], [1.0, 4.2533227e-10], [1.0, 5.777565e-10], [2.5172434e-10, 1.0], [0.9999763, 2.3709214e-05], [8.027734e-09, 1.0], [5.9034994e-07, 0.9999994], [1.0, 1.2689577e-08], [0.86272657, 0.13727345], [1.2611208e-08, 1.0], [2.8967639e-08, 1.0], [1.0, 4.9604887e-10], [3.2381375e-09, 1.0], [0.9999987, 1.369643e-06], [1.0, 5.6231997e-09], [7.373212e-11, 1.0], [0.9999983, 1.7105492e-06], [1.0, 2.672593e-09], [0.9999997, 3.7060724e-07], [2.6571073e-11, 1.0], [0.9938728, 0.006127135], [6.505876e-08, 1.0], [1.0, 4.232703e-09], [1.6412347e-12, 1.0], [1.0, 2.1422732e-08], [1.0, 1.8290661e-08], [0.99999917, 8.994999e-07], [1.0, 1.2200336e-08], [1.0, 1.7404429e-12], [1.0, 4.2366484e-09], [4.1958894e-09, 1.0], [1.0, 3.426365e-10], [1.1578298e-07, 0.9999999], [7.618368e-10, 1.0], [0.99999964, 4.4783806e-07], [0.9999727, 2.7216196e-05], [3.838565e-09, 1.0], [6.8978157e-11, 1.0], [1.6686496e-08, 1.0], [7.628394e-10, 1.0], [2.6227205e-09, 1.0], [0.9999998, 2.3588082e-07], [1.688532e-10, 1.0], [1.4754906e-09, 1.0], [3.465955e-07, 0.99999964], [0.9823955, 0.017604446], [0.999998, 2.0896073e-06], [1.0893354e-08, 1.0], [3.1135252e-05, 0.9999689], [1.0, 8.1374507e-10], [1.0, 3.3899e-09], [1.0, 4.0594723e-09], [1.988556e-10, 1.0], [1.0, 7.632585e-09], [1.0, 4.36209e-14], [8.2312485e-10, 1.0], [0.99931943, 0.0006805229], [6.230633e-09, 1.0], [1.0, 3.6133485e-09], [1.8806208e-09, 1.0], [1.0, 1.2572821e-09], [0.9999728, 2.7127986e-05], [3.3607805e-09, 1.0], [2.860764e-05, 0.9999714], [1.0, 3.8849262e-12], [1.8170378e-07, 0.9999999], [0.00010070783, 0.99989927], [1.0, 3.5383874e-10], [1.0079807e-06, 0.9999989], [8.733027e-11, 1.0], [1.0, 3.721193e-09], [7.734825e-09, 1.0], [8.5802395e-07, 0.99999917], [1.3452558e-07, 0.9999999], [3.028432e-08, 1.0], [9.901589e-12, 1.0], [0.8492196, 0.1507804], [0.75039226, 0.24960783], [2.0629113e-12, 1.0], [1.7912165e-06, 0.9999982], [1.0, 2.4123114e-08], [9.584775e-12, 1.0], [0.99998885, 1.1145108e-05], [1.1783885e-09, 1.0], [1.0, 1.5376414e-10], [1.3750538e-07, 0.9999999], [0.99999917, 8.343683e-07], [0.99999964, 3.063663e-07], [2.1071341e-07, 0.9999998], [1.3377409e-10, 1.0], [1.0, 3.9939234e-09], [7.834674e-10, 1.0], [3.2937336e-07, 0.9999997], [2.2271049e-08, 1.0], [1.398252e-13, 1.0], [1.0460001e-08, 1.0], [0.99997807, 2.1984819e-05], [8.8556603e-13, 1.0], [0.9999984, 1.5535066e-06], [1.0, 6.3099157e-09], [0.99999964, 3.6633193e-07], [1.0, 4.9931998e-08], [0.9999992, 7.061725e-07], [1.865332e-10, 1.0], [2.3623024e-09, 1.0], [1.0, 2.2720281e-09], [3.25003e-09, 1.0], [1.0, 1.1620093e-09], [1.2792208e-10, 1.0], [1.0, 4.6808557e-09], [4.436542e-07, 0.99999964], [3.2407424e-08, 1.0], [0.99991, 9.0009235e-05], [1.0, 2.4863547e-09], [1.0, 6.4946737e-12], [0.99999857, 1.3940809e-06], [4.4444545e-10, 1.0], [0.7797309, 0.22026905], [2.9740536e-07, 0.9999997], [1.0, 2.8585265e-09], [1.0, 2.6205356e-09], [2.7153128e-12, 1.0], [2.0782024e-06, 0.9999979], [1.0, 7.0589634e-10], [0.99999917, 8.8257514e-07], [0.9999924, 7.630027e-06], [4.4674257e-11, 1.0], [1.0, 7.042787e-10], [2.0292328e-10, 1.0], [1.0, 4.908376e-08], [1.0, 1.1724934e-09], [4.3330356e-08, 1.0], [0.99948156, 0.0005183703], [1.0, 1.5427901e-13], [7.538922e-08, 1.0], [2.0495869e-10, 1.0], [1.0, 1.7466775e-11], [4.285236e-09, 1.0], [0.0008608495, 0.9991392], [0.9999987, 1.3816107e-06], [0.9999997, 3.4491723e-07], [0.9999983, 1.7121035e-06], [1.3522424e-08, 1.0], [0.99999344, 6.6298853e-06], [1.0, 1.9603714e-08], [1.7428615e-10, 1.0], [2.8650252e-06, 0.99999714], [0.99999964, 4.4514778e-07], [1.2095157e-07, 0.9999999], [4.4357506e-07, 0.9999995], [1.6039877e-08, 1.0], [0.99999124, 8.874479e-06], [9.300054e-11, 1.0], [5.1483833e-13, 1.0], [1.0, 2.70877e-08], [0.99998254, 1.7448987e-05], [1.0, 9.6105957e-11], [9.741751e-08, 0.9999999], [2.0579189e-07, 0.9999998], [1.9862705e-09, 1.0], [1.0, 3.4356558e-09], [0.9759409, 0.024059173], [1.8986004e-05, 0.99998105], [2.0039794e-09, 1.0], [9.683995e-09, 1.0], [1.1118411e-09, 1.0], [1.0, 5.9139404e-09], [8.72854e-12, 1.0], [1.0, 7.630798e-09], [1.0, 5.8780922e-09], [1.4836084e-08, 1.0], [1.0, 3.480948e-11], [1.0, 8.6565324e-11], [8.75019e-09, 1.0], [0.0020362372, 0.9979637], [1.0, 3.233979e-08], [1.386557e-06, 0.99999857], [2.3540382e-13, 1.0], [8.8025146e-08, 0.9999999], [1.4589711e-11, 1.0], [0.9999968, 3.2549494e-06], [5.2484555e-11, 1.0], [0.9999995, 5.181806e-07], [2.9552055e-08, 1.0], [5.777718e-11, 1.0], [8.606773e-10, 1.0], [1.0303145e-10, 1.0], [0.99999905, 9.306329e-07], [2.9326056e-06, 0.999997], [1.1575898e-11, 1.0], [1.6493374e-08, 1.0], [2.3697548e-13, 1.0], [1.0, 3.4624967e-09], [6.135931e-08, 1.0], [1.14213826e-10, 1.0], [2.0918958e-10, 1.0], [0.9999999, 9.1884985e-08], [0.9999992, 8.314093e-07], [1.202792e-06, 0.99999875], [5.5473605e-11, 1.0], [3.3444994e-06, 0.99999654], [2.0916518e-07, 0.9999999], [2.5280376e-09, 1.0], [1.0, 2.8028746e-08], [0.00024893557, 0.9997511], [0.9999585, 4.1399097e-05], [1.4457885e-08, 1.0], [0.9870666, 0.012933405], [2.7821773e-10, 1.0], [1.0, 3.2079768e-08], [0.98793095, 0.0120691005], [0.9999999, 1.5364255e-07], [0.9717983, 0.028201735], [0.9999999, 7.0480255e-08], [1.6655972e-13, 1.0], [5.0868763e-05, 0.9999491], [2.0487403e-10, 1.0], [0.99999774, 2.2937086e-06], [0.9999997, 3.1459217e-07], [1.826731e-09, 1.0], [2.0378705e-08, 1.0], [1.0, 1.0655223e-08], [0.9999998, 2.2566391e-07], [3.382954e-09, 1.0], [0.99999315, 6.9393573e-06], [2.631634e-10, 1.0], [0.00038745438, 0.9996125], [9.171515e-12, 1.0], [0.99998426, 1.5779122e-05], [1.0, 1.9260142e-09], [2.2197491e-12, 1.0], [0.99993247, 6.740859e-05], [0.999983, 1.6949429e-05], [0.8431323, 0.15686767], [2.3787633e-11, 1.0], [1.0790885e-06, 0.9999989], [1.0, 1.3838867e-09], [1.5140003e-08, 1.0], [2.543457e-06, 0.9999975], [2.985754e-10, 1.0], [5.5449283e-07, 0.9999994], [1.0, 3.8388226e-09], [1.0, 1.3225095e-09], [0.99999106, 8.931828e-06], [1.0, 6.3793704e-10], [8.4908365e-08, 1.0], [1.04343464e-10, 1.0], [3.395878e-08, 1.0], [7.881471e-09, 1.0], [3.657037e-06, 0.99999636], [9.527338e-11, 1.0], [2.1305906e-09, 1.0], [0.9999997, 3.3286375e-07], [1.0, 4.946561e-11], [2.5838108e-05, 0.99997413], [1.0, 7.990154e-09], [1.0, 8.197233e-09], [0.9986234, 0.0013764813], [1.06260395e-05, 0.99998933], [0.9999983, 1.7143982e-06], [1.1319603e-07, 0.9999999], [2.6106561e-11, 1.0], [6.138493e-10, 1.0], [1.0, 2.2515594e-10], [1.03996256e-10, 1.0], [3.3000287e-08, 1.0], [0.00013802409, 0.999862], [1.0, 5.182405e-08], [0.00033197313, 0.999668], [5.4736935e-09, 1.0], [1.6174326e-09, 1.0], [0.013665123, 0.9863349], [0.9999998, 1.4797523e-07], [1.2837596e-08, 1.0], [1.0, 8.5282226e-10], [1.0, 4.1508012e-11], [2.6184424e-12, 1.0], [0.92640674, 0.073593274], [1.0, 1.6460383e-08], [4.5657153e-10, 1.0], [1.0, 9.561148e-11], [1.3476494e-09, 1.0], [5.803583e-10, 1.0], [1.0, 5.2235455e-10], [4.152681e-09, 1.0], [3.5643892e-09, 1.0], [0.9999994, 5.2444983e-07], [0.9997519, 0.0002481265], [1.0, 3.9303547e-09], [1.0, 7.4362583e-09], [0.0022604098, 0.9977397], [1.0, 3.9779994e-08], [5.4423293e-07, 0.9999994], [0.9986521, 0.0013479473], [1.0, 1.15420535e-08], [1.0, 2.9105973e-09], [1.0, 5.4436367e-08], [1.9878084e-06, 0.9999979], [2.6235046e-08, 1.0], [0.8088094, 0.19119051], [9.519291e-12, 1.0], [1.4620389e-06, 0.99999857], [3.381758e-07, 0.9999997], [1.0, 5.8140887e-10], [1.0, 3.554228e-08], [2.3797106e-06, 0.99999774], [2.8926916e-06, 0.99999714], [1.0, 5.111357e-09], [1.0, 1.4338812e-09], [1.0, 2.5295881e-08], [1.0, 3.9540364e-08], [1.9013655e-07, 0.9999998], [1.0, 5.170468e-09], [1.2757931e-10, 1.0], [9.798223e-12, 1.0], [0.99997485, 2.518547e-05], [1.0, 1.7498449e-08], [2.259829e-06, 0.9999978], [1.3068871e-11, 1.0], [3.5030964e-05, 0.9999649], [6.982101e-07, 0.99999934], [1.0839725e-10, 1.0], [0.9999994, 4.5934706e-07], [3.4724025e-13, 1.0], [2.7751295e-09, 1.0], [1.7023192e-11, 1.0], [0.9999949, 5.2247674e-06], [0.9999979, 2.0764594e-06], [4.2696437e-11, 1.0], [0.9999359, 6.409866e-05], [1.9933816e-06, 0.999998], [6.9077566e-10, 1.0], [6.087164e-08, 1.0], [1.0, 5.142629e-08], [6.934232e-09, 1.0], [8.870984e-10, 1.0], [0.99435663, 0.0056433626], [4.916469e-12, 1.0], [1.0, 5.9046323e-09], [2.0134613e-11, 1.0], [5.89266e-08, 1.0], [2.4172766e-11, 1.0], [0.9999999, 1.1993981e-07], [1.0, 3.3368206e-08], [1.0, 7.749853e-10], [3.842656e-09, 1.0], [0.9999205, 7.951165e-05], [6.522493e-09, 1.0], [0.99999964, 4.5913362e-07], [3.0669998e-08, 1.0], [1.0, 3.6097247e-09], [1.0, 1.8890582e-10], [6.1516957e-06, 0.9999938], [1.0429174e-10, 1.0], [1.0, 3.5625067e-09], [0.99999905, 9.3695405e-07], [1.0, 4.779853e-08], [2.6108654e-10, 1.0], [0.6948276, 0.30517238], [1.0, 3.867673e-09], [1.4972808e-12, 1.0], [0.9999696, 3.044495e-05], [1.6604668e-09, 1.0], [1.0, 2.596118e-08], [2.7291712e-06, 0.9999973], [1.0, 5.1941434e-08], [0.9999975, 2.4543338e-06], [1.0, 4.4834292e-10], [1.0, 3.6787628e-10], [2.7589155e-07, 0.9999997], [0.9999978, 2.224862e-06], [0.9998886, 0.00011139194], [1.0, 8.7749354e-09], [1.0, 8.07424e-10], [1.1520212e-08, 1.0], [1.0, 1.4710926e-08], [9.984354e-09, 1.0], [4.6727955e-08, 1.0], [0.9965008, 0.003499214], [1.0, 2.4580647e-11], [9.103188e-05, 0.99990904], [0.18928838, 0.8107117], [4.6498485e-08, 1.0], [3.038631e-10, 1.0], [1.03342765e-10, 1.0], [1.5138017e-08, 1.0], [1.0, 4.4704016e-08], [1.0, 1.1642314e-08], [0.9999987, 1.3729316e-06], [1.0, 1.7730868e-09], [0.9999999, 2.0326532e-07], [0.99999964, 3.5510897e-07], [6.084585e-10, 1.0], [3.4116997e-07, 0.99999964], [5.324147e-07, 0.9999995], [1.0, 1.676387e-08], [0.998947, 0.0010529881], [1.4931067e-11, 1.0], [0.9999987, 1.3571758e-06], [2.8513855e-10, 1.0], [1.0, 1.866024e-09], [9.431347e-11, 1.0], [0.999601, 0.0003990024], [0.99997866, 2.1399228e-05], [3.1855123e-09, 1.0], [6.5313166e-10, 1.0], [1.0, 2.5776624e-08], [0.999975, 2.4979297e-05], [1.5011249e-06, 0.99999845], [1.7311542e-07, 0.9999998], [1.0, 1.1140708e-08], [1.0, 1.8591901e-08], [1.0, 6.828229e-08], [9.475463e-06, 0.99999046], [8.30778e-10, 1.0], [1.0, 8.1670215e-10], [1.0, 2.1080933e-10], [0.00039814514, 0.99960184], [0.9999999, 1.4448176e-07], [6.6429376e-11, 1.0], [4.7175786e-07, 0.9999995], [0.9999997, 2.7417397e-07], [0.9999995, 4.4637517e-07], [0.9999979, 2.1808978e-06], [0.0005911444, 0.9994089], [1.0880743e-09, 1.0], [0.9999997, 3.6446175e-07], [1.0, 7.4151216e-13], [0.99863595, 0.0013640777], [0.9999811, 1.8933397e-05], [1.4537946e-07, 0.9999999], [0.9999997, 3.0752705e-07], [1.0, 3.931799e-12], [1.0, 2.6543393e-08], [5.0323713e-08, 1.0], [6.2291676e-08, 1.0], [1.0, 1.6231088e-09], [3.6665497e-09, 1.0], [5.0478432e-12, 1.0], [1.8135079e-09, 1.0], [0.99999297, 7.1368813e-06], [5.553404e-10, 1.0], [1.0, 4.8077333e-09], [1.3710744e-10, 1.0], [1.0, 2.4574385e-09], [1.0, 6.3134653e-10], [1.0, 1.1516951e-08], [1.0, 1.1950076e-09], [1.330316e-05, 0.99998665], [1.0, 2.902197e-08], [1.3918556e-08, 1.0], [2.2001288e-07, 0.9999998], [5.974054e-08, 1.0], [1.5854736e-06, 0.99999845], [5.606752e-10, 1.0], [2.0045152e-06, 0.999998], [7.452405e-10, 1.0], [1.0, 1.2484518e-09], [1.301416e-06, 0.9999987], [1.0, 3.2374738e-09], [0.8281628, 0.17183718], [0.0006940711, 0.999306], [0.052355416, 0.9476446], [1.7791835e-07, 0.9999999], [1.911615e-07, 0.9999998], [1.0, 4.3827594e-10], [1.0, 1.2917548e-08], [1.259349e-06, 0.99999875], [1.0, 2.2469326e-08], [4.5336943e-08, 1.0], [1.7534418e-07, 0.9999998], [1.3679618e-11, 1.0], [1.5437931e-07, 0.9999999], [0.0010145833, 0.9989854], [0.9999998, 2.5491883e-07], [0.99997616, 2.391089e-05], [1.0245731e-09, 1.0], [7.288278e-07, 0.99999934], [0.8609646, 0.13903539], [0.9999812, 1.8766008e-05], [2.4446072e-06, 0.9999975], [3.0146753e-11, 1.0], [0.9999962, 3.8767803e-06], [0.9989797, 0.0010203331], [1.0, 3.9072127e-11], [0.9999999, 7.544305e-08], [1.0, 3.2088168e-09], [6.131651e-08, 1.0], [2.417484e-11, 1.0], [0.99998343, 1.6653483e-05], [0.99999845, 1.4709789e-06], [0.9999998, 2.3284869e-07], [1.0, 1.3084164e-08], [0.0030514733, 0.9969484], [0.9999994, 6.024944e-07], [0.99999964, 4.274877e-07], [1.0, 1.4938554e-08], [1.0, 1.3373966e-08], [4.2087603e-07, 0.9999995], [1.0, 3.8174126e-09], [0.9842682, 0.015731867], [0.9995545, 0.0004454711], [0.00046293583, 0.9995371], [2.5591862e-09, 1.0], [0.99969614, 0.00030381075], [1.0, 8.419231e-10], [2.4436828e-09, 1.0], [1.0, 5.4772364e-08], [5.836018e-06, 0.99999416], [0.91354007, 0.08645997], [2.7515806e-11, 1.0], [4.854154e-11, 1.0], [3.0331826e-08, 1.0], [1.0, 1.0255944e-09], [0.9996764, 0.00032348628], [0.9970495, 0.0029505482], [4.422227e-05, 0.9999558], [1.8782527e-09, 1.0], [0.5258291, 0.47417083], [1.6220203e-05, 0.9999838], [1.207562e-07, 1.0], [1.0, 7.818275e-09], [2.8042072e-08, 1.0], [1.39884175e-08, 1.0], [0.99999857, 1.4565242e-06], [0.99999964, 3.493446e-07], [0.99451506, 0.005485001], [1.0, 4.7394444e-08], [2.104514e-12, 1.0], [7.84538e-08, 1.0], [0.9976522, 0.0023479336], [1.0, 4.9528465e-11], [1.0, 2.8391867e-09], [1.0, 1.0303794e-09], [0.00012775516, 0.9998723], [0.17923562, 0.82076436], [0.9999992, 7.8871045e-07], [1.0, 2.8293146e-09], [2.5299549e-05, 0.9999747], [1.0, 8.9977206e-11], [0.99999964, 4.1423786e-07], [6.527399e-07, 0.99999934], [0.9999757, 2.4321329e-05], [1.8988113e-07, 0.9999999], [1.0, 2.9218856e-09], [4.0767922e-09, 1.0], [1.0, 2.3498175e-09], [6.4006717e-10, 1.0], [1.0, 1.3482009e-09], [0.00043854763, 0.9995614], [1.9431683e-09, 1.0], [4.429998e-08, 1.0], [1.0, 1.0075729e-09], [3.3866723e-08, 1.0], [0.9999994, 6.214026e-07], [2.0393522e-08, 1.0], [3.1994969e-06, 0.9999968], [1.0, 8.916372e-09], [0.00038472904, 0.9996153], [1.0227136e-10, 1.0], [0.9999956, 4.318025e-06], [2.2948757e-10, 1.0], [0.9999644, 3.55649e-05], [7.441341e-12, 1.0], [1.7175099e-09, 1.0], [1.2028817e-10, 1.0], [1.0, 6.220547e-08], [2.2425369e-05, 0.9999776], [9.554985e-07, 0.99999905], [1.0, 3.3658623e-08], [0.9999999, 5.79653e-08], [7.602781e-09, 1.0], [0.98503363, 0.0149664115], [2.3453878e-10, 1.0], [1.0, 1.6448519e-08], [2.0860983e-11, 1.0], [1.0, 2.6065874e-10], [0.9995327, 0.0004672502], [3.743496e-11, 1.0], [2.1807414e-09, 1.0], [1.0, 1.262313e-08], [2.2467651e-11, 1.0], [1.2154478e-08, 1.0], [5.2329927e-08, 1.0], [1.0192936e-08, 1.0], [3.099012e-09, 1.0], [1.0, 5.8570695e-09], [1.0, 3.8388226e-09], [1.3620763e-09, 1.0], [0.99999964, 4.1869998e-07], [2.5260913e-08, 1.0], [1.4297132e-07, 0.9999998], [0.9999935, 6.482666e-06], [0.9404127, 0.059587277], [3.431665e-09, 1.0], [0.009383956, 0.990616], [1.0, 1.7128331e-10], [1.0, 9.440336e-09], [1.1906818e-09, 1.0], [2.6363522e-11, 1.0], [0.00020060805, 0.9997994], [0.99988794, 0.00011205433], [1.083311e-10, 1.0], [4.708611e-08, 1.0], [0.5115653, 0.4884347], [9.612734e-11, 1.0], [1.997014e-09, 1.0], [2.5489717e-05, 0.99997455], [1.0, 3.2959893e-10], [0.9967886, 0.003211436], [0.23030272, 0.76969725], [4.1191018e-12, 1.0], [2.9944356e-11, 1.0], [0.9999806, 1.9307296e-05], [1.0, 4.9463156e-10], [0.99999887, 1.176694e-06], [0.99999917, 8.8656554e-07], [3.6624797e-08, 1.0], [3.5802964e-06, 0.99999636], [0.9940225, 0.0059775375], [0.99998456, 1.5514857e-05], [1.0, 4.0147583e-09], [1.0, 1.4846673e-11], [1.0, 2.4220114e-08], [0.99997103, 2.910624e-05], [1.0, 2.0754504e-11], [0.9999999, 1.1051795e-07], [3.192685e-08, 1.0], [0.9999421, 5.7851703e-05], [1.0, 5.6798472e-11], [1.0, 3.5838532e-10], [0.0002494427, 0.9997506], [1.0, 6.839482e-09], [0.999949, 5.100994e-05], [0.9998301, 0.00016992881], [1.3468951e-10, 1.0], [1.0, 2.3289667e-10], [0.99999034, 9.6595795e-06], [1.0, 3.637858e-09], [1.0, 1.3647058e-10], [0.9999992, 7.1216766e-07], [1.0, 3.7238856e-08], [9.014433e-07, 0.99999905], [0.52921426, 0.4707857], [6.7878443e-07, 0.99999934], [1.0, 1.1133485e-08], [1.8712137e-05, 0.9999813], [0.004370248, 0.99562967], [1.0, 1.610481e-08], [1.0, 2.1207913e-10], [0.9999999, 6.220444e-08], [1.09154866e-10, 1.0], [5.0211024e-10, 1.0], [2.3048993e-11, 1.0], [0.99999964, 4.7150473e-07], [7.5160336e-11, 1.0], [1.0, 3.968335e-12], [0.9999997, 3.0432835e-07], [0.99999964, 3.615525e-07], [1.0, 2.7242951e-08], [2.4786366e-09, 1.0], [1.0, 1.6158758e-08], [5.896229e-12, 1.0], [1.0, 3.0273134e-13], [1.0, 1.7872457e-08], [0.99999046, 9.513321e-06], [1.0, 1.2283541e-08], [1.0, 1.5968181e-10], [3.0074176e-07, 0.9999997], [1.1183064e-11, 1.0], [1.1078355e-05, 0.9999889], [0.99826306, 0.0017369507], [5.2313153e-05, 0.99994767], [2.1717202e-05, 0.99997824], [0.0006377143, 0.99936235], [7.648683e-08, 0.9999999], [1.7137838e-08, 1.0], [0.9999932, 6.715976e-06], [2.1991531e-10, 1.0], [4.137914e-09, 1.0], [0.00017445492, 0.9998256], [8.094653e-14, 1.0], [4.9041315e-10, 1.0], [2.5001446e-08, 1.0], [1.0, 5.067506e-10], [0.99999964, 3.5085463e-07], [1.0, 9.949235e-10], [2.2133765e-06, 0.9999978], [5.42389e-07, 0.9999995], [1.9143033e-07, 0.9999999], [7.6543336e-05, 0.9999234], [1.0, 2.792108e-10], [0.00013247269, 0.99986744], [1.6279654e-10, 1.0], [1.0, 1.6262923e-08], [0.9999965, 3.4626785e-06], [1.0, 3.2863572e-09], [0.99999917, 7.659525e-07], [1.0, 1.0720329e-08], [1.0, 5.8103033e-10], [0.9392702, 0.06072989], [7.611817e-09, 1.0], [4.8343527e-08, 1.0], [2.2267163e-10, 1.0], [1.0, 2.8414146e-11], [1.0, 5.2701212e-09], [0.9999958, 4.240979e-06], [1.0, 1.6384573e-10], [0.9999994, 5.7587874e-07], [1.0, 7.401975e-11], [3.8297445e-09, 1.0], [1.1382423e-10, 1.0], [1.15464346e-10, 1.0], [6.4477183e-07, 0.9999994], [1.0, 5.424934e-10], [0.9999992, 7.529849e-07], [0.9999994, 4.7371987e-07], [1.0, 1.4620252e-09], [0.94851226, 0.051487785], [7.2671673e-09, 1.0], [4.63802e-08, 1.0], [4.3293502e-07, 0.9999995], [4.3192637e-11, 1.0], [0.9999999, 1.08672886e-07], [1.0, 6.8584596e-09], [3.1085165e-08, 1.0], [0.00046031218, 0.9995397], [2.1836797e-08, 1.0], [0.99999905, 1.0466612e-06], [0.9999997, 3.3029397e-07], [0.00025657477, 0.99974334], [0.9996437, 0.00035634084], [2.0109518e-09, 1.0], [0.9999992, 7.303498e-07], [3.964039e-09, 1.0], [1.0, 1.4337348e-10], [1.1672134e-11, 1.0], [2.0632329e-10, 1.0], [1.0, 5.873415e-09], [2.4381993e-08, 1.0], [6.214499e-08, 1.0], [3.530657e-07, 0.99999964], [1.0, 3.6906886e-10], [1.9094193e-07, 0.9999998], [1.1069813e-08, 1.0], [4.328861e-06, 0.9999957], [0.88347626, 0.116523825], [7.5890356e-11, 1.0], [7.420012e-08, 1.0], [0.9963795, 0.0036206082], [1.0, 5.317405e-09], [4.4131784e-07, 0.9999995], [1.0, 7.7840906e-10], [1.1550251e-12, 1.0], [1.8011637e-08, 1.0], [4.0435537e-12, 1.0], [0.010599492, 0.98940057], [0.99999875, 1.2668941e-06], [0.9999798, 2.0178362e-05], [0.9997915, 0.00020847171], [0.99999917, 8.55707e-07], [1.0, 6.027059e-08], [9.218596e-08, 1.0], [8.8885885e-09, 1.0], [0.9999949, 5.035473e-06], [3.035919e-11, 1.0], [1.0, 2.4362393e-08], [1.0, 1.2016886e-09], [0.9999999, 9.598277e-08], [0.99998534, 1.46542825e-05], [2.9832672e-05, 0.99997026], [1.5041908e-09, 1.0], [0.51839304, 0.4816069], [1.9839954e-11, 1.0], [1.0, 3.959011e-09], [1.6377724e-09, 1.0], [0.9999999, 1.2376778e-07], [1.9364752e-07, 0.9999998], [1.0, 1.4161564e-10], [0.99972755, 0.00027256584], [1.0, 1.6685138e-10], [0.9998891, 0.000110880974], [1.0, 1.09917416e-07], [0.9999698, 3.023177e-05], [4.0561252e-11, 1.0], [1.0, 7.452185e-08], [2.423186e-07, 0.9999997], [0.99999845, 1.5367093e-06], [1.0, 7.329574e-11], [7.82921e-06, 0.9999922], [1.1233485e-08, 1.0], [7.346085e-14, 1.0], [0.99999964, 4.0181763e-07], [2.492258e-10, 1.0], [1.1315164e-07, 0.9999999], [9.5881915e-05, 0.99990404], [1.0, 6.3515737e-10], [1.0, 5.0039697e-09], [0.9999995, 5.382907e-07], [4.0915133e-08, 1.0], [1.2545842e-08, 1.0], [1.0, 5.351943e-09], [1.0, 3.4881054e-08], [1.0, 1.2669157e-09], [1.0, 3.23008e-09], [1.0, 1.5911933e-08], [1.0, 1.961795e-08], [1.4580218e-10, 1.0], [0.9999998, 2.0850135e-07], [0.99999934, 7.041791e-07], [1.0, 1.2874412e-08], [1.0, 1.3196752e-08], [1.0, 5.024852e-08], [1.0, 1.4560966e-08], [7.3665043e-09, 1.0], [4.138225e-09, 1.0], [4.5236234e-08, 1.0], [0.9994882, 0.0005118415], [0.039697606, 0.96030235], [1.0, 2.4784825e-09], [1.0287544e-12, 1.0], [3.7731188e-06, 0.9999962], [1.1518494e-05, 0.99998844], [2.9018685e-07, 0.9999998], [4.3801732e-10, 1.0], [2.1603683e-09, 1.0], [0.99976885, 0.00023117146], [1.0, 7.374986e-11], [1.0, 1.0236761e-07], [4.0481137e-07, 0.99999964], [1.45316505e-08, 1.0], [0.9999999, 8.738814e-08], [0.9999994, 5.5605346e-07], [1.0, 4.601227e-09], [1.0, 8.743932e-09], [1.9840602e-06, 0.9999981], [5.0259713e-10, 1.0], [2.0073385e-13, 1.0], [5.594767e-10, 1.0], [5.3055667e-09, 1.0], [0.99993074, 6.9286856e-05], [5.7110305e-10, 1.0], [7.3463234e-05, 0.99992657], [0.007086545, 0.99291354], [2.6412414e-11, 1.0], [2.6864014e-10, 1.0], [0.9999998, 1.8113747e-07], [3.2260283e-05, 0.99996775], [1.4455551e-07, 0.9999999], [0.99814004, 0.0018599452], [1.5328047e-06, 0.99999845], [6.058934e-11, 1.0], [1.0, 4.2265828e-08], [0.99999124, 8.850953e-06], [1.0, 5.125691e-09], [1.0, 5.5549404e-10], [0.9999997, 3.2840197e-07], [0.99999845, 1.4797126e-06], [9.885058e-13, 1.0], [5.787725e-11, 1.0], [0.9999962, 3.874789e-06], [0.9999998, 1.9109936e-07], [1.0, 9.7734376e-11], [2.5073404e-10, 1.0], [9.796756e-07, 0.99999905], [1.0, 2.7445304e-10], [1.389808e-05, 0.99998605], [0.9999989, 1.0061841e-06], [1.0, 1.8300446e-09], [5.8437877e-07, 0.9999994], [1.0, 1.2541884e-10], [8.377233e-13, 1.0], [1.5786979e-08, 1.0], [7.3954437e-10, 1.0], [1.8142839e-05, 0.99998176], [0.9999995, 4.6791246e-07], [1.0, 2.2878293e-08], [4.3056905e-09, 1.0], [1.0, 2.1513822e-09], [0.9999998, 2.714571e-07], [1.309028e-07, 0.9999999], [0.99420416, 0.005795855], [0.9999924, 7.537006e-06], [1.0, 1.3167916e-09], [1.0, 5.297256e-09], [1.0, 6.6658865e-09], [1.7309867e-10, 1.0], [0.9973105, 0.00268944], [2.959214e-11, 1.0], [1.5449363e-05, 0.99998456], [3.751353e-09, 1.0], [6.0105117e-07, 0.9999994], [5.928734e-09, 1.0], [1.0246988e-06, 0.99999905], [0.00024800078, 0.99975204], [6.856992e-09, 1.0], [0.062077515, 0.9379225], [1.0, 1.8694069e-09], [1.0, 1.7018069e-08], [0.9990983, 0.0009016674], [6.8044474e-06, 0.9999932], [1.4067565e-08, 1.0], [1.0, 5.829785e-09], [0.9999997, 3.2354194e-07], [2.4726279e-09, 1.0], [1.0, 2.1054904e-08], [0.99999934, 7.466918e-07], [1.14176274e-07, 0.9999999], [0.0051088957, 0.99489105], [1.0, 3.0721985e-09], [1.0, 1.5334389e-09], [1.0, 1.2810603e-10], [1.0, 1.1239507e-09], [1.0, 4.049899e-08], [3.6226117e-10, 1.0], [1.2194486e-08, 1.0], [1.0, 9.14152e-11], [0.99909955, 0.0009004357], [0.99999446, 5.5361456e-06], [4.2477048e-08, 1.0], [0.9867757, 0.013224314], [1.0, 3.7993317e-08], [0.99999875, 1.2504572e-06], [0.99999964, 3.8521574e-07], [1.0, 2.4351351e-10], [0.9999999, 1.3745498e-07], [2.5741219e-08, 1.0], [1.5136564e-11, 1.0], [3.080189e-08, 1.0], [3.7117934e-06, 0.9999963], [2.9972906e-09, 1.0], [6.795785e-10, 1.0], [1.0, 3.7032997e-09], [3.5663717e-07, 0.99999964], [1.1416379e-08, 1.0], [0.9999999, 1.181603e-07], [0.99998987, 1.0115413e-05], [0.999998, 2.0451193e-06], [5.5546497e-08, 1.0], [4.141578e-06, 0.9999959], [2.666274e-09, 1.0], [0.9435495, 0.056450475], [9.634104e-09, 1.0], [1.6930297e-09, 1.0], [1.0, 5.8834297e-09], [4.7567006e-11, 1.0], [0.07220825, 0.9277918], [2.4705007e-11, 1.0], [1.0, 5.7112987e-10], [0.0016248189, 0.99837524], [3.6711317e-05, 0.9999633], [1.4057024e-09, 1.0], [2.9700153e-09, 1.0], [1.0, 1.3023474e-10], [0.9999995, 5.265923e-07], [1.0, 3.0362322e-09], [0.9999999, 1.1001259e-07], [0.001011689, 0.99898833], [0.9999999, 6.5010916e-08], [1.0, 1.4898947e-11], [3.394068e-10, 1.0], [0.99816114, 0.0018388974], [6.063567e-07, 0.9999994], [0.0037096657, 0.9962903], [2.3163227e-09, 1.0], [0.9999901, 1.0038823e-05], [0.9999997, 3.997828e-07], [6.517664e-07, 0.9999994], [8.066712e-05, 0.9999193], [0.9999418, 5.8144913e-05], [1.0, 1.7051147e-10], [1.0, 3.5302716e-09], [0.9999981, 1.9422039e-06], [1.0, 2.9643914e-09], [4.1076188e-08, 1.0], [1.0, 4.9527435e-09], [1.0, 1.0156591e-08], [0.00049976323, 0.99950016], [1.0, 2.0054695e-10], [0.9999572, 4.2827876e-05], [0.9999998, 1.9018799e-07], [0.9999816, 1.8420084e-05], [3.194281e-11, 1.0], [1.0, 3.543226e-10], [1.5119059e-09, 1.0], [0.9999954, 4.5345178e-06], [0.9999998, 1.779974e-07], [1.0, 2.4355482e-09], [3.079721e-10, 1.0], [1.037711e-09, 1.0], [2.9018758e-12, 1.0], [4.104151e-09, 1.0], [0.9999975, 2.4666265e-06], [0.9998317, 0.0001683844], [1.0, 1.1133444e-08], [1.0, 3.255943e-08], [6.924599e-05, 0.9999307], [0.9963085, 0.003691423], [1.2499719e-09, 1.0], [1.0, 1.2523384e-08], [4.951467e-09, 1.0], [8.805269e-11, 1.0], [1.0073496e-11, 1.0], [1.0, 1.4899624e-08], [1.6148809e-08, 1.0], [2.1257194e-11, 1.0], [1.0, 5.0300194e-08], [1.0, 1.1855447e-08], [3.406112e-09, 1.0], [0.00071637897, 0.9992835], [1.0, 4.729747e-08], [1.0, 2.1139233e-09], [1.2348123e-07, 0.9999999], [1.0, 3.574742e-10], [6.8848415e-08, 1.0], [0.9999999, 8.194324e-08], [1.0, 4.1716306e-09], [2.0468531e-10, 1.0], [1.0, 4.920862e-10], [1.0, 2.7488138e-08], [3.7506257e-12, 1.0], [0.9999998, 2.420324e-07], [0.9999999, 1.19147785e-07], [3.1302807e-06, 0.99999696], [1.0, 3.3306156e-11], [1.0, 3.2843122e-09], [0.9999994, 6.5335917e-07], [0.9999673, 3.2779397e-05], [2.5011124e-10, 1.0], [0.89316523, 0.106834814], [0.99999964, 4.0395417e-07], [1.6138071e-09, 1.0], [0.9999992, 7.889677e-07], [6.7863687e-07, 0.99999934], [1.0, 4.133615e-10], [1.3966499e-07, 0.9999999], [1.0, 2.609021e-12], [0.9999998, 1.6502112e-07], [1.3762831e-06, 0.9999987], [3.8462913e-10, 1.0], [4.29229e-06, 0.9999958], [0.99999887, 1.137304e-06], [2.1191585e-08, 1.0], [7.2727914e-08, 0.9999999], [9.328416e-10, 1.0], [1.8624353e-13, 1.0], [5.1631405e-06, 0.9999949], [2.872301e-09, 1.0], [6.393229e-08, 1.0], [1.0, 6.964578e-08], [5.3057214e-10, 1.0], [3.919844e-09, 1.0], [0.0015540617, 0.99844587], [1.0, 6.856594e-08], [0.88377124, 0.11622874], [1.0, 1.3949487e-08], [0.9999999, 9.06748e-08], [9.475361e-06, 0.9999906], [0.9999989, 1.0730865e-06], [3.424382e-09, 1.0], [0.99995357, 4.6355737e-05], [0.99711525, 0.00288478], [1.0, 3.4973812e-08], [6.756652e-07, 0.99999934], [1.0, 1.9595656e-10], [0.99999034, 9.596555e-06], [3.6636166e-08, 1.0], [2.9775282e-10, 1.0], [1.5693958e-07, 0.9999998], [0.00034683378, 0.9996532], [2.1243765e-10, 1.0], [6.245405e-08, 0.9999999], [6.152618e-06, 0.9999938], [2.6928887e-10, 1.0], [0.9999995, 5.2241217e-07], [1.0, 1.3475462e-10], [2.5993538e-08, 1.0], [1.0, 1.2006342e-08], [0.9999777, 2.236488e-05], [0.99999964, 4.4909038e-07], [1.4236438e-09, 1.0], [3.5738412e-07, 0.99999964], [0.9981555, 0.0018445194], [4.7772e-09, 1.0], [1.0, 4.6418254e-08], [1.192916e-06, 0.99999875], [0.9996446, 0.0003554186], [0.9999999, 1.3652239e-07], [1.0, 7.3233695e-09], [7.4302584e-08, 0.9999999], [2.068055e-07, 0.9999998], [1.8457817e-11, 1.0], [0.99957716, 0.00042290744], [1.4942501e-10, 1.0], [3.183727e-09, 1.0], [1.0, 9.4076046e-11], [4.685166e-05, 0.99995315], [1.0, 7.2672917e-09], [1.0, 2.221039e-08], [4.05817e-10, 1.0], [5.015766e-06, 0.99999505], [2.4184508e-09, 1.0], [1.0, 1.215257e-09], [1.0, 8.795965e-11], [1.0, 4.3155723e-09], [1.0, 5.634783e-08], [2.8752818e-09, 1.0], [7.222424e-10, 1.0], [1.0, 1.697486e-08], [1.0, 1.0810904e-09], [0.9999998, 1.4197057e-07], [6.6816325e-10, 1.0], [1.1880819e-09, 1.0], [9.67262e-09, 1.0], [1.0, 2.5051914e-08], [0.9999995, 5.6530143e-07], [1.0, 4.4288857e-09], [0.0151703935, 0.9848296], [1.9185689e-10, 1.0], [1.0, 8.153191e-10], [1.3566823e-05, 0.99998647], [0.0003347802, 0.99966526], [1.0, 1.6815681e-10], [0.98621976, 0.013780305], [1.5093516e-08, 1.0], [0.009042403, 0.9909576], [0.00028547266, 0.99971455], [1.0, 2.05981e-09], [1.0, 2.7709987e-08], [1.0, 2.4666287e-08], [0.99997413, 2.5914642e-05], [0.9999998, 1.6741788e-07], [0.9997078, 0.00029219032], [0.9999859, 1.40262155e-05], [0.9215355, 0.07846447], [5.505225e-09, 1.0], [3.395864e-10, 1.0], [2.8464397e-06, 0.99999714], [1.0, 5.814443e-08], [1.0, 1.528045e-09], [1.0, 2.1469628e-08], [1.0, 4.795087e-09], [9.418553e-10, 1.0], [0.9999998, 2.296088e-07], [1.0, 4.5547077e-11], [4.5481183e-06, 0.9999954], [2.6029425e-11, 1.0], [4.1480625e-06, 0.9999958], [8.50465e-11, 1.0], [3.8538428e-08, 1.0], [0.00036422562, 0.9996357], [3.326627e-11, 1.0], [0.9999997, 2.9187262e-07], [5.298578e-06, 0.99999475], [0.9999998, 3.051447e-07], [2.3699962e-09, 1.0], [1.0, 2.1131652e-09], [3.3500176e-09, 1.0], [3.0454896e-12, 1.0], [1.1516865e-08, 1.0], [1.288935e-09, 1.0], [0.99999857, 1.4508091e-06], [1.4831885e-08, 1.0], [2.043553e-08, 1.0], [0.9999687, 3.138843e-05], [6.6411675e-11, 1.0], [1.48827555e-08, 1.0], [1.1687394e-10, 1.0], [1.0, 3.12484e-11], [0.9909886, 0.009011396], [1.0, 1.0724936e-10], [1.0, 4.1017664e-10], [2.096154e-09, 1.0], [0.00023433445, 0.9997656], [1.0, 9.690482e-10], [4.784362e-09, 1.0], [0.99999964, 3.6205057e-07], [0.9999976, 2.3860596e-06], [1.0, 3.301515e-11], [1.1294326e-06, 0.99999887], [0.9995986, 0.0004014167], [0.4008495, 0.59915054], [0.9997225, 0.00027750246], [1.1210782e-09, 1.0], [5.4553575e-06, 0.99999464], [3.4513909e-07, 0.9999997], [0.25881982, 0.7411802], [1.7535261e-11, 1.0], [5.368702e-10, 1.0], [2.2229553e-06, 0.9999978], [1.0, 2.8668848e-10], [1.0, 7.3029216e-10], [0.9999992, 7.6536924e-07], [1.0, 2.8804816e-08], [1.9139657e-09, 1.0], [5.0901408e-09, 1.0], [1.0, 2.5139271e-11], [3.1746768e-07, 0.99999964], [1.0, 6.6043953e-09], [1.0, 2.3187319e-09], [0.9999998, 2.399133e-07], [2.226616e-12, 1.0], [1.0843147e-12, 1.0], [0.9972461, 0.0027539225], [2.5410585e-09, 1.0], [1.0, 3.8576312e-10], [3.7600398e-07, 0.99999964], [1.0, 4.6542652e-08], [2.117145e-10, 1.0], [6.315219e-08, 1.0], [2.215241e-06, 0.9999978], [0.0039816545, 0.9960183], [1.0, 2.323816e-08], [1.0, 5.248513e-08], [0.9055337, 0.09446633], [1.0, 3.0882108e-10], [1.0, 7.330742e-12], [1.01393685e-08, 1.0], [1.0, 4.5363388e-10], [1.6828403e-09, 1.0], [3.6565066e-06, 0.99999636], [9.933141e-11, 1.0], [1.0, 2.6027527e-09], [0.00031978305, 0.9996802], [2.8415275e-09, 1.0], [3.9537196e-09, 1.0], [7.654977e-10, 1.0], [0.0010494811, 0.9989505], [1.7995477e-07, 0.9999999], [1.0, 1.5098326e-09], [5.0406976e-09, 1.0], [0.062077515, 0.9379225], [0.9999998, 2.4422062e-07], [5.0256677e-10, 1.0], [1.0, 2.7479444e-08], [0.9999997, 3.4336742e-07], [1.885606e-09, 1.0], [1.0, 2.811814e-09], [0.9999999, 1.4254655e-07], [1.8049479e-09, 1.0], [0.99999964, 3.7584454e-07], [0.9999973, 2.6509442e-06], [0.87113476, 0.1288653], [6.2769686e-08, 1.0], [1.0, 4.684378e-09], [1.0, 3.8070276e-08], [1.1682508e-10, 1.0], [1.0, 2.5551181e-09], [6.652532e-07, 0.99999934], [1.2780448e-07, 0.9999998], [1.0, 1.8529025e-08], [0.99988157, 0.00011850222], [0.006707303, 0.9932927], [3.8057597e-09, 1.0], [9.505594e-08, 1.0], [1.0, 3.6673526e-09], [1.4495387e-06, 0.99999857], [0.99999845, 1.5280897e-06], [8.223846e-06, 0.9999918], [3.8687965e-08, 1.0], [1.0, 3.9952356e-12], [6.308653e-09, 1.0], [1.0, 2.3853561e-09], [1.4722378e-09, 1.0], [1.0, 9.310157e-10], [0.9999992, 8.114113e-07], [1.0, 5.3772787e-08], [1.0, 8.856761e-12], [5.20747e-14, 1.0], [0.99998254, 1.7448856e-05], [2.3467261e-09, 1.0], [0.00014991555, 0.9998501], [3.7305177e-09, 1.0], [1.0, 5.2147207e-08], [3.90109e-06, 0.9999962], [1.0, 7.316789e-09], [2.161683e-09, 1.0], [0.9999999, 1.1448278e-07], [2.608663e-06, 0.99999744], [0.9979372, 0.0020627484], [1.0, 2.2261164e-10], [0.9999999, 1.66498e-07], [1.0, 6.9092345e-12], [9.1704466e-10, 1.0], [7.4089543e-09, 1.0], [0.99999964, 4.8412437e-07], [1.0, 5.648771e-09], [0.99997175, 2.8255852e-05], [1.7201295e-06, 0.9999983], [1.317225e-10, 1.0], [1.0, 2.4618927e-08], [1.9649292e-07, 0.9999999], [1.0, 6.2406142e-09], [1.0, 5.2477676e-09], [3.5347094e-12, 1.0], [0.9994912, 0.0005087332], [1.0, 2.4700764e-09], [1.0, 1.1362078e-10], [1.0, 3.161465e-09], [4.479951e-07, 0.99999964], [2.0751767e-10, 1.0], [1.0, 4.768468e-10], [1.0, 2.406889e-08], [3.649289e-07, 0.9999997], [1.64985e-11, 1.0], [0.94092065, 0.05907945], [1.0, 3.3096321e-09], [4.71016e-14, 1.0], [0.99999523, 4.69591e-06], [1.0, 7.419508e-11], [4.3277105e-06, 0.9999957], [1.0, 4.8602324e-11], [0.9999998, 2.5938988e-07], [3.150955e-08, 1.0], [1.0, 9.077901e-10], [0.99988854, 0.00011147937], [0.99999964, 4.2541728e-07], [1.0, 4.991882e-10], [6.642856e-05, 0.99993354], [5.0820102e-08, 1.0], [1.0, 5.519605e-10], [0.9999995, 4.649275e-07], [1.0, 3.6063536e-08], [4.1109175e-08, 1.0], [9.950252e-07, 0.99999905], [3.572283e-06, 0.99999636], [0.07315845, 0.92684156], [1.0, 8.153191e-10], [1.0, 2.261788e-08], [2.623804e-12, 1.0], [1.0, 1.6052715e-10], [2.0437252e-10, 1.0], [0.09987436, 0.9001256], [1.2768038e-05, 0.99998724], [0.9998191, 0.00018081197], [0.99999964, 4.6570995e-07], [5.9714446e-05, 0.9999403], [4.3233405e-07, 0.9999995], [1.636694e-09, 1.0], [1.0, 2.6097426e-11], [4.732886e-08, 1.0], [1.0, 4.7312835e-08], [2.1052045e-08, 1.0], [0.97685987, 0.023140118], [0.99999934, 7.495816e-07], [1.0, 1.215048e-12], [3.601676e-10, 1.0], [2.7245856e-05, 0.9999728], [1.7954135e-06, 0.9999982], [3.0705707e-10, 1.0], [2.141516e-09, 1.0], [3.4267914e-10, 1.0], [2.2643287e-11, 1.0], [7.2497233e-13, 1.0], [1.0, 1.0785703e-08], [1.0, 6.7406347e-09], [0.99934494, 0.000655154], [4.7481663e-07, 0.99999964], [1.0, 2.7988181e-11], [1.0, 6.7741546e-08], [0.45937243, 0.5406276], [1.0, 7.838442e-09], [4.472275e-12, 1.0], [1.0, 3.6696254e-11], [0.99999905, 9.450247e-07], [1.0, 5.3822692e-08], [5.794306e-10, 1.0], [0.9999999, 1.0059555e-07], [4.5554818e-10, 1.0], [2.8581445e-08, 1.0], [1.0128724e-07, 0.9999999], [1.0, 5.364069e-08], [1.0, 7.725438e-12], [1.0, 2.2749965e-11], [1.0, 8.437681e-12], [1.0, 9.562716e-08], [1.0, 3.645227e-10], [9.26605e-09, 1.0], [1.6256145e-07, 0.9999998], [1.0, 6.2647754e-10], [1.40094e-10, 1.0], [1.0, 3.6995875e-08], [2.4349676e-12, 1.0], [8.914596e-07, 0.99999917], [1.0, 9.910046e-09], [1.0, 1.00526344e-10], [0.99999887, 1.2496378e-06], [1.0, 1.2011435e-10], [0.005882628, 0.99411726], [9.107134e-06, 0.99999094], [1.0, 4.1382567e-08], [6.9399873e-09, 1.0], [1.3737965e-08, 1.0], [1.0, 7.4788856e-11], [1.3212002e-08, 1.0], [1.0, 8.128689e-09], [4.5737767e-08, 1.0], [1.0, 6.506943e-09], [2.3633866e-12, 1.0], [0.9999998, 1.7239788e-07], [1.4011585e-10, 1.0], [1.3523773e-05, 0.99998647], [1.0, 4.1023903e-12], [1.1301434e-12, 1.0], [1.4087456e-10, 1.0], [1.7420042e-08, 1.0], [2.1670845e-08, 1.0], [0.9999998, 1.8734228e-07], [2.4740654e-09, 1.0], [9.157315e-10, 1.0], [1.0, 8.955167e-09], [0.5647829, 0.43521705], [1.0, 1.3949487e-08], [5.7529087e-05, 0.9999425], [0.99999934, 6.6484586e-07], [1.0, 4.621065e-10], [0.99981195, 0.00018800226], [1.0, 1.769966e-10], [4.453418e-06, 0.9999955], [1.0, 1.5868803e-08], [4.1070427e-09, 1.0], [6.422283e-09, 1.0], [2.8853252e-12, 1.0], [0.9999998, 1.9711717e-07], [5.4266053e-11, 1.0], [0.9999992, 7.251116e-07], [0.018591871, 0.9814081], [1.14148495e-08, 1.0], [3.5725944e-07, 0.99999964], [1.8173658e-05, 0.9999819], [4.9607106e-06, 0.99999505], [0.9990057, 0.0009941913], [1.0, 1.1246703e-11], [1.0, 6.6472794e-10], [1.0, 8.841513e-12], [1.0906799e-09, 1.0], [1.0, 3.231709e-09], [1.0, 1.745891e-10], [5.410788e-09, 1.0], [0.9992077, 0.00079230405], [0.9994441, 0.00055595103], [2.3089251e-07, 0.9999998], [0.999996, 4.0912037e-06], [0.9999997, 2.7730354e-07], [2.3776527e-08, 1.0], [5.5446607e-09, 1.0], [0.00030212177, 0.99969786], [1.0, 7.500815e-08], [0.9999997, 2.7410766e-07], [1.0, 6.4912996e-08], [1.0, 2.1300532e-09], [0.0029911795, 0.9970089], [2.5123756e-10, 1.0], [1.0, 1.356111e-09], [2.1249922e-09, 1.0], [1.1790348e-05, 0.9999882], [0.9999999, 1.2387706e-07], [1.0, 3.944606e-10], [1.2156663e-06, 0.99999887], [1.0, 6.81189e-10], [2.386513e-08, 1.0], [0.9999957, 4.3037094e-06], [8.194058e-09, 1.0], [1.0591864e-09, 1.0], [1.0, 7.625416e-10], [1.1029434e-09, 1.0], [2.1054133e-10, 1.0], [6.5930386e-09, 1.0], [8.305839e-11, 1.0], [1.1761806e-06, 0.99999887], [1.2887875e-09, 1.0], [7.2463385e-10, 1.0], [4.0973562e-09, 1.0], [1.3263124e-09, 1.0], [0.14025266, 0.8597474], [9.3872e-10, 1.0], [0.99999934, 7.076443e-07], [1.0, 2.3356772e-10], [5.885322e-07, 0.9999994], [0.9999999, 8.42051e-08], [1.0, 1.6225201e-09], [1.0, 3.9080996e-09], [2.5584317e-08, 1.0], [0.002085015, 0.9979149], [1.0769769e-05, 0.9999892], [2.919212e-07, 0.9999997], [0.9999998, 1.8004232e-07], [4.239778e-06, 0.9999957], [1.6614949e-06, 0.9999984], [1.0, 3.588264e-10], [1.0, 2.171348e-09], [3.1419298e-09, 1.0], [4.216951e-11, 1.0], [1.0, 8.047194e-09], [1.0, 5.0718727e-09], [1.5807385e-06, 0.9999984], [1.0, 4.8868515e-08], [8.877482e-06, 0.9999911], [1.8097138e-09, 1.0], [2.7334925e-09, 1.0], [0.9999998, 2.1985025e-07], [1.0, 9.446514e-09], [1.261044e-09, 1.0], [5.2162684e-14, 1.0], [4.4946217e-12, 1.0], [0.62622106, 0.373779], [0.0988664, 0.90113354], [1.0, 4.243198e-11], [0.9999999, 1.6608924e-07], [0.9608058, 0.039194293], [1.415335e-09, 1.0], [0.9999999, 9.442545e-08], [1.054089e-09, 1.0], [2.2521795e-11, 1.0], [1.6165802e-10, 1.0], [1.0, 3.3256051e-09], [1.6731514e-08, 1.0], [1.0, 2.2641114e-08], [1.0, 1.2614298e-08], [1.0, 5.0840026e-09], [7.153642e-10, 1.0], [0.99989635, 0.00010362851], [0.9999999, 1.3164941e-07], [0.9999995, 5.504729e-07], [8.843164e-08, 1.0], [1.0, 1.3203005e-08], [0.0006151947, 0.99938476], [1.0, 7.229177e-09], [1.0, 2.028226e-08], [5.3293898e-06, 0.9999946], [1.0, 2.2591502e-08], [1.0, 2.8789604e-09], [1.0, 2.1865598e-10], [5.1690346e-08, 1.0], [1.0, 1.0528333e-09], [1.0, 6.984352e-09], [3.977237e-09, 1.0], [7.612785e-10, 1.0], [1.0, 5.5037503e-09], [1.0, 1.0608373e-08], [3.0924519e-09, 1.0], [0.9997972, 0.00020274245], [1.0, 2.9863124e-08], [7.129687e-10, 1.0], [2.822799e-11, 1.0], [2.5918258e-08, 1.0], [5.7465865e-08, 1.0], [1.0, 4.8199302e-09], [8.451181e-08, 0.9999999], [1.0938155e-12, 1.0], [0.89586365, 0.10413645], [0.99997175, 2.8216931e-05], [5.906237e-08, 1.0], [1.0, 2.6722379e-08], [0.9999997, 3.5875584e-07], [1.603316e-05, 0.99998397], [0.99999917, 8.3309925e-07], [1.0, 1.189465e-09], [0.99999964, 3.7651208e-07], [1.0, 3.456816e-09], [9.97378e-09, 1.0], [0.9999976, 2.4492626e-06], [3.1212599e-06, 0.99999696], [1.3743389e-08, 1.0], [1.0, 8.179608e-10], [3.0902083e-08, 1.0], [3.751479e-07, 0.99999964], [3.5075243e-09, 1.0], [0.9999968, 3.2793548e-06], [0.9999998, 2.6930462e-07], [1.6841504e-11, 1.0], [2.2019895e-11, 1.0], [1.0, 8.544338e-09], [1.0, 4.6808595e-11], [1.0, 1.9203883e-08], [1.0, 9.816357e-11], [0.9999995, 4.278545e-07], [6.917024e-08, 1.0], [1.0, 1.520431e-10], [0.99999964, 3.1405048e-07], [1.0, 3.3600788e-08], [0.9903245, 0.009675539], [0.9999997, 3.2902886e-07], [1.0, 2.3737174e-09], [7.923924e-08, 0.9999999], [1.0, 1.2183739e-10], [1.0, 7.3894924e-08], [4.6670345e-11, 1.0], [3.505345e-08, 1.0], [1.0, 2.4163878e-09], [1.0, 6.202394e-08], [1.0, 3.721184e-08], [2.5795033e-09, 1.0], [1.5645879e-09, 1.0], [1.0, 7.2921034e-09], [1.0, 5.801161e-09], [2.804622e-07, 0.9999998], [1.0, 7.081027e-08], [1.0, 8.189355e-09], [3.944618e-09, 1.0], [9.1639345e-09, 1.0], [2.5146735e-10, 1.0], [0.99998343, 1.6642447e-05], [0.00016744931, 0.99983263], [1.0, 8.471984e-10], [2.0775647e-07, 0.9999998], [9.849715e-09, 1.0], [0.99993706, 6.296295e-05], [0.98017454, 0.019825455], [0.00596953, 0.9940305], [2.1353639e-08, 1.0], [6.543408e-13, 1.0], [0.999996, 3.9739843e-06], [2.9760616e-10, 1.0], [0.011873459, 0.9881266], [1.0, 2.4763674e-08], [4.74497e-10, 1.0], [0.9999606, 3.933667e-05], [0.0013839183, 0.99861604], [1.7863941e-10, 1.0], [1.0, 1.3209204e-09], [8.1285444e-11, 1.0], [1.0, 4.469588e-08], [9.855064e-09, 1.0], [1.9049159e-08, 1.0], [1.0, 3.1175784e-09], [1.0, 4.448007e-10], [1.0081737e-09, 1.0], [2.789863e-09, 1.0], [3.5695007e-09, 1.0], [0.9999773, 2.2611697e-05], [1.0, 2.601797e-10], [0.9999975, 2.5476365e-06], [1.0, 2.000373e-08], [6.491224e-08, 1.0], [5.1883135e-06, 0.9999949], [0.9999809, 1.907855e-05], [4.1008707e-06, 0.9999959], [0.9999973, 2.711417e-06], [0.9999994, 6.047463e-07], [7.892285e-05, 0.99992114], [0.9999997, 3.2586354e-07], [7.3304094e-05, 0.9999267], [2.4617794e-08, 1.0], [1.0, 3.4055643e-09], [0.99967766, 0.00032246235], [0.00014169472, 0.99985826], [2.4399915e-08, 1.0], [2.3598473e-10, 1.0], [0.99999845, 1.5062722e-06], [0.9999999, 1.3075787e-07], [1.0, 7.171864e-09], [1.0, 1.8990725e-09], [1.0, 4.317285e-09], [2.480021e-08, 1.0], [1.0, 1.2668193e-08], [0.0023031419, 0.99769676], [0.0006398102, 0.9993601], [1.0, 2.7906183e-10], [7.437855e-11, 1.0], [4.005858e-08, 1.0], [1.0, 3.0692882e-09], [4.517438e-13, 1.0], [1.0, 3.8148967e-11], [0.9999989, 1.0925298e-06], [0.9749363, 0.025063748], [0.99999654, 3.4632108e-06], [1.0, 1.2826094e-08], [1.0, 9.595165e-11], [3.279858e-10, 1.0], [4.6806136e-07, 0.9999995], [1.4667462e-11, 1.0], [7.298005e-10, 1.0], [2.9331028e-08, 1.0], [2.3166333e-08, 1.0], [6.2016486e-10, 1.0], [0.00044992968, 0.99955004], [6.821311e-08, 1.0], [1.0, 5.8314753e-09], [1.0, 1.00540444e-10], [0.99999475, 5.301418e-06], [4.4799764e-09, 1.0], [1.0, 5.6994526e-08], [0.99999046, 9.507514e-06], [1.0, 5.250405e-08], [1.0, 1.9463313e-10], [2.9137987e-06, 0.999997], [1.0, 1.6766054e-10], [0.9999992, 7.607274e-07], [1.3139584e-08, 1.0], [1.0, 5.15758e-10], [6.789806e-08, 1.0], [2.5661244e-09, 1.0], [1.0, 2.4851718e-09], [0.017210383, 0.98278964], [0.9999999, 8.4516664e-08], [1.0, 4.36188e-08], [1.0, 1.9014289e-08], [0.00023887811, 0.9997611], [1.6078533e-07, 0.9999998], [1.0, 6.025642e-08], [1.0, 1.9480731e-10], [0.00055494084, 0.99944514], [1.0, 1.880665e-09], [0.9989768, 0.0010232468], [6.1871426e-05, 0.999938], [1.0, 5.439379e-10], [0.99996406, 3.60161e-05], [3.478628e-07, 0.99999964], [0.997983, 0.0020170242], [4.3593477e-07, 0.9999995], [1.0, 7.6821065e-09], [3.799805e-10, 1.0], [1.0, 4.707917e-10], [0.99999917, 8.861048e-07], [1.7878152e-08, 1.0], [1.0, 2.1298548e-11], [1.0, 7.877487e-09], [1.0, 2.5173912e-09], [0.037486292, 0.96251374], [1.0, 2.187746e-09], [1.0, 8.232109e-12], [1.0, 7.8785945e-08], [1.0, 1.6198934e-10], [6.946517e-10, 1.0], [2.3911986e-07, 0.9999998], [1.0, 1.6618444e-10], [1.0, 4.4041684e-08], [1.0, 9.974781e-09], [4.1001404e-11, 1.0], [1.613725e-08, 1.0], [1.0, 7.670653e-08], [0.99444276, 0.005557196], [1.1780634e-07, 0.9999999], [1.0, 3.0737368e-11], [4.270875e-05, 0.9999572], [1.5957778e-06, 0.99999845], [0.9999889, 1.10672245e-05], [0.9996551, 0.000344933], [0.9999997, 2.9622007e-07], [0.026365926, 0.97363406], [0.99963725, 0.00036285334], [3.728828e-09, 1.0], [1.0, 8.8643437e-10], [1.0, 6.5440653e-09], [1.0, 4.3181807e-08], [0.9999024, 9.753909e-05], [0.9999997, 2.8347705e-07], [1.6117264e-09, 1.0], [1.0018341e-06, 0.99999905], [0.9999992, 8.294157e-07], [8.8328633e-10, 1.0], [1.7079715e-09, 1.0], [0.9999973, 2.5952509e-06], [1.0, 2.6945446e-10], [1.0406333e-10, 1.0], [0.9881808, 0.011819182], [1.5419705e-12, 1.0], [4.8504693e-11, 1.0], [9.493986e-08, 1.0], [1.0, 4.824336e-08], [5.9818595e-10, 1.0], [4.488551e-11, 1.0], [9.7025534e-08, 0.9999999], [1.0, 2.8802674e-08], [2.064021e-06, 0.999998], [1.0, 1.9624345e-08], [7.344621e-09, 1.0], [0.44971257, 0.5502874], [1.0, 8.396389e-09], [1.2503579e-08, 1.0], [1.0, 3.4251404e-11], [0.9999443, 5.5693636e-05], [1.65909e-07, 0.9999999], [0.99967813, 0.00032196337], [0.99999964, 4.1496293e-07], [1.3648426e-09, 1.0], [1.0, 2.831055e-09], [0.99999464, 5.300045e-06], [1.706621e-09, 1.0], [6.225085e-08, 1.0], [0.9999999, 8.4689006e-08], [1.0, 3.4868552e-08], [4.3382142e-10, 1.0], [1.0, 1.4673561e-09], [1.5777086e-09, 1.0], [0.40197006, 0.59803], [1.3059338e-07, 0.9999999], [1.0, 1.6787231e-08], [1.0, 5.59146e-09], [1.0, 2.1251676e-08], [1.0, 3.1280147e-09], [5.861533e-11, 1.0], [0.99998856, 1.137107e-05], [1.0, 7.1977917e-09], [0.993834, 0.006166029], [1.626424e-09, 1.0], [1.0, 3.1665187e-10], [0.99934804, 0.0006519726], [3.6680237e-09, 1.0], [6.5923583e-10, 1.0], [0.12264836, 0.87735164], [6.700094e-05, 0.99993294], [2.0488242e-10, 1.0], [1.3449876e-09, 1.0], [1.0, 5.0532747e-09], [1.468754e-10, 1.0], [2.9822728e-10, 1.0], [6.099443e-08, 1.0], [1.506846e-10, 1.0], [0.9999973, 2.7124765e-06], [2.408491e-10, 1.0], [0.9999784, 2.1614342e-05], [3.7832323e-14, 1.0], [0.99999696, 3.1085874e-06], [5.709493e-07, 0.9999995], [1.4426416e-11, 1.0], [0.9999983, 1.6931992e-06], [8.277061e-09, 1.0], [1.0, 6.7625974e-11], [5.3970135e-09, 1.0], [0.99992955, 7.040102e-05], [0.99999964, 3.4973843e-07], [6.3486505e-07, 0.9999994], [3.933467e-08, 1.0], [0.9999941, 5.8709015e-06], [1.0, 4.4996886e-09], [0.9999998, 1.2609628e-07], [2.09774e-07, 0.9999999], [2.7289568e-10, 1.0], [4.2010777e-09, 1.0], [1.0, 2.2477128e-08], [1.0, 7.685618e-10], [1.5540538e-06, 0.99999845], [4.7848614e-09, 1.0], [0.97656953, 0.023430359], [1.3354713e-09, 1.0], [1.0, 6.647282e-08], [1.0, 1.8003394e-08], [4.8887017e-10, 1.0], [1.718188e-05, 0.99998283], [1.6524355e-08, 1.0], [1.0, 8.26488e-09], [1.0, 1.0598598e-09], [2.989341e-06, 0.999997], [1.0, 9.6160524e-11], [1.0, 4.0114823e-08], [0.99997044, 2.9600787e-05], [0.99999887, 1.0786638e-06], [1.0, 2.6601574e-08], [2.9879899e-09, 1.0], [1.0, 2.6121288e-10], [3.7576614e-05, 0.99996245], [1.0, 4.191442e-09], [1.0, 1.9418356e-10], [4.628125e-11, 1.0], [8.401522e-05, 0.99991596], [0.9999999, 7.525892e-08], [5.4339937e-09, 1.0], [1.0, 1.2220878e-08], [0.9999987, 1.2981475e-06], [2.718734e-08, 1.0], [0.9999999, 9.051629e-08], [1.09441956e-07, 0.9999999], [0.9999901, 9.932117e-06], [2.9308007e-09, 1.0], [1.7957422e-05, 0.999982], [1.9075892e-09, 1.0], [1.0, 2.3606309e-10], [1.0, 4.908557e-09], [2.9388667e-07, 0.9999997], [1.0, 1.0211592e-09], [1.1324878e-07, 0.9999999], [1.0, 7.874581e-09], [1.0, 3.9637799e-10], [1.0, 8.200485e-08], [0.99999714, 2.804063e-06], [2.3354463e-08, 1.0], [2.9328708e-09, 1.0], [1.0, 8.015485e-09], [1.6122689e-06, 0.9999983], [0.99996233, 3.7711092e-05], [0.99997014, 2.9897885e-05], [1.2177065e-07, 0.9999999], [1.0, 2.15703e-09], [6.400263e-05, 0.999936], [0.056370765, 0.94362926], [2.6142555e-09, 1.0], [4.2856705e-08, 1.0], [7.524217e-09, 1.0], [1.0, 2.9253249e-08], [0.9998978, 0.00010227878], [0.9999299, 7.0163325e-05], [1.0, 8.221992e-10], [1.2903474e-09, 1.0], [0.9999992, 8.183827e-07], [1.0, 9.495774e-09], [2.341727e-08, 1.0], [1.1049902e-09, 1.0], [0.9975573, 0.002442748], [1.2153119e-12, 1.0], [1.0, 1.0936027e-09], [3.3238728e-10, 1.0], [1.0, 1.669571e-08], [0.9999817, 1.834112e-05], [1.093516e-06, 0.9999989], [2.7071007e-10, 1.0], [1.0, 4.0666727e-08], [1.0, 9.2006704e-09], [2.2217452e-09, 1.0], [4.2667084e-10, 1.0], [3.984403e-07, 0.99999964], [1.0, 8.1384375e-09], [0.9894484, 0.010551558], [3.518007e-08, 1.0], [0.0016677917, 0.9983322], [1.8901139e-07, 0.9999998], [8.1622744e-08, 1.0], [0.00010064947, 0.9998994], [1.1240095e-08, 1.0], [2.1659999e-07, 0.9999998], [1.0, 6.0744063e-09], [1.0, 5.8577565e-09], [0.00010299382, 0.999897], [2.0138315e-09, 1.0], [4.646027e-05, 0.99995345], [1.0, 5.600517e-08], [1.41162e-09, 1.0], [9.2375455e-11, 1.0], [0.9999998, 2.1303038e-07], [0.9999995, 4.9887797e-07], [4.0003255e-07, 0.99999964], [1.0, 3.1091538e-09], [0.9371236, 0.06287642], [1.13416725e-08, 1.0], [1.0, 5.3990445e-10], [1.0, 9.831135e-09], [3.5415702e-08, 1.0], [2.1819076e-06, 0.9999978], [8.753907e-09, 1.0], [5.2632765e-09, 1.0], [1.0530227e-09, 1.0], [1.0, 1.9943673e-08], [1.0, 1.8443419e-11], [1.0, 2.5824751e-09], [5.9566163e-10, 1.0], [1.0, 9.590846e-10], [6.6808184e-11, 1.0], [2.3974636e-10, 1.0], [0.99999475, 5.241591e-06], [9.650305e-10, 1.0], [2.8744568e-10, 1.0], [8.415647e-06, 0.9999916], [0.99998343, 1.6633956e-05], [1.8854538e-11, 1.0], [5.1188845e-06, 0.9999949], [0.9999999, 1.2038079e-07], [1.5954763e-06, 0.99999845], [1.2715537e-08, 1.0], [0.99685, 0.0031499907], [0.9999999, 1.0529758e-07], [1.9347253e-10, 1.0], [0.9997649, 0.00023509946], [1.0, 2.6281985e-10], [0.9999997, 2.841106e-07], [1.0, 1.2640062e-09], [2.393482e-09, 1.0], [2.3880947e-08, 1.0], [1.0, 1.0053219e-09], [1.3443856e-09, 1.0], [1.3837623e-10, 1.0], [0.99997693, 2.3043536e-05], [1.0, 8.467315e-12], [1.0948107e-09, 1.0], [1.2049149e-11, 1.0], [9.7882955e-09, 1.0], [0.99999905, 9.860819e-07], [0.990297, 0.00970298], [1.0, 2.1872351e-10], [1.0, 1.4067966e-08], [1.0, 8.319553e-08], [1.0, 4.6439304e-11], [0.9999973, 2.7274068e-06], [6.2528045e-08, 1.0], [2.6188912e-11, 1.0], [4.770856e-09, 1.0], [1.0, 7.550187e-10], [1.5880175e-06, 0.99999845], [3.206019e-07, 0.99999964], [5.55525e-07, 0.9999994], [1.0, 4.858334e-08], [0.9999999, 7.166871e-08], [0.99999917, 8.383249e-07], [2.0861453e-10, 1.0], [1.541601e-06, 0.99999845], [0.99983436, 0.00016556059], [1.13300744e-10, 1.0], [1.8939723e-07, 0.9999998], [1.0, 5.885127e-08], [1.2401453e-09, 1.0], [0.014104478, 0.9858955], [2.4025386e-08, 1.0], [0.9999998, 2.609449e-07], [0.995731, 0.0042689545], [1.3465382e-11, 1.0], [1.7546856e-09, 1.0], [0.99977475, 0.0002252947], [1.0, 6.244797e-10], [5.6986915e-12, 1.0], [0.6086017, 0.39139834], [0.9999998, 1.7533253e-07], [0.00022199386, 0.9997781], [1.0, 6.7711157e-09], [1.0, 7.8768984e-08], [0.9999998, 1.7413e-07], [4.5279476e-06, 0.9999955], [2.0330324e-08, 1.0], [0.9998174, 0.00018261702], [4.841893e-12, 1.0], [1.0, 2.1047702e-08], [9.7303e-06, 0.9999903], [8.267463e-08, 1.0], [0.99993104, 6.89556e-05], [1.0, 7.420737e-08], [0.6826164, 0.3173836], [0.8794719, 0.12052804], [1.0, 6.3728145e-10], [3.9598644e-09, 1.0], [0.9999997, 4.1524154e-07], [1.638385e-05, 0.99998367], [1.6623917e-09, 1.0], [1.0, 4.472101e-08], [2.4766996e-08, 1.0], [1.0, 2.9959334e-11], [1.0, 2.8786241e-08], [1.0, 3.6271045e-10], [1.1790804e-05, 0.9999882], [2.6595114e-06, 0.9999973], [7.5845755e-08, 0.9999999], [0.9999999, 8.151885e-08], [0.9999857, 1.4350686e-05], [1.0, 4.0156454e-08], [9.629963e-10, 1.0], [6.824938e-08, 1.0], [3.781839e-09, 1.0], [1.1882508e-09, 1.0], [0.9999396, 6.0252332e-05], [1.1083001e-10, 1.0], [1.0, 2.4704253e-10], [1.6904049e-10, 1.0], [6.6090254e-15, 1.0], [2.5138838e-06, 0.9999975], [2.1564642e-07, 0.9999998], [8.3627315e-12, 1.0], [1.0, 9.703638e-09], [1.5672717e-11, 1.0], [3.9960555e-09, 1.0], [1.926216e-09, 1.0], [4.6490584e-10, 1.0], [2.50923e-07, 0.9999998], [1.0, 2.3957725e-08], [2.1068737e-11, 1.0], [0.99998796, 1.2030018e-05], [6.2045313e-10, 1.0], [1.0, 1.0227162e-10], [0.44778785, 0.5522121], [1.0, 4.768137e-09], [0.9999999, 1.4297393e-07], [4.5088492e-11, 1.0], [1.0722476e-09, 1.0], [0.9999992, 8.353847e-07], [0.99999905, 9.872715e-07], [0.9999994, 6.007823e-07], [1.3074594e-09, 1.0], [1.3008888e-10, 1.0], [1.0, 3.8066115e-09], [0.9999999, 1.3085962e-07], [3.0386282e-09, 1.0], [8.43355e-06, 0.99999154], [2.909035e-08, 1.0], [0.0022039458, 0.99779606], [0.9984871, 0.001512958], [1.4462664e-09, 1.0], [1.0, 1.976338e-08], [1.4120899e-06, 0.99999857], [7.505589e-05, 0.99992496], [7.280733e-10, 1.0], [1.0, 2.5244568e-10], [1.0, 4.9253237e-09], [1.0, 5.824612e-11], [0.9999587, 4.1198902e-05], [1.0, 8.6596744e-11], [1.8473818e-05, 0.9999815], [4.142682e-07, 0.99999964], [1.0, 4.8801974e-10], [2.1732294e-08, 1.0], [0.97367203, 0.026328031], [0.00070751755, 0.9992925], [0.019345002, 0.980655], [1.4190136e-09, 1.0], [1.0, 2.1824044e-11], [1.0, 1.967994e-09], [0.99992657, 7.3510615e-05], [1.0, 2.951303e-09], [0.9997357, 0.00026426115], [1.325367e-09, 1.0], [6.612319e-06, 0.9999935], [1.0, 6.6507537e-09], [2.4212661e-06, 0.9999975], [1.5891763e-07, 0.9999999], [1.0, 8.726579e-11], [1.0, 1.0113906e-12], [5.47352e-06, 0.99999446], [0.9999995, 5.5055443e-07], [3.77583e-07, 0.99999964], [0.46765667, 0.53234327], [0.004146308, 0.9958536], [3.9231712e-10, 1.0], [1.0, 1.0585965e-09], [1.0, 1.2110237e-09], [0.9999992, 7.7084144e-07], [0.004947941, 0.99505216], [9.69349e-07, 0.99999905], [1.0, 3.9843746e-09], [0.99999934, 6.8677383e-07], [0.99989045, 0.00010956287], [1.3930887e-08, 1.0], [0.9995675, 0.00043250178], [4.1452978e-07, 0.99999964], [0.99999964, 4.835946e-07], [1.0, 1.5329734e-09], [8.788679e-08, 1.0], [0.9982978, 0.0017022906], [9.339794e-11, 1.0], [3.8607257e-05, 0.9999614], [0.018431183, 0.9815688], [0.005268232, 0.9947317], [1.0, 6.5443344e-09], [0.99999964, 4.3535837e-07], [1.3885526e-08, 1.0], [1.0, 6.0653306e-08], [9.2507136e-08, 1.0], [4.0217385e-10, 1.0], [1.8652014e-06, 0.9999982], [0.9999651, 3.4872675e-05], [0.00033381765, 0.9996662], [1.7790068e-11, 1.0], [1.0, 6.8832477e-09], [3.0600378e-10, 1.0], [0.9999999, 1.28886e-07], [0.99068946, 0.009310434], [5.871777e-13, 1.0], [9.487969e-10, 1.0], [2.4775492e-08, 1.0], [4.550024e-07, 0.99999964], [2.194593e-07, 0.9999998], [0.9999653, 3.4661443e-05], [2.9491375e-11, 1.0], [1.7994274e-11, 1.0], [2.368178e-06, 0.99999774], [1.0, 3.5750053e-10], [1.0, 6.715729e-08], [3.0801054e-08, 1.0], [1.0, 5.2859755e-10], [1.0, 3.3214366e-08], [5.8477147e-12, 1.0], [2.2267162e-08, 1.0], [1.0, 1.2647219e-09], [1.0, 1.2022568e-08], [4.69974e-06, 0.99999535], [0.9998968, 0.000103184335], [0.99991786, 8.2133585e-05], [0.02322779, 0.9767722], [5.8947213e-12, 1.0], [0.9999984, 1.6370126e-06], [0.99999857, 1.425782e-06], [3.8067194e-10, 1.0], [1.9139922e-08, 1.0], [2.2440486e-10, 1.0], [1.0, 1.1212881e-08], [0.9999994, 6.729404e-07], [8.63321e-12, 1.0], [3.5433047e-08, 1.0], [5.7180163e-09, 1.0], [0.84860057, 0.15139945], [4.9654356e-09, 1.0], [5.5344014e-11, 1.0], [1.2406962e-08, 1.0], [8.419681e-11, 1.0], [0.9999997, 3.4643693e-07], [1.1599395e-09, 1.0], [0.9999994, 5.638879e-07], [1.0, 4.894216e-09], [1.0, 7.31121e-09], [9.909508e-06, 0.99999017], [1.0, 1.6528325e-09], [7.617775e-11, 1.0], [7.225705e-11, 1.0], [0.00010805555, 0.99989194], [1.0, 2.2996336e-08], [2.352898e-10, 1.0], [1.1461702e-09, 1.0], [1.0, 3.123726e-09], [1.0, 2.768606e-08], [2.4623197e-09, 1.0], [1.0, 2.1496804e-09], [4.868399e-07, 0.9999995], [3.2178679e-07, 0.9999997], [1.7886783e-05, 0.9999822], [6.213786e-09, 1.0], [7.253266e-08, 0.9999999], [2.923922e-06, 0.99999714], [4.327249e-08, 1.0], [6.8348704e-08, 0.9999999], [2.9631388e-11, 1.0], [2.2059607e-10, 1.0], [4.9796306e-11, 1.0], [1.0, 2.381005e-08], [8.360006e-09, 1.0], [0.940158, 0.05984196], [2.7571514e-09, 1.0], [0.9999999, 1.3298613e-07], [1.0, 1.5444728e-08], [1.1717201e-07, 0.9999999], [4.2167045e-07, 0.99999964], [2.4768087e-11, 1.0], [1.7138472e-08, 1.0], [0.9999999, 1.1538352e-07], [1.0, 1.0624143e-09], [0.9999963, 3.7200675e-06], [4.282864e-08, 1.0], [3.225724e-05, 0.99996775], [1.0, 1.6071425e-08], [4.2898805e-07, 0.99999964], [1.0, 2.9852462e-08], [1.2570172e-08, 1.0], [9.171433e-12, 1.0], [0.0017482217, 0.9982518], [2.6547961e-05, 0.9999735], [2.4140022e-07, 0.9999998], [1.0, 1.5395893e-08], [2.9655814e-05, 0.9999703], [0.99992704, 7.2920695e-05], [0.00023179846, 0.99976814], [3.7635353e-09, 1.0], [1.7394195e-09, 1.0], [1.0, 3.6124113e-08], [1.3344778e-10, 1.0], [3.1749135e-11, 1.0], [1.0, 1.1198773e-09], [3.460698e-08, 1.0], [3.0305505e-10, 1.0], [3.3506326e-06, 0.99999654], [2.7466336e-05, 0.9999725], [0.99984825, 0.00015177499], [1.0, 1.0671085e-08], [3.4278774e-10, 1.0], [1.0, 2.8768838e-08], [1.0, 3.3533983e-08], [1.0, 4.142705e-11], [6.6699326e-13, 1.0], [9.9668775e-08, 0.9999999], [4.3853903e-09, 1.0], [1.0, 5.0740274e-09], [1.3085877e-05, 0.99998695], [1.0, 4.2689347e-10], [0.99999845, 1.4336217e-06], [8.1575816e-13, 1.0], [1.0, 6.176424e-08], [1.0, 3.088955e-08], [8.538596e-12, 1.0], [1.0, 2.2985369e-10], [0.99998873, 1.1356788e-05], [0.99999905, 9.2148395e-07], [8.116271e-08, 1.0], [2.2076253e-07, 0.9999998], [0.9999994, 5.6457907e-07], [1.0, 2.768372e-08], [1.0, 3.256612e-09], [1.0, 1.7878097e-09], [0.99999523, 4.7206663e-06], [1.0, 2.0060824e-10], [1.7405719e-07, 0.9999998], [8.191948e-08, 1.0], [5.624812e-05, 0.99994373], [1.0, 5.1995332e-09], [9.009998e-06, 0.99999094], [9.434008e-11, 1.0], [0.9999981, 2.0238515e-06], [1.273967e-07, 1.0], [2.8737675e-06, 0.999997], [2.4818383e-09, 1.0], [0.9999998, 1.9257834e-07], [0.9999994, 6.938525e-07], [1.0, 1.1470067e-09], [9.734945e-10, 1.0], [0.9999994, 5.610791e-07], [1.0, 2.5462082e-11], [4.147203e-09, 1.0], [9.921363e-07, 0.99999905], [1.0, 1.8072143e-08], [1.0, 1.5819145e-10], [1.44534e-09, 1.0], [3.863191e-13, 1.0], [8.3874765e-09, 1.0], [1.0, 5.2867213e-09], [1.636338e-08, 1.0], [0.99999, 1.00708285e-05], [1.0, 7.0702172e-12], [0.9999999, 7.891295e-08], [2.0540436e-10, 1.0], [1.0, 9.823916e-09], [8.653442e-07, 0.99999917], [1.0, 1.0296771e-08], [0.9999075, 9.252521e-05], [4.0271937e-09, 1.0], [2.376035e-08, 1.0], [1.0, 5.315409e-09], [0.9999938, 6.1836718e-06], [0.9999965, 3.4652426e-06], [4.2420673e-10, 1.0], [8.389123e-06, 0.99999154], [0.99137384, 0.0086261695], [2.4413566e-07, 0.9999998], [1.1653014e-09, 1.0], [0.99999964, 3.68023e-07], [4.0346853e-12, 1.0], [1.0347359e-05, 0.9999897], [1.0, 1.3592116e-09], [0.0004425634, 0.9995574], [4.6041578e-08, 1.0], [2.713437e-09, 1.0], [1.1997916e-09, 1.0], [9.4814476e-07, 0.99999905], [2.4903418e-08, 1.0], [1.0, 5.323197e-10], [1.0, 2.3853447e-10], [0.999982, 1.796218e-05], [1.0, 1.0350161e-08], [4.760432e-12, 1.0], [0.001844539, 0.9981555], [1.7717255e-10, 1.0], [7.4286057e-09, 1.0], [2.597644e-11, 1.0], [1.0, 9.141912e-09], [4.7826777e-11, 1.0], [6.6217787e-10, 1.0], [6.1693454e-12, 1.0], [1.0, 2.5674534e-09], [9.1478576e-08, 0.9999999], [1.0, 4.3139696e-09], [1.0, 8.72461e-09], [1.9795163e-05, 0.99998015], [6.2851086e-08, 1.0], [0.99999934, 6.2680067e-07], [2.3265002e-06, 0.9999978], [0.0031238138, 0.9968761], [5.001363e-06, 0.99999493], [0.00027935574, 0.9997207], [1.0, 1.565215e-09], [0.9989713, 0.001028793], [1.0, 2.0835113e-08], [2.877613e-07, 0.9999997], [1.5747514e-11, 1.0], [0.9999994, 5.756423e-07], [8.2595704e-08, 1.0], [0.89132595, 0.10867409], [1.0, 5.1752137e-11], [8.933402e-09, 1.0], [1.0, 7.729287e-14], [1.0, 1.4104663e-09], [1.0, 1.9647606e-08], [0.27844048, 0.7215595], [1.2505862e-10, 1.0], [1.3098828e-11, 1.0], [0.99798906, 0.0020108747], [1.4534754e-10, 1.0], [7.322697e-09, 1.0], [0.999996, 4.00807e-06], [0.99999887, 1.1602119e-06], [0.9973062, 0.0026936862], [0.9996765, 0.00032348317], [9.1773975e-09, 1.0], [0.9999894, 1.06589505e-05], [0.9999999, 9.8655846e-08], [1.0, 1.36173215e-08], [4.421453e-06, 0.9999956], [1.2775871e-09, 1.0], [0.99999845, 1.5346984e-06], [0.99999905, 8.9295617e-07], [4.5113246e-09, 1.0], [1.3937083e-08, 1.0], [1.3898993e-11, 1.0], [1.0, 2.253125e-09], [4.4750809e-07, 0.99999964], [0.9999999, 9.2131984e-08], [1.0, 3.948519e-08], [1.0, 5.6787e-09], [4.5252073e-06, 0.9999954], [1.0, 4.6339207e-10], [2.0123054e-09, 1.0], [3.505546e-08, 1.0], [0.99999636, 3.6936738e-06], [1.0, 5.5291792e-08], [0.99999964, 3.7030148e-07], [0.9999998, 1.6185456e-07], [0.00046878355, 0.99953127], [1.6589925e-07, 0.9999999], [1.0, 6.9631177e-13], [0.99999875, 1.2668941e-06], [2.4172425e-10, 1.0], [0.2428323, 0.7571677], [1.0, 1.3363536e-09], [1.0, 2.2519732e-08], [2.3411499e-07, 0.9999998], [0.9999776, 2.237471e-05], [6.945194e-08, 1.0], [7.2676755e-07, 0.9999992], [0.004022018, 0.99597806], [5.834365e-10, 1.0], [1.7536706e-08, 1.0], [0.99996823, 3.1678155e-05], [1.0, 1.8671276e-08], [1.9184008e-05, 0.9999808], [1.2727211e-08, 1.0], [3.23808e-06, 0.99999684], [1.3501041e-05, 0.99998647], [1.0, 1.4692091e-08], [1.0, 1.2431561e-08], [1.0, 4.4143828e-08], [4.582957e-12, 1.0], [1.4206656e-09, 1.0], [0.9999998, 1.9937788e-07], [1.0, 2.5311604e-09], [2.799461e-11, 1.0], [1.0, 4.099831e-10], [0.51324934, 0.4867507], [1.0653733e-09, 1.0], [0.999998, 2.0099346e-06], [2.9399712e-12, 1.0], [4.5320356e-09, 1.0], [0.02184148, 0.9781586], [1.0, 5.608865e-09], [1.14481244e-10, 1.0], [0.9999998, 3.211008e-07], [1.2246451e-10, 1.0], [7.132244e-07, 0.9999992], [1.0, 1.4467017e-08], [1.0, 1.229108e-09], [0.9999999, 1.2573386e-07], [1.0, 2.2564421e-09], [1.0, 9.7737e-10], [8.8664774e-07, 0.99999905], [1.0, 1.0090817e-08], [3.4272383e-09, 1.0], [1.0, 1.3726201e-08], [2.5239913e-10, 1.0], [9.148626e-08, 0.9999999], [6.471636e-06, 0.9999935], [2.3546146e-08, 1.0], [1.0, 8.348314e-10], [1.0, 1.7849262e-08], [0.75369275, 0.2463073], [0.9999981, 1.980474e-06], [1.0, 9.189488e-09], [9.5109846e-07, 0.9999989], [1.8112889e-08, 1.0], [1.0, 1.7267593e-10], [1.0, 8.262944e-12], [1.0, 2.7794211e-11], [1.0, 6.970599e-08], [5.0350252e-08, 1.0], [0.99710476, 0.0028951876], [4.135438e-05, 0.99995863], [0.9999317, 6.83987e-05], [1.2121129e-06, 0.99999875], [1.0, 5.4500013e-08], [0.99999964, 4.2026394e-07], [1.0, 2.3623405e-09], [3.4411713e-09, 1.0], [9.642502e-10, 1.0], [1.0, 8.060034e-11], [1.0, 5.6701914e-09], [5.1027666e-07, 0.9999995], [3.0012903e-05, 0.9999701], [0.99997103, 2.8995059e-05], [1.0, 3.0242514e-10], [0.9999999, 1.5703061e-07], [4.983227e-10, 1.0], [6.0715215e-09, 1.0], [1.22256915e-05, 0.9999878], [1.0, 4.3151918e-10], [1.0, 1.8206107e-08], [3.3328244e-05, 0.9999666], [1.0, 2.3518119e-09], [0.9999989, 1.0457368e-06], [1.0, 6.621245e-08], [1.06455386e-10, 1.0], [1.0, 3.5351622e-10], [0.99999934, 6.98324e-07], [0.9999998, 1.6006172e-07], [1.0, 2.2506819e-09], [1.9031947e-07, 0.9999998], [1.0, 1.9978696e-08], [0.17458089, 0.8254191], [1.6537681e-09, 1.0], [0.025507133, 0.97449285], [2.4975466e-10, 1.0], [3.4061024e-08, 1.0], [2.8727343e-05, 0.9999712], [1.0, 2.5373041e-09], [1.0, 1.3628562e-08], [0.99999917, 9.3152556e-07], [0.9999999, 8.708582e-08], [0.9921893, 0.0078106923], [0.9999998, 1.4893888e-07], [1.0, 6.138108e-08], [1.857449e-06, 0.9999981], [1.0, 8.124588e-10], [1.0, 4.5544347e-08], [1.0, 5.192856e-08], [1.2957593e-09, 1.0], [1.0, 8.2065615e-10], [0.9999998, 1.3346819e-07], [1.0, 5.0079396e-10], [1.0, 1.8097996e-09], [1.0, 1.2198043e-10], [2.370834e-11, 1.0], [0.87842786, 0.12157204], [1.4687742e-09, 1.0], [5.2490884e-10, 1.0], [3.858958e-09, 1.0], [4.319619e-05, 0.9999568], [3.7351342e-07, 0.99999964], [2.166752e-07, 0.9999998], [0.999998, 2.0820728e-06], [1.0, 1.9682285e-09], [0.9999933, 6.6812127e-06], [0.9999995, 4.237018e-07], [1.1565469e-06, 0.99999887], [0.9999243, 7.561408e-05], [0.98731786, 0.012682107], [1.0, 9.72906e-10], [0.9999789, 2.1150607e-05], [1.2736812e-11, 1.0], [1.0, 7.7538675e-10], [8.759942e-10, 1.0], [4.828297e-07, 0.99999964], [0.9999998, 1.7671894e-07], [6.1992855e-10, 1.0], [4.4304783e-05, 0.9999558], [1.5697324e-07, 0.9999999], [9.848973e-10, 1.0], [1.5762953e-06, 0.99999845], [2.0791265e-10, 1.0], [9.133658e-08, 0.9999999], [1.0, 6.32712e-10], [1.0, 2.000852e-10], [1.2392416e-12, 1.0], [1.653274e-10, 1.0], [3.124423e-11, 1.0], [0.99999845, 1.5563801e-06], [0.9460766, 0.053923458], [1.0, 6.559459e-08], [4.6658544e-05, 0.99995327], [1.0, 1.1777333e-10], [1.0, 3.1031316e-08], [5.061211e-09, 1.0], [0.9999998, 1.7587627e-07], [5.760972e-09, 1.0], [1.0, 8.327051e-09], [1.0, 6.576168e-08], [1.0, 2.004035e-10], [1.2111476e-10, 1.0], [7.4734494e-08, 1.0], [3.5686942e-10, 1.0], [1.0, 3.1239598e-08], [3.4499458e-08, 1.0], [0.5659602, 0.43403977], [1.0, 2.6295608e-09], [0.9999978, 2.2628396e-06], [2.9076913e-10, 1.0], [0.99954146, 0.00045855762], [0.9999987, 1.304333e-06], [0.975807, 0.024193024], [3.145662e-10, 1.0], [0.9999999, 8.7167244e-08], [3.9183675e-07, 0.99999964], [0.98424757, 0.015752506], [0.9999958, 4.1787885e-06], [3.9609236e-05, 0.9999603], [1.0, 2.3993973e-08], [1.0273045e-06, 0.99999887], [1.0, 1.7047757e-09], [1.4504325e-12, 1.0], [1.0, 3.9539843e-09], [1.0, 7.1180706e-09], [0.99997157, 2.8339937e-05], [9.9382225e-05, 0.99990064], [1.0, 2.4155262e-09], [2.6438835e-08, 1.0], [4.6353112e-12, 1.0], [0.9999517, 4.826622e-05], [1.2165783e-09, 1.0], [1.0, 1.1273181e-08], [0.99999964, 3.7143758e-07], [1.0, 4.1195047e-09], [1.0, 9.69244e-10], [1.0, 1.5712592e-09], [1.2771148e-11, 1.0], [3.218948e-11, 1.0], [4.242738e-06, 0.9999958], [1.0, 5.932376e-11], [4.0899266e-07, 0.9999995], [0.99999845, 1.5097899e-06], [0.019182619, 0.98081744], [1.0, 1.1318237e-08], [1.1976607e-07, 0.9999999], [0.99995166, 4.828949e-05], [6.219979e-10, 1.0], [5.6434027e-07, 0.9999995], [5.6829986e-06, 0.9999944], [1.16815855e-07, 0.9999999], [1.0, 2.2551685e-09], [8.855518e-08, 0.9999999], [1.0, 7.5674966e-11], [1.0, 3.1460055e-09], [5.839123e-11, 1.0], [1.0, 9.45749e-09], [4.5659956e-08, 1.0], [1.0, 5.9546794e-09], [1.0, 8.267108e-10], [1.0, 7.4160664e-11], [1.2715182e-10, 1.0], [0.163799, 0.8362009], [2.310577e-08, 1.0], [4.48335e-09, 1.0], [1.8471997e-11, 1.0], [0.99998367, 1.6310887e-05], [4.7308365e-08, 1.0], [0.9999997, 3.7284093e-07], [0.99994814, 5.183757e-05], [0.99997807, 2.1984819e-05], [0.99999917, 8.740397e-07], [1.2993381e-10, 1.0], [0.9947354, 0.005264588], [1.0, 1.5279597e-10], [1.0, 3.6094953e-08], [0.99825746, 0.0017425265], [1.0, 1.794683e-08], [0.99999964, 3.5103398e-07], [1.0, 1.2005802e-08], [1.0, 1.5385047e-09], [2.043236e-10, 1.0], [1.0, 5.1768825e-09], [1.0, 2.4070568e-09], [1.1811402e-10, 1.0], [1.9564716e-07, 0.9999998], [1.0, 7.634233e-09], [0.9999999, 1.2208332e-07], [0.8090693, 0.19093075], [0.00015548973, 0.99984443], [2.3841937e-09, 1.0], [9.118448e-09, 1.0], [2.5999906e-08, 1.0], [3.5509178e-12, 1.0], [1.7417895e-10, 1.0], [5.5950693e-08, 1.0], [1.9164499e-09, 1.0], [1.2259972e-07, 0.9999999], [1.7290558e-12, 1.0], [1.728373e-06, 0.9999983], [0.9999078, 9.2279006e-05], [1.0, 4.9967486e-08], [3.2505217e-11, 1.0], [1.0, 4.1967574e-08], [0.9990207, 0.000979352], [3.2421635e-10, 1.0], [0.42685318, 0.57314676], [1.0163249e-09, 1.0], [1.2375434e-10, 1.0], [0.9993552, 0.0006448512], [8.144881e-11, 1.0], [0.9999994, 6.729404e-07], [1.6223217e-12, 1.0], [2.8137123e-13, 1.0], [8.617022e-08, 1.0], [1.0, 3.6370274e-08], [0.9997916, 0.0002084407], [2.4783052e-08, 1.0], [1.0, 1.3141928e-11], [0.0001275856, 0.9998725], [1.0, 3.8388226e-09], [6.1416344e-11, 1.0], [1.6869666e-06, 0.9999983], [1.4178501e-09, 1.0], [4.1019325e-06, 0.9999959], [1.0, 1.3403187e-10], [0.99986476, 0.00013522644], [6.8818613e-09, 1.0], [0.9999998, 1.4618357e-07], [1.0, 6.070374e-08], [1.0, 1.1064995e-11], [3.6351441e-06, 0.99999636], [0.9994156, 0.0005844499], [1.9190498e-09, 1.0], [2.5235922e-05, 0.9999747], [0.6661893, 0.3338107], [2.1433173e-06, 0.9999978], [2.7178555e-06, 0.9999973], [2.5728348e-09, 1.0], [1.0, 4.115558e-08], [0.68880635, 0.31119365], [3.3932815e-11, 1.0], [4.73729e-06, 0.99999535], [1.0, 1.9124501e-08], [0.0002356657, 0.9997643], [0.9999998, 2.2652827e-07], [4.948697e-07, 0.9999995], [6.5415645e-07, 0.99999934], [1.3385166e-08, 1.0], [1.0, 3.2494043e-09], [0.9993593, 0.00064064673], [1.0, 3.596488e-09], [0.9999806, 1.9299505e-05], [1.9051154e-12, 1.0], [3.873457e-10, 1.0], [2.9941418e-07, 0.9999997], [0.99997675, 2.3242696e-05], [1.7774121e-07, 0.9999998], [0.99952, 0.00047999233], [4.4438192e-10, 1.0], [3.8577787e-11, 1.0], [1.4188759e-09, 1.0], [1.0, 1.4311437e-10], [4.401793e-09, 1.0], [4.5493766e-07, 0.99999964], [2.65748e-06, 0.9999973], [0.9996413, 0.0003587284], [5.826616e-07, 0.9999994], [7.1289534e-08, 1.0], [0.9995863, 0.00041371994], [5.4796523e-09, 1.0], [1.2239841e-10, 1.0], [7.2935513e-10, 1.0], [8.4893724e-11, 1.0], [1.0, 1.0294504e-10], [7.9002876e-10, 1.0], [4.777433e-05, 0.9999522], [0.9999995, 5.002044e-07], [1.6176493e-08, 1.0], [0.99986553, 0.00013443749], [1.0, 4.596105e-11], [5.3588456e-10, 1.0], [3.1293787e-08, 1.0], [0.9971482, 0.0028517253], [6.8518946e-10, 1.0], [1.0, 1.1281759e-10], [1.0, 8.7751174e-11], [4.232216e-11, 1.0], [0.9639171, 0.0360829], [0.9999955, 4.521123e-06], [0.9999999, 8.136776e-08], [0.9999962, 3.855261e-06], [1.0, 1.1823316e-08], [3.9761673e-08, 1.0], [5.5167804e-09, 1.0], [2.8379257e-10, 1.0], [0.99992263, 7.736801e-05], [0.99999607, 3.9364295e-06], [0.007910731, 0.9920893], [2.481092e-07, 0.9999998], [0.9999997, 3.0592216e-07], [2.3848107e-08, 1.0], [2.113258e-07, 0.9999998], [1.515893e-06, 0.99999845], [1.0, 7.206335e-11], [0.9992827, 0.00071720174], [2.0894875e-09, 1.0], [0.99999696, 3.1218128e-06], [0.9999997, 2.2819219e-07], [3.6264186e-10, 1.0], [3.654172e-09, 1.0], [8.742406e-07, 0.99999917], [0.9999817, 1.832309e-05], [0.11027565, 0.8897244], [1.4478915e-06, 0.99999857], [0.04545675, 0.95454323], [0.9999997, 3.4152558e-07], [1.0, 5.0979803e-08], [7.4925126e-08, 1.0], [1.0, 5.4901355e-09], [1.0, 3.5581062e-11], [1.0, 5.304022e-10], [1.0, 1.2321476e-10], [1.0, 1.6021904e-09], [3.2448275e-05, 0.9999676], [0.99989253, 0.00010751621], [6.1773946e-08, 1.0], [9.44831e-07, 0.99999905], [0.9999286, 7.14606e-05], [2.4072363e-12, 1.0], [0.99997413, 2.5803849e-05], [0.9999989, 1.1393104e-06], [1.0, 1.058372e-09], [0.0042451886, 0.9957547], [5.701561e-07, 0.9999995], [1.0, 1.6875392e-08], [1.910541e-08, 1.0], [1.0, 8.8253066e-10], [1.6899152e-08, 1.0], [1.6583366e-05, 0.99998343], [1.0, 1.6794566e-09], [1.0, 4.083374e-09], [4.516617e-08, 1.0], [0.9999994, 5.3015253e-07], [4.222806e-06, 0.9999958], [0.9999979, 2.0054044e-06], [0.99999416, 5.795154e-06], [8.833533e-12, 1.0], [1.0, 6.997803e-08], [5.930516e-05, 0.99994075], [1.1660443e-10, 1.0], [1.0, 7.322226e-10], [4.8531033e-11, 1.0], [1.740821e-09, 1.0], [3.078078e-08, 1.0], [7.156564e-11, 1.0], [1.0, 8.606748e-10], [0.98684436, 0.013155703], [9.878396e-08, 0.9999999], [1.4802617e-10, 1.0], [7.222964e-05, 0.9999278], [4.4011596e-08, 1.0], [1.0, 3.920757e-08], [0.9999998, 1.7082998e-07], [1.7842506e-09, 1.0], [1.0, 5.6743064e-09], [1.9873733e-06, 0.9999981], [8.472751e-07, 0.99999917], [1.0, 1.0325879e-08], [1.0, 2.0441555e-09], [9.286168e-09, 1.0], [0.9999925, 7.459009e-06], [2.6822633e-10, 1.0], [4.7819153e-12, 1.0], [1.0, 1.2557519e-08], [1.0, 1.9416424e-10], [1.2439928e-08, 1.0], [1.0, 6.2503676e-11], [2.218234e-10, 1.0], [1.0, 1.8976376e-08], [0.99999964, 3.9769762e-07], [1.0, 8.9960484e-10], [1.0, 5.299261e-08], [2.0041647e-05, 0.99998], [4.039635e-08, 1.0], [2.3760635e-10, 1.0], [1.773213e-12, 1.0], [1.1922052e-10, 1.0], [0.00027329935, 0.99972665], [0.00046023563, 0.99953973], [1.0880436e-05, 0.99998915], [0.9999998, 1.3293254e-07], [2.4907777e-08, 1.0], [9.196421e-06, 0.9999908], [0.999993, 6.9110147e-06], [2.0712673e-06, 0.9999979], [1.8120318e-10, 1.0], [0.9996122, 0.000387754], [0.99994326, 5.6723173e-05], [3.0654786e-07, 0.9999997], [1.0, 1.4462958e-08], [1.0094985e-09, 1.0], [8.836631e-08, 0.9999999], [1.0, 7.333087e-08], [1.8327863e-07, 0.9999998], [0.9998762, 0.00012383774], [0.9999989, 1.109557e-06], [9.946116e-07, 0.99999905], [1.0, 2.1633835e-09], [2.177117e-06, 0.9999979], [7.454185e-08, 1.0], [4.0097676e-09, 1.0], [3.7966434e-08, 1.0], [0.99998933, 1.0732272e-05], [1.0327744e-08, 1.0], [0.45832282, 0.5416772], [6.208519e-09, 1.0], [7.100341e-08, 1.0], [1.3130178e-06, 0.9999987], [6.964077e-05, 0.9999304], [1.0, 1.2519912e-08], [0.9999937, 6.3465063e-06], [3.7785441e-10, 1.0], [1.0, 1.2043644e-12], [0.99999505, 5.0277094e-06], [1.0, 1.7537562e-10], [1.0, 2.5124622e-09], [0.9999994, 5.47095e-07], [0.99999934, 6.2010946e-07], [2.3138713e-07, 0.9999998], [2.686142e-11, 1.0], [2.2359817e-10, 1.0], [0.74035174, 0.25964826], [5.439649e-06, 0.9999946], [0.9999997, 2.5970934e-07], [0.99997014, 2.9805358e-05], [0.9999998, 2.3343655e-07], [1.3523609e-09, 1.0], [9.982033e-11, 1.0], [0.9999954, 4.510116e-06], [1.0, 1.3958454e-09], [2.5660299e-08, 1.0], [2.47175e-06, 0.9999975], [1.8655752e-06, 0.9999981], [3.040243e-07, 0.9999997], [2.9727659e-08, 1.0], [3.6626813e-12, 1.0], [6.2694724e-12, 1.0], [1.0, 3.747124e-10], [4.1000212e-10, 1.0], [1.0, 2.3328223e-10], [1.0, 1.7422598e-08], [0.99974906, 0.00025088945], [5.4770033e-10, 1.0], [7.764681e-07, 0.99999934], [3.9790457e-08, 1.0], [1.6046367e-10, 1.0], [1.0, 2.6652638e-10], [0.09407425, 0.90592563], [1.0, 1.1030259e-08], [1.19152695e-07, 1.0], [1.0, 6.066723e-08], [0.27790898, 0.72209096], [0.9999444, 5.5560384e-05], [1.0, 6.02802e-10], [3.408759e-10, 1.0], [0.99999875, 1.2492236e-06], [1.1070113e-06, 0.9999989], [0.9999989, 1.0608377e-06], [1.7456114e-07, 0.9999999], [8.5560434e-11, 1.0], [9.112056e-10, 1.0], [9.90738e-09, 1.0], [0.047314383, 0.95268565], [0.99999505, 4.87357e-06], [1.0, 2.3254469e-08], [1.0, 7.846609e-09], [0.99999094, 9.115565e-06], [5.1238236e-10, 1.0], [1.0, 3.0306807e-10], [1.4525963e-12, 1.0], [0.9999994, 7.1138186e-07], [1.0, 3.301515e-11], [9.879997e-06, 0.99999017], [1.6593168e-12, 1.0], [0.9999669, 3.3079716e-05], [4.1126696e-05, 0.9999589], [6.5599465e-07, 0.99999934], [0.0029884733, 0.99701154], [2.5422482e-09, 1.0], [1.0, 2.0181558e-08], [0.99999726, 2.7270073e-06], [1.71509e-07, 0.9999998], [8.500656e-12, 1.0], [9.695021e-13, 1.0], [0.9999999, 1.2443665e-07], [8.6435107e-17, 1.0], [1.0, 2.8778163e-10], [0.99999964, 4.0004383e-07], [0.9999989, 1.1237195e-06], [1.0, 5.6392606e-09], [1.0, 1.5895617e-09], [1.0, 3.0237965e-12], [0.9559803, 0.044019707], [1.0, 1.23533415e-08], [8.5045656e-05, 0.99991494], [5.442301e-09, 1.0], [6.977413e-10, 1.0], [2.9447e-07, 0.9999997], [1.0, 1.7116808e-08], [0.9999963, 3.6972167e-06], [1.7351423e-10, 1.0], [1.5946588e-11, 1.0], [1.0, 1.6598054e-08], [6.9712064e-07, 0.9999992], [1.0, 4.9694005e-08], [0.9999925, 7.4924747e-06], [1.0, 1.4016473e-08], [2.277893e-08, 1.0], [6.395665e-10, 1.0], [0.0037688005, 0.99623126], [0.9999999, 1.575866e-07], [1.181575e-07, 0.9999999], [0.99997777, 2.2189062e-05], [3.728584e-10, 1.0], [0.9999999, 1.5393482e-07], [7.671122e-08, 1.0], [0.00014898532, 0.99985105], [3.381559e-10, 1.0], [0.99999636, 3.664364e-06], [8.539802e-11, 1.0], [0.36529696, 0.634703], [0.9995972, 0.00040283272], [0.9999989, 1.0941064e-06], [0.9999999, 1.0368717e-07], [1.0, 9.065598e-10], [0.999996, 3.9972647e-06], [1.0, 5.509107e-10], [0.99999887, 1.1731419e-06], [8.325626e-06, 0.9999917], [1.3495313e-07, 0.9999999], [4.7491827e-07, 0.9999995], [1.0, 1.7099475e-10], [2.9631269e-09, 1.0], [4.0351388e-06, 0.999996], [2.162499e-10, 1.0], [5.7903224e-09, 1.0], [0.9999951, 4.905055e-06], [1.0, 2.5664026e-08], [1.6609485e-07, 0.9999998], [0.9999999, 1.9242353e-07], [1.0, 9.691954e-10], [1.5898234e-08, 1.0], [1.0, 5.4361887e-10], [1.3195577e-09, 1.0], [0.9999998, 2.4739848e-07], [1.0, 7.779737e-12], [0.9977137, 0.002286307], [9.739716e-06, 0.9999903], [1.0, 7.33514e-09], [1.0, 4.2661256e-08], [0.9999882, 1.1930649e-05], [0.9999975, 2.484187e-06], [4.667299e-08, 1.0], [0.03607785, 0.963922], [7.7637503e-07, 0.9999992], [0.9494399, 0.05056008], [0.99760693, 0.0023930832], [1.0, 3.358457e-09], [0.9999994, 5.625013e-07], [0.9999999, 1.3292974e-07], [4.7013543e-08, 1.0], [0.99816084, 0.0018391802], [0.0016424607, 0.9983575], [1.0, 2.937e-10], [0.0038856182, 0.9961144], [0.9999999, 9.5961e-08], [4.4327958e-10, 1.0], [2.5049046e-10, 1.0], [1.8864732e-05, 0.9999812], [1.0, 4.55977e-08], [9.1721486e-10, 1.0], [0.0024781139, 0.9975219], [1.0, 6.4631607e-09], [1.0, 3.2925136e-09], [7.149084e-09, 1.0], [1.0, 8.6196135e-09], [0.0014474087, 0.9985526], [3.9545443e-11, 1.0], [4.357148e-08, 1.0], [5.9159863e-08, 1.0], [0.99995106, 4.8873637e-05], [4.80225e-07, 0.9999995], [1.0, 6.603416e-09], [0.99962044, 0.0003795848], [8.784911e-09, 1.0], [1.0, 3.6455328e-10], [1.8230023e-07, 0.9999998], [0.99999964, 3.408836e-07], [3.4600972e-10, 1.0], [0.9312186, 0.068781376], [0.9999994, 4.975053e-07], [3.2200973e-07, 0.99999964], [1.0, 3.1809662e-09], [1.4516741e-08, 1.0], [1.0, 1.503051e-08], [1.7394298e-07, 0.9999998], [1.9857832e-07, 0.9999998], [1.0, 2.863722e-08], [5.9460985e-11, 1.0], [1.3361793e-07, 0.9999998], [1.1792195e-09, 1.0], [4.0729856e-06, 0.9999959], [1.0, 2.6634813e-08], [2.6549326e-06, 0.9999973], [0.0055310847, 0.99446887], [2.4123303e-09, 1.0], [1.197847e-08, 1.0], [2.391414e-11, 1.0], [0.9985488, 0.0014511419], [4.035799e-10, 1.0], [0.9998194, 0.00018059812], [0.6269969, 0.3730031], [3.9362897e-12, 1.0], [9.3028396e-10, 1.0], [1.0, 1.4272947e-08], [0.9999998, 2.9955942e-07], [1.0, 5.5033533e-10], [1.3835988e-07, 0.9999999], [1.0, 7.7902185e-10], [1.0, 2.9246033e-10], [1.9067434e-10, 1.0], [2.075213e-09, 1.0], [0.9999897, 1.0297163e-05], [1.0, 2.0243995e-08], [0.9999998, 2.0116201e-07], [1.0, 1.6233084e-09], [0.99999934, 6.242979e-07], [3.6523694e-11, 1.0], [6.9588386e-06, 0.999993], [7.5594826e-12, 1.0], [1.0, 1.9365268e-10], [0.9999895, 1.0483558e-05], [0.9999989, 1.0719816e-06], [1.0, 2.7273788e-09], [6.760028e-08, 1.0], [0.99999964, 3.234448e-07], [1.0, 9.529755e-10], [1.0, 7.782236e-09], [1.0, 1.0948857e-08], [0.9996799, 0.00032015663], [2.6891504e-08, 1.0], [0.99999887, 1.1514906e-06], [1.0, 4.430867e-08], [5.161445e-08, 1.0], [1.0, 5.4124305e-09], [1.0, 6.284794e-10], [3.5967423e-05, 0.99996394], [2.0281798e-10, 1.0], [0.9999997, 2.9639247e-07], [1.5524124e-12, 1.0], [1.9705676e-05, 0.9999803], [6.2542306e-08, 1.0], [0.9999997, 2.934542e-07], [3.060476e-10, 1.0], [0.0007607921, 0.99923915], [2.4735718e-05, 0.9999753], [1.4560084e-09, 1.0], [1.0, 3.5346318e-10], [1.2675296e-06, 0.99999875], [3.2644898e-09, 1.0], [0.99978906, 0.00021097079], [1.0, 2.788538e-12], [0.9999994, 6.148947e-07], [1.0, 4.752575e-10], [1.0, 1.011847e-09], [1.0, 1.1105897e-08], [1.0, 1.4471138e-08], [3.386042e-13, 1.0], [0.22861965, 0.7713803], [1.4969835e-10, 1.0], [7.3394936e-13, 1.0], [0.99999964, 4.0177073e-07], [0.98230666, 0.017693358], [1.0, 2.5692255e-08], [0.00024210903, 0.9997579], [1.0693064e-09, 1.0], [0.99999493, 5.1200886e-06], [8.386673e-09, 1.0], [0.9999995, 4.450506e-07], [0.78090423, 0.21909575], [3.6325156e-07, 0.99999964], [2.6439393e-05, 0.9999735], [1.0, 1.2216732e-12], [1.8938533e-06, 0.9999981], [6.509186e-11, 1.0], [3.0605612e-08, 1.0], [0.9999999, 1.0434515e-07], [0.014046726, 0.98595333], [0.0005736587, 0.99942625], [1.7871838e-11, 1.0], [2.3965715e-11, 1.0], [5.7326222e-05, 0.9999428], [0.8934585, 0.10654147], [1.0, 2.6665365e-08], [0.0115000615, 0.9885], [0.67307407, 0.32692593], [1.4793794e-08, 1.0], [1.0, 5.3797375e-09], [7.2564595e-05, 0.9999274], [2.2568091e-11, 1.0], [4.338879e-08, 1.0], [0.99946773, 0.0005322535], [2.2537819e-10, 1.0], [5.860459e-09, 1.0], [1.0, 2.9519995e-08], [1.8360283e-10, 1.0], [1.0, 4.083949e-08], [1.0, 2.9116123e-09], [1.9976782e-09, 1.0], [0.98416156, 0.015838448], [3.0827705e-06, 0.99999684], [3.176624e-10, 1.0], [8.515132e-11, 1.0], [2.3325133e-06, 0.99999774], [7.2032607e-09, 1.0], [2.1306678e-06, 0.9999979], [1.0, 1.11897265e-08], [1.0, 6.178555e-09], [1.0, 7.984507e-09], [8.2342314e-11, 1.0], [1.0, 6.31019e-10], [1.2371618e-06, 0.99999875], [1.0, 6.3826917e-09], [1.0, 1.23733965e-08], [4.5972737e-07, 0.99999964], [4.821925e-12, 1.0], [0.6105135, 0.3894865], [0.9999999, 8.414519e-08], [2.521412e-07, 0.9999998], [1.0, 4.3999981e-10], [1.0, 2.3216693e-08], [0.9999999, 1.5223897e-07], [1.7034603e-09, 1.0], [1.0, 1.0329154e-10], [3.13979e-09, 1.0], [9.325112e-12, 1.0], [8.363238e-10, 1.0], [2.6092604e-08, 1.0], [1.0, 5.5877365e-08], [4.302722e-09, 1.0], [1.0, 9.2652785e-10], [1.10936685e-11, 1.0], [2.6703652e-14, 1.0], [2.3451858e-07, 0.9999998], [3.7106453e-09, 1.0], [0.70854557, 0.2914544], [0.9999999, 1.2580517e-07], [0.999992, 7.9577185e-06], [0.99999714, 2.9552978e-06], [2.7429705e-09, 1.0], [3.3563403e-05, 0.99996644], [1.3782094e-10, 1.0], [0.9999999, 8.4976705e-08], [1.935987e-08, 1.0], [5.4328815e-08, 1.0], [1.0, 1.8771122e-09], [0.9995149, 0.00048508923], [0.9999997, 2.7717675e-07], [1.9659558e-06, 0.999998], [1.0, 4.4475364e-08], [1.0, 9.633789e-10], [0.9999997, 3.311366e-07], [2.0967196e-08, 1.0], [1.4017871e-09, 1.0], [1.0, 1.0488927e-08], [0.99999964, 3.9630382e-07], [1.0, 7.367116e-10], [0.99823797, 0.0017619785], [0.9999994, 5.8226885e-07], [7.876013e-09, 1.0], [0.9999962, 3.9172746e-06], [9.373741e-11, 1.0], [1.0, 9.360026e-13], [5.246317e-07, 0.9999994], [0.9999998, 2.1518304e-07], [0.06213405, 0.93786603], [1.0, 2.2086901e-09], [1.0, 1.2142277e-08], [1.4730628e-10, 1.0], [1.0, 4.991813e-10], [1.3020027e-10, 1.0], [5.155574e-06, 0.99999475], [1.8212116e-08, 1.0], [3.296272e-10, 1.0], [1.0, 1.7374715e-09], [1.571367e-08, 1.0], [7.871774e-08, 1.0], [8.2561995e-12, 1.0], [1.2175305e-10, 1.0], [1.0, 8.391426e-09], [1.005377e-09, 1.0], [1.0, 4.4152767e-08], [3.6445857e-09, 1.0], [0.9998223, 0.00017761716], [1.0, 2.0819486e-09], [1.0, 7.427979e-09], [6.146239e-08, 1.0], [2.3613035e-08, 1.0], [1.0868148e-11, 1.0], [1.0996073e-08, 1.0], [1.1378342e-08, 1.0], [2.5027752e-10, 1.0], [3.456493e-10, 1.0], [4.61134e-08, 1.0], [0.00012663763, 0.99987334], [1.0, 1.5329215e-08], [5.4991784e-12, 1.0], [2.4266232e-08, 1.0], [1.0, 4.401409e-09], [0.9999919, 8.125044e-06], [1.0, 3.9432907e-10], [0.9971073, 0.0028926427], [0.003312268, 0.99668777], [0.00063934014, 0.99936056], [2.344882e-09, 1.0], [1.0, 4.0603694e-09], [1.0, 1.4724708e-10], [1.0, 2.2228075e-08], [1.0, 1.8311513e-10], [0.99998826, 1.17698055e-05], [0.9999998, 2.3616306e-07], [2.6407392e-08, 1.0], [9.533721e-07, 0.99999917], [0.9922016, 0.00779833], [1.1424742e-09, 1.0], [1.0, 1.9877517e-09], [1.0, 9.384729e-10], [0.99999714, 2.850459e-06], [7.486073e-07, 0.9999992], [1.0, 1.1275243e-08], [3.1617282e-07, 0.9999997], [1.0, 3.7135496e-11], [3.6139743e-06, 0.9999965], [6.108959e-08, 1.0], [0.9996276, 0.00037233223], [0.14831531, 0.8516847], [0.99905, 0.00094992307], [5.6961026e-06, 0.9999943], [1.0, 8.853562e-09], [1.0, 7.3976603e-09], [1.0, 1.5286433e-08], [0.99999964, 3.2604004e-07], [3.5675485e-09, 1.0], [7.728201e-09, 1.0], [1.0, 1.4367619e-08], [0.9999994, 6.983704e-07], [4.2611217e-09, 1.0], [1.0, 6.0947863e-10], [3.4198608e-06, 0.99999654], [1.0, 1.511193e-09], [0.9504825, 0.049517505], [8.567054e-09, 1.0], [0.3832466, 0.61675346], [5.9380084e-10, 1.0], [1.4487173e-07, 0.9999999], [5.0906247e-06, 0.99999493], [4.5109322e-10, 1.0], [5.299567e-06, 0.99999475], [1.8900053e-08, 1.0], [1.8554664e-07, 0.9999998], [3.69556e-06, 0.9999963], [2.79596e-08, 1.0], [1.0, 1.8160046e-09], [0.9999994, 6.478555e-07], [6.588309e-10, 1.0], [1.2105028e-12, 1.0], [0.99999964, 4.097269e-07], [0.9999995, 5.57754e-07], [0.00010840713, 0.99989164], [1.2647259e-07, 0.9999999], [1.0, 1.3556706e-09], [1.0, 1.4873078e-10], [1.0, 9.80555e-09], [1.7744782e-06, 0.9999983], [0.72191966, 0.27808028], [0.9999941, 5.8407413e-06], [1.0, 1.3293891e-11], [2.7097437e-08, 1.0], [1.0, 5.4165366e-08], [0.99878156, 0.0012184242], [4.6693754e-10, 1.0], [5.299288e-08, 1.0], [1.3167137e-10, 1.0], [1.0, 4.1530415e-09], [5.605076e-09, 1.0], [1.0263704e-09, 1.0], [0.99998987, 1.0101498e-05], [0.9999998, 2.0241694e-07], [0.9911722, 0.008827723], [1.0, 1.3744467e-08], [0.99999964, 3.9361012e-07], [1.9738347e-09, 1.0], [3.9503574e-11, 1.0], [9.139874e-08, 0.9999999], [0.9999992, 8.7212845e-07], [1.0, 4.766755e-09], [0.99999887, 1.200869e-06], [4.222866e-09, 1.0], [4.1213566e-10, 1.0], [0.15074179, 0.84925824], [1.0, 7.103644e-09], [0.99999887, 1.1595523e-06], [0.9999838, 1.625784e-05], [0.9999994, 5.692467e-07], [1.0, 5.532331e-10], [1.293922e-07, 0.9999998], [1.0, 1.0982553e-08], [2.7912408e-12, 1.0], [1.0774287e-07, 1.0], [9.7337725e-05, 0.9999026], [1.4157453e-06, 0.99999857], [5.0903247e-05, 0.9999491], [1.791359e-06, 0.9999982], [2.3145666e-11, 1.0], [4.3075468e-09, 1.0], [4.8782346e-11, 1.0], [1.0, 1.1126333e-09], [1.0, 1.791193e-09], [1.0, 6.0366155e-08], [6.3386846e-10, 1.0], [9.6501765e-12, 1.0], [1.0, 8.960807e-11]]\n"
          ],
          "name": "stdout"
        }
      ]
    },
    {
      "cell_type": "code",
      "metadata": {
        "id": "uzI-bk8OF8V3"
      },
      "source": [
        "pred = np.array(l).argmax(axis=1)"
      ],
      "execution_count": null,
      "outputs": []
    },
    {
      "cell_type": "code",
      "metadata": {
        "colab": {
          "base_uri": "https://localhost:8080/"
        },
        "id": "xYsPlpqjJu_A",
        "outputId": "93308194-1e3c-49e1-9cf8-4dc903039858"
      },
      "source": [
        "np.array(l)"
      ],
      "execution_count": null,
      "outputs": [
        {
          "output_type": "execute_result",
          "data": {
            "text/plain": [
              "array([[5.9341809e-10, 1.0000000e+00],\n",
              "       [1.6844873e-12, 1.0000000e+00],\n",
              "       [2.1646804e-09, 1.0000000e+00],\n",
              "       ...,\n",
              "       [6.3386846e-10, 1.0000000e+00],\n",
              "       [9.6501765e-12, 1.0000000e+00],\n",
              "       [1.0000000e+00, 8.9608071e-11]], dtype=float32)"
            ]
          },
          "metadata": {
            "tags": []
          },
          "execution_count": 24
        }
      ]
    },
    {
      "cell_type": "code",
      "metadata": {
        "colab": {
          "base_uri": "https://localhost:8080/"
        },
        "id": "LasqhwqEGAxq",
        "outputId": "ce8a3dd5-0ac2-4f34-b2c1-e27b97b85399"
      },
      "source": [
        "pred[0:10]"
      ],
      "execution_count": null,
      "outputs": [
        {
          "output_type": "execute_result",
          "data": {
            "text/plain": [
              "array([1, 1, 1, 1, 0, 0, 0, 0, 0, 0])"
            ]
          },
          "metadata": {
            "tags": []
          },
          "execution_count": 25
        }
      ]
    },
    {
      "cell_type": "code",
      "metadata": {
        "colab": {
          "base_uri": "https://localhost:8080/"
        },
        "id": "vAfi1fI3GBiH",
        "outputId": "28f6abc8-a66f-451c-e994-9ab68b85541a"
      },
      "source": [
        "pred_prob_dog = list(np.array(l)[:,1])\n",
        "pred_prob_dog"
      ],
      "execution_count": null,
      "outputs": [
        {
          "output_type": "execute_result",
          "data": {
            "text/plain": [
              "[1.0,\n",
              " 1.0,\n",
              " 1.0,\n",
              " 0.9999998,\n",
              " 2.68223e-08,\n",
              " 3.69068e-07,\n",
              " 1.0380744e-09,\n",
              " 5.028188e-09,\n",
              " 2.5374626e-07,\n",
              " 5.0193e-06,\n",
              " 3.4088026e-07,\n",
              " 0.99997646,\n",
              " 1.4216805e-08,\n",
              " 0.00066941715,\n",
              " 5.1193314e-08,\n",
              " 3.0006063e-06,\n",
              " 0.9949384,\n",
              " 1.0,\n",
              " 3.1295766e-09,\n",
              " 1.2616431e-06,\n",
              " 1.0,\n",
              " 1.016003e-08,\n",
              " 1.0,\n",
              " 0.99999964,\n",
              " 4.8520064e-07,\n",
              " 0.9999877,\n",
              " 1.0,\n",
              " 3.2287033e-09,\n",
              " 0.20152032,\n",
              " 0.9999998,\n",
              " 1.0,\n",
              " 0.4847363,\n",
              " 1.0,\n",
              " 6.2272667e-09,\n",
              " 1.1721572e-10,\n",
              " 9.67711e-08,\n",
              " 1.2103598e-09,\n",
              " 8.093034e-10,\n",
              " 0.99753207,\n",
              " 5.7447608e-08,\n",
              " 1.0,\n",
              " 1.0,\n",
              " 1.0,\n",
              " 0.9999998,\n",
              " 3.6562167e-10,\n",
              " 0.992241,\n",
              " 9.747397e-09,\n",
              " 0.9999998,\n",
              " 1.0,\n",
              " 5.0054904e-08,\n",
              " 1.1231103e-09,\n",
              " 2.4326525e-07,\n",
              " 1.4825896e-05,\n",
              " 2.0216248e-07,\n",
              " 2.7879707e-07,\n",
              " 0.99999106,\n",
              " 1.0,\n",
              " 1.3253688e-10,\n",
              " 0.99999887,\n",
              " 5.7158798e-09,\n",
              " 5.7344623e-10,\n",
              " 0.99999774,\n",
              " 1.458609e-10,\n",
              " 2.7084523e-05,\n",
              " 1.0,\n",
              " 0.99531996,\n",
              " 1.0,\n",
              " 2.855991e-09,\n",
              " 1.0,\n",
              " 1.0,\n",
              " 0.99999934,\n",
              " 1.0,\n",
              " 1.0,\n",
              " 1.0,\n",
              " 0.0001613503,\n",
              " 0.9999998,\n",
              " 1.0,\n",
              " 0.99999887,\n",
              " 0.9999992,\n",
              " 3.085739e-06,\n",
              " 0.01277071,\n",
              " 9.66215e-06,\n",
              " 1.0,\n",
              " 0.00022412176,\n",
              " 1.0,\n",
              " 0.9999955,\n",
              " 1.0,\n",
              " 1.0,\n",
              " 8.6224733e-10,\n",
              " 0.010040219,\n",
              " 1.6979122e-06,\n",
              " 7.8124465e-08,\n",
              " 2.7447231e-09,\n",
              " 1.0,\n",
              " 1.0,\n",
              " 1.1328509e-10,\n",
              " 0.9999997,\n",
              " 0.9999973,\n",
              " 4.2040558e-08,\n",
              " 5.1667253e-06,\n",
              " 1.7346586e-09,\n",
              " 1.0,\n",
              " 2.7693355e-08,\n",
              " 1.512613e-11,\n",
              " 0.9996889,\n",
              " 1.0,\n",
              " 6.9645893e-09,\n",
              " 2.7056012e-06,\n",
              " 0.99998826,\n",
              " 1.0,\n",
              " 0.99999255,\n",
              " 1.0,\n",
              " 1.0,\n",
              " 4.193685e-08,\n",
              " 6.612011e-09,\n",
              " 4.0105474e-10,\n",
              " 2.2189945e-09,\n",
              " 1.0,\n",
              " 1.0,\n",
              " 2.1511125e-05,\n",
              " 0.004968828,\n",
              " 3.5556363e-10,\n",
              " 3.862609e-07,\n",
              " 1.8223035e-09,\n",
              " 6.618799e-07,\n",
              " 0.792573,\n",
              " 0.9999992,\n",
              " 9.2719485e-11,\n",
              " 1.4301211e-09,\n",
              " 0.9999779,\n",
              " 1.0,\n",
              " 0.9996036,\n",
              " 3.8925396e-06,\n",
              " 2.655894e-08,\n",
              " 5.3709384e-09,\n",
              " 3.6279738e-07,\n",
              " 1.0,\n",
              " 0.014713945,\n",
              " 0.010368916,\n",
              " 1.599313e-08,\n",
              " 1.0253285e-08,\n",
              " 0.9999998,\n",
              " 1.0,\n",
              " 0.019199457,\n",
              " 6.123586e-09,\n",
              " 1.0,\n",
              " 0.99999917,\n",
              " 0.043043293,\n",
              " 1.1071544e-10,\n",
              " 2.2031706e-10,\n",
              " 0.9999943,\n",
              " 0.00020774046,\n",
              " 4.345847e-12,\n",
              " 4.4387917e-07,\n",
              " 0.9999998,\n",
              " 1.5081796e-10,\n",
              " 1.3084109e-09,\n",
              " 1.0,\n",
              " 1.0,\n",
              " 0.9999999,\n",
              " 1.7282806e-08,\n",
              " 1.5889533e-09,\n",
              " 1.1745212e-10,\n",
              " 1.0,\n",
              " 1.0869463e-05,\n",
              " 4.3917327e-05,\n",
              " 1.0,\n",
              " 1.9120408e-10,\n",
              " 2.3096199e-10,\n",
              " 4.8333687e-10,\n",
              " 0.00012713623,\n",
              " 0.99999964,\n",
              " 0.99913055,\n",
              " 5.3957006e-10,\n",
              " 1.0,\n",
              " 1.0,\n",
              " 1.0,\n",
              " 1.0,\n",
              " 0.99974984,\n",
              " 3.466962e-08,\n",
              " 1.0,\n",
              " 1.0,\n",
              " 2.8652943e-07,\n",
              " 5.701601e-09,\n",
              " 7.5304815e-06,\n",
              " 2.2760047e-10,\n",
              " 1.2717964e-08,\n",
              " 2.3725793e-08,\n",
              " 2.556013e-08,\n",
              " 1.0,\n",
              " 1.6198797e-08,\n",
              " 2.500066e-07,\n",
              " 7.776542e-09,\n",
              " 4.1373563e-10,\n",
              " 0.99999666,\n",
              " 0.99999905,\n",
              " 0.99680007,\n",
              " 6.2887193e-07,\n",
              " 1.0,\n",
              " 0.99992627,\n",
              " 1.0,\n",
              " 7.5424245e-09,\n",
              " 1.0,\n",
              " 1.0,\n",
              " 1.9148079e-09,\n",
              " 0.0002817487,\n",
              " 1.0,\n",
              " 3.2539667e-08,\n",
              " 2.4761068e-05,\n",
              " 2.3831463e-09,\n",
              " 1.0,\n",
              " 1.0,\n",
              " 0.1197836,\n",
              " 0.9999089,\n",
              " 1.0,\n",
              " 0.9999998,\n",
              " 1.0,\n",
              " 9.181696e-08,\n",
              " 1.0,\n",
              " 1.0,\n",
              " 1.8602515e-08,\n",
              " 1.0,\n",
              " 1.0,\n",
              " 8.153191e-10,\n",
              " 1.0,\n",
              " 0.9999999,\n",
              " 0.9999999,\n",
              " 8.09067e-08,\n",
              " 1.0,\n",
              " 5.2583677e-05,\n",
              " 1.0,\n",
              " 0.12641326,\n",
              " 5.606112e-08,\n",
              " 3.142871e-05,\n",
              " 1.0,\n",
              " 0.999983,\n",
              " 2.0963004e-08,\n",
              " 0.99965256,\n",
              " 2.7790448e-10,\n",
              " 0.9999992,\n",
              " 1.0,\n",
              " 1.0,\n",
              " 2.199826e-11,\n",
              " 0.9999998,\n",
              " 1.0,\n",
              " 2.0037837e-06,\n",
              " 1.0,\n",
              " 4.7415733e-06,\n",
              " 1.9784457e-05,\n",
              " 1.0,\n",
              " 1.0,\n",
              " 1.6499705e-09,\n",
              " 1.0,\n",
              " 7.984666e-07,\n",
              " 5.3296475e-08,\n",
              " 2.7931224e-10,\n",
              " 0.999998,\n",
              " 1.0,\n",
              " 9.479259e-08,\n",
              " 4.673043e-08,\n",
              " 1.644145e-07,\n",
              " 0.9999984,\n",
              " 4.5493413e-09,\n",
              " 6.4338237e-06,\n",
              " 1.0,\n",
              " 1.4942275e-09,\n",
              " 8.153191e-10,\n",
              " 1.7359227e-09,\n",
              " 1.0,\n",
              " 1.0,\n",
              " 1.0,\n",
              " 5.0708673e-09,\n",
              " 0.9999998,\n",
              " 3.957252e-08,\n",
              " 0.0007999735,\n",
              " 1.0,\n",
              " 0.9996505,\n",
              " 2.6267108e-09,\n",
              " 3.8388226e-09,\n",
              " 0.9999999,\n",
              " 0.99999714,\n",
              " 1.0,\n",
              " 3.1767108e-08,\n",
              " 1.0,\n",
              " 3.8344905e-10,\n",
              " 1.0,\n",
              " 2.7581648e-09,\n",
              " 2.2138224e-07,\n",
              " 1.0,\n",
              " 9.32087e-10,\n",
              " 6.350044e-06,\n",
              " 1.0,\n",
              " 0.9999936,\n",
              " 0.023350717,\n",
              " 6.37784e-08,\n",
              " 1.0,\n",
              " 1.0,\n",
              " 0.9999987,\n",
              " 1.0,\n",
              " 3.417073e-08,\n",
              " 1.079396e-09,\n",
              " 6.0952012e-09,\n",
              " 6.489281e-09,\n",
              " 3.223342e-10,\n",
              " 1.8114077e-08,\n",
              " 0.99999964,\n",
              " 1.0,\n",
              " 2.4157227e-08,\n",
              " 2.6021256e-09,\n",
              " 1.856936e-05,\n",
              " 1.1222825e-06,\n",
              " 0.00062246784,\n",
              " 1.7886288e-07,\n",
              " 3.771314e-06,\n",
              " 1.0,\n",
              " 2.1446564e-05,\n",
              " 1.0,\n",
              " 8.759649e-05,\n",
              " 1.0,\n",
              " 3.863687e-08,\n",
              " 1.7416923e-07,\n",
              " 0.9999999,\n",
              " 6.8599905e-07,\n",
              " 2.5800193e-09,\n",
              " 0.9999682,\n",
              " 0.9999998,\n",
              " 0.9957428,\n",
              " 1.0,\n",
              " 5.5947362e-09,\n",
              " 0.51609284,\n",
              " 0.5850632,\n",
              " 0.9996317,\n",
              " 1.0,\n",
              " 5.901167e-09,\n",
              " 3.876143e-07,\n",
              " 7.4060665e-07,\n",
              " 1.0,\n",
              " 1.1858648e-06,\n",
              " 3.778232e-12,\n",
              " 3.277146e-08,\n",
              " 2.6477e-05,\n",
              " 4.4249725e-11,\n",
              " 0.017993055,\n",
              " 3.8617833e-05,\n",
              " 0.0037527576,\n",
              " 1.0,\n",
              " 5.003548e-07,\n",
              " 0.9999994,\n",
              " 2.7284818e-07,\n",
              " 1.0,\n",
              " 5.8682474e-08,\n",
              " 1.0,\n",
              " 1.0,\n",
              " 0.9999696,\n",
              " 0.9997803,\n",
              " 0.9999569,\n",
              " 1.6619878e-10,\n",
              " 1.0,\n",
              " 1.799996e-08,\n",
              " 4.211856e-09,\n",
              " 0.9999825,\n",
              " 3.1609716e-08,\n",
              " 1.0,\n",
              " 2.3711887e-07,\n",
              " 0.9999998,\n",
              " 1.0,\n",
              " 1.0,\n",
              " 1.0,\n",
              " 1.0,\n",
              " 0.9999989,\n",
              " 0.9999994,\n",
              " 3.7425073e-11,\n",
              " 1.0,\n",
              " 5.6328084e-08,\n",
              " 1.0,\n",
              " 1.1806145e-09,\n",
              " 0.9999997,\n",
              " 1.0524966e-10,\n",
              " 1.0,\n",
              " 0.9018695,\n",
              " 1.0,\n",
              " 8.8689296e-07,\n",
              " 1.0,\n",
              " 1.0,\n",
              " 1.0,\n",
              " 7.002837e-08,\n",
              " 3.0724797e-07,\n",
              " 1.1842171e-09,\n",
              " 1.0,\n",
              " 3.205657e-05,\n",
              " 0.021159459,\n",
              " 0.98448485,\n",
              " 4.4543206e-08,\n",
              " 1.0,\n",
              " 0.9999921,\n",
              " 5.946332e-06,\n",
              " 1.0,\n",
              " 5.9541606e-05,\n",
              " 1.0,\n",
              " 0.9992458,\n",
              " 1.0,\n",
              " 2.6310467e-09,\n",
              " 1.0,\n",
              " 8.124642e-10,\n",
              " 1.0,\n",
              " 1.0,\n",
              " 4.6469013e-05,\n",
              " 3.6329666e-07,\n",
              " 0.007901043,\n",
              " 2.6810577e-07,\n",
              " 1.0,\n",
              " 1.0,\n",
              " 1.0,\n",
              " 1.2430743e-09,\n",
              " 1.0,\n",
              " 5.60373e-07,\n",
              " 0.9999982,\n",
              " 1.0,\n",
              " 0.9992095,\n",
              " 1.0,\n",
              " 1.0,\n",
              " 1.0,\n",
              " 1.0,\n",
              " 1.0,\n",
              " 0.99999666,\n",
              " 2.3015774e-08,\n",
              " 0.99259055,\n",
              " 2.4989981e-06,\n",
              " 1.0,\n",
              " 1.0,\n",
              " 1.0,\n",
              " 1.7824437e-08,\n",
              " 0.9999999,\n",
              " 0.7327085,\n",
              " 1.0,\n",
              " 4.203397e-06,\n",
              " 2.7736968e-08,\n",
              " 0.9980656,\n",
              " 1.0,\n",
              " 0.99998254,\n",
              " 5.214011e-12,\n",
              " 6.756171e-10,\n",
              " 0.9999992,\n",
              " 2.0922835e-06,\n",
              " 2.8040414e-08,\n",
              " 1.0,\n",
              " 4.5455555e-09,\n",
              " 9.0731774e-08,\n",
              " 4.9062333e-08,\n",
              " 1.0,\n",
              " 6.2691626e-08,\n",
              " 0.99998933,\n",
              " 1.0,\n",
              " 5.892689e-09,\n",
              " 2.2249413e-05,\n",
              " 8.839398e-06,\n",
              " 0.9999962,\n",
              " 4.633946e-07,\n",
              " 1.0,\n",
              " 0.9999981,\n",
              " 3.9007537e-06,\n",
              " 5.9255095e-10,\n",
              " 0.9999999,\n",
              " 1.0411734e-07,\n",
              " 1.3155155e-09,\n",
              " 1.0,\n",
              " 1.0,\n",
              " 7.9709594e-08,\n",
              " 1.0,\n",
              " 1.0,\n",
              " 1.1464671e-11,\n",
              " 0.99999875,\n",
              " 1.0,\n",
              " 0.9990795,\n",
              " 1.0,\n",
              " 3.7873676e-07,\n",
              " 3.1012638e-05,\n",
              " 9.591625e-09,\n",
              " 1.0,\n",
              " 0.9999978,\n",
              " 1.0,\n",
              " 1.0,\n",
              " 0.999936,\n",
              " 5.4341115e-08,\n",
              " 0.9999854,\n",
              " 1.0,\n",
              " 2.892245e-06,\n",
              " 1.8517657e-08,\n",
              " 0.99941367,\n",
              " 0.9999997,\n",
              " 1.0,\n",
              " 2.52374e-06,\n",
              " 5.9255324e-08,\n",
              " 3.5672199e-09,\n",
              " 0.9999898,\n",
              " 1.0,\n",
              " 2.2678627e-08,\n",
              " 0.99999964,\n",
              " 1.0,\n",
              " 0.008399373,\n",
              " 0.99999905,\n",
              " 2.0632767e-09,\n",
              " 1.0,\n",
              " 9.702249e-11,\n",
              " 2.8165875e-08,\n",
              " 1.7278886e-09,\n",
              " 1.0,\n",
              " 0.9999999,\n",
              " 1.0,\n",
              " 1.0,\n",
              " 1.0,\n",
              " 2.2232753e-09,\n",
              " 1.0,\n",
              " 1.5698157e-07,\n",
              " 1.0,\n",
              " 1.0,\n",
              " 1.0,\n",
              " 0.99999934,\n",
              " 3.3105199e-09,\n",
              " 5.7355777e-08,\n",
              " 1.0,\n",
              " 1.49007775e-08,\n",
              " 1.0,\n",
              " 2.080429e-06,\n",
              " 9.82174e-10,\n",
              " 1.364372e-07,\n",
              " 0.99988014,\n",
              " 1.0,\n",
              " 2.8343256e-05,\n",
              " 2.624146e-09,\n",
              " 0.99999666,\n",
              " 0.80723256,\n",
              " 9.675462e-10,\n",
              " 0.9999995,\n",
              " 4.1100193e-08,\n",
              " 1.0,\n",
              " 4.9525944e-10,\n",
              " 1.4949254e-08,\n",
              " 6.3144445e-10,\n",
              " 1.0,\n",
              " 5.417022e-10,\n",
              " 1.0,\n",
              " 2.5762272e-09,\n",
              " 0.016067896,\n",
              " 1.0,\n",
              " 0.47631827,\n",
              " 1.0,\n",
              " 1.0,\n",
              " 9.132556e-13,\n",
              " 3.0090455e-08,\n",
              " 0.0071812137,\n",
              " 1.0,\n",
              " 2.4299155e-05,\n",
              " 9.750264e-05,\n",
              " 1.0,\n",
              " 3.649499e-09,\n",
              " 0.99999875,\n",
              " 0.9999987,\n",
              " 0.9999997,\n",
              " 0.9999999,\n",
              " 5.5520575e-09,\n",
              " 8.811385e-09,\n",
              " 6.095375e-08,\n",
              " 3.607724e-08,\n",
              " 1.0,\n",
              " 8.565892e-09,\n",
              " 9.656687e-08,\n",
              " 1.0,\n",
              " 0.99999726,\n",
              " 3.4469558e-10,\n",
              " 0.9400811,\n",
              " 1.0400917e-05,\n",
              " 3.2266973e-05,\n",
              " 0.9999999,\n",
              " 9.013856e-09,\n",
              " 0.0037706222,\n",
              " 1.577964e-08,\n",
              " 2.4861043e-07,\n",
              " 4.817224e-10,\n",
              " 7.54546e-09,\n",
              " 0.9999999,\n",
              " 1.0,\n",
              " 2.2290969e-08,\n",
              " 9.6092336e-08,\n",
              " 1.0,\n",
              " 1.5435628e-08,\n",
              " 5.174065e-10,\n",
              " 7.627573e-07,\n",
              " 8.5933274e-11,\n",
              " 0.9999995,\n",
              " 1.0,\n",
              " 9.661818e-06,\n",
              " 1.0,\n",
              " 1.0,\n",
              " 0.99999917,\n",
              " 1.0860985e-08,\n",
              " 0.99999714,\n",
              " 3.7726346e-07,\n",
              " 1.5970439e-09,\n",
              " 1.6483492e-10,\n",
              " 0.99820614,\n",
              " 1.687819e-07,\n",
              " 4.63645e-09,\n",
              " 3.477704e-05,\n",
              " 2.64513e-09,\n",
              " 0.00065437576,\n",
              " 0.999986,\n",
              " 1.0,\n",
              " 2.5370998e-08,\n",
              " 0.9999999,\n",
              " 8.1453464e-07,\n",
              " 1.0,\n",
              " 4.3208289e-07,\n",
              " 6.0185935e-06,\n",
              " 3.7669005e-07,\n",
              " 0.999996,\n",
              " 1.0,\n",
              " 9.207982e-05,\n",
              " 1.2302598e-05,\n",
              " 0.99200505,\n",
              " 2.2551685e-09,\n",
              " 8.627833e-10,\n",
              " 2.569937e-06,\n",
              " 3.9614476e-09,\n",
              " 1.2380121e-06,\n",
              " 0.9999994,\n",
              " 1.626823e-07,\n",
              " 5.7614635e-10,\n",
              " 0.9997775,\n",
              " 1.0,\n",
              " 1.0,\n",
              " 1.0,\n",
              " 1.0,\n",
              " 7.881045e-09,\n",
              " 0.027710881,\n",
              " 0.9999959,\n",
              " 1.0,\n",
              " 2.7295538e-10,\n",
              " 1.5621152e-11,\n",
              " 1.3338902e-07,\n",
              " 0.9999989,\n",
              " 1.1226189e-09,\n",
              " 1.0,\n",
              " 0.9999994,\n",
              " 5.810608e-05,\n",
              " 8.103957e-06,\n",
              " 9.56961e-10,\n",
              " 5.422948e-07,\n",
              " 4.8265473e-08,\n",
              " 1.0,\n",
              " 1.0,\n",
              " 1.0,\n",
              " 2.8075674e-06,\n",
              " 1.0,\n",
              " 1.0,\n",
              " 0.99999964,\n",
              " 1.0,\n",
              " 1.0,\n",
              " 2.9798863e-07,\n",
              " 2.3019982e-08,\n",
              " 1.0,\n",
              " 1.6720104e-07,\n",
              " 2.1568396e-09,\n",
              " 1.551267e-09,\n",
              " 2.9238137e-08,\n",
              " 1.4741586e-06,\n",
              " 1.0,\n",
              " 1.0,\n",
              " 1.0,\n",
              " 0.9999881,\n",
              " 1.6759625e-09,\n",
              " 4.6254938e-09,\n",
              " 1.8502871e-10,\n",
              " 1.380349e-06,\n",
              " 0.5929338,\n",
              " 0.9999997,\n",
              " 3.0390883e-09,\n",
              " 0.34180945,\n",
              " 1.0,\n",
              " 5.5535406e-08,\n",
              " 1.0,\n",
              " 3.5109746e-10,\n",
              " 5.028601e-09,\n",
              " 1.0,\n",
              " 1.0,\n",
              " 0.9999997,\n",
              " 0.9999994,\n",
              " 1.0,\n",
              " 6.119882e-09,\n",
              " 0.9313157,\n",
              " 1.0,\n",
              " 7.578112e-09,\n",
              " 0.99892855,\n",
              " 0.9977024,\n",
              " 1.0,\n",
              " 4.7520064e-11,\n",
              " 4.121607e-10,\n",
              " 5.0930466e-12,\n",
              " 1.1623015e-10,\n",
              " 1.0,\n",
              " 7.2031824e-08,\n",
              " 1.3746654e-09,\n",
              " 3.3064612e-08,\n",
              " 4.3708507e-08,\n",
              " 0.99961126,\n",
              " 1.0,\n",
              " 1.0,\n",
              " 1.0,\n",
              " 1.0,\n",
              " 0.9993585,\n",
              " 1.926855e-12,\n",
              " 1.0,\n",
              " 1.0,\n",
              " 2.4715482e-07,\n",
              " 1.0,\n",
              " 0.033058275,\n",
              " 8.83126e-07,\n",
              " 1.0,\n",
              " 0.9999998,\n",
              " 3.4373027e-10,\n",
              " 0.0902705,\n",
              " 1.0058692e-08,\n",
              " 0.9999997,\n",
              " 0.99212295,\n",
              " 1.0,\n",
              " 3.966229e-09,\n",
              " 0.99997246,\n",
              " 3.1680234e-09,\n",
              " 8.2017193e-10,\n",
              " 1.0,\n",
              " 1.0,\n",
              " 1.0,\n",
              " 9.458728e-10,\n",
              " 1.1566421e-12,\n",
              " 1.0,\n",
              " 0.99999875,\n",
              " 3.511051e-10,\n",
              " 1.0,\n",
              " 0.99998605,\n",
              " 0.00031626283,\n",
              " 0.03071252,\n",
              " 1.0,\n",
              " 0.9999982,\n",
              " 0.9970659,\n",
              " 1.0,\n",
              " 1.0,\n",
              " 1.0,\n",
              " 1.089832e-07,\n",
              " 5.4428615e-08,\n",
              " 0.9999995,\n",
              " 6.3250363e-06,\n",
              " 1.0,\n",
              " 1.9768283e-06,\n",
              " 1.1305997e-08,\n",
              " 6.823633e-08,\n",
              " 1.0416755e-06,\n",
              " 1.0,\n",
              " 4.455827e-08,\n",
              " 1.777803e-09,\n",
              " 0.9999998,\n",
              " 1.0,\n",
              " 7.934577e-09,\n",
              " 0.9999997,\n",
              " 0.009575261,\n",
              " 1.0,\n",
              " 0.9999558,\n",
              " 1.0,\n",
              " 0.99999964,\n",
              " 1.0,\n",
              " 0.9996813,\n",
              " 6.897335e-09,\n",
              " 2.3642048e-08,\n",
              " 1.0,\n",
              " 2.716242e-06,\n",
              " 2.4851718e-09,\n",
              " 0.0017864065,\n",
              " 1.0,\n",
              " 8.87569e-09,\n",
              " 1.0,\n",
              " 1.0,\n",
              " 1.0,\n",
              " 0.01385588,\n",
              " 1.0,\n",
              " 0.99999964,\n",
              " 7.16465e-07,\n",
              " 1.0,\n",
              " 6.153548e-08,\n",
              " 1.976211e-07,\n",
              " 0.9999995,\n",
              " 1.0,\n",
              " 1.0,\n",
              " 0.9999998,\n",
              " 0.99998486,\n",
              " 0.9999998,\n",
              " 1.270658e-09,\n",
              " 0.20987669,\n",
              " 1.0,\n",
              " 1.0,\n",
              " 3.0369643e-12,\n",
              " 1.0,\n",
              " 2.7604156e-07,\n",
              " 0.00032976439,\n",
              " 6.6603448e-06,\n",
              " 2.5889346e-11,\n",
              " 1.0,\n",
              " 1.0,\n",
              " 1.0,\n",
              " 0.9999858,\n",
              " 1.0,\n",
              " 1.0,\n",
              " 3.708285e-06,\n",
              " 1.0,\n",
              " 0.26661476,\n",
              " 0.9999995,\n",
              " 1.0,\n",
              " 1.0,\n",
              " 2.4660329e-08,\n",
              " 1.0,\n",
              " 1.0,\n",
              " 1.1219965e-05,\n",
              " 0.99999714,\n",
              " 1.9710347e-10,\n",
              " 1.0,\n",
              " 2.3131008e-09,\n",
              " 2.7399334e-08,\n",
              " 1.0,\n",
              " 2.1869837e-09,\n",
              " 1.0,\n",
              " 1.0,\n",
              " 2.0662435e-07,\n",
              " 4.790093e-09,\n",
              " 1.0,\n",
              " 0.99999934,\n",
              " 1.0,\n",
              " 1.0,\n",
              " 3.4729062e-08,\n",
              " 1.0,\n",
              " 1.116937e-06,\n",
              " 0.9999989,\n",
              " 0.010809262,\n",
              " 3.6148995e-07,\n",
              " 1.0,\n",
              " 4.0554596e-08,\n",
              " 0.9999919,\n",
              " 1.0,\n",
              " 1.0,\n",
              " 1.8197674e-06,\n",
              " 1.0,\n",
              " 3.3574027e-10,\n",
              " 7.307309e-09,\n",
              " 0.9999999,\n",
              " 3.6853044e-07,\n",
              " 1.0,\n",
              " 1.0,\n",
              " 6.0631336e-08,\n",
              " 4.818268e-08,\n",
              " 0.9999998,\n",
              " 1.0,\n",
              " 6.9052696e-08,\n",
              " 9.007954e-06,\n",
              " 1.0,\n",
              " 0.9999983,\n",
              " 1.0,\n",
              " 1.0,\n",
              " 1.0,\n",
              " 1.0,\n",
              " 1.9658206e-09,\n",
              " 5.3495717e-07,\n",
              " 6.478141e-08,\n",
              " 0.9999997,\n",
              " 1.0,\n",
              " 9.312068e-08,\n",
              " 1.0,\n",
              " 1.0,\n",
              " 4.555532e-09,\n",
              " 1.0,\n",
              " 2.7586808e-10,\n",
              " 0.9793351,\n",
              " 0.99999505,\n",
              " 1.7424847e-07,\n",
              " 0.00012178648,\n",
              " 1.0,\n",
              " 1.0,\n",
              " 1.0,\n",
              " 1.0,\n",
              " 2.851229e-08,\n",
              " 1.0,\n",
              " 4.061717e-09,\n",
              " 3.5759284e-09,\n",
              " 0.9499415,\n",
              " 0.9997884,\n",
              " 0.9999992,\n",
              " 1.0,\n",
              " 2.6715532e-05,\n",
              " 0.02707104,\n",
              " 1.5152368e-05,\n",
              " 3.2903458e-07,\n",
              " 1.2995129e-10,\n",
              " 1.0,\n",
              " 1.0,\n",
              " 0.9999999,\n",
              " 0.00073424,\n",
              " 0.9999999,\n",
              " 1.0,\n",
              " 5.6461684e-09,\n",
              " 6.154286e-07,\n",
              " 1.0,\n",
              " 0.99999666,\n",
              " 1.3567148e-07,\n",
              " 9.56383e-08,\n",
              " 1.3747217e-06,\n",
              " 1.0,\n",
              " 0.99998534,\n",
              " 2.5154833e-07,\n",
              " 0.9897872,\n",
              " 0.9999975,\n",
              " 7.466851e-09,\n",
              " 1.0,\n",
              " 0.00013511663,\n",
              " 4.622804e-07,\n",
              " 2.1859305e-09,\n",
              " 0.9999981,\n",
              " 1.0,\n",
              " 2.7149985e-08,\n",
              " 7.21421e-11,\n",
              " 6.557102e-11,\n",
              " 1.9544481e-10,\n",
              " 5.444247e-11,\n",
              " 0.017276548,\n",
              " 1.0,\n",
              " 1.1082875e-08,\n",
              " 1.0385783e-05,\n",
              " 6.9722936e-11,\n",
              " 0.9977269,\n",
              " 0.99999726,\n",
              " 2.0091305e-08,\n",
              " 0.0018715136,\n",
              " 5.912738e-07,\n",
              " 0.99982274,\n",
              " 1.0,\n",
              " 7.1332993e-09,\n",
              " 5.6728373e-09,\n",
              " 0.00012909473,\n",
              " 1.0,\n",
              " 0.99993336,\n",
              " 1.0,\n",
              " 9.3062783e-07,\n",
              " 2.3771668e-06,\n",
              " 1.0,\n",
              " 0.99999905,\n",
              " 3.3025527e-10,\n",
              " 1.9485245e-07,\n",
              " 1.0,\n",
              " 0.0037790854,\n",
              " 0.9999999,\n",
              " 1.0,\n",
              " 0.9999998,\n",
              " 1.0,\n",
              " 7.808546e-08,\n",
              " 1.0,\n",
              " 1.2036175e-10,\n",
              " 0.9999995,\n",
              " 1.0,\n",
              " 0.00017632106,\n",
              " 1.2389935e-08,\n",
              " 1.0,\n",
              " 1.874162e-11,\n",
              " 0.9999999,\n",
              " 1.0,\n",
              " 1.0,\n",
              " 0.9999932,\n",
              " 0.999998,\n",
              " 1.7267233e-11,\n",
              " 1.0,\n",
              " 2.0734219e-09,\n",
              " 1.4322377e-06,\n",
              " 0.011807598,\n",
              " 1.6195982e-07,\n",
              " 0.9999958,\n",
              " 1.0,\n",
              " 1.0,\n",
              " 0.8995627,\n",
              " 1.0,\n",
              " 1.0,\n",
              " 2.8614582e-09,\n",
              " 2.6679663e-07,\n",
              " 7.005675e-08,\n",
              " 2.85135e-06,\n",
              " 0.99998015,\n",
              " 2.892673e-11,\n",
              " 3.7978676e-05,\n",
              " 1.0,\n",
              " 0.9998433,\n",
              " 2.4117384e-08,\n",
              " 0.82427853,\n",
              " 1.1487617e-06,\n",
              " 1.0,\n",
              " 1.0,\n",
              " 1.8176623e-05,\n",
              " 1.0,\n",
              " ...]"
            ]
          },
          "metadata": {
            "tags": []
          },
          "execution_count": 26
        }
      ]
    },
    {
      "cell_type": "code",
      "metadata": {
        "colab": {
          "base_uri": "https://localhost:8080/",
          "height": 514
        },
        "id": "1v4XSxRnGEIU",
        "outputId": "46619896-80bd-4ece-dd47-ff243d229f19"
      },
      "source": [
        "index = [i+1 for i in range (12500)]\n",
        "\n",
        "import pandas as pd\n",
        "df = pd.DataFrame(columns=['id', 'label'])\n",
        "\n",
        "df['id'] = index\n",
        "df['label'] = pred_prob_dog\n",
        "df.head(15)"
      ],
      "execution_count": null,
      "outputs": [
        {
          "output_type": "execute_result",
          "data": {
            "text/html": [
              "<div>\n",
              "<style scoped>\n",
              "    .dataframe tbody tr th:only-of-type {\n",
              "        vertical-align: middle;\n",
              "    }\n",
              "\n",
              "    .dataframe tbody tr th {\n",
              "        vertical-align: top;\n",
              "    }\n",
              "\n",
              "    .dataframe thead th {\n",
              "        text-align: right;\n",
              "    }\n",
              "</style>\n",
              "<table border=\"1\" class=\"dataframe\">\n",
              "  <thead>\n",
              "    <tr style=\"text-align: right;\">\n",
              "      <th></th>\n",
              "      <th>id</th>\n",
              "      <th>label</th>\n",
              "    </tr>\n",
              "  </thead>\n",
              "  <tbody>\n",
              "    <tr>\n",
              "      <th>0</th>\n",
              "      <td>1</td>\n",
              "      <td>1.000000e+00</td>\n",
              "    </tr>\n",
              "    <tr>\n",
              "      <th>1</th>\n",
              "      <td>2</td>\n",
              "      <td>1.000000e+00</td>\n",
              "    </tr>\n",
              "    <tr>\n",
              "      <th>2</th>\n",
              "      <td>3</td>\n",
              "      <td>1.000000e+00</td>\n",
              "    </tr>\n",
              "    <tr>\n",
              "      <th>3</th>\n",
              "      <td>4</td>\n",
              "      <td>9.999998e-01</td>\n",
              "    </tr>\n",
              "    <tr>\n",
              "      <th>4</th>\n",
              "      <td>5</td>\n",
              "      <td>2.682230e-08</td>\n",
              "    </tr>\n",
              "    <tr>\n",
              "      <th>5</th>\n",
              "      <td>6</td>\n",
              "      <td>3.690680e-07</td>\n",
              "    </tr>\n",
              "    <tr>\n",
              "      <th>6</th>\n",
              "      <td>7</td>\n",
              "      <td>1.038074e-09</td>\n",
              "    </tr>\n",
              "    <tr>\n",
              "      <th>7</th>\n",
              "      <td>8</td>\n",
              "      <td>5.028188e-09</td>\n",
              "    </tr>\n",
              "    <tr>\n",
              "      <th>8</th>\n",
              "      <td>9</td>\n",
              "      <td>2.537463e-07</td>\n",
              "    </tr>\n",
              "    <tr>\n",
              "      <th>9</th>\n",
              "      <td>10</td>\n",
              "      <td>5.019300e-06</td>\n",
              "    </tr>\n",
              "    <tr>\n",
              "      <th>10</th>\n",
              "      <td>11</td>\n",
              "      <td>3.408803e-07</td>\n",
              "    </tr>\n",
              "    <tr>\n",
              "      <th>11</th>\n",
              "      <td>12</td>\n",
              "      <td>9.999765e-01</td>\n",
              "    </tr>\n",
              "    <tr>\n",
              "      <th>12</th>\n",
              "      <td>13</td>\n",
              "      <td>1.421680e-08</td>\n",
              "    </tr>\n",
              "    <tr>\n",
              "      <th>13</th>\n",
              "      <td>14</td>\n",
              "      <td>6.694171e-04</td>\n",
              "    </tr>\n",
              "    <tr>\n",
              "      <th>14</th>\n",
              "      <td>15</td>\n",
              "      <td>5.119331e-08</td>\n",
              "    </tr>\n",
              "  </tbody>\n",
              "</table>\n",
              "</div>"
            ],
            "text/plain": [
              "    id         label\n",
              "0    1  1.000000e+00\n",
              "1    2  1.000000e+00\n",
              "2    3  1.000000e+00\n",
              "3    4  9.999998e-01\n",
              "4    5  2.682230e-08\n",
              "5    6  3.690680e-07\n",
              "6    7  1.038074e-09\n",
              "7    8  5.028188e-09\n",
              "8    9  2.537463e-07\n",
              "9   10  5.019300e-06\n",
              "10  11  3.408803e-07\n",
              "11  12  9.999765e-01\n",
              "12  13  1.421680e-08\n",
              "13  14  6.694171e-04\n",
              "14  15  5.119331e-08"
            ]
          },
          "metadata": {
            "tags": []
          },
          "execution_count": 27
        }
      ]
    },
    {
      "cell_type": "code",
      "metadata": {
        "id": "UGHfJ6WQGIkX"
      },
      "source": [
        "df.to_csv('results_finetuning_dogs_vs_cats5.csv', index=False)"
      ],
      "execution_count": null,
      "outputs": []
    },
    {
      "cell_type": "code",
      "metadata": {
        "id": "UD7D2dYIBPs_"
      },
      "source": [
        "testGen.close()"
      ],
      "execution_count": null,
      "outputs": []
    },
    {
      "cell_type": "code",
      "metadata": {
        "id": "iNUhWbgvcYT6"
      },
      "source": [
        ""
      ],
      "execution_count": null,
      "outputs": []
    }
  ]
}